{
 "cells": [
  {
   "cell_type": "code",
   "execution_count": 1,
   "id": "f8cc18d9",
   "metadata": {},
   "outputs": [],
   "source": [
    "# Import library\n",
    "import pandas as pd\n",
    "import numpy as np\n",
    "import matplotlib.pyplot as plt\n",
    "import tensorflow\n",
    "from tensorflow import keras\n",
    "from tensorflow.keras.layers import Dense, Activation, LSTM\n",
    "from sklearn.preprocessing import MinMaxScaler\n",
    "from keras.models import Sequential\n",
    "import os"
   ]
  },
  {
   "cell_type": "code",
   "execution_count": 2,
   "id": "4e7cdaba",
   "metadata": {},
   "outputs": [],
   "source": [
    "# Use CPU\n",
    "os.environ['CUDA_VISIBLE_DEVICES'] = '-1'"
   ]
  },
  {
   "cell_type": "code",
   "execution_count": 3,
   "id": "29d08e2d",
   "metadata": {},
   "outputs": [
    {
     "name": "stdout",
     "output_type": "stream",
     "text": [
      "2.8.0\n"
     ]
    }
   ],
   "source": [
    "print(tensorflow.__version__)"
   ]
  },
  {
   "cell_type": "code",
   "execution_count": 4,
   "id": "6dac519e",
   "metadata": {
    "scrolled": false
   },
   "outputs": [
    {
     "data": {
      "text/html": [
       "<div>\n",
       "<style scoped>\n",
       "    .dataframe tbody tr th:only-of-type {\n",
       "        vertical-align: middle;\n",
       "    }\n",
       "\n",
       "    .dataframe tbody tr th {\n",
       "        vertical-align: top;\n",
       "    }\n",
       "\n",
       "    .dataframe thead th {\n",
       "        text-align: right;\n",
       "    }\n",
       "</style>\n",
       "<table border=\"1\" class=\"dataframe\">\n",
       "  <thead>\n",
       "    <tr style=\"text-align: right;\">\n",
       "      <th></th>\n",
       "      <th>daily_case</th>\n",
       "    </tr>\n",
       "    <tr>\n",
       "      <th>date</th>\n",
       "      <th></th>\n",
       "    </tr>\n",
       "  </thead>\n",
       "  <tbody>\n",
       "    <tr>\n",
       "      <th>2020-04-01</th>\n",
       "      <td>20</td>\n",
       "    </tr>\n",
       "    <tr>\n",
       "      <th>2020-04-02</th>\n",
       "      <td>15</td>\n",
       "    </tr>\n",
       "    <tr>\n",
       "      <th>2020-04-03</th>\n",
       "      <td>2</td>\n",
       "    </tr>\n",
       "    <tr>\n",
       "      <th>2020-04-04</th>\n",
       "      <td>20</td>\n",
       "    </tr>\n",
       "    <tr>\n",
       "      <th>2020-04-05</th>\n",
       "      <td>6</td>\n",
       "    </tr>\n",
       "  </tbody>\n",
       "</table>\n",
       "</div>"
      ],
      "text/plain": [
       "            daily_case\n",
       "date                  \n",
       "2020-04-01          20\n",
       "2020-04-02          15\n",
       "2020-04-03           2\n",
       "2020-04-04          20\n",
       "2020-04-05           6"
      ]
     },
     "execution_count": 4,
     "metadata": {},
     "output_type": "execute_result"
    }
   ],
   "source": [
    "# Dataset\n",
    "df=pd.read_csv('./../../dataset/raw_jawa_barat.csv', parse_dates=[\"date\"], index_col=\"date\")\n",
    "#df['daily_case'] = df['daily_case'].str.replace(',','').astype(int)\n",
    "\n",
    "# Cut dataset to start from 1 April 2022\n",
    "df = df[29:]\n",
    "df.head()"
   ]
  },
  {
   "cell_type": "code",
   "execution_count": 5,
   "id": "b7db5500",
   "metadata": {},
   "outputs": [
    {
     "data": {
      "text/html": [
       "<div>\n",
       "<style scoped>\n",
       "    .dataframe tbody tr th:only-of-type {\n",
       "        vertical-align: middle;\n",
       "    }\n",
       "\n",
       "    .dataframe tbody tr th {\n",
       "        vertical-align: top;\n",
       "    }\n",
       "\n",
       "    .dataframe thead th {\n",
       "        text-align: right;\n",
       "    }\n",
       "</style>\n",
       "<table border=\"1\" class=\"dataframe\">\n",
       "  <thead>\n",
       "    <tr style=\"text-align: right;\">\n",
       "      <th></th>\n",
       "      <th>daily_case</th>\n",
       "    </tr>\n",
       "    <tr>\n",
       "      <th>date</th>\n",
       "      <th></th>\n",
       "    </tr>\n",
       "  </thead>\n",
       "  <tbody>\n",
       "    <tr>\n",
       "      <th>2022-05-02</th>\n",
       "      <td>15</td>\n",
       "    </tr>\n",
       "    <tr>\n",
       "      <th>2022-05-03</th>\n",
       "      <td>18</td>\n",
       "    </tr>\n",
       "    <tr>\n",
       "      <th>2022-05-04</th>\n",
       "      <td>26</td>\n",
       "    </tr>\n",
       "    <tr>\n",
       "      <th>2022-05-05</th>\n",
       "      <td>34</td>\n",
       "    </tr>\n",
       "    <tr>\n",
       "      <th>2022-05-06</th>\n",
       "      <td>31</td>\n",
       "    </tr>\n",
       "  </tbody>\n",
       "</table>\n",
       "</div>"
      ],
      "text/plain": [
       "            daily_case\n",
       "date                  \n",
       "2022-05-02          15\n",
       "2022-05-03          18\n",
       "2022-05-04          26\n",
       "2022-05-05          34\n",
       "2022-05-06          31"
      ]
     },
     "execution_count": 5,
     "metadata": {},
     "output_type": "execute_result"
    }
   ],
   "source": [
    "df.tail()"
   ]
  },
  {
   "cell_type": "code",
   "execution_count": 6,
   "id": "b7cb2a44",
   "metadata": {},
   "outputs": [
    {
     "name": "stdout",
     "output_type": "stream",
     "text": [
      "<class 'pandas.core.frame.DataFrame'>\n",
      "DatetimeIndex: 766 entries, 2020-04-01 to 2022-05-06\n",
      "Data columns (total 1 columns):\n",
      " #   Column      Non-Null Count  Dtype\n",
      "---  ------      --------------  -----\n",
      " 0   daily_case  766 non-null    int64\n",
      "dtypes: int64(1)\n",
      "memory usage: 12.0 KB\n"
     ]
    }
   ],
   "source": [
    "df.info()"
   ]
  },
  {
   "cell_type": "code",
   "execution_count": 7,
   "id": "33630edc",
   "metadata": {},
   "outputs": [
    {
     "data": {
      "text/plain": [
       "(766, 1)"
      ]
     },
     "execution_count": 7,
     "metadata": {},
     "output_type": "execute_result"
    }
   ],
   "source": [
    "df.shape"
   ]
  },
  {
   "cell_type": "code",
   "execution_count": 8,
   "id": "a46fcfe0",
   "metadata": {},
   "outputs": [
    {
     "data": {
      "text/plain": [
       "[<matplotlib.lines.Line2D at 0x26572107788>]"
      ]
     },
     "execution_count": 8,
     "metadata": {},
     "output_type": "execute_result"
    },
    {
     "data": {
      "image/png": "[encoded data removed]",
      "text/plain": [
       "<Figure size 432x288 with 1 Axes>"
      ]
     },
     "metadata": {
      "needs_background": "light"
     },
     "output_type": "display_data"
    }
   ],
   "source": [
    "plt.plot(df)"
   ]
  },
  {
   "cell_type": "code",
   "execution_count": 9,
   "id": "baf1aaac",
   "metadata": {},
   "outputs": [],
   "source": [
    "scaler = MinMaxScaler(feature_range=(0,1))"
   ]
  },
  {
   "cell_type": "code",
   "execution_count": 10,
   "id": "116dbcb0",
   "metadata": {},
   "outputs": [
    {
     "data": {
      "text/plain": [
       "(766, 1)"
      ]
     },
     "execution_count": 10,
     "metadata": {},
     "output_type": "execute_result"
    }
   ],
   "source": [
    "df.shape"
   ]
  },
  {
   "cell_type": "code",
   "execution_count": 11,
   "id": "1dbbf64c",
   "metadata": {},
   "outputs": [
    {
     "data": {
      "text/html": [
       "<div>\n",
       "<style scoped>\n",
       "    .dataframe tbody tr th:only-of-type {\n",
       "        vertical-align: middle;\n",
       "    }\n",
       "\n",
       "    .dataframe tbody tr th {\n",
       "        vertical-align: top;\n",
       "    }\n",
       "\n",
       "    .dataframe thead th {\n",
       "        text-align: right;\n",
       "    }\n",
       "</style>\n",
       "<table border=\"1\" class=\"dataframe\">\n",
       "  <thead>\n",
       "    <tr style=\"text-align: right;\">\n",
       "      <th></th>\n",
       "      <th>daily_case</th>\n",
       "    </tr>\n",
       "    <tr>\n",
       "      <th>date</th>\n",
       "      <th></th>\n",
       "    </tr>\n",
       "  </thead>\n",
       "  <tbody>\n",
       "    <tr>\n",
       "      <th>2020-04-01</th>\n",
       "      <td>20</td>\n",
       "    </tr>\n",
       "    <tr>\n",
       "      <th>2020-04-02</th>\n",
       "      <td>15</td>\n",
       "    </tr>\n",
       "    <tr>\n",
       "      <th>2020-04-03</th>\n",
       "      <td>2</td>\n",
       "    </tr>\n",
       "    <tr>\n",
       "      <th>2020-04-04</th>\n",
       "      <td>20</td>\n",
       "    </tr>\n",
       "    <tr>\n",
       "      <th>2020-04-05</th>\n",
       "      <td>6</td>\n",
       "    </tr>\n",
       "  </tbody>\n",
       "</table>\n",
       "</div>"
      ],
      "text/plain": [
       "            daily_case\n",
       "date                  \n",
       "2020-04-01          20\n",
       "2020-04-02          15\n",
       "2020-04-03           2\n",
       "2020-04-04          20\n",
       "2020-04-05           6"
      ]
     },
     "execution_count": 11,
     "metadata": {},
     "output_type": "execute_result"
    }
   ],
   "source": [
    "df.head()"
   ]
  },
  {
   "cell_type": "code",
   "execution_count": 12,
   "id": "e6faefb5",
   "metadata": {},
   "outputs": [],
   "source": [
    "# df = scaler.fit_transform(np.array(df).reshape(-1,1))"
   ]
  },
  {
   "cell_type": "code",
   "execution_count": 13,
   "id": "19cb8aa8",
   "metadata": {},
   "outputs": [
    {
     "data": {
      "text/plain": [
       "(766, 1)"
      ]
     },
     "execution_count": 13,
     "metadata": {},
     "output_type": "execute_result"
    }
   ],
   "source": [
    "df.shape"
   ]
  },
  {
   "cell_type": "code",
   "execution_count": 14,
   "id": "8d81d237",
   "metadata": {},
   "outputs": [],
   "source": [
    "# Split data to train and test\n",
    "df = df.values\n",
    "df = df.astype('float32')\n",
    "train_size = int(len(df) * 0.75)\n",
    "test_size=len(df)-train_size"
   ]
  },
  {
   "cell_type": "code",
   "execution_count": 15,
   "id": "d07613e8",
   "metadata": {},
   "outputs": [],
   "source": [
    "train_data_ns=df[0:train_size,:]\n",
    "test_data_ns=df[train_size:len(df),:]"
   ]
  },
  {
   "cell_type": "code",
   "execution_count": 16,
   "id": "ec2da0aa",
   "metadata": {},
   "outputs": [],
   "source": [
    "# scale data\n",
    "train_data = scaler.fit_transform(np.array(train_data_ns).reshape(-1,1))\n",
    "test_data = scaler.fit_transform(np.array(test_data_ns).reshape(-1,1))"
   ]
  },
  {
   "cell_type": "code",
   "execution_count": 17,
   "id": "ec3179a7",
   "metadata": {},
   "outputs": [
    {
     "data": {
      "text/plain": [
       "(574, 1)"
      ]
     },
     "execution_count": 17,
     "metadata": {},
     "output_type": "execute_result"
    }
   ],
   "source": [
    "train_data.shape"
   ]
  },
  {
   "cell_type": "code",
   "execution_count": 18,
   "id": "709fa2f3",
   "metadata": {},
   "outputs": [
    {
     "name": "stdout",
     "output_type": "stream",
     "text": [
      "574\n",
      "192\n"
     ]
    },
    {
     "data": {
      "text/plain": [
       "(None, None)"
      ]
     },
     "execution_count": 18,
     "metadata": {},
     "output_type": "execute_result"
    }
   ],
   "source": [
    "print(len(train_data)), print(len(test_data))"
   ]
  },
  {
   "cell_type": "code",
   "execution_count": 19,
   "id": "8b465761",
   "metadata": {},
   "outputs": [],
   "source": [
    "# Create dataset matrix based on timestep\n",
    "def create_dataset(dataset, time_step=1):\n",
    "    X, Y = [], []\n",
    "    for i in range(len(dataset)-time_step-1):\n",
    "        a = dataset[i:(i+time_step), 0]\n",
    "        X.append(a)\n",
    "        Y.append(dataset[i + time_step, 0])\n",
    "    return np.array(X), np.array(Y)"
   ]
  },
  {
   "cell_type": "code",
   "execution_count": 20,
   "id": "f7456e17",
   "metadata": {},
   "outputs": [],
   "source": [
    "# Reshape into x=t, t+1, t+2, ... t+n, and Y = t + (n+1)\n",
    "time_step = 30\n",
    "X_train, Y_train = create_dataset(train_data, time_step)\n",
    "X_test, Y_test = create_dataset(test_data, time_step)"
   ]
  },
  {
   "cell_type": "code",
   "execution_count": 21,
   "id": "1e2fbaae",
   "metadata": {
    "scrolled": true
   },
   "outputs": [
    {
     "name": "stdout",
     "output_type": "stream",
     "text": [
      "(543, 30)\n",
      "(543,)\n"
     ]
    },
    {
     "data": {
      "text/plain": [
       "(None, None)"
      ]
     },
     "execution_count": 21,
     "metadata": {},
     "output_type": "execute_result"
    }
   ],
   "source": [
    "print(X_train.shape), print(Y_train.shape)"
   ]
  },
  {
   "cell_type": "code",
   "execution_count": 22,
   "id": "14caf748",
   "metadata": {},
   "outputs": [
    {
     "name": "stdout",
     "output_type": "stream",
     "text": [
      "(161, 30)\n",
      "(161,)\n"
     ]
    },
    {
     "data": {
      "text/plain": [
       "(None, None)"
      ]
     },
     "execution_count": 22,
     "metadata": {},
     "output_type": "execute_result"
    }
   ],
   "source": [
    "print(X_test.shape), print(Y_test.shape)"
   ]
  },
  {
   "cell_type": "code",
   "execution_count": 23,
   "id": "dc2e0ea1",
   "metadata": {},
   "outputs": [
    {
     "data": {
      "text/plain": [
       "161"
      ]
     },
     "execution_count": 23,
     "metadata": {},
     "output_type": "execute_result"
    }
   ],
   "source": [
    "len(X_test)"
   ]
  },
  {
   "cell_type": "code",
   "execution_count": 24,
   "id": "dd7a7f83",
   "metadata": {},
   "outputs": [],
   "source": [
    "# Reshape input data to 3d [sample, time_step, features]\n",
    "X_train = X_train.reshape(X_train.shape[0], X_train.shape[1], 1)\n",
    "X_test = X_test.reshape(X_test.shape[0], X_test.shape[1], 1)"
   ]
  },
  {
   "cell_type": "code",
   "execution_count": 25,
   "id": "90d684f5",
   "metadata": {},
   "outputs": [],
   "source": [
    "from keras.models import load_model\n",
    " \n",
    "# load model\n",
    "model = load_model('lstm_jawa_barat.h5')"
   ]
  },
  {
   "cell_type": "code",
   "execution_count": 26,
   "id": "2d2dd132",
   "metadata": {},
   "outputs": [
    {
     "name": "stdout",
     "output_type": "stream",
     "text": [
      "Model: \"sequential\"\n",
      "_________________________________________________________________\n",
      " Layer (type)                Output Shape              Param #   \n",
      "=================================================================\n",
      " lstm (LSTM)                 (None, 30, 150)           91200     \n",
      "                                                                 \n",
      " lstm_1 (LSTM)               (None, 100)               100400    \n",
      "                                                                 \n",
      " dense (Dense)               (None, 1)                 101       \n",
      "                                                                 \n",
      "=================================================================\n",
      "Total params: 191,701\n",
      "Trainable params: 191,701\n",
      "Non-trainable params: 0\n",
      "_________________________________________________________________\n"
     ]
    }
   ],
   "source": [
    "model.summary()"
   ]
  },
  {
   "cell_type": "code",
   "execution_count": 27,
   "id": "aedaea4a",
   "metadata": {},
   "outputs": [],
   "source": [
    "train_predict=model.predict(X_train)\n",
    "test_predict=model.predict(X_test)"
   ]
  },
  {
   "cell_type": "code",
   "execution_count": 28,
   "id": "62c30a8d",
   "metadata": {},
   "outputs": [],
   "source": [
    "Y_train = Y_train.reshape(-1,1)\n",
    "Y_train = scaler.inverse_transform(Y_train)\n",
    "\n",
    "X_train = X_train.reshape(-1,1)\n",
    "X_train = scaler.inverse_transform(X_train)\n",
    "\n",
    "Y_test = Y_test.reshape(-1,1)\n",
    "Y_test = scaler.inverse_transform(Y_test)\n",
    "\n",
    "X_train = Y_train.reshape(-1,1)\n",
    "X_train = scaler.inverse_transform(X_train)"
   ]
  },
  {
   "cell_type": "code",
   "execution_count": 29,
   "id": "891264b3",
   "metadata": {},
   "outputs": [],
   "source": [
    "# Transform back to original value\n",
    "train_predict=scaler.inverse_transform(train_predict)\n",
    "test_predict=scaler.inverse_transform(test_predict)"
   ]
  },
  {
   "cell_type": "markdown",
   "id": "e3f703b3",
   "metadata": {},
   "source": [
    "Metric Jawa Barat"
   ]
  },
  {
   "cell_type": "code",
   "execution_count": 30,
   "id": "066295da",
   "metadata": {},
   "outputs": [
    {
     "name": "stdout",
     "output_type": "stream",
     "text": [
      "RMSE train: 616.3520199528838\n"
     ]
    }
   ],
   "source": [
    "# Calculate RMSE performance metrics\n",
    "import math\n",
    "from sklearn.metrics import mean_squared_error\n",
    "print('RMSE train:', math.sqrt(mean_squared_error(Y_train, train_predict)))"
   ]
  },
  {
   "cell_type": "code",
   "execution_count": 31,
   "id": "b8ad68cc",
   "metadata": {},
   "outputs": [
    {
     "name": "stdout",
     "output_type": "stream",
     "text": [
      "RMSE test: 1538.4747316741993\n"
     ]
    }
   ],
   "source": [
    "print('RMSE test:', math.sqrt(mean_squared_error(Y_test, test_predict)))"
   ]
  },
  {
   "cell_type": "code",
   "execution_count": 32,
   "id": "a3e96052",
   "metadata": {},
   "outputs": [
    {
     "data": {
      "text/plain": [
       "(10678.0, 1.0)"
      ]
     },
     "execution_count": 32,
     "metadata": {},
     "output_type": "execute_result"
    }
   ],
   "source": [
    "train_data_ns.max(), train_data_ns.min()"
   ]
  },
  {
   "cell_type": "code",
   "execution_count": 33,
   "id": "44c6d2e7",
   "metadata": {},
   "outputs": [
    {
     "name": "stdout",
     "output_type": "stream",
     "text": [
      "NRMSE train: 0.05772707876303117\n"
     ]
    }
   ],
   "source": [
    "# normalized RMSE metrics train\n",
    "print('NRMSE train:', math.sqrt(mean_squared_error(Y_train, train_predict))/(train_data_ns.max()-train_data_ns.min()))"
   ]
  },
  {
   "cell_type": "code",
   "execution_count": 34,
   "id": "c294771f",
   "metadata": {},
   "outputs": [
    {
     "name": "stdout",
     "output_type": "stream",
     "text": [
      "NRMSE test: 0.09470450795162816\n"
     ]
    }
   ],
   "source": [
    "# normalized RMSE metrics test\n",
    "print('NRMSE test:', math.sqrt(mean_squared_error(Y_test, test_predict))/(test_data_ns.max()-test_data_ns.min()))"
   ]
  },
  {
   "cell_type": "code",
   "execution_count": 35,
   "id": "f604fd1e",
   "metadata": {},
   "outputs": [
    {
     "data": {
      "text/plain": [
       "array([[   41.430843],\n",
       "       [   37.33636 ],\n",
       "       [   44.750885],\n",
       "       [   42.56763 ],\n",
       "       [   99.48519 ],\n",
       "       [   88.625534],\n",
       "       [   64.810326],\n",
       "       [   65.42176 ],\n",
       "       [  289.5828  ],\n",
       "       [  218.72067 ],\n",
       "       [  138.37582 ],\n",
       "       [  119.05178 ],\n",
       "       [  117.72009 ],\n",
       "       [  105.21225 ],\n",
       "       [   94.59376 ],\n",
       "       [   92.74858 ],\n",
       "       [   82.35878 ],\n",
       "       [   84.86916 ],\n",
       "       [   77.98422 ],\n",
       "       [   73.60507 ],\n",
       "       [  105.65593 ],\n",
       "       [  108.97909 ],\n",
       "       [  110.41789 ],\n",
       "       [  111.78894 ],\n",
       "       [  103.57426 ],\n",
       "       [   91.97556 ],\n",
       "       [   89.39828 ],\n",
       "       [   86.173645],\n",
       "       [   84.85779 ],\n",
       "       [   87.68388 ],\n",
       "       [   80.20379 ],\n",
       "       [   66.057106],\n",
       "       [   56.17338 ],\n",
       "       [   56.008778],\n",
       "       [   50.907314],\n",
       "       [   47.786407],\n",
       "       [   47.97325 ],\n",
       "       [   42.985718],\n",
       "       [   54.80306 ],\n",
       "       [   55.821655],\n",
       "       [   55.268227],\n",
       "       [   63.080982],\n",
       "       [   64.44574 ],\n",
       "       [   58.917633],\n",
       "       [   56.08911 ],\n",
       "       [   54.5927  ],\n",
       "       [   59.597363],\n",
       "       [   57.77425 ],\n",
       "       [   59.914383],\n",
       "       [   66.69578 ],\n",
       "       [   75.53818 ],\n",
       "       [   66.02397 ],\n",
       "       [   61.700615],\n",
       "       [   62.327755],\n",
       "       [   69.688446],\n",
       "       [   74.524025],\n",
       "       [   80.185486],\n",
       "       [   77.12125 ],\n",
       "       [   68.24208 ],\n",
       "       [   66.182076],\n",
       "       [   78.322334],\n",
       "       [   79.435646],\n",
       "       [   87.09611 ],\n",
       "       [   91.124535],\n",
       "       [   84.60555 ],\n",
       "       [   95.91957 ],\n",
       "       [  114.46707 ],\n",
       "       [  133.65729 ],\n",
       "       [  136.38953 ],\n",
       "       [  138.37971 ],\n",
       "       [  488.6351  ],\n",
       "       [  376.4573  ],\n",
       "       [  258.61075 ],\n",
       "       [  199.55092 ],\n",
       "       [  194.1663  ],\n",
       "       [  193.01633 ],\n",
       "       [  193.24374 ],\n",
       "       [  175.97594 ],\n",
       "       [  157.3828  ],\n",
       "       [  145.61314 ],\n",
       "       [  123.720116],\n",
       "       [  123.15147 ],\n",
       "       [  127.05245 ],\n",
       "       [  125.22446 ],\n",
       "       [  127.35628 ],\n",
       "       [  145.7635  ],\n",
       "       [  144.62944 ],\n",
       "       [  137.99837 ],\n",
       "       [  131.65955 ],\n",
       "       [  162.96822 ],\n",
       "       [  168.68578 ],\n",
       "       [  171.90013 ],\n",
       "       [  143.70903 ],\n",
       "       [  130.19284 ],\n",
       "       [  128.68777 ],\n",
       "       [  124.89642 ],\n",
       "       [  140.86314 ],\n",
       "       [  157.61565 ],\n",
       "       [  146.13257 ],\n",
       "       [  159.77399 ],\n",
       "       [  221.7563  ],\n",
       "       [  230.83228 ],\n",
       "       [  204.153   ],\n",
       "       [  192.38086 ],\n",
       "       [  197.6517  ],\n",
       "       [  222.2186  ],\n",
       "       [  282.2639  ],\n",
       "       [  309.96503 ],\n",
       "       [  250.48305 ],\n",
       "       [  206.55423 ],\n",
       "       [  197.47832 ],\n",
       "       [  206.13669 ],\n",
       "       [  251.71208 ],\n",
       "       [  225.79654 ],\n",
       "       [  242.55785 ],\n",
       "       [  214.04034 ],\n",
       "       [  216.46074 ],\n",
       "       [  273.38492 ],\n",
       "       [  275.22845 ],\n",
       "       [  274.8735  ],\n",
       "       [  440.99713 ],\n",
       "       [  432.6913  ],\n",
       "       [  336.83667 ],\n",
       "       [  314.286   ],\n",
       "       [  353.51105 ],\n",
       "       [  350.16714 ],\n",
       "       [  349.87097 ],\n",
       "       [  427.53842 ],\n",
       "       [  402.2811  ],\n",
       "       [  332.6332  ],\n",
       "       [  330.73288 ],\n",
       "       [  398.01492 ],\n",
       "       [  430.69577 ],\n",
       "       [  470.42798 ],\n",
       "       [  448.36575 ],\n",
       "       [  452.24124 ],\n",
       "       [  399.10754 ],\n",
       "       [  391.1815  ],\n",
       "       [  490.24957 ],\n",
       "       [  509.7614  ],\n",
       "       [  534.2601  ],\n",
       "       [  585.4111  ],\n",
       "       [  627.2494  ],\n",
       "       [  640.03906 ],\n",
       "       [  660.7986  ],\n",
       "       [  743.78455 ],\n",
       "       [  745.53784 ],\n",
       "       [  864.0231  ],\n",
       "       [  810.3187  ],\n",
       "       [  754.0694  ],\n",
       "       [  769.8005  ],\n",
       "       [  816.7156  ],\n",
       "       [  785.5465  ],\n",
       "       [  810.7617  ],\n",
       "       [  845.981   ],\n",
       "       [  894.084   ],\n",
       "       [  812.7155  ],\n",
       "       [  719.12177 ],\n",
       "       [  808.1007  ],\n",
       "       [  854.21686 ],\n",
       "       [  987.3704  ],\n",
       "       [  970.2404  ],\n",
       "       [  902.18146 ],\n",
       "       [  763.63116 ],\n",
       "       [  678.6683  ],\n",
       "       [  653.48724 ],\n",
       "       [  778.03723 ],\n",
       "       [  779.02673 ],\n",
       "       [  813.8973  ],\n",
       "       [  786.3754  ],\n",
       "       [  761.7162  ],\n",
       "       [  659.8526  ],\n",
       "       [  728.1518  ],\n",
       "       [  758.64386 ],\n",
       "       [  818.3413  ],\n",
       "       [  928.12305 ],\n",
       "       [  866.61755 ],\n",
       "       [  777.0313  ],\n",
       "       [  732.52124 ],\n",
       "       [  748.8453  ],\n",
       "       [  744.4205  ],\n",
       "       [  735.337   ],\n",
       "       [  720.5684  ],\n",
       "       [  675.87646 ],\n",
       "       [  697.677   ],\n",
       "       [  613.7929  ],\n",
       "       [  590.67993 ],\n",
       "       [  666.4405  ],\n",
       "       [  741.41797 ],\n",
       "       [  822.077   ],\n",
       "       [  851.83984 ],\n",
       "       [  784.73035 ],\n",
       "       [  782.98926 ],\n",
       "       [  714.49854 ],\n",
       "       [  887.3016  ],\n",
       "       [  938.0803  ],\n",
       "       [ 1029.8871  ],\n",
       "       [ 1060.104   ],\n",
       "       [ 1125.0605  ],\n",
       "       [  962.27576 ],\n",
       "       [  957.87213 ],\n",
       "       [ 1104.666   ],\n",
       "       [ 1025.2769  ],\n",
       "       [  989.50775 ],\n",
       "       [ 1190.2389  ],\n",
       "       [ 1048.6427  ],\n",
       "       [  948.8533  ],\n",
       "       [ 1013.785   ],\n",
       "       [  966.16736 ],\n",
       "       [ 1078.1243  ],\n",
       "       [ 1155.4418  ],\n",
       "       [ 1153.113   ],\n",
       "       [ 1024.3893  ],\n",
       "       [  883.06036 ],\n",
       "       [  897.51495 ],\n",
       "       [ 1129.5166  ],\n",
       "       [ 1148.2013  ],\n",
       "       [ 1578.8986  ],\n",
       "       [ 1498.5952  ],\n",
       "       [ 1350.1658  ],\n",
       "       [ 1552.4875  ],\n",
       "       [ 1638.0924  ],\n",
       "       [ 1572.4646  ],\n",
       "       [ 1620.9944  ],\n",
       "       [ 1624.0469  ],\n",
       "       [ 1728.1156  ],\n",
       "       [ 1832.5925  ],\n",
       "       [ 1661.873   ],\n",
       "       [ 1443.4092  ],\n",
       "       [ 1689.765   ],\n",
       "       [ 1905.2346  ],\n",
       "       [ 1810.3544  ],\n",
       "       [ 1831.6729  ],\n",
       "       [ 1625.8186  ],\n",
       "       [ 1686.5778  ],\n",
       "       [ 1595.5652  ],\n",
       "       [ 1630.0197  ],\n",
       "       [ 1507.8207  ],\n",
       "       [ 1516.9603  ],\n",
       "       [ 1654.9828  ],\n",
       "       [ 1342.2479  ],\n",
       "       [ 1517.7753  ],\n",
       "       [ 1298.7618  ],\n",
       "       [ 1552.4703  ],\n",
       "       [ 1694.9512  ],\n",
       "       [ 1758.1453  ],\n",
       "       [ 1856.28    ],\n",
       "       [ 1841.9423  ],\n",
       "       [ 1713.9861  ],\n",
       "       [ 1819.879   ],\n",
       "       [ 1885.239   ],\n",
       "       [ 1938.7821  ],\n",
       "       [ 1938.6152  ],\n",
       "       [ 2245.0999  ],\n",
       "       [ 2366.3325  ],\n",
       "       [ 2284.7798  ],\n",
       "       [ 2240.2324  ],\n",
       "       [ 2537.7183  ],\n",
       "       [ 2661.957   ],\n",
       "       [ 3063.1125  ],\n",
       "       [ 2895.4678  ],\n",
       "       [ 2966.43    ],\n",
       "       [ 2837.774   ],\n",
       "       [ 2868.8423  ],\n",
       "       [ 2872.7302  ],\n",
       "       [ 2939.2214  ],\n",
       "       [ 2894.6157  ],\n",
       "       [ 3463.917   ],\n",
       "       [ 3338.8782  ],\n",
       "       [ 3850.4597  ],\n",
       "       [ 3760.187   ],\n",
       "       [ 4748.7573  ],\n",
       "       [ 5328.5415  ],\n",
       "       [ 5721.039   ],\n",
       "       [ 5684.828   ],\n",
       "       [ 5999.2227  ],\n",
       "       [ 4750.438   ],\n",
       "       [ 4196.9727  ],\n",
       "       [ 3690.031   ],\n",
       "       [ 3616.6133  ],\n",
       "       [ 3385.097   ],\n",
       "       [ 3336.7817  ],\n",
       "       [ 4208.2114  ],\n",
       "       [ 3268.9392  ],\n",
       "       [ 2175.911   ],\n",
       "       [ 1725.2721  ],\n",
       "       [ 1702.5891  ],\n",
       "       [ 2015.2491  ],\n",
       "       [ 2051.7915  ],\n",
       "       [ 2895.2593  ],\n",
       "       [ 2533.5146  ],\n",
       "       [ 2655.596   ],\n",
       "       [ 4721.1807  ],\n",
       "       [ 5019.425   ],\n",
       "       [ 2862.0366  ],\n",
       "       [ 2261.714   ],\n",
       "       [ 2665.5847  ],\n",
       "       [ 3075.0203  ],\n",
       "       [ 4229.4136  ],\n",
       "       [ 5201.1577  ],\n",
       "       [ 3347.67    ],\n",
       "       [ 2522.0793  ],\n",
       "       [ 2544.4397  ],\n",
       "       [ 2126.7307  ],\n",
       "       [ 1932.1346  ],\n",
       "       [ 2154.7192  ],\n",
       "       [ 2322.4458  ],\n",
       "       [ 2277.3455  ],\n",
       "       [ 2380.6477  ],\n",
       "       [ 2383.3477  ],\n",
       "       [ 2068.646   ],\n",
       "       [ 2150.454   ],\n",
       "       [ 2262.8357  ],\n",
       "       [ 2191.2568  ],\n",
       "       [ 2138.7651  ],\n",
       "       [ 1804.282   ],\n",
       "       [ 1848.8395  ],\n",
       "       [ 1790.499   ],\n",
       "       [ 1842.0858  ],\n",
       "       [ 1796.2944  ],\n",
       "       [ 1984.2378  ],\n",
       "       [ 1998.8196  ],\n",
       "       [ 2005.6758  ],\n",
       "       [ 1790.8491  ],\n",
       "       [ 1510.6816  ],\n",
       "       [ 1278.7383  ],\n",
       "       [ 1637.0593  ],\n",
       "       [ 1712.5177  ],\n",
       "       [ 1769.5662  ],\n",
       "       [ 1854.8673  ],\n",
       "       [ 1718.999   ],\n",
       "       [ 1423.2922  ],\n",
       "       [ 1169.327   ],\n",
       "       [ 1483.1743  ],\n",
       "       [ 1442.2122  ],\n",
       "       [ 1407.2045  ],\n",
       "       [ 1425.1014  ],\n",
       "       [ 1277.45    ],\n",
       "       [ 1098.7603  ],\n",
       "       [  974.25037 ],\n",
       "       [ 1199.4017  ],\n",
       "       [ 1274.0027  ],\n",
       "       [ 1315.0778  ],\n",
       "       [ 1132.1276  ],\n",
       "       [ 1169.0942  ],\n",
       "       [ 1297.1854  ],\n",
       "       [ 1216.0353  ],\n",
       "       [ 1386.6635  ],\n",
       "       [ 1584.7736  ],\n",
       "       [ 1806.793   ],\n",
       "       [ 1869.5802  ],\n",
       "       [ 1755.0267  ],\n",
       "       [ 1662.0602  ],\n",
       "       [ 1602.0427  ],\n",
       "       [ 1801.8582  ],\n",
       "       [ 1990.554   ],\n",
       "       [ 1845.3752  ],\n",
       "       [ 1884.8953  ],\n",
       "       [ 1756.26    ],\n",
       "       [ 1517.4349  ],\n",
       "       [ 1440.5492  ],\n",
       "       [ 1844.6028  ],\n",
       "       [ 1849.6656  ],\n",
       "       [ 1828.4758  ],\n",
       "       [ 1719.733   ],\n",
       "       [ 1672.3595  ],\n",
       "       [ 1534.7255  ],\n",
       "       [ 1451.8644  ],\n",
       "       [ 1666.2236  ],\n",
       "       [ 1622.2328  ],\n",
       "       [ 1597.0837  ],\n",
       "       [ 1600.6117  ],\n",
       "       [ 2013.3678  ],\n",
       "       [ 2315.661   ],\n",
       "       [ 1671.226   ],\n",
       "       [ 1473.7191  ],\n",
       "       [ 1755.2153  ],\n",
       "       [ 1669.0565  ],\n",
       "       [ 1401.8217  ],\n",
       "       [ 1271.3735  ],\n",
       "       [ 1264.9644  ],\n",
       "       [ 1286.7794  ],\n",
       "       [ 1491.1079  ],\n",
       "       [ 1492.3014  ],\n",
       "       [ 1542.0413  ],\n",
       "       [ 1647.8918  ],\n",
       "       [ 1625.4937  ],\n",
       "       [ 1638.7303  ],\n",
       "       [ 1679.121   ],\n",
       "       [ 1852.2338  ],\n",
       "       [ 1844.6146  ],\n",
       "       [ 1650.3912  ],\n",
       "       [ 1774.1708  ],\n",
       "       [ 1793.1272  ],\n",
       "       [ 1671.3353  ],\n",
       "       [ 1481.2184  ],\n",
       "       [ 1606.2784  ],\n",
       "       [ 1588.9268  ],\n",
       "       [ 1539.3606  ],\n",
       "       [ 1692.4683  ],\n",
       "       [ 1695.8958  ],\n",
       "       [ 1650.2974  ],\n",
       "       [ 1507.3558  ],\n",
       "       [ 1892.1082  ],\n",
       "       [ 1797.3969  ],\n",
       "       [ 1914.5962  ],\n",
       "       [ 1984.2572  ],\n",
       "       [ 2018.6381  ],\n",
       "       [ 1925.902   ],\n",
       "       [ 2052.6975  ],\n",
       "       [ 2231.3118  ],\n",
       "       [ 2621.8035  ],\n",
       "       [ 3153.1995  ],\n",
       "       [ 3478.9326  ],\n",
       "       [ 3939.6533  ],\n",
       "       [ 3838.702   ],\n",
       "       [ 3998.097   ],\n",
       "       [ 4576.5186  ],\n",
       "       [ 5114.7036  ],\n",
       "       [ 5291.4253  ],\n",
       "       [ 5400.167   ],\n",
       "       [ 5863.022   ],\n",
       "       [ 6112.8657  ],\n",
       "       [ 6657.064   ],\n",
       "       [ 7026.9497  ],\n",
       "       [ 7277.15    ],\n",
       "       [ 7664.445   ],\n",
       "       [ 8186.088   ],\n",
       "       [ 8737.304   ],\n",
       "       [ 9345.721   ],\n",
       "       [ 9673.962   ],\n",
       "       [10693.796   ],\n",
       "       [11569.177   ],\n",
       "       [10822.791   ],\n",
       "       [10238.147   ],\n",
       "       [ 9718.853   ],\n",
       "       [ 9465.246   ],\n",
       "       [10523.718   ],\n",
       "       [12017.576   ],\n",
       "       [13343.925   ],\n",
       "       [15106.093   ],\n",
       "       [15651.271   ],\n",
       "       [12871.021   ],\n",
       "       [10857.687   ],\n",
       "       [10109.85    ],\n",
       "       [10847.305   ],\n",
       "       [11698.585   ],\n",
       "       [11907.572   ],\n",
       "       [13048.14    ],\n",
       "       [10447.702   ],\n",
       "       [ 7568.076   ],\n",
       "       [ 7565.328   ],\n",
       "       [ 8855.178   ],\n",
       "       [10622.032   ],\n",
       "       [10506.012   ],\n",
       "       [ 8982.613   ],\n",
       "       [ 6399.9365  ],\n",
       "       [ 4096.2476  ],\n",
       "       [ 4418.2944  ],\n",
       "       [ 5211.2734  ],\n",
       "       [ 6478.621   ],\n",
       "       [ 7277.51    ],\n",
       "       [ 7654.4834  ],\n",
       "       [ 6045.174   ],\n",
       "       [ 4703.094   ],\n",
       "       [ 4148.904   ],\n",
       "       [ 4641.5786  ],\n",
       "       [ 5160.6733  ],\n",
       "       [ 4895.119   ],\n",
       "       [ 4164.941   ],\n",
       "       [ 3970.7688  ],\n",
       "       [ 3297.536   ],\n",
       "       [ 2650.1401  ],\n",
       "       [ 3007.5078  ],\n",
       "       [ 3415.0034  ],\n",
       "       [ 3305.2583  ],\n",
       "       [ 4364.6387  ],\n",
       "       [ 3467.837   ],\n",
       "       [ 2455.5444  ],\n",
       "       [ 3002.3284  ],\n",
       "       [ 5175.4976  ],\n",
       "       [ 8516.444   ],\n",
       "       [ 6153.401   ],\n",
       "       [ 3438.1934  ],\n",
       "       [  959.9969  ],\n",
       "       [  970.06885 ],\n",
       "       [ 1607.9374  ],\n",
       "       [ 1680.9606  ],\n",
       "       [ 1658.9252  ],\n",
       "       [ 1480.8978  ],\n",
       "       [  974.6099  ],\n",
       "       [  557.21295 ],\n",
       "       [  517.42285 ],\n",
       "       [  617.50946 ],\n",
       "       [  560.44006 ],\n",
       "       [  701.9207  ],\n",
       "       [  737.64435 ],\n",
       "       [  678.49524 ],\n",
       "       [  644.9446  ],\n",
       "       [  580.6047  ],\n",
       "       [  653.8518  ],\n",
       "       [  543.60895 ],\n",
       "       [  419.9382  ],\n",
       "       [  366.2991  ],\n",
       "       [  296.13083 ],\n",
       "       [  234.59035 ],\n",
       "       [  215.40744 ],\n",
       "       [  156.50264 ],\n",
       "       [   89.78145 ],\n",
       "       [  116.799805],\n",
       "       [  165.82104 ],\n",
       "       [  294.74268 ],\n",
       "       [  386.42358 ],\n",
       "       [  358.60223 ],\n",
       "       [  328.72552 ],\n",
       "       [  307.9131  ],\n",
       "       [  309.88953 ],\n",
       "       [  303.43408 ],\n",
       "       [  298.63095 ],\n",
       "       [  274.00986 ],\n",
       "       [  269.1809  ],\n",
       "       [  246.72404 ],\n",
       "       [  216.99248 ],\n",
       "       [  206.0464  ],\n",
       "       [  196.60542 ],\n",
       "       [  195.94821 ],\n",
       "       [  193.24281 ],\n",
       "       [  192.96884 ],\n",
       "       [  173.79057 ],\n",
       "       [  161.79721 ],\n",
       "       [  179.61449 ],\n",
       "       [  174.53302 ],\n",
       "       [  172.6845  ],\n",
       "       [  165.56772 ],\n",
       "       [  169.3081  ],\n",
       "       [  158.34999 ],\n",
       "       [  148.212   ],\n",
       "       [  154.44511 ],\n",
       "       [  164.90042 ],\n",
       "       [  142.87407 ],\n",
       "       [  157.73647 ],\n",
       "       [  148.77145 ],\n",
       "       [  143.05072 ]], dtype=float32)"
      ]
     },
     "execution_count": 35,
     "metadata": {},
     "output_type": "execute_result"
    }
   ],
   "source": [
    "train_predict"
   ]
  },
  {
   "cell_type": "code",
   "execution_count": 36,
   "id": "32b7ffe3",
   "metadata": {
    "scrolled": true
   },
   "outputs": [
    {
     "data": {
      "image/png": "[encoded data removed]",
      "text/plain": [
       "<Figure size 432x288 with 1 Axes>"
      ]
     },
     "metadata": {
      "needs_background": "light"
     },
     "output_type": "display_data"
    }
   ],
   "source": [
    "# Plot \n",
    "look_back = 30\n",
    "trainPredictPlot = np.empty_like(df)\n",
    "trainPredictPlot[:, :] = np.nan\n",
    "trainPredictPlot[look_back:len(train_predict)+look_back, :] = train_predict\n",
    "\n",
    "#shift test predict\n",
    "testPredictPlot = np.empty_like(df)\n",
    "testPredictPlot[:, :] = np.nan\n",
    "testPredictPlot[len(train_predict)+(look_back*2)+1:len(df)-1, :] = test_predict\n",
    "\n",
    "#plot baseline\n",
    "plt.plot(scaler.inverse_transform(df))\n",
    "plt.plot(scaler.inverse_transform(trainPredictPlot))\n",
    "plt.plot(scaler.inverse_transform(testPredictPlot))\n",
    "plt.show()"
   ]
  },
  {
   "cell_type": "code",
   "execution_count": 37,
   "id": "7bed18aa",
   "metadata": {},
   "outputs": [
    {
     "data": {
      "image/png": "[encoded data removed]",
      "text/plain": [
       "<Figure size 432x288 with 1 Axes>"
      ]
     },
     "metadata": {
      "needs_background": "light"
     },
     "output_type": "display_data"
    }
   ],
   "source": [
    "#shift test predict\n",
    "testPredictPlot = np.empty_like(df)\n",
    "testPredictPlot[:, :] = np.nan\n",
    "testPredictPlot[len(train_predict)+(look_back*2)+1:len(df)-1, :] = test_predict\n",
    "\n",
    "#plot baseline\n",
    "plt.plot(scaler.inverse_transform(df))\n",
    "plt.plot(scaler.inverse_transform(testPredictPlot), 'g')\n",
    "plt.xlim(X_train.shape[0], df.shape[0])\n",
    "plt.show()"
   ]
  },
  {
   "cell_type": "code",
   "execution_count": 38,
   "id": "1355b3d3",
   "metadata": {},
   "outputs": [
    {
     "data": {
      "text/plain": [
       "192"
      ]
     },
     "execution_count": 38,
     "metadata": {},
     "output_type": "execute_result"
    }
   ],
   "source": [
    "len(test_data)"
   ]
  },
  {
   "cell_type": "code",
   "execution_count": 39,
   "id": "0767587c",
   "metadata": {},
   "outputs": [
    {
     "data": {
      "text/plain": [
       "(1, 30)"
      ]
     },
     "execution_count": 39,
     "metadata": {},
     "output_type": "execute_result"
    }
   ],
   "source": [
    "x_input=test_data[162:].reshape(1,-1) #test data - step(30)\n",
    "x_input.shape"
   ]
  },
  {
   "cell_type": "code",
   "execution_count": 40,
   "id": "2f64bd8f",
   "metadata": {},
   "outputs": [],
   "source": [
    "temp_input=list(x_input)\n",
    "temp_input=temp_input[0].tolist()"
   ]
  },
  {
   "cell_type": "code",
   "execution_count": 41,
   "id": "9594be28",
   "metadata": {
    "scrolled": true
   },
   "outputs": [
    {
     "data": {
      "text/plain": [
       "[0.022160666063427925,\n",
       " 0.020190829411149025,\n",
       " 0.016004925593733788,\n",
       " 0.013973530381917953,\n",
       " 0.02056017331779003,\n",
       " 0.018528778105974197,\n",
       " 0.01434287428855896,\n",
       " 0.013727300800383091,\n",
       " 0.012003692798316479,\n",
       " 0.0057248384691774845,\n",
       " 0.006648199632763863,\n",
       " 0.007263773586601019,\n",
       " 0.013234840705990791,\n",
       " 0.00935672502964735,\n",
       " 0.008187133818864822,\n",
       " 0.006525084841996431,\n",
       " 0.004801477305591106,\n",
       " 0.0033240998163819313,\n",
       " 0.0029547554440796375,\n",
       " 0.006032625678926706,\n",
       " 0.004247460979968309,\n",
       " 0.004062788560986519,\n",
       " 0.003939673770219088,\n",
       " 0.002462296048179269,\n",
       " 0.002462296048179269,\n",
       " 0.0005540166166611016,\n",
       " 0.0007386888028122485,\n",
       " 0.0012311481405049562,\n",
       " 0.0017236073035746813,\n",
       " 0.0015389351174235344]"
      ]
     },
     "execution_count": 41,
     "metadata": {},
     "output_type": "execute_result"
    }
   ],
   "source": [
    "temp_input"
   ]
  },
  {
   "cell_type": "code",
   "execution_count": 42,
   "id": "54a16704",
   "metadata": {},
   "outputs": [
    {
     "name": "stdout",
     "output_type": "stream",
     "text": [
      "[0.00326206]\n",
      "31\n",
      "1 day input [0.02019083 0.01600493 0.01397353 0.02056017 0.01852878 0.01434287\n",
      " 0.0137273  0.01200369 0.00572484 0.0066482  0.00726377 0.01323484\n",
      " 0.00935673 0.00818713 0.00652508 0.00480148 0.0033241  0.00295476\n",
      " 0.00603263 0.00424746 0.00406279 0.00393967 0.0024623  0.0024623\n",
      " 0.00055402 0.00073869 0.00123115 0.00172361 0.00153894 0.00326206]\n",
      "1 day output [[0.00345274]]\n",
      "2 day input [0.01600493 0.01397353 0.02056017 0.01852878 0.01434287 0.0137273\n",
      " 0.01200369 0.00572484 0.0066482  0.00726377 0.01323484 0.00935673\n",
      " 0.00818713 0.00652508 0.00480148 0.0033241  0.00295476 0.00603263\n",
      " 0.00424746 0.00406279 0.00393967 0.0024623  0.0024623  0.00055402\n",
      " 0.00073869 0.00123115 0.00172361 0.00153894 0.00326206 0.00345274]\n",
      "2 day output [[0.00359904]]\n",
      "3 day input [0.01397353 0.02056017 0.01852878 0.01434287 0.0137273  0.01200369\n",
      " 0.00572484 0.0066482  0.00726377 0.01323484 0.00935673 0.00818713\n",
      " 0.00652508 0.00480148 0.0033241  0.00295476 0.00603263 0.00424746\n",
      " 0.00406279 0.00393967 0.0024623  0.0024623  0.00055402 0.00073869\n",
      " 0.00123115 0.00172361 0.00153894 0.00326206 0.00345274 0.00359904]\n",
      "3 day output [[0.00365818]]\n",
      "4 day input [0.02056017 0.01852878 0.01434287 0.0137273  0.01200369 0.00572484\n",
      " 0.0066482  0.00726377 0.01323484 0.00935673 0.00818713 0.00652508\n",
      " 0.00480148 0.0033241  0.00295476 0.00603263 0.00424746 0.00406279\n",
      " 0.00393967 0.0024623  0.0024623  0.00055402 0.00073869 0.00123115\n",
      " 0.00172361 0.00153894 0.00326206 0.00345274 0.00359904 0.00365818]\n",
      "4 day output [[0.00368144]]\n",
      "5 day input [0.01852878 0.01434287 0.0137273  0.01200369 0.00572484 0.0066482\n",
      " 0.00726377 0.01323484 0.00935673 0.00818713 0.00652508 0.00480148\n",
      " 0.0033241  0.00295476 0.00603263 0.00424746 0.00406279 0.00393967\n",
      " 0.0024623  0.0024623  0.00055402 0.00073869 0.00123115 0.00172361\n",
      " 0.00153894 0.00326206 0.00345274 0.00359904 0.00365818 0.00368144]\n",
      "5 day output [[0.00377185]]\n",
      "6 day input [0.01434287 0.0137273  0.01200369 0.00572484 0.0066482  0.00726377\n",
      " 0.01323484 0.00935673 0.00818713 0.00652508 0.00480148 0.0033241\n",
      " 0.00295476 0.00603263 0.00424746 0.00406279 0.00393967 0.0024623\n",
      " 0.0024623  0.00055402 0.00073869 0.00123115 0.00172361 0.00153894\n",
      " 0.00326206 0.00345274 0.00359904 0.00365818 0.00368144 0.00377185]\n",
      "6 day output [[0.00387851]]\n",
      "7 day input [0.0137273  0.01200369 0.00572484 0.0066482  0.00726377 0.01323484\n",
      " 0.00935673 0.00818713 0.00652508 0.00480148 0.0033241  0.00295476\n",
      " 0.00603263 0.00424746 0.00406279 0.00393967 0.0024623  0.0024623\n",
      " 0.00055402 0.00073869 0.00123115 0.00172361 0.00153894 0.00326206\n",
      " 0.00345274 0.00359904 0.00365818 0.00368144 0.00377185 0.00387851]\n",
      "7 day output [[0.00397399]]\n",
      "8 day input [0.01200369 0.00572484 0.0066482  0.00726377 0.01323484 0.00935673\n",
      " 0.00818713 0.00652508 0.00480148 0.0033241  0.00295476 0.00603263\n",
      " 0.00424746 0.00406279 0.00393967 0.0024623  0.0024623  0.00055402\n",
      " 0.00073869 0.00123115 0.00172361 0.00153894 0.00326206 0.00345274\n",
      " 0.00359904 0.00365818 0.00368144 0.00377185 0.00387851 0.00397399]\n",
      "8 day output [[0.00406955]]\n",
      "9 day input [0.00572484 0.0066482  0.00726377 0.01323484 0.00935673 0.00818713\n",
      " 0.00652508 0.00480148 0.0033241  0.00295476 0.00603263 0.00424746\n",
      " 0.00406279 0.00393967 0.0024623  0.0024623  0.00055402 0.00073869\n",
      " 0.00123115 0.00172361 0.00153894 0.00326206 0.00345274 0.00359904\n",
      " 0.00365818 0.00368144 0.00377185 0.00387851 0.00397399 0.00406955]\n",
      "9 day output [[0.00415292]]\n",
      "10 day input [0.0066482  0.00726377 0.01323484 0.00935673 0.00818713 0.00652508\n",
      " 0.00480148 0.0033241  0.00295476 0.00603263 0.00424746 0.00406279\n",
      " 0.00393967 0.0024623  0.0024623  0.00055402 0.00073869 0.00123115\n",
      " 0.00172361 0.00153894 0.00326206 0.00345274 0.00359904 0.00365818\n",
      " 0.00368144 0.00377185 0.00387851 0.00397399 0.00406955 0.00415292]\n",
      "10 day output [[0.00417604]]\n",
      "11 day input [0.00726377 0.01323484 0.00935673 0.00818713 0.00652508 0.00480148\n",
      " 0.0033241  0.00295476 0.00603263 0.00424746 0.00406279 0.00393967\n",
      " 0.0024623  0.0024623  0.00055402 0.00073869 0.00123115 0.00172361\n",
      " 0.00153894 0.00326206 0.00345274 0.00359904 0.00365818 0.00368144\n",
      " 0.00377185 0.00387851 0.00397399 0.00406955 0.00415292 0.00417604]\n",
      "11 day output [[0.00419127]]\n",
      "12 day input [0.01323484 0.00935673 0.00818713 0.00652508 0.00480148 0.0033241\n",
      " 0.00295476 0.00603263 0.00424746 0.00406279 0.00393967 0.0024623\n",
      " 0.0024623  0.00055402 0.00073869 0.00123115 0.00172361 0.00153894\n",
      " 0.00326206 0.00345274 0.00359904 0.00365818 0.00368144 0.00377185\n",
      " 0.00387851 0.00397399 0.00406955 0.00415292 0.00417604 0.00419127]\n",
      "12 day output [[0.00420609]]\n",
      "13 day input [0.00935673 0.00818713 0.00652508 0.00480148 0.0033241  0.00295476\n",
      " 0.00603263 0.00424746 0.00406279 0.00393967 0.0024623  0.0024623\n",
      " 0.00055402 0.00073869 0.00123115 0.00172361 0.00153894 0.00326206\n",
      " 0.00345274 0.00359904 0.00365818 0.00368144 0.00377185 0.00387851\n",
      " 0.00397399 0.00406955 0.00415292 0.00417604 0.00419127 0.00420609]\n",
      "13 day output [[0.00428073]]\n",
      "14 day input [0.00818713 0.00652508 0.00480148 0.0033241  0.00295476 0.00603263\n",
      " 0.00424746 0.00406279 0.00393967 0.0024623  0.0024623  0.00055402\n",
      " 0.00073869 0.00123115 0.00172361 0.00153894 0.00326206 0.00345274\n",
      " 0.00359904 0.00365818 0.00368144 0.00377185 0.00387851 0.00397399\n",
      " 0.00406955 0.00415292 0.00417604 0.00419127 0.00420609 0.00428073]\n",
      "14 day output [[0.00435567]]\n",
      "15 day input [0.00652508 0.00480148 0.0033241  0.00295476 0.00603263 0.00424746\n",
      " 0.00406279 0.00393967 0.0024623  0.0024623  0.00055402 0.00073869\n",
      " 0.00123115 0.00172361 0.00153894 0.00326206 0.00345274 0.00359904\n",
      " 0.00365818 0.00368144 0.00377185 0.00387851 0.00397399 0.00406955\n",
      " 0.00415292 0.00417604 0.00419127 0.00420609 0.00428073 0.00435567]\n",
      "15 day output [[0.0044464]]\n",
      "16 day input [0.00480148 0.0033241  0.00295476 0.00603263 0.00424746 0.00406279\n",
      " 0.00393967 0.0024623  0.0024623  0.00055402 0.00073869 0.00123115\n",
      " 0.00172361 0.00153894 0.00326206 0.00345274 0.00359904 0.00365818\n",
      " 0.00368144 0.00377185 0.00387851 0.00397399 0.00406955 0.00415292\n",
      " 0.00417604 0.00419127 0.00420609 0.00428073 0.00435567 0.0044464 ]\n",
      "16 day output [[0.00454365]]\n",
      "17 day input [0.0033241  0.00295476 0.00603263 0.00424746 0.00406279 0.00393967\n",
      " 0.0024623  0.0024623  0.00055402 0.00073869 0.00123115 0.00172361\n",
      " 0.00153894 0.00326206 0.00345274 0.00359904 0.00365818 0.00368144\n",
      " 0.00377185 0.00387851 0.00397399 0.00406955 0.00415292 0.00417604\n",
      " 0.00419127 0.00420609 0.00428073 0.00435567 0.0044464  0.00454365]\n",
      "17 day output [[0.00464263]]\n",
      "18 day input [0.00295476 0.00603263 0.00424746 0.00406279 0.00393967 0.0024623\n",
      " 0.0024623  0.00055402 0.00073869 0.00123115 0.00172361 0.00153894\n",
      " 0.00326206 0.00345274 0.00359904 0.00365818 0.00368144 0.00377185\n",
      " 0.00387851 0.00397399 0.00406955 0.00415292 0.00417604 0.00419127\n",
      " 0.00420609 0.00428073 0.00435567 0.0044464  0.00454365 0.00464263]\n",
      "18 day output [[0.0047383]]\n",
      "19 day input [0.00603263 0.00424746 0.00406279 0.00393967 0.0024623  0.0024623\n",
      " 0.00055402 0.00073869 0.00123115 0.00172361 0.00153894 0.00326206\n",
      " 0.00345274 0.00359904 0.00365818 0.00368144 0.00377185 0.00387851\n",
      " 0.00397399 0.00406955 0.00415292 0.00417604 0.00419127 0.00420609\n",
      " 0.00428073 0.00435567 0.0044464  0.00454365 0.00464263 0.0047383 ]\n",
      "19 day output [[0.00483331]]\n",
      "20 day input [0.00424746 0.00406279 0.00393967 0.0024623  0.0024623  0.00055402\n",
      " 0.00073869 0.00123115 0.00172361 0.00153894 0.00326206 0.00345274\n",
      " 0.00359904 0.00365818 0.00368144 0.00377185 0.00387851 0.00397399\n",
      " 0.00406955 0.00415292 0.00417604 0.00419127 0.00420609 0.00428073\n",
      " 0.00435567 0.0044464  0.00454365 0.00464263 0.0047383  0.00483331]\n",
      "20 day output [[0.00495814]]\n",
      "21 day input [0.00406279 0.00393967 0.0024623  0.0024623  0.00055402 0.00073869\n",
      " 0.00123115 0.00172361 0.00153894 0.00326206 0.00345274 0.00359904\n",
      " 0.00365818 0.00368144 0.00377185 0.00387851 0.00397399 0.00406955\n",
      " 0.00415292 0.00417604 0.00419127 0.00420609 0.00428073 0.00435567\n",
      " 0.0044464  0.00454365 0.00464263 0.0047383  0.00483331 0.00495814]\n",
      "21 day output [[0.00507862]]\n",
      "22 day input [0.00393967 0.0024623  0.0024623  0.00055402 0.00073869 0.00123115\n",
      " 0.00172361 0.00153894 0.00326206 0.00345274 0.00359904 0.00365818\n",
      " 0.00368144 0.00377185 0.00387851 0.00397399 0.00406955 0.00415292\n",
      " 0.00417604 0.00419127 0.00420609 0.00428073 0.00435567 0.0044464\n",
      " 0.00454365 0.00464263 0.0047383  0.00483331 0.00495814 0.00507862]\n",
      "22 day output [[0.00520339]]\n",
      "23 day input [0.0024623  0.0024623  0.00055402 0.00073869 0.00123115 0.00172361\n",
      " 0.00153894 0.00326206 0.00345274 0.00359904 0.00365818 0.00368144\n",
      " 0.00377185 0.00387851 0.00397399 0.00406955 0.00415292 0.00417604\n",
      " 0.00419127 0.00420609 0.00428073 0.00435567 0.0044464  0.00454365\n",
      " 0.00464263 0.0047383  0.00483331 0.00495814 0.00507862 0.00520339]\n",
      "23 day output [[0.00533166]]\n",
      "24 day input [0.0024623  0.00055402 0.00073869 0.00123115 0.00172361 0.00153894\n",
      " 0.00326206 0.00345274 0.00359904 0.00365818 0.00368144 0.00377185\n",
      " 0.00387851 0.00397399 0.00406955 0.00415292 0.00417604 0.00419127\n",
      " 0.00420609 0.00428073 0.00435567 0.0044464  0.00454365 0.00464263\n",
      " 0.0047383  0.00483331 0.00495814 0.00507862 0.00520339 0.00533166]\n"
     ]
    },
    {
     "name": "stdout",
     "output_type": "stream",
     "text": [
      "24 day output [[0.00544996]]\n",
      "25 day input [0.00055402 0.00073869 0.00123115 0.00172361 0.00153894 0.00326206\n",
      " 0.00345274 0.00359904 0.00365818 0.00368144 0.00377185 0.00387851\n",
      " 0.00397399 0.00406955 0.00415292 0.00417604 0.00419127 0.00420609\n",
      " 0.00428073 0.00435567 0.0044464  0.00454365 0.00464263 0.0047383\n",
      " 0.00483331 0.00495814 0.00507862 0.00520339 0.00533166 0.00544996]\n",
      "25 day output [[0.00556669]]\n",
      "26 day input [0.00073869 0.00123115 0.00172361 0.00153894 0.00326206 0.00345274\n",
      " 0.00359904 0.00365818 0.00368144 0.00377185 0.00387851 0.00397399\n",
      " 0.00406955 0.00415292 0.00417604 0.00419127 0.00420609 0.00428073\n",
      " 0.00435567 0.0044464  0.00454365 0.00464263 0.0047383  0.00483331\n",
      " 0.00495814 0.00507862 0.00520339 0.00533166 0.00544996 0.00556669]\n",
      "26 day output [[0.00566466]]\n",
      "27 day input [0.00123115 0.00172361 0.00153894 0.00326206 0.00345274 0.00359904\n",
      " 0.00365818 0.00368144 0.00377185 0.00387851 0.00397399 0.00406955\n",
      " 0.00415292 0.00417604 0.00419127 0.00420609 0.00428073 0.00435567\n",
      " 0.0044464  0.00454365 0.00464263 0.0047383  0.00483331 0.00495814\n",
      " 0.00507862 0.00520339 0.00533166 0.00544996 0.00556669 0.00566466]\n",
      "27 day output [[0.00575539]]\n",
      "28 day input [0.00172361 0.00153894 0.00326206 0.00345274 0.00359904 0.00365818\n",
      " 0.00368144 0.00377185 0.00387851 0.00397399 0.00406955 0.00415292\n",
      " 0.00417604 0.00419127 0.00420609 0.00428073 0.00435567 0.0044464\n",
      " 0.00454365 0.00464263 0.0047383  0.00483331 0.00495814 0.00507862\n",
      " 0.00520339 0.00533166 0.00544996 0.00556669 0.00566466 0.00575539]\n",
      "28 day output [[0.00584204]]\n",
      "29 day input [0.00153894 0.00326206 0.00345274 0.00359904 0.00365818 0.00368144\n",
      " 0.00377185 0.00387851 0.00397399 0.00406955 0.00415292 0.00417604\n",
      " 0.00419127 0.00420609 0.00428073 0.00435567 0.0044464  0.00454365\n",
      " 0.00464263 0.0047383  0.00483331 0.00495814 0.00507862 0.00520339\n",
      " 0.00533166 0.00544996 0.00556669 0.00566466 0.00575539 0.00584204]\n",
      "29 day output [[0.00592657]]\n",
      "[[0.003262057900428772], [0.003452735021710396], [0.00359904021024704], [0.003658181056380272], [0.0036814436316490173], [0.003771847113966942], [0.0038785096257925034], [0.003973992541432381], [0.0040695518255233765], [0.004152916371822357], [0.00417603924870491], [0.004191271960735321], [0.0042060911655426025], [0.004280734807252884], [0.004355669021606445], [0.004446396604180336], [0.004543645307421684], [0.004642626270651817], [0.004738301038742065], [0.004833310842514038], [0.0049581378698349], [0.0050786156207323074], [0.00520339235663414], [0.005331659689545631], [0.0054499562829732895], [0.005566688254475594], [0.005664657801389694], [0.005755387246608734], [0.005842041224241257], [0.0059265680611133575]]\n"
     ]
    }
   ],
   "source": [
    "# prediction for next 30 days\n",
    "from numpy import array\n",
    "\n",
    "lst_output=[]\n",
    "n_steps=30\n",
    "i=0\n",
    "while(i<30): #30 hari\n",
    "    \n",
    "    if(len(temp_input)>30):\n",
    "        #print(temp_input)\n",
    "        x_input=np.array(temp_input[1:])\n",
    "        print(\"{} day input {}\".format(i,x_input))\n",
    "        x_input=x_input.reshape(1,-1)\n",
    "        x_input = x_input.reshape((1, n_steps, 1))\n",
    "        #print(x_input)\n",
    "        yhat = model.predict(x_input, verbose=0)\n",
    "        print(\"{} day output {}\".format(i,yhat))\n",
    "        temp_input.extend(yhat[0].tolist())\n",
    "        temp_input=temp_input[1:]\n",
    "        #print(temp_input)\n",
    "        lst_output.extend(yhat.tolist())\n",
    "        i=i+1\n",
    "    else:\n",
    "        x_input = x_input.reshape((1, n_steps,1))\n",
    "        yhat = model.predict(x_input, verbose=0)\n",
    "        print(yhat[0])\n",
    "        temp_input.extend(yhat[0].tolist())\n",
    "        print(len(temp_input))\n",
    "        lst_output.extend(yhat.tolist())\n",
    "        i=i+1\n",
    "    \n",
    "\n",
    "print(lst_output)"
   ]
  },
  {
   "cell_type": "code",
   "execution_count": 43,
   "id": "447dcca0",
   "metadata": {},
   "outputs": [],
   "source": [
    "day_new=np.arange(1,31) # dari data 30 hari terakhir\n",
    "day_pred=np.arange(31,61) #predict 30 hari kedepan"
   ]
  },
  {
   "cell_type": "code",
   "execution_count": 44,
   "id": "91dd51a7",
   "metadata": {},
   "outputs": [
    {
     "data": {
      "text/plain": [
       "766"
      ]
     },
     "execution_count": 44,
     "metadata": {},
     "output_type": "execute_result"
    }
   ],
   "source": [
    "len(df)"
   ]
  },
  {
   "cell_type": "code",
   "execution_count": 45,
   "id": "86fd0fa7",
   "metadata": {},
   "outputs": [
    {
     "data": {
      "text/plain": [
       "30"
      ]
     },
     "execution_count": 45,
     "metadata": {},
     "output_type": "execute_result"
    }
   ],
   "source": [
    "len(day_pred)"
   ]
  },
  {
   "cell_type": "code",
   "execution_count": 46,
   "id": "e0730cc4",
   "metadata": {
    "scrolled": true
   },
   "outputs": [
    {
     "data": {
      "text/plain": [
       "[<matplotlib.lines.Line2D at 0x265768403c8>]"
      ]
     },
     "execution_count": 46,
     "metadata": {},
     "output_type": "execute_result"
    },
    {
     "data": {
      "image/png": "[encoded data removed]",
      "text/plain": [
       "<Figure size 432x288 with 1 Axes>"
      ]
     },
     "metadata": {
      "needs_background": "light"
     },
     "output_type": "display_data"
    }
   ],
   "source": [
    "plt.plot(day_new,df[736:]) # [total data - prediction(30)] \n",
    "plt.plot(day_pred,scaler.inverse_transform(lst_output))"
   ]
  },
  {
   "cell_type": "code",
   "execution_count": 47,
   "id": "07cc7ca7",
   "metadata": {},
   "outputs": [
    {
     "data": {
      "text/plain": [
       "[<matplotlib.lines.Line2D at 0x265768b9248>]"
      ]
     },
     "execution_count": 47,
     "metadata": {},
     "output_type": "execute_result"
    },
    {
     "data": {
      "image/png": "[encoded data removed]",
      "text/plain": [
       "<Figure size 432x288 with 1 Axes>"
      ]
     },
     "metadata": {
      "needs_background": "light"
     },
     "output_type": "display_data"
    }
   ],
   "source": [
    "df2=df.tolist()\n",
    "df2.extend(scaler.inverse_transform(lst_output))\n",
    "plt.plot(df2)"
   ]
  },
  {
   "cell_type": "code",
   "execution_count": 48,
   "id": "4e90a3ff",
   "metadata": {
    "scrolled": true
   },
   "outputs": [
    {
     "data": {
      "text/plain": [
       "[<matplotlib.lines.Line2D at 0x26576862f88>]"
      ]
     },
     "execution_count": 48,
     "metadata": {},
     "output_type": "execute_result"
    },
    {
     "data": {
      "image/png": "[encoded data removed]",
      "text/plain": [
       "<Figure size 432x288 with 1 Axes>"
      ]
     },
     "metadata": {
      "needs_background": "light"
     },
     "output_type": "display_data"
    }
   ],
   "source": [
    "df2=scaler.inverse_transform(df2).tolist()\n",
    "plt.plot(df2)"
   ]
  },
  {
   "cell_type": "code",
   "execution_count": 49,
   "id": "3cf7831d",
   "metadata": {},
   "outputs": [
    {
     "name": "stdout",
     "output_type": "stream",
     "text": [
      "WARNING:tensorflow:Model was constructed with shape (None, 30, 1) for input KerasTensor(type_spec=TensorSpec(shape=(None, 30, 1), dtype=tf.float32, name='lstm_input'), name='lstm_input', description=\"created by layer 'lstm_input'\"), but it was called on an input with incompatible shape (None, 1, 1).\n",
      "loss: 1149968100.000000\n"
     ]
    }
   ],
   "source": [
    "# evaluate the model\n",
    "scores = model.evaluate(X_train, Y_train, verbose=0)\n",
    "print(\"%s: %f\" % (model.metrics_names[0], scores*100))"
   ]
  }
 ],
 "metadata": {
  "kernelspec": {
   "display_name": "Python 3 (ipykernel)",
   "language": "python",
   "name": "python3"
  },
  "language_info": {
   "codemirror_mode": {
    "name": "ipython",
    "version": 3
   },
   "file_extension": ".py",
   "mimetype": "text/x-python",
   "name": "python",
   "nbconvert_exporter": "python",
   "pygments_lexer": "ipython3",
   "version": "3.7.13"
  }
 },
 "nbformat": 4,
 "nbformat_minor": 5
}
