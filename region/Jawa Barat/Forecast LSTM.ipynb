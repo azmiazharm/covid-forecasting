{
 "cells": [
  {
   "cell_type": "code",
   "execution_count": 1,
   "id": "f8cc18d9",
   "metadata": {},
   "outputs": [],
   "source": [
    "# Import library\n",
    "import pandas as pd\n",
    "import numpy as np\n",
    "import matplotlib.pyplot as plt\n",
    "import tensorflow\n",
    "from tensorflow import keras\n",
    "from tensorflow.keras.layers import Dense, Activation, LSTM\n",
    "from sklearn.preprocessing import MinMaxScaler\n",
    "from keras.models import Sequential\n",
    "import os"
   ]
  },
  {
   "cell_type": "code",
   "execution_count": 2,
   "id": "4e7cdaba",
   "metadata": {},
   "outputs": [],
   "source": [
    "# Use CPU\n",
    "os.environ['CUDA_VISIBLE_DEVICES'] = '-1'"
   ]
  },
  {
   "cell_type": "code",
   "execution_count": 3,
   "id": "29d08e2d",
   "metadata": {},
   "outputs": [
    {
     "name": "stdout",
     "output_type": "stream",
     "text": [
      "2.8.0\n"
     ]
    }
   ],
   "source": [
    "print(tensorflow.__version__)"
   ]
  },
  {
   "cell_type": "code",
   "execution_count": 4,
   "id": "6dac519e",
   "metadata": {},
   "outputs": [
    {
     "data": {
      "text/html": [
       "<div>\n",
       "<style scoped>\n",
       "    .dataframe tbody tr th:only-of-type {\n",
       "        vertical-align: middle;\n",
       "    }\n",
       "\n",
       "    .dataframe tbody tr th {\n",
       "        vertical-align: top;\n",
       "    }\n",
       "\n",
       "    .dataframe thead th {\n",
       "        text-align: right;\n",
       "    }\n",
       "</style>\n",
       "<table border=\"1\" class=\"dataframe\">\n",
       "  <thead>\n",
       "    <tr style=\"text-align: right;\">\n",
       "      <th></th>\n",
       "      <th>daily_case</th>\n",
       "    </tr>\n",
       "    <tr>\n",
       "      <th>date</th>\n",
       "      <th></th>\n",
       "    </tr>\n",
       "  </thead>\n",
       "  <tbody>\n",
       "    <tr>\n",
       "      <th>2020-04-01</th>\n",
       "      <td>20</td>\n",
       "    </tr>\n",
       "    <tr>\n",
       "      <th>2020-04-02</th>\n",
       "      <td>15</td>\n",
       "    </tr>\n",
       "    <tr>\n",
       "      <th>2020-04-03</th>\n",
       "      <td>2</td>\n",
       "    </tr>\n",
       "    <tr>\n",
       "      <th>2020-04-04</th>\n",
       "      <td>20</td>\n",
       "    </tr>\n",
       "    <tr>\n",
       "      <th>2020-04-05</th>\n",
       "      <td>6</td>\n",
       "    </tr>\n",
       "  </tbody>\n",
       "</table>\n",
       "</div>"
      ],
      "text/plain": [
       "            daily_case\n",
       "date                  \n",
       "2020-04-01          20\n",
       "2020-04-02          15\n",
       "2020-04-03           2\n",
       "2020-04-04          20\n",
       "2020-04-05           6"
      ]
     },
     "execution_count": 4,
     "metadata": {},
     "output_type": "execute_result"
    }
   ],
   "source": [
    "# Dataset\n",
    "df=pd.read_csv('./../../dataset/raw_jawa_barat.csv', parse_dates=[\"date\"], index_col=\"date\")\n",
    "#df['daily_case'] = df['daily_case'].str.replace(',','').astype(int)\n",
    "\n",
    "# Cut dataset to start from 1 April 2022\n",
    "df = df[29:]\n",
    "df.head()"
   ]
  },
  {
   "cell_type": "code",
   "execution_count": 5,
   "id": "b7cb2a44",
   "metadata": {},
   "outputs": [
    {
     "name": "stdout",
     "output_type": "stream",
     "text": [
      "<class 'pandas.core.frame.DataFrame'>\n",
      "DatetimeIndex: 766 entries, 2020-04-01 to 2022-05-06\n",
      "Data columns (total 1 columns):\n",
      " #   Column      Non-Null Count  Dtype\n",
      "---  ------      --------------  -----\n",
      " 0   daily_case  766 non-null    int64\n",
      "dtypes: int64(1)\n",
      "memory usage: 12.0 KB\n"
     ]
    }
   ],
   "source": [
    "df.info()"
   ]
  },
  {
   "cell_type": "code",
   "execution_count": 6,
   "id": "33630edc",
   "metadata": {},
   "outputs": [
    {
     "data": {
      "text/plain": [
       "(766, 1)"
      ]
     },
     "execution_count": 6,
     "metadata": {},
     "output_type": "execute_result"
    }
   ],
   "source": [
    "df.shape"
   ]
  },
  {
   "cell_type": "code",
   "execution_count": 7,
   "id": "a46fcfe0",
   "metadata": {},
   "outputs": [
    {
     "data": {
      "text/plain": [
       "[<matplotlib.lines.Line2D at 0x2386a12bbc8>]"
      ]
     },
     "execution_count": 7,
     "metadata": {},
     "output_type": "execute_result"
    },
    {
     "data": {
      "image/png": "[encoded data removed]",
      "text/plain": [
       "<Figure size 432x288 with 1 Axes>"
      ]
     },
     "metadata": {
      "needs_background": "light"
     },
     "output_type": "display_data"
    }
   ],
   "source": [
    "plt.plot(df)"
   ]
  },
  {
   "cell_type": "code",
   "execution_count": 8,
   "id": "baf1aaac",
   "metadata": {},
   "outputs": [],
   "source": [
    "scaler = MinMaxScaler(feature_range=(0,1))"
   ]
  },
  {
   "cell_type": "code",
   "execution_count": 9,
   "id": "116dbcb0",
   "metadata": {},
   "outputs": [
    {
     "data": {
      "text/plain": [
       "(766, 1)"
      ]
     },
     "execution_count": 9,
     "metadata": {},
     "output_type": "execute_result"
    }
   ],
   "source": [
    "df.shape"
   ]
  },
  {
   "cell_type": "code",
   "execution_count": 10,
   "id": "1dbbf64c",
   "metadata": {},
   "outputs": [
    {
     "data": {
      "text/html": [
       "<div>\n",
       "<style scoped>\n",
       "    .dataframe tbody tr th:only-of-type {\n",
       "        vertical-align: middle;\n",
       "    }\n",
       "\n",
       "    .dataframe tbody tr th {\n",
       "        vertical-align: top;\n",
       "    }\n",
       "\n",
       "    .dataframe thead th {\n",
       "        text-align: right;\n",
       "    }\n",
       "</style>\n",
       "<table border=\"1\" class=\"dataframe\">\n",
       "  <thead>\n",
       "    <tr style=\"text-align: right;\">\n",
       "      <th></th>\n",
       "      <th>daily_case</th>\n",
       "    </tr>\n",
       "    <tr>\n",
       "      <th>date</th>\n",
       "      <th></th>\n",
       "    </tr>\n",
       "  </thead>\n",
       "  <tbody>\n",
       "    <tr>\n",
       "      <th>2020-04-01</th>\n",
       "      <td>20</td>\n",
       "    </tr>\n",
       "    <tr>\n",
       "      <th>2020-04-02</th>\n",
       "      <td>15</td>\n",
       "    </tr>\n",
       "    <tr>\n",
       "      <th>2020-04-03</th>\n",
       "      <td>2</td>\n",
       "    </tr>\n",
       "    <tr>\n",
       "      <th>2020-04-04</th>\n",
       "      <td>20</td>\n",
       "    </tr>\n",
       "    <tr>\n",
       "      <th>2020-04-05</th>\n",
       "      <td>6</td>\n",
       "    </tr>\n",
       "  </tbody>\n",
       "</table>\n",
       "</div>"
      ],
      "text/plain": [
       "            daily_case\n",
       "date                  \n",
       "2020-04-01          20\n",
       "2020-04-02          15\n",
       "2020-04-03           2\n",
       "2020-04-04          20\n",
       "2020-04-05           6"
      ]
     },
     "execution_count": 10,
     "metadata": {},
     "output_type": "execute_result"
    }
   ],
   "source": [
    "df.head()"
   ]
  },
  {
   "cell_type": "code",
   "execution_count": 11,
   "id": "e6faefb5",
   "metadata": {},
   "outputs": [],
   "source": [
    "# df = scaler.fit_transform(np.array(df).reshape(-1,1))"
   ]
  },
  {
   "cell_type": "code",
   "execution_count": 12,
   "id": "19cb8aa8",
   "metadata": {},
   "outputs": [
    {
     "data": {
      "text/plain": [
       "(766, 1)"
      ]
     },
     "execution_count": 12,
     "metadata": {},
     "output_type": "execute_result"
    }
   ],
   "source": [
    "df.shape"
   ]
  },
  {
   "cell_type": "code",
   "execution_count": 13,
   "id": "8d81d237",
   "metadata": {},
   "outputs": [],
   "source": [
    "# Split data to train and test\n",
    "df = df.values\n",
    "df = df.astype('float32')\n",
    "train_size = int(len(df) * 0.75)\n",
    "test_size=len(df)-train_size"
   ]
  },
  {
   "cell_type": "code",
   "execution_count": 14,
   "id": "d07613e8",
   "metadata": {},
   "outputs": [],
   "source": [
    "train_data=df[0:train_size,:]\n",
    "test_data=df[train_size:len(df),:]"
   ]
  },
  {
   "cell_type": "code",
   "execution_count": 15,
   "id": "ec2da0aa",
   "metadata": {},
   "outputs": [],
   "source": [
    "# scale data\n",
    "train_data = scaler.fit_transform(np.array(train_data).reshape(-1,1))\n",
    "test_data = scaler.fit_transform(np.array(test_data).reshape(-1,1))"
   ]
  },
  {
   "cell_type": "code",
   "execution_count": 16,
   "id": "ec3179a7",
   "metadata": {},
   "outputs": [
    {
     "data": {
      "text/plain": [
       "(574, 1)"
      ]
     },
     "execution_count": 16,
     "metadata": {},
     "output_type": "execute_result"
    }
   ],
   "source": [
    "train_data.shape"
   ]
  },
  {
   "cell_type": "code",
   "execution_count": 17,
   "id": "709fa2f3",
   "metadata": {},
   "outputs": [
    {
     "name": "stdout",
     "output_type": "stream",
     "text": [
      "574\n",
      "192\n"
     ]
    },
    {
     "data": {
      "text/plain": [
       "(None, None)"
      ]
     },
     "execution_count": 17,
     "metadata": {},
     "output_type": "execute_result"
    }
   ],
   "source": [
    "print(len(train_data)), print(len(test_data))"
   ]
  },
  {
   "cell_type": "code",
   "execution_count": 18,
   "id": "8b465761",
   "metadata": {},
   "outputs": [],
   "source": [
    "# Create dataset matrix based on timestep\n",
    "def create_dataset(dataset, time_step=1):\n",
    "    X, Y = [], []\n",
    "    for i in range(len(dataset)-time_step-1):\n",
    "        a = dataset[i:(i+time_step), 0]\n",
    "        X.append(a)\n",
    "        Y.append(dataset[i + time_step, 0])\n",
    "    return np.array(X), np.array(Y)"
   ]
  },
  {
   "cell_type": "code",
   "execution_count": 19,
   "id": "f7456e17",
   "metadata": {},
   "outputs": [],
   "source": [
    "# Reshape into x=t, t+1, t+2, ... t+n, and Y = t + (n+1)\n",
    "time_step = 30\n",
    "X_train, Y_train = create_dataset(train_data, time_step)\n",
    "X_test, Y_test = create_dataset(test_data, time_step)"
   ]
  },
  {
   "cell_type": "code",
   "execution_count": 20,
   "id": "1e2fbaae",
   "metadata": {
    "scrolled": true
   },
   "outputs": [
    {
     "name": "stdout",
     "output_type": "stream",
     "text": [
      "(543, 30)\n",
      "(543,)\n"
     ]
    },
    {
     "data": {
      "text/plain": [
       "(None, None)"
      ]
     },
     "execution_count": 20,
     "metadata": {},
     "output_type": "execute_result"
    }
   ],
   "source": [
    "print(X_train.shape), print(Y_train.shape)"
   ]
  },
  {
   "cell_type": "code",
   "execution_count": 21,
   "id": "14caf748",
   "metadata": {},
   "outputs": [
    {
     "name": "stdout",
     "output_type": "stream",
     "text": [
      "(161, 30)\n",
      "(161,)\n"
     ]
    },
    {
     "data": {
      "text/plain": [
       "(None, None)"
      ]
     },
     "execution_count": 21,
     "metadata": {},
     "output_type": "execute_result"
    }
   ],
   "source": [
    "print(X_test.shape), print(Y_test.shape)"
   ]
  },
  {
   "cell_type": "code",
   "execution_count": 22,
   "id": "dc2e0ea1",
   "metadata": {},
   "outputs": [
    {
     "data": {
      "text/plain": [
       "161"
      ]
     },
     "execution_count": 22,
     "metadata": {},
     "output_type": "execute_result"
    }
   ],
   "source": [
    "len(X_test)"
   ]
  },
  {
   "cell_type": "code",
   "execution_count": 23,
   "id": "dd7a7f83",
   "metadata": {},
   "outputs": [],
   "source": [
    "# Reshape input data to 3d [sample, time_step, features]\n",
    "X_train = X_train.reshape(X_train.shape[0], X_train.shape[1], 1)\n",
    "X_test = X_test.reshape(X_test.shape[0], X_test.shape[1], 1)"
   ]
  },
  {
   "cell_type": "code",
   "execution_count": 24,
   "id": "35b0d75b",
   "metadata": {},
   "outputs": [],
   "source": [
    "# # Create model\n",
    "# model = Sequential()\n",
    "# model.add(LSTM(192, return_sequences=True, input_shape=(30,1)))\n",
    "# model.add(LSTM(64, return_sequences=True))\n",
    "# model.add(LSTM(224, return_sequences=True))\n",
    "# model.add(LSTM(160, activation='relu'))\n",
    "# model.add(Dropout(0.1))\n",
    "# model.add(Dense(1))\n",
    "# model.compile(optimizer='adam', loss='mean_squared_error')"
   ]
  },
  {
   "cell_type": "code",
   "execution_count": 25,
   "id": "2904dc8f",
   "metadata": {},
   "outputs": [],
   "source": [
    "# Create Stacked LSTM model\n",
    "model = Sequential()\n",
    "model.add(LSTM(100, activation='relu', return_sequences=True, input_shape=(30,1)))\n",
    "model.add(LSTM(100))\n",
    "model.add(Dense(1))\n",
    "model.compile(optimizer='adam', loss='mean_squared_error')"
   ]
  },
  {
   "cell_type": "code",
   "execution_count": 26,
   "id": "2d2dd132",
   "metadata": {},
   "outputs": [
    {
     "name": "stdout",
     "output_type": "stream",
     "text": [
      "Model: \"sequential\"\n",
      "_________________________________________________________________\n",
      " Layer (type)                Output Shape              Param #   \n",
      "=================================================================\n",
      " lstm (LSTM)                 (None, 30, 100)           40800     \n",
      "                                                                 \n",
      " lstm_1 (LSTM)               (None, 100)               80400     \n",
      "                                                                 \n",
      " dense (Dense)               (None, 1)                 101       \n",
      "                                                                 \n",
      "=================================================================\n",
      "Total params: 121,301\n",
      "Trainable params: 121,301\n",
      "Non-trainable params: 0\n",
      "_________________________________________________________________\n"
     ]
    }
   ],
   "source": [
    "model.summary()"
   ]
  },
  {
   "cell_type": "code",
   "execution_count": 27,
   "id": "7314a09a",
   "metadata": {},
   "outputs": [
    {
     "name": "stdout",
     "output_type": "stream",
     "text": [
      "Epoch 1/200\n",
      "17/17 [==============================] - 4s 71ms/step - loss: 0.0152 - val_loss: 0.0188\n",
      "Epoch 2/200\n",
      "17/17 [==============================] - 1s 35ms/step - loss: 0.0064 - val_loss: 0.0123\n",
      "Epoch 3/200\n",
      "17/17 [==============================] - 1s 35ms/step - loss: 0.0052 - val_loss: 0.0086\n",
      "Epoch 4/200\n",
      "17/17 [==============================] - 1s 35ms/step - loss: 0.0051 - val_loss: 0.0092\n",
      "Epoch 5/200\n",
      "17/17 [==============================] - 1s 36ms/step - loss: 0.0050 - val_loss: 0.0093\n",
      "Epoch 6/200\n",
      "17/17 [==============================] - 1s 35ms/step - loss: 0.0048 - val_loss: 0.0083\n",
      "Epoch 7/200\n",
      "17/17 [==============================] - 1s 36ms/step - loss: 0.0050 - val_loss: 0.0088\n",
      "Epoch 8/200\n",
      "17/17 [==============================] - 1s 36ms/step - loss: 0.0048 - val_loss: 0.0084\n",
      "Epoch 9/200\n",
      "17/17 [==============================] - 1s 35ms/step - loss: 0.0045 - val_loss: 0.0080\n",
      "Epoch 10/200\n",
      "17/17 [==============================] - 1s 35ms/step - loss: 0.0045 - val_loss: 0.0078\n",
      "Epoch 11/200\n",
      "17/17 [==============================] - 1s 38ms/step - loss: 0.0045 - val_loss: 0.0080\n",
      "Epoch 12/200\n",
      "17/17 [==============================] - 1s 40ms/step - loss: 0.0044 - val_loss: 0.0080\n",
      "Epoch 13/200\n",
      "17/17 [==============================] - 1s 41ms/step - loss: 0.0044 - val_loss: 0.0084\n",
      "Epoch 14/200\n",
      "17/17 [==============================] - 1s 45ms/step - loss: 0.0045 - val_loss: 0.0085\n",
      "Epoch 15/200\n",
      "17/17 [==============================] - 1s 42ms/step - loss: 0.0045 - val_loss: 0.0080\n",
      "Epoch 16/200\n",
      "17/17 [==============================] - 1s 40ms/step - loss: 0.0043 - val_loss: 0.0084\n",
      "Epoch 17/200\n",
      "17/17 [==============================] - 1s 38ms/step - loss: 0.0046 - val_loss: 0.0080\n",
      "Epoch 18/200\n",
      "17/17 [==============================] - 1s 37ms/step - loss: 0.0043 - val_loss: 0.0077\n",
      "Epoch 19/200\n",
      "17/17 [==============================] - 1s 37ms/step - loss: 0.0046 - val_loss: 0.0086\n",
      "Epoch 20/200\n",
      "17/17 [==============================] - 1s 39ms/step - loss: 0.0043 - val_loss: 0.0092\n",
      "Epoch 21/200\n",
      "17/17 [==============================] - 1s 37ms/step - loss: 0.0051 - val_loss: 0.0081\n",
      "Epoch 22/200\n",
      "17/17 [==============================] - 1s 36ms/step - loss: 0.0043 - val_loss: 0.0083\n",
      "Epoch 23/200\n",
      "17/17 [==============================] - 1s 35ms/step - loss: 0.0048 - val_loss: 0.0083\n",
      "Epoch 24/200\n",
      "17/17 [==============================] - 1s 37ms/step - loss: 0.0042 - val_loss: 0.0076\n",
      "Epoch 25/200\n",
      "17/17 [==============================] - 1s 37ms/step - loss: 0.0043 - val_loss: 0.0083\n",
      "Epoch 26/200\n",
      "17/17 [==============================] - 1s 37ms/step - loss: 0.0044 - val_loss: 0.0080\n",
      "Epoch 27/200\n",
      "17/17 [==============================] - 1s 38ms/step - loss: 0.0044 - val_loss: 0.0074\n",
      "Epoch 28/200\n",
      "17/17 [==============================] - 1s 39ms/step - loss: 0.0044 - val_loss: 0.0075\n",
      "Epoch 29/200\n",
      "17/17 [==============================] - 1s 39ms/step - loss: 0.0042 - val_loss: 0.0085\n",
      "Epoch 30/200\n",
      "17/17 [==============================] - 1s 41ms/step - loss: 0.0040 - val_loss: 0.0071\n",
      "Epoch 31/200\n",
      "17/17 [==============================] - 1s 40ms/step - loss: 0.0042 - val_loss: 0.0077\n",
      "Epoch 32/200\n",
      "17/17 [==============================] - 1s 41ms/step - loss: 0.0038 - val_loss: 0.0073\n",
      "Epoch 33/200\n",
      "17/17 [==============================] - 1s 37ms/step - loss: 0.0038 - val_loss: 0.0072\n",
      "Epoch 34/200\n",
      "17/17 [==============================] - 1s 37ms/step - loss: 0.0039 - val_loss: 0.0075\n",
      "Epoch 35/200\n",
      "17/17 [==============================] - 1s 39ms/step - loss: 0.0037 - val_loss: 0.0074\n",
      "Epoch 36/200\n",
      "17/17 [==============================] - 1s 38ms/step - loss: 0.0037 - val_loss: 0.0080\n",
      "Epoch 37/200\n",
      "17/17 [==============================] - 1s 38ms/step - loss: 0.0038 - val_loss: 0.0069\n",
      "Epoch 38/200\n",
      "17/17 [==============================] - 1s 40ms/step - loss: 0.0037 - val_loss: 0.0078\n",
      "Epoch 39/200\n",
      "17/17 [==============================] - 1s 46ms/step - loss: 0.0037 - val_loss: 0.0069\n",
      "Epoch 40/200\n",
      "17/17 [==============================] - 1s 38ms/step - loss: 0.0037 - val_loss: 0.0086\n",
      "Epoch 41/200\n",
      "17/17 [==============================] - 1s 36ms/step - loss: 0.0040 - val_loss: 0.0076\n",
      "Epoch 42/200\n",
      "17/17 [==============================] - 1s 37ms/step - loss: 0.0036 - val_loss: 0.0078\n",
      "Epoch 43/200\n",
      "17/17 [==============================] - 1s 36ms/step - loss: 0.0037 - val_loss: 0.0075\n",
      "Epoch 44/200\n",
      "17/17 [==============================] - 1s 36ms/step - loss: 0.0035 - val_loss: 0.0077\n",
      "Epoch 45/200\n",
      "17/17 [==============================] - 1s 33ms/step - loss: 0.0038 - val_loss: 0.0069\n",
      "Epoch 46/200\n",
      "17/17 [==============================] - 0s 30ms/step - loss: 0.0037 - val_loss: 0.0064\n",
      "Epoch 47/200\n",
      "17/17 [==============================] - 1s 30ms/step - loss: 0.0037 - val_loss: 0.0063\n",
      "Epoch 48/200\n",
      "17/17 [==============================] - 0s 29ms/step - loss: 0.0042 - val_loss: 0.0065\n",
      "Epoch 49/200\n",
      "17/17 [==============================] - 0s 29ms/step - loss: 0.0034 - val_loss: 0.0066\n",
      "Epoch 50/200\n",
      "17/17 [==============================] - 1s 30ms/step - loss: 0.0032 - val_loss: 0.0091\n",
      "Epoch 51/200\n",
      "17/17 [==============================] - 1s 30ms/step - loss: 0.0033 - val_loss: 0.0073\n",
      "Epoch 52/200\n",
      "17/17 [==============================] - 0s 28ms/step - loss: 0.0032 - val_loss: 0.0067\n",
      "Epoch 53/200\n",
      "17/17 [==============================] - 0s 29ms/step - loss: 0.0031 - val_loss: 0.0067\n",
      "Epoch 54/200\n",
      "17/17 [==============================] - 0s 29ms/step - loss: 0.0030 - val_loss: 0.0095\n",
      "Epoch 55/200\n",
      "17/17 [==============================] - 0s 29ms/step - loss: 0.0032 - val_loss: 0.0064\n",
      "Epoch 56/200\n",
      "17/17 [==============================] - 0s 29ms/step - loss: 0.0028 - val_loss: 0.0077\n",
      "Epoch 57/200\n",
      "17/17 [==============================] - 0s 29ms/step - loss: 0.0033 - val_loss: 0.0063\n",
      "Epoch 58/200\n",
      "17/17 [==============================] - 0s 29ms/step - loss: 0.0034 - val_loss: 0.0053\n",
      "Epoch 59/200\n",
      "17/17 [==============================] - 0s 27ms/step - loss: 0.0029 - val_loss: 0.0068\n",
      "Epoch 60/200\n",
      "17/17 [==============================] - 0s 29ms/step - loss: 0.0028 - val_loss: 0.0063\n",
      "Epoch 61/200\n",
      "17/17 [==============================] - 0s 27ms/step - loss: 0.0028 - val_loss: 0.0072\n",
      "Epoch 62/200\n",
      "17/17 [==============================] - 0s 27ms/step - loss: 0.0031 - val_loss: 0.0069\n",
      "Epoch 63/200\n",
      "17/17 [==============================] - 0s 28ms/step - loss: 0.0032 - val_loss: 0.0064\n",
      "Epoch 64/200\n",
      "17/17 [==============================] - 0s 28ms/step - loss: 0.0033 - val_loss: 0.0109\n",
      "Epoch 65/200\n",
      "17/17 [==============================] - 0s 28ms/step - loss: 0.0037 - val_loss: 0.0065\n",
      "Epoch 66/200\n",
      "17/17 [==============================] - 0s 27ms/step - loss: 0.0033 - val_loss: 0.0052\n",
      "Epoch 67/200\n",
      "17/17 [==============================] - 0s 27ms/step - loss: 0.0031 - val_loss: 0.0060\n",
      "Epoch 68/200\n",
      "17/17 [==============================] - 0s 29ms/step - loss: 0.0027 - val_loss: 0.0060\n",
      "Epoch 69/200\n",
      "17/17 [==============================] - 0s 29ms/step - loss: 0.0026 - val_loss: 0.0061\n",
      "Epoch 70/200\n",
      "17/17 [==============================] - 1s 30ms/step - loss: 0.0028 - val_loss: 0.0079\n",
      "Epoch 71/200\n",
      "17/17 [==============================] - 0s 29ms/step - loss: 0.0029 - val_loss: 0.0067\n",
      "Epoch 72/200\n",
      "17/17 [==============================] - 0s 28ms/step - loss: 0.0026 - val_loss: 0.0072\n",
      "Epoch 73/200\n",
      "17/17 [==============================] - 0s 28ms/step - loss: 0.0029 - val_loss: 0.0067\n",
      "Epoch 74/200\n",
      "17/17 [==============================] - 0s 27ms/step - loss: 0.0026 - val_loss: 0.0061\n",
      "Epoch 75/200\n",
      "17/17 [==============================] - 0s 28ms/step - loss: 0.0026 - val_loss: 0.0075\n",
      "Epoch 76/200\n",
      "17/17 [==============================] - 0s 28ms/step - loss: 0.0026 - val_loss: 0.0073\n",
      "Epoch 77/200\n",
      "17/17 [==============================] - 0s 28ms/step - loss: 0.0027 - val_loss: 0.0067\n",
      "Epoch 78/200\n",
      "17/17 [==============================] - 0s 28ms/step - loss: 0.0025 - val_loss: 0.0070\n",
      "Epoch 79/200\n",
      "17/17 [==============================] - 1s 30ms/step - loss: 0.0027 - val_loss: 0.0083\n",
      "Epoch 80/200\n",
      "17/17 [==============================] - 1s 31ms/step - loss: 0.0026 - val_loss: 0.0061\n",
      "Epoch 81/200\n",
      "17/17 [==============================] - 1s 30ms/step - loss: 0.0027 - val_loss: 0.0065\n",
      "Epoch 82/200\n"
     ]
    },
    {
     "name": "stdout",
     "output_type": "stream",
     "text": [
      "17/17 [==============================] - 1s 30ms/step - loss: 0.0025 - val_loss: 0.0067\n",
      "Epoch 83/200\n",
      "17/17 [==============================] - 0s 29ms/step - loss: 0.0025 - val_loss: 0.0089\n",
      "Epoch 84/200\n",
      "17/17 [==============================] - 0s 28ms/step - loss: 0.0026 - val_loss: 0.0078\n",
      "Epoch 85/200\n",
      "17/17 [==============================] - 1s 31ms/step - loss: 0.0026 - val_loss: 0.0078\n",
      "Epoch 86/200\n",
      "17/17 [==============================] - 0s 30ms/step - loss: 0.0027 - val_loss: 0.0076\n",
      "Epoch 87/200\n",
      "17/17 [==============================] - 1s 30ms/step - loss: 0.0025 - val_loss: 0.0073\n",
      "Epoch 88/200\n",
      "17/17 [==============================] - 1s 30ms/step - loss: 0.0025 - val_loss: 0.0070\n",
      "Epoch 89/200\n",
      "17/17 [==============================] - 0s 29ms/step - loss: 0.0023 - val_loss: 0.0070\n",
      "Epoch 90/200\n",
      "17/17 [==============================] - 0s 27ms/step - loss: 0.0024 - val_loss: 0.0075\n",
      "Epoch 91/200\n",
      "17/17 [==============================] - 0s 28ms/step - loss: 0.0025 - val_loss: 0.0094\n",
      "Epoch 92/200\n",
      "17/17 [==============================] - 0s 28ms/step - loss: 0.0026 - val_loss: 0.0074\n",
      "Epoch 93/200\n",
      "17/17 [==============================] - 0s 27ms/step - loss: 0.0025 - val_loss: 0.0088\n",
      "Epoch 94/200\n",
      "17/17 [==============================] - 0s 27ms/step - loss: 0.0023 - val_loss: 0.0075\n",
      "Epoch 95/200\n",
      "17/17 [==============================] - 0s 27ms/step - loss: 0.0025 - val_loss: 0.0066\n",
      "Epoch 96/200\n",
      "17/17 [==============================] - 0s 28ms/step - loss: 0.0023 - val_loss: 0.0096\n",
      "Epoch 97/200\n",
      "17/17 [==============================] - 0s 27ms/step - loss: 0.0025 - val_loss: 0.0076\n",
      "Epoch 98/200\n",
      "17/17 [==============================] - 0s 28ms/step - loss: 0.0026 - val_loss: 0.0069\n",
      "Epoch 99/200\n",
      "17/17 [==============================] - 0s 27ms/step - loss: 0.0025 - val_loss: 0.0089\n",
      "Epoch 100/200\n",
      "17/17 [==============================] - 0s 27ms/step - loss: 0.0025 - val_loss: 0.0088\n",
      "Epoch 101/200\n",
      "17/17 [==============================] - 0s 27ms/step - loss: 0.0027 - val_loss: 0.0071\n",
      "Epoch 102/200\n",
      "17/17 [==============================] - 0s 27ms/step - loss: 0.0026 - val_loss: 0.0061\n",
      "Epoch 103/200\n",
      "17/17 [==============================] - 0s 28ms/step - loss: 0.0024 - val_loss: 0.0065\n",
      "Epoch 104/200\n",
      "17/17 [==============================] - 0s 28ms/step - loss: 0.0024 - val_loss: 0.0067\n",
      "Epoch 105/200\n",
      "17/17 [==============================] - 0s 27ms/step - loss: 0.0024 - val_loss: 0.0066\n",
      "Epoch 106/200\n",
      "17/17 [==============================] - 0s 27ms/step - loss: 0.0023 - val_loss: 0.0072\n",
      "Epoch 107/200\n",
      "17/17 [==============================] - 0s 27ms/step - loss: 0.0024 - val_loss: 0.0076\n",
      "Epoch 108/200\n",
      "17/17 [==============================] - 0s 27ms/step - loss: 0.0023 - val_loss: 0.0068\n",
      "Epoch 109/200\n",
      "17/17 [==============================] - 0s 27ms/step - loss: 0.0025 - val_loss: 0.0078\n",
      "Epoch 110/200\n",
      "17/17 [==============================] - 0s 27ms/step - loss: 0.0023 - val_loss: 0.0071\n",
      "Epoch 111/200\n",
      "17/17 [==============================] - 0s 28ms/step - loss: 0.0023 - val_loss: 0.0089\n",
      "Epoch 112/200\n",
      "17/17 [==============================] - 0s 28ms/step - loss: 0.0023 - val_loss: 0.0075\n",
      "Epoch 113/200\n",
      "17/17 [==============================] - 0s 28ms/step - loss: 0.0023 - val_loss: 0.0071\n",
      "Epoch 114/200\n",
      "17/17 [==============================] - 0s 27ms/step - loss: 0.0024 - val_loss: 0.0078\n",
      "Epoch 115/200\n",
      "17/17 [==============================] - 0s 27ms/step - loss: 0.0022 - val_loss: 0.0096\n",
      "Epoch 116/200\n",
      "17/17 [==============================] - 0s 27ms/step - loss: 0.0023 - val_loss: 0.0092\n",
      "Epoch 117/200\n",
      "17/17 [==============================] - 0s 27ms/step - loss: 0.0025 - val_loss: 0.0072\n",
      "Epoch 118/200\n",
      "17/17 [==============================] - 0s 27ms/step - loss: 0.0022 - val_loss: 0.0088\n",
      "Epoch 119/200\n",
      "17/17 [==============================] - 0s 27ms/step - loss: 0.0022 - val_loss: 0.0084\n",
      "Epoch 120/200\n",
      "17/17 [==============================] - 0s 27ms/step - loss: 0.0022 - val_loss: 0.0095\n",
      "Epoch 121/200\n",
      "17/17 [==============================] - 0s 27ms/step - loss: 0.0023 - val_loss: 0.0080\n",
      "Epoch 122/200\n",
      "17/17 [==============================] - 0s 27ms/step - loss: 0.0022 - val_loss: 0.0083\n",
      "Epoch 123/200\n",
      "17/17 [==============================] - 0s 27ms/step - loss: 0.0023 - val_loss: 0.0082\n",
      "Epoch 124/200\n",
      "17/17 [==============================] - 0s 27ms/step - loss: 0.0020 - val_loss: 0.0092\n",
      "Epoch 125/200\n",
      "17/17 [==============================] - 0s 27ms/step - loss: 0.0022 - val_loss: 0.0113\n",
      "Epoch 126/200\n",
      "17/17 [==============================] - 0s 27ms/step - loss: 0.0023 - val_loss: 0.0092\n",
      "Epoch 127/200\n",
      "17/17 [==============================] - 0s 28ms/step - loss: 0.0025 - val_loss: 0.0066\n",
      "Epoch 128/200\n",
      "17/17 [==============================] - 0s 28ms/step - loss: 0.0022 - val_loss: 0.0089\n",
      "Epoch 129/200\n",
      "17/17 [==============================] - 0s 28ms/step - loss: 0.0022 - val_loss: 0.0080\n",
      "Epoch 130/200\n",
      "17/17 [==============================] - 0s 29ms/step - loss: 0.0022 - val_loss: 0.0106\n",
      "Epoch 131/200\n",
      "17/17 [==============================] - 0s 28ms/step - loss: 0.0021 - val_loss: 0.0100\n",
      "Epoch 132/200\n",
      "17/17 [==============================] - 0s 28ms/step - loss: 0.0021 - val_loss: 0.0101\n",
      "Epoch 133/200\n",
      "17/17 [==============================] - 0s 28ms/step - loss: 0.0021 - val_loss: 0.0077\n",
      "Epoch 134/200\n",
      "17/17 [==============================] - 1s 30ms/step - loss: 0.0020 - val_loss: 0.0083\n",
      "Epoch 135/200\n",
      "17/17 [==============================] - 0s 27ms/step - loss: 0.0021 - val_loss: 0.0081\n",
      "Epoch 136/200\n",
      "17/17 [==============================] - 0s 27ms/step - loss: 0.0020 - val_loss: 0.0126\n",
      "Epoch 137/200\n",
      "17/17 [==============================] - 1s 30ms/step - loss: 0.0019 - val_loss: 0.0104\n",
      "Epoch 138/200\n",
      "17/17 [==============================] - 0s 28ms/step - loss: 0.0023 - val_loss: 0.0144\n",
      "Epoch 139/200\n",
      "17/17 [==============================] - 0s 28ms/step - loss: 0.0022 - val_loss: 0.0088\n",
      "Epoch 140/200\n",
      "17/17 [==============================] - 1s 30ms/step - loss: 0.0021 - val_loss: 0.0097\n",
      "Epoch 141/200\n",
      "17/17 [==============================] - 0s 29ms/step - loss: 0.0021 - val_loss: 0.0134\n",
      "Epoch 142/200\n",
      "17/17 [==============================] - 1s 30ms/step - loss: 0.0022 - val_loss: 0.0103\n",
      "Epoch 143/200\n",
      "17/17 [==============================] - 0s 28ms/step - loss: 0.0022 - val_loss: 0.0095\n",
      "Epoch 144/200\n",
      "17/17 [==============================] - 0s 27ms/step - loss: 0.0020 - val_loss: 0.0131\n",
      "Epoch 145/200\n",
      "17/17 [==============================] - 0s 29ms/step - loss: 0.0021 - val_loss: 0.0082\n",
      "Epoch 146/200\n",
      "17/17 [==============================] - 1s 30ms/step - loss: 0.0020 - val_loss: 0.0121\n",
      "Epoch 147/200\n",
      "17/17 [==============================] - 1s 31ms/step - loss: 0.0020 - val_loss: 0.0105\n",
      "Epoch 148/200\n",
      "17/17 [==============================] - 1s 30ms/step - loss: 0.0019 - val_loss: 0.0104\n",
      "Epoch 149/200\n",
      "17/17 [==============================] - 0s 28ms/step - loss: 0.0019 - val_loss: 0.0124\n",
      "Epoch 150/200\n",
      "17/17 [==============================] - 0s 29ms/step - loss: 0.0018 - val_loss: 0.0108\n",
      "Epoch 151/200\n",
      "17/17 [==============================] - 0s 28ms/step - loss: 0.0020 - val_loss: 0.0103\n",
      "Epoch 152/200\n",
      "17/17 [==============================] - 1s 30ms/step - loss: 0.0019 - val_loss: 0.0110\n",
      "Epoch 153/200\n",
      "17/17 [==============================] - 0s 29ms/step - loss: 0.0019 - val_loss: 0.0118\n",
      "Epoch 154/200\n",
      "17/17 [==============================] - 1s 30ms/step - loss: 0.0019 - val_loss: 0.0110\n",
      "Epoch 155/200\n",
      "17/17 [==============================] - 0s 29ms/step - loss: 0.0020 - val_loss: 0.0134\n",
      "Epoch 156/200\n",
      "17/17 [==============================] - 0s 28ms/step - loss: 0.0020 - val_loss: 0.0102\n",
      "Epoch 157/200\n",
      "17/17 [==============================] - 0s 27ms/step - loss: 0.0018 - val_loss: 0.0115\n",
      "Epoch 158/200\n",
      "17/17 [==============================] - 0s 28ms/step - loss: 0.0018 - val_loss: 0.0134\n",
      "Epoch 159/200\n",
      "17/17 [==============================] - 0s 27ms/step - loss: 0.0020 - val_loss: 0.0105\n",
      "Epoch 160/200\n",
      "17/17 [==============================] - 0s 28ms/step - loss: 0.0017 - val_loss: 0.0139\n",
      "Epoch 161/200\n",
      "17/17 [==============================] - 0s 27ms/step - loss: 0.0019 - val_loss: 0.0114\n",
      "Epoch 162/200\n"
     ]
    },
    {
     "name": "stdout",
     "output_type": "stream",
     "text": [
      "17/17 [==============================] - 0s 27ms/step - loss: 0.0018 - val_loss: 0.0130\n",
      "Epoch 163/200\n",
      "17/17 [==============================] - 0s 29ms/step - loss: 0.0022 - val_loss: 0.0132\n",
      "Epoch 164/200\n",
      "17/17 [==============================] - 0s 28ms/step - loss: 0.0021 - val_loss: 0.0098\n",
      "Epoch 165/200\n",
      "17/17 [==============================] - 0s 28ms/step - loss: 0.0019 - val_loss: 0.0150\n",
      "Epoch 166/200\n",
      "17/17 [==============================] - 0s 27ms/step - loss: 0.0021 - val_loss: 0.0079\n",
      "Epoch 167/200\n",
      "17/17 [==============================] - 0s 27ms/step - loss: 0.0021 - val_loss: 0.0121\n",
      "Epoch 168/200\n",
      "17/17 [==============================] - 0s 28ms/step - loss: 0.0021 - val_loss: 0.0131\n",
      "Epoch 169/200\n",
      "17/17 [==============================] - 0s 27ms/step - loss: 0.0021 - val_loss: 0.0115\n",
      "Epoch 170/200\n",
      "17/17 [==============================] - 0s 28ms/step - loss: 0.0020 - val_loss: 0.0134\n",
      "Epoch 171/200\n",
      "17/17 [==============================] - 0s 29ms/step - loss: 0.0019 - val_loss: 0.0137\n",
      "Epoch 172/200\n",
      "17/17 [==============================] - 0s 27ms/step - loss: 0.0022 - val_loss: 0.0076\n",
      "Epoch 173/200\n",
      "17/17 [==============================] - 0s 29ms/step - loss: 0.0023 - val_loss: 0.0060\n",
      "Epoch 174/200\n",
      "17/17 [==============================] - 0s 28ms/step - loss: 0.0021 - val_loss: 0.0079\n",
      "Epoch 175/200\n",
      "17/17 [==============================] - 0s 27ms/step - loss: 0.0019 - val_loss: 0.0127\n",
      "Epoch 176/200\n",
      "17/17 [==============================] - 0s 27ms/step - loss: 0.0018 - val_loss: 0.0095\n",
      "Epoch 177/200\n",
      "17/17 [==============================] - 0s 28ms/step - loss: 0.0019 - val_loss: 0.0127\n",
      "Epoch 178/200\n",
      "17/17 [==============================] - 0s 28ms/step - loss: 0.0018 - val_loss: 0.0106\n",
      "Epoch 179/200\n",
      "17/17 [==============================] - 0s 27ms/step - loss: 0.0017 - val_loss: 0.0115\n",
      "Epoch 180/200\n",
      "17/17 [==============================] - 0s 28ms/step - loss: 0.0019 - val_loss: 0.0134\n",
      "Epoch 181/200\n",
      "17/17 [==============================] - 0s 27ms/step - loss: 0.0018 - val_loss: 0.0119\n",
      "Epoch 182/200\n",
      "17/17 [==============================] - 0s 28ms/step - loss: 0.0018 - val_loss: 0.0115\n",
      "Epoch 183/200\n",
      "17/17 [==============================] - 0s 28ms/step - loss: 0.0017 - val_loss: 0.0135\n",
      "Epoch 184/200\n",
      "17/17 [==============================] - 0s 29ms/step - loss: 0.0017 - val_loss: 0.0115\n",
      "Epoch 185/200\n",
      "17/17 [==============================] - 0s 27ms/step - loss: 0.0018 - val_loss: 0.0113\n",
      "Epoch 186/200\n",
      "17/17 [==============================] - 0s 27ms/step - loss: 0.0017 - val_loss: 0.0147\n",
      "Epoch 187/200\n",
      "17/17 [==============================] - 0s 28ms/step - loss: 0.0016 - val_loss: 0.0147\n",
      "Epoch 188/200\n",
      "17/17 [==============================] - 0s 27ms/step - loss: 0.0018 - val_loss: 0.0118\n",
      "Epoch 189/200\n",
      "17/17 [==============================] - 0s 26ms/step - loss: 0.0020 - val_loss: 0.0128\n",
      "Epoch 190/200\n",
      "17/17 [==============================] - 0s 28ms/step - loss: 0.0018 - val_loss: 0.0122\n",
      "Epoch 191/200\n",
      "17/17 [==============================] - 0s 27ms/step - loss: 0.0018 - val_loss: 0.0150\n",
      "Epoch 192/200\n",
      "17/17 [==============================] - 0s 28ms/step - loss: 0.0017 - val_loss: 0.0121\n",
      "Epoch 193/200\n",
      "17/17 [==============================] - 0s 27ms/step - loss: 0.0018 - val_loss: 0.0161\n",
      "Epoch 194/200\n",
      "17/17 [==============================] - 0s 28ms/step - loss: 0.0017 - val_loss: 0.0133\n",
      "Epoch 195/200\n",
      "17/17 [==============================] - 0s 28ms/step - loss: 0.0017 - val_loss: 0.0153\n",
      "Epoch 196/200\n",
      "17/17 [==============================] - 0s 28ms/step - loss: 0.0016 - val_loss: 0.0138\n",
      "Epoch 197/200\n",
      "17/17 [==============================] - 0s 28ms/step - loss: 0.0017 - val_loss: 0.0144\n",
      "Epoch 198/200\n",
      "17/17 [==============================] - 0s 29ms/step - loss: 0.0016 - val_loss: 0.0138\n",
      "Epoch 199/200\n",
      "17/17 [==============================] - 0s 27ms/step - loss: 0.0017 - val_loss: 0.0145\n",
      "Epoch 200/200\n",
      "17/17 [==============================] - 0s 28ms/step - loss: 0.0016 - val_loss: 0.0125\n"
     ]
    },
    {
     "data": {
      "text/plain": [
       "<keras.callbacks.History at 0x2386c531d48>"
      ]
     },
     "execution_count": 27,
     "metadata": {},
     "output_type": "execute_result"
    }
   ],
   "source": [
    "model.fit(X_train, Y_train, validation_data=(X_test, Y_test), epochs=200, batch_size=32, verbose=1)"
   ]
  },
  {
   "cell_type": "code",
   "execution_count": 28,
   "id": "70978904",
   "metadata": {},
   "outputs": [
    {
     "data": {
      "text/plain": [
       "[<matplotlib.lines.Line2D at 0x2386c4af1c8>]"
      ]
     },
     "execution_count": 28,
     "metadata": {},
     "output_type": "execute_result"
    },
    {
     "data": {
      "image/png": "[encoded data removed]",
      "text/plain": [
       "<Figure size 432x288 with 1 Axes>"
      ]
     },
     "metadata": {
      "needs_background": "light"
     },
     "output_type": "display_data"
    }
   ],
   "source": [
    "loss_per_epoch = model.history.history['loss']\n",
    "plt.plot(range(len(loss_per_epoch)), loss_per_epoch)"
   ]
  },
  {
   "cell_type": "code",
   "execution_count": 29,
   "id": "aedaea4a",
   "metadata": {},
   "outputs": [],
   "source": [
    "train_predict=model.predict(X_train)\n",
    "test_predict=model.predict(X_test)"
   ]
  },
  {
   "cell_type": "code",
   "execution_count": 30,
   "id": "891264b3",
   "metadata": {},
   "outputs": [],
   "source": [
    "# Transform back to original value\n",
    "train_predict=scaler.inverse_transform(train_predict)\n",
    "test_predict=scaler.inverse_transform(test_predict)"
   ]
  },
  {
   "cell_type": "code",
   "execution_count": 31,
   "id": "066295da",
   "metadata": {},
   "outputs": [
    {
     "data": {
      "text/plain": [
       "3213.647460441173"
      ]
     },
     "execution_count": 31,
     "metadata": {},
     "output_type": "execute_result"
    }
   ],
   "source": [
    "# Calculate RMSE performance metrics\n",
    "import math\n",
    "from sklearn.metrics import mean_squared_error\n",
    "math.sqrt(mean_squared_error(Y_train, train_predict))"
   ]
  },
  {
   "cell_type": "code",
   "execution_count": 32,
   "id": "c294771f",
   "metadata": {},
   "outputs": [
    {
     "data": {
      "text/plain": [
       "4854.609356065635"
      ]
     },
     "execution_count": 32,
     "metadata": {},
     "output_type": "execute_result"
    }
   ],
   "source": [
    "math.sqrt(mean_squared_error(Y_test, test_predict))"
   ]
  },
  {
   "cell_type": "code",
   "execution_count": 33,
   "id": "f604fd1e",
   "metadata": {},
   "outputs": [
    {
     "data": {
      "text/plain": [
       "array([[   58.55701 ],\n",
       "       [   54.043262],\n",
       "       [   62.896255],\n",
       "       [   59.103783],\n",
       "       [  122.83333 ],\n",
       "       [  105.250465],\n",
       "       [   81.15857 ],\n",
       "       [   85.849724],\n",
       "       [  312.91962 ],\n",
       "       [  216.65854 ],\n",
       "       [  146.06932 ],\n",
       "       [  143.78506 ],\n",
       "       [  149.2468  ],\n",
       "       [  134.22763 ],\n",
       "       [  122.26446 ],\n",
       "       [  119.96735 ],\n",
       "       [  106.59547 ],\n",
       "       [  109.591225],\n",
       "       [   99.904305],\n",
       "       [   93.07586 ],\n",
       "       [  127.48899 ],\n",
       "       [  125.00127 ],\n",
       "       [  124.817085],\n",
       "       [  124.82138 ],\n",
       "       [  112.922554],\n",
       "       [   99.86769 ],\n",
       "       [   98.381386],\n",
       "       [   94.41299 ],\n",
       "       [   93.26513 ],\n",
       "       [   96.06115 ],\n",
       "       [   86.92824 ],\n",
       "       [   71.70921 ],\n",
       "       [   62.960766],\n",
       "       [   65.85852 ],\n",
       "       [   59.06941 ],\n",
       "       [   57.25637 ],\n",
       "       [   63.9173  ],\n",
       "       [   62.557327],\n",
       "       [   68.665436],\n",
       "       [   68.65639 ],\n",
       "       [   68.49362 ],\n",
       "       [   77.29896 ],\n",
       "       [   77.003815],\n",
       "       [   70.56746 ],\n",
       "       [   68.69524 ],\n",
       "       [   67.84152 ],\n",
       "       [   75.00505 ],\n",
       "       [   72.45881 ],\n",
       "       [   76.66277 ],\n",
       "       [   86.14281 ],\n",
       "       [   95.60228 ],\n",
       "       [   83.89553 ],\n",
       "       [   80.60048 ],\n",
       "       [   81.961426],\n",
       "       [   90.6256  ],\n",
       "       [   95.425385],\n",
       "       [  101.37557 ],\n",
       "       [   97.2685  ],\n",
       "       [   87.55907 ],\n",
       "       [   86.28518 ],\n",
       "       [  100.52345 ],\n",
       "       [   99.6451  ],\n",
       "       [  107.93441 ],\n",
       "       [  110.68026 ],\n",
       "       [  102.25979 ],\n",
       "       [  116.3878  ],\n",
       "       [  135.77249 ],\n",
       "       [  155.5199  ],\n",
       "       [  157.0214  ],\n",
       "       [  160.09068 ],\n",
       "       [  495.90634 ],\n",
       "       [  356.52008 ],\n",
       "       [  259.07578 ],\n",
       "       [  220.3746  ],\n",
       "       [  228.704   ],\n",
       "       [  228.50018 ],\n",
       "       [  226.24461 ],\n",
       "       [  204.10739 ],\n",
       "       [  184.23145 ],\n",
       "       [  172.79602 ],\n",
       "       [  147.02544 ],\n",
       "       [  147.40652 ],\n",
       "       [  147.81647 ],\n",
       "       [  139.31683 ],\n",
       "       [  135.78435 ],\n",
       "       [  150.69049 ],\n",
       "       [  143.49849 ],\n",
       "       [  133.84355 ],\n",
       "       [  127.16341 ],\n",
       "       [  162.84111 ],\n",
       "       [  167.15042 ],\n",
       "       [  172.28955 ],\n",
       "       [  142.14247 ],\n",
       "       [  132.70326 ],\n",
       "       [  135.21007 ],\n",
       "       [  132.84406 ],\n",
       "       [  152.7256  ],\n",
       "       [  173.35762 ],\n",
       "       [  168.1535  ],\n",
       "       [  190.58984 ],\n",
       "       [  246.40338 ],\n",
       "       [  251.10129 ],\n",
       "       [  222.52766 ],\n",
       "       [  214.86017 ],\n",
       "       [  223.17078 ],\n",
       "       [  250.02045 ],\n",
       "       [  311.6552  ],\n",
       "       [  336.05414 ],\n",
       "       [  269.2957  ],\n",
       "       [  231.20367 ],\n",
       "       [  229.0071  ],\n",
       "       [  238.34569 ],\n",
       "       [  283.5009  ],\n",
       "       [  247.32388 ],\n",
       "       [  266.97327 ],\n",
       "       [  232.0885  ],\n",
       "       [  237.30415 ],\n",
       "       [  298.12772 ],\n",
       "       [  294.1466  ],\n",
       "       [  292.60944 ],\n",
       "       [  453.00262 ],\n",
       "       [  431.66275 ],\n",
       "       [  339.2448  ],\n",
       "       [  334.1845  ],\n",
       "       [  383.51678 ],\n",
       "       [  378.7982  ],\n",
       "       [  380.0654  ],\n",
       "       [  457.6594  ],\n",
       "       [  428.09998 ],\n",
       "       [  362.71848 ],\n",
       "       [  370.30087 ],\n",
       "       [  439.53793 ],\n",
       "       [  467.0233  ],\n",
       "       [  502.4926  ],\n",
       "       [  480.8281  ],\n",
       "       [  492.037   ],\n",
       "       [  436.4967  ],\n",
       "       [  432.8884  ],\n",
       "       [  530.7268  ],\n",
       "       [  538.5239  ],\n",
       "       [  560.0114  ],\n",
       "       [  606.3526  ],\n",
       "       [  642.806   ],\n",
       "       [  656.6419  ],\n",
       "       [  680.4399  ],\n",
       "       [  766.59705 ],\n",
       "       [  768.2637  ],\n",
       "       [  884.4731  ],\n",
       "       [  834.0112  ],\n",
       "       [  796.1056  ],\n",
       "       [  820.3686  ],\n",
       "       [  865.3011  ],\n",
       "       [  833.6852  ],\n",
       "       [  863.76917 ],\n",
       "       [  894.44214 ],\n",
       "       [  939.96625 ],\n",
       "       [  860.4421  ],\n",
       "       [  779.6211  ],\n",
       "       [  876.113   ],\n",
       "       [  910.35876 ],\n",
       "       [ 1024.861   ],\n",
       "       [  995.6223  ],\n",
       "       [  937.035   ],\n",
       "       [  813.59875 ],\n",
       "       [  745.9455  ],\n",
       "       [  727.4763  ],\n",
       "       [  846.4266  ],\n",
       "       [  827.733   ],\n",
       "       [  854.89185 ],\n",
       "       [  826.76825 ],\n",
       "       [  810.4274  ],\n",
       "       [  718.8244  ],\n",
       "       [  796.29944 ],\n",
       "       [  816.9643  ],\n",
       "       [  868.6524  ],\n",
       "       [  961.1808  ],\n",
       "       [  896.0582  ],\n",
       "       [  821.118   ],\n",
       "       [  795.31757 ],\n",
       "       [  819.7409  ],\n",
       "       [  811.8581  ],\n",
       "       [  800.7688  ],\n",
       "       [  785.9047  ],\n",
       "       [  742.1288  ],\n",
       "       [  764.07324 ],\n",
       "       [  677.0822  ],\n",
       "       [  670.3428  ],\n",
       "       [  746.7325  ],\n",
       "       [  802.4812  ],\n",
       "       [  865.37646 ],\n",
       "       [  881.90393 ],\n",
       "       [  816.6235  ],\n",
       "       [  825.56714 ],\n",
       "       [  765.59015 ],\n",
       "       [  939.0823  ],\n",
       "       [  973.0297  ],\n",
       "       [ 1050.7496  ],\n",
       "       [ 1075.3118  ],\n",
       "       [ 1138.105   ],\n",
       "       [  995.4513  ],\n",
       "       [ 1021.2132  ],\n",
       "       [ 1161.4214  ],\n",
       "       [ 1073.5153  ],\n",
       "       [ 1050.5908  ],\n",
       "       [ 1231.9185  ],\n",
       "       [ 1077.2163  ],\n",
       "       [ 1004.645   ],\n",
       "       [ 1079.9841  ],\n",
       "       [ 1026.5898  ],\n",
       "       [ 1126.9109  ],\n",
       "       [ 1178.3577  ],\n",
       "       [ 1169.0734  ],\n",
       "       [ 1056.7897  ],\n",
       "       [  940.3301  ],\n",
       "       [  968.3375  ],\n",
       "       [ 1177.288   ],\n",
       "       [ 1173.1938  ],\n",
       "       [ 1576.4277  ],\n",
       "       [ 1489.5957  ],\n",
       "       [ 1380.6469  ],\n",
       "       [ 1587.4467  ],\n",
       "       [ 1651.7     ],\n",
       "       [ 1585.6995  ],\n",
       "       [ 1645.8341  ],\n",
       "       [ 1646.5847  ],\n",
       "       [ 1738.4779  ],\n",
       "       [ 1820.7268  ],\n",
       "       [ 1667.744   ],\n",
       "       [ 1518.7612  ],\n",
       "       [ 1778.9122  ],\n",
       "       [ 1951.376   ],\n",
       "       [ 1865.4004  ],\n",
       "       [ 1917.6342  ],\n",
       "       [ 1752.1749  ],\n",
       "       [ 1842.5062  ],\n",
       "       [ 1748.1552  ],\n",
       "       [ 1778.482   ],\n",
       "       [ 1639.5125  ],\n",
       "       [ 1654.8887  ],\n",
       "       [ 1734.468   ],\n",
       "       [ 1392.2157  ],\n",
       "       [ 1560.1222  ],\n",
       "       [ 1339.6947  ],\n",
       "       [ 1584.1444  ],\n",
       "       [ 1675.0734  ],\n",
       "       [ 1711.1011  ],\n",
       "       [ 1791.1766  ],\n",
       "       [ 1787.4342  ],\n",
       "       [ 1673.1733  ],\n",
       "       [ 1798.3407  ],\n",
       "       [ 1868.7567  ],\n",
       "       [ 1924.0112  ],\n",
       "       [ 1916.2867  ],\n",
       "       [ 2224.2852  ],\n",
       "       [ 2310.5073  ],\n",
       "       [ 2226.9734  ],\n",
       "       [ 2227.1714  ],\n",
       "       [ 2546.9424  ],\n",
       "       [ 2561.2217  ],\n",
       "       [ 2975.9634  ],\n",
       "       [ 2686.01    ],\n",
       "       [ 2899.7537  ],\n",
       "       [ 2878.6506  ],\n",
       "       [ 3055.98    ],\n",
       "       [ 3156.3777  ],\n",
       "       [ 3274.219   ],\n",
       "       [ 3218.7727  ],\n",
       "       [ 3891.4443  ],\n",
       "       [ 3492.4563  ],\n",
       "       [ 3749.6926  ],\n",
       "       [ 3595.0864  ],\n",
       "       [ 4862.189   ],\n",
       "       [ 5206.7905  ],\n",
       "       [ 5279.243   ],\n",
       "       [ 5100.3027  ],\n",
       "       [ 5918.0703  ],\n",
       "       [ 4860.4263  ],\n",
       "       [ 4623.766   ],\n",
       "       [ 4165.3423  ],\n",
       "       [ 4124.9395  ],\n",
       "       [ 3614.0457  ],\n",
       "       [ 3326.4841  ],\n",
       "       [ 4009.9023  ],\n",
       "       [ 3036.7458  ],\n",
       "       [ 2266.4834  ],\n",
       "       [ 1780.13    ],\n",
       "       [ 1721.8986  ],\n",
       "       [ 2173.7783  ],\n",
       "       [ 2394.3997  ],\n",
       "       [ 3314.487   ],\n",
       "       [ 3046.663   ],\n",
       "       [ 3199.0784  ],\n",
       "       [ 5370.7793  ],\n",
       "       [ 5593.3496  ],\n",
       "       [ 2779.4294  ],\n",
       "       [ 1896.7811  ],\n",
       "       [ 2615.9492  ],\n",
       "       [ 3190.673   ],\n",
       "       [ 4268.8057  ],\n",
       "       [ 4921.723   ],\n",
       "       [ 3131.3499  ],\n",
       "       [ 2350.0513  ],\n",
       "       [ 2435.424   ],\n",
       "       [ 2053.3557  ],\n",
       "       [ 1921.0802  ],\n",
       "       [ 2189.5103  ],\n",
       "       [ 2306.6384  ],\n",
       "       [ 2221.4812  ],\n",
       "       [ 2286.1926  ],\n",
       "       [ 2281.5125  ],\n",
       "       [ 2005.1235  ],\n",
       "       [ 2135.7937  ],\n",
       "       [ 2381.3928  ],\n",
       "       [ 2585.4072  ],\n",
       "       [ 2443.418   ],\n",
       "       [ 2064.2283  ],\n",
       "       [ 2217.0972  ],\n",
       "       [ 2186.9666  ],\n",
       "       [ 2197.84    ],\n",
       "       [ 2026.3306  ],\n",
       "       [ 2129.3755  ],\n",
       "       [ 1983.6946  ],\n",
       "       [ 1886.6621  ],\n",
       "       [ 1914.4117  ],\n",
       "       [ 1691.9749  ],\n",
       "       [ 1444.4706  ],\n",
       "       [ 1691.0642  ],\n",
       "       [ 1564.1526  ],\n",
       "       [ 1557.555   ],\n",
       "       [ 1675.0756  ],\n",
       "       [ 1595.9404  ],\n",
       "       [ 1385.5231  ],\n",
       "       [ 1313.7451  ],\n",
       "       [ 1631.4854  ],\n",
       "       [ 1512.9791  ],\n",
       "       [ 1477.0353  ],\n",
       "       [ 1481.7241  ],\n",
       "       [ 1307.8336  ],\n",
       "       [ 1176.4192  ],\n",
       "       [ 1081.9135  ],\n",
       "       [ 1262.709   ],\n",
       "       [ 1288.0262  ],\n",
       "       [ 1324.3689  ],\n",
       "       [ 1192.7799  ],\n",
       "       [ 1299.2607  ],\n",
       "       [ 1419.5338  ],\n",
       "       [ 1329.668   ],\n",
       "       [ 1477.385   ],\n",
       "       [ 1619.2783  ],\n",
       "       [ 1793.0033  ],\n",
       "       [ 1834.8011  ],\n",
       "       [ 1704.6277  ],\n",
       "       [ 1654.1561  ],\n",
       "       [ 1671.7325  ],\n",
       "       [ 1864.6118  ],\n",
       "       [ 1981.4354  ],\n",
       "       [ 1826.3489  ],\n",
       "       [ 1890.0143  ],\n",
       "       [ 1799.0802  ],\n",
       "       [ 1629.0068  ],\n",
       "       [ 1614.266   ],\n",
       "       [ 1958.0968  ],\n",
       "       [ 1908.7178  ],\n",
       "       [ 1925.1913  ],\n",
       "       [ 1846.4573  ],\n",
       "       [ 1813.0055  ],\n",
       "       [ 1655.7626  ],\n",
       "       [ 1554.2692  ],\n",
       "       [ 1717.1448  ],\n",
       "       [ 1649.2642  ],\n",
       "       [ 1605.9672  ],\n",
       "       [ 1607.0166  ],\n",
       "       [ 2042.0502  ],\n",
       "       [ 2455.44    ],\n",
       "       [ 1685.3047  ],\n",
       "       [ 1638.9847  ],\n",
       "       [ 1942.32    ],\n",
       "       [ 1787.7322  ],\n",
       "       [ 1490.884   ],\n",
       "       [ 1415.5099  ],\n",
       "       [ 1420.4259  ],\n",
       "       [ 1421.4119  ],\n",
       "       [ 1575.2764  ],\n",
       "       [ 1532.1191  ],\n",
       "       [ 1569.031   ],\n",
       "       [ 1659.4553  ],\n",
       "       [ 1623.5392  ],\n",
       "       [ 1641.6213  ],\n",
       "       [ 1675.1697  ],\n",
       "       [ 1822.5026  ],\n",
       "       [ 1762.2992  ],\n",
       "       [ 1604.7137  ],\n",
       "       [ 1759.467   ],\n",
       "       [ 1783.6444  ],\n",
       "       [ 1686.2582  ],\n",
       "       [ 1536.9651  ],\n",
       "       [ 1672.4806  ],\n",
       "       [ 1617.0367  ],\n",
       "       [ 1547.7875  ],\n",
       "       [ 1656.6328  ],\n",
       "       [ 1615.5466  ],\n",
       "       [ 1589.0201  ],\n",
       "       [ 1572.1772  ],\n",
       "       [ 1944.3044  ],\n",
       "       [ 1835.8213  ],\n",
       "       [ 1958.9404  ],\n",
       "       [ 2019.152   ],\n",
       "       [ 2045.5575  ],\n",
       "       [ 1928.3228  ],\n",
       "       [ 2104.0784  ],\n",
       "       [ 2264.1667  ],\n",
       "       [ 2591.0166  ],\n",
       "       [ 3147.7139  ],\n",
       "       [ 3324.214   ],\n",
       "       [ 3710.2324  ],\n",
       "       [ 3319.4238  ],\n",
       "       [ 3642.1802  ],\n",
       "       [ 4563.276   ],\n",
       "       [ 5152.838   ],\n",
       "       [ 5228.191   ],\n",
       "       [ 5376.4556  ],\n",
       "       [ 6075.7466  ],\n",
       "       [ 6436.8228  ],\n",
       "       [ 6984.7485  ],\n",
       "       [ 7222.5312  ],\n",
       "       [ 7263.349   ],\n",
       "       [ 7669.5728  ],\n",
       "       [ 8444.113   ],\n",
       "       [ 9020.949   ],\n",
       "       [ 9353.992   ],\n",
       "       [ 9080.617   ],\n",
       "       [10084.323   ],\n",
       "       [10831.322   ],\n",
       "       [11601.447   ],\n",
       "       [10508.174   ],\n",
       "       [10138.452   ],\n",
       "       [ 9655.777   ],\n",
       "       [10736.903   ],\n",
       "       [12464.318   ],\n",
       "       [13766.993   ],\n",
       "       [15327.964   ],\n",
       "       [15127.665   ],\n",
       "       [13122.6     ],\n",
       "       [10887.131   ],\n",
       "       [ 9884.081   ],\n",
       "       [10624.71    ],\n",
       "       [11735.609   ],\n",
       "       [11747.675   ],\n",
       "       [11212.472   ],\n",
       "       [ 8475.775   ],\n",
       "       [ 6734.023   ],\n",
       "       [ 7132.077   ],\n",
       "       [ 8487.387   ],\n",
       "       [10023.358   ],\n",
       "       [ 9757.203   ],\n",
       "       [ 7384.3403  ],\n",
       "       [ 4709.8853  ],\n",
       "       [ 3372.7014  ],\n",
       "       [ 3790.4272  ],\n",
       "       [ 5070.1953  ],\n",
       "       [ 6625.0557  ],\n",
       "       [ 7422.9697  ],\n",
       "       [ 7441.4097  ],\n",
       "       [ 5818.3916  ],\n",
       "       [ 4284.1904  ],\n",
       "       [ 4247.2207  ],\n",
       "       [ 4709.656   ],\n",
       "       [ 5197.331   ],\n",
       "       [ 5109.936   ],\n",
       "       [ 4247.156   ],\n",
       "       [ 3534.5776  ],\n",
       "       [ 2972.201   ],\n",
       "       [ 2828.0688  ],\n",
       "       [ 3114.734   ],\n",
       "       [ 3291.492   ],\n",
       "       [ 3163.2214  ],\n",
       "       [ 3868.8374  ],\n",
       "       [ 3037.1145  ],\n",
       "       [ 2095.4307  ],\n",
       "       [ 2697.8828  ],\n",
       "       [ 6044.857   ],\n",
       "       [ 9575.406   ],\n",
       "       [ 6883.3423  ],\n",
       "       [ 2645.3743  ],\n",
       "       [  558.46466 ],\n",
       "       [ 1307.0989  ],\n",
       "       [ 1989.0157  ],\n",
       "       [ 1981.7816  ],\n",
       "       [ 1915.1113  ],\n",
       "       [ 1594.703   ],\n",
       "       [ 1019.47424 ],\n",
       "       [  824.67303 ],\n",
       "       [  777.75146 ],\n",
       "       [  709.80786 ],\n",
       "       [  776.2375  ],\n",
       "       [ 1038.0032  ],\n",
       "       [ 1077.8341  ],\n",
       "       [  957.9637  ],\n",
       "       [  847.25757 ],\n",
       "       [  747.6613  ],\n",
       "       [  769.2596  ],\n",
       "       [  589.8589  ],\n",
       "       [  579.49884 ],\n",
       "       [  559.4353  ],\n",
       "       [  510.32404 ],\n",
       "       [  466.86795 ],\n",
       "       [  376.82294 ],\n",
       "       [  305.6384  ],\n",
       "       [  251.56558 ],\n",
       "       [  277.98694 ],\n",
       "       [  264.05533 ],\n",
       "       [  281.00894 ],\n",
       "       [  297.09164 ],\n",
       "       [  421.64713 ],\n",
       "       [  395.00058 ],\n",
       "       [  372.30673 ],\n",
       "       [  374.85333 ],\n",
       "       [  353.56015 ],\n",
       "       [  333.28192 ],\n",
       "       [  303.4754  ],\n",
       "       [  292.46207 ],\n",
       "       [  263.43198 ],\n",
       "       [  233.28386 ],\n",
       "       [  227.07811 ],\n",
       "       [  217.57123 ],\n",
       "       [  209.63934 ],\n",
       "       [  202.24727 ],\n",
       "       [  200.56174 ],\n",
       "       [  177.74931 ],\n",
       "       [  164.14017 ],\n",
       "       [  181.10382 ],\n",
       "       [  175.90286 ],\n",
       "       [  174.28445 ],\n",
       "       [  165.80803 ],\n",
       "       [  169.92726 ],\n",
       "       [  156.62361 ],\n",
       "       [  146.70216 ],\n",
       "       [  156.30878 ],\n",
       "       [  169.79912 ],\n",
       "       [  143.81097 ],\n",
       "       [  164.97005 ],\n",
       "       [  154.35625 ],\n",
       "       [  150.08835 ]], dtype=float32)"
      ]
     },
     "execution_count": 33,
     "metadata": {},
     "output_type": "execute_result"
    }
   ],
   "source": [
    "train_predict"
   ]
  },
  {
   "cell_type": "code",
   "execution_count": 34,
   "id": "32b7ffe3",
   "metadata": {
    "scrolled": true
   },
   "outputs": [
    {
     "data": {
      "image/png": "[encoded data removed]",
      "text/plain": [
       "<Figure size 432x288 with 1 Axes>"
      ]
     },
     "metadata": {
      "needs_background": "light"
     },
     "output_type": "display_data"
    }
   ],
   "source": [
    "# Plot \n",
    "look_back = 30\n",
    "trainPredictPlot = np.empty_like(df)\n",
    "trainPredictPlot[:, :] = np.nan\n",
    "trainPredictPlot[look_back:len(train_predict)+look_back, :] = train_predict\n",
    "\n",
    "#shift test predict\n",
    "testPredictPlot = np.empty_like(df)\n",
    "testPredictPlot[:, :] = np.nan\n",
    "testPredictPlot[len(train_predict)+(look_back*2)+1:len(df)-1, :] = test_predict\n",
    "\n",
    "#plot baseline\n",
    "plt.plot(scaler.inverse_transform(df))\n",
    "plt.plot(scaler.inverse_transform(trainPredictPlot))\n",
    "plt.plot(scaler.inverse_transform(testPredictPlot))\n",
    "plt.show()"
   ]
  },
  {
   "cell_type": "code",
   "execution_count": 35,
   "id": "7bed18aa",
   "metadata": {},
   "outputs": [
    {
     "data": {
      "image/png": "[encoded data removed]",
      "text/plain": [
       "<Figure size 432x288 with 1 Axes>"
      ]
     },
     "metadata": {
      "needs_background": "light"
     },
     "output_type": "display_data"
    }
   ],
   "source": [
    "#shift test predict\n",
    "testPredictPlot = np.empty_like(df)\n",
    "testPredictPlot[:, :] = np.nan\n",
    "testPredictPlot[len(train_predict)+(look_back*2)+1:len(df)-1, :] = test_predict\n",
    "\n",
    "#plot baseline\n",
    "plt.plot(scaler.inverse_transform(df))\n",
    "plt.plot(scaler.inverse_transform(testPredictPlot), 'g')\n",
    "plt.xlim(X_train.shape[0], df.shape[0])\n",
    "plt.show()"
   ]
  },
  {
   "cell_type": "code",
   "execution_count": 36,
   "id": "1355b3d3",
   "metadata": {},
   "outputs": [
    {
     "data": {
      "text/plain": [
       "192"
      ]
     },
     "execution_count": 36,
     "metadata": {},
     "output_type": "execute_result"
    }
   ],
   "source": [
    "len(test_data)"
   ]
  },
  {
   "cell_type": "code",
   "execution_count": 37,
   "id": "0767587c",
   "metadata": {},
   "outputs": [
    {
     "data": {
      "text/plain": [
       "(1, 30)"
      ]
     },
     "execution_count": 37,
     "metadata": {},
     "output_type": "execute_result"
    }
   ],
   "source": [
    "x_input=test_data[162:].reshape(1,-1) #test data - step(30)\n",
    "x_input.shape"
   ]
  },
  {
   "cell_type": "code",
   "execution_count": 38,
   "id": "2f64bd8f",
   "metadata": {},
   "outputs": [],
   "source": [
    "temp_input=list(x_input)\n",
    "temp_input=temp_input[0].tolist()"
   ]
  },
  {
   "cell_type": "code",
   "execution_count": 39,
   "id": "9594be28",
   "metadata": {
    "scrolled": true
   },
   "outputs": [
    {
     "data": {
      "text/plain": [
       "[0.022160666063427925,\n",
       " 0.020190829411149025,\n",
       " 0.016004925593733788,\n",
       " 0.013973530381917953,\n",
       " 0.02056017331779003,\n",
       " 0.018528778105974197,\n",
       " 0.01434287428855896,\n",
       " 0.013727300800383091,\n",
       " 0.012003692798316479,\n",
       " 0.0057248384691774845,\n",
       " 0.006648199632763863,\n",
       " 0.007263773586601019,\n",
       " 0.013234840705990791,\n",
       " 0.00935672502964735,\n",
       " 0.008187133818864822,\n",
       " 0.006525084841996431,\n",
       " 0.004801477305591106,\n",
       " 0.0033240998163819313,\n",
       " 0.0029547554440796375,\n",
       " 0.006032625678926706,\n",
       " 0.004247460979968309,\n",
       " 0.004062788560986519,\n",
       " 0.003939673770219088,\n",
       " 0.002462296048179269,\n",
       " 0.002462296048179269,\n",
       " 0.0005540166166611016,\n",
       " 0.0007386888028122485,\n",
       " 0.0012311481405049562,\n",
       " 0.0017236073035746813,\n",
       " 0.0015389351174235344]"
      ]
     },
     "execution_count": 39,
     "metadata": {},
     "output_type": "execute_result"
    }
   ],
   "source": [
    "temp_input"
   ]
  },
  {
   "cell_type": "code",
   "execution_count": 40,
   "id": "54a16704",
   "metadata": {},
   "outputs": [
    {
     "name": "stdout",
     "output_type": "stream",
     "text": [
      "[0.00315343]\n",
      "31\n",
      "1 day input [0.02019083 0.01600493 0.01397353 0.02056017 0.01852878 0.01434287\n",
      " 0.0137273  0.01200369 0.00572484 0.0066482  0.00726377 0.01323484\n",
      " 0.00935673 0.00818713 0.00652508 0.00480148 0.0033241  0.00295476\n",
      " 0.00603263 0.00424746 0.00406279 0.00393967 0.0024623  0.0024623\n",
      " 0.00055402 0.00073869 0.00123115 0.00172361 0.00153894 0.00315343]\n",
      "1 day output [[0.0034383]]\n",
      "2 day input [0.01600493 0.01397353 0.02056017 0.01852878 0.01434287 0.0137273\n",
      " 0.01200369 0.00572484 0.0066482  0.00726377 0.01323484 0.00935673\n",
      " 0.00818713 0.00652508 0.00480148 0.0033241  0.00295476 0.00603263\n",
      " 0.00424746 0.00406279 0.00393967 0.0024623  0.0024623  0.00055402\n",
      " 0.00073869 0.00123115 0.00172361 0.00153894 0.00315343 0.0034383 ]\n",
      "2 day output [[0.00366009]]\n",
      "3 day input [0.01397353 0.02056017 0.01852878 0.01434287 0.0137273  0.01200369\n",
      " 0.00572484 0.0066482  0.00726377 0.01323484 0.00935673 0.00818713\n",
      " 0.00652508 0.00480148 0.0033241  0.00295476 0.00603263 0.00424746\n",
      " 0.00406279 0.00393967 0.0024623  0.0024623  0.00055402 0.00073869\n",
      " 0.00123115 0.00172361 0.00153894 0.00315343 0.0034383  0.00366009]\n",
      "3 day output [[0.00386961]]\n",
      "4 day input [0.02056017 0.01852878 0.01434287 0.0137273  0.01200369 0.00572484\n",
      " 0.0066482  0.00726377 0.01323484 0.00935673 0.00818713 0.00652508\n",
      " 0.00480148 0.0033241  0.00295476 0.00603263 0.00424746 0.00406279\n",
      " 0.00393967 0.0024623  0.0024623  0.00055402 0.00073869 0.00123115\n",
      " 0.00172361 0.00153894 0.00315343 0.0034383  0.00366009 0.00386961]\n",
      "4 day output [[0.00411499]]\n",
      "5 day input [0.01852878 0.01434287 0.0137273  0.01200369 0.00572484 0.0066482\n",
      " 0.00726377 0.01323484 0.00935673 0.00818713 0.00652508 0.00480148\n",
      " 0.0033241  0.00295476 0.00603263 0.00424746 0.00406279 0.00393967\n",
      " 0.0024623  0.0024623  0.00055402 0.00073869 0.00123115 0.00172361\n",
      " 0.00153894 0.00315343 0.0034383  0.00366009 0.00386961 0.00411499]\n",
      "5 day output [[0.00438447]]\n",
      "6 day input [0.01434287 0.0137273  0.01200369 0.00572484 0.0066482  0.00726377\n",
      " 0.01323484 0.00935673 0.00818713 0.00652508 0.00480148 0.0033241\n",
      " 0.00295476 0.00603263 0.00424746 0.00406279 0.00393967 0.0024623\n",
      " 0.0024623  0.00055402 0.00073869 0.00123115 0.00172361 0.00153894\n",
      " 0.00315343 0.0034383  0.00366009 0.00386961 0.00411499 0.00438447]\n",
      "6 day output [[0.00466526]]\n",
      "7 day input [0.0137273  0.01200369 0.00572484 0.0066482  0.00726377 0.01323484\n",
      " 0.00935673 0.00818713 0.00652508 0.00480148 0.0033241  0.00295476\n",
      " 0.00603263 0.00424746 0.00406279 0.00393967 0.0024623  0.0024623\n",
      " 0.00055402 0.00073869 0.00123115 0.00172361 0.00153894 0.00315343\n",
      " 0.0034383  0.00366009 0.00386961 0.00411499 0.00438447 0.00466526]\n",
      "7 day output [[0.00496621]]\n",
      "8 day input [0.01200369 0.00572484 0.0066482  0.00726377 0.01323484 0.00935673\n",
      " 0.00818713 0.00652508 0.00480148 0.0033241  0.00295476 0.00603263\n",
      " 0.00424746 0.00406279 0.00393967 0.0024623  0.0024623  0.00055402\n",
      " 0.00073869 0.00123115 0.00172361 0.00153894 0.00315343 0.0034383\n",
      " 0.00366009 0.00386961 0.00411499 0.00438447 0.00466526 0.00496621]\n",
      "8 day output [[0.00523269]]\n",
      "9 day input [0.00572484 0.0066482  0.00726377 0.01323484 0.00935673 0.00818713\n",
      " 0.00652508 0.00480148 0.0033241  0.00295476 0.00603263 0.00424746\n",
      " 0.00406279 0.00393967 0.0024623  0.0024623  0.00055402 0.00073869\n",
      " 0.00123115 0.00172361 0.00153894 0.00315343 0.0034383  0.00366009\n",
      " 0.00386961 0.00411499 0.00438447 0.00466526 0.00496621 0.00523269]\n",
      "9 day output [[0.00549879]]\n",
      "10 day input [0.0066482  0.00726377 0.01323484 0.00935673 0.00818713 0.00652508\n",
      " 0.00480148 0.0033241  0.00295476 0.00603263 0.00424746 0.00406279\n",
      " 0.00393967 0.0024623  0.0024623  0.00055402 0.00073869 0.00123115\n",
      " 0.00172361 0.00153894 0.00315343 0.0034383  0.00366009 0.00386961\n",
      " 0.00411499 0.00438447 0.00466526 0.00496621 0.00523269 0.00549879]\n",
      "10 day output [[0.00577153]]\n",
      "11 day input [0.00726377 0.01323484 0.00935673 0.00818713 0.00652508 0.00480148\n",
      " 0.0033241  0.00295476 0.00603263 0.00424746 0.00406279 0.00393967\n",
      " 0.0024623  0.0024623  0.00055402 0.00073869 0.00123115 0.00172361\n",
      " 0.00153894 0.00315343 0.0034383  0.00366009 0.00386961 0.00411499\n",
      " 0.00438447 0.00466526 0.00496621 0.00523269 0.00549879 0.00577153]\n",
      "11 day output [[0.006081]]\n",
      "12 day input [0.01323484 0.00935673 0.00818713 0.00652508 0.00480148 0.0033241\n",
      " 0.00295476 0.00603263 0.00424746 0.00406279 0.00393967 0.0024623\n",
      " 0.0024623  0.00055402 0.00073869 0.00123115 0.00172361 0.00153894\n",
      " 0.00315343 0.0034383  0.00366009 0.00386961 0.00411499 0.00438447\n",
      " 0.00466526 0.00496621 0.00523269 0.00549879 0.00577153 0.006081  ]\n",
      "12 day output [[0.00641065]]\n",
      "13 day input [0.00935673 0.00818713 0.00652508 0.00480148 0.0033241  0.00295476\n",
      " 0.00603263 0.00424746 0.00406279 0.00393967 0.0024623  0.0024623\n",
      " 0.00055402 0.00073869 0.00123115 0.00172361 0.00153894 0.00315343\n",
      " 0.0034383  0.00366009 0.00386961 0.00411499 0.00438447 0.00466526\n",
      " 0.00496621 0.00523269 0.00549879 0.00577153 0.006081   0.00641065]\n",
      "13 day output [[0.0067527]]\n",
      "14 day input [0.00818713 0.00652508 0.00480148 0.0033241  0.00295476 0.00603263\n",
      " 0.00424746 0.00406279 0.00393967 0.0024623  0.0024623  0.00055402\n",
      " 0.00073869 0.00123115 0.00172361 0.00153894 0.00315343 0.0034383\n",
      " 0.00366009 0.00386961 0.00411499 0.00438447 0.00466526 0.00496621\n",
      " 0.00523269 0.00549879 0.00577153 0.006081   0.00641065 0.0067527 ]\n",
      "14 day output [[0.00709267]]\n",
      "15 day input [0.00652508 0.00480148 0.0033241  0.00295476 0.00603263 0.00424746\n",
      " 0.00406279 0.00393967 0.0024623  0.0024623  0.00055402 0.00073869\n",
      " 0.00123115 0.00172361 0.00153894 0.00315343 0.0034383  0.00366009\n",
      " 0.00386961 0.00411499 0.00438447 0.00466526 0.00496621 0.00523269\n",
      " 0.00549879 0.00577153 0.006081   0.00641065 0.0067527  0.00709267]\n",
      "15 day output [[0.00742537]]\n",
      "16 day input [0.00480148 0.0033241  0.00295476 0.00603263 0.00424746 0.00406279\n",
      " 0.00393967 0.0024623  0.0024623  0.00055402 0.00073869 0.00123115\n",
      " 0.00172361 0.00153894 0.00315343 0.0034383  0.00366009 0.00386961\n",
      " 0.00411499 0.00438447 0.00466526 0.00496621 0.00523269 0.00549879\n",
      " 0.00577153 0.006081   0.00641065 0.0067527  0.00709267 0.00742537]\n",
      "16 day output [[0.00775493]]\n",
      "17 day input [0.0033241  0.00295476 0.00603263 0.00424746 0.00406279 0.00393967\n",
      " 0.0024623  0.0024623  0.00055402 0.00073869 0.00123115 0.00172361\n",
      " 0.00153894 0.00315343 0.0034383  0.00366009 0.00386961 0.00411499\n",
      " 0.00438447 0.00466526 0.00496621 0.00523269 0.00549879 0.00577153\n",
      " 0.006081   0.00641065 0.0067527  0.00709267 0.00742537 0.00775493]\n",
      "17 day output [[0.00808224]]\n",
      "18 day input [0.00295476 0.00603263 0.00424746 0.00406279 0.00393967 0.0024623\n",
      " 0.0024623  0.00055402 0.00073869 0.00123115 0.00172361 0.00153894\n",
      " 0.00315343 0.0034383  0.00366009 0.00386961 0.00411499 0.00438447\n",
      " 0.00466526 0.00496621 0.00523269 0.00549879 0.00577153 0.006081\n",
      " 0.00641065 0.0067527  0.00709267 0.00742537 0.00775493 0.00808224]\n",
      "18 day output [[0.00843444]]\n",
      "19 day input [0.00603263 0.00424746 0.00406279 0.00393967 0.0024623  0.0024623\n",
      " 0.00055402 0.00073869 0.00123115 0.00172361 0.00153894 0.00315343\n",
      " 0.0034383  0.00366009 0.00386961 0.00411499 0.00438447 0.00466526\n",
      " 0.00496621 0.00523269 0.00549879 0.00577153 0.006081   0.00641065\n",
      " 0.0067527  0.00709267 0.00742537 0.00775493 0.00808224 0.00843444]\n",
      "19 day output [[0.00880332]]\n",
      "20 day input [0.00424746 0.00406279 0.00393967 0.0024623  0.0024623  0.00055402\n",
      " 0.00073869 0.00123115 0.00172361 0.00153894 0.00315343 0.0034383\n",
      " 0.00366009 0.00386961 0.00411499 0.00438447 0.00466526 0.00496621\n",
      " 0.00523269 0.00549879 0.00577153 0.006081   0.00641065 0.0067527\n",
      " 0.00709267 0.00742537 0.00775493 0.00808224 0.00843444 0.00880332]\n",
      "20 day output [[0.00917863]]\n",
      "21 day input [0.00406279 0.00393967 0.0024623  0.0024623  0.00055402 0.00073869\n",
      " 0.00123115 0.00172361 0.00153894 0.00315343 0.0034383  0.00366009\n",
      " 0.00386961 0.00411499 0.00438447 0.00466526 0.00496621 0.00523269\n",
      " 0.00549879 0.00577153 0.006081   0.00641065 0.0067527  0.00709267\n",
      " 0.00742537 0.00775493 0.00808224 0.00843444 0.00880332 0.00917863]\n",
      "21 day output [[0.00956178]]\n",
      "22 day input [0.00393967 0.0024623  0.0024623  0.00055402 0.00073869 0.00123115\n",
      " 0.00172361 0.00153894 0.00315343 0.0034383  0.00366009 0.00386961\n",
      " 0.00411499 0.00438447 0.00466526 0.00496621 0.00523269 0.00549879\n",
      " 0.00577153 0.006081   0.00641065 0.0067527  0.00709267 0.00742537\n",
      " 0.00775493 0.00808224 0.00843444 0.00880332 0.00917863 0.00956178]\n",
      "22 day output [[0.00993869]]\n",
      "23 day input [0.0024623  0.0024623  0.00055402 0.00073869 0.00123115 0.00172361\n",
      " 0.00153894 0.00315343 0.0034383  0.00366009 0.00386961 0.00411499\n",
      " 0.00438447 0.00466526 0.00496621 0.00523269 0.00549879 0.00577153\n",
      " 0.006081   0.00641065 0.0067527  0.00709267 0.00742537 0.00775493\n",
      " 0.00808224 0.00843444 0.00880332 0.00917863 0.00956178 0.00993869]\n",
      "23 day output [[0.01030788]]\n",
      "24 day input [0.0024623  0.00055402 0.00073869 0.00123115 0.00172361 0.00153894\n",
      " 0.00315343 0.0034383  0.00366009 0.00386961 0.00411499 0.00438447\n",
      " 0.00466526 0.00496621 0.00523269 0.00549879 0.00577153 0.006081\n",
      " 0.00641065 0.0067527  0.00709267 0.00742537 0.00775493 0.00808224\n",
      " 0.00843444 0.00880332 0.00917863 0.00956178 0.00993869 0.01030788]\n"
     ]
    },
    {
     "name": "stdout",
     "output_type": "stream",
     "text": [
      "24 day output [[0.01066123]]\n",
      "25 day input [0.00055402 0.00073869 0.00123115 0.00172361 0.00153894 0.00315343\n",
      " 0.0034383  0.00366009 0.00386961 0.00411499 0.00438447 0.00466526\n",
      " 0.00496621 0.00523269 0.00549879 0.00577153 0.006081   0.00641065\n",
      " 0.0067527  0.00709267 0.00742537 0.00775493 0.00808224 0.00843444\n",
      " 0.00880332 0.00917863 0.00956178 0.00993869 0.01030788 0.01066123]\n",
      "25 day output [[0.01099542]]\n",
      "26 day input [0.00073869 0.00123115 0.00172361 0.00153894 0.00315343 0.0034383\n",
      " 0.00366009 0.00386961 0.00411499 0.00438447 0.00466526 0.00496621\n",
      " 0.00523269 0.00549879 0.00577153 0.006081   0.00641065 0.0067527\n",
      " 0.00709267 0.00742537 0.00775493 0.00808224 0.00843444 0.00880332\n",
      " 0.00917863 0.00956178 0.00993869 0.01030788 0.01066123 0.01099542]\n",
      "26 day output [[0.01132187]]\n",
      "27 day input [0.00123115 0.00172361 0.00153894 0.00315343 0.0034383  0.00366009\n",
      " 0.00386961 0.00411499 0.00438447 0.00466526 0.00496621 0.00523269\n",
      " 0.00549879 0.00577153 0.006081   0.00641065 0.0067527  0.00709267\n",
      " 0.00742537 0.00775493 0.00808224 0.00843444 0.00880332 0.00917863\n",
      " 0.00956178 0.00993869 0.01030788 0.01066123 0.01099542 0.01132187]\n",
      "27 day output [[0.01165024]]\n",
      "28 day input [0.00172361 0.00153894 0.00315343 0.0034383  0.00366009 0.00386961\n",
      " 0.00411499 0.00438447 0.00466526 0.00496621 0.00523269 0.00549879\n",
      " 0.00577153 0.006081   0.00641065 0.0067527  0.00709267 0.00742537\n",
      " 0.00775493 0.00808224 0.00843444 0.00880332 0.00917863 0.00956178\n",
      " 0.00993869 0.01030788 0.01066123 0.01099542 0.01132187 0.01165024]\n",
      "28 day output [[0.01197948]]\n",
      "29 day input [0.00153894 0.00315343 0.0034383  0.00366009 0.00386961 0.00411499\n",
      " 0.00438447 0.00466526 0.00496621 0.00523269 0.00549879 0.00577153\n",
      " 0.006081   0.00641065 0.0067527  0.00709267 0.00742537 0.00775493\n",
      " 0.00808224 0.00843444 0.00880332 0.00917863 0.00956178 0.00993869\n",
      " 0.01030788 0.01066123 0.01099542 0.01132187 0.01165024 0.01197948]\n",
      "29 day output [[0.01231678]]\n",
      "[[0.0031534340232610703], [0.0034383032470941544], [0.003660092130303383], [0.003869611769914627], [0.004114991053938866], [0.004384472966194153], [0.004665255546569824], [0.004966206848621368], [0.0052326880395412445], [0.005498785525560379], [0.005771534517407417], [0.006080998107790947], [0.006410645321011543], [0.006752699613571167], [0.007092669606208801], [0.007425365969538689], [0.00775492936372757], [0.008082237094640732], [0.008434437215328217], [0.008803321048617363], [0.009178634732961655], [0.009561778977513313], [0.009938694536685944], [0.010307883843779564], [0.010661233216524124], [0.010995417833328247], [0.011321868747472763], [0.011650238186120987], [0.0119794812053442], [0.012316776439547539]]\n"
     ]
    }
   ],
   "source": [
    "# prediction for next 30 days\n",
    "from numpy import array\n",
    "\n",
    "lst_output=[]\n",
    "n_steps=30\n",
    "i=0\n",
    "while(i<30): #30 hari\n",
    "    \n",
    "    if(len(temp_input)>30):\n",
    "        #print(temp_input)\n",
    "        x_input=np.array(temp_input[1:])\n",
    "        print(\"{} day input {}\".format(i,x_input))\n",
    "        x_input=x_input.reshape(1,-1)\n",
    "        x_input = x_input.reshape((1, n_steps, 1))\n",
    "        #print(x_input)\n",
    "        yhat = model.predict(x_input, verbose=0)\n",
    "        print(\"{} day output {}\".format(i,yhat))\n",
    "        temp_input.extend(yhat[0].tolist())\n",
    "        temp_input=temp_input[1:]\n",
    "        #print(temp_input)\n",
    "        lst_output.extend(yhat.tolist())\n",
    "        i=i+1\n",
    "    else:\n",
    "        x_input = x_input.reshape((1, n_steps,1))\n",
    "        yhat = model.predict(x_input, verbose=0)\n",
    "        print(yhat[0])\n",
    "        temp_input.extend(yhat[0].tolist())\n",
    "        print(len(temp_input))\n",
    "        lst_output.extend(yhat.tolist())\n",
    "        i=i+1\n",
    "    \n",
    "\n",
    "print(lst_output)"
   ]
  },
  {
   "cell_type": "code",
   "execution_count": 41,
   "id": "447dcca0",
   "metadata": {},
   "outputs": [],
   "source": [
    "day_new=np.arange(1,31) # dari data 30 hari terakhir\n",
    "day_pred=np.arange(31,61) #predict 30 hari kedepan"
   ]
  },
  {
   "cell_type": "code",
   "execution_count": 42,
   "id": "91dd51a7",
   "metadata": {},
   "outputs": [
    {
     "data": {
      "text/plain": [
       "766"
      ]
     },
     "execution_count": 42,
     "metadata": {},
     "output_type": "execute_result"
    }
   ],
   "source": [
    "len(df)"
   ]
  },
  {
   "cell_type": "code",
   "execution_count": 43,
   "id": "86fd0fa7",
   "metadata": {},
   "outputs": [
    {
     "data": {
      "text/plain": [
       "30"
      ]
     },
     "execution_count": 43,
     "metadata": {},
     "output_type": "execute_result"
    }
   ],
   "source": [
    "len(day_pred)"
   ]
  },
  {
   "cell_type": "code",
   "execution_count": 44,
   "id": "e0730cc4",
   "metadata": {
    "scrolled": true
   },
   "outputs": [
    {
     "data": {
      "text/plain": [
       "[<matplotlib.lines.Line2D at 0x23873fcc7c8>]"
      ]
     },
     "execution_count": 44,
     "metadata": {},
     "output_type": "execute_result"
    },
    {
     "data": {
      "image/png": "[encoded data removed]",
      "text/plain": [
       "<Figure size 432x288 with 1 Axes>"
      ]
     },
     "metadata": {
      "needs_background": "light"
     },
     "output_type": "display_data"
    }
   ],
   "source": [
    "plt.plot(day_new,df[736:]) # [total data - prediction(30)] \n",
    "plt.plot(day_pred,scaler.inverse_transform(lst_output))"
   ]
  },
  {
   "cell_type": "code",
   "execution_count": 45,
   "id": "07cc7ca7",
   "metadata": {},
   "outputs": [
    {
     "data": {
      "text/plain": [
       "[<matplotlib.lines.Line2D at 0x23874135a48>]"
      ]
     },
     "execution_count": 45,
     "metadata": {},
     "output_type": "execute_result"
    },
    {
     "data": {
      "image/png": "[encoded data removed]",
      "text/plain": [
       "<Figure size 432x288 with 1 Axes>"
      ]
     },
     "metadata": {
      "needs_background": "light"
     },
     "output_type": "display_data"
    }
   ],
   "source": [
    "df2=df.tolist()\n",
    "df2.extend(scaler.inverse_transform(lst_output))\n",
    "plt.plot(df2)"
   ]
  },
  {
   "cell_type": "code",
   "execution_count": 46,
   "id": "4e90a3ff",
   "metadata": {
    "scrolled": true
   },
   "outputs": [
    {
     "data": {
      "text/plain": [
       "[<matplotlib.lines.Line2D at 0x238740b4348>]"
      ]
     },
     "execution_count": 46,
     "metadata": {},
     "output_type": "execute_result"
    },
    {
     "data": {
      "image/png": "[encoded data removed]",
      "text/plain": [
       "<Figure size 432x288 with 1 Axes>"
      ]
     },
     "metadata": {
      "needs_background": "light"
     },
     "output_type": "display_data"
    }
   ],
   "source": [
    "df2=scaler.inverse_transform(df2).tolist()\n",
    "plt.plot(df2)"
   ]
  },
  {
   "cell_type": "code",
   "execution_count": 47,
   "id": "3cf7831d",
   "metadata": {},
   "outputs": [
    {
     "name": "stdout",
     "output_type": "stream",
     "text": [
      "loss: 0.155334\n"
     ]
    }
   ],
   "source": [
    "# evaluate the model\n",
    "scores = model.evaluate(X_train, Y_train, verbose=0)\n",
    "print(\"%s: %f\" % (model.metrics_names[0], scores*100))"
   ]
  },
  {
   "cell_type": "code",
   "execution_count": 48,
   "id": "caffd3c3",
   "metadata": {},
   "outputs": [
    {
     "name": "stdout",
     "output_type": "stream",
     "text": [
      "Saved model to disk\n"
     ]
    }
   ],
   "source": [
    "# save model and architecture to single file\n",
    "model.save(\"lstm_jawa_barat.h5\")\n",
    "print(\"Saved model to disk\")"
   ]
  },
  {
   "cell_type": "code",
   "execution_count": 49,
   "id": "9221238a",
   "metadata": {},
   "outputs": [
    {
     "name": "stdout",
     "output_type": "stream",
     "text": [
      "Model: \"sequential\"\n",
      "_________________________________________________________________\n",
      " Layer (type)                Output Shape              Param #   \n",
      "=================================================================\n",
      " lstm (LSTM)                 (None, 30, 100)           40800     \n",
      "                                                                 \n",
      " lstm_1 (LSTM)               (None, 100)               80400     \n",
      "                                                                 \n",
      " dense (Dense)               (None, 1)                 101       \n",
      "                                                                 \n",
      "=================================================================\n",
      "Total params: 121,301\n",
      "Trainable params: 121,301\n",
      "Non-trainable params: 0\n",
      "_________________________________________________________________\n"
     ]
    }
   ],
   "source": [
    "from keras.models import load_model\n",
    " \n",
    "# load model\n",
    "model = load_model('lstm_jawa_barat.h5')\n",
    "# summarize model\n",
    "model.summary()"
   ]
  },
  {
   "cell_type": "code",
   "execution_count": null,
   "id": "d4575b52",
   "metadata": {},
   "outputs": [],
   "source": []
  },
  {
   "cell_type": "code",
   "execution_count": null,
   "id": "66cacc99",
   "metadata": {},
   "outputs": [],
   "source": []
  }
 ],
 "metadata": {
  "kernelspec": {
   "display_name": "Python 3 (ipykernel)",
   "language": "python",
   "name": "python3"
  },
  "language_info": {
   "codemirror_mode": {
    "name": "ipython",
    "version": 3
   },
   "file_extension": ".py",
   "mimetype": "text/x-python",
   "name": "python",
   "nbconvert_exporter": "python",
   "pygments_lexer": "ipython3",
   "version": "3.7.13"
  }
 },
 "nbformat": 4,
 "nbformat_minor": 5
}
