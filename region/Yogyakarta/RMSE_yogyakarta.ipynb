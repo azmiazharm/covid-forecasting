{
 "cells": [
  {
   "cell_type": "code",
   "execution_count": 1,
   "id": "f8cc18d9",
   "metadata": {},
   "outputs": [],
   "source": [
    "# Import library\n",
    "import pandas as pd\n",
    "import numpy as np\n",
    "import matplotlib.pyplot as plt\n",
    "import tensorflow\n",
    "from tensorflow import keras\n",
    "from tensorflow.keras.layers import Dense, Activation, LSTM\n",
    "from sklearn.preprocessing import MinMaxScaler\n",
    "from keras.models import Sequential\n",
    "import os"
   ]
  },
  {
   "cell_type": "code",
   "execution_count": 2,
   "id": "4e7cdaba",
   "metadata": {},
   "outputs": [],
   "source": [
    "# Use CPU\n",
    "os.environ['CUDA_VISIBLE_DEVICES'] = '-1'"
   ]
  },
  {
   "cell_type": "code",
   "execution_count": 3,
   "id": "29d08e2d",
   "metadata": {},
   "outputs": [
    {
     "name": "stdout",
     "output_type": "stream",
     "text": [
      "2.8.0\n"
     ]
    }
   ],
   "source": [
    "print(tensorflow.__version__)"
   ]
  },
  {
   "cell_type": "code",
   "execution_count": 4,
   "id": "6dac519e",
   "metadata": {},
   "outputs": [
    {
     "data": {
      "text/html": [
       "<div>\n",
       "<style scoped>\n",
       "    .dataframe tbody tr th:only-of-type {\n",
       "        vertical-align: middle;\n",
       "    }\n",
       "\n",
       "    .dataframe tbody tr th {\n",
       "        vertical-align: top;\n",
       "    }\n",
       "\n",
       "    .dataframe thead th {\n",
       "        text-align: right;\n",
       "    }\n",
       "</style>\n",
       "<table border=\"1\" class=\"dataframe\">\n",
       "  <thead>\n",
       "    <tr style=\"text-align: right;\">\n",
       "      <th></th>\n",
       "      <th>daily_case</th>\n",
       "    </tr>\n",
       "    <tr>\n",
       "      <th>date</th>\n",
       "      <th></th>\n",
       "    </tr>\n",
       "  </thead>\n",
       "  <tbody>\n",
       "    <tr>\n",
       "      <th>2020-04-01</th>\n",
       "      <td>6</td>\n",
       "    </tr>\n",
       "    <tr>\n",
       "      <th>2020-04-02</th>\n",
       "      <td>0</td>\n",
       "    </tr>\n",
       "    <tr>\n",
       "      <th>2020-04-03</th>\n",
       "      <td>0</td>\n",
       "    </tr>\n",
       "    <tr>\n",
       "      <th>2020-04-04</th>\n",
       "      <td>5</td>\n",
       "    </tr>\n",
       "    <tr>\n",
       "      <th>2020-04-05</th>\n",
       "      <td>1</td>\n",
       "    </tr>\n",
       "  </tbody>\n",
       "</table>\n",
       "</div>"
      ],
      "text/plain": [
       "            daily_case\n",
       "date                  \n",
       "2020-04-01           6\n",
       "2020-04-02           0\n",
       "2020-04-03           0\n",
       "2020-04-04           5\n",
       "2020-04-05           1"
      ]
     },
     "execution_count": 4,
     "metadata": {},
     "output_type": "execute_result"
    }
   ],
   "source": [
    "# Dataset\n",
    "df=pd.read_csv('./../../dataset/raw_yogyakarta.csv', parse_dates=[\"date\"], index_col=\"date\")\n",
    "#df['daily_case'] = df['daily_case'].str.replace(',','').astype(int)\n",
    "\n",
    "# Cut dataset to start from 1 April 2022\n",
    "df = df[16:]\n",
    "df.head()"
   ]
  },
  {
   "cell_type": "code",
   "execution_count": 5,
   "id": "b7cb2a44",
   "metadata": {},
   "outputs": [
    {
     "name": "stdout",
     "output_type": "stream",
     "text": [
      "<class 'pandas.core.frame.DataFrame'>\n",
      "DatetimeIndex: 766 entries, 2020-04-01 to 2022-05-06\n",
      "Data columns (total 1 columns):\n",
      " #   Column      Non-Null Count  Dtype\n",
      "---  ------      --------------  -----\n",
      " 0   daily_case  766 non-null    int64\n",
      "dtypes: int64(1)\n",
      "memory usage: 12.0 KB\n"
     ]
    }
   ],
   "source": [
    "df.info()"
   ]
  },
  {
   "cell_type": "code",
   "execution_count": 6,
   "id": "33630edc",
   "metadata": {},
   "outputs": [
    {
     "data": {
      "text/plain": [
       "(766, 1)"
      ]
     },
     "execution_count": 6,
     "metadata": {},
     "output_type": "execute_result"
    }
   ],
   "source": [
    "df.shape"
   ]
  },
  {
   "cell_type": "code",
   "execution_count": 7,
   "id": "a46fcfe0",
   "metadata": {},
   "outputs": [
    {
     "data": {
      "text/plain": [
       "[<matplotlib.lines.Line2D at 0x2164d9bd388>]"
      ]
     },
     "execution_count": 7,
     "metadata": {},
     "output_type": "execute_result"
    },
    {
     "data": {
      "image/png": "[encoded data removed]",
      "text/plain": [
       "<Figure size 432x288 with 1 Axes>"
      ]
     },
     "metadata": {
      "needs_background": "light"
     },
     "output_type": "display_data"
    }
   ],
   "source": [
    "plt.plot(df)"
   ]
  },
  {
   "cell_type": "code",
   "execution_count": 8,
   "id": "baf1aaac",
   "metadata": {},
   "outputs": [],
   "source": [
    "scaler = MinMaxScaler(feature_range=(0,1))"
   ]
  },
  {
   "cell_type": "code",
   "execution_count": 9,
   "id": "116dbcb0",
   "metadata": {},
   "outputs": [
    {
     "data": {
      "text/plain": [
       "(766, 1)"
      ]
     },
     "execution_count": 9,
     "metadata": {},
     "output_type": "execute_result"
    }
   ],
   "source": [
    "df.shape"
   ]
  },
  {
   "cell_type": "code",
   "execution_count": 10,
   "id": "1dbbf64c",
   "metadata": {},
   "outputs": [
    {
     "data": {
      "text/html": [
       "<div>\n",
       "<style scoped>\n",
       "    .dataframe tbody tr th:only-of-type {\n",
       "        vertical-align: middle;\n",
       "    }\n",
       "\n",
       "    .dataframe tbody tr th {\n",
       "        vertical-align: top;\n",
       "    }\n",
       "\n",
       "    .dataframe thead th {\n",
       "        text-align: right;\n",
       "    }\n",
       "</style>\n",
       "<table border=\"1\" class=\"dataframe\">\n",
       "  <thead>\n",
       "    <tr style=\"text-align: right;\">\n",
       "      <th></th>\n",
       "      <th>daily_case</th>\n",
       "    </tr>\n",
       "    <tr>\n",
       "      <th>date</th>\n",
       "      <th></th>\n",
       "    </tr>\n",
       "  </thead>\n",
       "  <tbody>\n",
       "    <tr>\n",
       "      <th>2020-04-01</th>\n",
       "      <td>6</td>\n",
       "    </tr>\n",
       "    <tr>\n",
       "      <th>2020-04-02</th>\n",
       "      <td>0</td>\n",
       "    </tr>\n",
       "    <tr>\n",
       "      <th>2020-04-03</th>\n",
       "      <td>0</td>\n",
       "    </tr>\n",
       "    <tr>\n",
       "      <th>2020-04-04</th>\n",
       "      <td>5</td>\n",
       "    </tr>\n",
       "    <tr>\n",
       "      <th>2020-04-05</th>\n",
       "      <td>1</td>\n",
       "    </tr>\n",
       "  </tbody>\n",
       "</table>\n",
       "</div>"
      ],
      "text/plain": [
       "            daily_case\n",
       "date                  \n",
       "2020-04-01           6\n",
       "2020-04-02           0\n",
       "2020-04-03           0\n",
       "2020-04-04           5\n",
       "2020-04-05           1"
      ]
     },
     "execution_count": 10,
     "metadata": {},
     "output_type": "execute_result"
    }
   ],
   "source": [
    "df.head()"
   ]
  },
  {
   "cell_type": "code",
   "execution_count": 11,
   "id": "e6faefb5",
   "metadata": {},
   "outputs": [],
   "source": [
    "# df = scaler.fit_transform(np.array(df).reshape(-1,1))"
   ]
  },
  {
   "cell_type": "code",
   "execution_count": 12,
   "id": "19cb8aa8",
   "metadata": {},
   "outputs": [
    {
     "data": {
      "text/plain": [
       "(766, 1)"
      ]
     },
     "execution_count": 12,
     "metadata": {},
     "output_type": "execute_result"
    }
   ],
   "source": [
    "df.shape"
   ]
  },
  {
   "cell_type": "code",
   "execution_count": 13,
   "id": "8d81d237",
   "metadata": {},
   "outputs": [],
   "source": [
    "# Split data to train and test\n",
    "df = df.values\n",
    "df = df.astype('float32')\n",
    "train_size = int(len(df) * 0.75)\n",
    "test_size=len(df)-train_size"
   ]
  },
  {
   "cell_type": "code",
   "execution_count": 14,
   "id": "d07613e8",
   "metadata": {},
   "outputs": [],
   "source": [
    "train_data_ns=df[0:train_size,:]\n",
    "test_data_ns=df[train_size:len(df),:]"
   ]
  },
  {
   "cell_type": "code",
   "execution_count": 15,
   "id": "ec2da0aa",
   "metadata": {},
   "outputs": [],
   "source": [
    "# scale data\n",
    "train_data = scaler.fit_transform(np.array(train_data_ns).reshape(-1,1))\n",
    "test_data = scaler.fit_transform(np.array(test_data_ns).reshape(-1,1))"
   ]
  },
  {
   "cell_type": "code",
   "execution_count": 16,
   "id": "ec3179a7",
   "metadata": {},
   "outputs": [
    {
     "data": {
      "text/plain": [
       "(574, 1)"
      ]
     },
     "execution_count": 16,
     "metadata": {},
     "output_type": "execute_result"
    }
   ],
   "source": [
    "train_data.shape"
   ]
  },
  {
   "cell_type": "code",
   "execution_count": 17,
   "id": "709fa2f3",
   "metadata": {},
   "outputs": [
    {
     "name": "stdout",
     "output_type": "stream",
     "text": [
      "574\n",
      "192\n"
     ]
    },
    {
     "data": {
      "text/plain": [
       "(None, None)"
      ]
     },
     "execution_count": 17,
     "metadata": {},
     "output_type": "execute_result"
    }
   ],
   "source": [
    "print(len(train_data)), print(len(test_data))"
   ]
  },
  {
   "cell_type": "code",
   "execution_count": 18,
   "id": "8b465761",
   "metadata": {},
   "outputs": [],
   "source": [
    "# Create dataset matrix based on timestep\n",
    "def create_dataset(dataset, time_step=1):\n",
    "    X, Y = [], []\n",
    "    for i in range(len(dataset)-time_step-1):\n",
    "        a = dataset[i:(i+time_step), 0]\n",
    "        X.append(a)\n",
    "        Y.append(dataset[i + time_step, 0])\n",
    "    return np.array(X), np.array(Y)"
   ]
  },
  {
   "cell_type": "code",
   "execution_count": 19,
   "id": "f7456e17",
   "metadata": {},
   "outputs": [],
   "source": [
    "# Reshape into x=t, t+1, t+2, ... t+n, and Y = t + (n+1)\n",
    "time_step = 30\n",
    "X_train, Y_train = create_dataset(train_data, time_step)\n",
    "X_test, Y_test = create_dataset(test_data, time_step)"
   ]
  },
  {
   "cell_type": "code",
   "execution_count": 20,
   "id": "1e2fbaae",
   "metadata": {
    "scrolled": true
   },
   "outputs": [
    {
     "name": "stdout",
     "output_type": "stream",
     "text": [
      "(543, 30)\n",
      "(543,)\n"
     ]
    },
    {
     "data": {
      "text/plain": [
       "(None, None)"
      ]
     },
     "execution_count": 20,
     "metadata": {},
     "output_type": "execute_result"
    }
   ],
   "source": [
    "print(X_train.shape), print(Y_train.shape)"
   ]
  },
  {
   "cell_type": "code",
   "execution_count": 21,
   "id": "14caf748",
   "metadata": {},
   "outputs": [
    {
     "name": "stdout",
     "output_type": "stream",
     "text": [
      "(161, 30)\n",
      "(161,)\n"
     ]
    },
    {
     "data": {
      "text/plain": [
       "(None, None)"
      ]
     },
     "execution_count": 21,
     "metadata": {},
     "output_type": "execute_result"
    }
   ],
   "source": [
    "print(X_test.shape), print(Y_test.shape)"
   ]
  },
  {
   "cell_type": "code",
   "execution_count": 22,
   "id": "dc2e0ea1",
   "metadata": {},
   "outputs": [
    {
     "data": {
      "text/plain": [
       "161"
      ]
     },
     "execution_count": 22,
     "metadata": {},
     "output_type": "execute_result"
    }
   ],
   "source": [
    "len(X_test)"
   ]
  },
  {
   "cell_type": "code",
   "execution_count": 23,
   "id": "dd7a7f83",
   "metadata": {},
   "outputs": [],
   "source": [
    "# Reshape input data to 3d [sample, time_step, features]\n",
    "X_train = X_train.reshape(X_train.shape[0], X_train.shape[1], 1)\n",
    "X_test = X_test.reshape(X_test.shape[0], X_test.shape[1], 1)"
   ]
  },
  {
   "cell_type": "code",
   "execution_count": 24,
   "id": "589ff75f",
   "metadata": {},
   "outputs": [],
   "source": [
    "from keras.models import load_model\n",
    " \n",
    "# load model\n",
    "model = load_model('lstm_yogyakarta.h5')"
   ]
  },
  {
   "cell_type": "code",
   "execution_count": 25,
   "id": "2d2dd132",
   "metadata": {},
   "outputs": [
    {
     "name": "stdout",
     "output_type": "stream",
     "text": [
      "Model: \"sequential\"\n",
      "_________________________________________________________________\n",
      " Layer (type)                Output Shape              Param #   \n",
      "=================================================================\n",
      " lstm (LSTM)                 (None, 30, 128)           66560     \n",
      "                                                                 \n",
      " lstm_1 (LSTM)               (None, 128)               131584    \n",
      "                                                                 \n",
      " dense (Dense)               (None, 1)                 129       \n",
      "                                                                 \n",
      "=================================================================\n",
      "Total params: 198,273\n",
      "Trainable params: 198,273\n",
      "Non-trainable params: 0\n",
      "_________________________________________________________________\n"
     ]
    }
   ],
   "source": [
    "model.summary()"
   ]
  },
  {
   "cell_type": "code",
   "execution_count": 26,
   "id": "aedaea4a",
   "metadata": {},
   "outputs": [],
   "source": [
    "train_predict=model.predict(X_train)\n",
    "test_predict=model.predict(X_test)"
   ]
  },
  {
   "cell_type": "code",
   "execution_count": 27,
   "id": "9c262e67",
   "metadata": {},
   "outputs": [],
   "source": [
    "Y_train = Y_train.reshape(-1,1)\n",
    "Y_train = scaler.inverse_transform(Y_train)\n",
    "\n",
    "X_train = X_train.reshape(-1,1)\n",
    "X_train = scaler.inverse_transform(X_train)\n",
    "\n",
    "Y_test = Y_test.reshape(-1,1)\n",
    "Y_test = scaler.inverse_transform(Y_test)\n",
    "\n",
    "X_train = Y_train.reshape(-1,1)\n",
    "X_train = scaler.inverse_transform(X_train)"
   ]
  },
  {
   "cell_type": "code",
   "execution_count": 28,
   "id": "891264b3",
   "metadata": {},
   "outputs": [],
   "source": [
    "# Transform back to original value\n",
    "train_predict=scaler.inverse_transform(train_predict)\n",
    "test_predict=scaler.inverse_transform(test_predict)"
   ]
  },
  {
   "cell_type": "markdown",
   "id": "9e7ea23b",
   "metadata": {},
   "source": [
    "Metric Yogyakarta"
   ]
  },
  {
   "cell_type": "code",
   "execution_count": 29,
   "id": "066295da",
   "metadata": {
    "scrolled": true
   },
   "outputs": [
    {
     "name": "stdout",
     "output_type": "stream",
     "text": [
      "RMSE train: 97.70396334399643\n"
     ]
    }
   ],
   "source": [
    "# Calculate RMSE performance metrics\n",
    "import math\n",
    "from sklearn.metrics import mean_squared_error\n",
    "print('RMSE train:', math.sqrt(mean_squared_error(Y_train, train_predict)))"
   ]
  },
  {
   "cell_type": "code",
   "execution_count": 30,
   "id": "295e198f",
   "metadata": {},
   "outputs": [
    {
     "name": "stdout",
     "output_type": "stream",
     "text": [
      "RMSE test: 301.27468778508427\n"
     ]
    }
   ],
   "source": [
    "print('RMSE test:', math.sqrt(mean_squared_error(Y_test, test_predict)))"
   ]
  },
  {
   "cell_type": "code",
   "execution_count": 31,
   "id": "398d8220",
   "metadata": {},
   "outputs": [
    {
     "data": {
      "text/plain": [
       "(2732.0, 0.0)"
      ]
     },
     "execution_count": 31,
     "metadata": {},
     "output_type": "execute_result"
    }
   ],
   "source": [
    "train_data_ns.max(), train_data_ns.min()"
   ]
  },
  {
   "cell_type": "code",
   "execution_count": 32,
   "id": "74db43e1",
   "metadata": {},
   "outputs": [
    {
     "name": "stdout",
     "output_type": "stream",
     "text": [
      "NRMSE train: 0.035762797710101185\n"
     ]
    }
   ],
   "source": [
    "# normalized RMSE metrics train\n",
    "print('NRMSE train:', math.sqrt(mean_squared_error(Y_train, train_predict))/(train_data_ns.max()-train_data_ns.min()))"
   ]
  },
  {
   "cell_type": "code",
   "execution_count": 33,
   "id": "c294771f",
   "metadata": {},
   "outputs": [
    {
     "name": "stdout",
     "output_type": "stream",
     "text": [
      "NRMSE test: 0.10515695908728945\n"
     ]
    }
   ],
   "source": [
    "# normalized RMSE metrics test\n",
    "print('NRMSE test:', math.sqrt(mean_squared_error(Y_test, test_predict))/(test_data_ns.max()-test_data_ns.min()))"
   ]
  },
  {
   "cell_type": "code",
   "execution_count": 34,
   "id": "f604fd1e",
   "metadata": {},
   "outputs": [
    {
     "data": {
      "text/plain": [
       "array([[   4.995357 ],\n",
       "       [   5.0016756],\n",
       "       [   5.0260954],\n",
       "       [   5.0439405],\n",
       "       [   5.0535035],\n",
       "       [   5.076472 ],\n",
       "       [   5.0886817],\n",
       "       [   5.1140404],\n",
       "       [   5.1341057],\n",
       "       [   5.157757 ],\n",
       "       [   5.1880684],\n",
       "       [   5.219831 ],\n",
       "       [   5.24852  ],\n",
       "       [   5.2738786],\n",
       "       [   5.3092275],\n",
       "       [   5.3421   ],\n",
       "       [   5.3732653],\n",
       "       [   5.4075894],\n",
       "       [   5.430387 ],\n",
       "       [   5.457112 ],\n",
       "       [   5.467358 ],\n",
       "       [   5.4781165],\n",
       "       [   5.4746156],\n",
       "       [   5.4823856],\n",
       "       [   5.480422 ],\n",
       "       [   5.456685 ],\n",
       "       [   5.422361 ],\n",
       "       [   5.395209 ],\n",
       "       [   5.355847 ],\n",
       "       [   5.3276706],\n",
       "       [   5.3000917],\n",
       "       [   5.2531304],\n",
       "       [   5.2164154],\n",
       "       [   5.1933618],\n",
       "       [   5.162453 ],\n",
       "       [   5.123262 ],\n",
       "       [   5.083388 ],\n",
       "       [   5.0314746],\n",
       "       [   5.005006 ],\n",
       "       [   4.9869895],\n",
       "       [   4.9626555],\n",
       "       [   4.9408827],\n",
       "       [   4.9215   ],\n",
       "       [   4.9126205],\n",
       "       [   4.911937 ],\n",
       "       [   4.9160357],\n",
       "       [   4.9184265],\n",
       "       [   4.9219275],\n",
       "       [   4.9341373],\n",
       "       [   4.9365277],\n",
       "       [   4.942761 ],\n",
       "       [   4.9506164],\n",
       "       [   4.957191 ],\n",
       "       [   4.9586425],\n",
       "       [   4.968632 ],\n",
       "       [   4.974609 ],\n",
       "       [   4.9867334],\n",
       "       [   4.9918566],\n",
       "       [   4.995955 ],\n",
       "       [   4.999114 ],\n",
       "       [   4.9969797],\n",
       "       [   5.001761 ],\n",
       "       [   5.0085917],\n",
       "       [   5.0247293],\n",
       "       [   5.0370245],\n",
       "       [   5.0425744],\n",
       "       [   5.0552964],\n",
       "       [   5.064774 ],\n",
       "       [   5.0845833],\n",
       "       [   5.0946584],\n",
       "       [   5.1148944],\n",
       "       [   5.1431565],\n",
       "       [   5.1688566],\n",
       "       [   5.18286  ],\n",
       "       [   5.2151346],\n",
       "       [   5.237932 ],\n",
       "       [   5.2749033],\n",
       "       [   5.314692 ],\n",
       "       [   5.349016 ],\n",
       "       [   5.3917084],\n",
       "       [   5.436193 ],\n",
       "       [   5.4627476],\n",
       "       [   5.547448 ],\n",
       "       [   5.645468 ],\n",
       "       [   5.7362313],\n",
       "       [   5.8543167],\n",
       "       [   5.980087 ],\n",
       "       [   6.101929 ],\n",
       "       [   6.2335057],\n",
       "       [   6.3655086],\n",
       "       [   6.491535 ],\n",
       "       [   6.6292586],\n",
       "       [   6.8959975],\n",
       "       [   7.2498274],\n",
       "       [   7.5832505],\n",
       "       [   7.9242725],\n",
       "       [   8.231398 ],\n",
       "       [   8.512481 ],\n",
       "       [   8.754031 ],\n",
       "       [   8.992337 ],\n",
       "       [   9.164812 ],\n",
       "       [   9.276665 ],\n",
       "       [   9.361962 ],\n",
       "       [   9.350948 ],\n",
       "       [   9.317222 ],\n",
       "       [   9.220994 ],\n",
       "       [   9.143295 ],\n",
       "       [   9.093346 ],\n",
       "       [   9.10197  ],\n",
       "       [   9.126731 ],\n",
       "       [   9.175912 ],\n",
       "       [   9.301767 ],\n",
       "       [   9.51036  ],\n",
       "       [   9.755069 ],\n",
       "       [   9.997559 ],\n",
       "       [  10.10591  ],\n",
       "       [  10.160642 ],\n",
       "       [  10.3701725],\n",
       "       [  10.463411 ],\n",
       "       [  10.646474 ],\n",
       "       [  10.667735 ],\n",
       "       [  10.743897 ],\n",
       "       [  10.69224  ],\n",
       "       [  10.747056 ],\n",
       "       [  10.865228 ],\n",
       "       [  11.026603 ],\n",
       "       [  11.1760235],\n",
       "       [  11.28301  ],\n",
       "       [  11.398448 ],\n",
       "       [  11.419367 ],\n",
       "       [  11.345425 ],\n",
       "       [  11.26081  ],\n",
       "       [  11.341839 ],\n",
       "       [  11.46018  ],\n",
       "       [  11.641536 ],\n",
       "       [  11.792408 ],\n",
       "       [  12.076394 ],\n",
       "       [  12.373786 ],\n",
       "       [  12.7373495],\n",
       "       [  13.222926 ],\n",
       "       [  13.664188 ],\n",
       "       [  14.262301 ],\n",
       "       [  15.023411 ],\n",
       "       [  16.089767 ],\n",
       "       [  17.271477 ],\n",
       "       [  18.623783 ],\n",
       "       [  20.000082 ],\n",
       "       [  21.012476 ],\n",
       "       [  22.14825  ],\n",
       "       [  22.957005 ],\n",
       "       [  23.408598 ],\n",
       "       [  23.663383 ],\n",
       "       [  23.951126 ],\n",
       "       [  23.903566 ],\n",
       "       [  23.69856  ],\n",
       "       [  23.07193  ],\n",
       "       [  22.788286 ],\n",
       "       [  22.0983   ],\n",
       "       [  21.377407 ],\n",
       "       [  20.55149  ],\n",
       "       [  19.67665  ],\n",
       "       [  19.112093 ],\n",
       "       [  18.694567 ],\n",
       "       [  18.683723 ],\n",
       "       [  18.552402 ],\n",
       "       [  18.519274 ],\n",
       "       [  18.562136 ],\n",
       "       [  18.510906 ],\n",
       "       [  18.602352 ],\n",
       "       [  18.62182  ],\n",
       "       [  18.47274  ],\n",
       "       [  18.397005 ],\n",
       "       [  18.131632 ],\n",
       "       [  17.671158 ],\n",
       "       [  17.207867 ],\n",
       "       [  16.835594 ],\n",
       "       [  16.398003 ],\n",
       "       [  16.119907 ],\n",
       "       [  15.859829 ],\n",
       "       [  15.611876 ],\n",
       "       [  15.553814 ],\n",
       "       [  15.580625 ],\n",
       "       [  15.953069 ],\n",
       "       [  16.495596 ],\n",
       "       [  16.967255 ],\n",
       "       [  17.210514 ],\n",
       "       [  17.463078 ],\n",
       "       [  17.871298 ],\n",
       "       [  18.167152 ],\n",
       "       [  19.624737 ],\n",
       "       [  20.526302 ],\n",
       "       [  21.33608  ],\n",
       "       [  21.966639 ],\n",
       "       [  22.497042 ],\n",
       "       [  22.69018  ],\n",
       "       [  22.655172 ],\n",
       "       [  22.967848 ],\n",
       "       [  23.186771 ],\n",
       "       [  23.415087 ],\n",
       "       [  23.225878 ],\n",
       "       [  23.355062 ],\n",
       "       [  23.822538 ],\n",
       "       [  25.707895 ],\n",
       "       [  27.961596 ],\n",
       "       [  30.263796 ],\n",
       "       [  32.72071  ],\n",
       "       [  35.706917 ],\n",
       "       [  39.01007  ],\n",
       "       [  42.42089  ],\n",
       "       [  47.070545 ],\n",
       "       [  51.802933 ],\n",
       "       [  56.52303  ],\n",
       "       [  62.72897  ],\n",
       "       [  69.91494  ],\n",
       "       [  74.56724  ],\n",
       "       [  79.43411  ],\n",
       "       [  84.11928  ],\n",
       "       [  91.777855 ],\n",
       "       [ 101.94508  ],\n",
       "       [ 114.945595 ],\n",
       "       [ 132.10147  ],\n",
       "       [ 145.41586  ],\n",
       "       [ 158.43414  ],\n",
       "       [ 171.647    ],\n",
       "       [ 183.79213  ],\n",
       "       [ 192.02184  ],\n",
       "       [ 201.79929  ],\n",
       "       [ 206.1028   ],\n",
       "       [ 203.70395  ],\n",
       "       [ 198.97949  ],\n",
       "       [ 196.64963  ],\n",
       "       [ 196.68515  ],\n",
       "       [ 198.20874  ],\n",
       "       [ 201.4791   ],\n",
       "       [ 205.76169  ],\n",
       "       [ 209.22758  ],\n",
       "       [ 215.7216   ],\n",
       "       [ 222.1872   ],\n",
       "       [ 231.28603  ],\n",
       "       [ 242.2124   ],\n",
       "       [ 257.21045  ],\n",
       "       [ 265.96887  ],\n",
       "       [ 270.10382  ],\n",
       "       [ 276.29456  ],\n",
       "       [ 286.14313  ],\n",
       "       [ 294.54935  ],\n",
       "       [ 299.27823  ],\n",
       "       [ 304.23483  ],\n",
       "       [ 303.0718   ],\n",
       "       [ 291.93353  ],\n",
       "       [ 283.22858  ],\n",
       "       [ 277.83743  ],\n",
       "       [ 279.34814  ],\n",
       "       [ 286.7112   ],\n",
       "       [ 294.90802  ],\n",
       "       [ 302.93265  ],\n",
       "       [ 307.21487  ],\n",
       "       [ 311.46042  ],\n",
       "       [ 318.2712   ],\n",
       "       [ 320.40332  ],\n",
       "       [ 316.08557  ],\n",
       "       [ 311.13443  ],\n",
       "       [ 304.51114  ],\n",
       "       [ 298.04843  ],\n",
       "       [ 291.84018  ],\n",
       "       [ 286.78683  ],\n",
       "       [ 291.1374   ],\n",
       "       [ 305.3361   ],\n",
       "       [ 326.2638   ],\n",
       "       [ 333.83496  ],\n",
       "       [ 338.26193  ],\n",
       "       [ 341.00375  ],\n",
       "       [ 345.82922  ],\n",
       "       [ 345.24835  ],\n",
       "       [ 348.089    ],\n",
       "       [ 345.8737   ],\n",
       "       [ 336.78067  ],\n",
       "       [ 320.63745  ],\n",
       "       [ 302.361    ],\n",
       "       [ 287.74545  ],\n",
       "       [ 273.58936  ],\n",
       "       [ 260.84183  ],\n",
       "       [ 245.58983  ],\n",
       "       [ 226.67667  ],\n",
       "       [ 210.95105  ],\n",
       "       [ 198.23836  ],\n",
       "       [ 191.53148  ],\n",
       "       [ 188.29271  ],\n",
       "       [ 189.1549   ],\n",
       "       [ 185.9344   ],\n",
       "       [ 180.1103   ],\n",
       "       [ 172.32333  ],\n",
       "       [ 165.00125  ],\n",
       "       [ 160.95389  ],\n",
       "       [ 161.04765  ],\n",
       "       [ 165.4052   ],\n",
       "       [ 169.13287  ],\n",
       "       [ 171.85637  ],\n",
       "       [ 171.78694  ],\n",
       "       [ 175.37955  ],\n",
       "       [ 177.69481  ],\n",
       "       [ 181.71689  ],\n",
       "       [ 182.73448  ],\n",
       "       [ 186.22736  ],\n",
       "       [ 186.4286   ],\n",
       "       [ 184.88965  ],\n",
       "       [ 181.8162   ],\n",
       "       [ 181.68307  ],\n",
       "       [ 183.27573  ],\n",
       "       [ 182.81142  ],\n",
       "       [ 177.22563  ],\n",
       "       [ 171.20975  ],\n",
       "       [ 166.018    ],\n",
       "       [ 162.58711  ],\n",
       "       [ 159.66222  ],\n",
       "       [ 155.1922   ],\n",
       "       [ 153.51228  ],\n",
       "       [ 153.55685  ],\n",
       "       [ 150.46614  ],\n",
       "       [ 148.75555  ],\n",
       "       [ 148.18819  ],\n",
       "       [ 154.19646  ],\n",
       "       [ 164.78027  ],\n",
       "       [ 173.53918  ],\n",
       "       [ 185.83255  ],\n",
       "       [ 190.49509  ],\n",
       "       [ 192.02739  ],\n",
       "       [ 193.5222   ],\n",
       "       [ 198.37523  ],\n",
       "       [ 206.08871  ],\n",
       "       [ 214.99464  ],\n",
       "       [ 217.68414  ],\n",
       "       [ 214.6258   ],\n",
       "       [ 205.24538  ],\n",
       "       [ 202.936    ],\n",
       "       [ 204.95387  ],\n",
       "       [ 204.54112  ],\n",
       "       [ 207.51215  ],\n",
       "       [ 204.11302  ],\n",
       "       [ 197.6733   ],\n",
       "       [ 189.58934  ],\n",
       "       [ 184.79036  ],\n",
       "       [ 185.2475   ],\n",
       "       [ 187.17256  ],\n",
       "       [ 191.19643  ],\n",
       "       [ 197.59875  ],\n",
       "       [ 198.12608  ],\n",
       "       [ 195.01906  ],\n",
       "       [ 195.5002   ],\n",
       "       [ 201.61281  ],\n",
       "       [ 207.00427  ],\n",
       "       [ 211.42868  ],\n",
       "       [ 211.61722  ],\n",
       "       [ 208.12238  ],\n",
       "       [ 201.65175  ],\n",
       "       [ 197.53677  ],\n",
       "       [ 195.24054  ],\n",
       "       [ 196.29076  ],\n",
       "       [ 192.74248  ],\n",
       "       [ 187.40898  ],\n",
       "       [ 184.91306  ],\n",
       "       [ 182.97842  ],\n",
       "       [ 180.77408  ],\n",
       "       [ 185.91605  ],\n",
       "       [ 192.32239  ],\n",
       "       [ 203.15988  ],\n",
       "       [ 208.73859  ],\n",
       "       [ 210.9642   ],\n",
       "       [ 210.0383   ],\n",
       "       [ 205.73308  ],\n",
       "       [ 202.92123  ],\n",
       "       [ 200.35059  ],\n",
       "       [ 196.40825  ],\n",
       "       [ 189.92046  ],\n",
       "       [ 181.74873  ],\n",
       "       [ 172.79558  ],\n",
       "       [ 165.41647  ],\n",
       "       [ 161.84923  ],\n",
       "       [ 155.09615  ],\n",
       "       [ 147.0992   ],\n",
       "       [ 138.9133   ],\n",
       "       [ 132.23383  ],\n",
       "       [ 127.084335 ],\n",
       "       [ 124.1567   ],\n",
       "       [ 126.25688  ],\n",
       "       [ 134.60843  ],\n",
       "       [ 144.97716  ],\n",
       "       [ 154.04866  ],\n",
       "       [ 162.5352   ],\n",
       "       [ 168.67096  ],\n",
       "       [ 176.22588  ],\n",
       "       [ 182.93779  ],\n",
       "       [ 188.70435  ],\n",
       "       [ 192.39249  ],\n",
       "       [ 196.45103  ],\n",
       "       [ 198.13394  ],\n",
       "       [ 197.43858  ],\n",
       "       [ 198.2394   ],\n",
       "       [ 204.03967  ],\n",
       "       [ 209.32825  ],\n",
       "       [ 221.7479   ],\n",
       "       [ 227.29143  ],\n",
       "       [ 240.24123  ],\n",
       "       [ 254.11111  ],\n",
       "       [ 267.12906  ],\n",
       "       [ 284.05362  ],\n",
       "       [ 313.15427  ],\n",
       "       [ 347.32257  ],\n",
       "       [ 389.34338  ],\n",
       "       [ 438.6195   ],\n",
       "       [ 486.6133   ],\n",
       "       [ 528.23535  ],\n",
       "       [ 569.0178   ],\n",
       "       [ 604.3848   ],\n",
       "       [ 625.82074  ],\n",
       "       [ 642.8881   ],\n",
       "       [ 664.8322   ],\n",
       "       [ 689.37463  ],\n",
       "       [ 713.75134  ],\n",
       "       [ 738.84045  ],\n",
       "       [ 773.22687  ],\n",
       "       [ 811.4842   ],\n",
       "       [ 850.8778   ],\n",
       "       [ 894.74915  ],\n",
       "       [ 940.6314   ],\n",
       "       [ 984.5384   ],\n",
       "       [1029.8197   ],\n",
       "       [1070.7306   ],\n",
       "       [1110.2192   ],\n",
       "       [1209.3416   ],\n",
       "       [1352.3354   ],\n",
       "       [1479.4943   ],\n",
       "       [1587.2158   ],\n",
       "       [1685.1364   ],\n",
       "       [1785.4545   ],\n",
       "       [1911.0282   ],\n",
       "       [2059.433    ],\n",
       "       [2217.2625   ],\n",
       "       [2336.166    ],\n",
       "       [2420.3694   ],\n",
       "       [2423.42     ],\n",
       "       [2392.3635   ],\n",
       "       [2321.0037   ],\n",
       "       [2220.8127   ],\n",
       "       [2089.9175   ],\n",
       "       [1980.5944   ],\n",
       "       [1893.2389   ],\n",
       "       [1810.0593   ],\n",
       "       [1743.1296   ],\n",
       "       [1805.9962   ],\n",
       "       [2199.1475   ],\n",
       "       [2604.72     ],\n",
       "       [2676.704    ],\n",
       "       [2436.6528   ],\n",
       "       [2011.9343   ],\n",
       "       [1778.2761   ],\n",
       "       [1683.0331   ],\n",
       "       [1619.6847   ],\n",
       "       [1554.1277   ],\n",
       "       [1508.5625   ],\n",
       "       [1465.0841   ],\n",
       "       [1444.9993   ],\n",
       "       [1390.5613   ],\n",
       "       [1354.9515   ],\n",
       "       [1317.3325   ],\n",
       "       [1283.306    ],\n",
       "       [1204.3503   ],\n",
       "       [1242.1505   ],\n",
       "       [1239.6799   ],\n",
       "       [1200.9463   ],\n",
       "       [1155.5636   ],\n",
       "       [1165.5814   ],\n",
       "       [1093.3752   ],\n",
       "       [1012.699    ],\n",
       "       [ 956.00684  ],\n",
       "       [ 864.509    ],\n",
       "       [ 824.3866   ],\n",
       "       [ 777.4496   ],\n",
       "       [ 757.7268   ],\n",
       "       [ 747.5199   ],\n",
       "       [ 727.2597   ],\n",
       "       [ 700.93176  ],\n",
       "       [ 649.74084  ],\n",
       "       [ 592.4542   ],\n",
       "       [ 553.0213   ],\n",
       "       [ 515.034    ],\n",
       "       [ 465.07748  ],\n",
       "       [ 416.10144  ],\n",
       "       [ 381.4181   ],\n",
       "       [ 351.64017  ],\n",
       "       [ 322.99524  ],\n",
       "       [ 299.1499   ],\n",
       "       [ 279.22458  ],\n",
       "       [ 261.43286  ],\n",
       "       [ 245.49078  ],\n",
       "       [ 232.10947  ],\n",
       "       [ 218.39172  ],\n",
       "       [ 202.94019  ],\n",
       "       [ 188.9009   ],\n",
       "       [ 176.68738  ],\n",
       "       [ 164.80641  ],\n",
       "       [ 151.63188  ],\n",
       "       [ 142.99387  ],\n",
       "       [ 137.9886   ],\n",
       "       [ 132.47768  ],\n",
       "       [ 129.47098  ],\n",
       "       [ 125.77822  ],\n",
       "       [ 122.81917  ],\n",
       "       [ 118.52394  ],\n",
       "       [ 114.19371  ],\n",
       "       [ 110.01734  ],\n",
       "       [ 105.325676 ],\n",
       "       [ 100.10156  ],\n",
       "       [  95.28345  ],\n",
       "       [  90.01101  ],\n",
       "       [  84.715004 ],\n",
       "       [  79.69009  ],\n",
       "       [  75.006714 ],\n",
       "       [  70.32632  ],\n",
       "       [  66.417625 ],\n",
       "       [  62.922703 ],\n",
       "       [  59.70058  ],\n",
       "       [  56.200706 ],\n",
       "       [  52.85085  ],\n",
       "       [  49.430122 ],\n",
       "       [  46.112286 ],\n",
       "       [  42.82757  ],\n",
       "       [  39.766994 ],\n",
       "       [  37.008846 ],\n",
       "       [  34.121685 ],\n",
       "       [  31.469242 ],\n",
       "       [  29.083538 ],\n",
       "       [  27.087353 ],\n",
       "       [  25.3965   ],\n",
       "       [  23.804693 ],\n",
       "       [  22.235683 ],\n",
       "       [  20.769901 ],\n",
       "       [  19.44287  ],\n",
       "       [  18.30667  ],\n",
       "       [  17.139986 ],\n",
       "       [  16.18608  ],\n",
       "       [  15.379803 ],\n",
       "       [  14.667105 ]], dtype=float32)"
      ]
     },
     "execution_count": 34,
     "metadata": {},
     "output_type": "execute_result"
    }
   ],
   "source": [
    "train_predict"
   ]
  },
  {
   "cell_type": "code",
   "execution_count": 35,
   "id": "32b7ffe3",
   "metadata": {
    "scrolled": true
   },
   "outputs": [
    {
     "data": {
      "image/png": "[encoded data removed]",
      "text/plain": [
       "<Figure size 432x288 with 1 Axes>"
      ]
     },
     "metadata": {
      "needs_background": "light"
     },
     "output_type": "display_data"
    }
   ],
   "source": [
    "# Plot \n",
    "look_back = 30\n",
    "trainPredictPlot = np.empty_like(df)\n",
    "trainPredictPlot[:, :] = np.nan\n",
    "trainPredictPlot[look_back:len(train_predict)+look_back, :] = train_predict\n",
    "\n",
    "#shift test predict\n",
    "testPredictPlot = np.empty_like(df)\n",
    "testPredictPlot[:, :] = np.nan\n",
    "testPredictPlot[len(train_predict)+(look_back*2)+1:len(df)-1, :] = test_predict\n",
    "\n",
    "#plot baseline\n",
    "plt.plot(scaler.inverse_transform(df))\n",
    "plt.plot(scaler.inverse_transform(trainPredictPlot))\n",
    "plt.plot(scaler.inverse_transform(testPredictPlot))\n",
    "plt.show()"
   ]
  },
  {
   "cell_type": "code",
   "execution_count": 36,
   "id": "7bed18aa",
   "metadata": {},
   "outputs": [
    {
     "data": {
      "image/png": "[encoded data removed]",
      "text/plain": [
       "<Figure size 432x288 with 1 Axes>"
      ]
     },
     "metadata": {
      "needs_background": "light"
     },
     "output_type": "display_data"
    }
   ],
   "source": [
    "#shift test predict\n",
    "testPredictPlot = np.empty_like(df)\n",
    "testPredictPlot[:, :] = np.nan\n",
    "testPredictPlot[len(train_predict)+(look_back*2)+1:len(df)-1, :] = test_predict\n",
    "\n",
    "#plot baseline\n",
    "plt.plot(scaler.inverse_transform(df))\n",
    "plt.plot(scaler.inverse_transform(testPredictPlot), 'g')\n",
    "plt.xlim(X_train.shape[0], df.shape[0])\n",
    "plt.show()"
   ]
  },
  {
   "cell_type": "code",
   "execution_count": 37,
   "id": "1355b3d3",
   "metadata": {},
   "outputs": [
    {
     "data": {
      "text/plain": [
       "192"
      ]
     },
     "execution_count": 37,
     "metadata": {},
     "output_type": "execute_result"
    }
   ],
   "source": [
    "len(test_data)"
   ]
  },
  {
   "cell_type": "code",
   "execution_count": 38,
   "id": "0767587c",
   "metadata": {},
   "outputs": [
    {
     "data": {
      "text/plain": [
       "(1, 30)"
      ]
     },
     "execution_count": 38,
     "metadata": {},
     "output_type": "execute_result"
    }
   ],
   "source": [
    "x_input=test_data[162:].reshape(1,-1) #test data - step(30)\n",
    "x_input.shape"
   ]
  },
  {
   "cell_type": "code",
   "execution_count": 39,
   "id": "2f64bd8f",
   "metadata": {},
   "outputs": [],
   "source": [
    "temp_input=list(x_input)\n",
    "temp_input=temp_input[0].tolist()"
   ]
  },
  {
   "cell_type": "code",
   "execution_count": 40,
   "id": "9594be28",
   "metadata": {
    "scrolled": true
   },
   "outputs": [
    {
     "data": {
      "text/plain": [
       "[0.022338569164276123,\n",
       " 0.013612565584480762,\n",
       " 0.012216405011713505,\n",
       " 0.007678883150219917,\n",
       " 0.008027923293411732,\n",
       " 0.008376963436603546,\n",
       " 0.010820244438946247,\n",
       " 0.0069808028638362885,\n",
       " 0.007329843007028103,\n",
       " 0.0034904014319181442,\n",
       " 0.007329843007028103,\n",
       " 0.0045375218614935875,\n",
       " 0.008376963436603546,\n",
       " 0.005933682434260845,\n",
       " 0.0045375218614935875,\n",
       " 0.00314136128872633,\n",
       " 0.005235602147877216,\n",
       " 0.0038394415751099586,\n",
       " 0.0027923211455345154,\n",
       " 0.0038394415751099586,\n",
       " 0.006631762720644474,\n",
       " 0.007329843007028103,\n",
       " 0.00314136128872633,\n",
       " 0.0027923211455345154,\n",
       " 0.002443281002342701,\n",
       " 0.0003490401431918144,\n",
       " 0.0013961605727672577,\n",
       " 0.0006980802863836288,\n",
       " 0.0010471204295754433,\n",
       " 0.0006980802863836288]"
      ]
     },
     "execution_count": 40,
     "metadata": {},
     "output_type": "execute_result"
    }
   ],
   "source": [
    "temp_input"
   ]
  },
  {
   "cell_type": "code",
   "execution_count": 41,
   "id": "54a16704",
   "metadata": {},
   "outputs": [
    {
     "name": "stdout",
     "output_type": "stream",
     "text": [
      "[0.00215083]\n",
      "31\n",
      "1 day input [0.01361257 0.01221641 0.00767888 0.00802792 0.00837696 0.01082024\n",
      " 0.0069808  0.00732984 0.0034904  0.00732984 0.00453752 0.00837696\n",
      " 0.00593368 0.00453752 0.00314136 0.0052356  0.00383944 0.00279232\n",
      " 0.00383944 0.00663176 0.00732984 0.00314136 0.00279232 0.00244328\n",
      " 0.00034904 0.00139616 0.00069808 0.00104712 0.00069808 0.00215083]\n",
      "1 day output [[0.00206181]]\n",
      "2 day input [0.01221641 0.00767888 0.00802792 0.00837696 0.01082024 0.0069808\n",
      " 0.00732984 0.0034904  0.00732984 0.00453752 0.00837696 0.00593368\n",
      " 0.00453752 0.00314136 0.0052356  0.00383944 0.00279232 0.00383944\n",
      " 0.00663176 0.00732984 0.00314136 0.00279232 0.00244328 0.00034904\n",
      " 0.00139616 0.00069808 0.00104712 0.00069808 0.00215083 0.00206181]\n",
      "2 day output [[0.00199395]]\n",
      "3 day input [0.00767888 0.00802792 0.00837696 0.01082024 0.0069808  0.00732984\n",
      " 0.0034904  0.00732984 0.00453752 0.00837696 0.00593368 0.00453752\n",
      " 0.00314136 0.0052356  0.00383944 0.00279232 0.00383944 0.00663176\n",
      " 0.00732984 0.00314136 0.00279232 0.00244328 0.00034904 0.00139616\n",
      " 0.00069808 0.00104712 0.00069808 0.00215083 0.00206181 0.00199395]\n",
      "3 day output [[0.00193679]]\n",
      "4 day input [0.00802792 0.00837696 0.01082024 0.0069808  0.00732984 0.0034904\n",
      " 0.00732984 0.00453752 0.00837696 0.00593368 0.00453752 0.00314136\n",
      " 0.0052356  0.00383944 0.00279232 0.00383944 0.00663176 0.00732984\n",
      " 0.00314136 0.00279232 0.00244328 0.00034904 0.00139616 0.00069808\n",
      " 0.00104712 0.00069808 0.00215083 0.00206181 0.00199395 0.00193679]\n",
      "4 day output [[0.00188848]]\n",
      "5 day input [0.00837696 0.01082024 0.0069808  0.00732984 0.0034904  0.00732984\n",
      " 0.00453752 0.00837696 0.00593368 0.00453752 0.00314136 0.0052356\n",
      " 0.00383944 0.00279232 0.00383944 0.00663176 0.00732984 0.00314136\n",
      " 0.00279232 0.00244328 0.00034904 0.00139616 0.00069808 0.00104712\n",
      " 0.00069808 0.00215083 0.00206181 0.00199395 0.00193679 0.00188848]\n",
      "5 day output [[0.00183743]]\n",
      "6 day input [0.01082024 0.0069808  0.00732984 0.0034904  0.00732984 0.00453752\n",
      " 0.00837696 0.00593368 0.00453752 0.00314136 0.0052356  0.00383944\n",
      " 0.00279232 0.00383944 0.00663176 0.00732984 0.00314136 0.00279232\n",
      " 0.00244328 0.00034904 0.00139616 0.00069808 0.00104712 0.00069808\n",
      " 0.00215083 0.00206181 0.00199395 0.00193679 0.00188848 0.00183743]\n",
      "6 day output [[0.00178978]]\n",
      "7 day input [0.0069808  0.00732984 0.0034904  0.00732984 0.00453752 0.00837696\n",
      " 0.00593368 0.00453752 0.00314136 0.0052356  0.00383944 0.00279232\n",
      " 0.00383944 0.00663176 0.00732984 0.00314136 0.00279232 0.00244328\n",
      " 0.00034904 0.00139616 0.00069808 0.00104712 0.00069808 0.00215083\n",
      " 0.00206181 0.00199395 0.00193679 0.00188848 0.00183743 0.00178978]\n",
      "7 day output [[0.00174651]]\n",
      "8 day input [0.00732984 0.0034904  0.00732984 0.00453752 0.00837696 0.00593368\n",
      " 0.00453752 0.00314136 0.0052356  0.00383944 0.00279232 0.00383944\n",
      " 0.00663176 0.00732984 0.00314136 0.00279232 0.00244328 0.00034904\n",
      " 0.00139616 0.00069808 0.00104712 0.00069808 0.00215083 0.00206181\n",
      " 0.00199395 0.00193679 0.00188848 0.00183743 0.00178978 0.00174651]\n",
      "8 day output [[0.0017136]]\n",
      "9 day input [0.0034904  0.00732984 0.00453752 0.00837696 0.00593368 0.00453752\n",
      " 0.00314136 0.0052356  0.00383944 0.00279232 0.00383944 0.00663176\n",
      " 0.00732984 0.00314136 0.00279232 0.00244328 0.00034904 0.00139616\n",
      " 0.00069808 0.00104712 0.00069808 0.00215083 0.00206181 0.00199395\n",
      " 0.00193679 0.00188848 0.00183743 0.00178978 0.00174651 0.0017136 ]\n",
      "9 day output [[0.00168574]]\n",
      "10 day input [0.00732984 0.00453752 0.00837696 0.00593368 0.00453752 0.00314136\n",
      " 0.0052356  0.00383944 0.00279232 0.00383944 0.00663176 0.00732984\n",
      " 0.00314136 0.00279232 0.00244328 0.00034904 0.00139616 0.00069808\n",
      " 0.00104712 0.00069808 0.00215083 0.00206181 0.00199395 0.00193679\n",
      " 0.00188848 0.00183743 0.00178978 0.00174651 0.0017136  0.00168574]\n",
      "10 day output [[0.00166711]]\n",
      "11 day input [0.00453752 0.00837696 0.00593368 0.00453752 0.00314136 0.0052356\n",
      " 0.00383944 0.00279232 0.00383944 0.00663176 0.00732984 0.00314136\n",
      " 0.00279232 0.00244328 0.00034904 0.00139616 0.00069808 0.00104712\n",
      " 0.00069808 0.00215083 0.00206181 0.00199395 0.00193679 0.00188848\n",
      " 0.00183743 0.00178978 0.00174651 0.0017136  0.00168574 0.00166711]\n",
      "11 day output [[0.00164628]]\n",
      "12 day input [0.00837696 0.00593368 0.00453752 0.00314136 0.0052356  0.00383944\n",
      " 0.00279232 0.00383944 0.00663176 0.00732984 0.00314136 0.00279232\n",
      " 0.00244328 0.00034904 0.00139616 0.00069808 0.00104712 0.00069808\n",
      " 0.00215083 0.00206181 0.00199395 0.00193679 0.00188848 0.00183743\n",
      " 0.00178978 0.00174651 0.0017136  0.00168574 0.00166711 0.00164628]\n",
      "12 day output [[0.00163105]]\n",
      "13 day input [0.00593368 0.00453752 0.00314136 0.0052356  0.00383944 0.00279232\n",
      " 0.00383944 0.00663176 0.00732984 0.00314136 0.00279232 0.00244328\n",
      " 0.00034904 0.00139616 0.00069808 0.00104712 0.00069808 0.00215083\n",
      " 0.00206181 0.00199395 0.00193679 0.00188848 0.00183743 0.00178978\n",
      " 0.00174651 0.0017136  0.00168574 0.00166711 0.00164628 0.00163105]\n",
      "13 day output [[0.00161353]]\n",
      "14 day input [0.00453752 0.00314136 0.0052356  0.00383944 0.00279232 0.00383944\n",
      " 0.00663176 0.00732984 0.00314136 0.00279232 0.00244328 0.00034904\n",
      " 0.00139616 0.00069808 0.00104712 0.00069808 0.00215083 0.00206181\n",
      " 0.00199395 0.00193679 0.00188848 0.00183743 0.00178978 0.00174651\n",
      " 0.0017136  0.00168574 0.00166711 0.00164628 0.00163105 0.00161353]\n",
      "14 day output [[0.0016008]]\n",
      "15 day input [0.00314136 0.0052356  0.00383944 0.00279232 0.00383944 0.00663176\n",
      " 0.00732984 0.00314136 0.00279232 0.00244328 0.00034904 0.00139616\n",
      " 0.00069808 0.00104712 0.00069808 0.00215083 0.00206181 0.00199395\n",
      " 0.00193679 0.00188848 0.00183743 0.00178978 0.00174651 0.0017136\n",
      " 0.00168574 0.00166711 0.00164628 0.00163105 0.00161353 0.0016008 ]\n",
      "15 day output [[0.00158694]]\n",
      "16 day input [0.0052356  0.00383944 0.00279232 0.00383944 0.00663176 0.00732984\n",
      " 0.00314136 0.00279232 0.00244328 0.00034904 0.00139616 0.00069808\n",
      " 0.00104712 0.00069808 0.00215083 0.00206181 0.00199395 0.00193679\n",
      " 0.00188848 0.00183743 0.00178978 0.00174651 0.0017136  0.00168574\n",
      " 0.00166711 0.00164628 0.00163105 0.00161353 0.0016008  0.00158694]\n",
      "16 day output [[0.00157264]]\n",
      "17 day input [0.00383944 0.00279232 0.00383944 0.00663176 0.00732984 0.00314136\n",
      " 0.00279232 0.00244328 0.00034904 0.00139616 0.00069808 0.00104712\n",
      " 0.00069808 0.00215083 0.00206181 0.00199395 0.00193679 0.00188848\n",
      " 0.00183743 0.00178978 0.00174651 0.0017136  0.00168574 0.00166711\n",
      " 0.00164628 0.00163105 0.00161353 0.0016008  0.00158694 0.00157264]\n",
      "17 day output [[0.00155881]]\n",
      "18 day input [0.00279232 0.00383944 0.00663176 0.00732984 0.00314136 0.00279232\n",
      " 0.00244328 0.00034904 0.00139616 0.00069808 0.00104712 0.00069808\n",
      " 0.00215083 0.00206181 0.00199395 0.00193679 0.00188848 0.00183743\n",
      " 0.00178978 0.00174651 0.0017136  0.00168574 0.00166711 0.00164628\n",
      " 0.00163105 0.00161353 0.0016008  0.00158694 0.00157264 0.00155881]\n",
      "18 day output [[0.00154775]]\n",
      "19 day input [0.00383944 0.00663176 0.00732984 0.00314136 0.00279232 0.00244328\n",
      " 0.00034904 0.00139616 0.00069808 0.00104712 0.00069808 0.00215083\n",
      " 0.00206181 0.00199395 0.00193679 0.00188848 0.00183743 0.00178978\n",
      " 0.00174651 0.0017136  0.00168574 0.00166711 0.00164628 0.00163105\n",
      " 0.00161353 0.0016008  0.00158694 0.00157264 0.00155881 0.00154775]\n",
      "19 day output [[0.00153768]]\n",
      "20 day input [0.00663176 0.00732984 0.00314136 0.00279232 0.00244328 0.00034904\n",
      " 0.00139616 0.00069808 0.00104712 0.00069808 0.00215083 0.00206181\n",
      " 0.00199395 0.00193679 0.00188848 0.00183743 0.00178978 0.00174651\n",
      " 0.0017136  0.00168574 0.00166711 0.00164628 0.00163105 0.00161353\n",
      " 0.0016008  0.00158694 0.00157264 0.00155881 0.00154775 0.00153768]\n",
      "20 day output [[0.00152776]]\n",
      "21 day input [0.00732984 0.00314136 0.00279232 0.00244328 0.00034904 0.00139616\n",
      " 0.00069808 0.00104712 0.00069808 0.00215083 0.00206181 0.00199395\n",
      " 0.00193679 0.00188848 0.00183743 0.00178978 0.00174651 0.0017136\n",
      " 0.00168574 0.00166711 0.00164628 0.00163105 0.00161353 0.0016008\n",
      " 0.00158694 0.00157264 0.00155881 0.00154775 0.00153768 0.00152776]\n",
      "21 day output [[0.00151455]]\n",
      "22 day input [0.00314136 0.00279232 0.00244328 0.00034904 0.00139616 0.00069808\n",
      " 0.00104712 0.00069808 0.00215083 0.00206181 0.00199395 0.00193679\n",
      " 0.00188848 0.00183743 0.00178978 0.00174651 0.0017136  0.00168574\n",
      " 0.00166711 0.00164628 0.00163105 0.00161353 0.0016008  0.00158694\n",
      " 0.00157264 0.00155881 0.00154775 0.00153768 0.00152776 0.00151455]\n",
      "22 day output [[0.00150415]]\n",
      "23 day input [0.00279232 0.00244328 0.00034904 0.00139616 0.00069808 0.00104712\n",
      " 0.00069808 0.00215083 0.00206181 0.00199395 0.00193679 0.00188848\n",
      " 0.00183743 0.00178978 0.00174651 0.0017136  0.00168574 0.00166711\n",
      " 0.00164628 0.00163105 0.00161353 0.0016008  0.00158694 0.00157264\n",
      " 0.00155881 0.00154775 0.00153768 0.00152776 0.00151455 0.00150415]\n",
      "23 day output [[0.00150076]]\n",
      "24 day input [0.00244328 0.00034904 0.00139616 0.00069808 0.00104712 0.00069808\n",
      " 0.00215083 0.00206181 0.00199395 0.00193679 0.00188848 0.00183743\n",
      " 0.00178978 0.00174651 0.0017136  0.00168574 0.00166711 0.00164628\n",
      " 0.00163105 0.00161353 0.0016008  0.00158694 0.00157264 0.00155881\n",
      " 0.00154775 0.00153768 0.00152776 0.00151455 0.00150415 0.00150076]\n"
     ]
    },
    {
     "name": "stdout",
     "output_type": "stream",
     "text": [
      "24 day output [[0.00149894]]\n",
      "25 day input [0.00034904 0.00139616 0.00069808 0.00104712 0.00069808 0.00215083\n",
      " 0.00206181 0.00199395 0.00193679 0.00188848 0.00183743 0.00178978\n",
      " 0.00174651 0.0017136  0.00168574 0.00166711 0.00164628 0.00163105\n",
      " 0.00161353 0.0016008  0.00158694 0.00157264 0.00155881 0.00154775\n",
      " 0.00153768 0.00152776 0.00151455 0.00150415 0.00150076 0.00149894]\n",
      "25 day output [[0.00149733]]\n",
      "26 day input [0.00139616 0.00069808 0.00104712 0.00069808 0.00215083 0.00206181\n",
      " 0.00199395 0.00193679 0.00188848 0.00183743 0.00178978 0.00174651\n",
      " 0.0017136  0.00168574 0.00166711 0.00164628 0.00163105 0.00161353\n",
      " 0.0016008  0.00158694 0.00157264 0.00155881 0.00154775 0.00153768\n",
      " 0.00152776 0.00151455 0.00150415 0.00150076 0.00149894 0.00149733]\n",
      "26 day output [[0.00149843]]\n",
      "27 day input [0.00069808 0.00104712 0.00069808 0.00215083 0.00206181 0.00199395\n",
      " 0.00193679 0.00188848 0.00183743 0.00178978 0.00174651 0.0017136\n",
      " 0.00168574 0.00166711 0.00164628 0.00163105 0.00161353 0.0016008\n",
      " 0.00158694 0.00157264 0.00155881 0.00154775 0.00153768 0.00152776\n",
      " 0.00151455 0.00150415 0.00150076 0.00149894 0.00149733 0.00149843]\n",
      "27 day output [[0.00149786]]\n",
      "28 day input [0.00104712 0.00069808 0.00215083 0.00206181 0.00199395 0.00193679\n",
      " 0.00188848 0.00183743 0.00178978 0.00174651 0.0017136  0.00168574\n",
      " 0.00166711 0.00164628 0.00163105 0.00161353 0.0016008  0.00158694\n",
      " 0.00157264 0.00155881 0.00154775 0.00153768 0.00152776 0.00151455\n",
      " 0.00150415 0.00150076 0.00149894 0.00149733 0.00149843 0.00149786]\n",
      "28 day output [[0.0014981]]\n",
      "29 day input [0.00069808 0.00215083 0.00206181 0.00199395 0.00193679 0.00188848\n",
      " 0.00183743 0.00178978 0.00174651 0.0017136  0.00168574 0.00166711\n",
      " 0.00164628 0.00163105 0.00161353 0.0016008  0.00158694 0.00157264\n",
      " 0.00155881 0.00154775 0.00153768 0.00152776 0.00151455 0.00150415\n",
      " 0.00150076 0.00149894 0.00149733 0.00149843 0.00149786 0.0014981 ]\n",
      "29 day output [[0.0014976]]\n",
      "[[0.0021508336067199707], [0.002061814069747925], [0.0019939541816711426], [0.001936793327331543], [0.0018884837627410889], [0.0018374323844909668], [0.001789778470993042], [0.0017465054988861084], [0.0017136037349700928], [0.0016857385635375977], [0.001667112112045288], [0.001646280288696289], [0.0016310513019561768], [0.001613527536392212], [0.001600801944732666], [0.0015869438648223877], [0.001572638750076294], [0.0015588104724884033], [0.0015477538108825684], [0.0015376806259155273], [0.0015277564525604248], [0.0015145540237426758], [0.0015041530132293701], [0.0015007555484771729], [0.0014989376068115234], [0.0014973282814025879], [0.0014984309673309326], [0.0014978647232055664], [0.001498103141784668], [0.0014975965023040771]]\n"
     ]
    }
   ],
   "source": [
    "# prediction for next 30 days\n",
    "from numpy import array\n",
    "\n",
    "lst_output=[]\n",
    "n_steps=30\n",
    "i=0\n",
    "while(i<30): #30 hari\n",
    "    \n",
    "    if(len(temp_input)>30):\n",
    "        #print(temp_input)\n",
    "        x_input=np.array(temp_input[1:])\n",
    "        print(\"{} day input {}\".format(i,x_input))\n",
    "        x_input=x_input.reshape(1,-1)\n",
    "        x_input = x_input.reshape((1, n_steps, 1))\n",
    "        #print(x_input)\n",
    "        yhat = model.predict(x_input, verbose=0)\n",
    "        print(\"{} day output {}\".format(i,yhat))\n",
    "        temp_input.extend(yhat[0].tolist())\n",
    "        temp_input=temp_input[1:]\n",
    "        #print(temp_input)\n",
    "        lst_output.extend(yhat.tolist())\n",
    "        i=i+1\n",
    "    else:\n",
    "        x_input = x_input.reshape((1, n_steps,1))\n",
    "        yhat = model.predict(x_input, verbose=0)\n",
    "        print(yhat[0])\n",
    "        temp_input.extend(yhat[0].tolist())\n",
    "        print(len(temp_input))\n",
    "        lst_output.extend(yhat.tolist())\n",
    "        i=i+1\n",
    "    \n",
    "\n",
    "print(lst_output)"
   ]
  },
  {
   "cell_type": "code",
   "execution_count": 42,
   "id": "447dcca0",
   "metadata": {},
   "outputs": [],
   "source": [
    "day_new=np.arange(1,31) # dari data 30 hari terakhir\n",
    "day_pred=np.arange(31,61) #predict 30 hari kedepan"
   ]
  },
  {
   "cell_type": "code",
   "execution_count": 43,
   "id": "91dd51a7",
   "metadata": {},
   "outputs": [
    {
     "data": {
      "text/plain": [
       "766"
      ]
     },
     "execution_count": 43,
     "metadata": {},
     "output_type": "execute_result"
    }
   ],
   "source": [
    "len(df)"
   ]
  },
  {
   "cell_type": "code",
   "execution_count": 44,
   "id": "86fd0fa7",
   "metadata": {},
   "outputs": [
    {
     "data": {
      "text/plain": [
       "30"
      ]
     },
     "execution_count": 44,
     "metadata": {},
     "output_type": "execute_result"
    }
   ],
   "source": [
    "len(day_pred)"
   ]
  },
  {
   "cell_type": "code",
   "execution_count": 45,
   "id": "e0730cc4",
   "metadata": {
    "scrolled": true
   },
   "outputs": [
    {
     "data": {
      "text/plain": [
       "[<matplotlib.lines.Line2D at 0x21652056088>]"
      ]
     },
     "execution_count": 45,
     "metadata": {},
     "output_type": "execute_result"
    },
    {
     "data": {
      "image/png": "[encoded data removed]",
      "text/plain": [
       "<Figure size 432x288 with 1 Axes>"
      ]
     },
     "metadata": {
      "needs_background": "light"
     },
     "output_type": "display_data"
    }
   ],
   "source": [
    "plt.plot(day_new,df[736:]) # [total data - prediction(30)] \n",
    "plt.plot(day_pred,scaler.inverse_transform(lst_output))"
   ]
  },
  {
   "cell_type": "code",
   "execution_count": 46,
   "id": "07cc7ca7",
   "metadata": {},
   "outputs": [
    {
     "data": {
      "text/plain": [
       "[<matplotlib.lines.Line2D at 0x216521c3cc8>]"
      ]
     },
     "execution_count": 46,
     "metadata": {},
     "output_type": "execute_result"
    },
    {
     "data": {
      "image/png": "[encoded data removed]",
      "text/plain": [
       "<Figure size 432x288 with 1 Axes>"
      ]
     },
     "metadata": {
      "needs_background": "light"
     },
     "output_type": "display_data"
    }
   ],
   "source": [
    "df2=df.tolist()\n",
    "df2.extend(scaler.inverse_transform(lst_output))\n",
    "plt.plot(df2)"
   ]
  },
  {
   "cell_type": "code",
   "execution_count": 47,
   "id": "4e90a3ff",
   "metadata": {
    "scrolled": true
   },
   "outputs": [
    {
     "data": {
      "text/plain": [
       "[<matplotlib.lines.Line2D at 0x2165211c108>]"
      ]
     },
     "execution_count": 47,
     "metadata": {},
     "output_type": "execute_result"
    },
    {
     "data": {
      "image/png": "[encoded data removed]",
      "text/plain": [
       "<Figure size 432x288 with 1 Axes>"
      ]
     },
     "metadata": {
      "needs_background": "light"
     },
     "output_type": "display_data"
    }
   ],
   "source": [
    "df2=scaler.inverse_transform(df2).tolist()\n",
    "plt.plot(df2)"
   ]
  },
  {
   "cell_type": "code",
   "execution_count": 48,
   "id": "3cf7831d",
   "metadata": {},
   "outputs": [
    {
     "data": {
      "text/plain": [
       "array([[7.16213822],\n",
       "       [6.90709725],\n",
       "       [6.71267867],\n",
       "       [6.54891283],\n",
       "       [6.41050592],\n",
       "       [6.26424373],\n",
       "       [6.12771527],\n",
       "       [6.0037382 ],\n",
       "       [5.90947465],\n",
       "       [5.82964094],\n",
       "       [5.77627615],\n",
       "       [5.71659298],\n",
       "       [5.67296193],\n",
       "       [5.62275634],\n",
       "       [5.58629752],\n",
       "       [5.54659413],\n",
       "       [5.50560997],\n",
       "       [5.46599196],\n",
       "       [5.43431462],\n",
       "       [5.40545495],\n",
       "       [5.37702219],\n",
       "       [5.33919723],\n",
       "       [5.30939834],\n",
       "       [5.2996646 ],\n",
       "       [5.2944562 ],\n",
       "       [5.28984548],\n",
       "       [5.29300468],\n",
       "       [5.29138239],\n",
       "       [5.29206546],\n",
       "       [5.29061394]])"
      ]
     },
     "execution_count": 48,
     "metadata": {},
     "output_type": "execute_result"
    }
   ],
   "source": [
    "scaler.inverse_transform(lst_output)"
   ]
  },
  {
   "cell_type": "code",
   "execution_count": 49,
   "id": "6d11ad8b",
   "metadata": {},
   "outputs": [
    {
     "name": "stdout",
     "output_type": "stream",
     "text": [
      "WARNING:tensorflow:Model was constructed with shape (None, 30, 1) for input KerasTensor(type_spec=TensorSpec(shape=(None, 30, 1), dtype=tf.float32, name='lstm_input'), name='lstm_input', description=\"created by layer 'lstm_input'\"), but it was called on an input with incompatible shape (None, 1, 1).\n",
      "loss: 35017587.500000\n"
     ]
    }
   ],
   "source": [
    "# evaluate the model\n",
    "scores = model.evaluate(X_train, Y_train, verbose=0)\n",
    "print(\"%s: %f\" % (model.metrics_names[0], scores*100))"
   ]
  },
  {
   "cell_type": "code",
   "execution_count": null,
   "id": "66cacc99",
   "metadata": {},
   "outputs": [],
   "source": []
  }
 ],
 "metadata": {
  "kernelspec": {
   "display_name": "Python 3 (ipykernel)",
   "language": "python",
   "name": "python3"
  },
  "language_info": {
   "codemirror_mode": {
    "name": "ipython",
    "version": 3
   },
   "file_extension": ".py",
   "mimetype": "text/x-python",
   "name": "python",
   "nbconvert_exporter": "python",
   "pygments_lexer": "ipython3",
   "version": "3.7.13"
  }
 },
 "nbformat": 4,
 "nbformat_minor": 5
}
