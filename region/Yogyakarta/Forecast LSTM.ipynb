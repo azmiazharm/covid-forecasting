{
 "cells": [
  {
   "cell_type": "code",
   "execution_count": 1,
   "id": "f8cc18d9",
   "metadata": {},
   "outputs": [],
   "source": [
    "# Import library\n",
    "import pandas as pd\n",
    "import numpy as np\n",
    "import matplotlib.pyplot as plt\n",
    "import tensorflow\n",
    "from tensorflow import keras\n",
    "from tensorflow.keras.layers import Dense, Activation, LSTM\n",
    "from sklearn.preprocessing import MinMaxScaler\n",
    "from keras.models import Sequential\n",
    "import os"
   ]
  },
  {
   "cell_type": "code",
   "execution_count": 2,
   "id": "4e7cdaba",
   "metadata": {},
   "outputs": [],
   "source": [
    "# Use CPU\n",
    "os.environ['CUDA_VISIBLE_DEVICES'] = '-1'"
   ]
  },
  {
   "cell_type": "code",
   "execution_count": 3,
   "id": "29d08e2d",
   "metadata": {},
   "outputs": [
    {
     "name": "stdout",
     "output_type": "stream",
     "text": [
      "2.8.0\n"
     ]
    }
   ],
   "source": [
    "print(tensorflow.__version__)"
   ]
  },
  {
   "cell_type": "code",
   "execution_count": 4,
   "id": "6dac519e",
   "metadata": {},
   "outputs": [
    {
     "data": {
      "text/html": [
       "<div>\n",
       "<style scoped>\n",
       "    .dataframe tbody tr th:only-of-type {\n",
       "        vertical-align: middle;\n",
       "    }\n",
       "\n",
       "    .dataframe tbody tr th {\n",
       "        vertical-align: top;\n",
       "    }\n",
       "\n",
       "    .dataframe thead th {\n",
       "        text-align: right;\n",
       "    }\n",
       "</style>\n",
       "<table border=\"1\" class=\"dataframe\">\n",
       "  <thead>\n",
       "    <tr style=\"text-align: right;\">\n",
       "      <th></th>\n",
       "      <th>daily_case</th>\n",
       "    </tr>\n",
       "    <tr>\n",
       "      <th>date</th>\n",
       "      <th></th>\n",
       "    </tr>\n",
       "  </thead>\n",
       "  <tbody>\n",
       "    <tr>\n",
       "      <th>2020-04-01</th>\n",
       "      <td>9</td>\n",
       "    </tr>\n",
       "    <tr>\n",
       "      <th>2020-04-02</th>\n",
       "      <td>0</td>\n",
       "    </tr>\n",
       "    <tr>\n",
       "      <th>2020-04-03</th>\n",
       "      <td>47</td>\n",
       "    </tr>\n",
       "    <tr>\n",
       "      <th>2020-04-04</th>\n",
       "      <td>5</td>\n",
       "    </tr>\n",
       "    <tr>\n",
       "      <th>2020-04-05</th>\n",
       "      <td>35</td>\n",
       "    </tr>\n",
       "  </tbody>\n",
       "</table>\n",
       "</div>"
      ],
      "text/plain": [
       "            daily_case\n",
       "date                  \n",
       "2020-04-01           9\n",
       "2020-04-02           0\n",
       "2020-04-03          47\n",
       "2020-04-04           5\n",
       "2020-04-05          35"
      ]
     },
     "execution_count": 4,
     "metadata": {},
     "output_type": "execute_result"
    }
   ],
   "source": [
    "# Dataset\n",
    "df=pd.read_csv('./../../dataset/raw_jawa_timur.csv', parse_dates=[\"date\"], index_col=\"date\")\n",
    "#df['daily_case'] = df['daily_case'].str.replace(',','').astype(int)\n",
    "\n",
    "# Cut dataset to start from 1 April 2022\n",
    "df = df[14:]\n",
    "df.head()"
   ]
  },
  {
   "cell_type": "code",
   "execution_count": 5,
   "id": "b7cb2a44",
   "metadata": {},
   "outputs": [
    {
     "name": "stdout",
     "output_type": "stream",
     "text": [
      "<class 'pandas.core.frame.DataFrame'>\n",
      "DatetimeIndex: 766 entries, 2020-04-01 to 2022-05-06\n",
      "Data columns (total 1 columns):\n",
      " #   Column      Non-Null Count  Dtype\n",
      "---  ------      --------------  -----\n",
      " 0   daily_case  766 non-null    int64\n",
      "dtypes: int64(1)\n",
      "memory usage: 12.0 KB\n"
     ]
    }
   ],
   "source": [
    "df.info()"
   ]
  },
  {
   "cell_type": "code",
   "execution_count": 6,
   "id": "33630edc",
   "metadata": {},
   "outputs": [
    {
     "data": {
      "text/plain": [
       "(766, 1)"
      ]
     },
     "execution_count": 6,
     "metadata": {},
     "output_type": "execute_result"
    }
   ],
   "source": [
    "df.shape"
   ]
  },
  {
   "cell_type": "code",
   "execution_count": 7,
   "id": "a46fcfe0",
   "metadata": {},
   "outputs": [
    {
     "data": {
      "text/plain": [
       "[<matplotlib.lines.Line2D at 0x1ca6455aec8>]"
      ]
     },
     "execution_count": 7,
     "metadata": {},
     "output_type": "execute_result"
    },
    {
     "data": {
      "image/png": "[encoded data removed]",
      "text/plain": [
       "<Figure size 432x288 with 1 Axes>"
      ]
     },
     "metadata": {
      "needs_background": "light"
     },
     "output_type": "display_data"
    }
   ],
   "source": [
    "plt.plot(df)"
   ]
  },
  {
   "cell_type": "code",
   "execution_count": 8,
   "id": "baf1aaac",
   "metadata": {},
   "outputs": [],
   "source": [
    "scaler = MinMaxScaler(feature_range=(0,1))"
   ]
  },
  {
   "cell_type": "code",
   "execution_count": 9,
   "id": "116dbcb0",
   "metadata": {},
   "outputs": [
    {
     "data": {
      "text/plain": [
       "(766, 1)"
      ]
     },
     "execution_count": 9,
     "metadata": {},
     "output_type": "execute_result"
    }
   ],
   "source": [
    "df.shape"
   ]
  },
  {
   "cell_type": "code",
   "execution_count": 10,
   "id": "1dbbf64c",
   "metadata": {},
   "outputs": [
    {
     "data": {
      "text/html": [
       "<div>\n",
       "<style scoped>\n",
       "    .dataframe tbody tr th:only-of-type {\n",
       "        vertical-align: middle;\n",
       "    }\n",
       "\n",
       "    .dataframe tbody tr th {\n",
       "        vertical-align: top;\n",
       "    }\n",
       "\n",
       "    .dataframe thead th {\n",
       "        text-align: right;\n",
       "    }\n",
       "</style>\n",
       "<table border=\"1\" class=\"dataframe\">\n",
       "  <thead>\n",
       "    <tr style=\"text-align: right;\">\n",
       "      <th></th>\n",
       "      <th>daily_case</th>\n",
       "    </tr>\n",
       "    <tr>\n",
       "      <th>date</th>\n",
       "      <th></th>\n",
       "    </tr>\n",
       "  </thead>\n",
       "  <tbody>\n",
       "    <tr>\n",
       "      <th>2020-04-01</th>\n",
       "      <td>9</td>\n",
       "    </tr>\n",
       "    <tr>\n",
       "      <th>2020-04-02</th>\n",
       "      <td>0</td>\n",
       "    </tr>\n",
       "    <tr>\n",
       "      <th>2020-04-03</th>\n",
       "      <td>47</td>\n",
       "    </tr>\n",
       "    <tr>\n",
       "      <th>2020-04-04</th>\n",
       "      <td>5</td>\n",
       "    </tr>\n",
       "    <tr>\n",
       "      <th>2020-04-05</th>\n",
       "      <td>35</td>\n",
       "    </tr>\n",
       "  </tbody>\n",
       "</table>\n",
       "</div>"
      ],
      "text/plain": [
       "            daily_case\n",
       "date                  \n",
       "2020-04-01           9\n",
       "2020-04-02           0\n",
       "2020-04-03          47\n",
       "2020-04-04           5\n",
       "2020-04-05          35"
      ]
     },
     "execution_count": 10,
     "metadata": {},
     "output_type": "execute_result"
    }
   ],
   "source": [
    "df.head()"
   ]
  },
  {
   "cell_type": "code",
   "execution_count": 11,
   "id": "e6faefb5",
   "metadata": {},
   "outputs": [],
   "source": [
    "# df = scaler.fit_transform(np.array(df).reshape(-1,1))"
   ]
  },
  {
   "cell_type": "code",
   "execution_count": 12,
   "id": "19cb8aa8",
   "metadata": {},
   "outputs": [
    {
     "data": {
      "text/plain": [
       "(766, 1)"
      ]
     },
     "execution_count": 12,
     "metadata": {},
     "output_type": "execute_result"
    }
   ],
   "source": [
    "df.shape"
   ]
  },
  {
   "cell_type": "code",
   "execution_count": 13,
   "id": "8d81d237",
   "metadata": {},
   "outputs": [],
   "source": [
    "# Split data to train and test\n",
    "df = df.values\n",
    "df = df.astype('float32')\n",
    "train_size = int(len(df) * 0.75)\n",
    "test_size=len(df)-train_size"
   ]
  },
  {
   "cell_type": "code",
   "execution_count": 14,
   "id": "d07613e8",
   "metadata": {},
   "outputs": [],
   "source": [
    "train_data=df[0:train_size,:]\n",
    "test_data=df[train_size:len(df),:]"
   ]
  },
  {
   "cell_type": "code",
   "execution_count": 15,
   "id": "ec2da0aa",
   "metadata": {},
   "outputs": [],
   "source": [
    "# scale data\n",
    "train_data = scaler.fit_transform(np.array(train_data).reshape(-1,1))\n",
    "test_data = scaler.fit_transform(np.array(test_data).reshape(-1,1))"
   ]
  },
  {
   "cell_type": "code",
   "execution_count": 16,
   "id": "ec3179a7",
   "metadata": {},
   "outputs": [
    {
     "data": {
      "text/plain": [
       "(574, 1)"
      ]
     },
     "execution_count": 16,
     "metadata": {},
     "output_type": "execute_result"
    }
   ],
   "source": [
    "train_data.shape"
   ]
  },
  {
   "cell_type": "code",
   "execution_count": 17,
   "id": "709fa2f3",
   "metadata": {},
   "outputs": [
    {
     "name": "stdout",
     "output_type": "stream",
     "text": [
      "574\n",
      "192\n"
     ]
    },
    {
     "data": {
      "text/plain": [
       "(None, None)"
      ]
     },
     "execution_count": 17,
     "metadata": {},
     "output_type": "execute_result"
    }
   ],
   "source": [
    "print(len(train_data)), print(len(test_data))"
   ]
  },
  {
   "cell_type": "code",
   "execution_count": 18,
   "id": "8b465761",
   "metadata": {},
   "outputs": [],
   "source": [
    "# Create dataset matrix based on timestep\n",
    "def create_dataset(dataset, time_step=1):\n",
    "    X, Y = [], []\n",
    "    for i in range(len(dataset)-time_step-1):\n",
    "        a = dataset[i:(i+time_step), 0]\n",
    "        X.append(a)\n",
    "        Y.append(dataset[i + time_step, 0])\n",
    "    return np.array(X), np.array(Y)"
   ]
  },
  {
   "cell_type": "code",
   "execution_count": 19,
   "id": "f7456e17",
   "metadata": {},
   "outputs": [],
   "source": [
    "# Reshape into x=t, t+1, t+2, ... t+n, and Y = t + (n+1)\n",
    "time_step = 30\n",
    "X_train, Y_train = create_dataset(train_data, time_step)\n",
    "X_test, Y_test = create_dataset(test_data, time_step)"
   ]
  },
  {
   "cell_type": "code",
   "execution_count": 20,
   "id": "1e2fbaae",
   "metadata": {
    "scrolled": true
   },
   "outputs": [
    {
     "name": "stdout",
     "output_type": "stream",
     "text": [
      "(543, 30)\n",
      "(543,)\n"
     ]
    },
    {
     "data": {
      "text/plain": [
       "(None, None)"
      ]
     },
     "execution_count": 20,
     "metadata": {},
     "output_type": "execute_result"
    }
   ],
   "source": [
    "print(X_train.shape), print(Y_train.shape)"
   ]
  },
  {
   "cell_type": "code",
   "execution_count": 21,
   "id": "14caf748",
   "metadata": {},
   "outputs": [
    {
     "name": "stdout",
     "output_type": "stream",
     "text": [
      "(161, 30)\n",
      "(161,)\n"
     ]
    },
    {
     "data": {
      "text/plain": [
       "(None, None)"
      ]
     },
     "execution_count": 21,
     "metadata": {},
     "output_type": "execute_result"
    }
   ],
   "source": [
    "print(X_test.shape), print(Y_test.shape)"
   ]
  },
  {
   "cell_type": "code",
   "execution_count": 22,
   "id": "dc2e0ea1",
   "metadata": {},
   "outputs": [
    {
     "data": {
      "text/plain": [
       "161"
      ]
     },
     "execution_count": 22,
     "metadata": {},
     "output_type": "execute_result"
    }
   ],
   "source": [
    "len(X_test)"
   ]
  },
  {
   "cell_type": "code",
   "execution_count": 23,
   "id": "dd7a7f83",
   "metadata": {},
   "outputs": [],
   "source": [
    "# Reshape input data to 3d [sample, time_step, features]\n",
    "X_train = X_train.reshape(X_train.shape[0], X_train.shape[1], 1)\n",
    "X_test = X_test.reshape(X_test.shape[0], X_test.shape[1], 1)"
   ]
  },
  {
   "cell_type": "code",
   "execution_count": 24,
   "id": "35b0d75b",
   "metadata": {},
   "outputs": [],
   "source": [
    "# # Create model\n",
    "# model = Sequential()\n",
    "# model.add(LSTM(192, return_sequences=True, input_shape=(30,1)))\n",
    "# model.add(LSTM(64, return_sequences=True))\n",
    "# model.add(LSTM(224, return_sequences=True))\n",
    "# model.add(LSTM(160, activation='relu'))\n",
    "# model.add(Dropout(0.1))\n",
    "# model.add(Dense(1))\n",
    "# model.compile(optimizer='adam', loss='mean_squared_error')"
   ]
  },
  {
   "cell_type": "code",
   "execution_count": 25,
   "id": "2904dc8f",
   "metadata": {},
   "outputs": [],
   "source": [
    "# Create Stacked LSTM model\n",
    "model = Sequential()\n",
    "model.add(LSTM(100, activation='relu', return_sequences=True, input_shape=(30,1)))\n",
    "model.add(LSTM(100))\n",
    "model.add(Dense(1))\n",
    "model.compile(optimizer='adam', loss='mean_squared_error')"
   ]
  },
  {
   "cell_type": "code",
   "execution_count": 26,
   "id": "2d2dd132",
   "metadata": {},
   "outputs": [
    {
     "name": "stdout",
     "output_type": "stream",
     "text": [
      "Model: \"sequential\"\n",
      "_________________________________________________________________\n",
      " Layer (type)                Output Shape              Param #   \n",
      "=================================================================\n",
      " lstm (LSTM)                 (None, 30, 100)           40800     \n",
      "                                                                 \n",
      " lstm_1 (LSTM)               (None, 100)               80400     \n",
      "                                                                 \n",
      " dense (Dense)               (None, 1)                 101       \n",
      "                                                                 \n",
      "=================================================================\n",
      "Total params: 121,301\n",
      "Trainable params: 121,301\n",
      "Non-trainable params: 0\n",
      "_________________________________________________________________\n"
     ]
    }
   ],
   "source": [
    "model.summary()"
   ]
  },
  {
   "cell_type": "code",
   "execution_count": 27,
   "id": "7314a09a",
   "metadata": {},
   "outputs": [
    {
     "name": "stdout",
     "output_type": "stream",
     "text": [
      "Epoch 1/200\n",
      "17/17 [==============================] - 4s 74ms/step - loss: 0.0125 - val_loss: 0.0235\n",
      "Epoch 2/200\n",
      "17/17 [==============================] - 1s 40ms/step - loss: 0.0057 - val_loss: 0.0131\n",
      "Epoch 3/200\n",
      "17/17 [==============================] - 1s 38ms/step - loss: 0.0043 - val_loss: 0.0110\n",
      "Epoch 4/200\n",
      "17/17 [==============================] - 1s 37ms/step - loss: 0.0040 - val_loss: 0.0093\n",
      "Epoch 5/200\n",
      "17/17 [==============================] - 1s 37ms/step - loss: 0.0037 - val_loss: 0.0092\n",
      "Epoch 6/200\n",
      "17/17 [==============================] - 1s 37ms/step - loss: 0.0034 - val_loss: 0.0088\n",
      "Epoch 7/200\n",
      "17/17 [==============================] - 1s 35ms/step - loss: 0.0037 - val_loss: 0.0076\n",
      "Epoch 8/200\n",
      "17/17 [==============================] - 1s 35ms/step - loss: 0.0034 - val_loss: 0.0078\n",
      "Epoch 9/200\n",
      "17/17 [==============================] - 1s 38ms/step - loss: 0.0032 - val_loss: 0.0069\n",
      "Epoch 10/200\n",
      "17/17 [==============================] - 1s 39ms/step - loss: 0.0032 - val_loss: 0.0068\n",
      "Epoch 11/200\n",
      "17/17 [==============================] - 1s 37ms/step - loss: 0.0031 - val_loss: 0.0072\n",
      "Epoch 12/200\n",
      "17/17 [==============================] - 1s 38ms/step - loss: 0.0031 - val_loss: 0.0063\n",
      "Epoch 13/200\n",
      "17/17 [==============================] - 1s 37ms/step - loss: 0.0030 - val_loss: 0.0061\n",
      "Epoch 14/200\n",
      "17/17 [==============================] - 1s 36ms/step - loss: 0.0028 - val_loss: 0.0061\n",
      "Epoch 15/200\n",
      "17/17 [==============================] - 1s 37ms/step - loss: 0.0027 - val_loss: 0.0062\n",
      "Epoch 16/200\n",
      "17/17 [==============================] - 1s 41ms/step - loss: 0.0031 - val_loss: 0.0058\n",
      "Epoch 17/200\n",
      "17/17 [==============================] - 1s 37ms/step - loss: 0.0028 - val_loss: 0.0061\n",
      "Epoch 18/200\n",
      "17/17 [==============================] - 1s 39ms/step - loss: 0.0026 - val_loss: 0.0061\n",
      "Epoch 19/200\n",
      "17/17 [==============================] - 1s 40ms/step - loss: 0.0027 - val_loss: 0.0054\n",
      "Epoch 20/200\n",
      "17/17 [==============================] - 1s 37ms/step - loss: 0.0027 - val_loss: 0.0059\n",
      "Epoch 21/200\n",
      "17/17 [==============================] - 1s 35ms/step - loss: 0.0026 - val_loss: 0.0063\n",
      "Epoch 22/200\n",
      "17/17 [==============================] - 1s 35ms/step - loss: 0.0026 - val_loss: 0.0058\n",
      "Epoch 23/200\n",
      "17/17 [==============================] - 1s 34ms/step - loss: 0.0025 - val_loss: 0.0052\n",
      "Epoch 24/200\n",
      "17/17 [==============================] - 1s 35ms/step - loss: 0.0025 - val_loss: 0.0058\n",
      "Epoch 25/200\n",
      "17/17 [==============================] - 1s 34ms/step - loss: 0.0027 - val_loss: 0.0050\n",
      "Epoch 26/200\n",
      "17/17 [==============================] - 1s 34ms/step - loss: 0.0023 - val_loss: 0.0059\n",
      "Epoch 27/200\n",
      "17/17 [==============================] - 1s 34ms/step - loss: 0.0024 - val_loss: 0.0051\n",
      "Epoch 28/200\n",
      "17/17 [==============================] - 1s 34ms/step - loss: 0.0023 - val_loss: 0.0060\n",
      "Epoch 29/200\n",
      "17/17 [==============================] - 1s 34ms/step - loss: 0.0025 - val_loss: 0.0052\n",
      "Epoch 30/200\n",
      "17/17 [==============================] - 1s 35ms/step - loss: 0.0022 - val_loss: 0.0066\n",
      "Epoch 31/200\n",
      "17/17 [==============================] - 1s 36ms/step - loss: 0.0023 - val_loss: 0.0051\n",
      "Epoch 32/200\n",
      "17/17 [==============================] - 1s 34ms/step - loss: 0.0023 - val_loss: 0.0062\n",
      "Epoch 33/200\n",
      "17/17 [==============================] - 1s 34ms/step - loss: 0.0027 - val_loss: 0.0053\n",
      "Epoch 34/200\n",
      "17/17 [==============================] - 1s 34ms/step - loss: 0.0022 - val_loss: 0.0056\n",
      "Epoch 35/200\n",
      "17/17 [==============================] - 1s 36ms/step - loss: 0.0022 - val_loss: 0.0048\n",
      "Epoch 36/200\n",
      "17/17 [==============================] - 1s 36ms/step - loss: 0.0022 - val_loss: 0.0055\n",
      "Epoch 37/200\n",
      "17/17 [==============================] - 1s 38ms/step - loss: 0.0020 - val_loss: 0.0053\n",
      "Epoch 38/200\n",
      "17/17 [==============================] - 1s 39ms/step - loss: 0.0021 - val_loss: 0.0053\n",
      "Epoch 39/200\n",
      "17/17 [==============================] - 1s 41ms/step - loss: 0.0024 - val_loss: 0.0060\n",
      "Epoch 40/200\n",
      "17/17 [==============================] - 1s 39ms/step - loss: 0.0018 - val_loss: 0.0051\n",
      "Epoch 41/200\n",
      "17/17 [==============================] - 1s 35ms/step - loss: 0.0021 - val_loss: 0.0060\n",
      "Epoch 42/200\n",
      "17/17 [==============================] - 1s 35ms/step - loss: 0.0023 - val_loss: 0.0054\n",
      "Epoch 43/200\n",
      "17/17 [==============================] - 1s 35ms/step - loss: 0.0019 - val_loss: 0.0059\n",
      "Epoch 44/200\n",
      "17/17 [==============================] - 1s 36ms/step - loss: 0.0020 - val_loss: 0.0052\n",
      "Epoch 45/200\n",
      "17/17 [==============================] - 1s 38ms/step - loss: 0.0018 - val_loss: 0.0065\n",
      "Epoch 46/200\n",
      "17/17 [==============================] - 1s 37ms/step - loss: 0.0020 - val_loss: 0.0058\n",
      "Epoch 47/200\n",
      "17/17 [==============================] - 1s 38ms/step - loss: 0.0018 - val_loss: 0.0060\n",
      "Epoch 48/200\n",
      "17/17 [==============================] - 1s 37ms/step - loss: 0.0018 - val_loss: 0.0059\n",
      "Epoch 49/200\n",
      "17/17 [==============================] - 1s 37ms/step - loss: 0.0022 - val_loss: 0.0069\n",
      "Epoch 50/200\n",
      "17/17 [==============================] - 1s 37ms/step - loss: 0.0018 - val_loss: 0.0051\n",
      "Epoch 51/200\n",
      "17/17 [==============================] - 1s 38ms/step - loss: 0.0017 - val_loss: 0.0050\n",
      "Epoch 52/200\n",
      "17/17 [==============================] - 1s 35ms/step - loss: 0.0015 - val_loss: 0.0061\n",
      "Epoch 53/200\n",
      "17/17 [==============================] - 1s 36ms/step - loss: 0.0016 - val_loss: 0.0057\n",
      "Epoch 54/200\n",
      "17/17 [==============================] - 1s 36ms/step - loss: 0.0015 - val_loss: 0.0067\n",
      "Epoch 55/200\n",
      "17/17 [==============================] - 1s 37ms/step - loss: 0.0015 - val_loss: 0.0067\n",
      "Epoch 56/200\n",
      "17/17 [==============================] - 1s 37ms/step - loss: 0.0014 - val_loss: 0.0059\n",
      "Epoch 57/200\n",
      "17/17 [==============================] - 1s 33ms/step - loss: 0.0014 - val_loss: 0.0065\n",
      "Epoch 58/200\n",
      "17/17 [==============================] - 1s 32ms/step - loss: 0.0018 - val_loss: 0.0057\n",
      "Epoch 59/200\n",
      "17/17 [==============================] - 1s 30ms/step - loss: 0.0014 - val_loss: 0.0059\n",
      "Epoch 60/200\n",
      "17/17 [==============================] - 1s 31ms/step - loss: 0.0015 - val_loss: 0.0057\n",
      "Epoch 61/200\n",
      "17/17 [==============================] - 0s 28ms/step - loss: 0.0017 - val_loss: 0.0050\n",
      "Epoch 62/200\n",
      "17/17 [==============================] - 0s 30ms/step - loss: 0.0019 - val_loss: 0.0052\n",
      "Epoch 63/200\n",
      "17/17 [==============================] - 1s 30ms/step - loss: 0.0016 - val_loss: 0.0067\n",
      "Epoch 64/200\n",
      "17/17 [==============================] - 0s 28ms/step - loss: 0.0015 - val_loss: 0.0053\n",
      "Epoch 65/200\n",
      "17/17 [==============================] - 0s 28ms/step - loss: 0.0013 - val_loss: 0.0055\n",
      "Epoch 66/200\n",
      "17/17 [==============================] - 0s 28ms/step - loss: 0.0012 - val_loss: 0.0059\n",
      "Epoch 67/200\n",
      "17/17 [==============================] - 0s 28ms/step - loss: 0.0013 - val_loss: 0.0054\n",
      "Epoch 68/200\n",
      "17/17 [==============================] - 0s 28ms/step - loss: 0.0014 - val_loss: 0.0071\n",
      "Epoch 69/200\n",
      "17/17 [==============================] - 0s 29ms/step - loss: 0.0012 - val_loss: 0.0057\n",
      "Epoch 70/200\n",
      "17/17 [==============================] - 0s 28ms/step - loss: 0.0012 - val_loss: 0.0059\n",
      "Epoch 71/200\n",
      "17/17 [==============================] - 0s 28ms/step - loss: 0.0012 - val_loss: 0.0055\n",
      "Epoch 72/200\n",
      "17/17 [==============================] - 0s 27ms/step - loss: 0.0014 - val_loss: 0.0069\n",
      "Epoch 73/200\n",
      "17/17 [==============================] - 0s 29ms/step - loss: 0.0016 - val_loss: 0.0051\n",
      "Epoch 74/200\n",
      "17/17 [==============================] - 0s 28ms/step - loss: 0.0013 - val_loss: 0.0059\n",
      "Epoch 75/200\n",
      "17/17 [==============================] - 0s 28ms/step - loss: 0.0012 - val_loss: 0.0049\n",
      "Epoch 76/200\n",
      "17/17 [==============================] - 0s 27ms/step - loss: 0.0012 - val_loss: 0.0059\n",
      "Epoch 77/200\n",
      "17/17 [==============================] - 0s 27ms/step - loss: 0.0012 - val_loss: 0.0052\n",
      "Epoch 78/200\n",
      "17/17 [==============================] - 0s 27ms/step - loss: 0.0011 - val_loss: 0.0055\n",
      "Epoch 79/200\n",
      "17/17 [==============================] - 0s 27ms/step - loss: 0.0011 - val_loss: 0.0074\n",
      "Epoch 80/200\n",
      "17/17 [==============================] - 0s 28ms/step - loss: 0.0016 - val_loss: 0.0049\n",
      "Epoch 81/200\n",
      "17/17 [==============================] - 0s 29ms/step - loss: 0.0012 - val_loss: 0.0080\n",
      "Epoch 82/200\n"
     ]
    },
    {
     "name": "stdout",
     "output_type": "stream",
     "text": [
      "17/17 [==============================] - 0s 28ms/step - loss: 0.0012 - val_loss: 0.0049\n",
      "Epoch 83/200\n",
      "17/17 [==============================] - 0s 29ms/step - loss: 0.0012 - val_loss: 0.0071\n",
      "Epoch 84/200\n",
      "17/17 [==============================] - 1s 30ms/step - loss: 0.0012 - val_loss: 0.0052\n",
      "Epoch 85/200\n",
      "17/17 [==============================] - 0s 29ms/step - loss: 0.0011 - val_loss: 0.0070\n",
      "Epoch 86/200\n",
      "17/17 [==============================] - 0s 28ms/step - loss: 0.0013 - val_loss: 0.0055\n",
      "Epoch 87/200\n",
      "17/17 [==============================] - 0s 28ms/step - loss: 0.0011 - val_loss: 0.0055\n",
      "Epoch 88/200\n",
      "17/17 [==============================] - 0s 29ms/step - loss: 0.0011 - val_loss: 0.0071\n",
      "Epoch 89/200\n",
      "17/17 [==============================] - 0s 29ms/step - loss: 0.0012 - val_loss: 0.0055\n",
      "Epoch 90/200\n",
      "17/17 [==============================] - 0s 27ms/step - loss: 0.0011 - val_loss: 0.0063\n",
      "Epoch 91/200\n",
      "17/17 [==============================] - 0s 27ms/step - loss: 0.0013 - val_loss: 0.0057\n",
      "Epoch 92/200\n",
      "17/17 [==============================] - 0s 28ms/step - loss: 0.0011 - val_loss: 0.0080\n",
      "Epoch 93/200\n",
      "17/17 [==============================] - 0s 27ms/step - loss: 0.0013 - val_loss: 0.0055\n",
      "Epoch 94/200\n",
      "17/17 [==============================] - 0s 29ms/step - loss: 0.0011 - val_loss: 0.0060\n",
      "Epoch 95/200\n",
      "17/17 [==============================] - 0s 29ms/step - loss: 0.0011 - val_loss: 0.0060\n",
      "Epoch 96/200\n",
      "17/17 [==============================] - 0s 29ms/step - loss: 0.0011 - val_loss: 0.0050\n",
      "Epoch 97/200\n",
      "17/17 [==============================] - 0s 28ms/step - loss: 0.0013 - val_loss: 0.0093\n",
      "Epoch 98/200\n",
      "17/17 [==============================] - 0s 27ms/step - loss: 0.0012 - val_loss: 0.0054\n",
      "Epoch 99/200\n",
      "17/17 [==============================] - 1s 31ms/step - loss: 0.0011 - val_loss: 0.0063\n",
      "Epoch 100/200\n",
      "17/17 [==============================] - 0s 28ms/step - loss: 9.9951e-04 - val_loss: 0.0064\n",
      "Epoch 101/200\n",
      "17/17 [==============================] - 0s 27ms/step - loss: 0.0011 - val_loss: 0.0057\n",
      "Epoch 102/200\n",
      "17/17 [==============================] - 0s 28ms/step - loss: 0.0010 - val_loss: 0.0075\n",
      "Epoch 103/200\n",
      "17/17 [==============================] - 0s 29ms/step - loss: 0.0011 - val_loss: 0.0058\n",
      "Epoch 104/200\n",
      "17/17 [==============================] - 0s 28ms/step - loss: 9.9437e-04 - val_loss: 0.0059\n",
      "Epoch 105/200\n",
      "17/17 [==============================] - 1s 30ms/step - loss: 0.0012 - val_loss: 0.0073\n",
      "Epoch 106/200\n",
      "17/17 [==============================] - 0s 28ms/step - loss: 0.0013 - val_loss: 0.0062\n",
      "Epoch 107/200\n",
      "17/17 [==============================] - 0s 28ms/step - loss: 0.0010 - val_loss: 0.0064\n",
      "Epoch 108/200\n",
      "17/17 [==============================] - 0s 28ms/step - loss: 9.9228e-04 - val_loss: 0.0063\n",
      "Epoch 109/200\n",
      "17/17 [==============================] - 0s 27ms/step - loss: 0.0010 - val_loss: 0.0053\n",
      "Epoch 110/200\n",
      "17/17 [==============================] - 0s 29ms/step - loss: 0.0010 - val_loss: 0.0057\n",
      "Epoch 111/200\n",
      "17/17 [==============================] - 0s 27ms/step - loss: 0.0012 - val_loss: 0.0068\n",
      "Epoch 112/200\n",
      "17/17 [==============================] - 0s 27ms/step - loss: 0.0010 - val_loss: 0.0059\n",
      "Epoch 113/200\n",
      "17/17 [==============================] - 0s 28ms/step - loss: 0.0011 - val_loss: 0.0057\n",
      "Epoch 114/200\n",
      "17/17 [==============================] - 0s 27ms/step - loss: 9.1435e-04 - val_loss: 0.0076\n",
      "Epoch 115/200\n",
      "17/17 [==============================] - 0s 28ms/step - loss: 9.4697e-04 - val_loss: 0.0053\n",
      "Epoch 116/200\n",
      "17/17 [==============================] - 0s 27ms/step - loss: 0.0011 - val_loss: 0.0086\n",
      "Epoch 117/200\n",
      "17/17 [==============================] - 0s 29ms/step - loss: 0.0011 - val_loss: 0.0057\n",
      "Epoch 118/200\n",
      "17/17 [==============================] - 0s 27ms/step - loss: 0.0011 - val_loss: 0.0056\n",
      "Epoch 119/200\n",
      "17/17 [==============================] - 0s 28ms/step - loss: 9.3921e-04 - val_loss: 0.0062\n",
      "Epoch 120/200\n",
      "17/17 [==============================] - 0s 28ms/step - loss: 8.9518e-04 - val_loss: 0.0055\n",
      "Epoch 121/200\n",
      "17/17 [==============================] - 0s 28ms/step - loss: 0.0010 - val_loss: 0.0058\n",
      "Epoch 122/200\n",
      "17/17 [==============================] - 0s 28ms/step - loss: 0.0010 - val_loss: 0.0066\n",
      "Epoch 123/200\n",
      "17/17 [==============================] - 0s 28ms/step - loss: 9.3723e-04 - val_loss: 0.0060\n",
      "Epoch 124/200\n",
      "17/17 [==============================] - 0s 27ms/step - loss: 8.5446e-04 - val_loss: 0.0062\n",
      "Epoch 125/200\n",
      "17/17 [==============================] - 0s 28ms/step - loss: 8.5984e-04 - val_loss: 0.0060\n",
      "Epoch 126/200\n",
      "17/17 [==============================] - 0s 28ms/step - loss: 8.4225e-04 - val_loss: 0.0074\n",
      "Epoch 127/200\n",
      "17/17 [==============================] - 0s 28ms/step - loss: 8.9575e-04 - val_loss: 0.0056\n",
      "Epoch 128/200\n",
      "17/17 [==============================] - 0s 27ms/step - loss: 9.2532e-04 - val_loss: 0.0073\n",
      "Epoch 129/200\n",
      "17/17 [==============================] - 1s 30ms/step - loss: 9.0075e-04 - val_loss: 0.0068\n",
      "Epoch 130/200\n",
      "17/17 [==============================] - 0s 28ms/step - loss: 8.6457e-04 - val_loss: 0.0067\n",
      "Epoch 131/200\n",
      "17/17 [==============================] - 1s 32ms/step - loss: 9.5291e-04 - val_loss: 0.0062\n",
      "Epoch 132/200\n",
      "17/17 [==============================] - 1s 32ms/step - loss: 9.6213e-04 - val_loss: 0.0055\n",
      "Epoch 133/200\n",
      "17/17 [==============================] - 1s 30ms/step - loss: 9.9370e-04 - val_loss: 0.0059\n",
      "Epoch 134/200\n",
      "17/17 [==============================] - 1s 30ms/step - loss: 8.7411e-04 - val_loss: 0.0066\n",
      "Epoch 135/200\n",
      "17/17 [==============================] - 0s 29ms/step - loss: 8.3796e-04 - val_loss: 0.0062\n",
      "Epoch 136/200\n",
      "17/17 [==============================] - 0s 29ms/step - loss: 8.6679e-04 - val_loss: 0.0068\n",
      "Epoch 137/200\n",
      "17/17 [==============================] - 0s 29ms/step - loss: 9.2302e-04 - val_loss: 0.0057\n",
      "Epoch 138/200\n",
      "17/17 [==============================] - 0s 28ms/step - loss: 0.0010 - val_loss: 0.0071\n",
      "Epoch 139/200\n",
      "17/17 [==============================] - 0s 27ms/step - loss: 8.7762e-04 - val_loss: 0.0058\n",
      "Epoch 140/200\n",
      "17/17 [==============================] - 1s 30ms/step - loss: 8.2654e-04 - val_loss: 0.0072\n",
      "Epoch 141/200\n",
      "17/17 [==============================] - 1s 31ms/step - loss: 7.8324e-04 - val_loss: 0.0062\n",
      "Epoch 142/200\n",
      "17/17 [==============================] - 1s 33ms/step - loss: 7.9729e-04 - val_loss: 0.0068\n",
      "Epoch 143/200\n",
      "17/17 [==============================] - 1s 31ms/step - loss: 8.6602e-04 - val_loss: 0.0063\n",
      "Epoch 144/200\n",
      "17/17 [==============================] - 0s 29ms/step - loss: 8.5276e-04 - val_loss: 0.0076\n",
      "Epoch 145/200\n",
      "17/17 [==============================] - 1s 32ms/step - loss: 8.5531e-04 - val_loss: 0.0060\n",
      "Epoch 146/200\n",
      "17/17 [==============================] - 1s 30ms/step - loss: 8.8564e-04 - val_loss: 0.0074\n",
      "Epoch 147/200\n",
      "17/17 [==============================] - 0s 30ms/step - loss: 7.4501e-04 - val_loss: 0.0071\n",
      "Epoch 148/200\n",
      "17/17 [==============================] - 0s 29ms/step - loss: 8.7744e-04 - val_loss: 0.0059\n",
      "Epoch 149/200\n",
      "17/17 [==============================] - 0s 29ms/step - loss: 9.0046e-04 - val_loss: 0.0076\n",
      "Epoch 150/200\n",
      "17/17 [==============================] - 0s 29ms/step - loss: 8.2107e-04 - val_loss: 0.0063\n",
      "Epoch 151/200\n",
      "17/17 [==============================] - 0s 28ms/step - loss: 8.5389e-04 - val_loss: 0.0061\n",
      "Epoch 152/200\n",
      "17/17 [==============================] - 0s 28ms/step - loss: 7.8012e-04 - val_loss: 0.0063\n",
      "Epoch 153/200\n",
      "17/17 [==============================] - 0s 28ms/step - loss: 9.2007e-04 - val_loss: 0.0072\n",
      "Epoch 154/200\n",
      "17/17 [==============================] - 1s 30ms/step - loss: 8.7233e-04 - val_loss: 0.0065\n",
      "Epoch 155/200\n",
      "17/17 [==============================] - 1s 35ms/step - loss: 8.0228e-04 - val_loss: 0.0066\n",
      "Epoch 156/200\n",
      "17/17 [==============================] - 0s 28ms/step - loss: 8.3645e-04 - val_loss: 0.0070\n",
      "Epoch 157/200\n",
      "17/17 [==============================] - 1s 34ms/step - loss: 7.8687e-04 - val_loss: 0.0070\n",
      "Epoch 158/200\n",
      "17/17 [==============================] - 1s 35ms/step - loss: 7.1639e-04 - val_loss: 0.0066\n",
      "Epoch 159/200\n",
      "17/17 [==============================] - 1s 34ms/step - loss: 8.4644e-04 - val_loss: 0.0065\n",
      "Epoch 160/200\n",
      "17/17 [==============================] - 1s 34ms/step - loss: 8.3532e-04 - val_loss: 0.0073\n"
     ]
    },
    {
     "name": "stdout",
     "output_type": "stream",
     "text": [
      "Epoch 161/200\n",
      "17/17 [==============================] - 1s 36ms/step - loss: 7.5353e-04 - val_loss: 0.0066\n",
      "Epoch 162/200\n",
      "17/17 [==============================] - 1s 35ms/step - loss: 8.2487e-04 - val_loss: 0.0076\n",
      "Epoch 163/200\n",
      "17/17 [==============================] - 1s 36ms/step - loss: 9.7697e-04 - val_loss: 0.0058\n",
      "Epoch 164/200\n",
      "17/17 [==============================] - 1s 34ms/step - loss: 8.5490e-04 - val_loss: 0.0070\n",
      "Epoch 165/200\n",
      "17/17 [==============================] - 1s 34ms/step - loss: 7.3908e-04 - val_loss: 0.0069\n",
      "Epoch 166/200\n",
      "17/17 [==============================] - 1s 38ms/step - loss: 7.9333e-04 - val_loss: 0.0065\n",
      "Epoch 167/200\n",
      "17/17 [==============================] - 1s 38ms/step - loss: 7.9140e-04 - val_loss: 0.0071\n",
      "Epoch 168/200\n",
      "17/17 [==============================] - 1s 40ms/step - loss: 8.3398e-04 - val_loss: 0.0067\n",
      "Epoch 169/200\n",
      "17/17 [==============================] - 1s 41ms/step - loss: 7.6907e-04 - val_loss: 0.0065\n",
      "Epoch 170/200\n",
      "17/17 [==============================] - 1s 45ms/step - loss: 9.1732e-04 - val_loss: 0.0062\n",
      "Epoch 171/200\n",
      "17/17 [==============================] - 1s 41ms/step - loss: 9.5405e-04 - val_loss: 0.0075\n",
      "Epoch 172/200\n",
      "17/17 [==============================] - 1s 39ms/step - loss: 8.0869e-04 - val_loss: 0.0061\n",
      "Epoch 173/200\n",
      "17/17 [==============================] - 1s 36ms/step - loss: 7.6539e-04 - val_loss: 0.0066\n",
      "Epoch 174/200\n",
      "17/17 [==============================] - 1s 35ms/step - loss: 7.2442e-04 - val_loss: 0.0070\n",
      "Epoch 175/200\n",
      "17/17 [==============================] - 1s 39ms/step - loss: 6.7521e-04 - val_loss: 0.0072\n",
      "Epoch 176/200\n",
      "17/17 [==============================] - 1s 39ms/step - loss: 8.5815e-04 - val_loss: 0.0063\n",
      "Epoch 177/200\n",
      "17/17 [==============================] - 1s 35ms/step - loss: 8.0001e-04 - val_loss: 0.0079\n",
      "Epoch 178/200\n",
      "17/17 [==============================] - 1s 36ms/step - loss: 7.8451e-04 - val_loss: 0.0060\n",
      "Epoch 179/200\n",
      "17/17 [==============================] - 1s 35ms/step - loss: 7.8097e-04 - val_loss: 0.0080\n",
      "Epoch 180/200\n",
      "17/17 [==============================] - 1s 38ms/step - loss: 8.1231e-04 - val_loss: 0.0060\n",
      "Epoch 181/200\n",
      "17/17 [==============================] - 1s 37ms/step - loss: 7.4181e-04 - val_loss: 0.0068\n",
      "Epoch 182/200\n",
      "17/17 [==============================] - 1s 37ms/step - loss: 6.6556e-04 - val_loss: 0.0066\n",
      "Epoch 183/200\n",
      "17/17 [==============================] - 1s 37ms/step - loss: 7.4215e-04 - val_loss: 0.0075\n",
      "Epoch 184/200\n",
      "17/17 [==============================] - 1s 40ms/step - loss: 7.7530e-04 - val_loss: 0.0064\n",
      "Epoch 185/200\n",
      "17/17 [==============================] - 1s 39ms/step - loss: 7.0179e-04 - val_loss: 0.0066\n",
      "Epoch 186/200\n",
      "17/17 [==============================] - 1s 41ms/step - loss: 7.5017e-04 - val_loss: 0.0067\n",
      "Epoch 187/200\n",
      "17/17 [==============================] - 1s 41ms/step - loss: 6.6180e-04 - val_loss: 0.0078\n",
      "Epoch 188/200\n",
      "17/17 [==============================] - 1s 38ms/step - loss: 9.2929e-04 - val_loss: 0.0061\n",
      "Epoch 189/200\n",
      "17/17 [==============================] - 1s 38ms/step - loss: 7.5341e-04 - val_loss: 0.0066\n",
      "Epoch 190/200\n",
      "17/17 [==============================] - 1s 37ms/step - loss: 6.9466e-04 - val_loss: 0.0071\n",
      "Epoch 191/200\n",
      "17/17 [==============================] - 1s 37ms/step - loss: 7.3474e-04 - val_loss: 0.0060\n",
      "Epoch 192/200\n",
      "17/17 [==============================] - 1s 39ms/step - loss: 9.0248e-04 - val_loss: 0.0071\n",
      "Epoch 193/200\n",
      "17/17 [==============================] - 1s 38ms/step - loss: 7.6391e-04 - val_loss: 0.0068\n",
      "Epoch 194/200\n",
      "17/17 [==============================] - 1s 43ms/step - loss: 7.9800e-04 - val_loss: 0.0067\n",
      "Epoch 195/200\n",
      "17/17 [==============================] - 1s 43ms/step - loss: 6.9933e-04 - val_loss: 0.0071\n",
      "Epoch 196/200\n",
      "17/17 [==============================] - 1s 37ms/step - loss: 6.5266e-04 - val_loss: 0.0072\n",
      "Epoch 197/200\n",
      "17/17 [==============================] - 1s 35ms/step - loss: 7.2506e-04 - val_loss: 0.0068\n",
      "Epoch 198/200\n",
      "17/17 [==============================] - 1s 37ms/step - loss: 6.6179e-04 - val_loss: 0.0076\n",
      "Epoch 199/200\n",
      "17/17 [==============================] - 1s 36ms/step - loss: 7.4914e-04 - val_loss: 0.0064\n",
      "Epoch 200/200\n",
      "17/17 [==============================] - 1s 37ms/step - loss: 6.5981e-04 - val_loss: 0.0072\n"
     ]
    },
    {
     "data": {
      "text/plain": [
       "<keras.callbacks.History at 0x1ca648fe7c8>"
      ]
     },
     "execution_count": 27,
     "metadata": {},
     "output_type": "execute_result"
    }
   ],
   "source": [
    "model.fit(X_train, Y_train, validation_data=(X_test, Y_test), epochs=200, batch_size=32, verbose=1)"
   ]
  },
  {
   "cell_type": "code",
   "execution_count": 28,
   "id": "70978904",
   "metadata": {},
   "outputs": [
    {
     "data": {
      "text/plain": [
       "[<matplotlib.lines.Line2D at 0x1ca6c08ad88>]"
      ]
     },
     "execution_count": 28,
     "metadata": {},
     "output_type": "execute_result"
    },
    {
     "data": {
      "image/png": "[encoded data removed]",
      "text/plain": [
       "<Figure size 432x288 with 1 Axes>"
      ]
     },
     "metadata": {
      "needs_background": "light"
     },
     "output_type": "display_data"
    }
   ],
   "source": [
    "loss_per_epoch = model.history.history['loss']\n",
    "plt.plot(range(len(loss_per_epoch)), loss_per_epoch)"
   ]
  },
  {
   "cell_type": "code",
   "execution_count": 29,
   "id": "aedaea4a",
   "metadata": {},
   "outputs": [],
   "source": [
    "train_predict=model.predict(X_train)\n",
    "test_predict=model.predict(X_test)"
   ]
  },
  {
   "cell_type": "code",
   "execution_count": 30,
   "id": "891264b3",
   "metadata": {},
   "outputs": [],
   "source": [
    "# Transform back to original value\n",
    "train_predict=scaler.inverse_transform(train_predict)\n",
    "test_predict=scaler.inverse_transform(test_predict)"
   ]
  },
  {
   "cell_type": "code",
   "execution_count": 31,
   "id": "066295da",
   "metadata": {},
   "outputs": [
    {
     "data": {
      "text/plain": [
       "1508.3672463959167"
      ]
     },
     "execution_count": 31,
     "metadata": {},
     "output_type": "execute_result"
    }
   ],
   "source": [
    "# Calculate RMSE performance metrics\n",
    "import math\n",
    "from sklearn.metrics import mean_squared_error\n",
    "math.sqrt(mean_squared_error(Y_train, train_predict))"
   ]
  },
  {
   "cell_type": "code",
   "execution_count": 32,
   "id": "c294771f",
   "metadata": {},
   "outputs": [
    {
     "data": {
      "text/plain": [
       "2484.639309839559"
      ]
     },
     "execution_count": 32,
     "metadata": {},
     "output_type": "execute_result"
    }
   ],
   "source": [
    "math.sqrt(mean_squared_error(Y_test, test_predict))"
   ]
  },
  {
   "cell_type": "code",
   "execution_count": 33,
   "id": "f604fd1e",
   "metadata": {},
   "outputs": [
    {
     "data": {
      "text/plain": [
       "array([[  74.91477 ],\n",
       "       [  75.818436],\n",
       "       [  79.1314  ],\n",
       "       [  84.026764],\n",
       "       [  88.81427 ],\n",
       "       [  92.10778 ],\n",
       "       [  92.64153 ],\n",
       "       [  91.042496],\n",
       "       [  88.75315 ],\n",
       "       [  87.49261 ],\n",
       "       [  87.2221  ],\n",
       "       [  92.87528 ],\n",
       "       [ 102.32141 ],\n",
       "       [ 112.33914 ],\n",
       "       [ 120.05962 ],\n",
       "       [ 126.42894 ],\n",
       "       [ 131.77481 ],\n",
       "       [ 133.34074 ],\n",
       "       [ 135.7728  ],\n",
       "       [ 138.34515 ],\n",
       "       [ 142.73477 ],\n",
       "       [ 155.52823 ],\n",
       "       [ 161.01192 ],\n",
       "       [ 185.42487 ],\n",
       "       [ 207.11081 ],\n",
       "       [ 240.3296  ],\n",
       "       [ 267.66772 ],\n",
       "       [ 282.74875 ],\n",
       "       [ 277.6558  ],\n",
       "       [ 257.45544 ],\n",
       "       [ 236.10233 ],\n",
       "       [ 223.07217 ],\n",
       "       [ 219.5948  ],\n",
       "       [ 227.49277 ],\n",
       "       [ 236.60712 ],\n",
       "       [ 236.76196 ],\n",
       "       [ 227.4918  ],\n",
       "       [ 208.59883 ],\n",
       "       [ 190.86505 ],\n",
       "       [ 176.64534 ],\n",
       "       [ 170.43303 ],\n",
       "       [ 184.46577 ],\n",
       "       [ 209.7546  ],\n",
       "       [ 237.95006 ],\n",
       "       [ 259.512   ],\n",
       "       [ 270.28943 ],\n",
       "       [ 273.16312 ],\n",
       "       [ 267.0155  ],\n",
       "       [ 264.09164 ],\n",
       "       [ 271.6149  ],\n",
       "       [ 282.30554 ],\n",
       "       [ 296.42624 ],\n",
       "       [ 304.33362 ],\n",
       "       [ 311.14108 ],\n",
       "       [ 307.7634  ],\n",
       "       [ 298.45547 ],\n",
       "       [ 292.98853 ],\n",
       "       [ 291.1131  ],\n",
       "       [ 290.65036 ],\n",
       "       [ 296.31335 ],\n",
       "       [ 307.46585 ],\n",
       "       [ 322.95264 ],\n",
       "       [ 328.90408 ],\n",
       "       [ 331.7461  ],\n",
       "       [ 335.90982 ],\n",
       "       [ 345.79776 ],\n",
       "       [ 363.4608  ],\n",
       "       [ 382.05997 ],\n",
       "       [ 403.3777  ],\n",
       "       [ 421.06772 ],\n",
       "       [ 430.62497 ],\n",
       "       [ 426.70114 ],\n",
       "       [ 426.1569  ],\n",
       "       [ 427.22595 ],\n",
       "       [ 423.56604 ],\n",
       "       [ 424.55344 ],\n",
       "       [ 418.26376 ],\n",
       "       [ 399.38232 ],\n",
       "       [ 372.10468 ],\n",
       "       [ 337.4667  ],\n",
       "       [ 306.9416  ],\n",
       "       [ 283.409   ],\n",
       "       [ 274.67004 ],\n",
       "       [ 277.33408 ],\n",
       "       [ 285.68002 ],\n",
       "       [ 308.0303  ],\n",
       "       [ 317.08517 ],\n",
       "       [ 330.36856 ],\n",
       "       [ 346.3863  ],\n",
       "       [ 359.1316  ],\n",
       "       [ 365.15863 ],\n",
       "       [ 361.54498 ],\n",
       "       [ 352.6634  ],\n",
       "       [ 357.58432 ],\n",
       "       [ 357.71658 ],\n",
       "       [ 371.24734 ],\n",
       "       [ 397.6166  ],\n",
       "       [ 424.7385  ],\n",
       "       [ 434.78195 ],\n",
       "       [ 435.98016 ],\n",
       "       [ 426.5563  ],\n",
       "       [ 411.9308  ],\n",
       "       [ 398.90112 ],\n",
       "       [ 394.4284  ],\n",
       "       [ 398.07742 ],\n",
       "       [ 400.16565 ],\n",
       "       [ 397.26813 ],\n",
       "       [ 388.60693 ],\n",
       "       [ 381.8226  ],\n",
       "       [ 375.80344 ],\n",
       "       [ 382.02243 ],\n",
       "       [ 396.53638 ],\n",
       "       [ 409.22842 ],\n",
       "       [ 414.71457 ],\n",
       "       [ 406.76498 ],\n",
       "       [ 395.3986  ],\n",
       "       [ 391.7974  ],\n",
       "       [ 392.90744 ],\n",
       "       [ 392.95023 ],\n",
       "       [ 393.4693  ],\n",
       "       [ 394.4416  ],\n",
       "       [ 402.24625 ],\n",
       "       [ 407.07678 ],\n",
       "       [ 417.74573 ],\n",
       "       [ 441.7145  ],\n",
       "       [ 466.14667 ],\n",
       "       [ 477.507   ],\n",
       "       [ 468.0988  ],\n",
       "       [ 447.10684 ],\n",
       "       [ 420.69568 ],\n",
       "       [ 397.1863  ],\n",
       "       [ 386.7538  ],\n",
       "       [ 380.73547 ],\n",
       "       [ 380.8822  ],\n",
       "       [ 383.72656 ],\n",
       "       [ 385.6505  ],\n",
       "       [ 379.05615 ],\n",
       "       [ 373.02386 ],\n",
       "       [ 362.56592 ],\n",
       "       [ 351.88092 ],\n",
       "       [ 345.18225 ],\n",
       "       [ 353.5582  ],\n",
       "       [ 362.45657 ],\n",
       "       [ 376.4016  ],\n",
       "       [ 392.34186 ],\n",
       "       [ 404.47162 ],\n",
       "       [ 407.06448 ],\n",
       "       [ 401.01562 ],\n",
       "       [ 387.86307 ],\n",
       "       [ 375.36343 ],\n",
       "       [ 362.70773 ],\n",
       "       [ 354.25278 ],\n",
       "       [ 340.67352 ],\n",
       "       [ 335.65356 ],\n",
       "       [ 335.22845 ],\n",
       "       [ 331.46512 ],\n",
       "       [ 349.63165 ],\n",
       "       [ 376.64313 ],\n",
       "       [ 398.27567 ],\n",
       "       [ 400.2629  ],\n",
       "       [ 380.88074 ],\n",
       "       [ 347.2577  ],\n",
       "       [ 317.39288 ],\n",
       "       [ 306.30118 ],\n",
       "       [ 313.59863 ],\n",
       "       [ 332.06555 ],\n",
       "       [ 349.55997 ],\n",
       "       [ 351.58127 ],\n",
       "       [ 339.91397 ],\n",
       "       [ 321.35858 ],\n",
       "       [ 304.19778 ],\n",
       "       [ 293.9763  ],\n",
       "       [ 291.26144 ],\n",
       "       [ 293.7617  ],\n",
       "       [ 296.37436 ],\n",
       "       [ 294.33636 ],\n",
       "       [ 292.87378 ],\n",
       "       [ 292.60223 ],\n",
       "       [ 292.77353 ],\n",
       "       [ 295.1637  ],\n",
       "       [ 298.499   ],\n",
       "       [ 297.62946 ],\n",
       "       [ 296.02618 ],\n",
       "       [ 291.35376 ],\n",
       "       [ 285.81534 ],\n",
       "       [ 295.48236 ],\n",
       "       [ 292.7343  ],\n",
       "       [ 302.831   ],\n",
       "       [ 324.9287  ],\n",
       "       [ 348.35464 ],\n",
       "       [ 358.4994  ],\n",
       "       [ 351.50858 ],\n",
       "       [ 332.92303 ],\n",
       "       [ 311.09515 ],\n",
       "       [ 299.28302 ],\n",
       "       [ 294.6519  ],\n",
       "       [ 299.26526 ],\n",
       "       [ 303.65152 ],\n",
       "       [ 301.35892 ],\n",
       "       [ 288.4076  ],\n",
       "       [ 271.66074 ],\n",
       "       [ 255.85194 ],\n",
       "       [ 248.38995 ],\n",
       "       [ 254.45279 ],\n",
       "       [ 272.8671  ],\n",
       "       [ 303.70862 ],\n",
       "       [ 335.89462 ],\n",
       "       [ 365.20184 ],\n",
       "       [ 381.1407  ],\n",
       "       [ 385.29388 ],\n",
       "       [ 381.65698 ],\n",
       "       [ 382.091   ],\n",
       "       [ 395.9125  ],\n",
       "       [ 416.32816 ],\n",
       "       [ 441.65387 ],\n",
       "       [ 466.72534 ],\n",
       "       [ 484.27908 ],\n",
       "       [ 496.59796 ],\n",
       "       [ 507.59665 ],\n",
       "       [ 520.5995  ],\n",
       "       [ 544.80457 ],\n",
       "       [ 581.4789  ],\n",
       "       [ 621.2578  ],\n",
       "       [ 661.84705 ],\n",
       "       [ 695.7046  ],\n",
       "       [ 729.6413  ],\n",
       "       [ 764.074   ],\n",
       "       [ 807.0506  ],\n",
       "       [ 859.649   ],\n",
       "       [ 912.5708  ],\n",
       "       [ 951.59863 ],\n",
       "       [ 974.00024 ],\n",
       "       [ 977.4996  ],\n",
       "       [ 969.9718  ],\n",
       "       [ 964.6871  ],\n",
       "       [ 972.13763 ],\n",
       "       [ 973.135   ],\n",
       "       [ 968.2124  ],\n",
       "       [ 949.0267  ],\n",
       "       [ 922.4055  ],\n",
       "       [ 897.56824 ],\n",
       "       [ 871.219   ],\n",
       "       [ 855.3731  ],\n",
       "       [ 843.46545 ],\n",
       "       [ 845.9143  ],\n",
       "       [ 904.5445  ],\n",
       "       [ 914.0565  ],\n",
       "       [ 960.6355  ],\n",
       "       [1037.6584  ],\n",
       "       [1117.369   ],\n",
       "       [1144.408   ],\n",
       "       [1104.4865  ],\n",
       "       [1017.2638  ],\n",
       "       [ 929.6393  ],\n",
       "       [ 886.4022  ],\n",
       "       [ 896.20154 ],\n",
       "       [ 949.2451  ],\n",
       "       [1016.7809  ],\n",
       "       [1063.1914  ],\n",
       "       [1068.9982  ],\n",
       "       [1046.0773  ],\n",
       "       [1006.31635 ],\n",
       "       [ 987.0823  ],\n",
       "       [1027.3411  ],\n",
       "       [1114.4027  ],\n",
       "       [1186.6328  ],\n",
       "       [1232.8798  ],\n",
       "       [1224.6654  ],\n",
       "       [1187.7007  ],\n",
       "       [1150.0004  ],\n",
       "       [1122.6278  ],\n",
       "       [1120.5822  ],\n",
       "       [1126.5067  ],\n",
       "       [1134.1951  ],\n",
       "       [1116.1903  ],\n",
       "       [1044.0612  ],\n",
       "       [1017.4282  ],\n",
       "       [ 989.27673 ],\n",
       "       [ 969.7047  ],\n",
       "       [ 926.91113 ],\n",
       "       [ 869.59204 ],\n",
       "       [ 812.1081  ],\n",
       "       [ 752.57904 ],\n",
       "       [ 691.09875 ],\n",
       "       [ 646.39374 ],\n",
       "       [ 603.0421  ],\n",
       "       [ 581.3159  ],\n",
       "       [ 582.3586  ],\n",
       "       [ 569.05554 ],\n",
       "       [ 555.6582  ],\n",
       "       [ 547.4883  ],\n",
       "       [ 551.9865  ],\n",
       "       [ 571.5992  ],\n",
       "       [ 577.7408  ],\n",
       "       [ 552.4281  ],\n",
       "       [ 518.3857  ],\n",
       "       [ 484.60602 ],\n",
       "       [ 469.09293 ],\n",
       "       [ 482.59644 ],\n",
       "       [ 511.71494 ],\n",
       "       [ 534.7267  ],\n",
       "       [ 537.33325 ],\n",
       "       [ 515.85706 ],\n",
       "       [ 491.60806 ],\n",
       "       [ 469.17578 ],\n",
       "       [ 463.2545  ],\n",
       "       [ 459.212   ],\n",
       "       [ 450.8539  ],\n",
       "       [ 428.41208 ],\n",
       "       [ 402.86874 ],\n",
       "       [ 383.78577 ],\n",
       "       [ 368.72418 ],\n",
       "       [ 362.98642 ],\n",
       "       [ 359.90173 ],\n",
       "       [ 351.71255 ],\n",
       "       [ 341.21716 ],\n",
       "       [ 337.7179  ],\n",
       "       [ 325.30066 ],\n",
       "       [ 317.91522 ],\n",
       "       [ 315.3468  ],\n",
       "       [ 315.47903 ],\n",
       "       [ 312.70227 ],\n",
       "       [ 305.5395  ],\n",
       "       [ 295.72452 ],\n",
       "       [ 288.92957 ],\n",
       "       [ 287.72974 ],\n",
       "       [ 291.01675 ],\n",
       "       [ 293.2658  ],\n",
       "       [ 293.82397 ],\n",
       "       [ 292.10974 ],\n",
       "       [ 287.30008 ],\n",
       "       [ 282.88943 ],\n",
       "       [ 286.06265 ],\n",
       "       [ 294.01605 ],\n",
       "       [ 304.5215  ],\n",
       "       [ 310.9621  ],\n",
       "       [ 309.11716 ],\n",
       "       [ 302.5018  ],\n",
       "       [ 295.04294 ],\n",
       "       [ 290.64023 ],\n",
       "       [ 288.6857  ],\n",
       "       [ 288.5093  ],\n",
       "       [ 288.31042 ],\n",
       "       [ 285.66202 ],\n",
       "       [ 286.74033 ],\n",
       "       [ 292.3629  ],\n",
       "       [ 300.92618 ],\n",
       "       [ 309.0626  ],\n",
       "       [ 312.6496  ],\n",
       "       [ 309.90482 ],\n",
       "       [ 302.6972  ],\n",
       "       [ 294.41913 ],\n",
       "       [ 290.44403 ],\n",
       "       [ 292.39493 ],\n",
       "       [ 300.2219  ],\n",
       "       [ 307.4148  ],\n",
       "       [ 311.1545  ],\n",
       "       [ 308.30798 ],\n",
       "       [ 302.70953 ],\n",
       "       [ 297.1853  ],\n",
       "       [ 295.90347 ],\n",
       "       [ 299.42752 ],\n",
       "       [ 302.80838 ],\n",
       "       [ 304.49826 ],\n",
       "       [ 302.44946 ],\n",
       "       [ 298.50046 ],\n",
       "       [ 295.17407 ],\n",
       "       [ 297.15207 ],\n",
       "       [ 302.37048 ],\n",
       "       [ 306.1411  ],\n",
       "       [ 302.15317 ],\n",
       "       [ 292.8376  ],\n",
       "       [ 282.90387 ],\n",
       "       [ 277.0955  ],\n",
       "       [ 275.7754  ],\n",
       "       [ 275.641   ],\n",
       "       [ 275.8106  ],\n",
       "       [ 272.08066 ],\n",
       "       [ 263.18393 ],\n",
       "       [ 253.91537 ],\n",
       "       [ 244.59204 ],\n",
       "       [ 232.79466 ],\n",
       "       [ 221.23422 ],\n",
       "       [ 211.59084 ],\n",
       "       [ 205.9542  ],\n",
       "       [ 206.00804 ],\n",
       "       [ 211.78511 ],\n",
       "       [ 222.57768 ],\n",
       "       [ 234.86417 ],\n",
       "       [ 245.00198 ],\n",
       "       [ 250.3893  ],\n",
       "       [ 252.35591 ],\n",
       "       [ 251.46657 ],\n",
       "       [ 252.72311 ],\n",
       "       [ 257.2785  ],\n",
       "       [ 263.52072 ],\n",
       "       [ 272.74066 ],\n",
       "       [ 279.8419  ],\n",
       "       [ 283.70618 ],\n",
       "       [ 283.39777 ],\n",
       "       [ 281.6926  ],\n",
       "       [ 278.55    ],\n",
       "       [ 280.89215 ],\n",
       "       [ 288.73825 ],\n",
       "       [ 302.3505  ],\n",
       "       [ 317.8593  ],\n",
       "       [ 336.5382  ],\n",
       "       [ 360.65494 ],\n",
       "       [ 386.96826 ],\n",
       "       [ 420.01248 ],\n",
       "       [ 449.92935 ],\n",
       "       [ 477.58926 ],\n",
       "       [ 507.8933  ],\n",
       "       [ 538.6906  ],\n",
       "       [ 582.07477 ],\n",
       "       [ 644.8648  ],\n",
       "       [ 727.42426 ],\n",
       "       [ 812.5381  ],\n",
       "       [ 886.98254 ],\n",
       "       [ 945.4723  ],\n",
       "       [ 986.78827 ],\n",
       "       [1022.832   ],\n",
       "       [1071.3324  ],\n",
       "       [1133.0361  ],\n",
       "       [1215.0045  ],\n",
       "       [1290.8069  ],\n",
       "       [1356.5309  ],\n",
       "       [1419.5709  ],\n",
       "       [1472.2035  ],\n",
       "       [1546.9995  ],\n",
       "       [1648.4147  ],\n",
       "       [1781.0089  ],\n",
       "       [1958.3976  ],\n",
       "       [2256.4102  ],\n",
       "       [2489.0042  ],\n",
       "       [2794.3108  ],\n",
       "       [3296.0974  ],\n",
       "       [4289.6807  ],\n",
       "       [5635.1396  ],\n",
       "       [8182.0625  ],\n",
       "       [9161.796   ],\n",
       "       [8843.841   ],\n",
       "       [7540.1475  ],\n",
       "       [6258.1367  ],\n",
       "       [5264.0474  ],\n",
       "       [4878.243   ],\n",
       "       [5305.009   ],\n",
       "       [6357.521   ],\n",
       "       [7397.5464  ],\n",
       "       [6771.8184  ],\n",
       "       [4547.8325  ],\n",
       "       [4044.8037  ],\n",
       "       [5826.484   ],\n",
       "       [6958.1416  ],\n",
       "       [6675.912   ],\n",
       "       [5651.461   ],\n",
       "       [4662.4272  ],\n",
       "       [3886.8047  ],\n",
       "       [3518.0286  ],\n",
       "       [3784.8315  ],\n",
       "       [4400.041   ],\n",
       "       [4690.8887  ],\n",
       "       [4439.4346  ],\n",
       "       [3724.2146  ],\n",
       "       [2729.4526  ],\n",
       "       [2483.5159  ],\n",
       "       [3054.2397  ],\n",
       "       [3778.6301  ],\n",
       "       [3989.6458  ],\n",
       "       [3748.259   ],\n",
       "       [3348.569   ],\n",
       "       [2435.9683  ],\n",
       "       [1797.9778  ],\n",
       "       [1882.287   ],\n",
       "       [2410.9014  ],\n",
       "       [2784.5388  ],\n",
       "       [2866.9702  ],\n",
       "       [2279.4832  ],\n",
       "       [1527.4657  ],\n",
       "       [1199.303   ],\n",
       "       [1456.3047  ],\n",
       "       [1645.12    ],\n",
       "       [1684.2262  ],\n",
       "       [1560.3688  ],\n",
       "       [1340.9803  ],\n",
       "       [1085.1774  ],\n",
       "       [ 946.52875 ],\n",
       "       [1016.8925  ],\n",
       "       [1177.323   ],\n",
       "       [1068.398   ],\n",
       "       [ 946.2981  ],\n",
       "       [ 780.50183 ],\n",
       "       [ 652.3024  ],\n",
       "       [ 636.4779  ],\n",
       "       [ 651.53186 ],\n",
       "       [ 649.05743 ],\n",
       "       [ 557.5714  ],\n",
       "       [ 494.7521  ],\n",
       "       [ 426.48016 ],\n",
       "       [ 397.252   ],\n",
       "       [ 414.88464 ],\n",
       "       [ 437.29434 ],\n",
       "       [ 447.5675  ],\n",
       "       [ 423.44733 ],\n",
       "       [ 366.75244 ],\n",
       "       [ 324.72705 ],\n",
       "       [ 291.2411  ],\n",
       "       [ 269.50632 ],\n",
       "       [ 242.0508  ],\n",
       "       [ 243.7893  ],\n",
       "       [ 250.10199 ],\n",
       "       [ 222.32002 ],\n",
       "       [ 192.08603 ],\n",
       "       [ 168.25241 ],\n",
       "       [ 143.55734 ],\n",
       "       [ 129.37206 ],\n",
       "       [ 133.8811  ],\n",
       "       [ 149.95793 ],\n",
       "       [ 141.30106 ],\n",
       "       [ 128.56133 ],\n",
       "       [ 121.308754],\n",
       "       [ 120.694534],\n",
       "       [ 123.22277 ],\n",
       "       [ 124.01873 ],\n",
       "       [ 120.30226 ],\n",
       "       [ 114.04938 ],\n",
       "       [ 108.23196 ],\n",
       "       [ 106.301575],\n",
       "       [ 109.47849 ],\n",
       "       [ 116.33629 ],\n",
       "       [ 122.555145],\n",
       "       [ 124.36237 ],\n",
       "       [ 123.902336],\n",
       "       [ 121.74831 ],\n",
       "       [ 120.98769 ],\n",
       "       [ 120.05112 ],\n",
       "       [ 119.81425 ],\n",
       "       [ 118.77103 ],\n",
       "       [ 116.117645],\n",
       "       [ 112.02747 ],\n",
       "       [ 108.344955],\n",
       "       [ 106.079056],\n",
       "       [ 104.7449  ]], dtype=float32)"
      ]
     },
     "execution_count": 33,
     "metadata": {},
     "output_type": "execute_result"
    }
   ],
   "source": [
    "train_predict"
   ]
  },
  {
   "cell_type": "code",
   "execution_count": 34,
   "id": "32b7ffe3",
   "metadata": {
    "scrolled": true
   },
   "outputs": [
    {
     "data": {
      "image/png": "[encoded data removed]",
      "text/plain": [
       "<Figure size 432x288 with 1 Axes>"
      ]
     },
     "metadata": {
      "needs_background": "light"
     },
     "output_type": "display_data"
    }
   ],
   "source": [
    "# Plot \n",
    "look_back = 30\n",
    "trainPredictPlot = np.empty_like(df)\n",
    "trainPredictPlot[:, :] = np.nan\n",
    "trainPredictPlot[look_back:len(train_predict)+look_back, :] = train_predict\n",
    "\n",
    "#shift test predict\n",
    "testPredictPlot = np.empty_like(df)\n",
    "testPredictPlot[:, :] = np.nan\n",
    "testPredictPlot[len(train_predict)+(look_back*2)+1:len(df)-1, :] = test_predict\n",
    "\n",
    "#plot baseline\n",
    "plt.plot(scaler.inverse_transform(df))\n",
    "plt.plot(scaler.inverse_transform(trainPredictPlot))\n",
    "plt.plot(scaler.inverse_transform(testPredictPlot))\n",
    "plt.show()"
   ]
  },
  {
   "cell_type": "code",
   "execution_count": 35,
   "id": "7bed18aa",
   "metadata": {},
   "outputs": [
    {
     "data": {
      "image/png": "[encoded data removed]",
      "text/plain": [
       "<Figure size 432x288 with 1 Axes>"
      ]
     },
     "metadata": {
      "needs_background": "light"
     },
     "output_type": "display_data"
    }
   ],
   "source": [
    "#shift test predict\n",
    "testPredictPlot = np.empty_like(df)\n",
    "testPredictPlot[:, :] = np.nan\n",
    "testPredictPlot[len(train_predict)+(look_back*2)+1:len(df)-1, :] = test_predict\n",
    "\n",
    "#plot baseline\n",
    "plt.plot(scaler.inverse_transform(df))\n",
    "plt.plot(scaler.inverse_transform(testPredictPlot), 'g')\n",
    "plt.xlim(X_train.shape[0], df.shape[0])\n",
    "plt.show()"
   ]
  },
  {
   "cell_type": "code",
   "execution_count": 36,
   "id": "1355b3d3",
   "metadata": {},
   "outputs": [
    {
     "data": {
      "text/plain": [
       "192"
      ]
     },
     "execution_count": 36,
     "metadata": {},
     "output_type": "execute_result"
    }
   ],
   "source": [
    "len(test_data)"
   ]
  },
  {
   "cell_type": "code",
   "execution_count": 37,
   "id": "0767587c",
   "metadata": {},
   "outputs": [
    {
     "data": {
      "text/plain": [
       "(1, 30)"
      ]
     },
     "execution_count": 37,
     "metadata": {},
     "output_type": "execute_result"
    }
   ],
   "source": [
    "x_input=test_data[162:].reshape(1,-1) #test data - step(30)\n",
    "x_input.shape"
   ]
  },
  {
   "cell_type": "code",
   "execution_count": 38,
   "id": "2f64bd8f",
   "metadata": {},
   "outputs": [],
   "source": [
    "temp_input=list(x_input)\n",
    "temp_input=temp_input[0].tolist()"
   ]
  },
  {
   "cell_type": "code",
   "execution_count": 39,
   "id": "9594be28",
   "metadata": {
    "scrolled": true
   },
   "outputs": [
    {
     "data": {
      "text/plain": [
       "[0.01538118626922369,\n",
       " 0.012929112650454044,\n",
       " 0.009028087370097637,\n",
       " 0.008470797911286354,\n",
       " 0.00479268841445446,\n",
       " 0.01125724520534277,\n",
       " 0.00891662947833538,\n",
       " 0.007133303675800562,\n",
       " 0.005461435299366713,\n",
       " 0.004569772630929947,\n",
       " 0.005572893191128969,\n",
       " 0.002897904720157385,\n",
       " 0.00824788212776184,\n",
       " 0.004012483172118664,\n",
       " 0.0030093626119196415,\n",
       " 0.003901025280356407,\n",
       " 0.003901025280356407,\n",
       " 0.003120820503681898,\n",
       " 0.002229157369583845,\n",
       " 0.005572893191128969,\n",
       " 0.0030093626119196415,\n",
       " 0.0024520731531083584,\n",
       " 0.003901025280356407,\n",
       " 0.0013374944683164358,\n",
       " 0.001894783810712397,\n",
       " 0.00044583145063370466,\n",
       " 0.00033437361707910895,\n",
       " 0.001003120793029666,\n",
       " 0.0014489522436633706,\n",
       " 0.0021176994778215885]"
      ]
     },
     "execution_count": 39,
     "metadata": {},
     "output_type": "execute_result"
    }
   ],
   "source": [
    "temp_input"
   ]
  },
  {
   "cell_type": "code",
   "execution_count": 40,
   "id": "54a16704",
   "metadata": {},
   "outputs": [
    {
     "name": "stdout",
     "output_type": "stream",
     "text": [
      "[0.00568786]\n",
      "31\n",
      "1 day input [0.01292911 0.00902809 0.0084708  0.00479269 0.01125725 0.00891663\n",
      " 0.0071333  0.00546144 0.00456977 0.00557289 0.0028979  0.00824788\n",
      " 0.00401248 0.00300936 0.00390103 0.00390103 0.00312082 0.00222916\n",
      " 0.00557289 0.00300936 0.00245207 0.00390103 0.00133749 0.00189478\n",
      " 0.00044583 0.00033437 0.00100312 0.00144895 0.0021177  0.00568786]\n",
      "1 day output [[0.00550788]]\n",
      "2 day input [0.00902809 0.0084708  0.00479269 0.01125725 0.00891663 0.0071333\n",
      " 0.00546144 0.00456977 0.00557289 0.0028979  0.00824788 0.00401248\n",
      " 0.00300936 0.00390103 0.00390103 0.00312082 0.00222916 0.00557289\n",
      " 0.00300936 0.00245207 0.00390103 0.00133749 0.00189478 0.00044583\n",
      " 0.00033437 0.00100312 0.00144895 0.0021177  0.00568786 0.00550788]\n",
      "2 day output [[0.00550307]]\n",
      "3 day input [0.0084708  0.00479269 0.01125725 0.00891663 0.0071333  0.00546144\n",
      " 0.00456977 0.00557289 0.0028979  0.00824788 0.00401248 0.00300936\n",
      " 0.00390103 0.00390103 0.00312082 0.00222916 0.00557289 0.00300936\n",
      " 0.00245207 0.00390103 0.00133749 0.00189478 0.00044583 0.00033437\n",
      " 0.00100312 0.00144895 0.0021177  0.00568786 0.00550788 0.00550307]\n",
      "3 day output [[0.00579412]]\n",
      "4 day input [0.00479269 0.01125725 0.00891663 0.0071333  0.00546144 0.00456977\n",
      " 0.00557289 0.0028979  0.00824788 0.00401248 0.00300936 0.00390103\n",
      " 0.00390103 0.00312082 0.00222916 0.00557289 0.00300936 0.00245207\n",
      " 0.00390103 0.00133749 0.00189478 0.00044583 0.00033437 0.00100312\n",
      " 0.00144895 0.0021177  0.00568786 0.00550788 0.00550307 0.00579412]\n",
      "4 day output [[0.00632717]]\n",
      "5 day input [0.01125725 0.00891663 0.0071333  0.00546144 0.00456977 0.00557289\n",
      " 0.0028979  0.00824788 0.00401248 0.00300936 0.00390103 0.00390103\n",
      " 0.00312082 0.00222916 0.00557289 0.00300936 0.00245207 0.00390103\n",
      " 0.00133749 0.00189478 0.00044583 0.00033437 0.00100312 0.00144895\n",
      " 0.0021177  0.00568786 0.00550788 0.00550307 0.00579412 0.00632717]\n",
      "5 day output [[0.00701241]]\n",
      "6 day input [0.00891663 0.0071333  0.00546144 0.00456977 0.00557289 0.0028979\n",
      " 0.00824788 0.00401248 0.00300936 0.00390103 0.00390103 0.00312082\n",
      " 0.00222916 0.00557289 0.00300936 0.00245207 0.00390103 0.00133749\n",
      " 0.00189478 0.00044583 0.00033437 0.00100312 0.00144895 0.0021177\n",
      " 0.00568786 0.00550788 0.00550307 0.00579412 0.00632717 0.00701241]\n",
      "6 day output [[0.00763964]]\n",
      "7 day input [0.0071333  0.00546144 0.00456977 0.00557289 0.0028979  0.00824788\n",
      " 0.00401248 0.00300936 0.00390103 0.00390103 0.00312082 0.00222916\n",
      " 0.00557289 0.00300936 0.00245207 0.00390103 0.00133749 0.00189478\n",
      " 0.00044583 0.00033437 0.00100312 0.00144895 0.0021177  0.00568786\n",
      " 0.00550788 0.00550307 0.00579412 0.00632717 0.00701241 0.00763964]\n",
      "7 day output [[0.00813228]]\n",
      "8 day input [0.00546144 0.00456977 0.00557289 0.0028979  0.00824788 0.00401248\n",
      " 0.00300936 0.00390103 0.00390103 0.00312082 0.00222916 0.00557289\n",
      " 0.00300936 0.00245207 0.00390103 0.00133749 0.00189478 0.00044583\n",
      " 0.00033437 0.00100312 0.00144895 0.0021177  0.00568786 0.00550788\n",
      " 0.00550307 0.00579412 0.00632717 0.00701241 0.00763964 0.00813228]\n",
      "8 day output [[0.00854382]]\n",
      "9 day input [0.00456977 0.00557289 0.0028979  0.00824788 0.00401248 0.00300936\n",
      " 0.00390103 0.00390103 0.00312082 0.00222916 0.00557289 0.00300936\n",
      " 0.00245207 0.00390103 0.00133749 0.00189478 0.00044583 0.00033437\n",
      " 0.00100312 0.00144895 0.0021177  0.00568786 0.00550788 0.00550307\n",
      " 0.00579412 0.00632717 0.00701241 0.00763964 0.00813228 0.00854382]\n",
      "9 day output [[0.00895393]]\n",
      "10 day input [0.00557289 0.0028979  0.00824788 0.00401248 0.00300936 0.00390103\n",
      " 0.00390103 0.00312082 0.00222916 0.00557289 0.00300936 0.00245207\n",
      " 0.00390103 0.00133749 0.00189478 0.00044583 0.00033437 0.00100312\n",
      " 0.00144895 0.0021177  0.00568786 0.00550788 0.00550307 0.00579412\n",
      " 0.00632717 0.00701241 0.00763964 0.00813228 0.00854382 0.00895393]\n",
      "10 day output [[0.00947198]]\n",
      "11 day input [0.0028979  0.00824788 0.00401248 0.00300936 0.00390103 0.00390103\n",
      " 0.00312082 0.00222916 0.00557289 0.00300936 0.00245207 0.00390103\n",
      " 0.00133749 0.00189478 0.00044583 0.00033437 0.00100312 0.00144895\n",
      " 0.0021177  0.00568786 0.00550788 0.00550307 0.00579412 0.00632717\n",
      " 0.00701241 0.00763964 0.00813228 0.00854382 0.00895393 0.00947198]\n",
      "11 day output [[0.01009469]]\n",
      "12 day input [0.00824788 0.00401248 0.00300936 0.00390103 0.00390103 0.00312082\n",
      " 0.00222916 0.00557289 0.00300936 0.00245207 0.00390103 0.00133749\n",
      " 0.00189478 0.00044583 0.00033437 0.00100312 0.00144895 0.0021177\n",
      " 0.00568786 0.00550788 0.00550307 0.00579412 0.00632717 0.00701241\n",
      " 0.00763964 0.00813228 0.00854382 0.00895393 0.00947198 0.01009469]\n",
      "12 day output [[0.01083658]]\n",
      "13 day input [0.00401248 0.00300936 0.00390103 0.00390103 0.00312082 0.00222916\n",
      " 0.00557289 0.00300936 0.00245207 0.00390103 0.00133749 0.00189478\n",
      " 0.00044583 0.00033437 0.00100312 0.00144895 0.0021177  0.00568786\n",
      " 0.00550788 0.00550307 0.00579412 0.00632717 0.00701241 0.00763964\n",
      " 0.00813228 0.00854382 0.00895393 0.00947198 0.01009469 0.01083658]\n",
      "13 day output [[0.01155365]]\n",
      "14 day input [0.00300936 0.00390103 0.00390103 0.00312082 0.00222916 0.00557289\n",
      " 0.00300936 0.00245207 0.00390103 0.00133749 0.00189478 0.00044583\n",
      " 0.00033437 0.00100312 0.00144895 0.0021177  0.00568786 0.00550788\n",
      " 0.00550307 0.00579412 0.00632717 0.00701241 0.00763964 0.00813228\n",
      " 0.00854382 0.00895393 0.00947198 0.01009469 0.01083658 0.01155365]\n",
      "14 day output [[0.01221775]]\n",
      "15 day input [0.00390103 0.00390103 0.00312082 0.00222916 0.00557289 0.00300936\n",
      " 0.00245207 0.00390103 0.00133749 0.00189478 0.00044583 0.00033437\n",
      " 0.00100312 0.00144895 0.0021177  0.00568786 0.00550788 0.00550307\n",
      " 0.00579412 0.00632717 0.00701241 0.00763964 0.00813228 0.00854382\n",
      " 0.00895393 0.00947198 0.01009469 0.01083658 0.01155365 0.01221775]\n",
      "15 day output [[0.01281844]]\n",
      "16 day input [0.00390103 0.00312082 0.00222916 0.00557289 0.00300936 0.00245207\n",
      " 0.00390103 0.00133749 0.00189478 0.00044583 0.00033437 0.00100312\n",
      " 0.00144895 0.0021177  0.00568786 0.00550788 0.00550307 0.00579412\n",
      " 0.00632717 0.00701241 0.00763964 0.00813228 0.00854382 0.00895393\n",
      " 0.00947198 0.01009469 0.01083658 0.01155365 0.01221775 0.01281844]\n",
      "16 day output [[0.01334685]]\n",
      "17 day input [0.00312082 0.00222916 0.00557289 0.00300936 0.00245207 0.00390103\n",
      " 0.00133749 0.00189478 0.00044583 0.00033437 0.00100312 0.00144895\n",
      " 0.0021177  0.00568786 0.00550788 0.00550307 0.00579412 0.00632717\n",
      " 0.00701241 0.00763964 0.00813228 0.00854382 0.00895393 0.00947198\n",
      " 0.01009469 0.01083658 0.01155365 0.01221775 0.01281844 0.01334685]\n",
      "17 day output [[0.01385185]]\n",
      "18 day input [0.00222916 0.00557289 0.00300936 0.00245207 0.00390103 0.00133749\n",
      " 0.00189478 0.00044583 0.00033437 0.00100312 0.00144895 0.0021177\n",
      " 0.00568786 0.00550788 0.00550307 0.00579412 0.00632717 0.00701241\n",
      " 0.00763964 0.00813228 0.00854382 0.00895393 0.00947198 0.01009469\n",
      " 0.01083658 0.01155365 0.01221775 0.01281844 0.01334685 0.01385185]\n",
      "18 day output [[0.01436932]]\n",
      "19 day input [0.00557289 0.00300936 0.00245207 0.00390103 0.00133749 0.00189478\n",
      " 0.00044583 0.00033437 0.00100312 0.00144895 0.0021177  0.00568786\n",
      " 0.00550788 0.00550307 0.00579412 0.00632717 0.00701241 0.00763964\n",
      " 0.00813228 0.00854382 0.00895393 0.00947198 0.01009469 0.01083658\n",
      " 0.01155365 0.01221775 0.01281844 0.01334685 0.01385185 0.01436932]\n",
      "19 day output [[0.01493864]]\n",
      "20 day input [0.00300936 0.00245207 0.00390103 0.00133749 0.00189478 0.00044583\n",
      " 0.00033437 0.00100312 0.00144895 0.0021177  0.00568786 0.00550788\n",
      " 0.00550307 0.00579412 0.00632717 0.00701241 0.00763964 0.00813228\n",
      " 0.00854382 0.00895393 0.00947198 0.01009469 0.01083658 0.01155365\n",
      " 0.01221775 0.01281844 0.01334685 0.01385185 0.01436932 0.01493864]\n",
      "20 day output [[0.01551409]]\n",
      "21 day input [0.00245207 0.00390103 0.00133749 0.00189478 0.00044583 0.00033437\n",
      " 0.00100312 0.00144895 0.0021177  0.00568786 0.00550788 0.00550307\n",
      " 0.00579412 0.00632717 0.00701241 0.00763964 0.00813228 0.00854382\n",
      " 0.00895393 0.00947198 0.01009469 0.01083658 0.01155365 0.01221775\n",
      " 0.01281844 0.01334685 0.01385185 0.01436932 0.01493864 0.01551409]\n",
      "21 day output [[0.01608677]]\n",
      "22 day input [0.00390103 0.00133749 0.00189478 0.00044583 0.00033437 0.00100312\n",
      " 0.00144895 0.0021177  0.00568786 0.00550788 0.00550307 0.00579412\n",
      " 0.00632717 0.00701241 0.00763964 0.00813228 0.00854382 0.00895393\n",
      " 0.00947198 0.01009469 0.01083658 0.01155365 0.01221775 0.01281844\n",
      " 0.01334685 0.01385185 0.01436932 0.01493864 0.01551409 0.01608677]\n"
     ]
    },
    {
     "name": "stdout",
     "output_type": "stream",
     "text": [
      "22 day output [[0.01664856]]\n",
      "23 day input [0.00133749 0.00189478 0.00044583 0.00033437 0.00100312 0.00144895\n",
      " 0.0021177  0.00568786 0.00550788 0.00550307 0.00579412 0.00632717\n",
      " 0.00701241 0.00763964 0.00813228 0.00854382 0.00895393 0.00947198\n",
      " 0.01009469 0.01083658 0.01155365 0.01221775 0.01281844 0.01334685\n",
      " 0.01385185 0.01436932 0.01493864 0.01551409 0.01608677 0.01664856]\n",
      "23 day output [[0.01715665]]\n",
      "24 day input [0.00189478 0.00044583 0.00033437 0.00100312 0.00144895 0.0021177\n",
      " 0.00568786 0.00550788 0.00550307 0.00579412 0.00632717 0.00701241\n",
      " 0.00763964 0.00813228 0.00854382 0.00895393 0.00947198 0.01009469\n",
      " 0.01083658 0.01155365 0.01221775 0.01281844 0.01334685 0.01385185\n",
      " 0.01436932 0.01493864 0.01551409 0.01608677 0.01664856 0.01715665]\n",
      "24 day output [[0.01764905]]\n",
      "25 day input [0.00044583 0.00033437 0.00100312 0.00144895 0.0021177  0.00568786\n",
      " 0.00550788 0.00550307 0.00579412 0.00632717 0.00701241 0.00763964\n",
      " 0.00813228 0.00854382 0.00895393 0.00947198 0.01009469 0.01083658\n",
      " 0.01155365 0.01221775 0.01281844 0.01334685 0.01385185 0.01436932\n",
      " 0.01493864 0.01551409 0.01608677 0.01664856 0.01715665 0.01764905]\n",
      "25 day output [[0.01812264]]\n",
      "26 day input [0.00033437 0.00100312 0.00144895 0.0021177  0.00568786 0.00550788\n",
      " 0.00550307 0.00579412 0.00632717 0.00701241 0.00763964 0.00813228\n",
      " 0.00854382 0.00895393 0.00947198 0.01009469 0.01083658 0.01155365\n",
      " 0.01221775 0.01281844 0.01334685 0.01385185 0.01436932 0.01493864\n",
      " 0.01551409 0.01608677 0.01664856 0.01715665 0.01764905 0.01812264]\n",
      "26 day output [[0.01861195]]\n",
      "27 day input [0.00100312 0.00144895 0.0021177  0.00568786 0.00550788 0.00550307\n",
      " 0.00579412 0.00632717 0.00701241 0.00763964 0.00813228 0.00854382\n",
      " 0.00895393 0.00947198 0.01009469 0.01083658 0.01155365 0.01221775\n",
      " 0.01281844 0.01334685 0.01385185 0.01436932 0.01493864 0.01551409\n",
      " 0.01608677 0.01664856 0.01715665 0.01764905 0.01812264 0.01861195]\n",
      "27 day output [[0.01910561]]\n",
      "28 day input [0.00144895 0.0021177  0.00568786 0.00550788 0.00550307 0.00579412\n",
      " 0.00632717 0.00701241 0.00763964 0.00813228 0.00854382 0.00895393\n",
      " 0.00947198 0.01009469 0.01083658 0.01155365 0.01221775 0.01281844\n",
      " 0.01334685 0.01385185 0.01436932 0.01493864 0.01551409 0.01608677\n",
      " 0.01664856 0.01715665 0.01764905 0.01812264 0.01861195 0.01910561]\n",
      "28 day output [[0.01960259]]\n",
      "29 day input [0.0021177  0.00568786 0.00550788 0.00550307 0.00579412 0.00632717\n",
      " 0.00701241 0.00763964 0.00813228 0.00854382 0.00895393 0.00947198\n",
      " 0.01009469 0.01083658 0.01155365 0.01221775 0.01281844 0.01334685\n",
      " 0.01385185 0.01436932 0.01493864 0.01551409 0.01608677 0.01664856\n",
      " 0.01715665 0.01764905 0.01812264 0.01861195 0.01910561 0.01960259]\n",
      "29 day output [[0.02008495]]\n",
      "[[0.0056878551840782166], [0.005507875233888626], [0.00550306960940361], [0.005794119089841843], [0.006327172741293907], [0.007012413814663887], [0.00763963907957077], [0.008132275193929672], [0.008543815463781357], [0.008953932672739029], [0.009471982717514038], [0.010094691067934036], [0.010836582630872726], [0.011553654447197914], [0.012217752635478973], [0.012818444520235062], [0.013346854597330093], [0.01385185495018959], [0.014369316399097443], [0.014938639476895332], [0.015514085069298744], [0.016086768358945847], [0.016648564487695694], [0.017156649380922318], [0.017649047076702118], [0.018122639507055283], [0.01861194521188736], [0.01910560578107834], [0.019602593034505844], [0.020084945484995842]]\n"
     ]
    }
   ],
   "source": [
    "# prediction for next 30 days\n",
    "from numpy import array\n",
    "\n",
    "lst_output=[]\n",
    "n_steps=30\n",
    "i=0\n",
    "while(i<30): #30 hari\n",
    "    \n",
    "    if(len(temp_input)>30):\n",
    "        #print(temp_input)\n",
    "        x_input=np.array(temp_input[1:])\n",
    "        print(\"{} day input {}\".format(i,x_input))\n",
    "        x_input=x_input.reshape(1,-1)\n",
    "        x_input = x_input.reshape((1, n_steps, 1))\n",
    "        #print(x_input)\n",
    "        yhat = model.predict(x_input, verbose=0)\n",
    "        print(\"{} day output {}\".format(i,yhat))\n",
    "        temp_input.extend(yhat[0].tolist())\n",
    "        temp_input=temp_input[1:]\n",
    "        #print(temp_input)\n",
    "        lst_output.extend(yhat.tolist())\n",
    "        i=i+1\n",
    "    else:\n",
    "        x_input = x_input.reshape((1, n_steps,1))\n",
    "        yhat = model.predict(x_input, verbose=0)\n",
    "        print(yhat[0])\n",
    "        temp_input.extend(yhat[0].tolist())\n",
    "        print(len(temp_input))\n",
    "        lst_output.extend(yhat.tolist())\n",
    "        i=i+1\n",
    "    \n",
    "\n",
    "print(lst_output)"
   ]
  },
  {
   "cell_type": "code",
   "execution_count": 41,
   "id": "447dcca0",
   "metadata": {},
   "outputs": [],
   "source": [
    "day_new=np.arange(1,31) # dari data 30 hari terakhir\n",
    "day_pred=np.arange(31,61) #predict 30 hari kedepan"
   ]
  },
  {
   "cell_type": "code",
   "execution_count": 42,
   "id": "91dd51a7",
   "metadata": {},
   "outputs": [
    {
     "data": {
      "text/plain": [
       "766"
      ]
     },
     "execution_count": 42,
     "metadata": {},
     "output_type": "execute_result"
    }
   ],
   "source": [
    "len(df)"
   ]
  },
  {
   "cell_type": "code",
   "execution_count": 43,
   "id": "86fd0fa7",
   "metadata": {},
   "outputs": [
    {
     "data": {
      "text/plain": [
       "30"
      ]
     },
     "execution_count": 43,
     "metadata": {},
     "output_type": "execute_result"
    }
   ],
   "source": [
    "len(day_pred)"
   ]
  },
  {
   "cell_type": "code",
   "execution_count": 44,
   "id": "e0730cc4",
   "metadata": {
    "scrolled": true
   },
   "outputs": [
    {
     "data": {
      "text/plain": [
       "[<matplotlib.lines.Line2D at 0x1ca6c4b8708>]"
      ]
     },
     "execution_count": 44,
     "metadata": {},
     "output_type": "execute_result"
    },
    {
     "data": {
      "image/png": "[encoded data removed]",
      "text/plain": [
       "<Figure size 432x288 with 1 Axes>"
      ]
     },
     "metadata": {
      "needs_background": "light"
     },
     "output_type": "display_data"
    }
   ],
   "source": [
    "plt.plot(day_new,df[736:]) # [total data - prediction(30)] \n",
    "plt.plot(day_pred,scaler.inverse_transform(lst_output))"
   ]
  },
  {
   "cell_type": "code",
   "execution_count": 45,
   "id": "07cc7ca7",
   "metadata": {},
   "outputs": [
    {
     "data": {
      "text/plain": [
       "[<matplotlib.lines.Line2D at 0x1ca6c070748>]"
      ]
     },
     "execution_count": 45,
     "metadata": {},
     "output_type": "execute_result"
    },
    {
     "data": {
      "image/png": "[encoded data removed]",
      "text/plain": [
       "<Figure size 432x288 with 1 Axes>"
      ]
     },
     "metadata": {
      "needs_background": "light"
     },
     "output_type": "display_data"
    }
   ],
   "source": [
    "df2=df.tolist()\n",
    "df2.extend(scaler.inverse_transform(lst_output))\n",
    "plt.plot(df2)"
   ]
  },
  {
   "cell_type": "code",
   "execution_count": 46,
   "id": "4e90a3ff",
   "metadata": {
    "scrolled": true
   },
   "outputs": [
    {
     "data": {
      "text/plain": [
       "[<matplotlib.lines.Line2D at 0x1ca6c3eac08>]"
      ]
     },
     "execution_count": 46,
     "metadata": {},
     "output_type": "execute_result"
    },
    {
     "data": {
      "image/png": "[encoded data removed]",
      "text/plain": [
       "<Figure size 432x288 with 1 Axes>"
      ]
     },
     "metadata": {
      "needs_background": "light"
     },
     "output_type": "display_data"
    }
   ],
   "source": [
    "df2=scaler.inverse_transform(df2).tolist()\n",
    "plt.plot(df2)"
   ]
  },
  {
   "cell_type": "code",
   "execution_count": 47,
   "id": "3cf7831d",
   "metadata": {},
   "outputs": [
    {
     "data": {
      "text/plain": [
       "array([[ 56.03143618],\n",
       "       [ 54.41665609],\n",
       "       [ 54.37354002],\n",
       "       [ 56.98483594],\n",
       "       [ 61.76739326],\n",
       "       [ 67.91537611],\n",
       "       [ 73.54284114],\n",
       "       [ 77.96277231],\n",
       "       [ 81.65511158],\n",
       "       [ 85.33468315],\n",
       "       [ 89.98262811],\n",
       "       [ 95.56956738],\n",
       "       [102.22581842],\n",
       "       [108.6593867 ],\n",
       "       [114.61767559],\n",
       "       [120.00708313],\n",
       "       [124.7479783 ],\n",
       "       [129.27884142],\n",
       "       [133.9215055 ],\n",
       "       [139.02947211],\n",
       "       [144.19236992],\n",
       "       [149.33048434],\n",
       "       [154.37091917],\n",
       "       [158.92945679],\n",
       "       [163.34724887],\n",
       "       [167.59632012],\n",
       "       [171.98637086],\n",
       "       [176.41549345],\n",
       "       [180.87446305],\n",
       "       [185.2021292 ]])"
      ]
     },
     "execution_count": 47,
     "metadata": {},
     "output_type": "execute_result"
    }
   ],
   "source": [
    "scaler.inverse_transform(lst_output)"
   ]
  },
  {
   "cell_type": "code",
   "execution_count": 48,
   "id": "6d11ad8b",
   "metadata": {},
   "outputs": [
    {
     "name": "stdout",
     "output_type": "stream",
     "text": [
      "loss: 0.053962\n"
     ]
    }
   ],
   "source": [
    "# evaluate the model\n",
    "scores = model.evaluate(X_train, Y_train, verbose=0)\n",
    "print(\"%s: %f\" % (model.metrics_names[0], scores*100))"
   ]
  },
  {
   "cell_type": "code",
   "execution_count": 49,
   "id": "08344a05",
   "metadata": {},
   "outputs": [
    {
     "name": "stdout",
     "output_type": "stream",
     "text": [
      "Saved model to disk\n"
     ]
    }
   ],
   "source": [
    "# save model and architecture to single file\n",
    "model.save(\"lstm_yogyakarta.h5\")\n",
    "print(\"Saved model to disk\")"
   ]
  },
  {
   "cell_type": "code",
   "execution_count": 50,
   "id": "6e922c81",
   "metadata": {},
   "outputs": [
    {
     "name": "stdout",
     "output_type": "stream",
     "text": [
      "Model: \"sequential\"\n",
      "_________________________________________________________________\n",
      " Layer (type)                Output Shape              Param #   \n",
      "=================================================================\n",
      " lstm (LSTM)                 (None, 30, 100)           40800     \n",
      "                                                                 \n",
      " lstm_1 (LSTM)               (None, 100)               80400     \n",
      "                                                                 \n",
      " dense (Dense)               (None, 1)                 101       \n",
      "                                                                 \n",
      "=================================================================\n",
      "Total params: 121,301\n",
      "Trainable params: 121,301\n",
      "Non-trainable params: 0\n",
      "_________________________________________________________________\n"
     ]
    }
   ],
   "source": [
    "from keras.models import load_model\n",
    " \n",
    "# load model\n",
    "model = load_model('lstm_yogyakarta.h5')\n",
    "# summarize model\n",
    "model.summary()"
   ]
  },
  {
   "cell_type": "code",
   "execution_count": null,
   "id": "66cacc99",
   "metadata": {},
   "outputs": [],
   "source": []
  }
 ],
 "metadata": {
  "kernelspec": {
   "display_name": "Python 3 (ipykernel)",
   "language": "python",
   "name": "python3"
  },
  "language_info": {
   "codemirror_mode": {
    "name": "ipython",
    "version": 3
   },
   "file_extension": ".py",
   "mimetype": "text/x-python",
   "name": "python",
   "nbconvert_exporter": "python",
   "pygments_lexer": "ipython3",
   "version": "3.7.13"
  }
 },
 "nbformat": 4,
 "nbformat_minor": 5
}
