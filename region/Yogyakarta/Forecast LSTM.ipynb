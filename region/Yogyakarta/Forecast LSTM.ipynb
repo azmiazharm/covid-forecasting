{
 "cells": [
  {
   "cell_type": "code",
   "execution_count": 1,
   "id": "f8cc18d9",
   "metadata": {},
   "outputs": [],
   "source": [
    "# Import library\n",
    "import pandas as pd\n",
    "import numpy as np\n",
    "import matplotlib.pyplot as plt\n",
    "import tensorflow\n",
    "from tensorflow import keras\n",
    "from tensorflow.keras.layers import Dense, Activation, LSTM\n",
    "from sklearn.preprocessing import MinMaxScaler\n",
    "from keras.models import Sequential\n",
    "import os"
   ]
  },
  {
   "cell_type": "code",
   "execution_count": 2,
   "id": "4e7cdaba",
   "metadata": {},
   "outputs": [],
   "source": [
    "# Use CPU\n",
    "os.environ['CUDA_VISIBLE_DEVICES'] = '-1'"
   ]
  },
  {
   "cell_type": "code",
   "execution_count": 3,
   "id": "29d08e2d",
   "metadata": {},
   "outputs": [
    {
     "name": "stdout",
     "output_type": "stream",
     "text": [
      "2.8.0\n"
     ]
    }
   ],
   "source": [
    "print(tensorflow.__version__)"
   ]
  },
  {
   "cell_type": "code",
   "execution_count": 4,
   "id": "6dac519e",
   "metadata": {},
   "outputs": [
    {
     "data": {
      "text/html": [
       "<div>\n",
       "<style scoped>\n",
       "    .dataframe tbody tr th:only-of-type {\n",
       "        vertical-align: middle;\n",
       "    }\n",
       "\n",
       "    .dataframe tbody tr th {\n",
       "        vertical-align: top;\n",
       "    }\n",
       "\n",
       "    .dataframe thead th {\n",
       "        text-align: right;\n",
       "    }\n",
       "</style>\n",
       "<table border=\"1\" class=\"dataframe\">\n",
       "  <thead>\n",
       "    <tr style=\"text-align: right;\">\n",
       "      <th></th>\n",
       "      <th>daily_case</th>\n",
       "    </tr>\n",
       "    <tr>\n",
       "      <th>date</th>\n",
       "      <th></th>\n",
       "    </tr>\n",
       "  </thead>\n",
       "  <tbody>\n",
       "    <tr>\n",
       "      <th>2020-04-01</th>\n",
       "      <td>6</td>\n",
       "    </tr>\n",
       "    <tr>\n",
       "      <th>2020-04-02</th>\n",
       "      <td>0</td>\n",
       "    </tr>\n",
       "    <tr>\n",
       "      <th>2020-04-03</th>\n",
       "      <td>0</td>\n",
       "    </tr>\n",
       "    <tr>\n",
       "      <th>2020-04-04</th>\n",
       "      <td>5</td>\n",
       "    </tr>\n",
       "    <tr>\n",
       "      <th>2020-04-05</th>\n",
       "      <td>1</td>\n",
       "    </tr>\n",
       "  </tbody>\n",
       "</table>\n",
       "</div>"
      ],
      "text/plain": [
       "            daily_case\n",
       "date                  \n",
       "2020-04-01           6\n",
       "2020-04-02           0\n",
       "2020-04-03           0\n",
       "2020-04-04           5\n",
       "2020-04-05           1"
      ]
     },
     "execution_count": 4,
     "metadata": {},
     "output_type": "execute_result"
    }
   ],
   "source": [
    "# Dataset\n",
    "df=pd.read_csv('./../../dataset/raw_yogyakarta.csv', parse_dates=[\"date\"], index_col=\"date\")\n",
    "#df['daily_case'] = df['daily_case'].str.replace(',','').astype(int)\n",
    "\n",
    "# Cut dataset to start from 1 April 2022\n",
    "df = df[16:]\n",
    "df.head()"
   ]
  },
  {
   "cell_type": "code",
   "execution_count": 5,
   "id": "b7cb2a44",
   "metadata": {},
   "outputs": [
    {
     "name": "stdout",
     "output_type": "stream",
     "text": [
      "<class 'pandas.core.frame.DataFrame'>\n",
      "DatetimeIndex: 766 entries, 2020-04-01 to 2022-05-06\n",
      "Data columns (total 1 columns):\n",
      " #   Column      Non-Null Count  Dtype\n",
      "---  ------      --------------  -----\n",
      " 0   daily_case  766 non-null    int64\n",
      "dtypes: int64(1)\n",
      "memory usage: 12.0 KB\n"
     ]
    }
   ],
   "source": [
    "df.info()"
   ]
  },
  {
   "cell_type": "code",
   "execution_count": 6,
   "id": "33630edc",
   "metadata": {},
   "outputs": [
    {
     "data": {
      "text/plain": [
       "(766, 1)"
      ]
     },
     "execution_count": 6,
     "metadata": {},
     "output_type": "execute_result"
    }
   ],
   "source": [
    "df.shape"
   ]
  },
  {
   "cell_type": "code",
   "execution_count": 7,
   "id": "a46fcfe0",
   "metadata": {},
   "outputs": [
    {
     "data": {
      "text/plain": [
       "[<matplotlib.lines.Line2D at 0x234db60ca48>]"
      ]
     },
     "execution_count": 7,
     "metadata": {},
     "output_type": "execute_result"
    },
    {
     "data": {
      "image/png": "[encoded data removed]",
      "text/plain": [
       "<Figure size 432x288 with 1 Axes>"
      ]
     },
     "metadata": {
      "needs_background": "light"
     },
     "output_type": "display_data"
    }
   ],
   "source": [
    "plt.plot(df)"
   ]
  },
  {
   "cell_type": "code",
   "execution_count": 8,
   "id": "baf1aaac",
   "metadata": {},
   "outputs": [],
   "source": [
    "scaler = MinMaxScaler(feature_range=(0,1))"
   ]
  },
  {
   "cell_type": "code",
   "execution_count": 9,
   "id": "116dbcb0",
   "metadata": {},
   "outputs": [
    {
     "data": {
      "text/plain": [
       "(766, 1)"
      ]
     },
     "execution_count": 9,
     "metadata": {},
     "output_type": "execute_result"
    }
   ],
   "source": [
    "df.shape"
   ]
  },
  {
   "cell_type": "code",
   "execution_count": 10,
   "id": "1dbbf64c",
   "metadata": {},
   "outputs": [
    {
     "data": {
      "text/html": [
       "<div>\n",
       "<style scoped>\n",
       "    .dataframe tbody tr th:only-of-type {\n",
       "        vertical-align: middle;\n",
       "    }\n",
       "\n",
       "    .dataframe tbody tr th {\n",
       "        vertical-align: top;\n",
       "    }\n",
       "\n",
       "    .dataframe thead th {\n",
       "        text-align: right;\n",
       "    }\n",
       "</style>\n",
       "<table border=\"1\" class=\"dataframe\">\n",
       "  <thead>\n",
       "    <tr style=\"text-align: right;\">\n",
       "      <th></th>\n",
       "      <th>daily_case</th>\n",
       "    </tr>\n",
       "    <tr>\n",
       "      <th>date</th>\n",
       "      <th></th>\n",
       "    </tr>\n",
       "  </thead>\n",
       "  <tbody>\n",
       "    <tr>\n",
       "      <th>2020-04-01</th>\n",
       "      <td>6</td>\n",
       "    </tr>\n",
       "    <tr>\n",
       "      <th>2020-04-02</th>\n",
       "      <td>0</td>\n",
       "    </tr>\n",
       "    <tr>\n",
       "      <th>2020-04-03</th>\n",
       "      <td>0</td>\n",
       "    </tr>\n",
       "    <tr>\n",
       "      <th>2020-04-04</th>\n",
       "      <td>5</td>\n",
       "    </tr>\n",
       "    <tr>\n",
       "      <th>2020-04-05</th>\n",
       "      <td>1</td>\n",
       "    </tr>\n",
       "  </tbody>\n",
       "</table>\n",
       "</div>"
      ],
      "text/plain": [
       "            daily_case\n",
       "date                  \n",
       "2020-04-01           6\n",
       "2020-04-02           0\n",
       "2020-04-03           0\n",
       "2020-04-04           5\n",
       "2020-04-05           1"
      ]
     },
     "execution_count": 10,
     "metadata": {},
     "output_type": "execute_result"
    }
   ],
   "source": [
    "df.head()"
   ]
  },
  {
   "cell_type": "code",
   "execution_count": 11,
   "id": "e6faefb5",
   "metadata": {},
   "outputs": [],
   "source": [
    "# df = scaler.fit_transform(np.array(df).reshape(-1,1))"
   ]
  },
  {
   "cell_type": "code",
   "execution_count": 12,
   "id": "19cb8aa8",
   "metadata": {},
   "outputs": [
    {
     "data": {
      "text/plain": [
       "(766, 1)"
      ]
     },
     "execution_count": 12,
     "metadata": {},
     "output_type": "execute_result"
    }
   ],
   "source": [
    "df.shape"
   ]
  },
  {
   "cell_type": "code",
   "execution_count": 13,
   "id": "8d81d237",
   "metadata": {},
   "outputs": [],
   "source": [
    "# Split data to train and test\n",
    "df = df.values\n",
    "df = df.astype('float32')\n",
    "train_size = int(len(df) * 0.75)\n",
    "test_size=len(df)-train_size"
   ]
  },
  {
   "cell_type": "code",
   "execution_count": 14,
   "id": "d07613e8",
   "metadata": {},
   "outputs": [],
   "source": [
    "train_data=df[0:train_size,:]\n",
    "test_data=df[train_size:len(df),:]"
   ]
  },
  {
   "cell_type": "code",
   "execution_count": 15,
   "id": "ec2da0aa",
   "metadata": {},
   "outputs": [],
   "source": [
    "# scale data\n",
    "train_data = scaler.fit_transform(np.array(train_data).reshape(-1,1))\n",
    "test_data = scaler.fit_transform(np.array(test_data).reshape(-1,1))"
   ]
  },
  {
   "cell_type": "code",
   "execution_count": 16,
   "id": "ec3179a7",
   "metadata": {},
   "outputs": [
    {
     "data": {
      "text/plain": [
       "(574, 1)"
      ]
     },
     "execution_count": 16,
     "metadata": {},
     "output_type": "execute_result"
    }
   ],
   "source": [
    "train_data.shape"
   ]
  },
  {
   "cell_type": "code",
   "execution_count": 17,
   "id": "709fa2f3",
   "metadata": {},
   "outputs": [
    {
     "name": "stdout",
     "output_type": "stream",
     "text": [
      "574\n",
      "192\n"
     ]
    },
    {
     "data": {
      "text/plain": [
       "(None, None)"
      ]
     },
     "execution_count": 17,
     "metadata": {},
     "output_type": "execute_result"
    }
   ],
   "source": [
    "print(len(train_data)), print(len(test_data))"
   ]
  },
  {
   "cell_type": "code",
   "execution_count": 18,
   "id": "8b465761",
   "metadata": {},
   "outputs": [],
   "source": [
    "# Create dataset matrix based on timestep\n",
    "def create_dataset(dataset, time_step=1):\n",
    "    X, Y = [], []\n",
    "    for i in range(len(dataset)-time_step-1):\n",
    "        a = dataset[i:(i+time_step), 0]\n",
    "        X.append(a)\n",
    "        Y.append(dataset[i + time_step, 0])\n",
    "    return np.array(X), np.array(Y)"
   ]
  },
  {
   "cell_type": "code",
   "execution_count": 19,
   "id": "f7456e17",
   "metadata": {},
   "outputs": [],
   "source": [
    "# Reshape into x=t, t+1, t+2, ... t+n, and Y = t + (n+1)\n",
    "time_step = 30\n",
    "X_train, Y_train = create_dataset(train_data, time_step)\n",
    "X_test, Y_test = create_dataset(test_data, time_step)"
   ]
  },
  {
   "cell_type": "code",
   "execution_count": 20,
   "id": "1e2fbaae",
   "metadata": {
    "scrolled": true
   },
   "outputs": [
    {
     "name": "stdout",
     "output_type": "stream",
     "text": [
      "(543, 30)\n",
      "(543,)\n"
     ]
    },
    {
     "data": {
      "text/plain": [
       "(None, None)"
      ]
     },
     "execution_count": 20,
     "metadata": {},
     "output_type": "execute_result"
    }
   ],
   "source": [
    "print(X_train.shape), print(Y_train.shape)"
   ]
  },
  {
   "cell_type": "code",
   "execution_count": 21,
   "id": "14caf748",
   "metadata": {},
   "outputs": [
    {
     "name": "stdout",
     "output_type": "stream",
     "text": [
      "(161, 30)\n",
      "(161,)\n"
     ]
    },
    {
     "data": {
      "text/plain": [
       "(None, None)"
      ]
     },
     "execution_count": 21,
     "metadata": {},
     "output_type": "execute_result"
    }
   ],
   "source": [
    "print(X_test.shape), print(Y_test.shape)"
   ]
  },
  {
   "cell_type": "code",
   "execution_count": 22,
   "id": "dc2e0ea1",
   "metadata": {},
   "outputs": [
    {
     "data": {
      "text/plain": [
       "161"
      ]
     },
     "execution_count": 22,
     "metadata": {},
     "output_type": "execute_result"
    }
   ],
   "source": [
    "len(X_test)"
   ]
  },
  {
   "cell_type": "code",
   "execution_count": 23,
   "id": "dd7a7f83",
   "metadata": {},
   "outputs": [],
   "source": [
    "# Reshape input data to 3d [sample, time_step, features]\n",
    "X_train = X_train.reshape(X_train.shape[0], X_train.shape[1], 1)\n",
    "X_test = X_test.reshape(X_test.shape[0], X_test.shape[1], 1)"
   ]
  },
  {
   "cell_type": "code",
   "execution_count": 24,
   "id": "35b0d75b",
   "metadata": {},
   "outputs": [],
   "source": [
    "# # Create model\n",
    "# model = Sequential()\n",
    "# model.add(LSTM(192, return_sequences=True, input_shape=(30,1)))\n",
    "# model.add(LSTM(64, return_sequences=True))\n",
    "# model.add(LSTM(224, return_sequences=True))\n",
    "# model.add(LSTM(160, activation='relu'))\n",
    "# model.add(Dropout(0.1))\n",
    "# model.add(Dense(1))\n",
    "# model.compile(optimizer='adam', loss='mean_squared_error')"
   ]
  },
  {
   "cell_type": "code",
   "execution_count": 25,
   "id": "2904dc8f",
   "metadata": {},
   "outputs": [],
   "source": [
    "# Create Stacked LSTM model\n",
    "model = Sequential()\n",
    "model.add(LSTM(128, activation='relu', return_sequences=True, input_shape=(30,1)))\n",
    "model.add(LSTM(128))\n",
    "model.add(Dense(1, activation='sigmoid'))\n",
    "model.compile(optimizer='adam', loss='mean_squared_error')"
   ]
  },
  {
   "cell_type": "code",
   "execution_count": 26,
   "id": "2d2dd132",
   "metadata": {},
   "outputs": [
    {
     "name": "stdout",
     "output_type": "stream",
     "text": [
      "Model: \"sequential\"\n",
      "_________________________________________________________________\n",
      " Layer (type)                Output Shape              Param #   \n",
      "=================================================================\n",
      " lstm (LSTM)                 (None, 30, 128)           66560     \n",
      "                                                                 \n",
      " lstm_1 (LSTM)               (None, 128)               131584    \n",
      "                                                                 \n",
      " dense (Dense)               (None, 1)                 129       \n",
      "                                                                 \n",
      "=================================================================\n",
      "Total params: 198,273\n",
      "Trainable params: 198,273\n",
      "Non-trainable params: 0\n",
      "_________________________________________________________________\n"
     ]
    }
   ],
   "source": [
    "model.summary()"
   ]
  },
  {
   "cell_type": "code",
   "execution_count": null,
   "id": "7314a09a",
   "metadata": {},
   "outputs": [
    {
     "name": "stdout",
     "output_type": "stream",
     "text": [
      "Epoch 1/200\n",
      "17/17 [==============================] - 3s 62ms/step - loss: 0.0976 - val_loss: 0.0815\n",
      "Epoch 2/200\n",
      "17/17 [==============================] - 1s 35ms/step - loss: 0.0426 - val_loss: 0.0815\n",
      "Epoch 3/200\n",
      "17/17 [==============================] - 1s 33ms/step - loss: 0.0425 - val_loss: 0.0813\n",
      "Epoch 4/200\n",
      "17/17 [==============================] - 1s 33ms/step - loss: 0.0409 - val_loss: 0.0698\n",
      "Epoch 5/200\n",
      "17/17 [==============================] - 1s 32ms/step - loss: 0.0265 - val_loss: 0.0651\n",
      "Epoch 6/200\n",
      "17/17 [==============================] - 1s 32ms/step - loss: 0.0164 - val_loss: 0.0567\n",
      "Epoch 7/200\n",
      "17/17 [==============================] - 1s 32ms/step - loss: 0.0168 - val_loss: 0.0545\n",
      "Epoch 8/200\n",
      "17/17 [==============================] - 1s 33ms/step - loss: 0.0120 - val_loss: 0.0431\n",
      "Epoch 9/200\n",
      "17/17 [==============================] - 1s 33ms/step - loss: 0.0095 - val_loss: 0.0335\n",
      "Epoch 10/200\n",
      "17/17 [==============================] - 1s 33ms/step - loss: 0.0050 - val_loss: 0.0274\n",
      "Epoch 11/200\n",
      "17/17 [==============================] - 1s 34ms/step - loss: 0.0042 - val_loss: 0.0165\n",
      "Epoch 12/200\n",
      "17/17 [==============================] - 1s 35ms/step - loss: 0.0032 - val_loss: 0.0165\n",
      "Epoch 13/200\n",
      "17/17 [==============================] - 1s 34ms/step - loss: 0.0029 - val_loss: 0.0141\n",
      "Epoch 14/200\n",
      "17/17 [==============================] - 1s 34ms/step - loss: 0.0028 - val_loss: 0.0182\n",
      "Epoch 15/200\n",
      "17/17 [==============================] - 1s 33ms/step - loss: 0.0027 - val_loss: 0.0170\n",
      "Epoch 16/200\n",
      "17/17 [==============================] - 1s 33ms/step - loss: 0.0025 - val_loss: 0.0174\n",
      "Epoch 17/200\n",
      "17/17 [==============================] - 1s 33ms/step - loss: 0.0028 - val_loss: 0.0172\n",
      "Epoch 18/200\n",
      "17/17 [==============================] - 1s 33ms/step - loss: 0.0023 - val_loss: 0.0161\n",
      "Epoch 19/200\n",
      "17/17 [==============================] - 1s 33ms/step - loss: 0.0025 - val_loss: 0.0143\n",
      "Epoch 20/200\n",
      "17/17 [==============================] - 1s 33ms/step - loss: 0.0024 - val_loss: 0.0135\n",
      "Epoch 21/200\n",
      "17/17 [==============================] - 1s 33ms/step - loss: 0.0023 - val_loss: 0.0126\n",
      "Epoch 22/200\n",
      "17/17 [==============================] - 1s 33ms/step - loss: 0.0026 - val_loss: 0.0138\n",
      "Epoch 23/200\n",
      "17/17 [==============================] - 1s 33ms/step - loss: 0.0025 - val_loss: 0.0123\n",
      "Epoch 24/200\n",
      "17/17 [==============================] - 1s 33ms/step - loss: 0.0024 - val_loss: 0.0154\n",
      "Epoch 25/200\n",
      "17/17 [==============================] - 1s 33ms/step - loss: 0.0025 - val_loss: 0.0185\n",
      "Epoch 26/200\n",
      "17/17 [==============================] - 1s 33ms/step - loss: 0.0026 - val_loss: 0.0183\n",
      "Epoch 27/200\n",
      "17/17 [==============================] - 1s 33ms/step - loss: 0.0024 - val_loss: 0.0147\n",
      "Epoch 28/200\n",
      "17/17 [==============================] - 1s 33ms/step - loss: 0.0022 - val_loss: 0.0148\n",
      "Epoch 29/200\n",
      "17/17 [==============================] - 1s 33ms/step - loss: 0.0024 - val_loss: 0.0145\n",
      "Epoch 30/200\n",
      "17/17 [==============================] - 1s 33ms/step - loss: 0.0021 - val_loss: 0.0136\n",
      "Epoch 31/200\n",
      "17/17 [==============================] - 1s 33ms/step - loss: 0.0022 - val_loss: 0.0178\n",
      "Epoch 32/200\n",
      "17/17 [==============================] - 1s 33ms/step - loss: 0.0022 - val_loss: 0.0124\n",
      "Epoch 33/200\n",
      "17/17 [==============================] - 1s 33ms/step - loss: 0.0021 - val_loss: 0.0145\n",
      "Epoch 34/200\n",
      "17/17 [==============================] - 1s 32ms/step - loss: 0.0020 - val_loss: 0.0141\n",
      "Epoch 35/200\n",
      "17/17 [==============================] - 1s 32ms/step - loss: 0.0019 - val_loss: 0.0169\n",
      "Epoch 36/200\n",
      "17/17 [==============================] - 1s 33ms/step - loss: 0.0021 - val_loss: 0.0110\n",
      "Epoch 37/200\n",
      "17/17 [==============================] - 1s 33ms/step - loss: 0.0020 - val_loss: 0.0146\n",
      "Epoch 38/200\n",
      "17/17 [==============================] - 1s 33ms/step - loss: 0.0021 - val_loss: 0.0146\n",
      "Epoch 39/200\n",
      "17/17 [==============================] - 1s 32ms/step - loss: 0.0022 - val_loss: 0.0110\n",
      "Epoch 40/200\n",
      "17/17 [==============================] - 1s 35ms/step - loss: 0.0022 - val_loss: 0.0150\n",
      "Epoch 41/200\n",
      "17/17 [==============================] - 1s 35ms/step - loss: 0.0020 - val_loss: 0.0124\n",
      "Epoch 42/200\n",
      "17/17 [==============================] - 1s 34ms/step - loss: 0.0019 - val_loss: 0.0115\n",
      "Epoch 43/200\n",
      "17/17 [==============================] - 1s 34ms/step - loss: 0.0020 - val_loss: 0.0144\n",
      "Epoch 44/200\n",
      "17/17 [==============================] - 1s 33ms/step - loss: 0.0022 - val_loss: 0.0149\n",
      "Epoch 45/200\n",
      "17/17 [==============================] - 1s 33ms/step - loss: 0.0023 - val_loss: 0.0126\n",
      "Epoch 46/200\n",
      "17/17 [==============================] - 1s 33ms/step - loss: 0.0019 - val_loss: 0.0149\n",
      "Epoch 47/200\n",
      "17/17 [==============================] - 1s 33ms/step - loss: 0.0019 - val_loss: 0.0121\n",
      "Epoch 48/200\n",
      "17/17 [==============================] - 1s 33ms/step - loss: 0.0019 - val_loss: 0.0146\n",
      "Epoch 49/200\n",
      "17/17 [==============================] - 1s 33ms/step - loss: 0.0024 - val_loss: 0.0136\n",
      "Epoch 50/200\n",
      "17/17 [==============================] - 1s 32ms/step - loss: 0.0022 - val_loss: 0.0141\n",
      "Epoch 51/200\n",
      "17/17 [==============================] - 1s 32ms/step - loss: 0.0023 - val_loss: 0.0163\n",
      "Epoch 52/200\n",
      "17/17 [==============================] - 1s 32ms/step - loss: 0.0019 - val_loss: 0.0098\n",
      "Epoch 53/200\n",
      "17/17 [==============================] - 1s 32ms/step - loss: 0.0020 - val_loss: 0.0121\n",
      "Epoch 54/200\n",
      "17/17 [==============================] - 1s 33ms/step - loss: 0.0019 - val_loss: 0.0111\n",
      "Epoch 55/200\n",
      "17/17 [==============================] - 1s 33ms/step - loss: 0.0020 - val_loss: 0.0101\n",
      "Epoch 56/200\n",
      "17/17 [==============================] - 1s 33ms/step - loss: 0.0019 - val_loss: 0.0116\n",
      "Epoch 57/200\n",
      "17/17 [==============================] - 1s 32ms/step - loss: 0.0018 - val_loss: 0.0108\n",
      "Epoch 58/200\n",
      "17/17 [==============================] - 1s 33ms/step - loss: 0.0023 - val_loss: 0.0142\n",
      "Epoch 59/200\n",
      "17/17 [==============================] - 1s 33ms/step - loss: 0.0020 - val_loss: 0.0119\n",
      "Epoch 60/200\n",
      "17/17 [==============================] - 1s 33ms/step - loss: 0.0019 - val_loss: 0.0126\n",
      "Epoch 61/200\n",
      "17/17 [==============================] - 1s 33ms/step - loss: 0.0020 - val_loss: 0.0123\n",
      "Epoch 62/200\n",
      "17/17 [==============================] - 1s 33ms/step - loss: 0.0019 - val_loss: 0.0105\n",
      "Epoch 63/200\n",
      "17/17 [==============================] - 1s 35ms/step - loss: 0.0020 - val_loss: 0.0135\n",
      "Epoch 64/200\n",
      "17/17 [==============================] - 1s 35ms/step - loss: 0.0019 - val_loss: 0.0125\n",
      "Epoch 65/200\n",
      "17/17 [==============================] - 1s 33ms/step - loss: 0.0022 - val_loss: 0.0085\n",
      "Epoch 66/200\n",
      "17/17 [==============================] - 1s 33ms/step - loss: 0.0021 - val_loss: 0.0100\n",
      "Epoch 67/200\n",
      "17/17 [==============================] - 1s 33ms/step - loss: 0.0018 - val_loss: 0.0109\n",
      "Epoch 68/200\n",
      "17/17 [==============================] - 1s 34ms/step - loss: 0.0018 - val_loss: 0.0120\n",
      "Epoch 69/200\n",
      "17/17 [==============================] - 1s 34ms/step - loss: 0.0018 - val_loss: 0.0121\n",
      "Epoch 70/200\n",
      "17/17 [==============================] - 1s 35ms/step - loss: 0.0018 - val_loss: 0.0104\n",
      "Epoch 71/200\n",
      "17/17 [==============================] - 1s 34ms/step - loss: 0.0019 - val_loss: 0.0092\n",
      "Epoch 72/200\n",
      "17/17 [==============================] - 1s 33ms/step - loss: 0.0020 - val_loss: 0.0109\n",
      "Epoch 73/200\n",
      "17/17 [==============================] - 1s 33ms/step - loss: 0.0019 - val_loss: 0.0117\n",
      "Epoch 74/200\n",
      "17/17 [==============================] - 1s 33ms/step - loss: 0.0019 - val_loss: 0.0102\n",
      "Epoch 75/200\n",
      "17/17 [==============================] - 1s 33ms/step - loss: 0.0019 - val_loss: 0.0129\n",
      "Epoch 76/200\n",
      "17/17 [==============================] - 1s 33ms/step - loss: 0.0018 - val_loss: 0.0097\n",
      "Epoch 77/200\n",
      "17/17 [==============================] - 1s 33ms/step - loss: 0.0019 - val_loss: 0.0102\n",
      "Epoch 78/200\n",
      "17/17 [==============================] - 1s 33ms/step - loss: 0.0018 - val_loss: 0.0119\n",
      "Epoch 79/200\n",
      "17/17 [==============================] - 1s 32ms/step - loss: 0.0019 - val_loss: 0.0113\n",
      "Epoch 80/200\n",
      "17/17 [==============================] - 1s 33ms/step - loss: 0.0017 - val_loss: 0.0099\n",
      "Epoch 81/200\n",
      "17/17 [==============================] - 1s 33ms/step - loss: 0.0018 - val_loss: 0.0118\n",
      "Epoch 82/200\n"
     ]
    },
    {
     "name": "stdout",
     "output_type": "stream",
     "text": [
      "17/17 [==============================] - 1s 32ms/step - loss: 0.0018 - val_loss: 0.0108\n",
      "Epoch 83/200\n",
      "17/17 [==============================] - 1s 33ms/step - loss: 0.0016 - val_loss: 0.0127\n",
      "Epoch 84/200\n",
      "17/17 [==============================] - 1s 33ms/step - loss: 0.0017 - val_loss: 0.0105\n",
      "Epoch 85/200\n",
      "17/17 [==============================] - 1s 33ms/step - loss: 0.0018 - val_loss: 0.0144\n",
      "Epoch 86/200\n",
      "17/17 [==============================] - 1s 32ms/step - loss: 0.0018 - val_loss: 0.0123\n",
      "Epoch 87/200\n",
      "17/17 [==============================] - 1s 33ms/step - loss: 0.0017 - val_loss: 0.0116\n",
      "Epoch 88/200\n",
      "17/17 [==============================] - 1s 33ms/step - loss: 0.0016 - val_loss: 0.0122\n",
      "Epoch 89/200\n",
      "17/17 [==============================] - 1s 33ms/step - loss: 0.0016 - val_loss: 0.0123\n",
      "Epoch 90/200\n",
      "17/17 [==============================] - 1s 33ms/step - loss: 0.0017 - val_loss: 0.0144\n",
      "Epoch 91/200\n",
      "17/17 [==============================] - 1s 32ms/step - loss: 0.0017 - val_loss: 0.0117\n",
      "Epoch 92/200\n",
      "17/17 [==============================] - 1s 33ms/step - loss: 0.0016 - val_loss: 0.0099\n",
      "Epoch 93/200\n",
      "17/17 [==============================] - 1s 33ms/step - loss: 0.0018 - val_loss: 0.0129\n",
      "Epoch 94/200\n",
      "17/17 [==============================] - 1s 33ms/step - loss: 0.0017 - val_loss: 0.0161\n",
      "Epoch 95/200\n",
      "17/17 [==============================] - 1s 33ms/step - loss: 0.0016 - val_loss: 0.0185\n",
      "Epoch 96/200\n",
      "17/17 [==============================] - 1s 33ms/step - loss: 0.0020 - val_loss: 0.0109\n",
      "Epoch 97/200\n",
      "17/17 [==============================] - 1s 34ms/step - loss: 0.0017 - val_loss: 0.0113\n",
      "Epoch 98/200\n",
      "17/17 [==============================] - 1s 35ms/step - loss: 0.0015 - val_loss: 0.0150\n",
      "Epoch 99/200\n",
      "17/17 [==============================] - 1s 33ms/step - loss: 0.0018 - val_loss: 0.0079\n",
      "Epoch 100/200\n",
      "17/17 [==============================] - 1s 34ms/step - loss: 0.0026 - val_loss: 0.0084\n",
      "Epoch 101/200\n",
      "17/17 [==============================] - 1s 33ms/step - loss: 0.0023 - val_loss: 0.0098\n",
      "Epoch 102/200\n",
      "17/17 [==============================] - 1s 33ms/step - loss: 0.0022 - val_loss: 0.0081\n",
      "Epoch 103/200\n",
      "17/17 [==============================] - 1s 33ms/step - loss: 0.0020 - val_loss: 0.0085\n",
      "Epoch 104/200\n",
      "17/17 [==============================] - 1s 33ms/step - loss: 0.0022 - val_loss: 0.0071\n",
      "Epoch 105/200\n",
      "17/17 [==============================] - 1s 32ms/step - loss: 0.0025 - val_loss: 0.0062\n",
      "Epoch 106/200\n",
      "17/17 [==============================] - 1s 33ms/step - loss: 0.0028 - val_loss: 0.0074\n",
      "Epoch 107/200\n",
      "17/17 [==============================] - 1s 33ms/step - loss: 0.0025 - val_loss: 0.0104\n",
      "Epoch 108/200\n",
      "17/17 [==============================] - 1s 33ms/step - loss: 0.0019 - val_loss: 0.0094\n",
      "Epoch 109/200\n",
      "17/17 [==============================] - 1s 33ms/step - loss: 0.0019 - val_loss: 0.0087\n",
      "Epoch 110/200\n",
      "17/17 [==============================] - 1s 33ms/step - loss: 0.0019 - val_loss: 0.0109\n",
      "Epoch 111/200\n",
      "17/17 [==============================] - 1s 33ms/step - loss: 0.0018 - val_loss: 0.0101\n",
      "Epoch 112/200\n",
      "17/17 [==============================] - 1s 33ms/step - loss: 0.0018 - val_loss: 0.0103\n",
      "Epoch 113/200\n",
      "17/17 [==============================] - 1s 33ms/step - loss: 0.0022 - val_loss: 0.0088\n",
      "Epoch 114/200\n",
      "17/17 [==============================] - 1s 32ms/step - loss: 0.0019 - val_loss: 0.0102\n",
      "Epoch 115/200\n",
      "17/17 [==============================] - 1s 33ms/step - loss: 0.0018 - val_loss: 0.0127\n",
      "Epoch 116/200\n",
      "17/17 [==============================] - 1s 33ms/step - loss: 0.0018 - val_loss: 0.0086\n",
      "Epoch 117/200\n",
      "17/17 [==============================] - 1s 33ms/step - loss: 0.0018 - val_loss: 0.0114\n",
      "Epoch 118/200\n",
      "17/17 [==============================] - 1s 33ms/step - loss: 0.0018 - val_loss: 0.0096\n",
      "Epoch 119/200\n",
      "17/17 [==============================] - 1s 33ms/step - loss: 0.0017 - val_loss: 0.0112\n",
      "Epoch 120/200\n",
      "17/17 [==============================] - 1s 33ms/step - loss: 0.0018 - val_loss: 0.0115\n",
      "Epoch 121/200\n",
      "17/17 [==============================] - 1s 33ms/step - loss: 0.0018 - val_loss: 0.0099\n",
      "Epoch 122/200\n",
      "17/17 [==============================] - 1s 32ms/step - loss: 0.0016 - val_loss: 0.0112\n",
      "Epoch 123/200\n",
      "17/17 [==============================] - 1s 33ms/step - loss: 0.0015 - val_loss: 0.0139\n",
      "Epoch 124/200\n",
      "17/17 [==============================] - 1s 33ms/step - loss: 0.0016 - val_loss: 0.0109\n",
      "Epoch 125/200\n",
      "17/17 [==============================] - 1s 33ms/step - loss: 0.0014 - val_loss: 0.0129\n",
      "Epoch 126/200\n",
      "17/17 [==============================] - 1s 35ms/step - loss: 0.0016 - val_loss: 0.0102\n",
      "Epoch 127/200\n",
      "17/17 [==============================] - 1s 35ms/step - loss: 0.0016 - val_loss: 0.0146\n",
      "Epoch 128/200\n",
      "17/17 [==============================] - 1s 34ms/step - loss: 0.0018 - val_loss: 0.0105\n",
      "Epoch 129/200\n",
      "17/17 [==============================] - 1s 33ms/step - loss: 0.0016 - val_loss: 0.0095\n",
      "Epoch 130/200\n",
      "17/17 [==============================] - 1s 33ms/step - loss: 0.0014 - val_loss: 0.0104\n",
      "Epoch 131/200\n",
      "17/17 [==============================] - 1s 33ms/step - loss: 0.0014 - val_loss: 0.0107\n",
      "Epoch 132/200\n",
      "17/17 [==============================] - 1s 33ms/step - loss: 0.0014 - val_loss: 0.0106\n",
      "Epoch 133/200\n",
      "17/17 [==============================] - 1s 33ms/step - loss: 0.0016 - val_loss: 0.0111\n",
      "Epoch 134/200\n",
      "17/17 [==============================] - 1s 33ms/step - loss: 0.0016 - val_loss: 0.0117\n",
      "Epoch 135/200\n",
      "17/17 [==============================] - 1s 33ms/step - loss: 0.0016 - val_loss: 0.0156\n",
      "Epoch 136/200\n",
      "17/17 [==============================] - 1s 33ms/step - loss: 0.0015 - val_loss: 0.0117\n",
      "Epoch 137/200\n",
      "17/17 [==============================] - 1s 32ms/step - loss: 0.0015 - val_loss: 0.0126\n",
      "Epoch 138/200\n",
      "17/17 [==============================] - 1s 32ms/step - loss: 0.0016 - val_loss: 0.0154\n",
      "Epoch 139/200\n",
      "17/17 [==============================] - 1s 33ms/step - loss: 0.0014 - val_loss: 0.0134\n",
      "Epoch 140/200\n",
      "17/17 [==============================] - 1s 32ms/step - loss: 0.0014 - val_loss: 0.0109\n",
      "Epoch 141/200\n",
      "17/17 [==============================] - 1s 32ms/step - loss: 0.0013 - val_loss: 0.0133\n",
      "Epoch 142/200\n",
      "17/17 [==============================] - 1s 33ms/step - loss: 0.0014 - val_loss: 0.0126\n",
      "Epoch 143/200\n",
      "17/17 [==============================] - 1s 33ms/step - loss: 0.0014 - val_loss: 0.0130\n",
      "Epoch 144/200\n",
      "17/17 [==============================] - 1s 33ms/step - loss: 0.0013 - val_loss: 0.0144\n",
      "Epoch 145/200\n",
      "17/17 [==============================] - 1s 33ms/step - loss: 0.0013 - val_loss: 0.0120\n",
      "Epoch 146/200\n",
      "17/17 [==============================] - 1s 33ms/step - loss: 0.0014 - val_loss: 0.0117\n",
      "Epoch 147/200\n",
      "17/17 [==============================] - 1s 33ms/step - loss: 0.0013 - val_loss: 0.0124\n",
      "Epoch 148/200\n",
      "17/17 [==============================] - 1s 33ms/step - loss: 0.0013 - val_loss: 0.0138\n",
      "Epoch 149/200\n",
      "17/17 [==============================] - 1s 33ms/step - loss: 0.0012 - val_loss: 0.0123\n",
      "Epoch 150/200\n",
      "17/17 [==============================] - 1s 33ms/step - loss: 0.0012 - val_loss: 0.0170\n",
      "Epoch 151/200\n",
      "17/17 [==============================] - 1s 33ms/step - loss: 0.0014 - val_loss: 0.0133\n",
      "Epoch 152/200\n",
      "17/17 [==============================] - 1s 33ms/step - loss: 0.0013 - val_loss: 0.0148\n",
      "Epoch 153/200\n",
      "17/17 [==============================] - 1s 33ms/step - loss: 0.0014 - val_loss: 0.0107\n",
      "Epoch 154/200\n",
      "17/17 [==============================] - 1s 33ms/step - loss: 0.0017 - val_loss: 0.0113\n",
      "Epoch 155/200\n",
      "17/17 [==============================] - 1s 35ms/step - loss: 0.0014 - val_loss: 0.0125\n",
      "Epoch 156/200\n",
      "17/17 [==============================] - 1s 34ms/step - loss: 0.0019 - val_loss: 0.0138\n",
      "Epoch 157/200\n",
      "17/17 [==============================] - 1s 35ms/step - loss: 0.0015 - val_loss: 0.0107\n",
      "Epoch 158/200\n",
      "17/17 [==============================] - 1s 33ms/step - loss: 0.0015 - val_loss: 0.0139\n",
      "Epoch 159/200\n",
      "17/17 [==============================] - 1s 33ms/step - loss: 0.0014 - val_loss: 0.0110\n",
      "Epoch 160/200\n",
      "17/17 [==============================] - 1s 33ms/step - loss: 0.0014 - val_loss: 0.0123\n",
      "Epoch 161/200\n",
      "17/17 [==============================] - 1s 32ms/step - loss: 0.0013 - val_loss: 0.0102\n",
      "Epoch 162/200\n"
     ]
    },
    {
     "name": "stdout",
     "output_type": "stream",
     "text": [
      "17/17 [==============================] - 1s 33ms/step - loss: 0.0014 - val_loss: 0.0127\n",
      "Epoch 163/200\n",
      "17/17 [==============================] - 1s 32ms/step - loss: 0.0012 - val_loss: 0.0120\n",
      "Epoch 164/200\n",
      "17/17 [==============================] - 1s 33ms/step - loss: 0.0012 - val_loss: 0.0134\n",
      "Epoch 165/200\n",
      "17/17 [==============================] - 1s 33ms/step - loss: 0.0012 - val_loss: 0.0126\n",
      "Epoch 166/200\n",
      "17/17 [==============================] - 1s 33ms/step - loss: 0.0014 - val_loss: 0.0091\n",
      "Epoch 167/200\n",
      "17/17 [==============================] - 1s 33ms/step - loss: 0.0019 - val_loss: 0.0114\n",
      "Epoch 168/200\n",
      "17/17 [==============================] - 1s 34ms/step - loss: 0.0013 - val_loss: 0.0100\n",
      "Epoch 169/200\n",
      "17/17 [==============================] - 1s 34ms/step - loss: 0.0015 - val_loss: 0.0136\n",
      "Epoch 170/200\n",
      "17/17 [==============================] - 1s 33ms/step - loss: 0.0013 - val_loss: 0.0100\n",
      "Epoch 171/200\n",
      "17/17 [==============================] - 1s 33ms/step - loss: 0.0014 - val_loss: 0.0124\n",
      "Epoch 172/200\n",
      "17/17 [==============================] - 1s 33ms/step - loss: 0.0012 - val_loss: 0.0148\n",
      "Epoch 173/200\n",
      "17/17 [==============================] - 1s 33ms/step - loss: 0.0013 - val_loss: 0.0123\n",
      "Epoch 174/200\n",
      "17/17 [==============================] - 1s 34ms/step - loss: 0.0013 - val_loss: 0.0157\n",
      "Epoch 175/200\n",
      "17/17 [==============================] - 1s 33ms/step - loss: 0.0023 - val_loss: 0.0079\n",
      "Epoch 176/200\n",
      "17/17 [==============================] - 1s 33ms/step - loss: 0.0020 - val_loss: 0.0099\n",
      "Epoch 177/200\n",
      "17/17 [==============================] - 1s 33ms/step - loss: 0.0015 - val_loss: 0.0100\n",
      "Epoch 178/200\n",
      "17/17 [==============================] - 1s 33ms/step - loss: 0.0014 - val_loss: 0.0113\n",
      "Epoch 179/200\n",
      "17/17 [==============================] - 1s 33ms/step - loss: 0.0013 - val_loss: 0.0085\n",
      "Epoch 180/200\n",
      "17/17 [==============================] - 1s 33ms/step - loss: 0.0016 - val_loss: 0.0096\n",
      "Epoch 181/200\n",
      "17/17 [==============================] - 1s 33ms/step - loss: 0.0015 - val_loss: 0.0189\n",
      "Epoch 182/200\n",
      "17/17 [==============================] - 1s 33ms/step - loss: 0.0020 - val_loss: 0.0092\n",
      "Epoch 183/200\n",
      "17/17 [==============================] - 1s 34ms/step - loss: 0.0015 - val_loss: 0.0137\n",
      "Epoch 184/200\n",
      "17/17 [==============================] - 1s 34ms/step - loss: 0.0018 - val_loss: 0.0088\n",
      "Epoch 185/200\n",
      "11/17 [==================>...........] - ETA: 0s - loss: 0.0015"
     ]
    }
   ],
   "source": [
    "model.fit(X_train, Y_train, validation_data=(X_test, Y_test), epochs=200, batch_size=32, verbose=1)"
   ]
  },
  {
   "cell_type": "code",
   "execution_count": null,
   "id": "70978904",
   "metadata": {},
   "outputs": [],
   "source": [
    "loss_per_epoch = model.history.history['loss']\n",
    "plt.plot(range(len(loss_per_epoch)), loss_per_epoch)"
   ]
  },
  {
   "cell_type": "code",
   "execution_count": null,
   "id": "aedaea4a",
   "metadata": {},
   "outputs": [],
   "source": [
    "train_predict=model.predict(X_train)\n",
    "test_predict=model.predict(X_test)"
   ]
  },
  {
   "cell_type": "code",
   "execution_count": null,
   "id": "891264b3",
   "metadata": {},
   "outputs": [],
   "source": [
    "# Transform back to original value\n",
    "train_predict=scaler.inverse_transform(train_predict)\n",
    "test_predict=scaler.inverse_transform(test_predict)"
   ]
  },
  {
   "cell_type": "code",
   "execution_count": null,
   "id": "066295da",
   "metadata": {},
   "outputs": [],
   "source": [
    "# Calculate RMSE performance metrics\n",
    "import math\n",
    "from sklearn.metrics import mean_squared_error\n",
    "math.sqrt(mean_squared_error(Y_train, train_predict))"
   ]
  },
  {
   "cell_type": "code",
   "execution_count": null,
   "id": "c294771f",
   "metadata": {},
   "outputs": [],
   "source": [
    "math.sqrt(mean_squared_error(Y_test, test_predict))"
   ]
  },
  {
   "cell_type": "code",
   "execution_count": null,
   "id": "f604fd1e",
   "metadata": {},
   "outputs": [],
   "source": [
    "train_predict"
   ]
  },
  {
   "cell_type": "code",
   "execution_count": null,
   "id": "32b7ffe3",
   "metadata": {
    "scrolled": true
   },
   "outputs": [],
   "source": [
    "# Plot \n",
    "look_back = 30\n",
    "trainPredictPlot = np.empty_like(df)\n",
    "trainPredictPlot[:, :] = np.nan\n",
    "trainPredictPlot[look_back:len(train_predict)+look_back, :] = train_predict\n",
    "\n",
    "#shift test predict\n",
    "testPredictPlot = np.empty_like(df)\n",
    "testPredictPlot[:, :] = np.nan\n",
    "testPredictPlot[len(train_predict)+(look_back*2)+1:len(df)-1, :] = test_predict\n",
    "\n",
    "#plot baseline\n",
    "plt.plot(scaler.inverse_transform(df))\n",
    "plt.plot(scaler.inverse_transform(trainPredictPlot))\n",
    "plt.plot(scaler.inverse_transform(testPredictPlot))\n",
    "plt.show()"
   ]
  },
  {
   "cell_type": "code",
   "execution_count": null,
   "id": "7bed18aa",
   "metadata": {},
   "outputs": [],
   "source": [
    "#shift test predict\n",
    "testPredictPlot = np.empty_like(df)\n",
    "testPredictPlot[:, :] = np.nan\n",
    "testPredictPlot[len(train_predict)+(look_back*2)+1:len(df)-1, :] = test_predict\n",
    "\n",
    "#plot baseline\n",
    "plt.plot(scaler.inverse_transform(df))\n",
    "plt.plot(scaler.inverse_transform(testPredictPlot), 'g')\n",
    "plt.xlim(X_train.shape[0], df.shape[0])\n",
    "plt.show()"
   ]
  },
  {
   "cell_type": "code",
   "execution_count": null,
   "id": "1355b3d3",
   "metadata": {},
   "outputs": [],
   "source": [
    "len(test_data)"
   ]
  },
  {
   "cell_type": "code",
   "execution_count": null,
   "id": "0767587c",
   "metadata": {},
   "outputs": [],
   "source": [
    "x_input=test_data[162:].reshape(1,-1) #test data - step(30)\n",
    "x_input.shape"
   ]
  },
  {
   "cell_type": "code",
   "execution_count": null,
   "id": "2f64bd8f",
   "metadata": {},
   "outputs": [],
   "source": [
    "temp_input=list(x_input)\n",
    "temp_input=temp_input[0].tolist()"
   ]
  },
  {
   "cell_type": "code",
   "execution_count": null,
   "id": "9594be28",
   "metadata": {
    "scrolled": true
   },
   "outputs": [],
   "source": [
    "temp_input"
   ]
  },
  {
   "cell_type": "code",
   "execution_count": null,
   "id": "54a16704",
   "metadata": {},
   "outputs": [],
   "source": [
    "# prediction for next 30 days\n",
    "from numpy import array\n",
    "\n",
    "lst_output=[]\n",
    "n_steps=30\n",
    "i=0\n",
    "while(i<30): #30 hari\n",
    "    \n",
    "    if(len(temp_input)>30):\n",
    "        #print(temp_input)\n",
    "        x_input=np.array(temp_input[1:])\n",
    "        print(\"{} day input {}\".format(i,x_input))\n",
    "        x_input=x_input.reshape(1,-1)\n",
    "        x_input = x_input.reshape((1, n_steps, 1))\n",
    "        #print(x_input)\n",
    "        yhat = model.predict(x_input, verbose=0)\n",
    "        print(\"{} day output {}\".format(i,yhat))\n",
    "        temp_input.extend(yhat[0].tolist())\n",
    "        temp_input=temp_input[1:]\n",
    "        #print(temp_input)\n",
    "        lst_output.extend(yhat.tolist())\n",
    "        i=i+1\n",
    "    else:\n",
    "        x_input = x_input.reshape((1, n_steps,1))\n",
    "        yhat = model.predict(x_input, verbose=0)\n",
    "        print(yhat[0])\n",
    "        temp_input.extend(yhat[0].tolist())\n",
    "        print(len(temp_input))\n",
    "        lst_output.extend(yhat.tolist())\n",
    "        i=i+1\n",
    "    \n",
    "\n",
    "print(lst_output)"
   ]
  },
  {
   "cell_type": "code",
   "execution_count": null,
   "id": "447dcca0",
   "metadata": {},
   "outputs": [],
   "source": [
    "day_new=np.arange(1,31) # dari data 30 hari terakhir\n",
    "day_pred=np.arange(31,61) #predict 30 hari kedepan"
   ]
  },
  {
   "cell_type": "code",
   "execution_count": null,
   "id": "91dd51a7",
   "metadata": {},
   "outputs": [],
   "source": [
    "len(df)"
   ]
  },
  {
   "cell_type": "code",
   "execution_count": null,
   "id": "86fd0fa7",
   "metadata": {},
   "outputs": [],
   "source": [
    "len(day_pred)"
   ]
  },
  {
   "cell_type": "code",
   "execution_count": null,
   "id": "e0730cc4",
   "metadata": {
    "scrolled": true
   },
   "outputs": [],
   "source": [
    "plt.plot(day_new,df[736:]) # [total data - prediction(30)] \n",
    "plt.plot(day_pred,scaler.inverse_transform(lst_output))"
   ]
  },
  {
   "cell_type": "code",
   "execution_count": null,
   "id": "07cc7ca7",
   "metadata": {},
   "outputs": [],
   "source": [
    "df2=df.tolist()\n",
    "df2.extend(scaler.inverse_transform(lst_output))\n",
    "plt.plot(df2)"
   ]
  },
  {
   "cell_type": "code",
   "execution_count": null,
   "id": "4e90a3ff",
   "metadata": {
    "scrolled": true
   },
   "outputs": [],
   "source": [
    "df2=scaler.inverse_transform(df2).tolist()\n",
    "plt.plot(df2)"
   ]
  },
  {
   "cell_type": "code",
   "execution_count": null,
   "id": "3cf7831d",
   "metadata": {},
   "outputs": [],
   "source": [
    "scaler.inverse_transform(lst_output)"
   ]
  },
  {
   "cell_type": "code",
   "execution_count": null,
   "id": "6d11ad8b",
   "metadata": {},
   "outputs": [],
   "source": [
    "# evaluate the model\n",
    "scores = model.evaluate(X_train, Y_train, verbose=0)\n",
    "print(\"%s: %f\" % (model.metrics_names[0], scores*100))"
   ]
  },
  {
   "cell_type": "code",
   "execution_count": null,
   "id": "08344a05",
   "metadata": {},
   "outputs": [],
   "source": [
    "# save model and architecture to single file\n",
    "model.save(\"lstm_yogyakarta.h5\")\n",
    "print(\"Saved model to disk\")"
   ]
  },
  {
   "cell_type": "code",
   "execution_count": null,
   "id": "6e922c81",
   "metadata": {},
   "outputs": [],
   "source": [
    "from keras.models import load_model\n",
    " \n",
    "# load model\n",
    "model = load_model('lstm_yogyakarta.h5')\n",
    "# summarize model\n",
    "model.summary()"
   ]
  },
  {
   "cell_type": "code",
   "execution_count": null,
   "id": "66cacc99",
   "metadata": {},
   "outputs": [],
   "source": []
  }
 ],
 "metadata": {
  "kernelspec": {
   "display_name": "Python 3 (ipykernel)",
   "language": "python",
   "name": "python3"
  },
  "language_info": {
   "codemirror_mode": {
    "name": "ipython",
    "version": 3
   },
   "file_extension": ".py",
   "mimetype": "text/x-python",
   "name": "python",
   "nbconvert_exporter": "python",
   "pygments_lexer": "ipython3",
   "version": "3.7.13"
  }
 },
 "nbformat": 4,
 "nbformat_minor": 5
}
