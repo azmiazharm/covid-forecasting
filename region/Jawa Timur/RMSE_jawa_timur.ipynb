{
 "cells": [
  {
   "cell_type": "code",
   "execution_count": 1,
   "id": "f8cc18d9",
   "metadata": {},
   "outputs": [],
   "source": [
    "# Import library\n",
    "import pandas as pd\n",
    "import numpy as np\n",
    "import matplotlib.pyplot as plt\n",
    "import tensorflow\n",
    "from tensorflow import keras\n",
    "from tensorflow.keras.layers import Dense, Activation, LSTM\n",
    "from sklearn.preprocessing import MinMaxScaler\n",
    "from keras.models import Sequential\n",
    "import os"
   ]
  },
  {
   "cell_type": "code",
   "execution_count": 2,
   "id": "4e7cdaba",
   "metadata": {},
   "outputs": [],
   "source": [
    "# Use CPU\n",
    "os.environ['CUDA_VISIBLE_DEVICES'] = '-1'"
   ]
  },
  {
   "cell_type": "code",
   "execution_count": 3,
   "id": "29d08e2d",
   "metadata": {},
   "outputs": [
    {
     "name": "stdout",
     "output_type": "stream",
     "text": [
      "2.8.0\n"
     ]
    }
   ],
   "source": [
    "print(tensorflow.__version__)"
   ]
  },
  {
   "cell_type": "code",
   "execution_count": 4,
   "id": "6dac519e",
   "metadata": {},
   "outputs": [
    {
     "data": {
      "text/html": [
       "<div>\n",
       "<style scoped>\n",
       "    .dataframe tbody tr th:only-of-type {\n",
       "        vertical-align: middle;\n",
       "    }\n",
       "\n",
       "    .dataframe tbody tr th {\n",
       "        vertical-align: top;\n",
       "    }\n",
       "\n",
       "    .dataframe thead th {\n",
       "        text-align: right;\n",
       "    }\n",
       "</style>\n",
       "<table border=\"1\" class=\"dataframe\">\n",
       "  <thead>\n",
       "    <tr style=\"text-align: right;\">\n",
       "      <th></th>\n",
       "      <th>daily_case</th>\n",
       "    </tr>\n",
       "    <tr>\n",
       "      <th>date</th>\n",
       "      <th></th>\n",
       "    </tr>\n",
       "  </thead>\n",
       "  <tbody>\n",
       "    <tr>\n",
       "      <th>2020-04-01</th>\n",
       "      <td>9</td>\n",
       "    </tr>\n",
       "    <tr>\n",
       "      <th>2020-04-02</th>\n",
       "      <td>0</td>\n",
       "    </tr>\n",
       "    <tr>\n",
       "      <th>2020-04-03</th>\n",
       "      <td>47</td>\n",
       "    </tr>\n",
       "    <tr>\n",
       "      <th>2020-04-04</th>\n",
       "      <td>5</td>\n",
       "    </tr>\n",
       "    <tr>\n",
       "      <th>2020-04-05</th>\n",
       "      <td>35</td>\n",
       "    </tr>\n",
       "  </tbody>\n",
       "</table>\n",
       "</div>"
      ],
      "text/plain": [
       "            daily_case\n",
       "date                  \n",
       "2020-04-01           9\n",
       "2020-04-02           0\n",
       "2020-04-03          47\n",
       "2020-04-04           5\n",
       "2020-04-05          35"
      ]
     },
     "execution_count": 4,
     "metadata": {},
     "output_type": "execute_result"
    }
   ],
   "source": [
    "# Dataset\n",
    "df=pd.read_csv('./../../dataset/raw_jawa_timur.csv', parse_dates=[\"date\"], index_col=\"date\")\n",
    "#df['daily_case'] = df['daily_case'].str.replace(',','').astype(int)\n",
    "\n",
    "# Cut dataset to start from 1 April 2022\n",
    "df = df[14:]\n",
    "df.head()"
   ]
  },
  {
   "cell_type": "code",
   "execution_count": 5,
   "id": "b7cb2a44",
   "metadata": {},
   "outputs": [
    {
     "name": "stdout",
     "output_type": "stream",
     "text": [
      "<class 'pandas.core.frame.DataFrame'>\n",
      "DatetimeIndex: 766 entries, 2020-04-01 to 2022-05-06\n",
      "Data columns (total 1 columns):\n",
      " #   Column      Non-Null Count  Dtype\n",
      "---  ------      --------------  -----\n",
      " 0   daily_case  766 non-null    int64\n",
      "dtypes: int64(1)\n",
      "memory usage: 12.0 KB\n"
     ]
    }
   ],
   "source": [
    "df.info()"
   ]
  },
  {
   "cell_type": "code",
   "execution_count": 6,
   "id": "33630edc",
   "metadata": {},
   "outputs": [
    {
     "data": {
      "text/plain": [
       "(766, 1)"
      ]
     },
     "execution_count": 6,
     "metadata": {},
     "output_type": "execute_result"
    }
   ],
   "source": [
    "df.shape"
   ]
  },
  {
   "cell_type": "code",
   "execution_count": 7,
   "id": "a46fcfe0",
   "metadata": {},
   "outputs": [
    {
     "data": {
      "text/plain": [
       "[<matplotlib.lines.Line2D at 0x15d98b5b688>]"
      ]
     },
     "execution_count": 7,
     "metadata": {},
     "output_type": "execute_result"
    },
    {
     "data": {
      "image/png": "[encoded data removed]",
      "text/plain": [
       "<Figure size 432x288 with 1 Axes>"
      ]
     },
     "metadata": {
      "needs_background": "light"
     },
     "output_type": "display_data"
    }
   ],
   "source": [
    "plt.plot(df)"
   ]
  },
  {
   "cell_type": "code",
   "execution_count": 8,
   "id": "baf1aaac",
   "metadata": {},
   "outputs": [],
   "source": [
    "scaler = MinMaxScaler(feature_range=(0,1))"
   ]
  },
  {
   "cell_type": "code",
   "execution_count": 9,
   "id": "116dbcb0",
   "metadata": {},
   "outputs": [
    {
     "data": {
      "text/plain": [
       "(766, 1)"
      ]
     },
     "execution_count": 9,
     "metadata": {},
     "output_type": "execute_result"
    }
   ],
   "source": [
    "df.shape"
   ]
  },
  {
   "cell_type": "code",
   "execution_count": 10,
   "id": "1dbbf64c",
   "metadata": {},
   "outputs": [
    {
     "data": {
      "text/html": [
       "<div>\n",
       "<style scoped>\n",
       "    .dataframe tbody tr th:only-of-type {\n",
       "        vertical-align: middle;\n",
       "    }\n",
       "\n",
       "    .dataframe tbody tr th {\n",
       "        vertical-align: top;\n",
       "    }\n",
       "\n",
       "    .dataframe thead th {\n",
       "        text-align: right;\n",
       "    }\n",
       "</style>\n",
       "<table border=\"1\" class=\"dataframe\">\n",
       "  <thead>\n",
       "    <tr style=\"text-align: right;\">\n",
       "      <th></th>\n",
       "      <th>daily_case</th>\n",
       "    </tr>\n",
       "    <tr>\n",
       "      <th>date</th>\n",
       "      <th></th>\n",
       "    </tr>\n",
       "  </thead>\n",
       "  <tbody>\n",
       "    <tr>\n",
       "      <th>2020-04-01</th>\n",
       "      <td>9</td>\n",
       "    </tr>\n",
       "    <tr>\n",
       "      <th>2020-04-02</th>\n",
       "      <td>0</td>\n",
       "    </tr>\n",
       "    <tr>\n",
       "      <th>2020-04-03</th>\n",
       "      <td>47</td>\n",
       "    </tr>\n",
       "    <tr>\n",
       "      <th>2020-04-04</th>\n",
       "      <td>5</td>\n",
       "    </tr>\n",
       "    <tr>\n",
       "      <th>2020-04-05</th>\n",
       "      <td>35</td>\n",
       "    </tr>\n",
       "  </tbody>\n",
       "</table>\n",
       "</div>"
      ],
      "text/plain": [
       "            daily_case\n",
       "date                  \n",
       "2020-04-01           9\n",
       "2020-04-02           0\n",
       "2020-04-03          47\n",
       "2020-04-04           5\n",
       "2020-04-05          35"
      ]
     },
     "execution_count": 10,
     "metadata": {},
     "output_type": "execute_result"
    }
   ],
   "source": [
    "df.head()"
   ]
  },
  {
   "cell_type": "code",
   "execution_count": 11,
   "id": "e6faefb5",
   "metadata": {},
   "outputs": [],
   "source": [
    "# df = scaler.fit_transform(np.array(df).reshape(-1,1))"
   ]
  },
  {
   "cell_type": "code",
   "execution_count": 12,
   "id": "19cb8aa8",
   "metadata": {},
   "outputs": [
    {
     "data": {
      "text/plain": [
       "(766, 1)"
      ]
     },
     "execution_count": 12,
     "metadata": {},
     "output_type": "execute_result"
    }
   ],
   "source": [
    "df.shape"
   ]
  },
  {
   "cell_type": "code",
   "execution_count": 13,
   "id": "8d81d237",
   "metadata": {},
   "outputs": [],
   "source": [
    "# Split data to train and test\n",
    "df = df.values\n",
    "df = df.astype('float32')\n",
    "train_size = int(len(df) * 0.75)\n",
    "test_size=len(df)-train_size"
   ]
  },
  {
   "cell_type": "code",
   "execution_count": 14,
   "id": "d07613e8",
   "metadata": {},
   "outputs": [],
   "source": [
    "train_data_ns=df[0:train_size,:]\n",
    "test_data_ns=df[train_size:len(df),:]"
   ]
  },
  {
   "cell_type": "code",
   "execution_count": 15,
   "id": "ec2da0aa",
   "metadata": {},
   "outputs": [],
   "source": [
    "# scale data\n",
    "train_data = scaler.fit_transform(np.array(train_data_ns).reshape(-1,1))\n",
    "test_data = scaler.fit_transform(np.array(test_data_ns).reshape(-1,1))"
   ]
  },
  {
   "cell_type": "code",
   "execution_count": 16,
   "id": "ec3179a7",
   "metadata": {},
   "outputs": [
    {
     "data": {
      "text/plain": [
       "(574, 1)"
      ]
     },
     "execution_count": 16,
     "metadata": {},
     "output_type": "execute_result"
    }
   ],
   "source": [
    "train_data.shape"
   ]
  },
  {
   "cell_type": "code",
   "execution_count": 17,
   "id": "709fa2f3",
   "metadata": {},
   "outputs": [
    {
     "name": "stdout",
     "output_type": "stream",
     "text": [
      "574\n",
      "192\n"
     ]
    },
    {
     "data": {
      "text/plain": [
       "(None, None)"
      ]
     },
     "execution_count": 17,
     "metadata": {},
     "output_type": "execute_result"
    }
   ],
   "source": [
    "print(len(train_data)), print(len(test_data))"
   ]
  },
  {
   "cell_type": "code",
   "execution_count": 18,
   "id": "8b465761",
   "metadata": {},
   "outputs": [],
   "source": [
    "# Create dataset matrix based on timestep\n",
    "def create_dataset(dataset, time_step=1):\n",
    "    X, Y = [], []\n",
    "    for i in range(len(dataset)-time_step-1):\n",
    "        a = dataset[i:(i+time_step), 0]\n",
    "        X.append(a)\n",
    "        Y.append(dataset[i + time_step, 0])\n",
    "    return np.array(X), np.array(Y)"
   ]
  },
  {
   "cell_type": "code",
   "execution_count": 19,
   "id": "f7456e17",
   "metadata": {},
   "outputs": [],
   "source": [
    "# Reshape into x=t, t+1, t+2, ... t+n, and Y = t + (n+1)\n",
    "time_step = 30\n",
    "X_train, Y_train = create_dataset(train_data, time_step)\n",
    "X_test, Y_test = create_dataset(test_data, time_step)"
   ]
  },
  {
   "cell_type": "code",
   "execution_count": 20,
   "id": "1e2fbaae",
   "metadata": {
    "scrolled": true
   },
   "outputs": [
    {
     "name": "stdout",
     "output_type": "stream",
     "text": [
      "(543, 30)\n",
      "(543,)\n"
     ]
    },
    {
     "data": {
      "text/plain": [
       "(None, None)"
      ]
     },
     "execution_count": 20,
     "metadata": {},
     "output_type": "execute_result"
    }
   ],
   "source": [
    "print(X_train.shape), print(Y_train.shape)"
   ]
  },
  {
   "cell_type": "code",
   "execution_count": 21,
   "id": "14caf748",
   "metadata": {},
   "outputs": [
    {
     "name": "stdout",
     "output_type": "stream",
     "text": [
      "(161, 30)\n",
      "(161,)\n"
     ]
    },
    {
     "data": {
      "text/plain": [
       "(None, None)"
      ]
     },
     "execution_count": 21,
     "metadata": {},
     "output_type": "execute_result"
    }
   ],
   "source": [
    "print(X_test.shape), print(Y_test.shape)"
   ]
  },
  {
   "cell_type": "code",
   "execution_count": 22,
   "id": "dc2e0ea1",
   "metadata": {},
   "outputs": [
    {
     "data": {
      "text/plain": [
       "161"
      ]
     },
     "execution_count": 22,
     "metadata": {},
     "output_type": "execute_result"
    }
   ],
   "source": [
    "len(X_test)"
   ]
  },
  {
   "cell_type": "code",
   "execution_count": 23,
   "id": "dd7a7f83",
   "metadata": {},
   "outputs": [],
   "source": [
    "# Reshape input data to 3d [sample, time_step, features]\n",
    "X_train = X_train.reshape(X_train.shape[0], X_train.shape[1], 1)\n",
    "X_test = X_test.reshape(X_test.shape[0], X_test.shape[1], 1)"
   ]
  },
  {
   "cell_type": "code",
   "execution_count": 24,
   "id": "2904dc8f",
   "metadata": {},
   "outputs": [],
   "source": [
    "from keras.models import load_model\n",
    " \n",
    "# load model\n",
    "model = load_model('lstm_jawa_timur.h5')"
   ]
  },
  {
   "cell_type": "code",
   "execution_count": 25,
   "id": "2d2dd132",
   "metadata": {},
   "outputs": [
    {
     "name": "stdout",
     "output_type": "stream",
     "text": [
      "Model: \"sequential\"\n",
      "_________________________________________________________________\n",
      " Layer (type)                Output Shape              Param #   \n",
      "=================================================================\n",
      " lstm (LSTM)                 (None, 30, 100)           40800     \n",
      "                                                                 \n",
      " lstm_1 (LSTM)               (None, 100)               80400     \n",
      "                                                                 \n",
      " dense (Dense)               (None, 1)                 101       \n",
      "                                                                 \n",
      "=================================================================\n",
      "Total params: 121,301\n",
      "Trainable params: 121,301\n",
      "Non-trainable params: 0\n",
      "_________________________________________________________________\n"
     ]
    }
   ],
   "source": [
    "model.summary()"
   ]
  },
  {
   "cell_type": "code",
   "execution_count": 26,
   "id": "aedaea4a",
   "metadata": {},
   "outputs": [],
   "source": [
    "train_predict=model.predict(X_train)\n",
    "test_predict=model.predict(X_test)"
   ]
  },
  {
   "cell_type": "code",
   "execution_count": 27,
   "id": "77512a1d",
   "metadata": {},
   "outputs": [],
   "source": [
    "Y_train = Y_train.reshape(-1,1)\n",
    "Y_train = scaler.inverse_transform(Y_train)\n",
    "\n",
    "X_train = X_train.reshape(-1,1)\n",
    "X_train = scaler.inverse_transform(X_train)\n",
    "\n",
    "Y_test = Y_test.reshape(-1,1)\n",
    "Y_test = scaler.inverse_transform(Y_test)\n",
    "\n",
    "X_train = Y_train.reshape(-1,1)\n",
    "X_train = scaler.inverse_transform(X_train)"
   ]
  },
  {
   "cell_type": "code",
   "execution_count": 28,
   "id": "891264b3",
   "metadata": {},
   "outputs": [],
   "source": [
    "# Transform back to original value\n",
    "train_predict=scaler.inverse_transform(train_predict)\n",
    "test_predict=scaler.inverse_transform(test_predict)"
   ]
  },
  {
   "cell_type": "markdown",
   "id": "72bc1601",
   "metadata": {},
   "source": [
    "Metric Jawa Timur"
   ]
  },
  {
   "cell_type": "code",
   "execution_count": 29,
   "id": "066295da",
   "metadata": {
    "scrolled": true
   },
   "outputs": [
    {
     "name": "stdout",
     "output_type": "stream",
     "text": [
      "RMSE train: 206.97306021859464\n"
     ]
    }
   ],
   "source": [
    "# Calculate RMSE performance metrics\n",
    "import math\n",
    "from sklearn.metrics import mean_squared_error\n",
    "print('RMSE train:', math.sqrt(mean_squared_error(Y_train, train_predict)))"
   ]
  },
  {
   "cell_type": "code",
   "execution_count": 30,
   "id": "f80f5b9c",
   "metadata": {},
   "outputs": [
    {
     "name": "stdout",
     "output_type": "stream",
     "text": [
      "RMSE test: 815.2452851749589\n"
     ]
    }
   ],
   "source": [
    "print('RMSE test:', math.sqrt(mean_squared_error(Y_test, test_predict)))"
   ]
  },
  {
   "cell_type": "code",
   "execution_count": 31,
   "id": "3aedca62",
   "metadata": {},
   "outputs": [
    {
     "data": {
      "text/plain": [
       "(8230.0, 0.0)"
      ]
     },
     "execution_count": 31,
     "metadata": {},
     "output_type": "execute_result"
    }
   ],
   "source": [
    "train_data_ns.max(), train_data_ns.min()"
   ]
  },
  {
   "cell_type": "code",
   "execution_count": 32,
   "id": "c4f3bd33",
   "metadata": {},
   "outputs": [
    {
     "name": "stdout",
     "output_type": "stream",
     "text": [
      "NRMSE train: 0.025148609990108706\n"
     ]
    }
   ],
   "source": [
    "# normalized RMSE metrics train\n",
    "print('NRMSE train:', math.sqrt(mean_squared_error(Y_train, train_predict))/(train_data_ns.max()-train_data_ns.min()))"
   ]
  },
  {
   "cell_type": "code",
   "execution_count": 33,
   "id": "d09c2cea",
   "metadata": {},
   "outputs": [
    {
     "name": "stdout",
     "output_type": "stream",
     "text": [
      "NRMSE test: 0.09086550213720006\n"
     ]
    }
   ],
   "source": [
    "# normalized RMSE metrics test\n",
    "print('NRMSE test:', math.sqrt(mean_squared_error(Y_test, test_predict))/(test_data_ns.max()-test_data_ns.min()))"
   ]
  },
  {
   "cell_type": "code",
   "execution_count": 34,
   "id": "f604fd1e",
   "metadata": {},
   "outputs": [
    {
     "data": {
      "text/plain": [
       "array([[  91.099   ],\n",
       "       [  95.50914 ],\n",
       "       [  91.73429 ],\n",
       "       [  96.677414],\n",
       "       [  95.62998 ],\n",
       "       [  97.732704],\n",
       "       [ 100.01064 ],\n",
       "       [  99.47587 ],\n",
       "       [  97.73017 ],\n",
       "       [ 109.05943 ],\n",
       "       [ 108.333374],\n",
       "       [ 106.41934 ],\n",
       "       [ 114.4656  ],\n",
       "       [ 126.41323 ],\n",
       "       [ 130.67232 ],\n",
       "       [ 132.59909 ],\n",
       "       [ 147.85416 ],\n",
       "       [ 146.40143 ],\n",
       "       [ 151.72824 ],\n",
       "       [ 151.32227 ],\n",
       "       [ 154.54187 ],\n",
       "       [ 196.65527 ],\n",
       "       [ 192.51337 ],\n",
       "       [ 236.45511 ],\n",
       "       [ 230.76826 ],\n",
       "       [ 254.19768 ],\n",
       "       [ 266.3081  ],\n",
       "       [ 282.64697 ],\n",
       "       [ 286.0512  ],\n",
       "       [ 271.27402 ],\n",
       "       [ 255.48291 ],\n",
       "       [ 243.80869 ],\n",
       "       [ 215.29346 ],\n",
       "       [ 205.80057 ],\n",
       "       [ 203.25697 ],\n",
       "       [ 195.53497 ],\n",
       "       [ 195.34865 ],\n",
       "       [ 187.31143 ],\n",
       "       [ 201.43768 ],\n",
       "       [ 215.33379 ],\n",
       "       [ 207.81305 ],\n",
       "       [ 219.49048 ],\n",
       "       [ 234.28485 ],\n",
       "       [ 252.27907 ],\n",
       "       [ 268.04584 ],\n",
       "       [ 279.52463 ],\n",
       "       [ 303.0536  ],\n",
       "       [ 302.77905 ],\n",
       "       [ 299.90262 ],\n",
       "       [ 309.86356 ],\n",
       "       [ 298.48053 ],\n",
       "       [ 304.02472 ],\n",
       "       [ 286.8866  ],\n",
       "       [ 301.74872 ],\n",
       "       [ 300.39542 ],\n",
       "       [ 290.60135 ],\n",
       "       [ 299.01697 ],\n",
       "       [ 311.78033 ],\n",
       "       [ 310.7043  ],\n",
       "       [ 306.00574 ],\n",
       "       [ 306.30914 ],\n",
       "       [ 331.55377 ],\n",
       "       [ 337.60443 ],\n",
       "       [ 346.3564  ],\n",
       "       [ 359.13617 ],\n",
       "       [ 373.80682 ],\n",
       "       [ 393.932   ],\n",
       "       [ 394.36127 ],\n",
       "       [ 404.50317 ],\n",
       "       [ 424.5273  ],\n",
       "       [ 440.35757 ],\n",
       "       [ 431.72235 ],\n",
       "       [ 438.11115 ],\n",
       "       [ 442.65204 ],\n",
       "       [ 416.70477 ],\n",
       "       [ 405.77267 ],\n",
       "       [ 392.60925 ],\n",
       "       [ 366.43298 ],\n",
       "       [ 346.51385 ],\n",
       "       [ 325.43304 ],\n",
       "       [ 309.26868 ],\n",
       "       [ 292.84885 ],\n",
       "       [ 284.53976 ],\n",
       "       [ 290.94498 ],\n",
       "       [ 297.28052 ],\n",
       "       [ 343.87158 ],\n",
       "       [ 345.3673  ],\n",
       "       [ 359.4036  ],\n",
       "       [ 374.80762 ],\n",
       "       [ 384.22656 ],\n",
       "       [ 387.1154  ],\n",
       "       [ 384.89142 ],\n",
       "       [ 371.98    ],\n",
       "       [ 399.24088 ],\n",
       "       [ 384.51947 ],\n",
       "       [ 379.52603 ],\n",
       "       [ 398.90347 ],\n",
       "       [ 424.6124  ],\n",
       "       [ 423.95236 ],\n",
       "       [ 436.7085  ],\n",
       "       [ 447.96707 ],\n",
       "       [ 444.425   ],\n",
       "       [ 427.19803 ],\n",
       "       [ 410.21063 ],\n",
       "       [ 395.57364 ],\n",
       "       [ 385.99606 ],\n",
       "       [ 387.2519  ],\n",
       "       [ 390.23276 ],\n",
       "       [ 404.2566  ],\n",
       "       [ 399.17307 ],\n",
       "       [ 403.73703 ],\n",
       "       [ 414.92633 ],\n",
       "       [ 426.02823 ],\n",
       "       [ 442.12006 ],\n",
       "       [ 433.84805 ],\n",
       "       [ 417.0418  ],\n",
       "       [ 412.42398 ],\n",
       "       [ 411.8176  ],\n",
       "       [ 402.96448 ],\n",
       "       [ 399.7617  ],\n",
       "       [ 406.3887  ],\n",
       "       [ 442.56754 ],\n",
       "       [ 454.00125 ],\n",
       "       [ 453.64407 ],\n",
       "       [ 469.75592 ],\n",
       "       [ 486.3542  ],\n",
       "       [ 494.54678 ],\n",
       "       [ 484.09497 ],\n",
       "       [ 462.85226 ],\n",
       "       [ 434.30457 ],\n",
       "       [ 402.89413 ],\n",
       "       [ 394.95416 ],\n",
       "       [ 378.87354 ],\n",
       "       [ 372.54358 ],\n",
       "       [ 375.16516 ],\n",
       "       [ 383.49457 ],\n",
       "       [ 375.2268  ],\n",
       "       [ 386.29883 ],\n",
       "       [ 393.4323  ],\n",
       "       [ 391.37662 ],\n",
       "       [ 381.66278 ],\n",
       "       [ 399.1377  ],\n",
       "       [ 395.79764 ],\n",
       "       [ 398.33975 ],\n",
       "       [ 404.63943 ],\n",
       "       [ 412.4248  ],\n",
       "       [ 418.05957 ],\n",
       "       [ 421.125   ],\n",
       "       [ 407.27838 ],\n",
       "       [ 389.4628  ],\n",
       "       [ 363.94254 ],\n",
       "       [ 352.33466 ],\n",
       "       [ 337.21613 ],\n",
       "       [ 355.43033 ],\n",
       "       [ 380.92197 ],\n",
       "       [ 360.73807 ],\n",
       "       [ 369.66006 ],\n",
       "       [ 379.7215  ],\n",
       "       [ 391.24597 ],\n",
       "       [ 396.98624 ],\n",
       "       [ 393.98468 ],\n",
       "       [ 380.30112 ],\n",
       "       [ 355.8507  ],\n",
       "       [ 337.35217 ],\n",
       "       [ 321.4458  ],\n",
       "       [ 320.42206 ],\n",
       "       [ 328.18512 ],\n",
       "       [ 331.92792 ],\n",
       "       [ 334.85376 ],\n",
       "       [ 336.09967 ],\n",
       "       [ 331.19922 ],\n",
       "       [ 324.26755 ],\n",
       "       [ 315.37308 ],\n",
       "       [ 312.88318 ],\n",
       "       [ 312.0507  ],\n",
       "       [ 301.93323 ],\n",
       "       [ 298.45    ],\n",
       "       [ 302.16324 ],\n",
       "       [ 303.01855 ],\n",
       "       [ 312.03162 ],\n",
       "       [ 318.63638 ],\n",
       "       [ 314.6299  ],\n",
       "       [ 310.23203 ],\n",
       "       [ 302.86728 ],\n",
       "       [ 296.1164  ],\n",
       "       [ 341.64127 ],\n",
       "       [ 327.06982 ],\n",
       "       [ 319.78207 ],\n",
       "       [ 324.0103  ],\n",
       "       [ 339.79367 ],\n",
       "       [ 349.88333 ],\n",
       "       [ 352.38272 ],\n",
       "       [ 347.67075 ],\n",
       "       [ 332.7441  ],\n",
       "       [ 325.06134 ],\n",
       "       [ 302.58795 ],\n",
       "       [ 292.8251  ],\n",
       "       [ 285.58582 ],\n",
       "       [ 281.77936 ],\n",
       "       [ 271.11166 ],\n",
       "       [ 271.3403  ],\n",
       "       [ 276.98685 ],\n",
       "       [ 287.18744 ],\n",
       "       [ 302.10446 ],\n",
       "       [ 314.1831  ],\n",
       "       [ 332.82632 ],\n",
       "       [ 346.96194 ],\n",
       "       [ 373.408   ],\n",
       "       [ 392.79547 ],\n",
       "       [ 410.5789  ],\n",
       "       [ 417.51978 ],\n",
       "       [ 421.84088 ],\n",
       "       [ 435.24658 ],\n",
       "       [ 440.25818 ],\n",
       "       [ 447.27313 ],\n",
       "       [ 464.70312 ],\n",
       "       [ 487.9449  ],\n",
       "       [ 518.5407  ],\n",
       "       [ 553.3324  ],\n",
       "       [ 578.58777 ],\n",
       "       [ 604.9019  ],\n",
       "       [ 638.60394 ],\n",
       "       [ 669.8258  ],\n",
       "       [ 711.0513  ],\n",
       "       [ 752.5122  ],\n",
       "       [ 800.5233  ],\n",
       "       [ 836.87054 ],\n",
       "       [ 866.7534  ],\n",
       "       [ 899.37695 ],\n",
       "       [ 929.0323  ],\n",
       "       [ 951.26025 ],\n",
       "       [ 976.99133 ],\n",
       "       [ 986.3119  ],\n",
       "       [ 971.6893  ],\n",
       "       [ 945.11865 ],\n",
       "       [ 949.8808  ],\n",
       "       [ 933.0509  ],\n",
       "       [ 931.11786 ],\n",
       "       [ 911.3454  ],\n",
       "       [ 893.384   ],\n",
       "       [ 885.94086 ],\n",
       "       [ 862.35284 ],\n",
       "       [ 865.4677  ],\n",
       "       [ 859.4009  ],\n",
       "       [ 886.514   ],\n",
       "       [1062.3613  ],\n",
       "       [1020.17816 ],\n",
       "       [1019.44934 ],\n",
       "       [1040.5343  ],\n",
       "       [1090.4379  ],\n",
       "       [1106.8292  ],\n",
       "       [1094.2164  ],\n",
       "       [1047.7954  ],\n",
       "       [ 992.8846  ],\n",
       "       [ 948.98846 ],\n",
       "       [ 922.7542  ],\n",
       "       [ 922.96814 ],\n",
       "       [ 956.5765  ],\n",
       "       [1010.0995  ],\n",
       "       [1072.431   ],\n",
       "       [1151.8674  ],\n",
       "       [1193.0391  ],\n",
       "       [1177.5616  ],\n",
       "       [1179.0974  ],\n",
       "       [1208.1798  ],\n",
       "       [1223.2223  ],\n",
       "       [1252.6926  ],\n",
       "       [1244.1418  ],\n",
       "       [1212.6534  ],\n",
       "       [1180.0605  ],\n",
       "       [1153.4504  ],\n",
       "       [1148.0308  ],\n",
       "       [1161.5896  ],\n",
       "       [1164.5465  ],\n",
       "       [1145.6935  ],\n",
       "       [1080.8484  ],\n",
       "       [1067.2998  ],\n",
       "       [1028.5166  ],\n",
       "       [1013.1378  ],\n",
       "       [ 965.0472  ],\n",
       "       [ 891.1621  ],\n",
       "       [ 839.56586 ],\n",
       "       [ 775.7142  ],\n",
       "       [ 696.6841  ],\n",
       "       [ 651.7842  ],\n",
       "       [ 592.59595 ],\n",
       "       [ 587.9871  ],\n",
       "       [ 668.0423  ],\n",
       "       [ 691.76935 ],\n",
       "       [ 678.3679  ],\n",
       "       [ 647.07434 ],\n",
       "       [ 629.2378  ],\n",
       "       [ 640.14105 ],\n",
       "       [ 654.6389  ],\n",
       "       [ 636.0365  ],\n",
       "       [ 610.6849  ],\n",
       "       [ 578.2741  ],\n",
       "       [ 536.6432  ],\n",
       "       [ 519.82526 ],\n",
       "       [ 537.8993  ],\n",
       "       [ 562.0138  ],\n",
       "       [ 572.394   ],\n",
       "       [ 568.2843  ],\n",
       "       [ 554.0776  ],\n",
       "       [ 525.8813  ],\n",
       "       [ 505.6187  ],\n",
       "       [ 490.62457 ],\n",
       "       [ 470.92087 ],\n",
       "       [ 439.4206  ],\n",
       "       [ 412.42926 ],\n",
       "       [ 393.8421  ],\n",
       "       [ 374.52417 ],\n",
       "       [ 364.67947 ],\n",
       "       [ 371.25616 ],\n",
       "       [ 375.47595 ],\n",
       "       [ 371.1812  ],\n",
       "       [ 368.95383 ],\n",
       "       [ 363.76453 ],\n",
       "       [ 352.06647 ],\n",
       "       [ 341.90756 ],\n",
       "       [ 337.91153 ],\n",
       "       [ 334.89212 ],\n",
       "       [ 330.64755 ],\n",
       "       [ 321.4815  ],\n",
       "       [ 314.0217  ],\n",
       "       [ 312.95898 ],\n",
       "       [ 312.8854  ],\n",
       "       [ 309.39908 ],\n",
       "       [ 312.27246 ],\n",
       "       [ 319.9421  ],\n",
       "       [ 321.803   ],\n",
       "       [ 315.22498 ],\n",
       "       [ 312.63458 ],\n",
       "       [ 312.9104  ],\n",
       "       [ 318.11163 ],\n",
       "       [ 323.4101  ],\n",
       "       [ 322.3369  ],\n",
       "       [ 318.9733  ],\n",
       "       [ 310.37692 ],\n",
       "       [ 303.01025 ],\n",
       "       [ 298.2429  ],\n",
       "       [ 300.5705  ],\n",
       "       [ 305.89514 ],\n",
       "       [ 302.32138 ],\n",
       "       [ 304.0695  ],\n",
       "       [ 306.71838 ],\n",
       "       [ 310.1293  ],\n",
       "       [ 316.50772 ],\n",
       "       [ 320.65863 ],\n",
       "       [ 322.0106  ],\n",
       "       [ 322.49557 ],\n",
       "       [ 318.23776 ],\n",
       "       [ 313.08224 ],\n",
       "       [ 304.74152 ],\n",
       "       [ 303.54788 ],\n",
       "       [ 305.08777 ],\n",
       "       [ 312.47592 ],\n",
       "       [ 314.88477 ],\n",
       "       [ 317.27545 ],\n",
       "       [ 314.4779  ],\n",
       "       [ 311.2063  ],\n",
       "       [ 311.1475  ],\n",
       "       [ 308.92365 ],\n",
       "       [ 312.33875 ],\n",
       "       [ 315.51706 ],\n",
       "       [ 315.50198 ],\n",
       "       [ 306.3941  ],\n",
       "       [ 301.01096 ],\n",
       "       [ 301.60593 ],\n",
       "       [ 310.39688 ],\n",
       "       [ 309.88635 ],\n",
       "       [ 303.30197 ],\n",
       "       [ 294.5847  ],\n",
       "       [ 287.08002 ],\n",
       "       [ 283.0823  ],\n",
       "       [ 276.84457 ],\n",
       "       [ 278.19183 ],\n",
       "       [ 276.37088 ],\n",
       "       [ 260.8101  ],\n",
       "       [ 248.58907 ],\n",
       "       [ 243.79279 ],\n",
       "       [ 234.15193 ],\n",
       "       [ 227.56348 ],\n",
       "       [ 222.73193 ],\n",
       "       [ 221.5793  ],\n",
       "       [ 223.48596 ],\n",
       "       [ 227.98018 ],\n",
       "       [ 236.90909 ],\n",
       "       [ 249.33815 ],\n",
       "       [ 262.28223 ],\n",
       "       [ 271.35764 ],\n",
       "       [ 281.67862 ],\n",
       "       [ 281.46338 ],\n",
       "       [ 282.5799  ],\n",
       "       [ 283.64078 ],\n",
       "       [ 279.46613 ],\n",
       "       [ 281.56738 ],\n",
       "       [ 281.02042 ],\n",
       "       [ 282.80692 ],\n",
       "       [ 287.1539  ],\n",
       "       [ 295.54285 ],\n",
       "       [ 294.0195  ],\n",
       "       [ 298.4321  ],\n",
       "       [ 307.02353 ],\n",
       "       [ 326.30234 ],\n",
       "       [ 344.39658 ],\n",
       "       [ 366.24966 ],\n",
       "       [ 394.4943  ],\n",
       "       [ 414.0289  ],\n",
       "       [ 447.1208  ],\n",
       "       [ 474.94266 ],\n",
       "       [ 511.43857 ],\n",
       "       [ 570.0037  ],\n",
       "       [ 621.43365 ],\n",
       "       [ 672.99786 ],\n",
       "       [ 726.14966 ],\n",
       "       [ 794.36774 ],\n",
       "       [ 859.2937  ],\n",
       "       [ 920.3351  ],\n",
       "       [ 987.67255 ],\n",
       "       [1046.7909  ],\n",
       "       [1094.6886  ],\n",
       "       [1138.2432  ],\n",
       "       [1163.4119  ],\n",
       "       [1225.6134  ],\n",
       "       [1275.5658  ],\n",
       "       [1340.0651  ],\n",
       "       [1441.8074  ],\n",
       "       [1505.7594  ],\n",
       "       [1583.236   ],\n",
       "       [1670.6525  ],\n",
       "       [1777.0719  ],\n",
       "       [1940.7429  ],\n",
       "       [2293.1555  ],\n",
       "       [2528.996   ],\n",
       "       [2836.693   ],\n",
       "       [3339.1748  ],\n",
       "       [4277.2974  ],\n",
       "       [5444.7334  ],\n",
       "       [8236.371   ],\n",
       "       [9110.212   ],\n",
       "       [8896.493   ],\n",
       "       [7569.7153  ],\n",
       "       [6214.704   ],\n",
       "       [5102.541   ],\n",
       "       [5175.555   ],\n",
       "       [5078.5825  ],\n",
       "       [6522.0664  ],\n",
       "       [7294.9517  ],\n",
       "       [6485.123   ],\n",
       "       [4406.0586  ],\n",
       "       [4361.7793  ],\n",
       "       [6193.6016  ],\n",
       "       [6982.9253  ],\n",
       "       [6782.989   ],\n",
       "       [5980.051   ],\n",
       "       [4961.781   ],\n",
       "       [3939.5532  ],\n",
       "       [3490.0166  ],\n",
       "       [3795.2927  ],\n",
       "       [4479.5796  ],\n",
       "       [4833.062   ],\n",
       "       [4709.1694  ],\n",
       "       [4038.253   ],\n",
       "       [2974.6646  ],\n",
       "       [2620.3567  ],\n",
       "       [3052.5862  ],\n",
       "       [3768.2896  ],\n",
       "       [3877.0508  ],\n",
       "       [3709.0781  ],\n",
       "       [3280.9294  ],\n",
       "       [2259.2502  ],\n",
       "       [1800.4369  ],\n",
       "       [2088.9187  ],\n",
       "       [2578.6719  ],\n",
       "       [2747.0115  ],\n",
       "       [2921.7178  ],\n",
       "       [2442.3184  ],\n",
       "       [1754.1957  ],\n",
       "       [1307.0017  ],\n",
       "       [1295.5942  ],\n",
       "       [1545.0166  ],\n",
       "       [1707.4673  ],\n",
       "       [1632.0137  ],\n",
       "       [1451.1733  ],\n",
       "       [1242.6377  ],\n",
       "       [1028.1957  ],\n",
       "       [ 886.9408  ],\n",
       "       [ 873.71356 ],\n",
       "       [ 848.87775 ],\n",
       "       [ 745.2384  ],\n",
       "       [ 672.88025 ],\n",
       "       [ 641.3392  ],\n",
       "       [ 610.2914  ],\n",
       "       [ 600.7045  ],\n",
       "       [ 608.72577 ],\n",
       "       [ 582.4735  ],\n",
       "       [ 496.16833 ],\n",
       "       [ 425.09048 ],\n",
       "       [ 386.93732 ],\n",
       "       [ 346.53436 ],\n",
       "       [ 342.70746 ],\n",
       "       [ 385.90625 ],\n",
       "       [ 407.17172 ],\n",
       "       [ 385.86093 ],\n",
       "       [ 392.75745 ],\n",
       "       [ 362.6822  ],\n",
       "       [ 330.25272 ],\n",
       "       [ 296.9971  ],\n",
       "       [ 301.6165  ],\n",
       "       [ 299.28336 ],\n",
       "       [ 268.13947 ],\n",
       "       [ 236.29457 ],\n",
       "       [ 216.39972 ],\n",
       "       [ 193.4394  ],\n",
       "       [ 174.49777 ],\n",
       "       [ 174.6886  ],\n",
       "       [ 180.0473  ],\n",
       "       [ 170.65958 ],\n",
       "       [ 156.4607  ],\n",
       "       [ 149.27509 ],\n",
       "       [ 145.72969 ],\n",
       "       [ 137.79648 ],\n",
       "       [ 139.16495 ],\n",
       "       [ 139.38928 ],\n",
       "       [ 133.62953 ],\n",
       "       [ 129.23099 ],\n",
       "       [ 127.47895 ],\n",
       "       [ 130.31726 ],\n",
       "       [ 126.050186],\n",
       "       [ 136.44864 ],\n",
       "       [ 138.99043 ],\n",
       "       [ 136.5929  ],\n",
       "       [ 134.56094 ],\n",
       "       [ 135.02457 ],\n",
       "       [ 131.03496 ],\n",
       "       [ 125.54193 ],\n",
       "       [ 125.54398 ],\n",
       "       [ 122.8215  ],\n",
       "       [ 116.39264 ],\n",
       "       [ 111.69018 ],\n",
       "       [ 109.92359 ],\n",
       "       [ 107.30203 ]], dtype=float32)"
      ]
     },
     "execution_count": 34,
     "metadata": {},
     "output_type": "execute_result"
    }
   ],
   "source": [
    "train_predict"
   ]
  },
  {
   "cell_type": "code",
   "execution_count": 35,
   "id": "32b7ffe3",
   "metadata": {
    "scrolled": true
   },
   "outputs": [
    {
     "data": {
      "image/png": "[encoded data removed]",
      "text/plain": [
       "<Figure size 432x288 with 1 Axes>"
      ]
     },
     "metadata": {
      "needs_background": "light"
     },
     "output_type": "display_data"
    }
   ],
   "source": [
    "# Plot \n",
    "look_back = 30\n",
    "trainPredictPlot = np.empty_like(df)\n",
    "trainPredictPlot[:, :] = np.nan\n",
    "trainPredictPlot[look_back:len(train_predict)+look_back, :] = train_predict\n",
    "\n",
    "#shift test predict\n",
    "testPredictPlot = np.empty_like(df)\n",
    "testPredictPlot[:, :] = np.nan\n",
    "testPredictPlot[len(train_predict)+(look_back*2)+1:len(df)-1, :] = test_predict\n",
    "\n",
    "#plot baseline\n",
    "plt.plot(scaler.inverse_transform(df))\n",
    "plt.plot(scaler.inverse_transform(trainPredictPlot))\n",
    "plt.plot(scaler.inverse_transform(testPredictPlot))\n",
    "plt.show()"
   ]
  },
  {
   "cell_type": "code",
   "execution_count": 36,
   "id": "7bed18aa",
   "metadata": {},
   "outputs": [
    {
     "data": {
      "image/png": "[encoded data removed]",
      "text/plain": [
       "<Figure size 432x288 with 1 Axes>"
      ]
     },
     "metadata": {
      "needs_background": "light"
     },
     "output_type": "display_data"
    }
   ],
   "source": [
    "#shift test predict\n",
    "testPredictPlot = np.empty_like(df)\n",
    "testPredictPlot[:, :] = np.nan\n",
    "testPredictPlot[len(train_predict)+(look_back*2)+1:len(df)-1, :] = test_predict\n",
    "\n",
    "#plot baseline\n",
    "plt.plot(scaler.inverse_transform(df))\n",
    "plt.plot(scaler.inverse_transform(testPredictPlot), 'g')\n",
    "plt.xlim(X_train.shape[0], df.shape[0])\n",
    "plt.show()"
   ]
  },
  {
   "cell_type": "code",
   "execution_count": 37,
   "id": "1355b3d3",
   "metadata": {},
   "outputs": [
    {
     "data": {
      "text/plain": [
       "192"
      ]
     },
     "execution_count": 37,
     "metadata": {},
     "output_type": "execute_result"
    }
   ],
   "source": [
    "len(test_data)"
   ]
  },
  {
   "cell_type": "code",
   "execution_count": 38,
   "id": "0767587c",
   "metadata": {},
   "outputs": [
    {
     "data": {
      "text/plain": [
       "(1, 30)"
      ]
     },
     "execution_count": 38,
     "metadata": {},
     "output_type": "execute_result"
    }
   ],
   "source": [
    "x_input=test_data[162:].reshape(1,-1) #test data - step(30)\n",
    "x_input.shape"
   ]
  },
  {
   "cell_type": "code",
   "execution_count": 39,
   "id": "2f64bd8f",
   "metadata": {},
   "outputs": [],
   "source": [
    "temp_input=list(x_input)\n",
    "temp_input=temp_input[0].tolist()"
   ]
  },
  {
   "cell_type": "code",
   "execution_count": 40,
   "id": "9594be28",
   "metadata": {
    "scrolled": true
   },
   "outputs": [
    {
     "data": {
      "text/plain": [
       "[0.01538118626922369,\n",
       " 0.012929112650454044,\n",
       " 0.009028087370097637,\n",
       " 0.008470797911286354,\n",
       " 0.00479268841445446,\n",
       " 0.01125724520534277,\n",
       " 0.00891662947833538,\n",
       " 0.007133303675800562,\n",
       " 0.005461435299366713,\n",
       " 0.004569772630929947,\n",
       " 0.005572893191128969,\n",
       " 0.002897904720157385,\n",
       " 0.00824788212776184,\n",
       " 0.004012483172118664,\n",
       " 0.0030093626119196415,\n",
       " 0.003901025280356407,\n",
       " 0.003901025280356407,\n",
       " 0.003120820503681898,\n",
       " 0.002229157369583845,\n",
       " 0.005572893191128969,\n",
       " 0.0030093626119196415,\n",
       " 0.0024520731531083584,\n",
       " 0.003901025280356407,\n",
       " 0.0013374944683164358,\n",
       " 0.001894783810712397,\n",
       " 0.00044583145063370466,\n",
       " 0.00033437361707910895,\n",
       " 0.001003120793029666,\n",
       " 0.0014489522436633706,\n",
       " 0.0021176994778215885]"
      ]
     },
     "execution_count": 40,
     "metadata": {},
     "output_type": "execute_result"
    }
   ],
   "source": [
    "temp_input"
   ]
  },
  {
   "cell_type": "code",
   "execution_count": 41,
   "id": "54a16704",
   "metadata": {},
   "outputs": [
    {
     "name": "stdout",
     "output_type": "stream",
     "text": [
      "[0.00724068]\n",
      "31\n",
      "1 day input [0.01292911 0.00902809 0.0084708  0.00479269 0.01125725 0.00891663\n",
      " 0.0071333  0.00546144 0.00456977 0.00557289 0.0028979  0.00824788\n",
      " 0.00401248 0.00300936 0.00390103 0.00390103 0.00312082 0.00222916\n",
      " 0.00557289 0.00300936 0.00245207 0.00390103 0.00133749 0.00189478\n",
      " 0.00044583 0.00033437 0.00100312 0.00144895 0.0021177  0.00724068]\n",
      "1 day output [[0.0075567]]\n",
      "2 day input [0.00902809 0.0084708  0.00479269 0.01125725 0.00891663 0.0071333\n",
      " 0.00546144 0.00456977 0.00557289 0.0028979  0.00824788 0.00401248\n",
      " 0.00300936 0.00390103 0.00390103 0.00312082 0.00222916 0.00557289\n",
      " 0.00300936 0.00245207 0.00390103 0.00133749 0.00189478 0.00044583\n",
      " 0.00033437 0.00100312 0.00144895 0.0021177  0.00724068 0.0075567 ]\n",
      "2 day output [[0.00784173]]\n",
      "3 day input [0.0084708  0.00479269 0.01125725 0.00891663 0.0071333  0.00546144\n",
      " 0.00456977 0.00557289 0.0028979  0.00824788 0.00401248 0.00300936\n",
      " 0.00390103 0.00390103 0.00312082 0.00222916 0.00557289 0.00300936\n",
      " 0.00245207 0.00390103 0.00133749 0.00189478 0.00044583 0.00033437\n",
      " 0.00100312 0.00144895 0.0021177  0.00724068 0.0075567  0.00784173]\n",
      "3 day output [[0.0081949]]\n",
      "4 day input [0.00479269 0.01125725 0.00891663 0.0071333  0.00546144 0.00456977\n",
      " 0.00557289 0.0028979  0.00824788 0.00401248 0.00300936 0.00390103\n",
      " 0.00390103 0.00312082 0.00222916 0.00557289 0.00300936 0.00245207\n",
      " 0.00390103 0.00133749 0.00189478 0.00044583 0.00033437 0.00100312\n",
      " 0.00144895 0.0021177  0.00724068 0.0075567  0.00784173 0.0081949 ]\n",
      "4 day output [[0.00873438]]\n",
      "5 day input [0.01125725 0.00891663 0.0071333  0.00546144 0.00456977 0.00557289\n",
      " 0.0028979  0.00824788 0.00401248 0.00300936 0.00390103 0.00390103\n",
      " 0.00312082 0.00222916 0.00557289 0.00300936 0.00245207 0.00390103\n",
      " 0.00133749 0.00189478 0.00044583 0.00033437 0.00100312 0.00144895\n",
      " 0.0021177  0.00724068 0.0075567  0.00784173 0.0081949  0.00873438]\n",
      "5 day output [[0.0094686]]\n",
      "6 day input [0.00891663 0.0071333  0.00546144 0.00456977 0.00557289 0.0028979\n",
      " 0.00824788 0.00401248 0.00300936 0.00390103 0.00390103 0.00312082\n",
      " 0.00222916 0.00557289 0.00300936 0.00245207 0.00390103 0.00133749\n",
      " 0.00189478 0.00044583 0.00033437 0.00100312 0.00144895 0.0021177\n",
      " 0.00724068 0.0075567  0.00784173 0.0081949  0.00873438 0.0094686 ]\n",
      "6 day output [[0.01035933]]\n",
      "7 day input [0.0071333  0.00546144 0.00456977 0.00557289 0.0028979  0.00824788\n",
      " 0.00401248 0.00300936 0.00390103 0.00390103 0.00312082 0.00222916\n",
      " 0.00557289 0.00300936 0.00245207 0.00390103 0.00133749 0.00189478\n",
      " 0.00044583 0.00033437 0.00100312 0.00144895 0.0021177  0.00724068\n",
      " 0.0075567  0.00784173 0.0081949  0.00873438 0.0094686  0.01035933]\n",
      "7 day output [[0.01131626]]\n",
      "8 day input [0.00546144 0.00456977 0.00557289 0.0028979  0.00824788 0.00401248\n",
      " 0.00300936 0.00390103 0.00390103 0.00312082 0.00222916 0.00557289\n",
      " 0.00300936 0.00245207 0.00390103 0.00133749 0.00189478 0.00044583\n",
      " 0.00033437 0.00100312 0.00144895 0.0021177  0.00724068 0.0075567\n",
      " 0.00784173 0.0081949  0.00873438 0.0094686  0.01035933 0.01131626]\n",
      "8 day output [[0.01226538]]\n",
      "9 day input [0.00456977 0.00557289 0.0028979  0.00824788 0.00401248 0.00300936\n",
      " 0.00390103 0.00390103 0.00312082 0.00222916 0.00557289 0.00300936\n",
      " 0.00245207 0.00390103 0.00133749 0.00189478 0.00044583 0.00033437\n",
      " 0.00100312 0.00144895 0.0021177  0.00724068 0.0075567  0.00784173\n",
      " 0.0081949  0.00873438 0.0094686  0.01035933 0.01131626 0.01226538]\n",
      "9 day output [[0.01315698]]\n",
      "10 day input [0.00557289 0.0028979  0.00824788 0.00401248 0.00300936 0.00390103\n",
      " 0.00390103 0.00312082 0.00222916 0.00557289 0.00300936 0.00245207\n",
      " 0.00390103 0.00133749 0.00189478 0.00044583 0.00033437 0.00100312\n",
      " 0.00144895 0.0021177  0.00724068 0.0075567  0.00784173 0.0081949\n",
      " 0.00873438 0.0094686  0.01035933 0.01131626 0.01226538 0.01315698]\n",
      "10 day output [[0.01398337]]\n",
      "11 day input [0.0028979  0.00824788 0.00401248 0.00300936 0.00390103 0.00390103\n",
      " 0.00312082 0.00222916 0.00557289 0.00300936 0.00245207 0.00390103\n",
      " 0.00133749 0.00189478 0.00044583 0.00033437 0.00100312 0.00144895\n",
      " 0.0021177  0.00724068 0.0075567  0.00784173 0.0081949  0.00873438\n",
      " 0.0094686  0.01035933 0.01131626 0.01226538 0.01315698 0.01398337]\n",
      "11 day output [[0.01476307]]\n",
      "12 day input [0.00824788 0.00401248 0.00300936 0.00390103 0.00390103 0.00312082\n",
      " 0.00222916 0.00557289 0.00300936 0.00245207 0.00390103 0.00133749\n",
      " 0.00189478 0.00044583 0.00033437 0.00100312 0.00144895 0.0021177\n",
      " 0.00724068 0.0075567  0.00784173 0.0081949  0.00873438 0.0094686\n",
      " 0.01035933 0.01131626 0.01226538 0.01315698 0.01398337 0.01476307]\n",
      "12 day output [[0.0155188]]\n",
      "13 day input [0.00401248 0.00300936 0.00390103 0.00390103 0.00312082 0.00222916\n",
      " 0.00557289 0.00300936 0.00245207 0.00390103 0.00133749 0.00189478\n",
      " 0.00044583 0.00033437 0.00100312 0.00144895 0.0021177  0.00724068\n",
      " 0.0075567  0.00784173 0.0081949  0.00873438 0.0094686  0.01035933\n",
      " 0.01131626 0.01226538 0.01315698 0.01398337 0.01476307 0.0155188 ]\n",
      "13 day output [[0.01629552]]\n",
      "14 day input [0.00300936 0.00390103 0.00390103 0.00312082 0.00222916 0.00557289\n",
      " 0.00300936 0.00245207 0.00390103 0.00133749 0.00189478 0.00044583\n",
      " 0.00033437 0.00100312 0.00144895 0.0021177  0.00724068 0.0075567\n",
      " 0.00784173 0.0081949  0.00873438 0.0094686  0.01035933 0.01131626\n",
      " 0.01226538 0.01315698 0.01398337 0.01476307 0.0155188  0.01629552]\n",
      "14 day output [[0.01709804]]\n",
      "15 day input [0.00390103 0.00390103 0.00312082 0.00222916 0.00557289 0.00300936\n",
      " 0.00245207 0.00390103 0.00133749 0.00189478 0.00044583 0.00033437\n",
      " 0.00100312 0.00144895 0.0021177  0.00724068 0.0075567  0.00784173\n",
      " 0.0081949  0.00873438 0.0094686  0.01035933 0.01131626 0.01226538\n",
      " 0.01315698 0.01398337 0.01476307 0.0155188  0.01629552 0.01709804]\n",
      "15 day output [[0.01793136]]\n",
      "16 day input [0.00390103 0.00312082 0.00222916 0.00557289 0.00300936 0.00245207\n",
      " 0.00390103 0.00133749 0.00189478 0.00044583 0.00033437 0.00100312\n",
      " 0.00144895 0.0021177  0.00724068 0.0075567  0.00784173 0.0081949\n",
      " 0.00873438 0.0094686  0.01035933 0.01131626 0.01226538 0.01315698\n",
      " 0.01398337 0.01476307 0.0155188  0.01629552 0.01709804 0.01793136]\n",
      "16 day output [[0.01878934]]\n",
      "17 day input [0.00312082 0.00222916 0.00557289 0.00300936 0.00245207 0.00390103\n",
      " 0.00133749 0.00189478 0.00044583 0.00033437 0.00100312 0.00144895\n",
      " 0.0021177  0.00724068 0.0075567  0.00784173 0.0081949  0.00873438\n",
      " 0.0094686  0.01035933 0.01131626 0.01226538 0.01315698 0.01398337\n",
      " 0.01476307 0.0155188  0.01629552 0.01709804 0.01793136 0.01878934]\n",
      "17 day output [[0.01965686]]\n",
      "18 day input [0.00222916 0.00557289 0.00300936 0.00245207 0.00390103 0.00133749\n",
      " 0.00189478 0.00044583 0.00033437 0.00100312 0.00144895 0.0021177\n",
      " 0.00724068 0.0075567  0.00784173 0.0081949  0.00873438 0.0094686\n",
      " 0.01035933 0.01131626 0.01226538 0.01315698 0.01398337 0.01476307\n",
      " 0.0155188  0.01629552 0.01709804 0.01793136 0.01878934 0.01965686]\n",
      "18 day output [[0.02051872]]\n",
      "19 day input [0.00557289 0.00300936 0.00245207 0.00390103 0.00133749 0.00189478\n",
      " 0.00044583 0.00033437 0.00100312 0.00144895 0.0021177  0.00724068\n",
      " 0.0075567  0.00784173 0.0081949  0.00873438 0.0094686  0.01035933\n",
      " 0.01131626 0.01226538 0.01315698 0.01398337 0.01476307 0.0155188\n",
      " 0.01629552 0.01709804 0.01793136 0.01878934 0.01965686 0.02051872]\n",
      "19 day output [[0.02136132]]\n",
      "20 day input [0.00300936 0.00245207 0.00390103 0.00133749 0.00189478 0.00044583\n",
      " 0.00033437 0.00100312 0.00144895 0.0021177  0.00724068 0.0075567\n",
      " 0.00784173 0.0081949  0.00873438 0.0094686  0.01035933 0.01131626\n",
      " 0.01226538 0.01315698 0.01398337 0.01476307 0.0155188  0.01629552\n",
      " 0.01709804 0.01793136 0.01878934 0.01965686 0.02051872 0.02136132]\n",
      "20 day output [[0.02219479]]\n",
      "21 day input [0.00245207 0.00390103 0.00133749 0.00189478 0.00044583 0.00033437\n",
      " 0.00100312 0.00144895 0.0021177  0.00724068 0.0075567  0.00784173\n",
      " 0.0081949  0.00873438 0.0094686  0.01035933 0.01131626 0.01226538\n",
      " 0.01315698 0.01398337 0.01476307 0.0155188  0.01629552 0.01709804\n",
      " 0.01793136 0.01878934 0.01965686 0.02051872 0.02136132 0.02219479]\n",
      "21 day output [[0.02301821]]\n",
      "22 day input [0.00390103 0.00133749 0.00189478 0.00044583 0.00033437 0.00100312\n",
      " 0.00144895 0.0021177  0.00724068 0.0075567  0.00784173 0.0081949\n",
      " 0.00873438 0.0094686  0.01035933 0.01131626 0.01226538 0.01315698\n",
      " 0.01398337 0.01476307 0.0155188  0.01629552 0.01709804 0.01793136\n",
      " 0.01878934 0.01965686 0.02051872 0.02136132 0.02219479 0.02301821]\n",
      "22 day output [[0.02383529]]\n",
      "23 day input [0.00133749 0.00189478 0.00044583 0.00033437 0.00100312 0.00144895\n",
      " 0.0021177  0.00724068 0.0075567  0.00784173 0.0081949  0.00873438\n",
      " 0.0094686  0.01035933 0.01131626 0.01226538 0.01315698 0.01398337\n",
      " 0.01476307 0.0155188  0.01629552 0.01709804 0.01793136 0.01878934\n",
      " 0.01965686 0.02051872 0.02136132 0.02219479 0.02301821 0.02383529]\n",
      "23 day output [[0.02465704]]\n",
      "24 day input [0.00189478 0.00044583 0.00033437 0.00100312 0.00144895 0.0021177\n",
      " 0.00724068 0.0075567  0.00784173 0.0081949  0.00873438 0.0094686\n",
      " 0.01035933 0.01131626 0.01226538 0.01315698 0.01398337 0.01476307\n",
      " 0.0155188  0.01629552 0.01709804 0.01793136 0.01878934 0.01965686\n",
      " 0.02051872 0.02136132 0.02219479 0.02301821 0.02383529 0.02465704]\n"
     ]
    },
    {
     "name": "stdout",
     "output_type": "stream",
     "text": [
      "24 day output [[0.02547898]]\n",
      "25 day input [0.00044583 0.00033437 0.00100312 0.00144895 0.0021177  0.00724068\n",
      " 0.0075567  0.00784173 0.0081949  0.00873438 0.0094686  0.01035933\n",
      " 0.01131626 0.01226538 0.01315698 0.01398337 0.01476307 0.0155188\n",
      " 0.01629552 0.01709804 0.01793136 0.01878934 0.01965686 0.02051872\n",
      " 0.02136132 0.02219479 0.02301821 0.02383529 0.02465704 0.02547898]\n",
      "25 day output [[0.02630399]]\n",
      "26 day input [0.00033437 0.00100312 0.00144895 0.0021177  0.00724068 0.0075567\n",
      " 0.00784173 0.0081949  0.00873438 0.0094686  0.01035933 0.01131626\n",
      " 0.01226538 0.01315698 0.01398337 0.01476307 0.0155188  0.01629552\n",
      " 0.01709804 0.01793136 0.01878934 0.01965686 0.02051872 0.02136132\n",
      " 0.02219479 0.02301821 0.02383529 0.02465704 0.02547898 0.02630399]\n",
      "26 day output [[0.02712907]]\n",
      "27 day input [0.00100312 0.00144895 0.0021177  0.00724068 0.0075567  0.00784173\n",
      " 0.0081949  0.00873438 0.0094686  0.01035933 0.01131626 0.01226538\n",
      " 0.01315698 0.01398337 0.01476307 0.0155188  0.01629552 0.01709804\n",
      " 0.01793136 0.01878934 0.01965686 0.02051872 0.02136132 0.02219479\n",
      " 0.02301821 0.02383529 0.02465704 0.02547898 0.02630399 0.02712907]\n",
      "27 day output [[0.02794898]]\n",
      "28 day input [0.00144895 0.0021177  0.00724068 0.0075567  0.00784173 0.0081949\n",
      " 0.00873438 0.0094686  0.01035933 0.01131626 0.01226538 0.01315698\n",
      " 0.01398337 0.01476307 0.0155188  0.01629552 0.01709804 0.01793136\n",
      " 0.01878934 0.01965686 0.02051872 0.02136132 0.02219479 0.02301821\n",
      " 0.02383529 0.02465704 0.02547898 0.02630399 0.02712907 0.02794898]\n",
      "28 day output [[0.02876141]]\n",
      "29 day input [0.0021177  0.00724068 0.0075567  0.00784173 0.0081949  0.00873438\n",
      " 0.0094686  0.01035933 0.01131626 0.01226538 0.01315698 0.01398337\n",
      " 0.01476307 0.0155188  0.01629552 0.01709804 0.01793136 0.01878934\n",
      " 0.01965686 0.02051872 0.02136132 0.02219479 0.02301821 0.02383529\n",
      " 0.02465704 0.02547898 0.02630399 0.02712907 0.02794898 0.02876141]\n",
      "29 day output [[0.02955759]]\n",
      "[[0.007240680977702141], [0.007556697353720665], [0.00784173421561718], [0.008194901049137115], [0.008734377101063728], [0.009468600153923035], [0.010359331965446472], [0.01131625846028328], [0.012265384197235107], [0.013156978413462639], [0.013983374461531639], [0.014763065613806248], [0.01551880408078432], [0.016295522451400757], [0.017098035663366318], [0.01793135702610016], [0.018789339810609818], [0.01965685561299324], [0.020518716424703598], [0.021361321210861206], [0.022194787859916687], [0.023018207401037216], [0.023835286498069763], [0.02465704083442688], [0.02547898329794407], [0.026303987950086594], [0.027129074558615685], [0.027948984876275063], [0.028761407360434532], [0.029557591304183006]]\n"
     ]
    }
   ],
   "source": [
    "# prediction for next 30 days\n",
    "from numpy import array\n",
    "\n",
    "lst_output=[]\n",
    "n_steps=30\n",
    "i=0\n",
    "while(i<30): #30 hari\n",
    "    \n",
    "    if(len(temp_input)>30):\n",
    "        #print(temp_input)\n",
    "        x_input=np.array(temp_input[1:])\n",
    "        print(\"{} day input {}\".format(i,x_input))\n",
    "        x_input=x_input.reshape(1,-1)\n",
    "        x_input = x_input.reshape((1, n_steps, 1))\n",
    "        #print(x_input)\n",
    "        yhat = model.predict(x_input, verbose=0)\n",
    "        print(\"{} day output {}\".format(i,yhat))\n",
    "        temp_input.extend(yhat[0].tolist())\n",
    "        temp_input=temp_input[1:]\n",
    "        #print(temp_input)\n",
    "        lst_output.extend(yhat.tolist())\n",
    "        i=i+1\n",
    "    else:\n",
    "        x_input = x_input.reshape((1, n_steps,1))\n",
    "        yhat = model.predict(x_input, verbose=0)\n",
    "        print(yhat[0])\n",
    "        temp_input.extend(yhat[0].tolist())\n",
    "        print(len(temp_input))\n",
    "        lst_output.extend(yhat.tolist())\n",
    "        i=i+1\n",
    "    \n",
    "\n",
    "print(lst_output)"
   ]
  },
  {
   "cell_type": "code",
   "execution_count": 42,
   "id": "447dcca0",
   "metadata": {},
   "outputs": [],
   "source": [
    "day_new=np.arange(1,31) # dari data 30 hari terakhir\n",
    "day_pred=np.arange(31,61) #predict 30 hari kedepan"
   ]
  },
  {
   "cell_type": "code",
   "execution_count": 43,
   "id": "91dd51a7",
   "metadata": {},
   "outputs": [
    {
     "data": {
      "text/plain": [
       "766"
      ]
     },
     "execution_count": 43,
     "metadata": {},
     "output_type": "execute_result"
    }
   ],
   "source": [
    "len(df)"
   ]
  },
  {
   "cell_type": "code",
   "execution_count": 44,
   "id": "86fd0fa7",
   "metadata": {},
   "outputs": [
    {
     "data": {
      "text/plain": [
       "30"
      ]
     },
     "execution_count": 44,
     "metadata": {},
     "output_type": "execute_result"
    }
   ],
   "source": [
    "len(day_pred)"
   ]
  },
  {
   "cell_type": "code",
   "execution_count": 45,
   "id": "e0730cc4",
   "metadata": {
    "scrolled": true
   },
   "outputs": [
    {
     "data": {
      "text/plain": [
       "[<matplotlib.lines.Line2D at 0x15d9d1d69c8>]"
      ]
     },
     "execution_count": 45,
     "metadata": {},
     "output_type": "execute_result"
    },
    {
     "data": {
      "image/png": "[encoded data removed]",
      "text/plain": [
       "<Figure size 432x288 with 1 Axes>"
      ]
     },
     "metadata": {
      "needs_background": "light"
     },
     "output_type": "display_data"
    }
   ],
   "source": [
    "plt.plot(day_new,df[736:]) # [total data - prediction(30)] \n",
    "plt.plot(day_pred,scaler.inverse_transform(lst_output))"
   ]
  },
  {
   "cell_type": "code",
   "execution_count": 46,
   "id": "07cc7ca7",
   "metadata": {},
   "outputs": [
    {
     "data": {
      "text/plain": [
       "[<matplotlib.lines.Line2D at 0x15d9d3d0a88>]"
      ]
     },
     "execution_count": 46,
     "metadata": {},
     "output_type": "execute_result"
    },
    {
     "data": {
      "image/png": "[encoded data removed]",
      "text/plain": [
       "<Figure size 432x288 with 1 Axes>"
      ]
     },
     "metadata": {
      "needs_background": "light"
     },
     "output_type": "display_data"
    }
   ],
   "source": [
    "df2=df.tolist()\n",
    "df2.extend(scaler.inverse_transform(lst_output))\n",
    "plt.plot(df2)"
   ]
  },
  {
   "cell_type": "code",
   "execution_count": 47,
   "id": "4e90a3ff",
   "metadata": {
    "scrolled": true
   },
   "outputs": [
    {
     "data": {
      "text/plain": [
       "[<matplotlib.lines.Line2D at 0x15d9d273048>]"
      ]
     },
     "execution_count": 47,
     "metadata": {},
     "output_type": "execute_result"
    },
    {
     "data": {
      "image/png": "[encoded data removed]",
      "text/plain": [
       "<Figure size 432x288 with 1 Axes>"
      ]
     },
     "metadata": {
      "needs_background": "light"
     },
     "output_type": "display_data"
    }
   ],
   "source": [
    "df2=scaler.inverse_transform(df2).tolist()\n",
    "plt.plot(df2)"
   ]
  },
  {
   "cell_type": "code",
   "execution_count": 48,
   "id": "3cf7831d",
   "metadata": {},
   "outputs": [
    {
     "data": {
      "text/plain": [
       "array([[ 69.96338908],\n",
       "       [ 72.79868798],\n",
       "       [ 75.35603868],\n",
       "       [ 78.52465148],\n",
       "       [ 83.36483058],\n",
       "       [ 89.95227975],\n",
       "       [ 97.94392549],\n",
       "       [106.52946992],\n",
       "       [115.04502596],\n",
       "       [123.04440919],\n",
       "       [130.45883447],\n",
       "       [137.45422342],\n",
       "       [144.23470889],\n",
       "       [151.20342605],\n",
       "       [158.40357452],\n",
       "       [165.88013372],\n",
       "       [173.57795519],\n",
       "       [181.3613069 ],\n",
       "       [189.09392203],\n",
       "       [196.6537721 ],\n",
       "       [204.13163481],\n",
       "       [211.51935487],\n",
       "       [218.85018846],\n",
       "       [226.2229683 ],\n",
       "       [233.59743601],\n",
       "       [240.99937769],\n",
       "       [248.40205467],\n",
       "       [255.75828997],\n",
       "       [263.04734444],\n",
       "       [270.19070672]])"
      ]
     },
     "execution_count": 48,
     "metadata": {},
     "output_type": "execute_result"
    }
   ],
   "source": [
    "scaler.inverse_transform(lst_output)"
   ]
  },
  {
   "cell_type": "code",
   "execution_count": 49,
   "id": "7790ecaa",
   "metadata": {},
   "outputs": [
    {
     "name": "stdout",
     "output_type": "stream",
     "text": [
      "WARNING:tensorflow:Model was constructed with shape (None, 30, 1) for input KerasTensor(type_spec=TensorSpec(shape=(None, 30, 1), dtype=tf.float32, name='lstm_input'), name='lstm_input', description=\"created by layer 'lstm_input'\"), but it was called on an input with incompatible shape (None, 1, 1).\n",
      "loss: 231441550.000000\n"
     ]
    }
   ],
   "source": [
    "# evaluate the model\n",
    "scores = model.evaluate(X_train, Y_train, verbose=0)\n",
    "print(\"%s: %f\" % (model.metrics_names[0], scores*100))"
   ]
  },
  {
   "cell_type": "code",
   "execution_count": null,
   "id": "66cacc99",
   "metadata": {},
   "outputs": [],
   "source": []
  }
 ],
 "metadata": {
  "kernelspec": {
   "display_name": "Python 3 (ipykernel)",
   "language": "python",
   "name": "python3"
  },
  "language_info": {
   "codemirror_mode": {
    "name": "ipython",
    "version": 3
   },
   "file_extension": ".py",
   "mimetype": "text/x-python",
   "name": "python",
   "nbconvert_exporter": "python",
   "pygments_lexer": "ipython3",
   "version": "3.7.13"
  }
 },
 "nbformat": 4,
 "nbformat_minor": 5
}
