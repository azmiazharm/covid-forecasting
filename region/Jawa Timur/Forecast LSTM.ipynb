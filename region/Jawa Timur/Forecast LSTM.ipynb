{
 "cells": [
  {
   "cell_type": "code",
   "execution_count": 1,
   "id": "f8cc18d9",
   "metadata": {},
   "outputs": [],
   "source": [
    "# Import library\n",
    "import pandas as pd\n",
    "import numpy as np\n",
    "import matplotlib.pyplot as plt\n",
    "import tensorflow\n",
    "from tensorflow import keras\n",
    "from tensorflow.keras.layers import Dense, Activation, LSTM\n",
    "from sklearn.preprocessing import MinMaxScaler\n",
    "from keras.models import Sequential\n",
    "import os"
   ]
  },
  {
   "cell_type": "code",
   "execution_count": 2,
   "id": "4e7cdaba",
   "metadata": {},
   "outputs": [],
   "source": [
    "# Use CPU\n",
    "os.environ['CUDA_VISIBLE_DEVICES'] = '-1'"
   ]
  },
  {
   "cell_type": "code",
   "execution_count": 3,
   "id": "29d08e2d",
   "metadata": {},
   "outputs": [
    {
     "name": "stdout",
     "output_type": "stream",
     "text": [
      "2.8.0\n"
     ]
    }
   ],
   "source": [
    "print(tensorflow.__version__)"
   ]
  },
  {
   "cell_type": "code",
   "execution_count": 4,
   "id": "6dac519e",
   "metadata": {},
   "outputs": [
    {
     "data": {
      "text/html": [
       "<div>\n",
       "<style scoped>\n",
       "    .dataframe tbody tr th:only-of-type {\n",
       "        vertical-align: middle;\n",
       "    }\n",
       "\n",
       "    .dataframe tbody tr th {\n",
       "        vertical-align: top;\n",
       "    }\n",
       "\n",
       "    .dataframe thead th {\n",
       "        text-align: right;\n",
       "    }\n",
       "</style>\n",
       "<table border=\"1\" class=\"dataframe\">\n",
       "  <thead>\n",
       "    <tr style=\"text-align: right;\">\n",
       "      <th></th>\n",
       "      <th>daily_case</th>\n",
       "    </tr>\n",
       "    <tr>\n",
       "      <th>date</th>\n",
       "      <th></th>\n",
       "    </tr>\n",
       "  </thead>\n",
       "  <tbody>\n",
       "    <tr>\n",
       "      <th>2020-04-01</th>\n",
       "      <td>9</td>\n",
       "    </tr>\n",
       "    <tr>\n",
       "      <th>2020-04-02</th>\n",
       "      <td>0</td>\n",
       "    </tr>\n",
       "    <tr>\n",
       "      <th>2020-04-03</th>\n",
       "      <td>47</td>\n",
       "    </tr>\n",
       "    <tr>\n",
       "      <th>2020-04-04</th>\n",
       "      <td>5</td>\n",
       "    </tr>\n",
       "    <tr>\n",
       "      <th>2020-04-05</th>\n",
       "      <td>35</td>\n",
       "    </tr>\n",
       "  </tbody>\n",
       "</table>\n",
       "</div>"
      ],
      "text/plain": [
       "            daily_case\n",
       "date                  \n",
       "2020-04-01           9\n",
       "2020-04-02           0\n",
       "2020-04-03          47\n",
       "2020-04-04           5\n",
       "2020-04-05          35"
      ]
     },
     "execution_count": 4,
     "metadata": {},
     "output_type": "execute_result"
    }
   ],
   "source": [
    "# Dataset\n",
    "df=pd.read_csv('./../../dataset/raw_jawa_timur.csv', parse_dates=[\"date\"], index_col=\"date\")\n",
    "#df['daily_case'] = df['daily_case'].str.replace(',','').astype(int)\n",
    "\n",
    "# Cut dataset to start from 1 April 2022\n",
    "df = df[14:]\n",
    "df.head()"
   ]
  },
  {
   "cell_type": "code",
   "execution_count": 5,
   "id": "b7cb2a44",
   "metadata": {},
   "outputs": [
    {
     "name": "stdout",
     "output_type": "stream",
     "text": [
      "<class 'pandas.core.frame.DataFrame'>\n",
      "DatetimeIndex: 766 entries, 2020-04-01 to 2022-05-06\n",
      "Data columns (total 1 columns):\n",
      " #   Column      Non-Null Count  Dtype\n",
      "---  ------      --------------  -----\n",
      " 0   daily_case  766 non-null    int64\n",
      "dtypes: int64(1)\n",
      "memory usage: 12.0 KB\n"
     ]
    }
   ],
   "source": [
    "df.info()"
   ]
  },
  {
   "cell_type": "code",
   "execution_count": 6,
   "id": "33630edc",
   "metadata": {},
   "outputs": [
    {
     "data": {
      "text/plain": [
       "(766, 1)"
      ]
     },
     "execution_count": 6,
     "metadata": {},
     "output_type": "execute_result"
    }
   ],
   "source": [
    "df.shape"
   ]
  },
  {
   "cell_type": "code",
   "execution_count": 7,
   "id": "a46fcfe0",
   "metadata": {},
   "outputs": [
    {
     "data": {
      "text/plain": [
       "[<matplotlib.lines.Line2D at 0x17863c1cb48>]"
      ]
     },
     "execution_count": 7,
     "metadata": {},
     "output_type": "execute_result"
    },
    {
     "data": {
      "image/png": "[encoded data removed]",
      "text/plain": [
       "<Figure size 432x288 with 1 Axes>"
      ]
     },
     "metadata": {
      "needs_background": "light"
     },
     "output_type": "display_data"
    }
   ],
   "source": [
    "plt.plot(df)"
   ]
  },
  {
   "cell_type": "code",
   "execution_count": 8,
   "id": "baf1aaac",
   "metadata": {},
   "outputs": [],
   "source": [
    "scaler = MinMaxScaler(feature_range=(0,1))"
   ]
  },
  {
   "cell_type": "code",
   "execution_count": 9,
   "id": "116dbcb0",
   "metadata": {},
   "outputs": [
    {
     "data": {
      "text/plain": [
       "(766, 1)"
      ]
     },
     "execution_count": 9,
     "metadata": {},
     "output_type": "execute_result"
    }
   ],
   "source": [
    "df.shape"
   ]
  },
  {
   "cell_type": "code",
   "execution_count": 10,
   "id": "1dbbf64c",
   "metadata": {},
   "outputs": [
    {
     "data": {
      "text/html": [
       "<div>\n",
       "<style scoped>\n",
       "    .dataframe tbody tr th:only-of-type {\n",
       "        vertical-align: middle;\n",
       "    }\n",
       "\n",
       "    .dataframe tbody tr th {\n",
       "        vertical-align: top;\n",
       "    }\n",
       "\n",
       "    .dataframe thead th {\n",
       "        text-align: right;\n",
       "    }\n",
       "</style>\n",
       "<table border=\"1\" class=\"dataframe\">\n",
       "  <thead>\n",
       "    <tr style=\"text-align: right;\">\n",
       "      <th></th>\n",
       "      <th>daily_case</th>\n",
       "    </tr>\n",
       "    <tr>\n",
       "      <th>date</th>\n",
       "      <th></th>\n",
       "    </tr>\n",
       "  </thead>\n",
       "  <tbody>\n",
       "    <tr>\n",
       "      <th>2020-04-01</th>\n",
       "      <td>9</td>\n",
       "    </tr>\n",
       "    <tr>\n",
       "      <th>2020-04-02</th>\n",
       "      <td>0</td>\n",
       "    </tr>\n",
       "    <tr>\n",
       "      <th>2020-04-03</th>\n",
       "      <td>47</td>\n",
       "    </tr>\n",
       "    <tr>\n",
       "      <th>2020-04-04</th>\n",
       "      <td>5</td>\n",
       "    </tr>\n",
       "    <tr>\n",
       "      <th>2020-04-05</th>\n",
       "      <td>35</td>\n",
       "    </tr>\n",
       "  </tbody>\n",
       "</table>\n",
       "</div>"
      ],
      "text/plain": [
       "            daily_case\n",
       "date                  \n",
       "2020-04-01           9\n",
       "2020-04-02           0\n",
       "2020-04-03          47\n",
       "2020-04-04           5\n",
       "2020-04-05          35"
      ]
     },
     "execution_count": 10,
     "metadata": {},
     "output_type": "execute_result"
    }
   ],
   "source": [
    "df.head()"
   ]
  },
  {
   "cell_type": "code",
   "execution_count": 11,
   "id": "e6faefb5",
   "metadata": {},
   "outputs": [],
   "source": [
    "# df = scaler.fit_transform(np.array(df).reshape(-1,1))"
   ]
  },
  {
   "cell_type": "code",
   "execution_count": 12,
   "id": "19cb8aa8",
   "metadata": {},
   "outputs": [
    {
     "data": {
      "text/plain": [
       "(766, 1)"
      ]
     },
     "execution_count": 12,
     "metadata": {},
     "output_type": "execute_result"
    }
   ],
   "source": [
    "df.shape"
   ]
  },
  {
   "cell_type": "code",
   "execution_count": 13,
   "id": "8d81d237",
   "metadata": {},
   "outputs": [],
   "source": [
    "# Split data to train and test\n",
    "df = df.values\n",
    "df = df.astype('float32')\n",
    "train_size = int(len(df) * 0.75)\n",
    "test_size=len(df)-train_size"
   ]
  },
  {
   "cell_type": "code",
   "execution_count": 14,
   "id": "d07613e8",
   "metadata": {},
   "outputs": [],
   "source": [
    "train_data=df[0:train_size,:]\n",
    "test_data=df[train_size:len(df),:]"
   ]
  },
  {
   "cell_type": "code",
   "execution_count": 15,
   "id": "ec2da0aa",
   "metadata": {},
   "outputs": [],
   "source": [
    "# scale data\n",
    "train_data = scaler.fit_transform(np.array(train_data).reshape(-1,1))\n",
    "test_data = scaler.fit_transform(np.array(test_data).reshape(-1,1))"
   ]
  },
  {
   "cell_type": "code",
   "execution_count": 16,
   "id": "ec3179a7",
   "metadata": {},
   "outputs": [
    {
     "data": {
      "text/plain": [
       "(574, 1)"
      ]
     },
     "execution_count": 16,
     "metadata": {},
     "output_type": "execute_result"
    }
   ],
   "source": [
    "train_data.shape"
   ]
  },
  {
   "cell_type": "code",
   "execution_count": 17,
   "id": "709fa2f3",
   "metadata": {},
   "outputs": [
    {
     "name": "stdout",
     "output_type": "stream",
     "text": [
      "574\n",
      "192\n"
     ]
    },
    {
     "data": {
      "text/plain": [
       "(None, None)"
      ]
     },
     "execution_count": 17,
     "metadata": {},
     "output_type": "execute_result"
    }
   ],
   "source": [
    "print(len(train_data)), print(len(test_data))"
   ]
  },
  {
   "cell_type": "code",
   "execution_count": 18,
   "id": "8b465761",
   "metadata": {},
   "outputs": [],
   "source": [
    "# Create dataset matrix based on timestep\n",
    "def create_dataset(dataset, time_step=1):\n",
    "    X, Y = [], []\n",
    "    for i in range(len(dataset)-time_step-1):\n",
    "        a = dataset[i:(i+time_step), 0]\n",
    "        X.append(a)\n",
    "        Y.append(dataset[i + time_step, 0])\n",
    "    return np.array(X), np.array(Y)"
   ]
  },
  {
   "cell_type": "code",
   "execution_count": 19,
   "id": "f7456e17",
   "metadata": {},
   "outputs": [],
   "source": [
    "# Reshape into x=t, t+1, t+2, ... t+n, and Y = t + (n+1)\n",
    "time_step = 30\n",
    "X_train, Y_train = create_dataset(train_data, time_step)\n",
    "X_test, Y_test = create_dataset(test_data, time_step)"
   ]
  },
  {
   "cell_type": "code",
   "execution_count": 20,
   "id": "1e2fbaae",
   "metadata": {
    "scrolled": true
   },
   "outputs": [
    {
     "name": "stdout",
     "output_type": "stream",
     "text": [
      "(543, 30)\n",
      "(543,)\n"
     ]
    },
    {
     "data": {
      "text/plain": [
       "(None, None)"
      ]
     },
     "execution_count": 20,
     "metadata": {},
     "output_type": "execute_result"
    }
   ],
   "source": [
    "print(X_train.shape), print(Y_train.shape)"
   ]
  },
  {
   "cell_type": "code",
   "execution_count": 21,
   "id": "14caf748",
   "metadata": {},
   "outputs": [
    {
     "name": "stdout",
     "output_type": "stream",
     "text": [
      "(161, 30)\n",
      "(161,)\n"
     ]
    },
    {
     "data": {
      "text/plain": [
       "(None, None)"
      ]
     },
     "execution_count": 21,
     "metadata": {},
     "output_type": "execute_result"
    }
   ],
   "source": [
    "print(X_test.shape), print(Y_test.shape)"
   ]
  },
  {
   "cell_type": "code",
   "execution_count": 22,
   "id": "dc2e0ea1",
   "metadata": {},
   "outputs": [
    {
     "data": {
      "text/plain": [
       "161"
      ]
     },
     "execution_count": 22,
     "metadata": {},
     "output_type": "execute_result"
    }
   ],
   "source": [
    "len(X_test)"
   ]
  },
  {
   "cell_type": "code",
   "execution_count": 23,
   "id": "dd7a7f83",
   "metadata": {},
   "outputs": [],
   "source": [
    "# Reshape input data to 3d [sample, time_step, features]\n",
    "X_train = X_train.reshape(X_train.shape[0], X_train.shape[1], 1)\n",
    "X_test = X_test.reshape(X_test.shape[0], X_test.shape[1], 1)"
   ]
  },
  {
   "cell_type": "code",
   "execution_count": 24,
   "id": "35b0d75b",
   "metadata": {},
   "outputs": [],
   "source": [
    "# # Create model\n",
    "# model = Sequential()\n",
    "# model.add(LSTM(192, return_sequences=True, input_shape=(30,1)))\n",
    "# model.add(LSTM(64, return_sequences=True))\n",
    "# model.add(LSTM(224, return_sequences=True))\n",
    "# model.add(LSTM(160, activation='relu'))\n",
    "# model.add(Dropout(0.1))\n",
    "# model.add(Dense(1))\n",
    "# model.compile(optimizer='adam', loss='mean_squared_error')"
   ]
  },
  {
   "cell_type": "code",
   "execution_count": 25,
   "id": "2904dc8f",
   "metadata": {},
   "outputs": [],
   "source": [
    "# Create Stacked LSTM model\n",
    "model = Sequential()\n",
    "model.add(LSTM(100, activation='relu', return_sequences=True, input_shape=(30,1)))\n",
    "model.add(LSTM(100))\n",
    "model.add(Dense(1))\n",
    "model.compile(optimizer='adam', loss='mean_squared_error')"
   ]
  },
  {
   "cell_type": "code",
   "execution_count": 26,
   "id": "2d2dd132",
   "metadata": {},
   "outputs": [
    {
     "name": "stdout",
     "output_type": "stream",
     "text": [
      "Model: \"sequential\"\n",
      "_________________________________________________________________\n",
      " Layer (type)                Output Shape              Param #   \n",
      "=================================================================\n",
      " lstm (LSTM)                 (None, 30, 100)           40800     \n",
      "                                                                 \n",
      " lstm_1 (LSTM)               (None, 100)               80400     \n",
      "                                                                 \n",
      " dense (Dense)               (None, 1)                 101       \n",
      "                                                                 \n",
      "=================================================================\n",
      "Total params: 121,301\n",
      "Trainable params: 121,301\n",
      "Non-trainable params: 0\n",
      "_________________________________________________________________\n"
     ]
    }
   ],
   "source": [
    "model.summary()"
   ]
  },
  {
   "cell_type": "code",
   "execution_count": 27,
   "id": "7314a09a",
   "metadata": {},
   "outputs": [
    {
     "name": "stdout",
     "output_type": "stream",
     "text": [
      "Epoch 1/200\n",
      "17/17 [==============================] - 3s 56ms/step - loss: 0.0113 - val_loss: 0.0224\n",
      "Epoch 2/200\n",
      "17/17 [==============================] - 1s 32ms/step - loss: 0.0060 - val_loss: 0.0141\n",
      "Epoch 3/200\n",
      "17/17 [==============================] - 1s 30ms/step - loss: 0.0045 - val_loss: 0.0116\n",
      "Epoch 4/200\n",
      "17/17 [==============================] - 0s 27ms/step - loss: 0.0039 - val_loss: 0.0107\n",
      "Epoch 5/200\n",
      "17/17 [==============================] - 1s 30ms/step - loss: 0.0036 - val_loss: 0.0089\n",
      "Epoch 6/200\n",
      "17/17 [==============================] - 0s 29ms/step - loss: 0.0037 - val_loss: 0.0090\n",
      "Epoch 7/200\n",
      "17/17 [==============================] - 0s 29ms/step - loss: 0.0042 - val_loss: 0.0114\n",
      "Epoch 8/200\n",
      "17/17 [==============================] - 0s 29ms/step - loss: 0.0038 - val_loss: 0.0103\n",
      "Epoch 9/200\n",
      "17/17 [==============================] - 0s 29ms/step - loss: 0.0038 - val_loss: 0.0085\n",
      "Epoch 10/200\n",
      "17/17 [==============================] - 1s 31ms/step - loss: 0.0036 - val_loss: 0.0069\n",
      "Epoch 11/200\n",
      "17/17 [==============================] - 1s 33ms/step - loss: 0.0036 - val_loss: 0.0089\n",
      "Epoch 12/200\n",
      "17/17 [==============================] - 1s 30ms/step - loss: 0.0030 - val_loss: 0.0070\n",
      "Epoch 13/200\n",
      "17/17 [==============================] - 0s 29ms/step - loss: 0.0032 - val_loss: 0.0065\n",
      "Epoch 14/200\n",
      "17/17 [==============================] - 0s 30ms/step - loss: 0.0030 - val_loss: 0.0066\n",
      "Epoch 15/200\n",
      "17/17 [==============================] - 0s 29ms/step - loss: 0.0028 - val_loss: 0.0063\n",
      "Epoch 16/200\n",
      "17/17 [==============================] - 1s 37ms/step - loss: 0.0027 - val_loss: 0.0064\n",
      "Epoch 17/200\n",
      "17/17 [==============================] - 1s 36ms/step - loss: 0.0029 - val_loss: 0.0069\n",
      "Epoch 18/200\n",
      "17/17 [==============================] - 1s 31ms/step - loss: 0.0026 - val_loss: 0.0056\n",
      "Epoch 19/200\n",
      "17/17 [==============================] - 1s 30ms/step - loss: 0.0027 - val_loss: 0.0072\n",
      "Epoch 20/200\n",
      "17/17 [==============================] - 0s 28ms/step - loss: 0.0028 - val_loss: 0.0059\n",
      "Epoch 21/200\n",
      "17/17 [==============================] - 0s 27ms/step - loss: 0.0027 - val_loss: 0.0076\n",
      "Epoch 22/200\n",
      "17/17 [==============================] - 0s 27ms/step - loss: 0.0030 - val_loss: 0.0054\n",
      "Epoch 23/200\n",
      "17/17 [==============================] - 0s 27ms/step - loss: 0.0024 - val_loss: 0.0067\n",
      "Epoch 24/200\n",
      "17/17 [==============================] - 0s 28ms/step - loss: 0.0024 - val_loss: 0.0056\n",
      "Epoch 25/200\n",
      "17/17 [==============================] - 0s 27ms/step - loss: 0.0025 - val_loss: 0.0054\n",
      "Epoch 26/200\n",
      "17/17 [==============================] - 1s 31ms/step - loss: 0.0024 - val_loss: 0.0053\n",
      "Epoch 27/200\n",
      "17/17 [==============================] - 1s 36ms/step - loss: 0.0023 - val_loss: 0.0053\n",
      "Epoch 28/200\n",
      "17/17 [==============================] - 1s 35ms/step - loss: 0.0024 - val_loss: 0.0056\n",
      "Epoch 29/200\n",
      "17/17 [==============================] - 0s 27ms/step - loss: 0.0024 - val_loss: 0.0050\n",
      "Epoch 30/200\n",
      "17/17 [==============================] - 0s 27ms/step - loss: 0.0023 - val_loss: 0.0054\n",
      "Epoch 31/200\n",
      "17/17 [==============================] - 0s 27ms/step - loss: 0.0023 - val_loss: 0.0057\n",
      "Epoch 32/200\n",
      "17/17 [==============================] - 0s 27ms/step - loss: 0.0023 - val_loss: 0.0078\n",
      "Epoch 33/200\n",
      "17/17 [==============================] - 0s 27ms/step - loss: 0.0031 - val_loss: 0.0053\n",
      "Epoch 34/200\n",
      "17/17 [==============================] - 0s 27ms/step - loss: 0.0024 - val_loss: 0.0050\n",
      "Epoch 35/200\n",
      "17/17 [==============================] - 0s 27ms/step - loss: 0.0022 - val_loss: 0.0057\n",
      "Epoch 36/200\n",
      "17/17 [==============================] - 0s 28ms/step - loss: 0.0021 - val_loss: 0.0051\n",
      "Epoch 37/200\n",
      "17/17 [==============================] - 1s 32ms/step - loss: 0.0022 - val_loss: 0.0052\n",
      "Epoch 38/200\n",
      "17/17 [==============================] - 1s 32ms/step - loss: 0.0023 - val_loss: 0.0052\n",
      "Epoch 39/200\n",
      "17/17 [==============================] - 1s 31ms/step - loss: 0.0020 - val_loss: 0.0054\n",
      "Epoch 40/200\n",
      "17/17 [==============================] - 0s 29ms/step - loss: 0.0020 - val_loss: 0.0050\n",
      "Epoch 41/200\n",
      "17/17 [==============================] - 0s 27ms/step - loss: 0.0020 - val_loss: 0.0061\n",
      "Epoch 42/200\n",
      "17/17 [==============================] - 0s 27ms/step - loss: 0.0020 - val_loss: 0.0055\n",
      "Epoch 43/200\n",
      "17/17 [==============================] - 0s 29ms/step - loss: 0.0018 - val_loss: 0.0050\n",
      "Epoch 44/200\n",
      "17/17 [==============================] - 0s 27ms/step - loss: 0.0022 - val_loss: 0.0052\n",
      "Epoch 45/200\n",
      "17/17 [==============================] - 0s 27ms/step - loss: 0.0021 - val_loss: 0.0054\n",
      "Epoch 46/200\n",
      "17/17 [==============================] - 0s 27ms/step - loss: 0.0021 - val_loss: 0.0057\n",
      "Epoch 47/200\n",
      "17/17 [==============================] - 0s 27ms/step - loss: 0.0019 - val_loss: 0.0053\n",
      "Epoch 48/200\n",
      "17/17 [==============================] - 0s 29ms/step - loss: 0.0020 - val_loss: 0.0054\n",
      "Epoch 49/200\n",
      "17/17 [==============================] - 0s 27ms/step - loss: 0.0019 - val_loss: 0.0054\n",
      "Epoch 50/200\n",
      "17/17 [==============================] - 0s 27ms/step - loss: 0.0017 - val_loss: 0.0057\n",
      "Epoch 51/200\n",
      "17/17 [==============================] - 0s 26ms/step - loss: 0.0017 - val_loss: 0.0057\n",
      "Epoch 52/200\n",
      "17/17 [==============================] - 1s 30ms/step - loss: 0.0016 - val_loss: 0.0056\n",
      "Epoch 53/200\n",
      "17/17 [==============================] - 1s 31ms/step - loss: 0.0018 - val_loss: 0.0061\n",
      "Epoch 54/200\n",
      "17/17 [==============================] - 0s 29ms/step - loss: 0.0017 - val_loss: 0.0058\n",
      "Epoch 55/200\n",
      "17/17 [==============================] - 1s 30ms/step - loss: 0.0017 - val_loss: 0.0058\n",
      "Epoch 56/200\n",
      "17/17 [==============================] - 0s 29ms/step - loss: 0.0015 - val_loss: 0.0058\n",
      "Epoch 57/200\n",
      "17/17 [==============================] - 0s 30ms/step - loss: 0.0016 - val_loss: 0.0057\n",
      "Epoch 58/200\n",
      "17/17 [==============================] - 1s 34ms/step - loss: 0.0014 - val_loss: 0.0058\n",
      "Epoch 59/200\n",
      "17/17 [==============================] - 1s 32ms/step - loss: 0.0013 - val_loss: 0.0058\n",
      "Epoch 60/200\n",
      "17/17 [==============================] - 1s 31ms/step - loss: 0.0015 - val_loss: 0.0065\n",
      "Epoch 61/200\n",
      "17/17 [==============================] - 1s 30ms/step - loss: 0.0015 - val_loss: 0.0054\n",
      "Epoch 62/200\n",
      "17/17 [==============================] - 0s 29ms/step - loss: 0.0014 - val_loss: 0.0057\n",
      "Epoch 63/200\n",
      "17/17 [==============================] - 0s 29ms/step - loss: 0.0014 - val_loss: 0.0062\n",
      "Epoch 64/200\n",
      "17/17 [==============================] - 0s 29ms/step - loss: 0.0014 - val_loss: 0.0064\n",
      "Epoch 65/200\n",
      "17/17 [==============================] - 0s 27ms/step - loss: 0.0014 - val_loss: 0.0063\n",
      "Epoch 66/200\n",
      "17/17 [==============================] - 0s 27ms/step - loss: 0.0013 - val_loss: 0.0054\n",
      "Epoch 67/200\n",
      "17/17 [==============================] - 0s 28ms/step - loss: 0.0013 - val_loss: 0.0057\n",
      "Epoch 68/200\n",
      "17/17 [==============================] - 0s 27ms/step - loss: 0.0012 - val_loss: 0.0063\n",
      "Epoch 69/200\n",
      "17/17 [==============================] - 0s 28ms/step - loss: 0.0012 - val_loss: 0.0061\n",
      "Epoch 70/200\n",
      "17/17 [==============================] - 0s 28ms/step - loss: 0.0014 - val_loss: 0.0065\n",
      "Epoch 71/200\n",
      "17/17 [==============================] - 0s 27ms/step - loss: 0.0012 - val_loss: 0.0066\n",
      "Epoch 72/200\n",
      "17/17 [==============================] - 0s 28ms/step - loss: 0.0012 - val_loss: 0.0064\n",
      "Epoch 73/200\n",
      "17/17 [==============================] - 0s 28ms/step - loss: 0.0012 - val_loss: 0.0057\n",
      "Epoch 74/200\n",
      "17/17 [==============================] - 0s 28ms/step - loss: 0.0012 - val_loss: 0.0067\n",
      "Epoch 75/200\n",
      "17/17 [==============================] - 0s 27ms/step - loss: 0.0011 - val_loss: 0.0056\n",
      "Epoch 76/200\n",
      "17/17 [==============================] - 0s 27ms/step - loss: 0.0012 - val_loss: 0.0066\n",
      "Epoch 77/200\n",
      "17/17 [==============================] - 0s 29ms/step - loss: 0.0011 - val_loss: 0.0066\n",
      "Epoch 78/200\n",
      "17/17 [==============================] - 0s 28ms/step - loss: 0.0014 - val_loss: 0.0066\n",
      "Epoch 79/200\n",
      "17/17 [==============================] - 0s 29ms/step - loss: 0.0016 - val_loss: 0.0058\n",
      "Epoch 80/200\n",
      "17/17 [==============================] - 0s 29ms/step - loss: 0.0012 - val_loss: 0.0056\n",
      "Epoch 81/200\n",
      "17/17 [==============================] - 0s 28ms/step - loss: 0.0011 - val_loss: 0.0059\n",
      "Epoch 82/200\n"
     ]
    },
    {
     "name": "stdout",
     "output_type": "stream",
     "text": [
      "17/17 [==============================] - 0s 28ms/step - loss: 0.0011 - val_loss: 0.0070\n",
      "Epoch 83/200\n",
      "17/17 [==============================] - 0s 27ms/step - loss: 0.0013 - val_loss: 0.0068\n",
      "Epoch 84/200\n",
      "17/17 [==============================] - 0s 28ms/step - loss: 0.0013 - val_loss: 0.0066\n",
      "Epoch 85/200\n",
      "17/17 [==============================] - 0s 27ms/step - loss: 0.0011 - val_loss: 0.0067\n",
      "Epoch 86/200\n",
      "17/17 [==============================] - 0s 28ms/step - loss: 0.0011 - val_loss: 0.0078\n",
      "Epoch 87/200\n",
      "17/17 [==============================] - 0s 27ms/step - loss: 0.0011 - val_loss: 0.0072\n",
      "Epoch 88/200\n",
      "17/17 [==============================] - 0s 27ms/step - loss: 9.7009e-04 - val_loss: 0.0059\n",
      "Epoch 89/200\n",
      "17/17 [==============================] - 0s 28ms/step - loss: 9.2878e-04 - val_loss: 0.0079\n",
      "Epoch 90/200\n",
      "17/17 [==============================] - 0s 27ms/step - loss: 8.8891e-04 - val_loss: 0.0066\n",
      "Epoch 91/200\n",
      "17/17 [==============================] - 0s 28ms/step - loss: 0.0010 - val_loss: 0.0065\n",
      "Epoch 92/200\n",
      "17/17 [==============================] - 0s 27ms/step - loss: 8.4056e-04 - val_loss: 0.0073\n",
      "Epoch 93/200\n",
      "17/17 [==============================] - 0s 29ms/step - loss: 9.1581e-04 - val_loss: 0.0070\n",
      "Epoch 94/200\n",
      "17/17 [==============================] - 0s 28ms/step - loss: 8.3935e-04 - val_loss: 0.0074\n",
      "Epoch 95/200\n",
      "17/17 [==============================] - 0s 27ms/step - loss: 8.6550e-04 - val_loss: 0.0074\n",
      "Epoch 96/200\n",
      "17/17 [==============================] - 0s 27ms/step - loss: 8.8280e-04 - val_loss: 0.0070\n",
      "Epoch 97/200\n",
      "17/17 [==============================] - 0s 27ms/step - loss: 0.0011 - val_loss: 0.0071\n",
      "Epoch 98/200\n",
      "17/17 [==============================] - 0s 28ms/step - loss: 0.0010 - val_loss: 0.0076\n",
      "Epoch 99/200\n",
      "17/17 [==============================] - 0s 29ms/step - loss: 0.0012 - val_loss: 0.0069\n",
      "Epoch 100/200\n",
      "17/17 [==============================] - 1s 31ms/step - loss: 0.0011 - val_loss: 0.0072\n",
      "Epoch 101/200\n",
      "17/17 [==============================] - 0s 29ms/step - loss: 0.0010 - val_loss: 0.0071\n",
      "Epoch 102/200\n",
      "17/17 [==============================] - 1s 31ms/step - loss: 8.8043e-04 - val_loss: 0.0083\n",
      "Epoch 103/200\n",
      "17/17 [==============================] - 0s 27ms/step - loss: 0.0010 - val_loss: 0.0084\n",
      "Epoch 104/200\n",
      "17/17 [==============================] - 0s 27ms/step - loss: 8.7956e-04 - val_loss: 0.0068\n",
      "Epoch 105/200\n",
      "17/17 [==============================] - 0s 27ms/step - loss: 9.0921e-04 - val_loss: 0.0075\n",
      "Epoch 106/200\n",
      "17/17 [==============================] - 0s 27ms/step - loss: 8.8089e-04 - val_loss: 0.0069\n",
      "Epoch 107/200\n",
      "17/17 [==============================] - 0s 29ms/step - loss: 0.0010 - val_loss: 0.0078\n",
      "Epoch 108/200\n",
      "17/17 [==============================] - 0s 27ms/step - loss: 0.0011 - val_loss: 0.0081\n",
      "Epoch 109/200\n",
      "17/17 [==============================] - 0s 27ms/step - loss: 8.7944e-04 - val_loss: 0.0068\n",
      "Epoch 110/200\n",
      "17/17 [==============================] - 0s 27ms/step - loss: 9.2064e-04 - val_loss: 0.0070\n",
      "Epoch 111/200\n",
      "17/17 [==============================] - 0s 27ms/step - loss: 9.0790e-04 - val_loss: 0.0073\n",
      "Epoch 112/200\n",
      "17/17 [==============================] - 0s 27ms/step - loss: 7.7115e-04 - val_loss: 0.0079\n",
      "Epoch 113/200\n",
      "17/17 [==============================] - 0s 27ms/step - loss: 8.5429e-04 - val_loss: 0.0076\n",
      "Epoch 114/200\n",
      "17/17 [==============================] - 1s 31ms/step - loss: 8.0472e-04 - val_loss: 0.0063\n",
      "Epoch 115/200\n",
      "17/17 [==============================] - 1s 32ms/step - loss: 9.0748e-04 - val_loss: 0.0094\n",
      "Epoch 116/200\n",
      "17/17 [==============================] - 0s 29ms/step - loss: 0.0011 - val_loss: 0.0067\n",
      "Epoch 117/200\n",
      "17/17 [==============================] - 1s 30ms/step - loss: 9.8065e-04 - val_loss: 0.0082\n",
      "Epoch 118/200\n",
      "17/17 [==============================] - 0s 27ms/step - loss: 8.4838e-04 - val_loss: 0.0075\n",
      "Epoch 119/200\n",
      "17/17 [==============================] - 0s 29ms/step - loss: 8.4653e-04 - val_loss: 0.0081\n",
      "Epoch 120/200\n",
      "17/17 [==============================] - 0s 27ms/step - loss: 8.5078e-04 - val_loss: 0.0077\n",
      "Epoch 121/200\n",
      "17/17 [==============================] - 0s 29ms/step - loss: 7.7496e-04 - val_loss: 0.0077\n",
      "Epoch 122/200\n",
      "17/17 [==============================] - 0s 27ms/step - loss: 7.6754e-04 - val_loss: 0.0076\n",
      "Epoch 123/200\n",
      "17/17 [==============================] - 0s 27ms/step - loss: 8.5126e-04 - val_loss: 0.0084\n",
      "Epoch 124/200\n",
      "17/17 [==============================] - 0s 27ms/step - loss: 8.4567e-04 - val_loss: 0.0074\n",
      "Epoch 125/200\n",
      "17/17 [==============================] - 0s 27ms/step - loss: 8.9573e-04 - val_loss: 0.0081\n",
      "Epoch 126/200\n",
      "17/17 [==============================] - 0s 29ms/step - loss: 8.5446e-04 - val_loss: 0.0075\n",
      "Epoch 127/200\n",
      "17/17 [==============================] - 1s 30ms/step - loss: 7.7014e-04 - val_loss: 0.0082\n",
      "Epoch 128/200\n",
      "17/17 [==============================] - 0s 29ms/step - loss: 8.0783e-04 - val_loss: 0.0079\n",
      "Epoch 129/200\n",
      "17/17 [==============================] - 0s 28ms/step - loss: 8.7447e-04 - val_loss: 0.0082\n",
      "Epoch 130/200\n",
      "17/17 [==============================] - 0s 26ms/step - loss: 9.2348e-04 - val_loss: 0.0075\n",
      "Epoch 131/200\n",
      "17/17 [==============================] - 0s 28ms/step - loss: 9.3482e-04 - val_loss: 0.0070\n",
      "Epoch 132/200\n",
      "17/17 [==============================] - 0s 27ms/step - loss: 9.0316e-04 - val_loss: 0.0084\n",
      "Epoch 133/200\n",
      "17/17 [==============================] - 0s 27ms/step - loss: 9.6567e-04 - val_loss: 0.0071\n",
      "Epoch 134/200\n",
      "17/17 [==============================] - 0s 30ms/step - loss: 8.1536e-04 - val_loss: 0.0076\n",
      "Epoch 135/200\n",
      "17/17 [==============================] - 0s 29ms/step - loss: 7.9472e-04 - val_loss: 0.0075\n",
      "Epoch 136/200\n",
      "17/17 [==============================] - 0s 27ms/step - loss: 7.4397e-04 - val_loss: 0.0079\n",
      "Epoch 137/200\n",
      "17/17 [==============================] - 1s 31ms/step - loss: 8.2916e-04 - val_loss: 0.0080\n",
      "Epoch 138/200\n",
      "17/17 [==============================] - 0s 29ms/step - loss: 8.5785e-04 - val_loss: 0.0083\n",
      "Epoch 139/200\n",
      "17/17 [==============================] - 1s 31ms/step - loss: 8.6160e-04 - val_loss: 0.0077\n",
      "Epoch 140/200\n",
      "17/17 [==============================] - 0s 29ms/step - loss: 7.5985e-04 - val_loss: 0.0075\n",
      "Epoch 141/200\n",
      "17/17 [==============================] - 0s 29ms/step - loss: 7.4323e-04 - val_loss: 0.0074\n",
      "Epoch 142/200\n",
      "17/17 [==============================] - 0s 29ms/step - loss: 8.7575e-04 - val_loss: 0.0068\n",
      "Epoch 143/200\n",
      "17/17 [==============================] - 0s 28ms/step - loss: 7.9458e-04 - val_loss: 0.0091\n",
      "Epoch 144/200\n",
      "17/17 [==============================] - 0s 27ms/step - loss: 9.5107e-04 - val_loss: 0.0068\n",
      "Epoch 145/200\n",
      "17/17 [==============================] - 0s 28ms/step - loss: 8.2304e-04 - val_loss: 0.0077\n",
      "Epoch 146/200\n",
      "17/17 [==============================] - 0s 29ms/step - loss: 8.6284e-04 - val_loss: 0.0072\n",
      "Epoch 147/200\n",
      "17/17 [==============================] - 0s 28ms/step - loss: 7.9908e-04 - val_loss: 0.0081\n",
      "Epoch 148/200\n",
      "17/17 [==============================] - 0s 28ms/step - loss: 8.4246e-04 - val_loss: 0.0079\n",
      "Epoch 149/200\n",
      "17/17 [==============================] - 0s 28ms/step - loss: 7.9920e-04 - val_loss: 0.0084\n",
      "Epoch 150/200\n",
      "17/17 [==============================] - 0s 27ms/step - loss: 8.4188e-04 - val_loss: 0.0076\n",
      "Epoch 151/200\n",
      "17/17 [==============================] - 0s 28ms/step - loss: 7.6696e-04 - val_loss: 0.0081\n",
      "Epoch 152/200\n",
      "17/17 [==============================] - 0s 27ms/step - loss: 7.7695e-04 - val_loss: 0.0084\n",
      "Epoch 153/200\n",
      "17/17 [==============================] - 0s 27ms/step - loss: 9.8050e-04 - val_loss: 0.0071\n",
      "Epoch 154/200\n",
      "17/17 [==============================] - 0s 27ms/step - loss: 9.1435e-04 - val_loss: 0.0082\n",
      "Epoch 155/200\n",
      "17/17 [==============================] - 0s 27ms/step - loss: 7.6658e-04 - val_loss: 0.0075\n",
      "Epoch 156/200\n",
      "17/17 [==============================] - 0s 27ms/step - loss: 7.5292e-04 - val_loss: 0.0078\n",
      "Epoch 157/200\n",
      "17/17 [==============================] - 0s 27ms/step - loss: 7.8766e-04 - val_loss: 0.0083\n",
      "Epoch 158/200\n",
      "17/17 [==============================] - 0s 27ms/step - loss: 8.2130e-04 - val_loss: 0.0079\n",
      "Epoch 159/200\n",
      "17/17 [==============================] - 0s 27ms/step - loss: 9.1902e-04 - val_loss: 0.0081\n",
      "Epoch 160/200\n"
     ]
    },
    {
     "name": "stdout",
     "output_type": "stream",
     "text": [
      "17/17 [==============================] - 0s 28ms/step - loss: 0.0010 - val_loss: 0.0071\n",
      "Epoch 161/200\n",
      "17/17 [==============================] - 0s 27ms/step - loss: 8.1930e-04 - val_loss: 0.0079\n",
      "Epoch 162/200\n",
      "17/17 [==============================] - 0s 27ms/step - loss: 8.5513e-04 - val_loss: 0.0080\n",
      "Epoch 163/200\n",
      "17/17 [==============================] - 0s 27ms/step - loss: 6.9301e-04 - val_loss: 0.0079\n",
      "Epoch 164/200\n",
      "17/17 [==============================] - 0s 27ms/step - loss: 9.1621e-04 - val_loss: 0.0067\n",
      "Epoch 165/200\n",
      "17/17 [==============================] - 0s 27ms/step - loss: 7.2624e-04 - val_loss: 0.0073\n",
      "Epoch 166/200\n",
      "17/17 [==============================] - 0s 27ms/step - loss: 7.3988e-04 - val_loss: 0.0080\n",
      "Epoch 167/200\n",
      "17/17 [==============================] - 0s 27ms/step - loss: 6.9250e-04 - val_loss: 0.0079\n",
      "Epoch 168/200\n",
      "17/17 [==============================] - 0s 27ms/step - loss: 9.1888e-04 - val_loss: 0.0084\n",
      "Epoch 169/200\n",
      "17/17 [==============================] - 0s 27ms/step - loss: 0.0011 - val_loss: 0.0084\n",
      "Epoch 170/200\n",
      "17/17 [==============================] - 0s 27ms/step - loss: 8.3791e-04 - val_loss: 0.0076\n",
      "Epoch 171/200\n",
      "17/17 [==============================] - 0s 27ms/step - loss: 7.6922e-04 - val_loss: 0.0086\n",
      "Epoch 172/200\n",
      "17/17 [==============================] - 0s 27ms/step - loss: 7.5631e-04 - val_loss: 0.0079\n",
      "Epoch 173/200\n",
      "17/17 [==============================] - 0s 27ms/step - loss: 7.5265e-04 - val_loss: 0.0082\n",
      "Epoch 174/200\n",
      "17/17 [==============================] - 0s 27ms/step - loss: 8.4224e-04 - val_loss: 0.0072\n",
      "Epoch 175/200\n",
      "17/17 [==============================] - 0s 27ms/step - loss: 7.8519e-04 - val_loss: 0.0080\n",
      "Epoch 176/200\n",
      "17/17 [==============================] - 0s 27ms/step - loss: 7.2132e-04 - val_loss: 0.0081\n",
      "Epoch 177/200\n",
      "17/17 [==============================] - 0s 27ms/step - loss: 7.3332e-04 - val_loss: 0.0087\n",
      "Epoch 178/200\n",
      "17/17 [==============================] - 0s 28ms/step - loss: 7.6734e-04 - val_loss: 0.0072\n",
      "Epoch 179/200\n",
      "17/17 [==============================] - 0s 28ms/step - loss: 7.6876e-04 - val_loss: 0.0080\n",
      "Epoch 180/200\n",
      "17/17 [==============================] - 0s 29ms/step - loss: 7.4800e-04 - val_loss: 0.0074\n",
      "Epoch 181/200\n",
      "17/17 [==============================] - 0s 28ms/step - loss: 7.7552e-04 - val_loss: 0.0080\n",
      "Epoch 182/200\n",
      "17/17 [==============================] - 0s 28ms/step - loss: 8.1582e-04 - val_loss: 0.0074\n",
      "Epoch 183/200\n",
      "17/17 [==============================] - 0s 28ms/step - loss: 7.6686e-04 - val_loss: 0.0084\n",
      "Epoch 184/200\n",
      "17/17 [==============================] - 1s 30ms/step - loss: 7.1372e-04 - val_loss: 0.0087\n",
      "Epoch 185/200\n",
      "17/17 [==============================] - 0s 28ms/step - loss: 6.8253e-04 - val_loss: 0.0082\n",
      "Epoch 186/200\n",
      "17/17 [==============================] - 0s 27ms/step - loss: 6.7949e-04 - val_loss: 0.0086\n",
      "Epoch 187/200\n",
      "17/17 [==============================] - 0s 27ms/step - loss: 7.1982e-04 - val_loss: 0.0083\n",
      "Epoch 188/200\n",
      "17/17 [==============================] - 0s 27ms/step - loss: 7.6545e-04 - val_loss: 0.0090\n",
      "Epoch 189/200\n",
      "17/17 [==============================] - 0s 27ms/step - loss: 7.8669e-04 - val_loss: 0.0076\n",
      "Epoch 190/200\n",
      "17/17 [==============================] - 0s 28ms/step - loss: 7.2488e-04 - val_loss: 0.0091\n",
      "Epoch 191/200\n",
      "17/17 [==============================] - 0s 29ms/step - loss: 7.6639e-04 - val_loss: 0.0077\n",
      "Epoch 192/200\n",
      "17/17 [==============================] - 0s 29ms/step - loss: 7.9878e-04 - val_loss: 0.0090\n",
      "Epoch 193/200\n",
      "17/17 [==============================] - 0s 27ms/step - loss: 8.3709e-04 - val_loss: 0.0090\n",
      "Epoch 194/200\n",
      "17/17 [==============================] - 0s 29ms/step - loss: 9.0842e-04 - val_loss: 0.0074\n",
      "Epoch 195/200\n",
      "17/17 [==============================] - 0s 29ms/step - loss: 7.6578e-04 - val_loss: 0.0086\n",
      "Epoch 196/200\n",
      "17/17 [==============================] - 0s 29ms/step - loss: 6.6270e-04 - val_loss: 0.0073\n",
      "Epoch 197/200\n",
      "17/17 [==============================] - 0s 28ms/step - loss: 7.6836e-04 - val_loss: 0.0085\n",
      "Epoch 198/200\n",
      "17/17 [==============================] - 0s 28ms/step - loss: 7.1024e-04 - val_loss: 0.0084\n",
      "Epoch 199/200\n",
      "17/17 [==============================] - 0s 27ms/step - loss: 6.8251e-04 - val_loss: 0.0083\n",
      "Epoch 200/200\n",
      "17/17 [==============================] - 0s 26ms/step - loss: 6.7297e-04 - val_loss: 0.0083\n"
     ]
    },
    {
     "data": {
      "text/plain": [
       "<keras.callbacks.History at 0x17866023908>"
      ]
     },
     "execution_count": 27,
     "metadata": {},
     "output_type": "execute_result"
    }
   ],
   "source": [
    "model.fit(X_train, Y_train, validation_data=(X_test, Y_test), epochs=200, batch_size=32, verbose=1)"
   ]
  },
  {
   "cell_type": "code",
   "execution_count": 28,
   "id": "70978904",
   "metadata": {},
   "outputs": [
    {
     "data": {
      "text/plain": [
       "[<matplotlib.lines.Line2D at 0x178696bcc88>]"
      ]
     },
     "execution_count": 28,
     "metadata": {},
     "output_type": "execute_result"
    },
    {
     "data": {
      "image/png": "[encoded data removed]",
      "text/plain": [
       "<Figure size 432x288 with 1 Axes>"
      ]
     },
     "metadata": {
      "needs_background": "light"
     },
     "output_type": "display_data"
    }
   ],
   "source": [
    "loss_per_epoch = model.history.history['loss']\n",
    "plt.plot(range(len(loss_per_epoch)), loss_per_epoch)"
   ]
  },
  {
   "cell_type": "code",
   "execution_count": 29,
   "id": "aedaea4a",
   "metadata": {},
   "outputs": [],
   "source": [
    "train_predict=model.predict(X_train)\n",
    "test_predict=model.predict(X_test)"
   ]
  },
  {
   "cell_type": "code",
   "execution_count": 30,
   "id": "891264b3",
   "metadata": {},
   "outputs": [],
   "source": [
    "# Transform back to original value\n",
    "train_predict=scaler.inverse_transform(train_predict)\n",
    "test_predict=scaler.inverse_transform(test_predict)"
   ]
  },
  {
   "cell_type": "code",
   "execution_count": 31,
   "id": "066295da",
   "metadata": {},
   "outputs": [
    {
     "data": {
      "text/plain": [
       "1490.228254328846"
      ]
     },
     "execution_count": 31,
     "metadata": {},
     "output_type": "execute_result"
    }
   ],
   "source": [
    "# Calculate RMSE performance metrics\n",
    "import math\n",
    "from sklearn.metrics import mean_squared_error\n",
    "math.sqrt(mean_squared_error(Y_train, train_predict))"
   ]
  },
  {
   "cell_type": "code",
   "execution_count": 32,
   "id": "c294771f",
   "metadata": {},
   "outputs": [
    {
     "data": {
      "text/plain": [
       "2467.259714744275"
      ]
     },
     "execution_count": 32,
     "metadata": {},
     "output_type": "execute_result"
    }
   ],
   "source": [
    "math.sqrt(mean_squared_error(Y_test, test_predict))"
   ]
  },
  {
   "cell_type": "code",
   "execution_count": 33,
   "id": "f604fd1e",
   "metadata": {},
   "outputs": [
    {
     "data": {
      "text/plain": [
       "array([[  72.34283 ],\n",
       "       [  74.83825 ],\n",
       "       [  75.547104],\n",
       "       [  78.68789 ],\n",
       "       [  80.391045],\n",
       "       [  82.23227 ],\n",
       "       [  83.40974 ],\n",
       "       [  83.46739 ],\n",
       "       [  82.49459 ],\n",
       "       [  88.605255],\n",
       "       [  88.225235],\n",
       "       [  88.525276],\n",
       "       [  95.358116],\n",
       "       [ 106.09086 ],\n",
       "       [ 112.72883 ],\n",
       "       [ 117.971   ],\n",
       "       [ 129.16423 ],\n",
       "       [ 131.61086 ],\n",
       "       [ 134.93056 ],\n",
       "       [ 135.62985 ],\n",
       "       [ 138.20583 ],\n",
       "       [ 165.74715 ],\n",
       "       [ 168.95734 ],\n",
       "       [ 199.73088 ],\n",
       "       [ 210.45802 ],\n",
       "       [ 231.04488 ],\n",
       "       [ 249.28697 ],\n",
       "       [ 264.09152 ],\n",
       "       [ 268.14432 ],\n",
       "       [ 259.19357 ],\n",
       "       [ 245.84123 ],\n",
       "       [ 235.3157  ],\n",
       "       [ 218.25009 ],\n",
       "       [ 209.08696 ],\n",
       "       [ 204.64915 ],\n",
       "       [ 199.20605 ],\n",
       "       [ 194.85733 ],\n",
       "       [ 186.07726 ],\n",
       "       [ 187.15747 ],\n",
       "       [ 190.03789 ],\n",
       "       [ 182.81618 ],\n",
       "       [ 189.12468 ],\n",
       "       [ 202.54031 ],\n",
       "       [ 221.06631 ],\n",
       "       [ 239.0622  ],\n",
       "       [ 253.35416 ],\n",
       "       [ 271.8334  ],\n",
       "       [ 274.95312 ],\n",
       "       [ 274.06708 ],\n",
       "       [ 280.83313 ],\n",
       "       [ 276.8711  ],\n",
       "       [ 282.51456 ],\n",
       "       [ 276.6294  ],\n",
       "       [ 285.5179  ],\n",
       "       [ 283.46085 ],\n",
       "       [ 277.62158 ],\n",
       "       [ 279.7875  ],\n",
       "       [ 286.92596 ],\n",
       "       [ 286.7344  ],\n",
       "       [ 286.27405 ],\n",
       "       [ 288.8661  ],\n",
       "       [ 307.438   ],\n",
       "       [ 313.54697 ],\n",
       "       [ 320.88858 ],\n",
       "       [ 332.21008 ],\n",
       "       [ 345.90018 ],\n",
       "       [ 364.01617 ],\n",
       "       [ 372.14462 ],\n",
       "       [ 382.7724  ],\n",
       "       [ 399.6491  ],\n",
       "       [ 412.9293  ],\n",
       "       [ 410.24835 ],\n",
       "       [ 413.18158 ],\n",
       "       [ 415.38525 ],\n",
       "       [ 403.238   ],\n",
       "       [ 392.9111  ],\n",
       "       [ 379.5225  ],\n",
       "       [ 357.35516 ],\n",
       "       [ 332.52567 ],\n",
       "       [ 306.70935 ],\n",
       "       [ 285.41663 ],\n",
       "       [ 267.42587 ],\n",
       "       [ 256.6476  ],\n",
       "       [ 259.35602 ],\n",
       "       [ 264.56763 ],\n",
       "       [ 298.71014 ],\n",
       "       [ 308.10425 ],\n",
       "       [ 321.57446 ],\n",
       "       [ 337.82318 ],\n",
       "       [ 350.69336 ],\n",
       "       [ 356.27338 ],\n",
       "       [ 356.79556 ],\n",
       "       [ 348.369   ],\n",
       "       [ 367.09598 ],\n",
       "       [ 360.26572 ],\n",
       "       [ 358.16147 ],\n",
       "       [ 373.55823 ],\n",
       "       [ 395.44354 ],\n",
       "       [ 401.89014 ],\n",
       "       [ 409.31287 ],\n",
       "       [ 414.91162 ],\n",
       "       [ 409.49036 ],\n",
       "       [ 397.1605  ],\n",
       "       [ 385.34363 ],\n",
       "       [ 374.37088 ],\n",
       "       [ 365.92212 ],\n",
       "       [ 364.3195  ],\n",
       "       [ 363.26553 ],\n",
       "       [ 369.257   ],\n",
       "       [ 365.46725 ],\n",
       "       [ 367.89444 ],\n",
       "       [ 375.70093 ],\n",
       "       [ 384.6726  ],\n",
       "       [ 397.0213  ],\n",
       "       [ 392.49374 ],\n",
       "       [ 384.0839  ],\n",
       "       [ 378.84518 ],\n",
       "       [ 377.65552 ],\n",
       "       [ 371.9504  ],\n",
       "       [ 369.32043 ],\n",
       "       [ 373.09335 ],\n",
       "       [ 396.6715  ],\n",
       "       [ 403.43982 ],\n",
       "       [ 408.12848 ],\n",
       "       [ 421.90604 ],\n",
       "       [ 437.4088  ],\n",
       "       [ 447.30865 ],\n",
       "       [ 444.17227 ],\n",
       "       [ 429.57553 ],\n",
       "       [ 407.9317  ],\n",
       "       [ 383.5091  ],\n",
       "       [ 373.282   ],\n",
       "       [ 358.05884 ],\n",
       "       [ 349.22534 ],\n",
       "       [ 347.31653 ],\n",
       "       [ 349.79443 ],\n",
       "       [ 345.7313  ],\n",
       "       [ 348.90097 ],\n",
       "       [ 351.07156 ],\n",
       "       [ 347.3398  ],\n",
       "       [ 340.0917  ],\n",
       "       [ 352.2839  ],\n",
       "       [ 353.27725 ],\n",
       "       [ 358.69315 ],\n",
       "       [ 367.50223 ],\n",
       "       [ 376.54086 ],\n",
       "       [ 382.7112  ],\n",
       "       [ 385.45453 ],\n",
       "       [ 376.34055 ],\n",
       "       [ 361.57748 ],\n",
       "       [ 341.1482  ],\n",
       "       [ 325.4792  ],\n",
       "       [ 307.9019  ],\n",
       "       [ 315.56256 ],\n",
       "       [ 331.49033 ],\n",
       "       [ 322.93295 ],\n",
       "       [ 330.65616 ],\n",
       "       [ 345.971   ],\n",
       "       [ 360.99533 ],\n",
       "       [ 366.95944 ],\n",
       "       [ 362.67365 ],\n",
       "       [ 350.5888  ],\n",
       "       [ 330.83026 ],\n",
       "       [ 316.4809  ],\n",
       "       [ 306.74084 ],\n",
       "       [ 306.3384  ],\n",
       "       [ 311.41522 ],\n",
       "       [ 312.6319  ],\n",
       "       [ 311.44815 ],\n",
       "       [ 308.00806 ],\n",
       "       [ 301.11285 ],\n",
       "       [ 293.84528 ],\n",
       "       [ 284.3262  ],\n",
       "       [ 278.77222 ],\n",
       "       [ 276.30432 ],\n",
       "       [ 269.2554  ],\n",
       "       [ 266.9018  ],\n",
       "       [ 270.51398 ],\n",
       "       [ 273.85385 ],\n",
       "       [ 280.72607 ],\n",
       "       [ 285.7231  ],\n",
       "       [ 284.38074 ],\n",
       "       [ 279.88028 ],\n",
       "       [ 275.00046 ],\n",
       "       [ 270.09186 ],\n",
       "       [ 301.1349  ],\n",
       "       [ 296.8806  ],\n",
       "       [ 294.85953 ],\n",
       "       [ 302.56543 ],\n",
       "       [ 316.63513 ],\n",
       "       [ 326.4996  ],\n",
       "       [ 328.43683 ],\n",
       "       [ 323.0402  ],\n",
       "       [ 310.73465 ],\n",
       "       [ 301.9185  ],\n",
       "       [ 287.4814  ],\n",
       "       [ 277.7715  ],\n",
       "       [ 270.14566 ],\n",
       "       [ 264.16174 ],\n",
       "       [ 255.2356  ],\n",
       "       [ 250.35649 ],\n",
       "       [ 249.47124 ],\n",
       "       [ 253.51717 ],\n",
       "       [ 263.83734 ],\n",
       "       [ 275.79086 ],\n",
       "       [ 295.162   ],\n",
       "       [ 315.42    ],\n",
       "       [ 341.91782 ],\n",
       "       [ 362.55194 ],\n",
       "       [ 379.32724 ],\n",
       "       [ 386.77087 ],\n",
       "       [ 391.62073 ],\n",
       "       [ 403.4382  ],\n",
       "       [ 410.58453 ],\n",
       "       [ 418.7497  ],\n",
       "       [ 435.8832  ],\n",
       "       [ 454.94128 ],\n",
       "       [ 477.90598 ],\n",
       "       [ 502.1582  ],\n",
       "       [ 520.601   ],\n",
       "       [ 542.1867  ],\n",
       "       [ 572.2788  ],\n",
       "       [ 603.5811  ],\n",
       "       [ 641.5496  ],\n",
       "       [ 679.74725 ],\n",
       "       [ 721.0185  ],\n",
       "       [ 755.51294 ],\n",
       "       [ 788.5255  ],\n",
       "       [ 827.6464  ],\n",
       "       [ 866.16187 ],\n",
       "       [ 897.1837  ],\n",
       "       [ 924.0387  ],\n",
       "       [ 934.0887  ],\n",
       "       [ 925.915   ],\n",
       "       [ 912.08215 ],\n",
       "       [ 915.7412  ],\n",
       "       [ 904.1175  ],\n",
       "       [ 899.62897 ],\n",
       "       [ 881.15845 ],\n",
       "       [ 862.28314 ],\n",
       "       [ 849.374   ],\n",
       "       [ 827.22516 ],\n",
       "       [ 821.4023  ],\n",
       "       [ 810.5995  ],\n",
       "       [ 821.4737  ],\n",
       "       [ 910.90796 ],\n",
       "       [ 908.9748  ],\n",
       "       [ 935.0386  ],\n",
       "       [ 983.63245 ],\n",
       "       [1036.0656  ],\n",
       "       [1052.1215  ],\n",
       "       [1031.176   ],\n",
       "       [ 980.4571  ],\n",
       "       [ 923.68787 ],\n",
       "       [ 881.0013  ],\n",
       "       [ 860.57007 ],\n",
       "       [ 867.7459  ],\n",
       "       [ 903.8885  ],\n",
       "       [ 951.9277  ],\n",
       "       [ 996.17914 ],\n",
       "       [1042.2926  ],\n",
       "       [1060.6791  ],\n",
       "       [1049.0642  ],\n",
       "       [1060.9825  ],\n",
       "       [1099.0685  ],\n",
       "       [1130.9083  ],\n",
       "       [1165.5477  ],\n",
       "       [1163.0276  ],\n",
       "       [1136.8062  ],\n",
       "       [1110.6128  ],\n",
       "       [1086.8942  ],\n",
       "       [1071.1371  ],\n",
       "       [1067.1583  ],\n",
       "       [1053.492   ],\n",
       "       [1030.0536  ],\n",
       "       [ 987.42993 ],\n",
       "       [ 973.94684 ],\n",
       "       [ 952.91595 ],\n",
       "       [ 935.1977  ],\n",
       "       [ 894.3028  ],\n",
       "       [ 834.0505  ],\n",
       "       [ 777.9437  ],\n",
       "       [ 716.64105 ],\n",
       "       [ 653.6711  ],\n",
       "       [ 610.2079  ],\n",
       "       [ 565.3219  ],\n",
       "       [ 539.9763  ],\n",
       "       [ 568.92834 ],\n",
       "       [ 568.7443  ],\n",
       "       [ 558.7088  ],\n",
       "       [ 554.82904 ],\n",
       "       [ 561.743   ],\n",
       "       [ 574.2542  ],\n",
       "       [ 580.5514  ],\n",
       "       [ 566.06586 ],\n",
       "       [ 544.8706  ],\n",
       "       [ 524.302   ],\n",
       "       [ 499.6871  ],\n",
       "       [ 488.378   ],\n",
       "       [ 495.6375  ],\n",
       "       [ 507.34753 ],\n",
       "       [ 511.2328  ],\n",
       "       [ 508.45026 ],\n",
       "       [ 500.1532  ],\n",
       "       [ 485.35583 ],\n",
       "       [ 469.48187 ],\n",
       "       [ 451.84818 ],\n",
       "       [ 431.8113  ],\n",
       "       [ 405.10727 ],\n",
       "       [ 381.6753  ],\n",
       "       [ 365.00833 ],\n",
       "       [ 350.95273 ],\n",
       "       [ 341.69562 ],\n",
       "       [ 341.56244 ],\n",
       "       [ 339.81882 ],\n",
       "       [ 329.72037 ],\n",
       "       [ 322.477   ],\n",
       "       [ 318.76077 ],\n",
       "       [ 311.99564 ],\n",
       "       [ 304.23068 ],\n",
       "       [ 297.46936 ],\n",
       "       [ 291.80017 ],\n",
       "       [ 286.72473 ],\n",
       "       [ 279.17706 ],\n",
       "       [ 273.45898 ],\n",
       "       [ 272.9682  ],\n",
       "       [ 274.7055  ],\n",
       "       [ 273.77783 ],\n",
       "       [ 274.14517 ],\n",
       "       [ 278.0954  ],\n",
       "       [ 279.10672 ],\n",
       "       [ 275.7879  ],\n",
       "       [ 276.36658 ],\n",
       "       [ 279.79874 ],\n",
       "       [ 285.04504 ],\n",
       "       [ 289.8059  ],\n",
       "       [ 289.66104 ],\n",
       "       [ 287.23795 ],\n",
       "       [ 282.29953 ],\n",
       "       [ 277.42474 ],\n",
       "       [ 272.65335 ],\n",
       "       [ 271.54044 ],\n",
       "       [ 273.37106 ],\n",
       "       [ 270.8718  ],\n",
       "       [ 272.57138 ],\n",
       "       [ 276.3925  ],\n",
       "       [ 282.2063  ],\n",
       "       [ 289.05927 ],\n",
       "       [ 292.93793 ],\n",
       "       [ 292.99524 ],\n",
       "       [ 291.84802 ],\n",
       "       [ 287.83832 ],\n",
       "       [ 283.90906 ],\n",
       "       [ 279.77676 ],\n",
       "       [ 279.42258 ],\n",
       "       [ 280.9695  ],\n",
       "       [ 286.0996  ],\n",
       "       [ 287.2963  ],\n",
       "       [ 287.66397 ],\n",
       "       [ 285.53223 ],\n",
       "       [ 283.97095 ],\n",
       "       [ 283.7912  ],\n",
       "       [ 282.40607 ],\n",
       "       [ 283.82712 ],\n",
       "       [ 285.38495 ],\n",
       "       [ 285.08914 ],\n",
       "       [ 280.85553 ],\n",
       "       [ 279.2031  ],\n",
       "       [ 279.77    ],\n",
       "       [ 283.94217 ],\n",
       "       [ 282.25195 ],\n",
       "       [ 276.2653  ],\n",
       "       [ 269.80368 ],\n",
       "       [ 264.41562 ],\n",
       "       [ 260.93628 ],\n",
       "       [ 256.554   ],\n",
       "       [ 255.08789 ],\n",
       "       [ 251.68112 ],\n",
       "       [ 242.16127 ],\n",
       "       [ 232.1575  ],\n",
       "       [ 223.88913 ],\n",
       "       [ 213.58762 ],\n",
       "       [ 205.1398  ],\n",
       "       [ 198.93155 ],\n",
       "       [ 196.58577 ],\n",
       "       [ 197.68283 ],\n",
       "       [ 201.9617  ],\n",
       "       [ 209.9534  ],\n",
       "       [ 220.9633  ],\n",
       "       [ 232.29398 ],\n",
       "       [ 240.63301 ],\n",
       "       [ 248.81618 ],\n",
       "       [ 250.20602 ],\n",
       "       [ 251.65141 ],\n",
       "       [ 253.43094 ],\n",
       "       [ 252.99348 ],\n",
       "       [ 255.97598 ],\n",
       "       [ 257.6128  ],\n",
       "       [ 259.76166 ],\n",
       "       [ 263.00668 ],\n",
       "       [ 268.28568 ],\n",
       "       [ 267.64136 ],\n",
       "       [ 270.6128  ],\n",
       "       [ 277.34457 ],\n",
       "       [ 293.156   ],\n",
       "       [ 310.0041  ],\n",
       "       [ 329.89847 ],\n",
       "       [ 355.2041  ],\n",
       "       [ 376.40558 ],\n",
       "       [ 407.36154 ],\n",
       "       [ 435.6708  ],\n",
       "       [ 468.77722 ],\n",
       "       [ 515.7272  ],\n",
       "       [ 557.2506  ],\n",
       "       [ 599.73456 ],\n",
       "       [ 648.40796 ],\n",
       "       [ 713.6753  ],\n",
       "       [ 781.18634 ],\n",
       "       [ 846.4151  ],\n",
       "       [ 911.55096 ],\n",
       "       [ 965.71954 ],\n",
       "       [1009.149   ],\n",
       "       [1050.0245  ],\n",
       "       [1083.4817  ],\n",
       "       [1145.737   ],\n",
       "       [1201.0922  ],\n",
       "       [1263.5667  ],\n",
       "       [1339.9106  ],\n",
       "       [1400.948   ],\n",
       "       [1472.4186  ],\n",
       "       [1559.8418  ],\n",
       "       [1665.2018  ],\n",
       "       [1798.7865  ],\n",
       "       [2054.1455  ],\n",
       "       [2329.9695  ],\n",
       "       [2727.3708  ],\n",
       "       [3266.1934  ],\n",
       "       [4134.3057  ],\n",
       "       [5243.126   ],\n",
       "       [7590.2036  ],\n",
       "       [8814.335   ],\n",
       "       [8721.013   ],\n",
       "       [7494.9585  ],\n",
       "       [6302.85    ],\n",
       "       [5465.6035  ],\n",
       "       [5171.6074  ],\n",
       "       [5482.2935  ],\n",
       "       [6627.482   ],\n",
       "       [7521.9634  ],\n",
       "       [6334.439   ],\n",
       "       [4537.356   ],\n",
       "       [4489.7275  ],\n",
       "       [5991.9116  ],\n",
       "       [6960.978   ],\n",
       "       [6563.7305  ],\n",
       "       [5599.715   ],\n",
       "       [4632.995   ],\n",
       "       [3857.8267  ],\n",
       "       [3560.728   ],\n",
       "       [3933.3743  ],\n",
       "       [4552.8413  ],\n",
       "       [4709.8857  ],\n",
       "       [4373.455   ],\n",
       "       [3717.34    ],\n",
       "       [2926.8289  ],\n",
       "       [2679.5945  ],\n",
       "       [3071.6985  ],\n",
       "       [3734.2646  ],\n",
       "       [3868.5679  ],\n",
       "       [3617.3713  ],\n",
       "       [3125.0247  ],\n",
       "       [2315.312   ],\n",
       "       [1910.2327  ],\n",
       "       [2130.1301  ],\n",
       "       [2565.9985  ],\n",
       "       [2724.9604  ],\n",
       "       [2657.1113  ],\n",
       "       [2184.43    ],\n",
       "       [1599.5731  ],\n",
       "       [1287.1968  ],\n",
       "       [1331.7861  ],\n",
       "       [1557.1476  ],\n",
       "       [1625.1672  ],\n",
       "       [1452.3436  ],\n",
       "       [1225.8407  ],\n",
       "       [1008.6256  ],\n",
       "       [ 875.9468  ],\n",
       "       [ 849.15704 ],\n",
       "       [ 914.65796 ],\n",
       "       [ 911.22345 ],\n",
       "       [ 814.52747 ],\n",
       "       [ 664.968   ],\n",
       "       [ 552.591   ],\n",
       "       [ 519.5546  ],\n",
       "       [ 536.7479  ],\n",
       "       [ 567.9906  ],\n",
       "       [ 563.33044 ],\n",
       "       [ 516.12103 ],\n",
       "       [ 454.20453 ],\n",
       "       [ 391.47925 ],\n",
       "       [ 337.27014 ],\n",
       "       [ 329.60498 ],\n",
       "       [ 370.19577 ],\n",
       "       [ 389.51202 ],\n",
       "       [ 374.35486 ],\n",
       "       [ 367.9677  ],\n",
       "       [ 336.88034 ],\n",
       "       [ 304.8722  ],\n",
       "       [ 274.9087  ],\n",
       "       [ 268.9685  ],\n",
       "       [ 264.84836 ],\n",
       "       [ 228.37233 ],\n",
       "       [ 191.74551 ],\n",
       "       [ 172.92192 ],\n",
       "       [ 157.81976 ],\n",
       "       [ 146.17989 ],\n",
       "       [ 141.65265 ],\n",
       "       [ 142.35934 ],\n",
       "       [ 134.3309  ],\n",
       "       [ 126.164024],\n",
       "       [ 122.07492 ],\n",
       "       [ 120.81365 ],\n",
       "       [ 118.73292 ],\n",
       "       [ 117.19409 ],\n",
       "       [ 115.02514 ],\n",
       "       [ 111.32354 ],\n",
       "       [ 108.75927 ],\n",
       "       [ 107.97948 ],\n",
       "       [ 110.44929 ],\n",
       "       [ 111.85298 ],\n",
       "       [ 117.29254 ],\n",
       "       [ 117.67674 ],\n",
       "       [ 116.79614 ],\n",
       "       [ 115.990456],\n",
       "       [ 115.60012 ],\n",
       "       [ 114.292366],\n",
       "       [ 111.13323 ],\n",
       "       [ 108.48712 ],\n",
       "       [ 104.3732  ],\n",
       "       [  99.85225 ],\n",
       "       [  96.403694],\n",
       "       [  94.16173 ],\n",
       "       [  92.29839 ]], dtype=float32)"
      ]
     },
     "execution_count": 33,
     "metadata": {},
     "output_type": "execute_result"
    }
   ],
   "source": [
    "train_predict"
   ]
  },
  {
   "cell_type": "code",
   "execution_count": 34,
   "id": "32b7ffe3",
   "metadata": {
    "scrolled": true
   },
   "outputs": [
    {
     "data": {
      "image/png": "[encoded data removed]",
      "text/plain": [
       "<Figure size 432x288 with 1 Axes>"
      ]
     },
     "metadata": {
      "needs_background": "light"
     },
     "output_type": "display_data"
    }
   ],
   "source": [
    "# Plot \n",
    "look_back = 30\n",
    "trainPredictPlot = np.empty_like(df)\n",
    "trainPredictPlot[:, :] = np.nan\n",
    "trainPredictPlot[look_back:len(train_predict)+look_back, :] = train_predict\n",
    "\n",
    "#shift test predict\n",
    "testPredictPlot = np.empty_like(df)\n",
    "testPredictPlot[:, :] = np.nan\n",
    "testPredictPlot[len(train_predict)+(look_back*2)+1:len(df)-1, :] = test_predict\n",
    "\n",
    "#plot baseline\n",
    "plt.plot(scaler.inverse_transform(df))\n",
    "plt.plot(scaler.inverse_transform(trainPredictPlot))\n",
    "plt.plot(scaler.inverse_transform(testPredictPlot))\n",
    "plt.show()"
   ]
  },
  {
   "cell_type": "code",
   "execution_count": 35,
   "id": "7bed18aa",
   "metadata": {},
   "outputs": [
    {
     "data": {
      "image/png": "[encoded data removed]",
      "text/plain": [
       "<Figure size 432x288 with 1 Axes>"
      ]
     },
     "metadata": {
      "needs_background": "light"
     },
     "output_type": "display_data"
    }
   ],
   "source": [
    "#shift test predict\n",
    "testPredictPlot = np.empty_like(df)\n",
    "testPredictPlot[:, :] = np.nan\n",
    "testPredictPlot[len(train_predict)+(look_back*2)+1:len(df)-1, :] = test_predict\n",
    "\n",
    "#plot baseline\n",
    "plt.plot(scaler.inverse_transform(df))\n",
    "plt.plot(scaler.inverse_transform(testPredictPlot), 'g')\n",
    "plt.xlim(X_train.shape[0], df.shape[0])\n",
    "plt.show()"
   ]
  },
  {
   "cell_type": "code",
   "execution_count": 36,
   "id": "1355b3d3",
   "metadata": {},
   "outputs": [
    {
     "data": {
      "text/plain": [
       "192"
      ]
     },
     "execution_count": 36,
     "metadata": {},
     "output_type": "execute_result"
    }
   ],
   "source": [
    "len(test_data)"
   ]
  },
  {
   "cell_type": "code",
   "execution_count": 37,
   "id": "0767587c",
   "metadata": {},
   "outputs": [
    {
     "data": {
      "text/plain": [
       "(1, 30)"
      ]
     },
     "execution_count": 37,
     "metadata": {},
     "output_type": "execute_result"
    }
   ],
   "source": [
    "x_input=test_data[162:].reshape(1,-1) #test data - step(30)\n",
    "x_input.shape"
   ]
  },
  {
   "cell_type": "code",
   "execution_count": 38,
   "id": "2f64bd8f",
   "metadata": {},
   "outputs": [],
   "source": [
    "temp_input=list(x_input)\n",
    "temp_input=temp_input[0].tolist()"
   ]
  },
  {
   "cell_type": "code",
   "execution_count": 39,
   "id": "9594be28",
   "metadata": {
    "scrolled": true
   },
   "outputs": [
    {
     "data": {
      "text/plain": [
       "[0.01538118626922369,\n",
       " 0.012929112650454044,\n",
       " 0.009028087370097637,\n",
       " 0.008470797911286354,\n",
       " 0.00479268841445446,\n",
       " 0.01125724520534277,\n",
       " 0.00891662947833538,\n",
       " 0.007133303675800562,\n",
       " 0.005461435299366713,\n",
       " 0.004569772630929947,\n",
       " 0.005572893191128969,\n",
       " 0.002897904720157385,\n",
       " 0.00824788212776184,\n",
       " 0.004012483172118664,\n",
       " 0.0030093626119196415,\n",
       " 0.003901025280356407,\n",
       " 0.003901025280356407,\n",
       " 0.003120820503681898,\n",
       " 0.002229157369583845,\n",
       " 0.005572893191128969,\n",
       " 0.0030093626119196415,\n",
       " 0.0024520731531083584,\n",
       " 0.003901025280356407,\n",
       " 0.0013374944683164358,\n",
       " 0.001894783810712397,\n",
       " 0.00044583145063370466,\n",
       " 0.00033437361707910895,\n",
       " 0.001003120793029666,\n",
       " 0.0014489522436633706,\n",
       " 0.0021176994778215885]"
      ]
     },
     "execution_count": 39,
     "metadata": {},
     "output_type": "execute_result"
    }
   ],
   "source": [
    "temp_input"
   ]
  },
  {
   "cell_type": "code",
   "execution_count": 40,
   "id": "54a16704",
   "metadata": {},
   "outputs": [
    {
     "name": "stdout",
     "output_type": "stream",
     "text": [
      "[0.00542017]\n",
      "31\n",
      "1 day input [0.01292911 0.00902809 0.0084708  0.00479269 0.01125725 0.00891663\n",
      " 0.0071333  0.00546144 0.00456977 0.00557289 0.0028979  0.00824788\n",
      " 0.00401248 0.00300936 0.00390103 0.00390103 0.00312082 0.00222916\n",
      " 0.00557289 0.00300936 0.00245207 0.00390103 0.00133749 0.00189478\n",
      " 0.00044583 0.00033437 0.00100312 0.00144895 0.0021177  0.00542017]\n",
      "1 day output [[0.00537681]]\n",
      "2 day input [0.00902809 0.0084708  0.00479269 0.01125725 0.00891663 0.0071333\n",
      " 0.00546144 0.00456977 0.00557289 0.0028979  0.00824788 0.00401248\n",
      " 0.00300936 0.00390103 0.00390103 0.00312082 0.00222916 0.00557289\n",
      " 0.00300936 0.00245207 0.00390103 0.00133749 0.00189478 0.00044583\n",
      " 0.00033437 0.00100312 0.00144895 0.0021177  0.00542017 0.00537681]\n",
      "2 day output [[0.00543649]]\n",
      "3 day input [0.0084708  0.00479269 0.01125725 0.00891663 0.0071333  0.00546144\n",
      " 0.00456977 0.00557289 0.0028979  0.00824788 0.00401248 0.00300936\n",
      " 0.00390103 0.00390103 0.00312082 0.00222916 0.00557289 0.00300936\n",
      " 0.00245207 0.00390103 0.00133749 0.00189478 0.00044583 0.00033437\n",
      " 0.00100312 0.00144895 0.0021177  0.00542017 0.00537681 0.00543649]\n",
      "3 day output [[0.00564643]]\n",
      "4 day input [0.00479269 0.01125725 0.00891663 0.0071333  0.00546144 0.00456977\n",
      " 0.00557289 0.0028979  0.00824788 0.00401248 0.00300936 0.00390103\n",
      " 0.00390103 0.00312082 0.00222916 0.00557289 0.00300936 0.00245207\n",
      " 0.00390103 0.00133749 0.00189478 0.00044583 0.00033437 0.00100312\n",
      " 0.00144895 0.0021177  0.00542017 0.00537681 0.00543649 0.00564643]\n",
      "4 day output [[0.00603675]]\n",
      "5 day input [0.01125725 0.00891663 0.0071333  0.00546144 0.00456977 0.00557289\n",
      " 0.0028979  0.00824788 0.00401248 0.00300936 0.00390103 0.00390103\n",
      " 0.00312082 0.00222916 0.00557289 0.00300936 0.00245207 0.00390103\n",
      " 0.00133749 0.00189478 0.00044583 0.00033437 0.00100312 0.00144895\n",
      " 0.0021177  0.00542017 0.00537681 0.00543649 0.00564643 0.00603675]\n",
      "5 day output [[0.00651531]]\n",
      "6 day input [0.00891663 0.0071333  0.00546144 0.00456977 0.00557289 0.0028979\n",
      " 0.00824788 0.00401248 0.00300936 0.00390103 0.00390103 0.00312082\n",
      " 0.00222916 0.00557289 0.00300936 0.00245207 0.00390103 0.00133749\n",
      " 0.00189478 0.00044583 0.00033437 0.00100312 0.00144895 0.0021177\n",
      " 0.00542017 0.00537681 0.00543649 0.00564643 0.00603675 0.00651531]\n",
      "6 day output [[0.00705506]]\n",
      "7 day input [0.0071333  0.00546144 0.00456977 0.00557289 0.0028979  0.00824788\n",
      " 0.00401248 0.00300936 0.00390103 0.00390103 0.00312082 0.00222916\n",
      " 0.00557289 0.00300936 0.00245207 0.00390103 0.00133749 0.00189478\n",
      " 0.00044583 0.00033437 0.00100312 0.00144895 0.0021177  0.00542017\n",
      " 0.00537681 0.00543649 0.00564643 0.00603675 0.00651531 0.00705506]\n",
      "7 day output [[0.00758203]]\n",
      "8 day input [0.00546144 0.00456977 0.00557289 0.0028979  0.00824788 0.00401248\n",
      " 0.00300936 0.00390103 0.00390103 0.00312082 0.00222916 0.00557289\n",
      " 0.00300936 0.00245207 0.00390103 0.00133749 0.00189478 0.00044583\n",
      " 0.00033437 0.00100312 0.00144895 0.0021177  0.00542017 0.00537681\n",
      " 0.00543649 0.00564643 0.00603675 0.00651531 0.00705506 0.00758203]\n",
      "8 day output [[0.00807014]]\n",
      "9 day input [0.00456977 0.00557289 0.0028979  0.00824788 0.00401248 0.00300936\n",
      " 0.00390103 0.00390103 0.00312082 0.00222916 0.00557289 0.00300936\n",
      " 0.00245207 0.00390103 0.00133749 0.00189478 0.00044583 0.00033437\n",
      " 0.00100312 0.00144895 0.0021177  0.00542017 0.00537681 0.00543649\n",
      " 0.00564643 0.00603675 0.00651531 0.00705506 0.00758203 0.00807014]\n",
      "9 day output [[0.00851775]]\n",
      "10 day input [0.00557289 0.0028979  0.00824788 0.00401248 0.00300936 0.00390103\n",
      " 0.00390103 0.00312082 0.00222916 0.00557289 0.00300936 0.00245207\n",
      " 0.00390103 0.00133749 0.00189478 0.00044583 0.00033437 0.00100312\n",
      " 0.00144895 0.0021177  0.00542017 0.00537681 0.00543649 0.00564643\n",
      " 0.00603675 0.00651531 0.00705506 0.00758203 0.00807014 0.00851775]\n",
      "10 day output [[0.0089383]]\n",
      "11 day input [0.0028979  0.00824788 0.00401248 0.00300936 0.00390103 0.00390103\n",
      " 0.00312082 0.00222916 0.00557289 0.00300936 0.00245207 0.00390103\n",
      " 0.00133749 0.00189478 0.00044583 0.00033437 0.00100312 0.00144895\n",
      " 0.0021177  0.00542017 0.00537681 0.00543649 0.00564643 0.00603675\n",
      " 0.00651531 0.00705506 0.00758203 0.00807014 0.00851775 0.0089383 ]\n",
      "11 day output [[0.00935986]]\n",
      "12 day input [0.00824788 0.00401248 0.00300936 0.00390103 0.00390103 0.00312082\n",
      " 0.00222916 0.00557289 0.00300936 0.00245207 0.00390103 0.00133749\n",
      " 0.00189478 0.00044583 0.00033437 0.00100312 0.00144895 0.0021177\n",
      " 0.00542017 0.00537681 0.00543649 0.00564643 0.00603675 0.00651531\n",
      " 0.00705506 0.00758203 0.00807014 0.00851775 0.0089383  0.00935986]\n",
      "12 day output [[0.00977307]]\n",
      "13 day input [0.00401248 0.00300936 0.00390103 0.00390103 0.00312082 0.00222916\n",
      " 0.00557289 0.00300936 0.00245207 0.00390103 0.00133749 0.00189478\n",
      " 0.00044583 0.00033437 0.00100312 0.00144895 0.0021177  0.00542017\n",
      " 0.00537681 0.00543649 0.00564643 0.00603675 0.00651531 0.00705506\n",
      " 0.00758203 0.00807014 0.00851775 0.0089383  0.00935986 0.00977307]\n",
      "13 day output [[0.01022199]]\n",
      "14 day input [0.00300936 0.00390103 0.00390103 0.00312082 0.00222916 0.00557289\n",
      " 0.00300936 0.00245207 0.00390103 0.00133749 0.00189478 0.00044583\n",
      " 0.00033437 0.00100312 0.00144895 0.0021177  0.00542017 0.00537681\n",
      " 0.00543649 0.00564643 0.00603675 0.00651531 0.00705506 0.00758203\n",
      " 0.00807014 0.00851775 0.0089383  0.00935986 0.00977307 0.01022199]\n",
      "14 day output [[0.01067083]]\n",
      "15 day input [0.00390103 0.00390103 0.00312082 0.00222916 0.00557289 0.00300936\n",
      " 0.00245207 0.00390103 0.00133749 0.00189478 0.00044583 0.00033437\n",
      " 0.00100312 0.00144895 0.0021177  0.00542017 0.00537681 0.00543649\n",
      " 0.00564643 0.00603675 0.00651531 0.00705506 0.00758203 0.00807014\n",
      " 0.00851775 0.0089383  0.00935986 0.00977307 0.01022199 0.01067083]\n",
      "15 day output [[0.01111083]]\n",
      "16 day input [0.00390103 0.00312082 0.00222916 0.00557289 0.00300936 0.00245207\n",
      " 0.00390103 0.00133749 0.00189478 0.00044583 0.00033437 0.00100312\n",
      " 0.00144895 0.0021177  0.00542017 0.00537681 0.00543649 0.00564643\n",
      " 0.00603675 0.00651531 0.00705506 0.00758203 0.00807014 0.00851775\n",
      " 0.0089383  0.00935986 0.00977307 0.01022199 0.01067083 0.01111083]\n",
      "16 day output [[0.01153985]]\n",
      "17 day input [0.00312082 0.00222916 0.00557289 0.00300936 0.00245207 0.00390103\n",
      " 0.00133749 0.00189478 0.00044583 0.00033437 0.00100312 0.00144895\n",
      " 0.0021177  0.00542017 0.00537681 0.00543649 0.00564643 0.00603675\n",
      " 0.00651531 0.00705506 0.00758203 0.00807014 0.00851775 0.0089383\n",
      " 0.00935986 0.00977307 0.01022199 0.01067083 0.01111083 0.01153985]\n",
      "17 day output [[0.01195278]]\n",
      "18 day input [0.00222916 0.00557289 0.00300936 0.00245207 0.00390103 0.00133749\n",
      " 0.00189478 0.00044583 0.00033437 0.00100312 0.00144895 0.0021177\n",
      " 0.00542017 0.00537681 0.00543649 0.00564643 0.00603675 0.00651531\n",
      " 0.00705506 0.00758203 0.00807014 0.00851775 0.0089383  0.00935986\n",
      " 0.00977307 0.01022199 0.01067083 0.01111083 0.01153985 0.01195278]\n",
      "18 day output [[0.0123495]]\n",
      "19 day input [0.00557289 0.00300936 0.00245207 0.00390103 0.00133749 0.00189478\n",
      " 0.00044583 0.00033437 0.00100312 0.00144895 0.0021177  0.00542017\n",
      " 0.00537681 0.00543649 0.00564643 0.00603675 0.00651531 0.00705506\n",
      " 0.00758203 0.00807014 0.00851775 0.0089383  0.00935986 0.00977307\n",
      " 0.01022199 0.01067083 0.01111083 0.01153985 0.01195278 0.0123495 ]\n",
      "19 day output [[0.01272114]]\n",
      "20 day input [0.00300936 0.00245207 0.00390103 0.00133749 0.00189478 0.00044583\n",
      " 0.00033437 0.00100312 0.00144895 0.0021177  0.00542017 0.00537681\n",
      " 0.00543649 0.00564643 0.00603675 0.00651531 0.00705506 0.00758203\n",
      " 0.00807014 0.00851775 0.0089383  0.00935986 0.00977307 0.01022199\n",
      " 0.01067083 0.01111083 0.01153985 0.01195278 0.0123495  0.01272114]\n",
      "20 day output [[0.01309079]]\n",
      "21 day input [0.00245207 0.00390103 0.00133749 0.00189478 0.00044583 0.00033437\n",
      " 0.00100312 0.00144895 0.0021177  0.00542017 0.00537681 0.00543649\n",
      " 0.00564643 0.00603675 0.00651531 0.00705506 0.00758203 0.00807014\n",
      " 0.00851775 0.0089383  0.00935986 0.00977307 0.01022199 0.01067083\n",
      " 0.01111083 0.01153985 0.01195278 0.0123495  0.01272114 0.01309079]\n",
      "21 day output [[0.01344026]]\n",
      "22 day input [0.00390103 0.00133749 0.00189478 0.00044583 0.00033437 0.00100312\n",
      " 0.00144895 0.0021177  0.00542017 0.00537681 0.00543649 0.00564643\n",
      " 0.00603675 0.00651531 0.00705506 0.00758203 0.00807014 0.00851775\n",
      " 0.0089383  0.00935986 0.00977307 0.01022199 0.01067083 0.01111083\n",
      " 0.01153985 0.01195278 0.0123495  0.01272114 0.01309079 0.01344026]\n",
      "22 day output [[0.01377047]]\n",
      "23 day input [0.00133749 0.00189478 0.00044583 0.00033437 0.00100312 0.00144895\n",
      " 0.0021177  0.00542017 0.00537681 0.00543649 0.00564643 0.00603675\n",
      " 0.00651531 0.00705506 0.00758203 0.00807014 0.00851775 0.0089383\n",
      " 0.00935986 0.00977307 0.01022199 0.01067083 0.01111083 0.01153985\n",
      " 0.01195278 0.0123495  0.01272114 0.01309079 0.01344026 0.01377047]\n",
      "23 day output [[0.01409557]]\n",
      "24 day input [0.00189478 0.00044583 0.00033437 0.00100312 0.00144895 0.0021177\n",
      " 0.00542017 0.00537681 0.00543649 0.00564643 0.00603675 0.00651531\n",
      " 0.00705506 0.00758203 0.00807014 0.00851775 0.0089383  0.00935986\n",
      " 0.00977307 0.01022199 0.01067083 0.01111083 0.01153985 0.01195278\n",
      " 0.0123495  0.01272114 0.01309079 0.01344026 0.01377047 0.01409557]\n"
     ]
    },
    {
     "name": "stdout",
     "output_type": "stream",
     "text": [
      "24 day output [[0.01440353]]\n",
      "25 day input [0.00044583 0.00033437 0.00100312 0.00144895 0.0021177  0.00542017\n",
      " 0.00537681 0.00543649 0.00564643 0.00603675 0.00651531 0.00705506\n",
      " 0.00758203 0.00807014 0.00851775 0.0089383  0.00935986 0.00977307\n",
      " 0.01022199 0.01067083 0.01111083 0.01153985 0.01195278 0.0123495\n",
      " 0.01272114 0.01309079 0.01344026 0.01377047 0.01409557 0.01440353]\n",
      "25 day output [[0.01470606]]\n",
      "26 day input [0.00033437 0.00100312 0.00144895 0.0021177  0.00542017 0.00537681\n",
      " 0.00543649 0.00564643 0.00603675 0.00651531 0.00705506 0.00758203\n",
      " 0.00807014 0.00851775 0.0089383  0.00935986 0.00977307 0.01022199\n",
      " 0.01067083 0.01111083 0.01153985 0.01195278 0.0123495  0.01272114\n",
      " 0.01309079 0.01344026 0.01377047 0.01409557 0.01440353 0.01470606]\n",
      "26 day output [[0.01499488]]\n",
      "27 day input [0.00100312 0.00144895 0.0021177  0.00542017 0.00537681 0.00543649\n",
      " 0.00564643 0.00603675 0.00651531 0.00705506 0.00758203 0.00807014\n",
      " 0.00851775 0.0089383  0.00935986 0.00977307 0.01022199 0.01067083\n",
      " 0.01111083 0.01153985 0.01195278 0.0123495  0.01272114 0.01309079\n",
      " 0.01344026 0.01377047 0.01409557 0.01440353 0.01470606 0.01499488]\n",
      "27 day output [[0.01527209]]\n",
      "28 day input [0.00144895 0.0021177  0.00542017 0.00537681 0.00543649 0.00564643\n",
      " 0.00603675 0.00651531 0.00705506 0.00758203 0.00807014 0.00851775\n",
      " 0.0089383  0.00935986 0.00977307 0.01022199 0.01067083 0.01111083\n",
      " 0.01153985 0.01195278 0.0123495  0.01272114 0.01309079 0.01344026\n",
      " 0.01377047 0.01409557 0.01440353 0.01470606 0.01499488 0.01527209]\n",
      "28 day output [[0.01554066]]\n",
      "29 day input [0.0021177  0.00542017 0.00537681 0.00543649 0.00564643 0.00603675\n",
      " 0.00651531 0.00705506 0.00758203 0.00807014 0.00851775 0.0089383\n",
      " 0.00935986 0.00977307 0.01022199 0.01067083 0.01111083 0.01153985\n",
      " 0.01195278 0.0123495  0.01272114 0.01309079 0.01344026 0.01377047\n",
      " 0.01409557 0.01440353 0.01470606 0.01499488 0.01527209 0.01554066]\n",
      "29 day output [[0.01579913]]\n",
      "[[0.0054201725870370865], [0.005376812070608139], [0.005436485633254051], [0.005646426230669022], [0.006036747246980667], [0.006515307351946831], [0.0070550572127103806], [0.0075820330530405045], [0.008070137351751328], [0.008517753332853317], [0.008938299492001534], [0.009359855204820633], [0.009773069992661476], [0.010221986100077629], [0.010670831426978111], [0.011110831052064896], [0.011539852246642113], [0.011952776461839676], [0.01234949566423893], [0.012721139937639236], [0.013090791180729866], [0.01344025693833828], [0.01377047412097454], [0.014095570892095566], [0.014403527602553368], [0.01470605842769146], [0.014994880184531212], [0.015272092074155807], [0.015540655702352524], [0.015799129381775856]]\n"
     ]
    }
   ],
   "source": [
    "# prediction for next 30 days\n",
    "from numpy import array\n",
    "\n",
    "lst_output=[]\n",
    "n_steps=30\n",
    "i=0\n",
    "while(i<30): #30 hari\n",
    "    \n",
    "    if(len(temp_input)>30):\n",
    "        #print(temp_input)\n",
    "        x_input=np.array(temp_input[1:])\n",
    "        print(\"{} day input {}\".format(i,x_input))\n",
    "        x_input=x_input.reshape(1,-1)\n",
    "        x_input = x_input.reshape((1, n_steps, 1))\n",
    "        #print(x_input)\n",
    "        yhat = model.predict(x_input, verbose=0)\n",
    "        print(\"{} day output {}\".format(i,yhat))\n",
    "        temp_input.extend(yhat[0].tolist())\n",
    "        temp_input=temp_input[1:]\n",
    "        #print(temp_input)\n",
    "        lst_output.extend(yhat.tolist())\n",
    "        i=i+1\n",
    "    else:\n",
    "        x_input = x_input.reshape((1, n_steps,1))\n",
    "        yhat = model.predict(x_input, verbose=0)\n",
    "        print(yhat[0])\n",
    "        temp_input.extend(yhat[0].tolist())\n",
    "        print(len(temp_input))\n",
    "        lst_output.extend(yhat.tolist())\n",
    "        i=i+1\n",
    "    \n",
    "\n",
    "print(lst_output)"
   ]
  },
  {
   "cell_type": "code",
   "execution_count": 41,
   "id": "447dcca0",
   "metadata": {},
   "outputs": [],
   "source": [
    "day_new=np.arange(1,31) # dari data 30 hari terakhir\n",
    "day_pred=np.arange(31,61) #predict 30 hari kedepan"
   ]
  },
  {
   "cell_type": "code",
   "execution_count": 42,
   "id": "91dd51a7",
   "metadata": {},
   "outputs": [
    {
     "data": {
      "text/plain": [
       "766"
      ]
     },
     "execution_count": 42,
     "metadata": {},
     "output_type": "execute_result"
    }
   ],
   "source": [
    "len(df)"
   ]
  },
  {
   "cell_type": "code",
   "execution_count": 43,
   "id": "86fd0fa7",
   "metadata": {},
   "outputs": [
    {
     "data": {
      "text/plain": [
       "30"
      ]
     },
     "execution_count": 43,
     "metadata": {},
     "output_type": "execute_result"
    }
   ],
   "source": [
    "len(day_pred)"
   ]
  },
  {
   "cell_type": "code",
   "execution_count": 44,
   "id": "e0730cc4",
   "metadata": {
    "scrolled": true
   },
   "outputs": [
    {
     "data": {
      "text/plain": [
       "[<matplotlib.lines.Line2D at 0x1786dadcac8>]"
      ]
     },
     "execution_count": 44,
     "metadata": {},
     "output_type": "execute_result"
    },
    {
     "data": {
      "image/png": "[encoded data removed]",
      "text/plain": [
       "<Figure size 432x288 with 1 Axes>"
      ]
     },
     "metadata": {
      "needs_background": "light"
     },
     "output_type": "display_data"
    }
   ],
   "source": [
    "plt.plot(day_new,df[736:]) # [total data - prediction(30)] \n",
    "plt.plot(day_pred,scaler.inverse_transform(lst_output))"
   ]
  },
  {
   "cell_type": "code",
   "execution_count": 45,
   "id": "07cc7ca7",
   "metadata": {},
   "outputs": [
    {
     "data": {
      "text/plain": [
       "[<matplotlib.lines.Line2D at 0x1786daf7548>]"
      ]
     },
     "execution_count": 45,
     "metadata": {},
     "output_type": "execute_result"
    },
    {
     "data": {
      "image/png": "[encoded data removed]",
      "text/plain": [
       "<Figure size 432x288 with 1 Axes>"
      ]
     },
     "metadata": {
      "needs_background": "light"
     },
     "output_type": "display_data"
    }
   ],
   "source": [
    "df2=df.tolist()\n",
    "df2.extend(scaler.inverse_transform(lst_output))\n",
    "plt.plot(df2)"
   ]
  },
  {
   "cell_type": "code",
   "execution_count": 46,
   "id": "4e90a3ff",
   "metadata": {
    "scrolled": true
   },
   "outputs": [
    {
     "data": {
      "text/plain": [
       "[<matplotlib.lines.Line2D at 0x1786db839c8>]"
      ]
     },
     "execution_count": 46,
     "metadata": {},
     "output_type": "execute_result"
    },
    {
     "data": {
      "image/png": "[encoded data removed]",
      "text/plain": [
       "<Figure size 432x288 with 1 Axes>"
      ]
     },
     "metadata": {
      "needs_background": "light"
     },
     "output_type": "display_data"
    }
   ],
   "source": [
    "df2=scaler.inverse_transform(df2).tolist()\n",
    "plt.plot(df2)"
   ]
  },
  {
   "cell_type": "code",
   "execution_count": 49,
   "id": "3cf7831d",
   "metadata": {},
   "outputs": [
    {
     "data": {
      "text/plain": [
       "array([[ 53.62978795],\n",
       "       [ 53.2407574 ],\n",
       "       [ 53.77614859],\n",
       "       [ 55.65973562],\n",
       "       [ 59.16169574],\n",
       "       [ 63.45533697],\n",
       "       [ 68.29797267],\n",
       "       [ 73.02599987],\n",
       "       [ 77.4052716 ],\n",
       "       [ 81.42128215],\n",
       "       [ 85.19442225],\n",
       "       [ 88.97662007],\n",
       "       [ 92.68398312],\n",
       "       [ 96.71165839],\n",
       "       [100.73869863],\n",
       "       [104.68637523],\n",
       "       [108.53555335],\n",
       "       [112.24030938],\n",
       "       [115.79967403],\n",
       "       [119.13406642],\n",
       "       [122.45057735],\n",
       "       [125.58598409],\n",
       "       [128.54869263],\n",
       "       [131.46546083],\n",
       "       [134.22844842],\n",
       "       [136.94275495],\n",
       "       [139.53406373],\n",
       "       [142.02120878],\n",
       "       [144.43076163],\n",
       "       [146.74978746]])"
      ]
     },
     "execution_count": 49,
     "metadata": {},
     "output_type": "execute_result"
    }
   ],
   "source": [
    "scaler.inverse_transform(lst_output)"
   ]
  },
  {
   "cell_type": "code",
   "execution_count": 50,
   "id": "7790ecaa",
   "metadata": {},
   "outputs": [
    {
     "name": "stdout",
     "output_type": "stream",
     "text": [
      "loss: 0.056965\n"
     ]
    }
   ],
   "source": [
    "# evaluate the model\n",
    "scores = model.evaluate(X_train, Y_train, verbose=0)\n",
    "print(\"%s: %f\" % (model.metrics_names[0], scores*100))"
   ]
  },
  {
   "cell_type": "code",
   "execution_count": 51,
   "id": "391d7402",
   "metadata": {},
   "outputs": [
    {
     "name": "stdout",
     "output_type": "stream",
     "text": [
      "Saved model to disk\n"
     ]
    }
   ],
   "source": [
    "# save model and architecture to single file\n",
    "model.save(\"lstm_jawa_timur.h5\")\n",
    "print(\"Saved model to disk\")"
   ]
  },
  {
   "cell_type": "code",
   "execution_count": 52,
   "id": "33ba3174",
   "metadata": {},
   "outputs": [
    {
     "name": "stdout",
     "output_type": "stream",
     "text": [
      "Model: \"sequential\"\n",
      "_________________________________________________________________\n",
      " Layer (type)                Output Shape              Param #   \n",
      "=================================================================\n",
      " lstm (LSTM)                 (None, 30, 100)           40800     \n",
      "                                                                 \n",
      " lstm_1 (LSTM)               (None, 100)               80400     \n",
      "                                                                 \n",
      " dense (Dense)               (None, 1)                 101       \n",
      "                                                                 \n",
      "=================================================================\n",
      "Total params: 121,301\n",
      "Trainable params: 121,301\n",
      "Non-trainable params: 0\n",
      "_________________________________________________________________\n"
     ]
    }
   ],
   "source": [
    "from keras.models import load_model\n",
    " \n",
    "# load model\n",
    "model = load_model('lstm_jawa_timur.h5')\n",
    "# summarize model\n",
    "model.summary()"
   ]
  },
  {
   "cell_type": "code",
   "execution_count": null,
   "id": "66cacc99",
   "metadata": {},
   "outputs": [],
   "source": []
  }
 ],
 "metadata": {
  "kernelspec": {
   "display_name": "Python 3 (ipykernel)",
   "language": "python",
   "name": "python3"
  },
  "language_info": {
   "codemirror_mode": {
    "name": "ipython",
    "version": 3
   },
   "file_extension": ".py",
   "mimetype": "text/x-python",
   "name": "python",
   "nbconvert_exporter": "python",
   "pygments_lexer": "ipython3",
   "version": "3.7.13"
  }
 },
 "nbformat": 4,
 "nbformat_minor": 5
}
