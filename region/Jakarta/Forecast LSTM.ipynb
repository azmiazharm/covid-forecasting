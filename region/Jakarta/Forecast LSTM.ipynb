{
 "cells": [
  {
   "cell_type": "code",
   "execution_count": 1,
   "id": "f8cc18d9",
   "metadata": {},
   "outputs": [],
   "source": [
    "# Import library\n",
    "import pandas as pd\n",
    "import numpy as np\n",
    "import matplotlib.pyplot as plt\n",
    "import tensorflow\n",
    "from tensorflow import keras\n",
    "from tensorflow.keras.layers import Dense, Activation, LSTM\n",
    "from sklearn.preprocessing import MinMaxScaler\n",
    "from keras.models import Sequential\n",
    "import os"
   ]
  },
  {
   "cell_type": "code",
   "execution_count": 2,
   "id": "4e7cdaba",
   "metadata": {},
   "outputs": [],
   "source": [
    "# Use CPU\n",
    "os.environ['CUDA_VISIBLE_DEVICES'] = '-1'"
   ]
  },
  {
   "cell_type": "code",
   "execution_count": 3,
   "id": "29d08e2d",
   "metadata": {},
   "outputs": [
    {
     "name": "stdout",
     "output_type": "stream",
     "text": [
      "2.8.0\n"
     ]
    }
   ],
   "source": [
    "print(tensorflow.__version__)"
   ]
  },
  {
   "cell_type": "code",
   "execution_count": 4,
   "id": "6dac519e",
   "metadata": {},
   "outputs": [
    {
     "data": {
      "text/html": [
       "<div>\n",
       "<style scoped>\n",
       "    .dataframe tbody tr th:only-of-type {\n",
       "        vertical-align: middle;\n",
       "    }\n",
       "\n",
       "    .dataframe tbody tr th {\n",
       "        vertical-align: top;\n",
       "    }\n",
       "\n",
       "    .dataframe thead th {\n",
       "        text-align: right;\n",
       "    }\n",
       "</style>\n",
       "<table border=\"1\" class=\"dataframe\">\n",
       "  <thead>\n",
       "    <tr style=\"text-align: right;\">\n",
       "      <th></th>\n",
       "      <th>daily_case</th>\n",
       "    </tr>\n",
       "    <tr>\n",
       "      <th>date</th>\n",
       "      <th></th>\n",
       "    </tr>\n",
       "  </thead>\n",
       "  <tbody>\n",
       "    <tr>\n",
       "      <th>2020-04-01</th>\n",
       "      <td>59</td>\n",
       "    </tr>\n",
       "    <tr>\n",
       "      <th>2020-04-02</th>\n",
       "      <td>70</td>\n",
       "    </tr>\n",
       "    <tr>\n",
       "      <th>2020-04-03</th>\n",
       "      <td>71</td>\n",
       "    </tr>\n",
       "    <tr>\n",
       "      <th>2020-04-04</th>\n",
       "      <td>57</td>\n",
       "    </tr>\n",
       "    <tr>\n",
       "      <th>2020-04-05</th>\n",
       "      <td>87</td>\n",
       "    </tr>\n",
       "  </tbody>\n",
       "</table>\n",
       "</div>"
      ],
      "text/plain": [
       "            daily_case\n",
       "date                  \n",
       "2020-04-01          59\n",
       "2020-04-02          70\n",
       "2020-04-03          71\n",
       "2020-04-04          57\n",
       "2020-04-05          87"
      ]
     },
     "execution_count": 4,
     "metadata": {},
     "output_type": "execute_result"
    }
   ],
   "source": [
    "# Dataset\n",
    "df=pd.read_csv('./../../dataset/raw_jakarta.csv', parse_dates=[\"date\"], index_col=\"date\")\n",
    "#df['daily_case'] = df['daily_case'].str.replace(',','').astype(int)\n",
    "\n",
    "# Cut dataset to start from 1 April 2022\n",
    "df = df[31:]\n",
    "df.head()"
   ]
  },
  {
   "cell_type": "code",
   "execution_count": 5,
   "id": "b7cb2a44",
   "metadata": {},
   "outputs": [
    {
     "name": "stdout",
     "output_type": "stream",
     "text": [
      "<class 'pandas.core.frame.DataFrame'>\n",
      "DatetimeIndex: 766 entries, 2020-04-01 to 2022-05-06\n",
      "Data columns (total 1 columns):\n",
      " #   Column      Non-Null Count  Dtype\n",
      "---  ------      --------------  -----\n",
      " 0   daily_case  766 non-null    int64\n",
      "dtypes: int64(1)\n",
      "memory usage: 12.0 KB\n"
     ]
    }
   ],
   "source": [
    "df.info()"
   ]
  },
  {
   "cell_type": "code",
   "execution_count": 6,
   "id": "33630edc",
   "metadata": {},
   "outputs": [
    {
     "data": {
      "text/plain": [
       "(766, 1)"
      ]
     },
     "execution_count": 6,
     "metadata": {},
     "output_type": "execute_result"
    }
   ],
   "source": [
    "df.shape"
   ]
  },
  {
   "cell_type": "code",
   "execution_count": 7,
   "id": "a46fcfe0",
   "metadata": {},
   "outputs": [
    {
     "data": {
      "text/plain": [
       "[<matplotlib.lines.Line2D at 0x287fbbdf588>]"
      ]
     },
     "execution_count": 7,
     "metadata": {},
     "output_type": "execute_result"
    },
    {
     "data": {
      "image/png": "[encoded data removed]",
      "text/plain": [
       "<Figure size 432x288 with 1 Axes>"
      ]
     },
     "metadata": {
      "needs_background": "light"
     },
     "output_type": "display_data"
    }
   ],
   "source": [
    "plt.plot(df)"
   ]
  },
  {
   "cell_type": "code",
   "execution_count": 8,
   "id": "baf1aaac",
   "metadata": {},
   "outputs": [],
   "source": [
    "scaler = MinMaxScaler(feature_range=(0,1))"
   ]
  },
  {
   "cell_type": "code",
   "execution_count": 9,
   "id": "116dbcb0",
   "metadata": {},
   "outputs": [
    {
     "data": {
      "text/plain": [
       "(766, 1)"
      ]
     },
     "execution_count": 9,
     "metadata": {},
     "output_type": "execute_result"
    }
   ],
   "source": [
    "df.shape"
   ]
  },
  {
   "cell_type": "code",
   "execution_count": 10,
   "id": "1dbbf64c",
   "metadata": {},
   "outputs": [
    {
     "data": {
      "text/html": [
       "<div>\n",
       "<style scoped>\n",
       "    .dataframe tbody tr th:only-of-type {\n",
       "        vertical-align: middle;\n",
       "    }\n",
       "\n",
       "    .dataframe tbody tr th {\n",
       "        vertical-align: top;\n",
       "    }\n",
       "\n",
       "    .dataframe thead th {\n",
       "        text-align: right;\n",
       "    }\n",
       "</style>\n",
       "<table border=\"1\" class=\"dataframe\">\n",
       "  <thead>\n",
       "    <tr style=\"text-align: right;\">\n",
       "      <th></th>\n",
       "      <th>daily_case</th>\n",
       "    </tr>\n",
       "    <tr>\n",
       "      <th>date</th>\n",
       "      <th></th>\n",
       "    </tr>\n",
       "  </thead>\n",
       "  <tbody>\n",
       "    <tr>\n",
       "      <th>2020-04-01</th>\n",
       "      <td>59</td>\n",
       "    </tr>\n",
       "    <tr>\n",
       "      <th>2020-04-02</th>\n",
       "      <td>70</td>\n",
       "    </tr>\n",
       "    <tr>\n",
       "      <th>2020-04-03</th>\n",
       "      <td>71</td>\n",
       "    </tr>\n",
       "    <tr>\n",
       "      <th>2020-04-04</th>\n",
       "      <td>57</td>\n",
       "    </tr>\n",
       "    <tr>\n",
       "      <th>2020-04-05</th>\n",
       "      <td>87</td>\n",
       "    </tr>\n",
       "  </tbody>\n",
       "</table>\n",
       "</div>"
      ],
      "text/plain": [
       "            daily_case\n",
       "date                  \n",
       "2020-04-01          59\n",
       "2020-04-02          70\n",
       "2020-04-03          71\n",
       "2020-04-04          57\n",
       "2020-04-05          87"
      ]
     },
     "execution_count": 10,
     "metadata": {},
     "output_type": "execute_result"
    }
   ],
   "source": [
    "df.head()"
   ]
  },
  {
   "cell_type": "code",
   "execution_count": 11,
   "id": "e6faefb5",
   "metadata": {},
   "outputs": [],
   "source": [
    "# df = scaler.fit_transform(np.array(df).reshape(-1,1))"
   ]
  },
  {
   "cell_type": "code",
   "execution_count": 12,
   "id": "19cb8aa8",
   "metadata": {},
   "outputs": [
    {
     "data": {
      "text/plain": [
       "(766, 1)"
      ]
     },
     "execution_count": 12,
     "metadata": {},
     "output_type": "execute_result"
    }
   ],
   "source": [
    "df.shape"
   ]
  },
  {
   "cell_type": "code",
   "execution_count": 13,
   "id": "8d81d237",
   "metadata": {},
   "outputs": [],
   "source": [
    "# Split data to train and test\n",
    "df = df.values\n",
    "df = df.astype('float32')\n",
    "train_size = int(len(df) * 0.75)\n",
    "test_size=len(df)-train_size"
   ]
  },
  {
   "cell_type": "code",
   "execution_count": 14,
   "id": "d07613e8",
   "metadata": {},
   "outputs": [],
   "source": [
    "train_data=df[0:train_size,:]\n",
    "test_data=df[train_size:len(df),:]"
   ]
  },
  {
   "cell_type": "code",
   "execution_count": 15,
   "id": "ec2da0aa",
   "metadata": {},
   "outputs": [],
   "source": [
    "# scale data\n",
    "train_data = scaler.fit_transform(np.array(train_data).reshape(-1,1))\n",
    "test_data = scaler.fit_transform(np.array(test_data).reshape(-1,1))"
   ]
  },
  {
   "cell_type": "code",
   "execution_count": 16,
   "id": "ec3179a7",
   "metadata": {},
   "outputs": [
    {
     "data": {
      "text/plain": [
       "(574, 1)"
      ]
     },
     "execution_count": 16,
     "metadata": {},
     "output_type": "execute_result"
    }
   ],
   "source": [
    "train_data.shape"
   ]
  },
  {
   "cell_type": "code",
   "execution_count": 17,
   "id": "709fa2f3",
   "metadata": {},
   "outputs": [
    {
     "name": "stdout",
     "output_type": "stream",
     "text": [
      "574\n",
      "192\n"
     ]
    },
    {
     "data": {
      "text/plain": [
       "(None, None)"
      ]
     },
     "execution_count": 17,
     "metadata": {},
     "output_type": "execute_result"
    }
   ],
   "source": [
    "print(len(train_data)), print(len(test_data))"
   ]
  },
  {
   "cell_type": "code",
   "execution_count": 18,
   "id": "8b465761",
   "metadata": {},
   "outputs": [],
   "source": [
    "# Create dataset matrix based on timestep\n",
    "def create_dataset(dataset, time_step=1):\n",
    "    X, Y = [], []\n",
    "    for i in range(len(dataset)-time_step-1):\n",
    "        a = dataset[i:(i+time_step), 0]\n",
    "        X.append(a)\n",
    "        Y.append(dataset[i + time_step, 0])\n",
    "    return np.array(X), np.array(Y)"
   ]
  },
  {
   "cell_type": "code",
   "execution_count": 19,
   "id": "f7456e17",
   "metadata": {},
   "outputs": [],
   "source": [
    "# Reshape into x=t, t+1, t+2, ... t+n, and Y = t + (n+1)\n",
    "time_step = 30\n",
    "X_train, Y_train = create_dataset(train_data, time_step)\n",
    "X_test, Y_test = create_dataset(test_data, time_step)"
   ]
  },
  {
   "cell_type": "code",
   "execution_count": 20,
   "id": "1e2fbaae",
   "metadata": {
    "scrolled": true
   },
   "outputs": [
    {
     "name": "stdout",
     "output_type": "stream",
     "text": [
      "(543, 30)\n",
      "(543,)\n"
     ]
    },
    {
     "data": {
      "text/plain": [
       "(None, None)"
      ]
     },
     "execution_count": 20,
     "metadata": {},
     "output_type": "execute_result"
    }
   ],
   "source": [
    "print(X_train.shape), print(Y_train.shape)"
   ]
  },
  {
   "cell_type": "code",
   "execution_count": 21,
   "id": "14caf748",
   "metadata": {},
   "outputs": [
    {
     "name": "stdout",
     "output_type": "stream",
     "text": [
      "(161, 30)\n",
      "(161,)\n"
     ]
    },
    {
     "data": {
      "text/plain": [
       "(None, None)"
      ]
     },
     "execution_count": 21,
     "metadata": {},
     "output_type": "execute_result"
    }
   ],
   "source": [
    "print(X_test.shape), print(Y_test.shape)"
   ]
  },
  {
   "cell_type": "code",
   "execution_count": 22,
   "id": "dc2e0ea1",
   "metadata": {},
   "outputs": [
    {
     "data": {
      "text/plain": [
       "161"
      ]
     },
     "execution_count": 22,
     "metadata": {},
     "output_type": "execute_result"
    }
   ],
   "source": [
    "len(X_test)"
   ]
  },
  {
   "cell_type": "code",
   "execution_count": 23,
   "id": "dd7a7f83",
   "metadata": {},
   "outputs": [],
   "source": [
    "# Reshape input data to 3d [sample, time_step, features]\n",
    "X_train = X_train.reshape(X_train.shape[0], X_train.shape[1], 1)\n",
    "X_test = X_test.reshape(X_test.shape[0], X_test.shape[1], 1)"
   ]
  },
  {
   "cell_type": "code",
   "execution_count": 24,
   "id": "35b0d75b",
   "metadata": {},
   "outputs": [],
   "source": [
    "# # Create model\n",
    "# model = Sequential()\n",
    "# model.add(LSTM(192, return_sequences=True, input_shape=(30,1)))\n",
    "# model.add(LSTM(64, return_sequences=True))\n",
    "# model.add(LSTM(224, return_sequences=True))\n",
    "# model.add(LSTM(160, activation='relu'))\n",
    "# model.add(Dropout(0.1))\n",
    "# model.add(Dense(1))\n",
    "# model.compile(optimizer='adam', loss='mean_squared_error')"
   ]
  },
  {
   "cell_type": "code",
   "execution_count": 25,
   "id": "2904dc8f",
   "metadata": {},
   "outputs": [],
   "source": [
    "# Create Stacked LSTM model\n",
    "model = Sequential()\n",
    "model.add(LSTM(100, activation='relu', return_sequences=True, input_shape=(30,1)))\n",
    "model.add(LSTM(100))\n",
    "model.add(Dense(1))\n",
    "model.compile(optimizer='adam', loss='mean_squared_error')"
   ]
  },
  {
   "cell_type": "code",
   "execution_count": 26,
   "id": "2d2dd132",
   "metadata": {},
   "outputs": [
    {
     "name": "stdout",
     "output_type": "stream",
     "text": [
      "Model: \"sequential\"\n",
      "_________________________________________________________________\n",
      " Layer (type)                Output Shape              Param #   \n",
      "=================================================================\n",
      " lstm (LSTM)                 (None, 30, 100)           40800     \n",
      "                                                                 \n",
      " lstm_1 (LSTM)               (None, 100)               80400     \n",
      "                                                                 \n",
      " dense (Dense)               (None, 1)                 101       \n",
      "                                                                 \n",
      "=================================================================\n",
      "Total params: 121,301\n",
      "Trainable params: 121,301\n",
      "Non-trainable params: 0\n",
      "_________________________________________________________________\n"
     ]
    }
   ],
   "source": [
    "model.summary()"
   ]
  },
  {
   "cell_type": "code",
   "execution_count": 27,
   "id": "7314a09a",
   "metadata": {},
   "outputs": [
    {
     "name": "stdout",
     "output_type": "stream",
     "text": [
      "Epoch 1/200\n",
      "17/17 [==============================] - 3s 52ms/step - loss: 0.0130 - val_loss: 0.0227\n",
      "Epoch 2/200\n",
      "17/17 [==============================] - 0s 28ms/step - loss: 0.0064 - val_loss: 0.0116\n",
      "Epoch 3/200\n",
      "17/17 [==============================] - 0s 29ms/step - loss: 0.0032 - val_loss: 0.0095\n",
      "Epoch 4/200\n",
      "17/17 [==============================] - 0s 29ms/step - loss: 0.0028 - val_loss: 0.0071\n",
      "Epoch 5/200\n",
      "17/17 [==============================] - 1s 30ms/step - loss: 0.0028 - val_loss: 0.0067\n",
      "Epoch 6/200\n",
      "17/17 [==============================] - 0s 29ms/step - loss: 0.0029 - val_loss: 0.0066\n",
      "Epoch 7/200\n",
      "17/17 [==============================] - 0s 27ms/step - loss: 0.0026 - val_loss: 0.0063\n",
      "Epoch 8/200\n",
      "17/17 [==============================] - 0s 28ms/step - loss: 0.0022 - val_loss: 0.0076\n",
      "Epoch 9/200\n",
      "17/17 [==============================] - 0s 28ms/step - loss: 0.0020 - val_loss: 0.0059\n",
      "Epoch 10/200\n",
      "17/17 [==============================] - 0s 28ms/step - loss: 0.0021 - val_loss: 0.0069\n",
      "Epoch 11/200\n",
      "17/17 [==============================] - 0s 28ms/step - loss: 0.0023 - val_loss: 0.0054\n",
      "Epoch 12/200\n",
      "17/17 [==============================] - 0s 29ms/step - loss: 0.0020 - val_loss: 0.0064\n",
      "Epoch 13/200\n",
      "17/17 [==============================] - 0s 27ms/step - loss: 0.0020 - val_loss: 0.0069\n",
      "Epoch 14/200\n",
      "17/17 [==============================] - 1s 31ms/step - loss: 0.0020 - val_loss: 0.0055\n",
      "Epoch 15/200\n",
      "17/17 [==============================] - 1s 31ms/step - loss: 0.0018 - val_loss: 0.0054\n",
      "Epoch 16/200\n",
      "17/17 [==============================] - 0s 28ms/step - loss: 0.0019 - val_loss: 0.0056\n",
      "Epoch 17/200\n",
      "17/17 [==============================] - 0s 28ms/step - loss: 0.0020 - val_loss: 0.0054\n",
      "Epoch 18/200\n",
      "17/17 [==============================] - 0s 27ms/step - loss: 0.0019 - val_loss: 0.0104\n",
      "Epoch 19/200\n",
      "17/17 [==============================] - 0s 28ms/step - loss: 0.0023 - val_loss: 0.0057\n",
      "Epoch 20/200\n",
      "17/17 [==============================] - 0s 29ms/step - loss: 0.0018 - val_loss: 0.0053\n",
      "Epoch 21/200\n",
      "17/17 [==============================] - 0s 27ms/step - loss: 0.0018 - val_loss: 0.0076\n",
      "Epoch 22/200\n",
      "17/17 [==============================] - 0s 28ms/step - loss: 0.0023 - val_loss: 0.0050\n",
      "Epoch 23/200\n",
      "17/17 [==============================] - 0s 27ms/step - loss: 0.0020 - val_loss: 0.0065\n",
      "Epoch 24/200\n",
      "17/17 [==============================] - 0s 28ms/step - loss: 0.0018 - val_loss: 0.0053\n",
      "Epoch 25/200\n",
      "17/17 [==============================] - 0s 27ms/step - loss: 0.0017 - val_loss: 0.0050\n",
      "Epoch 26/200\n",
      "17/17 [==============================] - 0s 28ms/step - loss: 0.0016 - val_loss: 0.0078\n",
      "Epoch 27/200\n",
      "17/17 [==============================] - 0s 28ms/step - loss: 0.0019 - val_loss: 0.0052\n",
      "Epoch 28/200\n",
      "17/17 [==============================] - 0s 27ms/step - loss: 0.0020 - val_loss: 0.0049\n",
      "Epoch 29/200\n",
      "17/17 [==============================] - 0s 27ms/step - loss: 0.0020 - val_loss: 0.0051\n",
      "Epoch 30/200\n",
      "17/17 [==============================] - 0s 27ms/step - loss: 0.0018 - val_loss: 0.0050\n",
      "Epoch 31/200\n",
      "17/17 [==============================] - 0s 26ms/step - loss: 0.0018 - val_loss: 0.0055\n",
      "Epoch 32/200\n",
      "17/17 [==============================] - 0s 26ms/step - loss: 0.0017 - val_loss: 0.0051\n",
      "Epoch 33/200\n",
      "17/17 [==============================] - 0s 27ms/step - loss: 0.0016 - val_loss: 0.0050\n",
      "Epoch 34/200\n",
      "17/17 [==============================] - 0s 27ms/step - loss: 0.0019 - val_loss: 0.0049\n",
      "Epoch 35/200\n",
      "17/17 [==============================] - 0s 27ms/step - loss: 0.0017 - val_loss: 0.0045\n",
      "Epoch 36/200\n",
      "17/17 [==============================] - 0s 27ms/step - loss: 0.0018 - val_loss: 0.0050\n",
      "Epoch 37/200\n",
      "17/17 [==============================] - 0s 27ms/step - loss: 0.0016 - val_loss: 0.0048\n",
      "Epoch 38/200\n",
      "17/17 [==============================] - 0s 27ms/step - loss: 0.0017 - val_loss: 0.0048\n",
      "Epoch 39/200\n",
      "17/17 [==============================] - 0s 27ms/step - loss: 0.0016 - val_loss: 0.0049\n",
      "Epoch 40/200\n",
      "17/17 [==============================] - 0s 27ms/step - loss: 0.0017 - val_loss: 0.0049\n",
      "Epoch 41/200\n",
      "17/17 [==============================] - 0s 27ms/step - loss: 0.0018 - val_loss: 0.0052\n",
      "Epoch 42/200\n",
      "17/17 [==============================] - 0s 28ms/step - loss: 0.0016 - val_loss: 0.0058\n",
      "Epoch 43/200\n",
      "17/17 [==============================] - 0s 27ms/step - loss: 0.0015 - val_loss: 0.0042\n",
      "Epoch 44/200\n",
      "17/17 [==============================] - 0s 27ms/step - loss: 0.0017 - val_loss: 0.0052\n",
      "Epoch 45/200\n",
      "17/17 [==============================] - 0s 27ms/step - loss: 0.0016 - val_loss: 0.0051\n",
      "Epoch 46/200\n",
      "17/17 [==============================] - 0s 27ms/step - loss: 0.0015 - val_loss: 0.0047\n",
      "Epoch 47/200\n",
      "17/17 [==============================] - 0s 27ms/step - loss: 0.0015 - val_loss: 0.0045\n",
      "Epoch 48/200\n",
      "17/17 [==============================] - 0s 27ms/step - loss: 0.0015 - val_loss: 0.0059\n",
      "Epoch 49/200\n",
      "17/17 [==============================] - 0s 27ms/step - loss: 0.0018 - val_loss: 0.0058\n",
      "Epoch 50/200\n",
      "17/17 [==============================] - 0s 27ms/step - loss: 0.0017 - val_loss: 0.0050\n",
      "Epoch 51/200\n",
      "17/17 [==============================] - 0s 27ms/step - loss: 0.0015 - val_loss: 0.0041\n",
      "Epoch 52/200\n",
      "17/17 [==============================] - 0s 27ms/step - loss: 0.0016 - val_loss: 0.0042\n",
      "Epoch 53/200\n",
      "17/17 [==============================] - 0s 27ms/step - loss: 0.0019 - val_loss: 0.0045\n",
      "Epoch 54/200\n",
      "17/17 [==============================] - 0s 27ms/step - loss: 0.0015 - val_loss: 0.0046\n",
      "Epoch 55/200\n",
      "17/17 [==============================] - 0s 27ms/step - loss: 0.0017 - val_loss: 0.0041\n",
      "Epoch 56/200\n",
      "17/17 [==============================] - 0s 29ms/step - loss: 0.0015 - val_loss: 0.0040\n",
      "Epoch 57/200\n",
      "17/17 [==============================] - 1s 31ms/step - loss: 0.0015 - val_loss: 0.0059\n",
      "Epoch 58/200\n",
      "17/17 [==============================] - 1s 29ms/step - loss: 0.0016 - val_loss: 0.0057\n",
      "Epoch 59/200\n",
      "17/17 [==============================] - 0s 28ms/step - loss: 0.0015 - val_loss: 0.0040\n",
      "Epoch 60/200\n",
      "17/17 [==============================] - 1s 30ms/step - loss: 0.0015 - val_loss: 0.0049\n",
      "Epoch 61/200\n",
      "17/17 [==============================] - 1s 32ms/step - loss: 0.0017 - val_loss: 0.0045\n",
      "Epoch 62/200\n",
      "17/17 [==============================] - 0s 28ms/step - loss: 0.0014 - val_loss: 0.0043\n",
      "Epoch 63/200\n",
      "17/17 [==============================] - 0s 27ms/step - loss: 0.0014 - val_loss: 0.0049\n",
      "Epoch 64/200\n",
      "17/17 [==============================] - 0s 28ms/step - loss: 0.0015 - val_loss: 0.0042\n",
      "Epoch 65/200\n",
      "17/17 [==============================] - 0s 28ms/step - loss: 0.0015 - val_loss: 0.0043\n",
      "Epoch 66/200\n",
      "17/17 [==============================] - 0s 28ms/step - loss: 0.0013 - val_loss: 0.0040\n",
      "Epoch 67/200\n",
      "17/17 [==============================] - 0s 27ms/step - loss: 0.0017 - val_loss: 0.0054\n",
      "Epoch 68/200\n",
      "17/17 [==============================] - 0s 27ms/step - loss: 0.0014 - val_loss: 0.0043\n",
      "Epoch 69/200\n",
      "17/17 [==============================] - 0s 27ms/step - loss: 0.0014 - val_loss: 0.0050\n",
      "Epoch 70/200\n",
      "17/17 [==============================] - 0s 27ms/step - loss: 0.0014 - val_loss: 0.0041\n",
      "Epoch 71/200\n",
      "17/17 [==============================] - 0s 29ms/step - loss: 0.0013 - val_loss: 0.0043\n",
      "Epoch 72/200\n",
      "17/17 [==============================] - 0s 27ms/step - loss: 0.0015 - val_loss: 0.0042\n",
      "Epoch 73/200\n",
      "17/17 [==============================] - 0s 29ms/step - loss: 0.0014 - val_loss: 0.0045\n",
      "Epoch 74/200\n",
      "17/17 [==============================] - 0s 27ms/step - loss: 0.0014 - val_loss: 0.0045\n",
      "Epoch 75/200\n",
      "17/17 [==============================] - 0s 27ms/step - loss: 0.0013 - val_loss: 0.0041\n",
      "Epoch 76/200\n",
      "17/17 [==============================] - 0s 29ms/step - loss: 0.0013 - val_loss: 0.0049\n",
      "Epoch 77/200\n",
      "17/17 [==============================] - 0s 27ms/step - loss: 0.0013 - val_loss: 0.0040\n",
      "Epoch 78/200\n",
      "17/17 [==============================] - 0s 28ms/step - loss: 0.0014 - val_loss: 0.0039\n",
      "Epoch 79/200\n",
      "17/17 [==============================] - 0s 28ms/step - loss: 0.0012 - val_loss: 0.0039\n",
      "Epoch 80/200\n",
      "17/17 [==============================] - 0s 28ms/step - loss: 0.0014 - val_loss: 0.0053\n",
      "Epoch 81/200\n",
      "17/17 [==============================] - 0s 27ms/step - loss: 0.0012 - val_loss: 0.0044\n",
      "Epoch 82/200\n",
      "17/17 [==============================] - 0s 28ms/step - loss: 0.0014 - val_loss: 0.0044\n",
      "Epoch 83/200\n",
      "17/17 [==============================] - 0s 29ms/step - loss: 0.0012 - val_loss: 0.0040\n",
      "Epoch 84/200\n",
      "17/17 [==============================] - 0s 28ms/step - loss: 0.0012 - val_loss: 0.0057\n",
      "Epoch 85/200\n",
      "17/17 [==============================] - 0s 27ms/step - loss: 0.0015 - val_loss: 0.0039\n",
      "Epoch 86/200\n",
      "17/17 [==============================] - 0s 27ms/step - loss: 0.0013 - val_loss: 0.0039\n",
      "Epoch 87/200\n",
      "17/17 [==============================] - 0s 27ms/step - loss: 0.0012 - val_loss: 0.0041\n",
      "Epoch 88/200\n",
      "17/17 [==============================] - 0s 27ms/step - loss: 0.0012 - val_loss: 0.0042\n",
      "Epoch 89/200\n",
      "17/17 [==============================] - 0s 28ms/step - loss: 0.0012 - val_loss: 0.0038\n",
      "Epoch 90/200\n",
      "17/17 [==============================] - 0s 29ms/step - loss: 0.0012 - val_loss: 0.0039\n",
      "Epoch 91/200\n",
      "17/17 [==============================] - 0s 28ms/step - loss: 0.0011 - val_loss: 0.0041\n",
      "Epoch 92/200\n",
      "17/17 [==============================] - 0s 29ms/step - loss: 0.0011 - val_loss: 0.0052\n",
      "Epoch 93/200\n",
      "17/17 [==============================] - 1s 30ms/step - loss: 0.0012 - val_loss: 0.0036\n",
      "Epoch 94/200\n",
      "17/17 [==============================] - 1s 30ms/step - loss: 0.0013 - val_loss: 0.0039\n",
      "Epoch 95/200\n",
      "17/17 [==============================] - 0s 28ms/step - loss: 0.0013 - val_loss: 0.0046\n",
      "Epoch 96/200\n",
      "17/17 [==============================] - 0s 28ms/step - loss: 0.0012 - val_loss: 0.0046\n",
      "Epoch 97/200\n",
      "17/17 [==============================] - 0s 27ms/step - loss: 0.0011 - val_loss: 0.0044\n",
      "Epoch 98/200\n",
      "17/17 [==============================] - 0s 28ms/step - loss: 0.0011 - val_loss: 0.0039\n",
      "Epoch 99/200\n",
      "17/17 [==============================] - 1s 31ms/step - loss: 0.0012 - val_loss: 0.0045\n",
      "Epoch 100/200\n",
      "17/17 [==============================] - 0s 29ms/step - loss: 0.0012 - val_loss: 0.0046\n",
      "Epoch 101/200\n",
      "17/17 [==============================] - 0s 28ms/step - loss: 0.0012 - val_loss: 0.0044\n",
      "Epoch 102/200\n",
      "17/17 [==============================] - 0s 27ms/step - loss: 0.0011 - val_loss: 0.0037\n",
      "Epoch 103/200\n",
      "17/17 [==============================] - 0s 27ms/step - loss: 9.8259e-04 - val_loss: 0.0055\n",
      "Epoch 104/200\n",
      "17/17 [==============================] - 0s 27ms/step - loss: 0.0012 - val_loss: 0.0037\n",
      "Epoch 105/200\n",
      "17/17 [==============================] - 0s 28ms/step - loss: 0.0011 - val_loss: 0.0044\n",
      "Epoch 106/200\n",
      "17/17 [==============================] - 0s 27ms/step - loss: 0.0011 - val_loss: 0.0048\n",
      "Epoch 107/200\n",
      "17/17 [==============================] - 0s 27ms/step - loss: 0.0011 - val_loss: 0.0039\n",
      "Epoch 108/200\n",
      "17/17 [==============================] - 0s 27ms/step - loss: 0.0012 - val_loss: 0.0039\n",
      "Epoch 109/200\n",
      "17/17 [==============================] - 0s 27ms/step - loss: 0.0011 - val_loss: 0.0040\n",
      "Epoch 110/200\n",
      "17/17 [==============================] - 0s 27ms/step - loss: 0.0011 - val_loss: 0.0036\n",
      "Epoch 111/200\n",
      "17/17 [==============================] - 0s 27ms/step - loss: 0.0011 - val_loss: 0.0038\n",
      "Epoch 112/200\n",
      "17/17 [==============================] - 0s 29ms/step - loss: 0.0012 - val_loss: 0.0044\n",
      "Epoch 113/200\n",
      "17/17 [==============================] - 0s 29ms/step - loss: 0.0012 - val_loss: 0.0044\n",
      "Epoch 114/200\n",
      "17/17 [==============================] - 0s 28ms/step - loss: 0.0011 - val_loss: 0.0043\n",
      "Epoch 115/200\n",
      "17/17 [==============================] - 0s 27ms/step - loss: 0.0012 - val_loss: 0.0044\n",
      "Epoch 116/200\n",
      "17/17 [==============================] - 0s 27ms/step - loss: 0.0012 - val_loss: 0.0038\n",
      "Epoch 117/200\n",
      "17/17 [==============================] - 0s 29ms/step - loss: 0.0011 - val_loss: 0.0042\n",
      "Epoch 118/200\n",
      "17/17 [==============================] - 0s 27ms/step - loss: 0.0010 - val_loss: 0.0038\n",
      "Epoch 119/200\n",
      "17/17 [==============================] - 0s 28ms/step - loss: 9.9481e-04 - val_loss: 0.0036\n",
      "Epoch 120/200\n",
      "17/17 [==============================] - 0s 30ms/step - loss: 0.0011 - val_loss: 0.0040\n",
      "Epoch 121/200\n",
      "17/17 [==============================] - 0s 28ms/step - loss: 0.0010 - val_loss: 0.0039\n",
      "Epoch 122/200\n",
      "17/17 [==============================] - 0s 28ms/step - loss: 9.4326e-04 - val_loss: 0.0044\n",
      "Epoch 123/200\n",
      "17/17 [==============================] - 0s 27ms/step - loss: 9.2266e-04 - val_loss: 0.0042\n",
      "Epoch 124/200\n",
      "17/17 [==============================] - 0s 28ms/step - loss: 8.9457e-04 - val_loss: 0.0046\n",
      "Epoch 125/200\n",
      "17/17 [==============================] - 0s 29ms/step - loss: 9.6498e-04 - val_loss: 0.0037\n",
      "Epoch 126/200\n",
      "17/17 [==============================] - 0s 27ms/step - loss: 9.3083e-04 - val_loss: 0.0038\n",
      "Epoch 127/200\n",
      "17/17 [==============================] - 0s 28ms/step - loss: 9.4598e-04 - val_loss: 0.0041\n",
      "Epoch 128/200\n",
      "17/17 [==============================] - 1s 30ms/step - loss: 9.1757e-04 - val_loss: 0.0041\n",
      "Epoch 129/200\n",
      "17/17 [==============================] - 1s 30ms/step - loss: 8.6864e-04 - val_loss: 0.0043\n",
      "Epoch 130/200\n",
      "17/17 [==============================] - 0s 28ms/step - loss: 9.5064e-04 - val_loss: 0.0042\n",
      "Epoch 131/200\n",
      "17/17 [==============================] - 0s 27ms/step - loss: 9.5288e-04 - val_loss: 0.0038\n",
      "Epoch 132/200\n",
      "17/17 [==============================] - 0s 28ms/step - loss: 8.9098e-04 - val_loss: 0.0040\n",
      "Epoch 133/200\n",
      "17/17 [==============================] - 0s 27ms/step - loss: 9.2176e-04 - val_loss: 0.0037\n",
      "Epoch 134/200\n",
      "17/17 [==============================] - 0s 28ms/step - loss: 8.8707e-04 - val_loss: 0.0039\n",
      "Epoch 135/200\n",
      "17/17 [==============================] - 0s 28ms/step - loss: 8.9047e-04 - val_loss: 0.0039\n",
      "Epoch 136/200\n",
      "17/17 [==============================] - 0s 28ms/step - loss: 9.2682e-04 - val_loss: 0.0048\n",
      "Epoch 137/200\n",
      "17/17 [==============================] - 0s 29ms/step - loss: 0.0010 - val_loss: 0.0047\n",
      "Epoch 138/200\n",
      "17/17 [==============================] - 0s 29ms/step - loss: 8.8689e-04 - val_loss: 0.0040\n",
      "Epoch 139/200\n",
      "17/17 [==============================] - 0s 28ms/step - loss: 9.3102e-04 - val_loss: 0.0037\n",
      "Epoch 140/200\n",
      "17/17 [==============================] - 0s 27ms/step - loss: 9.1034e-04 - val_loss: 0.0034\n",
      "Epoch 141/200\n",
      "17/17 [==============================] - 0s 28ms/step - loss: 8.5904e-04 - val_loss: 0.0037\n",
      "Epoch 142/200\n",
      "17/17 [==============================] - 0s 28ms/step - loss: 8.2110e-04 - val_loss: 0.0038\n",
      "Epoch 143/200\n",
      "17/17 [==============================] - 0s 27ms/step - loss: 8.3119e-04 - val_loss: 0.0038\n",
      "Epoch 144/200\n",
      "17/17 [==============================] - 0s 27ms/step - loss: 9.2844e-04 - val_loss: 0.0041\n",
      "Epoch 145/200\n",
      "17/17 [==============================] - 0s 27ms/step - loss: 9.2830e-04 - val_loss: 0.0041\n",
      "Epoch 146/200\n",
      "17/17 [==============================] - 0s 27ms/step - loss: 9.4787e-04 - val_loss: 0.0041\n",
      "Epoch 147/200\n",
      "17/17 [==============================] - 0s 28ms/step - loss: 9.9835e-04 - val_loss: 0.0053\n",
      "Epoch 148/200\n",
      "17/17 [==============================] - 0s 30ms/step - loss: 0.0010 - val_loss: 0.0037\n",
      "Epoch 149/200\n",
      "17/17 [==============================] - 1s 30ms/step - loss: 8.2654e-04 - val_loss: 0.0039\n",
      "Epoch 150/200\n",
      "17/17 [==============================] - 1s 31ms/step - loss: 8.3446e-04 - val_loss: 0.0040\n",
      "Epoch 151/200\n",
      "17/17 [==============================] - 1s 30ms/step - loss: 7.8294e-04 - val_loss: 0.0037\n",
      "Epoch 152/200\n",
      "17/17 [==============================] - 0s 28ms/step - loss: 8.8872e-04 - val_loss: 0.0037\n",
      "Epoch 153/200\n",
      "17/17 [==============================] - 0s 28ms/step - loss: 9.7392e-04 - val_loss: 0.0034\n",
      "Epoch 154/200\n",
      "17/17 [==============================] - 0s 28ms/step - loss: 9.0737e-04 - val_loss: 0.0040\n",
      "Epoch 155/200\n",
      "17/17 [==============================] - 0s 30ms/step - loss: 8.5580e-04 - val_loss: 0.0035\n",
      "Epoch 156/200\n",
      "17/17 [==============================] - 0s 28ms/step - loss: 8.4263e-04 - val_loss: 0.0036\n",
      "Epoch 157/200\n",
      "17/17 [==============================] - 0s 28ms/step - loss: 7.9403e-04 - val_loss: 0.0037\n",
      "Epoch 158/200\n",
      "17/17 [==============================] - 0s 29ms/step - loss: 8.3801e-04 - val_loss: 0.0037\n",
      "Epoch 159/200\n",
      "17/17 [==============================] - 0s 28ms/step - loss: 8.4602e-04 - val_loss: 0.0036\n",
      "Epoch 160/200\n",
      "17/17 [==============================] - 0s 29ms/step - loss: 7.7267e-04 - val_loss: 0.0035\n",
      "Epoch 161/200\n"
     ]
    },
    {
     "name": "stdout",
     "output_type": "stream",
     "text": [
      "17/17 [==============================] - 1s 32ms/step - loss: 7.8283e-04 - val_loss: 0.0034\n",
      "Epoch 162/200\n",
      "17/17 [==============================] - 1s 31ms/step - loss: 7.9597e-04 - val_loss: 0.0042\n",
      "Epoch 163/200\n",
      "17/17 [==============================] - 0s 29ms/step - loss: 8.6875e-04 - val_loss: 0.0033\n",
      "Epoch 164/200\n",
      "17/17 [==============================] - 0s 27ms/step - loss: 8.2722e-04 - val_loss: 0.0032\n",
      "Epoch 165/200\n",
      "17/17 [==============================] - 0s 28ms/step - loss: 8.6050e-04 - val_loss: 0.0039\n",
      "Epoch 166/200\n",
      "17/17 [==============================] - 0s 27ms/step - loss: 7.9816e-04 - val_loss: 0.0036\n",
      "Epoch 167/200\n",
      "17/17 [==============================] - 0s 27ms/step - loss: 7.8194e-04 - val_loss: 0.0037\n",
      "Epoch 168/200\n",
      "17/17 [==============================] - 0s 27ms/step - loss: 9.0158e-04 - val_loss: 0.0033\n",
      "Epoch 169/200\n",
      "17/17 [==============================] - 0s 28ms/step - loss: 7.9289e-04 - val_loss: 0.0033\n",
      "Epoch 170/200\n",
      "17/17 [==============================] - 0s 27ms/step - loss: 7.5819e-04 - val_loss: 0.0035\n",
      "Epoch 171/200\n",
      "17/17 [==============================] - 0s 27ms/step - loss: 7.4046e-04 - val_loss: 0.0032\n",
      "Epoch 172/200\n",
      "17/17 [==============================] - 0s 28ms/step - loss: 7.9146e-04 - val_loss: 0.0038\n",
      "Epoch 173/200\n",
      "17/17 [==============================] - 0s 29ms/step - loss: 7.8840e-04 - val_loss: 0.0033\n",
      "Epoch 174/200\n",
      "17/17 [==============================] - 1s 32ms/step - loss: 8.5479e-04 - val_loss: 0.0037\n",
      "Epoch 175/200\n",
      "17/17 [==============================] - 0s 29ms/step - loss: 9.7806e-04 - val_loss: 0.0037\n",
      "Epoch 176/200\n",
      "17/17 [==============================] - 0s 29ms/step - loss: 7.9966e-04 - val_loss: 0.0036\n",
      "Epoch 177/200\n",
      "17/17 [==============================] - 0s 28ms/step - loss: 9.1290e-04 - val_loss: 0.0033\n",
      "Epoch 178/200\n",
      "17/17 [==============================] - 0s 28ms/step - loss: 8.1053e-04 - val_loss: 0.0034\n",
      "Epoch 179/200\n",
      "17/17 [==============================] - 0s 28ms/step - loss: 7.1838e-04 - val_loss: 0.0034\n",
      "Epoch 180/200\n",
      "17/17 [==============================] - 0s 29ms/step - loss: 7.5203e-04 - val_loss: 0.0036\n",
      "Epoch 181/200\n",
      "17/17 [==============================] - 0s 28ms/step - loss: 7.2516e-04 - val_loss: 0.0033\n",
      "Epoch 182/200\n",
      "17/17 [==============================] - 0s 28ms/step - loss: 7.8122e-04 - val_loss: 0.0035\n",
      "Epoch 183/200\n",
      "17/17 [==============================] - 0s 28ms/step - loss: 7.8068e-04 - val_loss: 0.0034\n",
      "Epoch 184/200\n",
      "17/17 [==============================] - 0s 28ms/step - loss: 8.6316e-04 - val_loss: 0.0038\n",
      "Epoch 185/200\n",
      "17/17 [==============================] - 0s 28ms/step - loss: 7.7010e-04 - val_loss: 0.0035\n",
      "Epoch 186/200\n",
      "17/17 [==============================] - 0s 29ms/step - loss: 8.1679e-04 - val_loss: 0.0036\n",
      "Epoch 187/200\n",
      "17/17 [==============================] - 0s 28ms/step - loss: 7.6857e-04 - val_loss: 0.0034\n",
      "Epoch 188/200\n",
      "17/17 [==============================] - 0s 29ms/step - loss: 7.3825e-04 - val_loss: 0.0032\n",
      "Epoch 189/200\n",
      "17/17 [==============================] - 0s 28ms/step - loss: 7.9969e-04 - val_loss: 0.0041\n",
      "Epoch 190/200\n",
      "17/17 [==============================] - 0s 28ms/step - loss: 9.2397e-04 - val_loss: 0.0036\n",
      "Epoch 191/200\n",
      "17/17 [==============================] - 0s 28ms/step - loss: 8.1596e-04 - val_loss: 0.0034\n",
      "Epoch 192/200\n",
      "17/17 [==============================] - 0s 29ms/step - loss: 7.3056e-04 - val_loss: 0.0031\n",
      "Epoch 193/200\n",
      "17/17 [==============================] - 0s 28ms/step - loss: 7.0760e-04 - val_loss: 0.0033\n",
      "Epoch 194/200\n",
      "17/17 [==============================] - 0s 28ms/step - loss: 7.1214e-04 - val_loss: 0.0034\n",
      "Epoch 195/200\n",
      "17/17 [==============================] - 0s 28ms/step - loss: 7.0276e-04 - val_loss: 0.0032\n",
      "Epoch 196/200\n",
      "17/17 [==============================] - 0s 29ms/step - loss: 7.1242e-04 - val_loss: 0.0034\n",
      "Epoch 197/200\n",
      "17/17 [==============================] - 0s 29ms/step - loss: 7.4467e-04 - val_loss: 0.0040\n",
      "Epoch 198/200\n",
      "17/17 [==============================] - 0s 28ms/step - loss: 7.5334e-04 - val_loss: 0.0032\n",
      "Epoch 199/200\n",
      "17/17 [==============================] - 0s 28ms/step - loss: 7.4741e-04 - val_loss: 0.0034\n",
      "Epoch 200/200\n",
      "17/17 [==============================] - 0s 28ms/step - loss: 8.7381e-04 - val_loss: 0.0038\n"
     ]
    },
    {
     "data": {
      "text/plain": [
       "<keras.callbacks.History at 0x28780209908>"
      ]
     },
     "execution_count": 27,
     "metadata": {},
     "output_type": "execute_result"
    }
   ],
   "source": [
    "model.fit(X_train, Y_train, validation_data=(X_test, Y_test), epochs=200, batch_size=32, verbose=1)"
   ]
  },
  {
   "cell_type": "code",
   "execution_count": 28,
   "id": "70978904",
   "metadata": {},
   "outputs": [
    {
     "data": {
      "text/plain": [
       "[<matplotlib.lines.Line2D at 0x287825721c8>]"
      ]
     },
     "execution_count": 28,
     "metadata": {},
     "output_type": "execute_result"
    },
    {
     "data": {
      "image/png": "[encoded data removed]",
      "text/plain": [
       "<Figure size 432x288 with 1 Axes>"
      ]
     },
     "metadata": {
      "needs_background": "light"
     },
     "output_type": "display_data"
    }
   ],
   "source": [
    "loss_per_epoch = model.history.history['loss']\n",
    "plt.plot(range(len(loss_per_epoch)), loss_per_epoch)"
   ]
  },
  {
   "cell_type": "code",
   "execution_count": 29,
   "id": "aedaea4a",
   "metadata": {},
   "outputs": [],
   "source": [
    "train_predict=model.predict(X_train)\n",
    "test_predict=model.predict(X_test)"
   ]
  },
  {
   "cell_type": "code",
   "execution_count": 30,
   "id": "891264b3",
   "metadata": {},
   "outputs": [],
   "source": [
    "# Transform back to original value\n",
    "train_predict=scaler.inverse_transform(train_predict)\n",
    "test_predict=scaler.inverse_transform(test_predict)"
   ]
  },
  {
   "cell_type": "code",
   "execution_count": 31,
   "id": "066295da",
   "metadata": {},
   "outputs": [
    {
     "data": {
      "text/plain": [
       "3086.163637916823"
      ]
     },
     "execution_count": 31,
     "metadata": {},
     "output_type": "execute_result"
    }
   ],
   "source": [
    "# Calculate RMSE performance metrics\n",
    "import math\n",
    "from sklearn.metrics import mean_squared_error\n",
    "math.sqrt(mean_squared_error(Y_train, train_predict))"
   ]
  },
  {
   "cell_type": "code",
   "execution_count": 32,
   "id": "c294771f",
   "metadata": {},
   "outputs": [
    {
     "data": {
      "text/plain": [
       "4503.448456460893"
      ]
     },
     "execution_count": 32,
     "metadata": {},
     "output_type": "execute_result"
    }
   ],
   "source": [
    "math.sqrt(mean_squared_error(Y_test, test_predict))"
   ]
  },
  {
   "cell_type": "code",
   "execution_count": 33,
   "id": "f604fd1e",
   "metadata": {},
   "outputs": [
    {
     "data": {
      "text/plain": [
       "array([[   30.288363],\n",
       "       [   29.014696],\n",
       "       [   27.467585],\n",
       "       [   36.073254],\n",
       "       [   38.38822 ],\n",
       "       [   44.94845 ],\n",
       "       [   42.05499 ],\n",
       "       [   34.426834],\n",
       "       [   32.323704],\n",
       "       [   34.13466 ],\n",
       "       [   39.74211 ],\n",
       "       [   37.312374],\n",
       "       [   37.359966],\n",
       "       [   45.8304  ],\n",
       "       [   41.047287],\n",
       "       [   31.802109],\n",
       "       [   33.943054],\n",
       "       [   43.75592 ],\n",
       "       [   44.69951 ],\n",
       "       [   44.514355],\n",
       "       [   39.609528],\n",
       "       [   33.030098],\n",
       "       [   33.402203],\n",
       "       [   34.159397],\n",
       "       [   34.218506],\n",
       "       [   30.755325],\n",
       "       [   32.66721 ],\n",
       "       [   37.78776 ],\n",
       "       [   38.29772 ],\n",
       "       [   38.371788],\n",
       "       [   33.972977],\n",
       "       [   32.218655],\n",
       "       [   38.29831 ],\n",
       "       [   32.572174],\n",
       "       [   36.797497],\n",
       "       [   43.24858 ],\n",
       "       [   40.256046],\n",
       "       [   40.202507],\n",
       "       [   41.71637 ],\n",
       "       [   30.2949  ],\n",
       "       [   43.63429 ],\n",
       "       [   43.89787 ],\n",
       "       [   42.559444],\n",
       "       [   44.20327 ],\n",
       "       [   54.369125],\n",
       "       [   58.8026  ],\n",
       "       [   56.591   ],\n",
       "       [   42.86028 ],\n",
       "       [   36.17147 ],\n",
       "       [   41.13941 ],\n",
       "       [   42.499985],\n",
       "       [   52.233242],\n",
       "       [   51.44424 ],\n",
       "       [   48.57761 ],\n",
       "       [   52.400166],\n",
       "       [   53.08132 ],\n",
       "       [   55.07001 ],\n",
       "       [   55.78739 ],\n",
       "       [   54.235744],\n",
       "       [   48.13229 ],\n",
       "       [   50.100307],\n",
       "       [   63.734283],\n",
       "       [   72.75956 ],\n",
       "       [   66.90113 ],\n",
       "       [   50.320713],\n",
       "       [   53.979763],\n",
       "       [   67.68622 ],\n",
       "       [   72.38165 ],\n",
       "       [   71.73454 ],\n",
       "       [  105.912865],\n",
       "       [  103.70203 ],\n",
       "       [   90.421486],\n",
       "       [  122.322296],\n",
       "       [  153.19415 ],\n",
       "       [  137.37807 ],\n",
       "       [  126.836876],\n",
       "       [  128.76947 ],\n",
       "       [  153.39676 ],\n",
       "       [  151.7773  ],\n",
       "       [  160.9329  ],\n",
       "       [  149.79617 ],\n",
       "       [  155.64769 ],\n",
       "       [  180.09055 ],\n",
       "       [  186.35313 ],\n",
       "       [  223.79016 ],\n",
       "       [  200.42036 ],\n",
       "       [  213.78313 ],\n",
       "       [  234.44916 ],\n",
       "       [  284.42944 ],\n",
       "       [  270.89548 ],\n",
       "       [  328.17978 ],\n",
       "       [  283.30026 ],\n",
       "       [  274.5836  ],\n",
       "       [  276.95184 ],\n",
       "       [  301.14792 ],\n",
       "       [  349.06488 ],\n",
       "       [  334.13907 ],\n",
       "       [  275.69403 ],\n",
       "       [  301.7821  ],\n",
       "       [  372.66074 ],\n",
       "       [  432.81458 ],\n",
       "       [  377.78867 ],\n",
       "       [  356.65704 ],\n",
       "       [  389.2501  ],\n",
       "       [  449.36624 ],\n",
       "       [  498.93192 ],\n",
       "       [  464.6787  ],\n",
       "       [  429.64557 ],\n",
       "       [  388.42947 ],\n",
       "       [  404.25354 ],\n",
       "       [  433.99918 ],\n",
       "       [  478.06308 ],\n",
       "       [  507.34946 ],\n",
       "       [  519.7131  ],\n",
       "       [  476.6767  ],\n",
       "       [  456.6818  ],\n",
       "       [  477.9971  ],\n",
       "       [  522.05664 ],\n",
       "       [  591.13776 ],\n",
       "       [  644.16223 ],\n",
       "       [  700.6882  ],\n",
       "       [  716.9801  ],\n",
       "       [  828.46936 ],\n",
       "       [  907.9146  ],\n",
       "       [  915.4361  ],\n",
       "       [ 1021.30023 ],\n",
       "       [ 1270.1458  ],\n",
       "       [ 1202.1434  ],\n",
       "       [ 1111.2986  ],\n",
       "       [ 1194.9513  ],\n",
       "       [ 1212.1244  ],\n",
       "       [ 1197.4579  ],\n",
       "       [ 1171.1555  ],\n",
       "       [ 1260.5671  ],\n",
       "       [ 1175.0752  ],\n",
       "       [ 1202.2784  ],\n",
       "       [ 1311.1588  ],\n",
       "       [ 1171.0597  ],\n",
       "       [ 1158.0657  ],\n",
       "       [ 1259.905   ],\n",
       "       [ 1241.7295  ],\n",
       "       [ 1263.3016  ],\n",
       "       [ 1157.0138  ],\n",
       "       [ 1144.8715  ],\n",
       "       [ 1243.3652  ],\n",
       "       [ 1258.7876  ],\n",
       "       [ 1206.4037  ],\n",
       "       [ 1136.7395  ],\n",
       "       [ 1157.1567  ],\n",
       "       [ 1244.2101  ],\n",
       "       [ 1241.7163  ],\n",
       "       [ 1097.2496  ],\n",
       "       [ 1136.8307  ],\n",
       "       [ 1147.61    ],\n",
       "       [ 1182.9314  ],\n",
       "       [ 1171.0048  ],\n",
       "       [ 1180.0358  ],\n",
       "       [ 1235.7263  ],\n",
       "       [ 1128.3688  ],\n",
       "       [ 1115.0868  ],\n",
       "       [ 1178.6517  ],\n",
       "       [ 1205.78    ],\n",
       "       [ 1110.7155  ],\n",
       "       [ 1144.276   ],\n",
       "       [ 1201.6526  ],\n",
       "       [ 1149.7013  ],\n",
       "       [ 1061.7013  ],\n",
       "       [ 1039.5281  ],\n",
       "       [ 1083.0735  ],\n",
       "       [ 1108.2244  ],\n",
       "       [ 1065.0558  ],\n",
       "       [  993.7091  ],\n",
       "       [  904.671   ],\n",
       "       [  862.66876 ],\n",
       "       [  865.0545  ],\n",
       "       [  871.7817  ],\n",
       "       [  858.8755  ],\n",
       "       [  881.02985 ],\n",
       "       [  784.90485 ],\n",
       "       [  775.2762  ],\n",
       "       [  742.0958  ],\n",
       "       [  745.64856 ],\n",
       "       [  701.88385 ],\n",
       "       [  631.3609  ],\n",
       "       [  625.81714 ],\n",
       "       [  569.0761  ],\n",
       "       [  671.3269  ],\n",
       "       [  581.26013 ],\n",
       "       [  559.8947  ],\n",
       "       [  579.4385  ],\n",
       "       [  571.8177  ],\n",
       "       [  753.3219  ],\n",
       "       [  743.8636  ],\n",
       "       [  669.496   ],\n",
       "       [  753.6094  ],\n",
       "       [  679.0151  ],\n",
       "       [  734.35626 ],\n",
       "       [  869.13525 ],\n",
       "       [ 1031.9196  ],\n",
       "       [ 1055.4857  ],\n",
       "       [  969.1269  ],\n",
       "       [  965.53174 ],\n",
       "       [ 1102.1382  ],\n",
       "       [ 1265.6809  ],\n",
       "       [ 1384.4182  ],\n",
       "       [ 1567.4749  ],\n",
       "       [ 1508.4518  ],\n",
       "       [ 1276.0873  ],\n",
       "       [ 1191.3329  ],\n",
       "       [ 1359.431   ],\n",
       "       [ 1428.2778  ],\n",
       "       [ 1575.7883  ],\n",
       "       [ 1541.2706  ],\n",
       "       [ 1445.591   ],\n",
       "       [ 1229.5667  ],\n",
       "       [ 1160.6328  ],\n",
       "       [ 1283.1179  ],\n",
       "       [ 1391.8729  ],\n",
       "       [ 1349.8323  ],\n",
       "       [ 1334.8622  ],\n",
       "       [ 1229.7461  ],\n",
       "       [ 1203.1104  ],\n",
       "       [ 1126.5078  ],\n",
       "       [ 1167.8916  ],\n",
       "       [ 1247.0249  ],\n",
       "       [ 1313.6986  ],\n",
       "       [ 1212.661   ],\n",
       "       [ 1221.8529  ],\n",
       "       [ 1275.8652  ],\n",
       "       [ 1127.7604  ],\n",
       "       [ 1092.0273  ],\n",
       "       [ 1328.5095  ],\n",
       "       [ 1476.7516  ],\n",
       "       [ 1699.4697  ],\n",
       "       [ 1673.6998  ],\n",
       "       [ 1577.4509  ],\n",
       "       [ 1495.0287  ],\n",
       "       [ 1803.595   ],\n",
       "       [ 2030.6085  ],\n",
       "       [ 2189.2524  ],\n",
       "       [ 2188.0566  ],\n",
       "       [ 2121.3003  ],\n",
       "       [ 1985.1246  ],\n",
       "       [ 2176.3335  ],\n",
       "       [ 2367.415   ],\n",
       "       [ 2441.0002  ],\n",
       "       [ 2371.491   ],\n",
       "       [ 2229.382   ],\n",
       "       [ 2038.6542  ],\n",
       "       [ 2049.1338  ],\n",
       "       [ 2109.8113  ],\n",
       "       [ 2390.1033  ],\n",
       "       [ 2494.4712  ],\n",
       "       [ 2711.442   ],\n",
       "       [ 2677.6704  ],\n",
       "       [ 2629.2202  ],\n",
       "       [ 2580.4526  ],\n",
       "       [ 2770.9836  ],\n",
       "       [ 3336.8516  ],\n",
       "       [ 3473.5835  ],\n",
       "       [ 3100.5532  ],\n",
       "       [ 3273.4531  ],\n",
       "       [ 3365.1038  ],\n",
       "       [ 2990.2612  ],\n",
       "       [ 2920.9502  ],\n",
       "       [ 3543.2385  ],\n",
       "       [ 3599.4333  ],\n",
       "       [ 3792.0825  ],\n",
       "       [ 3517.4622  ],\n",
       "       [ 3422.2024  ],\n",
       "       [ 2997.878   ],\n",
       "       [ 2875.3792  ],\n",
       "       [ 2773.0027  ],\n",
       "       [ 3142.4197  ],\n",
       "       [ 3499.5503  ],\n",
       "       [ 3482.13    ],\n",
       "       [ 3210.888   ],\n",
       "       [ 3081.6587  ],\n",
       "       [ 3077.4138  ],\n",
       "       [ 3411.0217  ],\n",
       "       [ 3752.9067  ],\n",
       "       [ 3757.8655  ],\n",
       "       [ 3207.8657  ],\n",
       "       [ 3663.01    ],\n",
       "       [ 3435.261   ],\n",
       "       [ 3413.9495  ],\n",
       "       [ 3382.5747  ],\n",
       "       [ 3062.4844  ],\n",
       "       [ 3510.0186  ],\n",
       "       [ 3410.3533  ],\n",
       "       [ 3033.4124  ],\n",
       "       [ 2551.8752  ],\n",
       "       [ 2358.0195  ],\n",
       "       [ 2283.3562  ],\n",
       "       [ 2125.5828  ],\n",
       "       [ 2317.738   ],\n",
       "       [ 2539.0576  ],\n",
       "       [ 2299.8088  ],\n",
       "       [ 1874.0548  ],\n",
       "       [ 1298.6487  ],\n",
       "       [ 1365.3706  ],\n",
       "       [ 1776.4025  ],\n",
       "       [ 1970.8909  ],\n",
       "       [ 1890.      ],\n",
       "       [ 1720.3119  ],\n",
       "       [ 1465.1108  ],\n",
       "       [  995.27844 ],\n",
       "       [ 1148.0348  ],\n",
       "       [ 1599.3135  ],\n",
       "       [ 1594.2281  ],\n",
       "       [ 1589.7651  ],\n",
       "       [ 1539.8579  ],\n",
       "       [ 1410.6451  ],\n",
       "       [ 1083.8286  ],\n",
       "       [ 1088.2683  ],\n",
       "       [ 1462.523   ],\n",
       "       [ 1736.6075  ],\n",
       "       [ 1489.0608  ],\n",
       "       [ 1275.0142  ],\n",
       "       [ 1251.261   ],\n",
       "       [ 1068.6033  ],\n",
       "       [ 1166.5377  ],\n",
       "       [ 1403.0884  ],\n",
       "       [ 1445.7805  ],\n",
       "       [ 1515.5139  ],\n",
       "       [ 1418.8702  ],\n",
       "       [ 1334.8633  ],\n",
       "       [ 1201.6304  ],\n",
       "       [ 1283.0168  ],\n",
       "       [ 1641.6672  ],\n",
       "       [ 1610.8495  ],\n",
       "       [ 1401.6787  ],\n",
       "       [ 1227.869   ],\n",
       "       [ 1018.36273 ],\n",
       "       [  911.39136 ],\n",
       "       [ 1125.9397  ],\n",
       "       [ 1339.462   ],\n",
       "       [ 1280.6396  ],\n",
       "       [ 1016.5055  ],\n",
       "       [  675.2478  ],\n",
       "       [  536.0289  ],\n",
       "       [  615.1138  ],\n",
       "       [  816.9225  ],\n",
       "       [  984.3711  ],\n",
       "       [  848.0972  ],\n",
       "       [  632.4207  ],\n",
       "       [  535.9126  ],\n",
       "       [  492.62915 ],\n",
       "       [  644.3486  ],\n",
       "       [  740.18427 ],\n",
       "       [  993.37933 ],\n",
       "       [  917.1656  ],\n",
       "       [  781.9697  ],\n",
       "       [  668.48175 ],\n",
       "       [  716.8488  ],\n",
       "       [  712.9921  ],\n",
       "       [  824.9572  ],\n",
       "       [ 1103.151   ],\n",
       "       [  999.8543  ],\n",
       "       [  806.2093  ],\n",
       "       [  657.3928  ],\n",
       "       [  616.90076 ],\n",
       "       [  625.5183  ],\n",
       "       [  778.70374 ],\n",
       "       [  943.55634 ],\n",
       "       [  849.19574 ],\n",
       "       [  712.7525  ],\n",
       "       [  574.8152  ],\n",
       "       [  536.57196 ],\n",
       "       [  527.55426 ],\n",
       "       [  734.598   ],\n",
       "       [  870.3776  ],\n",
       "       [  811.3946  ],\n",
       "       [  661.5767  ],\n",
       "       [  577.94855 ],\n",
       "       [  549.20166 ],\n",
       "       [  525.9045  ],\n",
       "       [  641.53735 ],\n",
       "       [  743.8088  ],\n",
       "       [  672.2128  ],\n",
       "       [  438.81952 ],\n",
       "       [  288.20526 ],\n",
       "       [  320.305   ],\n",
       "       [  330.40405 ],\n",
       "       [  425.21533 ],\n",
       "       [  526.1997  ],\n",
       "       [  507.56885 ],\n",
       "       [  505.98444 ],\n",
       "       [  534.0383  ],\n",
       "       [  627.3392  ],\n",
       "       [  613.9079  ],\n",
       "       [  715.93713 ],\n",
       "       [  884.3649  ],\n",
       "       [  785.1928  ],\n",
       "       [  745.7491  ],\n",
       "       [  775.80743 ],\n",
       "       [  688.2548  ],\n",
       "       [  634.71045 ],\n",
       "       [  715.14404 ],\n",
       "       [  822.9757  ],\n",
       "       [  908.25635 ],\n",
       "       [ 1042.3586  ],\n",
       "       [  909.23505 ],\n",
       "       [  896.6601  ],\n",
       "       [  802.6102  ],\n",
       "       [ 1148.6562  ],\n",
       "       [ 1814.7379  ],\n",
       "       [ 2318.667   ],\n",
       "       [ 2574.1833  ],\n",
       "       [ 2802.1492  ],\n",
       "       [ 3005.611   ],\n",
       "       [ 2751.3     ],\n",
       "       [ 3256.6492  ],\n",
       "       [ 4637.2744  ],\n",
       "       [ 5714.787   ],\n",
       "       [ 6022.9067  ],\n",
       "       [ 6031.664   ],\n",
       "       [ 5623.838   ],\n",
       "       [ 4913.7085  ],\n",
       "       [ 5961.2046  ],\n",
       "       [ 8200.823   ],\n",
       "       [ 9024.03    ],\n",
       "       [10000.192   ],\n",
       "       [ 9795.371   ],\n",
       "       [ 8870.063   ],\n",
       "       [ 8605.801   ],\n",
       "       [ 9546.841   ],\n",
       "       [10218.413   ],\n",
       "       [11350.497   ],\n",
       "       [11710.646   ],\n",
       "       [11808.649   ],\n",
       "       [11789.409   ],\n",
       "       [11294.307   ],\n",
       "       [11695.362   ],\n",
       "       [14355.97    ],\n",
       "       [15704.872   ],\n",
       "       [15798.212   ],\n",
       "       [15220.77    ],\n",
       "       [15578.123   ],\n",
       "       [14441.757   ],\n",
       "       [14262.829   ],\n",
       "       [13675.353   ],\n",
       "       [12567.843   ],\n",
       "       [ 9747.503   ],\n",
       "       [ 7586.024   ],\n",
       "       [ 5756.9556  ],\n",
       "       [ 6044.475   ],\n",
       "       [ 6761.892   ],\n",
       "       [ 8235.32    ],\n",
       "       [ 9411.194   ],\n",
       "       [ 8358.322   ],\n",
       "       [ 4288.5776  ],\n",
       "       [ 3952.073   ],\n",
       "       [ 5419.4014  ],\n",
       "       [ 5332.2617  ],\n",
       "       [ 4291.988   ],\n",
       "       [ 3387.6213  ],\n",
       "       [ 2797.229   ],\n",
       "       [ 2416.697   ],\n",
       "       [ 2134.1816  ],\n",
       "       [ 2136.641   ],\n",
       "       [ 2348.873   ],\n",
       "       [ 2237.2668  ],\n",
       "       [ 2002.5339  ],\n",
       "       [ 1729.5262  ],\n",
       "       [ 1492.3517  ],\n",
       "       [ 1284.4742  ],\n",
       "       [ 1394.6324  ],\n",
       "       [ 1579.726   ],\n",
       "       [ 1441.6151  ],\n",
       "       [ 1266.7865  ],\n",
       "       [ 1104.2242  ],\n",
       "       [  968.01776 ],\n",
       "       [  853.99115 ],\n",
       "       [  916.569   ],\n",
       "       [ 1011.0772  ],\n",
       "       [  945.9066  ],\n",
       "       [  834.2535  ],\n",
       "       [  668.3536  ],\n",
       "       [  524.6439  ],\n",
       "       [  476.4315  ],\n",
       "       [  524.9913  ],\n",
       "       [  612.94995 ],\n",
       "       [  565.4411  ],\n",
       "       [  464.36377 ],\n",
       "       [  319.637   ],\n",
       "       [  232.0066  ],\n",
       "       [  202.84137 ],\n",
       "       [  244.05795 ],\n",
       "       [  334.2036  ],\n",
       "       [  287.1939  ],\n",
       "       [  196.53296 ],\n",
       "       [  138.07391 ],\n",
       "       [  120.70419 ],\n",
       "       [  140.15251 ],\n",
       "       [  180.29608 ],\n",
       "       [  217.72769 ],\n",
       "       [  171.90105 ],\n",
       "       [  108.357735],\n",
       "       [   72.6483  ],\n",
       "       [   89.223564],\n",
       "       [  106.04236 ],\n",
       "       [  128.56471 ],\n",
       "       [  147.01112 ],\n",
       "       [  108.27578 ],\n",
       "       [   72.7838  ],\n",
       "       [   55.70534 ],\n",
       "       [   55.98724 ],\n",
       "       [   67.48204 ],\n",
       "       [   83.86202 ],\n",
       "       [   97.366035],\n",
       "       [   74.88448 ],\n",
       "       [   49.32202 ],\n",
       "       [   31.60915 ],\n",
       "       [   40.711823],\n",
       "       [   53.53412 ],\n",
       "       [   67.132904],\n",
       "       [   77.24525 ],\n",
       "       [   64.37112 ],\n",
       "       [   45.85499 ],\n",
       "       [   35.450645],\n",
       "       [   34.50267 ],\n",
       "       [   47.640587],\n",
       "       [   53.005047],\n",
       "       [   70.234726],\n",
       "       [   62.947845],\n",
       "       [   48.95796 ],\n",
       "       [   35.273884],\n",
       "       [   40.03567 ],\n",
       "       [   41.272377],\n",
       "       [   58.68306 ],\n",
       "       [   79.485535],\n",
       "       [   52.914455],\n",
       "       [   32.83611 ],\n",
       "       [   34.406162],\n",
       "       [   44.880863],\n",
       "       [   55.633926],\n",
       "       [   61.518562],\n",
       "       [   57.345783],\n",
       "       [   44.959583],\n",
       "       [   33.997715],\n",
       "       [   33.678062],\n",
       "       [   38.01765 ]], dtype=float32)"
      ]
     },
     "execution_count": 33,
     "metadata": {},
     "output_type": "execute_result"
    }
   ],
   "source": [
    "train_predict"
   ]
  },
  {
   "cell_type": "code",
   "execution_count": 34,
   "id": "32b7ffe3",
   "metadata": {
    "scrolled": true
   },
   "outputs": [
    {
     "data": {
      "image/png": "[encoded data removed]",
      "text/plain": [
       "<Figure size 432x288 with 1 Axes>"
      ]
     },
     "metadata": {
      "needs_background": "light"
     },
     "output_type": "display_data"
    }
   ],
   "source": [
    "# Plot \n",
    "look_back = 30\n",
    "trainPredictPlot = np.empty_like(df)\n",
    "trainPredictPlot[:, :] = np.nan\n",
    "trainPredictPlot[look_back:len(train_predict)+look_back, :] = train_predict\n",
    "\n",
    "#shift test predict\n",
    "testPredictPlot = np.empty_like(df)\n",
    "testPredictPlot[:, :] = np.nan\n",
    "testPredictPlot[len(train_predict)+(look_back*2)+1:len(df)-1, :] = test_predict\n",
    "\n",
    "#plot baseline\n",
    "plt.plot(scaler.inverse_transform(df))\n",
    "plt.plot(scaler.inverse_transform(trainPredictPlot))\n",
    "plt.plot(scaler.inverse_transform(testPredictPlot))\n",
    "plt.show()"
   ]
  },
  {
   "cell_type": "code",
   "execution_count": 35,
   "id": "7bed18aa",
   "metadata": {},
   "outputs": [
    {
     "data": {
      "image/png": "[encoded data removed]",
      "text/plain": [
       "<Figure size 432x288 with 1 Axes>"
      ]
     },
     "metadata": {
      "needs_background": "light"
     },
     "output_type": "display_data"
    }
   ],
   "source": [
    "#shift test predict\n",
    "testPredictPlot = np.empty_like(df)\n",
    "testPredictPlot[:, :] = np.nan\n",
    "testPredictPlot[len(train_predict)+(look_back*2)+1:len(df)-1, :] = test_predict\n",
    "\n",
    "#plot baseline\n",
    "plt.plot(scaler.inverse_transform(df))\n",
    "plt.plot(scaler.inverse_transform(testPredictPlot))\n",
    "plt.xlim(X_train.shape[0], df.shape[0])\n",
    "plt.show()"
   ]
  },
  {
   "cell_type": "code",
   "execution_count": 36,
   "id": "1355b3d3",
   "metadata": {},
   "outputs": [
    {
     "data": {
      "text/plain": [
       "192"
      ]
     },
     "execution_count": 36,
     "metadata": {},
     "output_type": "execute_result"
    }
   ],
   "source": [
    "len(test_data)"
   ]
  },
  {
   "cell_type": "code",
   "execution_count": 37,
   "id": "0767587c",
   "metadata": {},
   "outputs": [
    {
     "data": {
      "text/plain": [
       "(1, 30)"
      ]
     },
     "execution_count": 37,
     "metadata": {},
     "output_type": "execute_result"
    }
   ],
   "source": [
    "x_input=test_data[162:].reshape(1,-1) #test data - step(30)\n",
    "x_input.shape"
   ]
  },
  {
   "cell_type": "code",
   "execution_count": 38,
   "id": "2f64bd8f",
   "metadata": {},
   "outputs": [],
   "source": [
    "temp_input=list(x_input)\n",
    "temp_input=temp_input[0].tolist()"
   ]
  },
  {
   "cell_type": "code",
   "execution_count": 39,
   "id": "9594be28",
   "metadata": {
    "scrolled": true
   },
   "outputs": [
    {
     "data": {
      "text/plain": [
       "[0.04174308851361275,\n",
       " 0.036556825041770935,\n",
       " 0.027575738728046417,\n",
       " 0.02245272323489189,\n",
       " 0.018847638741135597,\n",
       " 0.021567264571785927,\n",
       " 0.043324265629053116,\n",
       " 0.0036683320067822933,\n",
       " 0.018721144646406174,\n",
       " 0.011321231722831726,\n",
       " 0.01144772581756115,\n",
       " 0.009866548702120781,\n",
       " 0.010435772128403187,\n",
       " 0.013724621385335922,\n",
       " 0.009170830249786377,\n",
       " 0.01271266769617796,\n",
       " 0.009993042796850204,\n",
       " 0.0076528992503881454,\n",
       " 0.005502498243004084,\n",
       " 0.011700714007019997,\n",
       " 0.007336664013564587,\n",
       " 0.006261463277041912,\n",
       " 0.00708367582410574,\n",
       " 0.008664852939546108,\n",
       " 0.0042375558987259865,\n",
       " 0.004680285695940256,\n",
       " 0.0016444247448816895,\n",
       " 0.0030358610674738884,\n",
       " 0.004490544553846121,\n",
       " 0.004743532743304968]"
      ]
     },
     "execution_count": 39,
     "metadata": {},
     "output_type": "execute_result"
    }
   ],
   "source": [
    "temp_input"
   ]
  },
  {
   "cell_type": "code",
   "execution_count": 40,
   "id": "54a16704",
   "metadata": {},
   "outputs": [
    {
     "name": "stdout",
     "output_type": "stream",
     "text": [
      "[0.00176488]\n",
      "31\n",
      "1 day input [0.03655683 0.02757574 0.02245272 0.01884764 0.02156726 0.04332427\n",
      " 0.00366833 0.01872114 0.01132123 0.01144773 0.00986655 0.01043577\n",
      " 0.01372462 0.00917083 0.01271267 0.00999304 0.0076529  0.0055025\n",
      " 0.01170071 0.00733666 0.00626146 0.00708368 0.00866485 0.00423756\n",
      " 0.00468029 0.00164442 0.00303586 0.00449054 0.00474353 0.00176488]\n",
      "1 day output [[0.00090111]]\n",
      "2 day input [0.02757574 0.02245272 0.01884764 0.02156726 0.04332427 0.00366833\n",
      " 0.01872114 0.01132123 0.01144773 0.00986655 0.01043577 0.01372462\n",
      " 0.00917083 0.01271267 0.00999304 0.0076529  0.0055025  0.01170071\n",
      " 0.00733666 0.00626146 0.00708368 0.00866485 0.00423756 0.00468029\n",
      " 0.00164442 0.00303586 0.00449054 0.00474353 0.00176488 0.00090111]\n",
      "2 day output [[0.00069315]]\n",
      "3 day input [0.02245272 0.01884764 0.02156726 0.04332427 0.00366833 0.01872114\n",
      " 0.01132123 0.01144773 0.00986655 0.01043577 0.01372462 0.00917083\n",
      " 0.01271267 0.00999304 0.0076529  0.0055025  0.01170071 0.00733666\n",
      " 0.00626146 0.00708368 0.00866485 0.00423756 0.00468029 0.00164442\n",
      " 0.00303586 0.00449054 0.00474353 0.00176488 0.00090111 0.00069315]\n",
      "3 day output [[0.00109946]]\n",
      "4 day input [0.01884764 0.02156726 0.04332427 0.00366833 0.01872114 0.01132123\n",
      " 0.01144773 0.00986655 0.01043577 0.01372462 0.00917083 0.01271267\n",
      " 0.00999304 0.0076529  0.0055025  0.01170071 0.00733666 0.00626146\n",
      " 0.00708368 0.00866485 0.00423756 0.00468029 0.00164442 0.00303586\n",
      " 0.00449054 0.00474353 0.00176488 0.00090111 0.00069315 0.00109946]\n",
      "4 day output [[0.00159145]]\n",
      "5 day input [0.02156726 0.04332427 0.00366833 0.01872114 0.01132123 0.01144773\n",
      " 0.00986655 0.01043577 0.01372462 0.00917083 0.01271267 0.00999304\n",
      " 0.0076529  0.0055025  0.01170071 0.00733666 0.00626146 0.00708368\n",
      " 0.00866485 0.00423756 0.00468029 0.00164442 0.00303586 0.00449054\n",
      " 0.00474353 0.00176488 0.00090111 0.00069315 0.00109946 0.00159145]\n",
      "5 day output [[0.00166789]]\n",
      "6 day input [0.04332427 0.00366833 0.01872114 0.01132123 0.01144773 0.00986655\n",
      " 0.01043577 0.01372462 0.00917083 0.01271267 0.00999304 0.0076529\n",
      " 0.0055025  0.01170071 0.00733666 0.00626146 0.00708368 0.00866485\n",
      " 0.00423756 0.00468029 0.00164442 0.00303586 0.00449054 0.00474353\n",
      " 0.00176488 0.00090111 0.00069315 0.00109946 0.00159145 0.00166789]\n",
      "6 day output [[0.00123057]]\n",
      "7 day input [0.00366833 0.01872114 0.01132123 0.01144773 0.00986655 0.01043577\n",
      " 0.01372462 0.00917083 0.01271267 0.00999304 0.0076529  0.0055025\n",
      " 0.01170071 0.00733666 0.00626146 0.00708368 0.00866485 0.00423756\n",
      " 0.00468029 0.00164442 0.00303586 0.00449054 0.00474353 0.00176488\n",
      " 0.00090111 0.00069315 0.00109946 0.00159145 0.00166789 0.00123057]\n",
      "7 day output [[0.00057727]]\n",
      "8 day input [0.01872114 0.01132123 0.01144773 0.00986655 0.01043577 0.01372462\n",
      " 0.00917083 0.01271267 0.00999304 0.0076529  0.0055025  0.01170071\n",
      " 0.00733666 0.00626146 0.00708368 0.00866485 0.00423756 0.00468029\n",
      " 0.00164442 0.00303586 0.00449054 0.00474353 0.00176488 0.00090111\n",
      " 0.00069315 0.00109946 0.00159145 0.00166789 0.00123057 0.00057727]\n",
      "8 day output [[0.0001183]]\n",
      "9 day input [0.01132123 0.01144773 0.00986655 0.01043577 0.01372462 0.00917083\n",
      " 0.01271267 0.00999304 0.0076529  0.0055025  0.01170071 0.00733666\n",
      " 0.00626146 0.00708368 0.00866485 0.00423756 0.00468029 0.00164442\n",
      " 0.00303586 0.00449054 0.00474353 0.00176488 0.00090111 0.00069315\n",
      " 0.00109946 0.00159145 0.00166789 0.00123057 0.00057727 0.0001183 ]\n",
      "9 day output [[1.232326e-05]]\n",
      "10 day input [1.14477258e-02 9.86654870e-03 1.04357721e-02 1.37246214e-02\n",
      " 9.17083025e-03 1.27126677e-02 9.99304280e-03 7.65289925e-03\n",
      " 5.50249824e-03 1.17007140e-02 7.33666401e-03 6.26146328e-03\n",
      " 7.08367582e-03 8.66485294e-03 4.23755590e-03 4.68028570e-03\n",
      " 1.64442474e-03 3.03586107e-03 4.49054455e-03 4.74353274e-03\n",
      " 1.76488422e-03 9.01114196e-04 6.93146139e-04 1.09946355e-03\n",
      " 1.59144960e-03 1.66789070e-03 1.23056956e-03 5.77269122e-04\n",
      " 1.18296593e-04 1.23232603e-05]\n",
      "10 day output [[0.00028822]]\n",
      "11 day input [9.86654870e-03 1.04357721e-02 1.37246214e-02 9.17083025e-03\n",
      " 1.27126677e-02 9.99304280e-03 7.65289925e-03 5.50249824e-03\n",
      " 1.17007140e-02 7.33666401e-03 6.26146328e-03 7.08367582e-03\n",
      " 8.66485294e-03 4.23755590e-03 4.68028570e-03 1.64442474e-03\n",
      " 3.03586107e-03 4.49054455e-03 4.74353274e-03 1.76488422e-03\n",
      " 9.01114196e-04 6.93146139e-04 1.09946355e-03 1.59144960e-03\n",
      " 1.66789070e-03 1.23056956e-03 5.77269122e-04 1.18296593e-04\n",
      " 1.23232603e-05 2.88218260e-04]\n",
      "11 day output [[0.00065061]]\n",
      "12 day input [1.04357721e-02 1.37246214e-02 9.17083025e-03 1.27126677e-02\n",
      " 9.99304280e-03 7.65289925e-03 5.50249824e-03 1.17007140e-02\n",
      " 7.33666401e-03 6.26146328e-03 7.08367582e-03 8.66485294e-03\n",
      " 4.23755590e-03 4.68028570e-03 1.64442474e-03 3.03586107e-03\n",
      " 4.49054455e-03 4.74353274e-03 1.76488422e-03 9.01114196e-04\n",
      " 6.93146139e-04 1.09946355e-03 1.59144960e-03 1.66789070e-03\n",
      " 1.23056956e-03 5.77269122e-04 1.18296593e-04 1.23232603e-05\n",
      " 2.88218260e-04 6.50614500e-04]\n",
      "12 day output [[0.00078827]]\n",
      "13 day input [1.37246214e-02 9.17083025e-03 1.27126677e-02 9.99304280e-03\n",
      " 7.65289925e-03 5.50249824e-03 1.17007140e-02 7.33666401e-03\n",
      " 6.26146328e-03 7.08367582e-03 8.66485294e-03 4.23755590e-03\n",
      " 4.68028570e-03 1.64442474e-03 3.03586107e-03 4.49054455e-03\n",
      " 4.74353274e-03 1.76488422e-03 9.01114196e-04 6.93146139e-04\n",
      " 1.09946355e-03 1.59144960e-03 1.66789070e-03 1.23056956e-03\n",
      " 5.77269122e-04 1.18296593e-04 1.23232603e-05 2.88218260e-04\n",
      " 6.50614500e-04 7.88267702e-04]\n",
      "13 day output [[0.00060367]]\n",
      "14 day input [9.17083025e-03 1.27126677e-02 9.99304280e-03 7.65289925e-03\n",
      " 5.50249824e-03 1.17007140e-02 7.33666401e-03 6.26146328e-03\n",
      " 7.08367582e-03 8.66485294e-03 4.23755590e-03 4.68028570e-03\n",
      " 1.64442474e-03 3.03586107e-03 4.49054455e-03 4.74353274e-03\n",
      " 1.76488422e-03 9.01114196e-04 6.93146139e-04 1.09946355e-03\n",
      " 1.59144960e-03 1.66789070e-03 1.23056956e-03 5.77269122e-04\n",
      " 1.18296593e-04 1.23232603e-05 2.88218260e-04 6.50614500e-04\n",
      " 7.88267702e-04 6.03673980e-04]\n",
      "14 day output [[0.0002615]]\n",
      "15 day input [1.27126677e-02 9.99304280e-03 7.65289925e-03 5.50249824e-03\n",
      " 1.17007140e-02 7.33666401e-03 6.26146328e-03 7.08367582e-03\n",
      " 8.66485294e-03 4.23755590e-03 4.68028570e-03 1.64442474e-03\n",
      " 3.03586107e-03 4.49054455e-03 4.74353274e-03 1.76488422e-03\n",
      " 9.01114196e-04 6.93146139e-04 1.09946355e-03 1.59144960e-03\n",
      " 1.66789070e-03 1.23056956e-03 5.77269122e-04 1.18296593e-04\n",
      " 1.23232603e-05 2.88218260e-04 6.50614500e-04 7.88267702e-04\n",
      " 6.03673980e-04 2.61498615e-04]\n",
      "15 day output [[1.1850148e-05]]\n",
      "16 day input [9.99304280e-03 7.65289925e-03 5.50249824e-03 1.17007140e-02\n",
      " 7.33666401e-03 6.26146328e-03 7.08367582e-03 8.66485294e-03\n",
      " 4.23755590e-03 4.68028570e-03 1.64442474e-03 3.03586107e-03\n",
      " 4.49054455e-03 4.74353274e-03 1.76488422e-03 9.01114196e-04\n",
      " 6.93146139e-04 1.09946355e-03 1.59144960e-03 1.66789070e-03\n",
      " 1.23056956e-03 5.77269122e-04 1.18296593e-04 1.23232603e-05\n",
      " 2.88218260e-04 6.50614500e-04 7.88267702e-04 6.03673980e-04\n",
      " 2.61498615e-04 1.18501484e-05]\n",
      "16 day output [[4.6994537e-06]]\n",
      "17 day input [7.65289925e-03 5.50249824e-03 1.17007140e-02 7.33666401e-03\n",
      " 6.26146328e-03 7.08367582e-03 8.66485294e-03 4.23755590e-03\n",
      " 4.68028570e-03 1.64442474e-03 3.03586107e-03 4.49054455e-03\n",
      " 4.74353274e-03 1.76488422e-03 9.01114196e-04 6.93146139e-04\n",
      " 1.09946355e-03 1.59144960e-03 1.66789070e-03 1.23056956e-03\n",
      " 5.77269122e-04 1.18296593e-04 1.23232603e-05 2.88218260e-04\n",
      " 6.50614500e-04 7.88267702e-04 6.03673980e-04 2.61498615e-04\n",
      " 1.18501484e-05 4.69945371e-06]\n",
      "17 day output [[0.000234]]\n",
      "18 day input [5.50249824e-03 1.17007140e-02 7.33666401e-03 6.26146328e-03\n",
      " 7.08367582e-03 8.66485294e-03 4.23755590e-03 4.68028570e-03\n",
      " 1.64442474e-03 3.03586107e-03 4.49054455e-03 4.74353274e-03\n",
      " 1.76488422e-03 9.01114196e-04 6.93146139e-04 1.09946355e-03\n",
      " 1.59144960e-03 1.66789070e-03 1.23056956e-03 5.77269122e-04\n",
      " 1.18296593e-04 1.23232603e-05 2.88218260e-04 6.50614500e-04\n",
      " 7.88267702e-04 6.03673980e-04 2.61498615e-04 1.18501484e-05\n",
      " 4.69945371e-06 2.34000385e-04]\n",
      "18 day output [[0.00049294]]\n",
      "19 day input [1.17007140e-02 7.33666401e-03 6.26146328e-03 7.08367582e-03\n",
      " 8.66485294e-03 4.23755590e-03 4.68028570e-03 1.64442474e-03\n",
      " 3.03586107e-03 4.49054455e-03 4.74353274e-03 1.76488422e-03\n",
      " 9.01114196e-04 6.93146139e-04 1.09946355e-03 1.59144960e-03\n",
      " 1.66789070e-03 1.23056956e-03 5.77269122e-04 1.18296593e-04\n",
      " 1.23232603e-05 2.88218260e-04 6.50614500e-04 7.88267702e-04\n",
      " 6.03673980e-04 2.61498615e-04 1.18501484e-05 4.69945371e-06\n",
      " 2.34000385e-04 4.92941588e-04]\n",
      "19 day output [[0.00058433]]\n",
      "20 day input [7.33666401e-03 6.26146328e-03 7.08367582e-03 8.66485294e-03\n",
      " 4.23755590e-03 4.68028570e-03 1.64442474e-03 3.03586107e-03\n",
      " 4.49054455e-03 4.74353274e-03 1.76488422e-03 9.01114196e-04\n",
      " 6.93146139e-04 1.09946355e-03 1.59144960e-03 1.66789070e-03\n",
      " 1.23056956e-03 5.77269122e-04 1.18296593e-04 1.23232603e-05\n",
      " 2.88218260e-04 6.50614500e-04 7.88267702e-04 6.03673980e-04\n",
      " 2.61498615e-04 1.18501484e-05 4.69945371e-06 2.34000385e-04\n",
      " 4.92941588e-04 5.84332272e-04]\n",
      "20 day output [[0.00046252]]\n",
      "21 day input [6.26146328e-03 7.08367582e-03 8.66485294e-03 4.23755590e-03\n",
      " 4.68028570e-03 1.64442474e-03 3.03586107e-03 4.49054455e-03\n",
      " 4.74353274e-03 1.76488422e-03 9.01114196e-04 6.93146139e-04\n",
      " 1.09946355e-03 1.59144960e-03 1.66789070e-03 1.23056956e-03\n",
      " 5.77269122e-04 1.18296593e-04 1.23232603e-05 2.88218260e-04\n",
      " 6.50614500e-04 7.88267702e-04 6.03673980e-04 2.61498615e-04\n",
      " 1.18501484e-05 4.69945371e-06 2.34000385e-04 4.92941588e-04\n",
      " 5.84332272e-04 4.62517142e-04]\n",
      "21 day output [[0.00025262]]\n",
      "22 day input [7.08367582e-03 8.66485294e-03 4.23755590e-03 4.68028570e-03\n",
      " 1.64442474e-03 3.03586107e-03 4.49054455e-03 4.74353274e-03\n",
      " 1.76488422e-03 9.01114196e-04 6.93146139e-04 1.09946355e-03\n",
      " 1.59144960e-03 1.66789070e-03 1.23056956e-03 5.77269122e-04\n",
      " 1.18296593e-04 1.23232603e-05 2.88218260e-04 6.50614500e-04\n",
      " 7.88267702e-04 6.03673980e-04 2.61498615e-04 1.18501484e-05\n",
      " 4.69945371e-06 2.34000385e-04 4.92941588e-04 5.84332272e-04\n",
      " 4.62517142e-04 2.52621248e-04]\n",
      "22 day output [[9.667687e-05]]\n",
      "23 day input [8.66485294e-03 4.23755590e-03 4.68028570e-03 1.64442474e-03\n",
      " 3.03586107e-03 4.49054455e-03 4.74353274e-03 1.76488422e-03\n",
      " 9.01114196e-04 6.93146139e-04 1.09946355e-03 1.59144960e-03\n",
      " 1.66789070e-03 1.23056956e-03 5.77269122e-04 1.18296593e-04\n",
      " 1.23232603e-05 2.88218260e-04 6.50614500e-04 7.88267702e-04\n",
      " 6.03673980e-04 2.61498615e-04 1.18501484e-05 4.69945371e-06\n",
      " 2.34000385e-04 4.92941588e-04 5.84332272e-04 4.62517142e-04\n",
      " 2.52621248e-04 9.66768712e-05]\n",
      "23 day output [[0.00010586]]\n",
      "24 day input [4.23755590e-03 4.68028570e-03 1.64442474e-03 3.03586107e-03\n",
      " 4.49054455e-03 4.74353274e-03 1.76488422e-03 9.01114196e-04\n",
      " 6.93146139e-04 1.09946355e-03 1.59144960e-03 1.66789070e-03\n",
      " 1.23056956e-03 5.77269122e-04 1.18296593e-04 1.23232603e-05\n",
      " 2.88218260e-04 6.50614500e-04 7.88267702e-04 6.03673980e-04\n",
      " 2.61498615e-04 1.18501484e-05 4.69945371e-06 2.34000385e-04\n",
      " 4.92941588e-04 5.84332272e-04 4.62517142e-04 2.52621248e-04\n",
      " 9.66768712e-05 1.05857849e-04]\n",
      "24 day output [[0.00025872]]\n"
     ]
    },
    {
     "name": "stdout",
     "output_type": "stream",
     "text": [
      "25 day input [4.68028570e-03 1.64442474e-03 3.03586107e-03 4.49054455e-03\n",
      " 4.74353274e-03 1.76488422e-03 9.01114196e-04 6.93146139e-04\n",
      " 1.09946355e-03 1.59144960e-03 1.66789070e-03 1.23056956e-03\n",
      " 5.77269122e-04 1.18296593e-04 1.23232603e-05 2.88218260e-04\n",
      " 6.50614500e-04 7.88267702e-04 6.03673980e-04 2.61498615e-04\n",
      " 1.18501484e-05 4.69945371e-06 2.34000385e-04 4.92941588e-04\n",
      " 5.84332272e-04 4.62517142e-04 2.52621248e-04 9.66768712e-05\n",
      " 1.05857849e-04 2.58723274e-04]\n",
      "25 day output [[0.00042344]]\n",
      "26 day input [1.64442474e-03 3.03586107e-03 4.49054455e-03 4.74353274e-03\n",
      " 1.76488422e-03 9.01114196e-04 6.93146139e-04 1.09946355e-03\n",
      " 1.59144960e-03 1.66789070e-03 1.23056956e-03 5.77269122e-04\n",
      " 1.18296593e-04 1.23232603e-05 2.88218260e-04 6.50614500e-04\n",
      " 7.88267702e-04 6.03673980e-04 2.61498615e-04 1.18501484e-05\n",
      " 4.69945371e-06 2.34000385e-04 4.92941588e-04 5.84332272e-04\n",
      " 4.62517142e-04 2.52621248e-04 9.66768712e-05 1.05857849e-04\n",
      " 2.58723274e-04 4.23438847e-04]\n",
      "26 day output [[0.00046855]]\n",
      "27 day input [3.03586107e-03 4.49054455e-03 4.74353274e-03 1.76488422e-03\n",
      " 9.01114196e-04 6.93146139e-04 1.09946355e-03 1.59144960e-03\n",
      " 1.66789070e-03 1.23056956e-03 5.77269122e-04 1.18296593e-04\n",
      " 1.23232603e-05 2.88218260e-04 6.50614500e-04 7.88267702e-04\n",
      " 6.03673980e-04 2.61498615e-04 1.18501484e-05 4.69945371e-06\n",
      " 2.34000385e-04 4.92941588e-04 5.84332272e-04 4.62517142e-04\n",
      " 2.52621248e-04 9.66768712e-05 1.05857849e-04 2.58723274e-04\n",
      " 4.23438847e-04 4.68548387e-04]\n",
      "27 day output [[0.00037211]]\n",
      "28 day input [4.49054455e-03 4.74353274e-03 1.76488422e-03 9.01114196e-04\n",
      " 6.93146139e-04 1.09946355e-03 1.59144960e-03 1.66789070e-03\n",
      " 1.23056956e-03 5.77269122e-04 1.18296593e-04 1.23232603e-05\n",
      " 2.88218260e-04 6.50614500e-04 7.88267702e-04 6.03673980e-04\n",
      " 2.61498615e-04 1.18501484e-05 4.69945371e-06 2.34000385e-04\n",
      " 4.92941588e-04 5.84332272e-04 4.62517142e-04 2.52621248e-04\n",
      " 9.66768712e-05 1.05857849e-04 2.58723274e-04 4.23438847e-04\n",
      " 4.68548387e-04 3.72111797e-04]\n",
      "28 day output [[0.00021272]]\n",
      "29 day input [4.74353274e-03 1.76488422e-03 9.01114196e-04 6.93146139e-04\n",
      " 1.09946355e-03 1.59144960e-03 1.66789070e-03 1.23056956e-03\n",
      " 5.77269122e-04 1.18296593e-04 1.23232603e-05 2.88218260e-04\n",
      " 6.50614500e-04 7.88267702e-04 6.03673980e-04 2.61498615e-04\n",
      " 1.18501484e-05 4.69945371e-06 2.34000385e-04 4.92941588e-04\n",
      " 5.84332272e-04 4.62517142e-04 2.52621248e-04 9.66768712e-05\n",
      " 1.05857849e-04 2.58723274e-04 4.23438847e-04 4.68548387e-04\n",
      " 3.72111797e-04 2.12715939e-04]\n",
      "29 day output [[0.00011652]]\n",
      "[[0.0017648842185735703], [0.0009011141955852509], [0.000693146139383316], [0.001099463552236557], [0.0015914496034383774], [0.0016678906977176666], [0.0012305695563554764], [0.000577269122004509], [0.00011829659342765808], [1.2323260307312012e-05], [0.00028821825981140137], [0.0006506145000457764], [0.0007882677018642426], [0.000603673979640007], [0.0002614986151456833], [1.1850148439407349e-05], [4.699453711509705e-06], [0.00023400038480758667], [0.0004929415881633759], [0.0005843322724103928], [0.0004625171422958374], [0.00025262124836444855], [9.667687118053436e-05], [0.00010585784912109375], [0.00025872327387332916], [0.0004234388470649719], [0.00046854838728904724], [0.00037211179733276367], [0.00021271593868732452], [0.00011652335524559021]]\n"
     ]
    }
   ],
   "source": [
    "# prediction for next 30 days\n",
    "from numpy import array\n",
    "\n",
    "lst_output=[]\n",
    "n_steps=30\n",
    "i=0\n",
    "while(i<30): #30 hari\n",
    "    \n",
    "    if(len(temp_input)>30):\n",
    "        #print(temp_input)\n",
    "        x_input=np.array(temp_input[1:])\n",
    "        print(\"{} day input {}\".format(i,x_input))\n",
    "        x_input=x_input.reshape(1,-1)\n",
    "        x_input = x_input.reshape((1, n_steps, 1))\n",
    "        #print(x_input)\n",
    "        yhat = model.predict(x_input, verbose=0)\n",
    "        print(\"{} day output {}\".format(i,yhat))\n",
    "        temp_input.extend(yhat[0].tolist())\n",
    "        temp_input=temp_input[1:]\n",
    "        #print(temp_input)\n",
    "        lst_output.extend(yhat.tolist())\n",
    "        i=i+1\n",
    "    else:\n",
    "        x_input = x_input.reshape((1, n_steps,1))\n",
    "        yhat = model.predict(x_input, verbose=0)\n",
    "        print(yhat[0])\n",
    "        temp_input.extend(yhat[0].tolist())\n",
    "        print(len(temp_input))\n",
    "        lst_output.extend(yhat.tolist())\n",
    "        i=i+1\n",
    "    \n",
    "\n",
    "print(lst_output)"
   ]
  },
  {
   "cell_type": "code",
   "execution_count": 41,
   "id": "447dcca0",
   "metadata": {},
   "outputs": [],
   "source": [
    "day_new=np.arange(1,31) # dari data 30 hari terakhir\n",
    "day_pred=np.arange(31,61) #predict 30 hari kedepan"
   ]
  },
  {
   "cell_type": "code",
   "execution_count": 42,
   "id": "91dd51a7",
   "metadata": {},
   "outputs": [
    {
     "data": {
      "text/plain": [
       "766"
      ]
     },
     "execution_count": 42,
     "metadata": {},
     "output_type": "execute_result"
    }
   ],
   "source": [
    "len(df)"
   ]
  },
  {
   "cell_type": "code",
   "execution_count": 43,
   "id": "86fd0fa7",
   "metadata": {},
   "outputs": [
    {
     "data": {
      "text/plain": [
       "30"
      ]
     },
     "execution_count": 43,
     "metadata": {},
     "output_type": "execute_result"
    }
   ],
   "source": [
    "len(day_pred)"
   ]
  },
  {
   "cell_type": "code",
   "execution_count": 44,
   "id": "e0730cc4",
   "metadata": {
    "scrolled": true
   },
   "outputs": [
    {
     "data": {
      "text/plain": [
       "[<matplotlib.lines.Line2D at 0x28787db8108>]"
      ]
     },
     "execution_count": 44,
     "metadata": {},
     "output_type": "execute_result"
    },
    {
     "data": {
      "image/png": "[encoded data removed]",
      "text/plain": [
       "<Figure size 432x288 with 1 Axes>"
      ]
     },
     "metadata": {
      "needs_background": "light"
     },
     "output_type": "display_data"
    }
   ],
   "source": [
    "plt.plot(day_new,df[736:]) # [total data - prediction(30)] \n",
    "plt.plot(day_pred,scaler.inverse_transform(lst_output))"
   ]
  },
  {
   "cell_type": "code",
   "execution_count": 45,
   "id": "07cc7ca7",
   "metadata": {},
   "outputs": [
    {
     "data": {
      "text/plain": [
       "[<matplotlib.lines.Line2D at 0x28787d16bc8>]"
      ]
     },
     "execution_count": 45,
     "metadata": {},
     "output_type": "execute_result"
    },
    {
     "data": {
      "image/png": "[encoded data removed]",
      "text/plain": [
       "<Figure size 432x288 with 1 Axes>"
      ]
     },
     "metadata": {
      "needs_background": "light"
     },
     "output_type": "display_data"
    }
   ],
   "source": [
    "df2=df.tolist()\n",
    "df2.extend(scaler.inverse_transform(lst_output))\n",
    "plt.plot(df2)"
   ]
  },
  {
   "cell_type": "code",
   "execution_count": 48,
   "id": "4e90a3ff",
   "metadata": {
    "scrolled": true
   },
   "outputs": [
    {
     "data": {
      "text/plain": [
       "[<matplotlib.lines.Line2D at 0x287801b46c8>]"
      ]
     },
     "execution_count": 48,
     "metadata": {},
     "output_type": "execute_result"
    },
    {
     "data": {
      "image/png": "[encoded data removed]",
      "text/plain": [
       "<Figure size 432x288 with 1 Axes>"
      ]
     },
     "metadata": {
      "needs_background": "light"
     },
     "output_type": "display_data"
    }
   ],
   "source": [
    "df2=scaler.inverse_transform(df2).tolist()\n",
    "plt.plot(df2)"
   ]
  },
  {
   "cell_type": "code",
   "execution_count": 59,
   "id": "3cf7831d",
   "metadata": {},
   "outputs": [
    {
     "name": "stdout",
     "output_type": "stream",
     "text": [
      "loss: 0.082946\n"
     ]
    }
   ],
   "source": [
    "# evaluate the model\n",
    "scores = model.evaluate(X_train, Y_train, verbose=0)\n",
    "print(\"%s: %f\" % (model.metrics_names[0], scores*100))"
   ]
  },
  {
   "cell_type": "code",
   "execution_count": 60,
   "id": "f5da1336",
   "metadata": {},
   "outputs": [
    {
     "name": "stdout",
     "output_type": "stream",
     "text": [
      "Saved model to disk\n"
     ]
    }
   ],
   "source": [
    "# save model and architecture to single file\n",
    "model.save(\"lstm_jakarta.h5\")\n",
    "print(\"Saved model to disk\")"
   ]
  },
  {
   "cell_type": "code",
   "execution_count": 61,
   "id": "93b8767f",
   "metadata": {},
   "outputs": [
    {
     "name": "stdout",
     "output_type": "stream",
     "text": [
      "Model: \"sequential\"\n",
      "_________________________________________________________________\n",
      " Layer (type)                Output Shape              Param #   \n",
      "=================================================================\n",
      " lstm (LSTM)                 (None, 30, 100)           40800     \n",
      "                                                                 \n",
      " lstm_1 (LSTM)               (None, 100)               80400     \n",
      "                                                                 \n",
      " dense (Dense)               (None, 1)                 101       \n",
      "                                                                 \n",
      "=================================================================\n",
      "Total params: 121,301\n",
      "Trainable params: 121,301\n",
      "Non-trainable params: 0\n",
      "_________________________________________________________________\n"
     ]
    }
   ],
   "source": [
    "from keras.models import load_model\n",
    " \n",
    "# load model\n",
    "model = load_model('lstm_jakarta.h5')\n",
    "# summarize model\n",
    "model.summary()"
   ]
  },
  {
   "cell_type": "code",
   "execution_count": null,
   "id": "b18f33ff",
   "metadata": {},
   "outputs": [],
   "source": []
  }
 ],
 "metadata": {
  "kernelspec": {
   "display_name": "Python 3 (ipykernel)",
   "language": "python",
   "name": "python3"
  },
  "language_info": {
   "codemirror_mode": {
    "name": "ipython",
    "version": 3
   },
   "file_extension": ".py",
   "mimetype": "text/x-python",
   "name": "python",
   "nbconvert_exporter": "python",
   "pygments_lexer": "ipython3",
   "version": "3.7.13"
  }
 },
 "nbformat": 4,
 "nbformat_minor": 5
}
