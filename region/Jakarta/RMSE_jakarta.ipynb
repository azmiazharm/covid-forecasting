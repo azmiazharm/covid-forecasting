{
 "cells": [
  {
   "cell_type": "code",
   "execution_count": 1,
   "id": "f8cc18d9",
   "metadata": {},
   "outputs": [],
   "source": [
    "# Import library\n",
    "import pandas as pd\n",
    "import numpy as np\n",
    "import matplotlib.pyplot as plt\n",
    "import tensorflow\n",
    "from tensorflow import keras\n",
    "from tensorflow.keras.layers import Dense, Activation, LSTM\n",
    "from sklearn.preprocessing import MinMaxScaler\n",
    "from keras.models import Sequential\n",
    "import os"
   ]
  },
  {
   "cell_type": "code",
   "execution_count": 2,
   "id": "4e7cdaba",
   "metadata": {},
   "outputs": [],
   "source": [
    "# Use CPU\n",
    "os.environ['CUDA_VISIBLE_DEVICES'] = '-1'"
   ]
  },
  {
   "cell_type": "code",
   "execution_count": 3,
   "id": "29d08e2d",
   "metadata": {},
   "outputs": [
    {
     "name": "stdout",
     "output_type": "stream",
     "text": [
      "2.8.0\n"
     ]
    }
   ],
   "source": [
    "print(tensorflow.__version__)"
   ]
  },
  {
   "cell_type": "code",
   "execution_count": 4,
   "id": "6dac519e",
   "metadata": {},
   "outputs": [
    {
     "data": {
      "text/html": [
       "<div>\n",
       "<style scoped>\n",
       "    .dataframe tbody tr th:only-of-type {\n",
       "        vertical-align: middle;\n",
       "    }\n",
       "\n",
       "    .dataframe tbody tr th {\n",
       "        vertical-align: top;\n",
       "    }\n",
       "\n",
       "    .dataframe thead th {\n",
       "        text-align: right;\n",
       "    }\n",
       "</style>\n",
       "<table border=\"1\" class=\"dataframe\">\n",
       "  <thead>\n",
       "    <tr style=\"text-align: right;\">\n",
       "      <th></th>\n",
       "      <th>daily_case</th>\n",
       "    </tr>\n",
       "    <tr>\n",
       "      <th>date</th>\n",
       "      <th></th>\n",
       "    </tr>\n",
       "  </thead>\n",
       "  <tbody>\n",
       "    <tr>\n",
       "      <th>2020-04-01</th>\n",
       "      <td>59</td>\n",
       "    </tr>\n",
       "    <tr>\n",
       "      <th>2020-04-02</th>\n",
       "      <td>70</td>\n",
       "    </tr>\n",
       "    <tr>\n",
       "      <th>2020-04-03</th>\n",
       "      <td>71</td>\n",
       "    </tr>\n",
       "    <tr>\n",
       "      <th>2020-04-04</th>\n",
       "      <td>57</td>\n",
       "    </tr>\n",
       "    <tr>\n",
       "      <th>2020-04-05</th>\n",
       "      <td>87</td>\n",
       "    </tr>\n",
       "  </tbody>\n",
       "</table>\n",
       "</div>"
      ],
      "text/plain": [
       "            daily_case\n",
       "date                  \n",
       "2020-04-01          59\n",
       "2020-04-02          70\n",
       "2020-04-03          71\n",
       "2020-04-04          57\n",
       "2020-04-05          87"
      ]
     },
     "execution_count": 4,
     "metadata": {},
     "output_type": "execute_result"
    }
   ],
   "source": [
    "# Dataset\n",
    "df=pd.read_csv('./../../dataset/raw_jakarta.csv', parse_dates=[\"date\"], index_col=\"date\")\n",
    "#df['daily_case'] = df['daily_case'].str.replace(',','').astype(int)\n",
    "\n",
    "# Cut dataset to start from 1 April 2022\n",
    "df = df[31:]\n",
    "df.head()"
   ]
  },
  {
   "cell_type": "code",
   "execution_count": 5,
   "id": "b7cb2a44",
   "metadata": {
    "scrolled": true
   },
   "outputs": [
    {
     "name": "stdout",
     "output_type": "stream",
     "text": [
      "<class 'pandas.core.frame.DataFrame'>\n",
      "DatetimeIndex: 766 entries, 2020-04-01 to 2022-05-06\n",
      "Data columns (total 1 columns):\n",
      " #   Column      Non-Null Count  Dtype\n",
      "---  ------      --------------  -----\n",
      " 0   daily_case  766 non-null    int64\n",
      "dtypes: int64(1)\n",
      "memory usage: 12.0 KB\n"
     ]
    }
   ],
   "source": [
    "df.info()"
   ]
  },
  {
   "cell_type": "code",
   "execution_count": 6,
   "id": "33630edc",
   "metadata": {},
   "outputs": [
    {
     "data": {
      "text/plain": [
       "(766, 1)"
      ]
     },
     "execution_count": 6,
     "metadata": {},
     "output_type": "execute_result"
    }
   ],
   "source": [
    "df.shape"
   ]
  },
  {
   "cell_type": "code",
   "execution_count": 7,
   "id": "a46fcfe0",
   "metadata": {},
   "outputs": [
    {
     "data": {
      "text/plain": [
       "[<matplotlib.lines.Line2D at 0x24a39b3c848>]"
      ]
     },
     "execution_count": 7,
     "metadata": {},
     "output_type": "execute_result"
    },
    {
     "data": {
      "image/png": "[encoded data removed]",
      "text/plain": [
       "<Figure size 432x288 with 1 Axes>"
      ]
     },
     "metadata": {
      "needs_background": "light"
     },
     "output_type": "display_data"
    }
   ],
   "source": [
    "plt.plot(df)"
   ]
  },
  {
   "cell_type": "code",
   "execution_count": 8,
   "id": "baf1aaac",
   "metadata": {},
   "outputs": [],
   "source": [
    "scaler = MinMaxScaler(feature_range=(0,1))"
   ]
  },
  {
   "cell_type": "code",
   "execution_count": 9,
   "id": "116dbcb0",
   "metadata": {},
   "outputs": [
    {
     "data": {
      "text/plain": [
       "(766, 1)"
      ]
     },
     "execution_count": 9,
     "metadata": {},
     "output_type": "execute_result"
    }
   ],
   "source": [
    "df.shape"
   ]
  },
  {
   "cell_type": "code",
   "execution_count": 10,
   "id": "1dbbf64c",
   "metadata": {},
   "outputs": [
    {
     "data": {
      "text/html": [
       "<div>\n",
       "<style scoped>\n",
       "    .dataframe tbody tr th:only-of-type {\n",
       "        vertical-align: middle;\n",
       "    }\n",
       "\n",
       "    .dataframe tbody tr th {\n",
       "        vertical-align: top;\n",
       "    }\n",
       "\n",
       "    .dataframe thead th {\n",
       "        text-align: right;\n",
       "    }\n",
       "</style>\n",
       "<table border=\"1\" class=\"dataframe\">\n",
       "  <thead>\n",
       "    <tr style=\"text-align: right;\">\n",
       "      <th></th>\n",
       "      <th>daily_case</th>\n",
       "    </tr>\n",
       "    <tr>\n",
       "      <th>date</th>\n",
       "      <th></th>\n",
       "    </tr>\n",
       "  </thead>\n",
       "  <tbody>\n",
       "    <tr>\n",
       "      <th>2020-04-01</th>\n",
       "      <td>59</td>\n",
       "    </tr>\n",
       "    <tr>\n",
       "      <th>2020-04-02</th>\n",
       "      <td>70</td>\n",
       "    </tr>\n",
       "    <tr>\n",
       "      <th>2020-04-03</th>\n",
       "      <td>71</td>\n",
       "    </tr>\n",
       "    <tr>\n",
       "      <th>2020-04-04</th>\n",
       "      <td>57</td>\n",
       "    </tr>\n",
       "    <tr>\n",
       "      <th>2020-04-05</th>\n",
       "      <td>87</td>\n",
       "    </tr>\n",
       "  </tbody>\n",
       "</table>\n",
       "</div>"
      ],
      "text/plain": [
       "            daily_case\n",
       "date                  \n",
       "2020-04-01          59\n",
       "2020-04-02          70\n",
       "2020-04-03          71\n",
       "2020-04-04          57\n",
       "2020-04-05          87"
      ]
     },
     "execution_count": 10,
     "metadata": {},
     "output_type": "execute_result"
    }
   ],
   "source": [
    "df.head()"
   ]
  },
  {
   "cell_type": "code",
   "execution_count": 11,
   "id": "e6faefb5",
   "metadata": {},
   "outputs": [],
   "source": [
    "# df = scaler.fit_transform(np.array(df).reshape(-1,1))"
   ]
  },
  {
   "cell_type": "code",
   "execution_count": 12,
   "id": "19cb8aa8",
   "metadata": {},
   "outputs": [
    {
     "data": {
      "text/plain": [
       "(766, 1)"
      ]
     },
     "execution_count": 12,
     "metadata": {},
     "output_type": "execute_result"
    }
   ],
   "source": [
    "df.shape"
   ]
  },
  {
   "cell_type": "code",
   "execution_count": 13,
   "id": "8d81d237",
   "metadata": {},
   "outputs": [],
   "source": [
    "# Split data to train and test\n",
    "df = df.values\n",
    "df = df.astype('float32')\n",
    "train_size = int(len(df) * 0.75)\n",
    "test_size=len(df)-train_size"
   ]
  },
  {
   "cell_type": "code",
   "execution_count": 14,
   "id": "d07613e8",
   "metadata": {},
   "outputs": [],
   "source": [
    "train_data_ns=df[0:train_size,:]\n",
    "test_data_ns=df[train_size:len(df),:]"
   ]
  },
  {
   "cell_type": "code",
   "execution_count": 15,
   "id": "ec2da0aa",
   "metadata": {},
   "outputs": [],
   "source": [
    "# scale data\n",
    "train_data = scaler.fit_transform(np.array(train_data_ns).reshape(-1,1))\n",
    "test_data = scaler.fit_transform(np.array(test_data_ns).reshape(-1,1))"
   ]
  },
  {
   "cell_type": "code",
   "execution_count": 16,
   "id": "ec3179a7",
   "metadata": {},
   "outputs": [
    {
     "data": {
      "text/plain": [
       "(574, 1)"
      ]
     },
     "execution_count": 16,
     "metadata": {},
     "output_type": "execute_result"
    }
   ],
   "source": [
    "train_data.shape"
   ]
  },
  {
   "cell_type": "code",
   "execution_count": 17,
   "id": "709fa2f3",
   "metadata": {},
   "outputs": [
    {
     "name": "stdout",
     "output_type": "stream",
     "text": [
      "574\n",
      "192\n"
     ]
    },
    {
     "data": {
      "text/plain": [
       "(None, None)"
      ]
     },
     "execution_count": 17,
     "metadata": {},
     "output_type": "execute_result"
    }
   ],
   "source": [
    "print(len(train_data)), print(len(test_data))"
   ]
  },
  {
   "cell_type": "code",
   "execution_count": 18,
   "id": "8b465761",
   "metadata": {},
   "outputs": [],
   "source": [
    "# Create dataset matrix based on timestep\n",
    "def create_dataset(dataset, time_step=1):\n",
    "    X, Y = [], []\n",
    "    for i in range(len(dataset)-time_step-1):\n",
    "        a = dataset[i:(i+time_step), 0]\n",
    "        X.append(a)\n",
    "        Y.append(dataset[i + time_step, 0])\n",
    "    return np.array(X), np.array(Y)"
   ]
  },
  {
   "cell_type": "code",
   "execution_count": 19,
   "id": "f7456e17",
   "metadata": {},
   "outputs": [],
   "source": [
    "# Reshape into x=t, t+1, t+2, ... t+n, and Y = t + (n+1)\n",
    "time_step = 30\n",
    "X_train, Y_train = create_dataset(train_data, time_step)\n",
    "X_test, Y_test = create_dataset(test_data, time_step)"
   ]
  },
  {
   "cell_type": "code",
   "execution_count": 20,
   "id": "1e2fbaae",
   "metadata": {
    "scrolled": true
   },
   "outputs": [
    {
     "name": "stdout",
     "output_type": "stream",
     "text": [
      "(543, 30)\n",
      "(543,)\n"
     ]
    },
    {
     "data": {
      "text/plain": [
       "(None, None)"
      ]
     },
     "execution_count": 20,
     "metadata": {},
     "output_type": "execute_result"
    }
   ],
   "source": [
    "print(X_train.shape), print(Y_train.shape)"
   ]
  },
  {
   "cell_type": "code",
   "execution_count": 21,
   "id": "14caf748",
   "metadata": {},
   "outputs": [
    {
     "name": "stdout",
     "output_type": "stream",
     "text": [
      "(161, 30)\n",
      "(161,)\n"
     ]
    },
    {
     "data": {
      "text/plain": [
       "(None, None)"
      ]
     },
     "execution_count": 21,
     "metadata": {},
     "output_type": "execute_result"
    }
   ],
   "source": [
    "print(X_test.shape), print(Y_test.shape)"
   ]
  },
  {
   "cell_type": "code",
   "execution_count": 22,
   "id": "dc2e0ea1",
   "metadata": {},
   "outputs": [
    {
     "data": {
      "text/plain": [
       "161"
      ]
     },
     "execution_count": 22,
     "metadata": {},
     "output_type": "execute_result"
    }
   ],
   "source": [
    "len(X_test)"
   ]
  },
  {
   "cell_type": "code",
   "execution_count": 23,
   "id": "dd7a7f83",
   "metadata": {},
   "outputs": [],
   "source": [
    "# Reshape input data to 3d [sample, time_step, features]\n",
    "X_train = X_train.reshape(X_train.shape[0], X_train.shape[1], 1)\n",
    "X_test = X_test.reshape(X_test.shape[0], X_test.shape[1], 1)"
   ]
  },
  {
   "cell_type": "code",
   "execution_count": 24,
   "id": "2904dc8f",
   "metadata": {},
   "outputs": [],
   "source": [
    "from keras.models import load_model\n",
    " \n",
    "# load model\n",
    "model = load_model('./lstm_jakarta.h5')"
   ]
  },
  {
   "cell_type": "code",
   "execution_count": 25,
   "id": "2d2dd132",
   "metadata": {},
   "outputs": [
    {
     "name": "stdout",
     "output_type": "stream",
     "text": [
      "Model: \"sequential\"\n",
      "_________________________________________________________________\n",
      " Layer (type)                Output Shape              Param #   \n",
      "=================================================================\n",
      " lstm (LSTM)                 (None, 30, 100)           40800     \n",
      "                                                                 \n",
      " lstm_1 (LSTM)               (None, 100)               80400     \n",
      "                                                                 \n",
      " dense (Dense)               (None, 1)                 101       \n",
      "                                                                 \n",
      "=================================================================\n",
      "Total params: 121,301\n",
      "Trainable params: 121,301\n",
      "Non-trainable params: 0\n",
      "_________________________________________________________________\n"
     ]
    }
   ],
   "source": [
    "model.summary()"
   ]
  },
  {
   "cell_type": "code",
   "execution_count": 26,
   "id": "aedaea4a",
   "metadata": {},
   "outputs": [],
   "source": [
    "train_predict=model.predict(X_train)\n",
    "test_predict=model.predict(X_test)"
   ]
  },
  {
   "cell_type": "code",
   "execution_count": 27,
   "id": "e25e7d7d",
   "metadata": {},
   "outputs": [],
   "source": [
    "Y_train = Y_train.reshape(-1,1)\n",
    "Y_train = scaler.inverse_transform(Y_train)\n",
    "\n",
    "X_train = X_train.reshape(-1,1)\n",
    "X_train = scaler.inverse_transform(X_train)\n",
    "\n",
    "Y_test = Y_test.reshape(-1,1)\n",
    "Y_test = scaler.inverse_transform(Y_test)\n",
    "\n",
    "X_train = Y_train.reshape(-1,1)\n",
    "X_train = scaler.inverse_transform(X_train)"
   ]
  },
  {
   "cell_type": "code",
   "execution_count": 28,
   "id": "891264b3",
   "metadata": {},
   "outputs": [],
   "source": [
    "# Transform back to original value\n",
    "train_predict=scaler.inverse_transform(train_predict)\n",
    "test_predict=scaler.inverse_transform(test_predict)"
   ]
  },
  {
   "cell_type": "markdown",
   "id": "96925b59",
   "metadata": {},
   "source": [
    "Metric Jakarta"
   ]
  },
  {
   "cell_type": "code",
   "execution_count": 29,
   "id": "066295da",
   "metadata": {},
   "outputs": [
    {
     "name": "stdout",
     "output_type": "stream",
     "text": [
      "RMSE train: 395.1241102489191\n"
     ]
    }
   ],
   "source": [
    "# Calculate RMSE performance metrics\n",
    "import math\n",
    "from sklearn.metrics import mean_squared_error\n",
    "print('RMSE train:', math.sqrt(mean_squared_error(Y_train, train_predict)))"
   ]
  },
  {
   "cell_type": "code",
   "execution_count": 30,
   "id": "f9097cdf",
   "metadata": {},
   "outputs": [
    {
     "name": "stdout",
     "output_type": "stream",
     "text": [
      "RMSE test: 886.4382733727149\n"
     ]
    }
   ],
   "source": [
    "print('RMSE test:', math.sqrt(mean_squared_error(Y_test, test_predict)))"
   ]
  },
  {
   "cell_type": "code",
   "execution_count": 31,
   "id": "67725589",
   "metadata": {},
   "outputs": [
    {
     "data": {
      "text/plain": [
       "(14622.0, 38.0)"
      ]
     },
     "execution_count": 31,
     "metadata": {},
     "output_type": "execute_result"
    }
   ],
   "source": [
    "train_data_ns.max(), train_data_ns.min()"
   ]
  },
  {
   "cell_type": "code",
   "execution_count": 32,
   "id": "bde8fec8",
   "metadata": {},
   "outputs": [
    {
     "name": "stdout",
     "output_type": "stream",
     "text": [
      "NRMSE train: 0.027092986166272568\n"
     ]
    }
   ],
   "source": [
    "# normalized RMSE metrics train\n",
    "print('NRMSE train:', math.sqrt(mean_squared_error(Y_train, train_predict))/(train_data_ns.max()-train_data_ns.min()))"
   ]
  },
  {
   "cell_type": "code",
   "execution_count": 33,
   "id": "0d156cdc",
   "metadata": {
    "scrolled": true
   },
   "outputs": [
    {
     "name": "stdout",
     "output_type": "stream",
     "text": [
      "NRMSE test: 0.05606465583281987\n"
     ]
    }
   ],
   "source": [
    "# normalized RMSE metrics test\n",
    "print('NRMSE test:', math.sqrt(mean_squared_error(Y_test, test_predict))/(test_data_ns.max()-test_data_ns.min()))"
   ]
  },
  {
   "cell_type": "code",
   "execution_count": 34,
   "id": "f604fd1e",
   "metadata": {},
   "outputs": [
    {
     "data": {
      "text/plain": [
       "array([[   81.37777 ],\n",
       "       [   76.57616 ],\n",
       "       [   72.10756 ],\n",
       "       [   84.42417 ],\n",
       "       [   88.91722 ],\n",
       "       [  101.22405 ],\n",
       "       [   99.720116],\n",
       "       [   87.47205 ],\n",
       "       [   78.54389 ],\n",
       "       [   82.60458 ],\n",
       "       [   90.73127 ],\n",
       "       [   93.10172 ],\n",
       "       [   96.98292 ],\n",
       "       [  107.39915 ],\n",
       "       [   95.40132 ],\n",
       "       [   80.00518 ],\n",
       "       [   82.866486],\n",
       "       [   98.20643 ],\n",
       "       [  102.07667 ],\n",
       "       [  103.337036],\n",
       "       [   93.48016 ],\n",
       "       [   83.02359 ],\n",
       "       [   80.537674],\n",
       "       [   82.13762 ],\n",
       "       [   84.965935],\n",
       "       [   82.75528 ],\n",
       "       [   85.36369 ],\n",
       "       [   88.21978 ],\n",
       "       [   87.90683 ],\n",
       "       [   88.24163 ],\n",
       "       [   83.50918 ],\n",
       "       [   83.98966 ],\n",
       "       [   93.479805],\n",
       "       [   86.49944 ],\n",
       "       [   89.75912 ],\n",
       "       [   94.66634 ],\n",
       "       [   88.76832 ],\n",
       "       [   89.4024  ],\n",
       "       [   93.41684 ],\n",
       "       [   80.25003 ],\n",
       "       [  109.704025],\n",
       "       [  111.08524 ],\n",
       "       [  108.39602 ],\n",
       "       [  106.63952 ],\n",
       "       [  114.346214],\n",
       "       [  113.60902 ],\n",
       "       [  109.8835  ],\n",
       "       [   95.43585 ],\n",
       "       [   89.881966],\n",
       "       [  100.85849 ],\n",
       "       [  104.271645],\n",
       "       [  121.643585],\n",
       "       [  118.5202  ],\n",
       "       [  110.6339  ],\n",
       "       [  112.00539 ],\n",
       "       [  109.24016 ],\n",
       "       [  117.21802 ],\n",
       "       [  128.30017 ],\n",
       "       [  134.21576 ],\n",
       "       [  126.53886 ],\n",
       "       [  121.98509 ],\n",
       "       [  132.57385 ],\n",
       "       [  145.62645 ],\n",
       "       [  141.40613 ],\n",
       "       [  120.43284 ],\n",
       "       [  133.35463 ],\n",
       "       [  157.62267 ],\n",
       "       [  169.21713 ],\n",
       "       [  173.85855 ],\n",
       "       [  220.8264  ],\n",
       "       [  219.0136  ],\n",
       "       [  206.40059 ],\n",
       "       [  245.76596 ],\n",
       "       [  278.55304 ],\n",
       "       [  268.2542  ],\n",
       "       [  270.75818 ],\n",
       "       [  278.77216 ],\n",
       "       [  301.75876 ],\n",
       "       [  286.97546 ],\n",
       "       [  294.08862 ],\n",
       "       [  279.0502  ],\n",
       "       [  295.3409  ],\n",
       "       [  329.4977  ],\n",
       "       [  341.98636 ],\n",
       "       [  387.798   ],\n",
       "       [  359.0456  ],\n",
       "       [  372.5128  ],\n",
       "       [  381.46396 ],\n",
       "       [  424.5177  ],\n",
       "       [  402.06204 ],\n",
       "       [  466.929   ],\n",
       "       [  422.20523 ],\n",
       "       [  434.50607 ],\n",
       "       [  440.43948 ],\n",
       "       [  452.6695  ],\n",
       "       [  485.46918 ],\n",
       "       [  455.59216 ],\n",
       "       [  394.56396 ],\n",
       "       [  429.92636 ],\n",
       "       [  509.65005 ],\n",
       "       [  577.97424 ],\n",
       "       [  533.01074 ],\n",
       "       [  527.93494 ],\n",
       "       [  547.90393 ],\n",
       "       [  575.2811  ],\n",
       "       [  596.8196  ],\n",
       "       [  552.2587  ],\n",
       "       [  540.41174 ],\n",
       "       [  522.269   ],\n",
       "       [  566.47675 ],\n",
       "       [  602.2229  ],\n",
       "       [  637.45557 ],\n",
       "       [  646.46497 ],\n",
       "       [  637.0771  ],\n",
       "       [  584.32135 ],\n",
       "       [  572.3123  ],\n",
       "       [  614.57587 ],\n",
       "       [  681.1139  ],\n",
       "       [  765.9649  ],\n",
       "       [  805.7125  ],\n",
       "       [  847.779   ],\n",
       "       [  831.979   ],\n",
       "       [  935.2099  ],\n",
       "       [ 1007.2873  ],\n",
       "       [ 1042.3066  ],\n",
       "       [ 1196.9027  ],\n",
       "       [ 1441.379   ],\n",
       "       [ 1315.3301  ],\n",
       "       [ 1229.9652  ],\n",
       "       [ 1324.9653  ],\n",
       "       [ 1334.3534  ],\n",
       "       [ 1330.8423  ],\n",
       "       [ 1311.7148  ],\n",
       "       [ 1410.6122  ],\n",
       "       [ 1292.8066  ],\n",
       "       [ 1344.1241  ],\n",
       "       [ 1443.1113  ],\n",
       "       [ 1273.0571  ],\n",
       "       [ 1291.3258  ],\n",
       "       [ 1402.2987  ],\n",
       "       [ 1358.9568  ],\n",
       "       [ 1383.3015  ],\n",
       "       [ 1244.1569  ],\n",
       "       [ 1246.6599  ],\n",
       "       [ 1357.3289  ],\n",
       "       [ 1365.1112  ],\n",
       "       [ 1324.9436  ],\n",
       "       [ 1262.8115  ],\n",
       "       [ 1291.2299  ],\n",
       "       [ 1374.7211  ],\n",
       "       [ 1359.9152  ],\n",
       "       [ 1211.7075  ],\n",
       "       [ 1298.4614  ],\n",
       "       [ 1298.3152  ],\n",
       "       [ 1327.7612  ],\n",
       "       [ 1302.2844  ],\n",
       "       [ 1338.4901  ],\n",
       "       [ 1393.7219  ],\n",
       "       [ 1248.4575  ],\n",
       "       [ 1261.1691  ],\n",
       "       [ 1332.9884  ],\n",
       "       [ 1352.1823  ],\n",
       "       [ 1236.7805  ],\n",
       "       [ 1296.7749  ],\n",
       "       [ 1336.4243  ],\n",
       "       [ 1276.1758  ],\n",
       "       [ 1224.4708  ],\n",
       "       [ 1206.4215  ],\n",
       "       [ 1239.956   ],\n",
       "       [ 1257.5864  ],\n",
       "       [ 1195.996   ],\n",
       "       [ 1122.9337  ],\n",
       "       [ 1014.9625  ],\n",
       "       [  975.92957 ],\n",
       "       [ 1017.75006 ],\n",
       "       [ 1065.0327  ],\n",
       "       [ 1064.2502  ],\n",
       "       [ 1065.9138  ],\n",
       "       [  918.193   ],\n",
       "       [  912.26746 ],\n",
       "       [  880.8654  ],\n",
       "       [  891.8465  ],\n",
       "       [  867.4432  ],\n",
       "       [  813.27423 ],\n",
       "       [  815.0485  ],\n",
       "       [  730.10986 ],\n",
       "       [  830.1326  ],\n",
       "       [  719.6493  ],\n",
       "       [  721.6434  ],\n",
       "       [  753.31036 ],\n",
       "       [  757.65784 ],\n",
       "       [  958.37494 ],\n",
       "       [  894.32043 ],\n",
       "       [  814.0683  ],\n",
       "       [  925.21216 ],\n",
       "       [  825.96765 ],\n",
       "       [  898.0953  ],\n",
       "       [ 1021.06366 ],\n",
       "       [ 1170.6328  ],\n",
       "       [ 1177.3622  ],\n",
       "       [ 1100.8431  ],\n",
       "       [ 1127.2126  ],\n",
       "       [ 1272.0902  ],\n",
       "       [ 1420.1791  ],\n",
       "       [ 1525.0945  ],\n",
       "       [ 1701.2217  ],\n",
       "       [ 1604.8901  ],\n",
       "       [ 1391.09    ],\n",
       "       [ 1347.8931  ],\n",
       "       [ 1549.955   ],\n",
       "       [ 1587.2462  ],\n",
       "       [ 1730.6849  ],\n",
       "       [ 1630.9988  ],\n",
       "       [ 1486.4503  ],\n",
       "       [ 1241.5253  ],\n",
       "       [ 1231.1327  ],\n",
       "       [ 1445.8895  ],\n",
       "       [ 1562.8304  ],\n",
       "       [ 1494.2062  ],\n",
       "       [ 1458.7616  ],\n",
       "       [ 1265.7051  ],\n",
       "       [ 1231.5164  ],\n",
       "       [ 1189.889   ],\n",
       "       [ 1338.2776  ],\n",
       "       [ 1492.1794  ],\n",
       "       [ 1532.8766  ],\n",
       "       [ 1335.728   ],\n",
       "       [ 1283.9128  ],\n",
       "       [ 1312.9423  ],\n",
       "       [ 1186.6791  ],\n",
       "       [ 1263.1616  ],\n",
       "       [ 1595.0557  ],\n",
       "       [ 1719.7385  ],\n",
       "       [ 1893.4894  ],\n",
       "       [ 1747.6328  ],\n",
       "       [ 1642.8368  ],\n",
       "       [ 1606.9591  ],\n",
       "       [ 1985.1647  ],\n",
       "       [ 2177.3528  ],\n",
       "       [ 2346.1514  ],\n",
       "       [ 2310.1992  ],\n",
       "       [ 2232.3125  ],\n",
       "       [ 2096.6162  ],\n",
       "       [ 2360.829   ],\n",
       "       [ 2521.9346  ],\n",
       "       [ 2558.4932  ],\n",
       "       [ 2464.4326  ],\n",
       "       [ 2296.936   ],\n",
       "       [ 2071.0955  ],\n",
       "       [ 2131.2896  ],\n",
       "       [ 2223.7065  ],\n",
       "       [ 2560.196   ],\n",
       "       [ 2594.4597  ],\n",
       "       [ 2777.6733  ],\n",
       "       [ 2635.893   ],\n",
       "       [ 2636.6711  ],\n",
       "       [ 2705.803   ],\n",
       "       [ 3056.6394  ],\n",
       "       [ 3689.018   ],\n",
       "       [ 3673.8796  ],\n",
       "       [ 3153.7812  ],\n",
       "       [ 3351.238   ],\n",
       "       [ 3362.8096  ],\n",
       "       [ 3075.3564  ],\n",
       "       [ 3246.5347  ],\n",
       "       [ 3912.2217  ],\n",
       "       [ 3694.39    ],\n",
       "       [ 3806.6516  ],\n",
       "       [ 3333.5698  ],\n",
       "       [ 3388.8013  ],\n",
       "       [ 3142.7603  ],\n",
       "       [ 3242.7761  ],\n",
       "       [ 3085.8953  ],\n",
       "       [ 3400.8376  ],\n",
       "       [ 3541.211   ],\n",
       "       [ 3225.7427  ],\n",
       "       [ 2847.6348  ],\n",
       "       [ 3046.7236  ],\n",
       "       [ 3421.03    ],\n",
       "       [ 3894.602   ],\n",
       "       [ 4078.0269  ],\n",
       "       [ 3861.0386  ],\n",
       "       [ 3096.0862  ],\n",
       "       [ 3669.3525  ],\n",
       "       [ 3309.8477  ],\n",
       "       [ 3552.19    ],\n",
       "       [ 3652.62    ],\n",
       "       [ 3369.5173  ],\n",
       "       [ 3897.8047  ],\n",
       "       [ 3482.6702  ],\n",
       "       [ 2931.392   ],\n",
       "       [ 2491.812   ],\n",
       "       [ 2536.7446  ],\n",
       "       [ 2538.153   ],\n",
       "       [ 2311.0837  ],\n",
       "       [ 2601.6765  ],\n",
       "       [ 2736.2922  ],\n",
       "       [ 2301.8076  ],\n",
       "       [ 1772.8208  ],\n",
       "       [ 1275.3224  ],\n",
       "       [ 1610.6534  ],\n",
       "       [ 2063.8938  ],\n",
       "       [ 2129.1646  ],\n",
       "       [ 1966.8461  ],\n",
       "       [ 1709.8467  ],\n",
       "       [ 1364.683   ],\n",
       "       [  915.0532  ],\n",
       "       [ 1422.2806  ],\n",
       "       [ 1968.8765  ],\n",
       "       [ 1843.1942  ],\n",
       "       [ 1765.7822  ],\n",
       "       [ 1514.112   ],\n",
       "       [ 1189.9813  ],\n",
       "       [  928.44965 ],\n",
       "       [ 1292.4402  ],\n",
       "       [ 1884.068   ],\n",
       "       [ 2161.1543  ],\n",
       "       [ 1750.6522  ],\n",
       "       [ 1374.0586  ],\n",
       "       [ 1072.1942  ],\n",
       "       [  732.9626  ],\n",
       "       [ 1146.2412  ],\n",
       "       [ 1715.5925  ],\n",
       "       [ 1888.124   ],\n",
       "       [ 1903.2188  ],\n",
       "       [ 1566.7393  ],\n",
       "       [ 1291.396   ],\n",
       "       [ 1135.7355  ],\n",
       "       [ 1405.0422  ],\n",
       "       [ 1851.2795  ],\n",
       "       [ 1767.4941  ],\n",
       "       [ 1538.6323  ],\n",
       "       [ 1275.0042  ],\n",
       "       [  978.17834 ],\n",
       "       [  952.8171  ],\n",
       "       [ 1337.4806  ],\n",
       "       [ 1535.264   ],\n",
       "       [ 1454.3156  ],\n",
       "       [ 1170.1844  ],\n",
       "       [  688.8516  ],\n",
       "       [  519.53204 ],\n",
       "       [  755.2252  ],\n",
       "       [ 1120.7981  ],\n",
       "       [ 1302.2418  ],\n",
       "       [ 1085.5706  ],\n",
       "       [  764.1487  ],\n",
       "       [  570.15234 ],\n",
       "       [  505.50543 ],\n",
       "       [  804.8901  ],\n",
       "       [ 1019.6587  ],\n",
       "       [ 1302.5411  ],\n",
       "       [ 1145.6841  ],\n",
       "       [  925.5255  ],\n",
       "       [  689.2695  ],\n",
       "       [  770.1903  ],\n",
       "       [  873.4094  ],\n",
       "       [ 1098.2078  ],\n",
       "       [ 1376.7135  ],\n",
       "       [ 1162.6372  ],\n",
       "       [  898.6905  ],\n",
       "       [  666.0054  ],\n",
       "       [  657.65643 ],\n",
       "       [  808.8093  ],\n",
       "       [ 1057.2423  ],\n",
       "       [ 1182.8213  ],\n",
       "       [  996.17584 ],\n",
       "       [  780.1728  ],\n",
       "       [  572.81995 ],\n",
       "       [  593.1715  ],\n",
       "       [  694.7264  ],\n",
       "       [  989.34924 ],\n",
       "       [ 1095.7609  ],\n",
       "       [  978.91815 ],\n",
       "       [  768.27515 ],\n",
       "       [  626.05206 ],\n",
       "       [  598.24817 ],\n",
       "       [  659.3501  ],\n",
       "       [  857.1163  ],\n",
       "       [  977.8973  ],\n",
       "       [  852.70416 ],\n",
       "       [  553.60443 ],\n",
       "       [  326.08246 ],\n",
       "       [  363.1661  ],\n",
       "       [  417.47162 ],\n",
       "       [  622.50494 ],\n",
       "       [  749.60284 ],\n",
       "       [  681.22974 ],\n",
       "       [  639.1108  ],\n",
       "       [  614.09937 ],\n",
       "       [  719.2893  ],\n",
       "       [  744.9386  ],\n",
       "       [  890.6127  ],\n",
       "       [ 1032.1476  ],\n",
       "       [  848.32196 ],\n",
       "       [  797.4779  ],\n",
       "       [  821.67413 ],\n",
       "       [  787.00397 ],\n",
       "       [  829.19977 ],\n",
       "       [  951.31476 ],\n",
       "       [ 1008.9925  ],\n",
       "       [ 1035.6658  ],\n",
       "       [ 1116.3555  ],\n",
       "       [  933.33514 ],\n",
       "       [  985.1401  ],\n",
       "       [  988.3568  ],\n",
       "       [ 1439.0813  ],\n",
       "       [ 2035.4183  ],\n",
       "       [ 2398.4146  ],\n",
       "       [ 2552.9973  ],\n",
       "       [ 2729.0696  ],\n",
       "       [ 2962.2466  ],\n",
       "       [ 2869.652   ],\n",
       "       [ 3639.0098  ],\n",
       "       [ 4924.7085  ],\n",
       "       [ 5738.535   ],\n",
       "       [ 5839.5234  ],\n",
       "       [ 5687.777   ],\n",
       "       [ 5318.2324  ],\n",
       "       [ 5273.3623  ],\n",
       "       [ 6654.3403  ],\n",
       "       [ 8343.099   ],\n",
       "       [ 8782.883   ],\n",
       "       [ 9937.357   ],\n",
       "       [ 8950.171   ],\n",
       "       [ 7777.001   ],\n",
       "       [ 9166.715   ],\n",
       "       [10246.316   ],\n",
       "       [ 9783.892   ],\n",
       "       [10879.9     ],\n",
       "       [11769.331   ],\n",
       "       [11766.664   ],\n",
       "       [10662.283   ],\n",
       "       [10607.765   ],\n",
       "       [12643.504   ],\n",
       "       [14472.479   ],\n",
       "       [14984.895   ],\n",
       "       [15186.616   ],\n",
       "       [14398.271   ],\n",
       "       [14381.447   ],\n",
       "       [13773.829   ],\n",
       "       [14331.584   ],\n",
       "       [13557.948   ],\n",
       "       [12327.475   ],\n",
       "       [ 9791.962   ],\n",
       "       [ 7500.577   ],\n",
       "       [ 5640.5225  ],\n",
       "       [ 6366.272   ],\n",
       "       [ 7175.954   ],\n",
       "       [ 8484.26    ],\n",
       "       [ 9560.984   ],\n",
       "       [ 7592.579   ],\n",
       "       [ 3035.4185  ],\n",
       "       [ 4192.4707  ],\n",
       "       [ 5619.245   ],\n",
       "       [ 4952.405   ],\n",
       "       [ 3991.3455  ],\n",
       "       [ 3301.6353  ],\n",
       "       [ 2625.5068  ],\n",
       "       [ 2037.9099  ],\n",
       "       [ 1851.5206  ],\n",
       "       [ 2269.623   ],\n",
       "       [ 2784.515   ],\n",
       "       [ 2558.983   ],\n",
       "       [ 2143.105   ],\n",
       "       [ 1591.5184  ],\n",
       "       [ 1256.5713  ],\n",
       "       [ 1239.1436  ],\n",
       "       [ 1712.8829  ],\n",
       "       [ 2012.1414  ],\n",
       "       [ 1735.5623  ],\n",
       "       [ 1454.0194  ],\n",
       "       [ 1066.3278  ],\n",
       "       [  696.7122  ],\n",
       "       [  692.1334  ],\n",
       "       [ 1045.2654  ],\n",
       "       [ 1269.771   ],\n",
       "       [ 1193.1471  ],\n",
       "       [  992.0932  ],\n",
       "       [  592.736   ],\n",
       "       [  358.97614 ],\n",
       "       [  590.881   ],\n",
       "       [  826.5722  ],\n",
       "       [  941.60254 ],\n",
       "       [  810.3382  ],\n",
       "       [  613.5185  ],\n",
       "       [  302.88943 ],\n",
       "       [  187.78592 ],\n",
       "       [  317.67435 ],\n",
       "       [  534.56604 ],\n",
       "       [  678.8599  ],\n",
       "       [  570.2433  ],\n",
       "       [  410.75336 ],\n",
       "       [  257.43503 ],\n",
       "       [  212.37071 ],\n",
       "       [  288.62067 ],\n",
       "       [  404.80017 ],\n",
       "       [  454.918   ],\n",
       "       [  385.89032 ],\n",
       "       [  307.0015  ],\n",
       "       [  201.90291 ],\n",
       "       [  177.53171 ],\n",
       "       [  206.54424 ],\n",
       "       [  278.37982 ],\n",
       "       [  321.73428 ],\n",
       "       [  246.86671 ],\n",
       "       [  181.07626 ],\n",
       "       [  122.341965],\n",
       "       [  121.27211 ],\n",
       "       [  160.26099 ],\n",
       "       [  200.96797 ],\n",
       "       [  218.62207 ],\n",
       "       [  163.95645 ],\n",
       "       [  115.082825],\n",
       "       [   73.15864 ],\n",
       "       [   95.67399 ],\n",
       "       [  130.31708 ],\n",
       "       [  163.16089 ],\n",
       "       [  172.2153  ],\n",
       "       [  137.41061 ],\n",
       "       [  106.95381 ],\n",
       "       [   87.00643 ],\n",
       "       [   83.578064],\n",
       "       [  111.49    ],\n",
       "       [  128.44966 ],\n",
       "       [  155.87288 ],\n",
       "       [  136.87607 ],\n",
       "       [  115.11453 ],\n",
       "       [   89.20414 ],\n",
       "       [   91.48464 ],\n",
       "       [   96.372444],\n",
       "       [  130.43584 ],\n",
       "       [  172.62277 ],\n",
       "       [  130.81593 ],\n",
       "       [   99.80854 ],\n",
       "       [   88.8961  ],\n",
       "       [   94.52559 ],\n",
       "       [  113.14594 ],\n",
       "       [  130.63364 ],\n",
       "       [  128.67972 ],\n",
       "       [  106.71102 ],\n",
       "       [   85.618744],\n",
       "       [   79.946045],\n",
       "       [   87.6253  ]], dtype=float32)"
      ]
     },
     "execution_count": 34,
     "metadata": {},
     "output_type": "execute_result"
    }
   ],
   "source": [
    "train_predict"
   ]
  },
  {
   "cell_type": "code",
   "execution_count": 35,
   "id": "32b7ffe3",
   "metadata": {
    "scrolled": true
   },
   "outputs": [
    {
     "data": {
      "image/png": "[encoded data removed]",
      "text/plain": [
       "<Figure size 432x288 with 1 Axes>"
      ]
     },
     "metadata": {
      "needs_background": "light"
     },
     "output_type": "display_data"
    }
   ],
   "source": [
    "# Plot \n",
    "look_back = 30\n",
    "trainPredictPlot = np.empty_like(df)\n",
    "trainPredictPlot[:, :] = np.nan\n",
    "trainPredictPlot[look_back:len(train_predict)+look_back, :] = train_predict\n",
    "\n",
    "#shift test predict\n",
    "testPredictPlot = np.empty_like(df)\n",
    "testPredictPlot[:, :] = np.nan\n",
    "testPredictPlot[len(train_predict)+(look_back*2)+1:len(df)-1, :] = test_predict\n",
    "\n",
    "#plot baseline\n",
    "plt.plot(scaler.inverse_transform(df))\n",
    "plt.plot(scaler.inverse_transform(trainPredictPlot))\n",
    "plt.plot(scaler.inverse_transform(testPredictPlot))\n",
    "plt.show()"
   ]
  },
  {
   "cell_type": "code",
   "execution_count": 36,
   "id": "7bed18aa",
   "metadata": {},
   "outputs": [
    {
     "data": {
      "image/png": "[encoded data removed]",
      "text/plain": [
       "<Figure size 432x288 with 1 Axes>"
      ]
     },
     "metadata": {
      "needs_background": "light"
     },
     "output_type": "display_data"
    }
   ],
   "source": [
    "#shift test predict\n",
    "testPredictPlot = np.empty_like(df)\n",
    "testPredictPlot[:, :] = np.nan\n",
    "testPredictPlot[len(train_predict)+(look_back*2)+1:len(df)-1, :] = test_predict\n",
    "\n",
    "#plot baseline\n",
    "plt.plot(scaler.inverse_transform(df))\n",
    "plt.plot(scaler.inverse_transform(testPredictPlot))\n",
    "plt.xlim(X_train.shape[0], df.shape[0])\n",
    "plt.show()"
   ]
  },
  {
   "cell_type": "code",
   "execution_count": 37,
   "id": "1355b3d3",
   "metadata": {},
   "outputs": [
    {
     "data": {
      "text/plain": [
       "192"
      ]
     },
     "execution_count": 37,
     "metadata": {},
     "output_type": "execute_result"
    }
   ],
   "source": [
    "len(test_data)"
   ]
  },
  {
   "cell_type": "code",
   "execution_count": 38,
   "id": "0767587c",
   "metadata": {},
   "outputs": [
    {
     "data": {
      "text/plain": [
       "(1, 30)"
      ]
     },
     "execution_count": 38,
     "metadata": {},
     "output_type": "execute_result"
    }
   ],
   "source": [
    "x_input=test_data[162:].reshape(1,-1) #test data - step(30)\n",
    "x_input.shape"
   ]
  },
  {
   "cell_type": "code",
   "execution_count": 39,
   "id": "2f64bd8f",
   "metadata": {},
   "outputs": [],
   "source": [
    "temp_input=list(x_input)\n",
    "temp_input=temp_input[0].tolist()"
   ]
  },
  {
   "cell_type": "code",
   "execution_count": 40,
   "id": "9594be28",
   "metadata": {
    "scrolled": true
   },
   "outputs": [
    {
     "data": {
      "text/plain": [
       "[0.04174308851361275,\n",
       " 0.036556825041770935,\n",
       " 0.027575738728046417,\n",
       " 0.02245272323489189,\n",
       " 0.018847638741135597,\n",
       " 0.021567264571785927,\n",
       " 0.043324265629053116,\n",
       " 0.0036683320067822933,\n",
       " 0.018721144646406174,\n",
       " 0.011321231722831726,\n",
       " 0.01144772581756115,\n",
       " 0.009866548702120781,\n",
       " 0.010435772128403187,\n",
       " 0.013724621385335922,\n",
       " 0.009170830249786377,\n",
       " 0.01271266769617796,\n",
       " 0.009993042796850204,\n",
       " 0.0076528992503881454,\n",
       " 0.005502498243004084,\n",
       " 0.011700714007019997,\n",
       " 0.007336664013564587,\n",
       " 0.006261463277041912,\n",
       " 0.00708367582410574,\n",
       " 0.008664852939546108,\n",
       " 0.0042375558987259865,\n",
       " 0.004680285695940256,\n",
       " 0.0016444247448816895,\n",
       " 0.0030358610674738884,\n",
       " 0.004490544553846121,\n",
       " 0.004743532743304968]"
      ]
     },
     "execution_count": 40,
     "metadata": {},
     "output_type": "execute_result"
    }
   ],
   "source": [
    "temp_input"
   ]
  },
  {
   "cell_type": "code",
   "execution_count": 41,
   "id": "54a16704",
   "metadata": {},
   "outputs": [
    {
     "name": "stdout",
     "output_type": "stream",
     "text": [
      "[0.00467694]\n",
      "31\n",
      "1 day input [0.03655683 0.02757574 0.02245272 0.01884764 0.02156726 0.04332427\n",
      " 0.00366833 0.01872114 0.01132123 0.01144773 0.00986655 0.01043577\n",
      " 0.01372462 0.00917083 0.01271267 0.00999304 0.0076529  0.0055025\n",
      " 0.01170071 0.00733666 0.00626146 0.00708368 0.00866485 0.00423756\n",
      " 0.00468029 0.00164442 0.00303586 0.00449054 0.00474353 0.00467694]\n",
      "1 day output [[0.00371135]]\n",
      "2 day input [0.02757574 0.02245272 0.01884764 0.02156726 0.04332427 0.00366833\n",
      " 0.01872114 0.01132123 0.01144773 0.00986655 0.01043577 0.01372462\n",
      " 0.00917083 0.01271267 0.00999304 0.0076529  0.0055025  0.01170071\n",
      " 0.00733666 0.00626146 0.00708368 0.00866485 0.00423756 0.00468029\n",
      " 0.00164442 0.00303586 0.00449054 0.00474353 0.00467694 0.00371135]\n",
      "2 day output [[0.00429492]]\n",
      "3 day input [0.02245272 0.01884764 0.02156726 0.04332427 0.00366833 0.01872114\n",
      " 0.01132123 0.01144773 0.00986655 0.01043577 0.01372462 0.00917083\n",
      " 0.01271267 0.00999304 0.0076529  0.0055025  0.01170071 0.00733666\n",
      " 0.00626146 0.00708368 0.00866485 0.00423756 0.00468029 0.00164442\n",
      " 0.00303586 0.00449054 0.00474353 0.00467694 0.00371135 0.00429492]\n",
      "3 day output [[0.00589363]]\n",
      "4 day input [0.01884764 0.02156726 0.04332427 0.00366833 0.01872114 0.01132123\n",
      " 0.01144773 0.00986655 0.01043577 0.01372462 0.00917083 0.01271267\n",
      " 0.00999304 0.0076529  0.0055025  0.01170071 0.00733666 0.00626146\n",
      " 0.00708368 0.00866485 0.00423756 0.00468029 0.00164442 0.00303586\n",
      " 0.00449054 0.00474353 0.00467694 0.00371135 0.00429492 0.00589363]\n",
      "4 day output [[0.00694292]]\n",
      "5 day input [0.02156726 0.04332427 0.00366833 0.01872114 0.01132123 0.01144773\n",
      " 0.00986655 0.01043577 0.01372462 0.00917083 0.01271267 0.00999304\n",
      " 0.0076529  0.0055025  0.01170071 0.00733666 0.00626146 0.00708368\n",
      " 0.00866485 0.00423756 0.00468029 0.00164442 0.00303586 0.00449054\n",
      " 0.00474353 0.00467694 0.00371135 0.00429492 0.00589363 0.00694292]\n",
      "5 day output [[0.00667492]]\n",
      "6 day input [0.04332427 0.00366833 0.01872114 0.01132123 0.01144773 0.00986655\n",
      " 0.01043577 0.01372462 0.00917083 0.01271267 0.00999304 0.0076529\n",
      " 0.0055025  0.01170071 0.00733666 0.00626146 0.00708368 0.00866485\n",
      " 0.00423756 0.00468029 0.00164442 0.00303586 0.00449054 0.00474353\n",
      " 0.00467694 0.00371135 0.00429492 0.00589363 0.00694292 0.00667492]\n",
      "6 day output [[0.0054971]]\n",
      "7 day input [0.00366833 0.01872114 0.01132123 0.01144773 0.00986655 0.01043577\n",
      " 0.01372462 0.00917083 0.01271267 0.00999304 0.0076529  0.0055025\n",
      " 0.01170071 0.00733666 0.00626146 0.00708368 0.00866485 0.00423756\n",
      " 0.00468029 0.00164442 0.00303586 0.00449054 0.00474353 0.00467694\n",
      " 0.00371135 0.00429492 0.00589363 0.00694292 0.00667492 0.0054971 ]\n",
      "7 day output [[0.0051924]]\n",
      "8 day input [0.01872114 0.01132123 0.01144773 0.00986655 0.01043577 0.01372462\n",
      " 0.00917083 0.01271267 0.00999304 0.0076529  0.0055025  0.01170071\n",
      " 0.00733666 0.00626146 0.00708368 0.00866485 0.00423756 0.00468029\n",
      " 0.00164442 0.00303586 0.00449054 0.00474353 0.00467694 0.00371135\n",
      " 0.00429492 0.00589363 0.00694292 0.00667492 0.0054971  0.0051924 ]\n",
      "8 day output [[0.00443879]]\n",
      "9 day input [0.01132123 0.01144773 0.00986655 0.01043577 0.01372462 0.00917083\n",
      " 0.01271267 0.00999304 0.0076529  0.0055025  0.01170071 0.00733666\n",
      " 0.00626146 0.00708368 0.00866485 0.00423756 0.00468029 0.00164442\n",
      " 0.00303586 0.00449054 0.00474353 0.00467694 0.00371135 0.00429492\n",
      " 0.00589363 0.00694292 0.00667492 0.0054971  0.0051924  0.00443879]\n",
      "9 day output [[0.00447222]]\n",
      "10 day input [0.01144773 0.00986655 0.01043577 0.01372462 0.00917083 0.01271267\n",
      " 0.00999304 0.0076529  0.0055025  0.01170071 0.00733666 0.00626146\n",
      " 0.00708368 0.00866485 0.00423756 0.00468029 0.00164442 0.00303586\n",
      " 0.00449054 0.00474353 0.00467694 0.00371135 0.00429492 0.00589363\n",
      " 0.00694292 0.00667492 0.0054971  0.0051924  0.00443879 0.00447222]\n",
      "10 day output [[0.0049973]]\n",
      "11 day input [0.00986655 0.01043577 0.01372462 0.00917083 0.01271267 0.00999304\n",
      " 0.0076529  0.0055025  0.01170071 0.00733666 0.00626146 0.00708368\n",
      " 0.00866485 0.00423756 0.00468029 0.00164442 0.00303586 0.00449054\n",
      " 0.00474353 0.00467694 0.00371135 0.00429492 0.00589363 0.00694292\n",
      " 0.00667492 0.0054971  0.0051924  0.00443879 0.00447222 0.0049973 ]\n",
      "11 day output [[0.00569249]]\n",
      "12 day input [0.01043577 0.01372462 0.00917083 0.01271267 0.00999304 0.0076529\n",
      " 0.0055025  0.01170071 0.00733666 0.00626146 0.00708368 0.00866485\n",
      " 0.00423756 0.00468029 0.00164442 0.00303586 0.00449054 0.00474353\n",
      " 0.00467694 0.00371135 0.00429492 0.00589363 0.00694292 0.00667492\n",
      " 0.0054971  0.0051924  0.00443879 0.00447222 0.0049973  0.00569249]\n",
      "12 day output [[0.00600529]]\n",
      "13 day input [0.01372462 0.00917083 0.01271267 0.00999304 0.0076529  0.0055025\n",
      " 0.01170071 0.00733666 0.00626146 0.00708368 0.00866485 0.00423756\n",
      " 0.00468029 0.00164442 0.00303586 0.00449054 0.00474353 0.00467694\n",
      " 0.00371135 0.00429492 0.00589363 0.00694292 0.00667492 0.0054971\n",
      " 0.0051924  0.00443879 0.00447222 0.0049973  0.00569249 0.00600529]\n",
      "13 day output [[0.00578847]]\n",
      "14 day input [0.00917083 0.01271267 0.00999304 0.0076529  0.0055025  0.01170071\n",
      " 0.00733666 0.00626146 0.00708368 0.00866485 0.00423756 0.00468029\n",
      " 0.00164442 0.00303586 0.00449054 0.00474353 0.00467694 0.00371135\n",
      " 0.00429492 0.00589363 0.00694292 0.00667492 0.0054971  0.0051924\n",
      " 0.00443879 0.00447222 0.0049973  0.00569249 0.00600529 0.00578847]\n",
      "14 day output [[0.00536056]]\n",
      "15 day input [0.01271267 0.00999304 0.0076529  0.0055025  0.01170071 0.00733666\n",
      " 0.00626146 0.00708368 0.00866485 0.00423756 0.00468029 0.00164442\n",
      " 0.00303586 0.00449054 0.00474353 0.00467694 0.00371135 0.00429492\n",
      " 0.00589363 0.00694292 0.00667492 0.0054971  0.0051924  0.00443879\n",
      " 0.00447222 0.0049973  0.00569249 0.00600529 0.00578847 0.00536056]\n",
      "15 day output [[0.00480074]]\n",
      "16 day input [0.00999304 0.0076529  0.0055025  0.01170071 0.00733666 0.00626146\n",
      " 0.00708368 0.00866485 0.00423756 0.00468029 0.00164442 0.00303586\n",
      " 0.00449054 0.00474353 0.00467694 0.00371135 0.00429492 0.00589363\n",
      " 0.00694292 0.00667492 0.0054971  0.0051924  0.00443879 0.00447222\n",
      " 0.0049973  0.00569249 0.00600529 0.00578847 0.00536056 0.00480074]\n",
      "16 day output [[0.00472546]]\n",
      "17 day input [0.0076529  0.0055025  0.01170071 0.00733666 0.00626146 0.00708368\n",
      " 0.00866485 0.00423756 0.00468029 0.00164442 0.00303586 0.00449054\n",
      " 0.00474353 0.00467694 0.00371135 0.00429492 0.00589363 0.00694292\n",
      " 0.00667492 0.0054971  0.0051924  0.00443879 0.00447222 0.0049973\n",
      " 0.00569249 0.00600529 0.00578847 0.00536056 0.00480074 0.00472546]\n",
      "17 day output [[0.00516874]]\n",
      "18 day input [0.0055025  0.01170071 0.00733666 0.00626146 0.00708368 0.00866485\n",
      " 0.00423756 0.00468029 0.00164442 0.00303586 0.00449054 0.00474353\n",
      " 0.00467694 0.00371135 0.00429492 0.00589363 0.00694292 0.00667492\n",
      " 0.0054971  0.0051924  0.00443879 0.00447222 0.0049973  0.00569249\n",
      " 0.00600529 0.00578847 0.00536056 0.00480074 0.00472546 0.00516874]\n",
      "18 day output [[0.00571324]]\n",
      "19 day input [0.01170071 0.00733666 0.00626146 0.00708368 0.00866485 0.00423756\n",
      " 0.00468029 0.00164442 0.00303586 0.00449054 0.00474353 0.00467694\n",
      " 0.00371135 0.00429492 0.00589363 0.00694292 0.00667492 0.0054971\n",
      " 0.0051924  0.00443879 0.00447222 0.0049973  0.00569249 0.00600529\n",
      " 0.00578847 0.00536056 0.00480074 0.00472546 0.00516874 0.00571324]\n",
      "19 day output [[0.00585192]]\n",
      "20 day input [0.00733666 0.00626146 0.00708368 0.00866485 0.00423756 0.00468029\n",
      " 0.00164442 0.00303586 0.00449054 0.00474353 0.00467694 0.00371135\n",
      " 0.00429492 0.00589363 0.00694292 0.00667492 0.0054971  0.0051924\n",
      " 0.00443879 0.00447222 0.0049973  0.00569249 0.00600529 0.00578847\n",
      " 0.00536056 0.00480074 0.00472546 0.00516874 0.00571324 0.00585192]\n",
      "20 day output [[0.00574537]]\n",
      "21 day input [0.00626146 0.00708368 0.00866485 0.00423756 0.00468029 0.00164442\n",
      " 0.00303586 0.00449054 0.00474353 0.00467694 0.00371135 0.00429492\n",
      " 0.00589363 0.00694292 0.00667492 0.0054971  0.0051924  0.00443879\n",
      " 0.00447222 0.0049973  0.00569249 0.00600529 0.00578847 0.00536056\n",
      " 0.00480074 0.00472546 0.00516874 0.00571324 0.00585192 0.00574537]\n",
      "21 day output [[0.00529135]]\n",
      "22 day input [0.00708368 0.00866485 0.00423756 0.00468029 0.00164442 0.00303586\n",
      " 0.00449054 0.00474353 0.00467694 0.00371135 0.00429492 0.00589363\n",
      " 0.00694292 0.00667492 0.0054971  0.0051924  0.00443879 0.00447222\n",
      " 0.0049973  0.00569249 0.00600529 0.00578847 0.00536056 0.00480074\n",
      " 0.00472546 0.00516874 0.00571324 0.00585192 0.00574537 0.00529135]\n",
      "22 day output [[0.00477249]]\n",
      "23 day input [0.00866485 0.00423756 0.00468029 0.00164442 0.00303586 0.00449054\n",
      " 0.00474353 0.00467694 0.00371135 0.00429492 0.00589363 0.00694292\n",
      " 0.00667492 0.0054971  0.0051924  0.00443879 0.00447222 0.0049973\n",
      " 0.00569249 0.00600529 0.00578847 0.00536056 0.00480074 0.00472546\n",
      " 0.00516874 0.00571324 0.00585192 0.00574537 0.00529135 0.00477249]\n",
      "23 day output [[0.00464927]]\n",
      "24 day input [0.00423756 0.00468029 0.00164442 0.00303586 0.00449054 0.00474353\n",
      " 0.00467694 0.00371135 0.00429492 0.00589363 0.00694292 0.00667492\n",
      " 0.0054971  0.0051924  0.00443879 0.00447222 0.0049973  0.00569249\n",
      " 0.00600529 0.00578847 0.00536056 0.00480074 0.00472546 0.00516874\n",
      " 0.00571324 0.00585192 0.00574537 0.00529135 0.00477249 0.00464927]\n"
     ]
    },
    {
     "name": "stdout",
     "output_type": "stream",
     "text": [
      "24 day output [[0.00504828]]\n",
      "25 day input [0.00468029 0.00164442 0.00303586 0.00449054 0.00474353 0.00467694\n",
      " 0.00371135 0.00429492 0.00589363 0.00694292 0.00667492 0.0054971\n",
      " 0.0051924  0.00443879 0.00447222 0.0049973  0.00569249 0.00600529\n",
      " 0.00578847 0.00536056 0.00480074 0.00472546 0.00516874 0.00571324\n",
      " 0.00585192 0.00574537 0.00529135 0.00477249 0.00464927 0.00504828]\n",
      "25 day output [[0.00546491]]\n",
      "26 day input [0.00164442 0.00303586 0.00449054 0.00474353 0.00467694 0.00371135\n",
      " 0.00429492 0.00589363 0.00694292 0.00667492 0.0054971  0.0051924\n",
      " 0.00443879 0.00447222 0.0049973  0.00569249 0.00600529 0.00578847\n",
      " 0.00536056 0.00480074 0.00472546 0.00516874 0.00571324 0.00585192\n",
      " 0.00574537 0.00529135 0.00477249 0.00464927 0.00504828 0.00546491]\n",
      "26 day output [[0.0055947]]\n",
      "27 day input [0.00303586 0.00449054 0.00474353 0.00467694 0.00371135 0.00429492\n",
      " 0.00589363 0.00694292 0.00667492 0.0054971  0.0051924  0.00443879\n",
      " 0.00447222 0.0049973  0.00569249 0.00600529 0.00578847 0.00536056\n",
      " 0.00480074 0.00472546 0.00516874 0.00571324 0.00585192 0.00574537\n",
      " 0.00529135 0.00477249 0.00464927 0.00504828 0.00546491 0.0055947 ]\n",
      "27 day output [[0.00520273]]\n",
      "28 day input [0.00449054 0.00474353 0.00467694 0.00371135 0.00429492 0.00589363\n",
      " 0.00694292 0.00667492 0.0054971  0.0051924  0.00443879 0.00447222\n",
      " 0.0049973  0.00569249 0.00600529 0.00578847 0.00536056 0.00480074\n",
      " 0.00472546 0.00516874 0.00571324 0.00585192 0.00574537 0.00529135\n",
      " 0.00477249 0.00464927 0.00504828 0.00546491 0.0055947  0.00520273]\n",
      "28 day output [[0.00461041]]\n",
      "29 day input [0.00474353 0.00467694 0.00371135 0.00429492 0.00589363 0.00694292\n",
      " 0.00667492 0.0054971  0.0051924  0.00443879 0.00447222 0.0049973\n",
      " 0.00569249 0.00600529 0.00578847 0.00536056 0.00480074 0.00472546\n",
      " 0.00516874 0.00571324 0.00585192 0.00574537 0.00529135 0.00477249\n",
      " 0.00464927 0.00504828 0.00546491 0.0055947  0.00520273 0.00461041]\n",
      "29 day output [[0.00428839]]\n",
      "[[0.004676942713558674], [0.0037113474681973457], [0.004294916987419128], [0.005893634632229805], [0.006942924112081528], [0.00667492114007473], [0.005497097037732601], [0.0051923999562859535], [0.004438791424036026], [0.0044722165912389755], [0.004997304640710354], [0.005692493170499802], [0.006005294620990753], [0.005788467824459076], [0.005360559560358524], [0.004800735041499138], [0.004725463688373566], [0.005168737843632698], [0.005713239312171936], [0.005851922556757927], [0.005745370872318745], [0.0052913473919034], [0.0047724898904562], [0.004649274051189423], [0.0050482843071222305], [0.005464906804263592], [0.005594698712229729], [0.005202731117606163], [0.00461040623486042], [0.004288388416171074]]\n"
     ]
    }
   ],
   "source": [
    "# prediction for next 30 days\n",
    "from numpy import array\n",
    "\n",
    "lst_output=[]\n",
    "n_steps=30\n",
    "i=0\n",
    "while(i<30): #30 hari\n",
    "    \n",
    "    if(len(temp_input)>30):\n",
    "        #print(temp_input)\n",
    "        x_input=np.array(temp_input[1:])\n",
    "        print(\"{} day input {}\".format(i,x_input))\n",
    "        x_input=x_input.reshape(1,-1)\n",
    "        x_input = x_input.reshape((1, n_steps, 1))\n",
    "        #print(x_input)\n",
    "        yhat = model.predict(x_input, verbose=0)\n",
    "        print(\"{} day output {}\".format(i,yhat))\n",
    "        temp_input.extend(yhat[0].tolist())\n",
    "        temp_input=temp_input[1:]\n",
    "        #print(temp_input)\n",
    "        lst_output.extend(yhat.tolist())\n",
    "        i=i+1\n",
    "    else:\n",
    "        x_input = x_input.reshape((1, n_steps,1))\n",
    "        yhat = model.predict(x_input, verbose=0)\n",
    "        print(yhat[0])\n",
    "        temp_input.extend(yhat[0].tolist())\n",
    "        print(len(temp_input))\n",
    "        lst_output.extend(yhat.tolist())\n",
    "        i=i+1\n",
    "    \n",
    "\n",
    "print(lst_output)"
   ]
  },
  {
   "cell_type": "code",
   "execution_count": 42,
   "id": "447dcca0",
   "metadata": {},
   "outputs": [],
   "source": [
    "day_new=np.arange(1,31) # dari data 30 hari terakhir\n",
    "day_pred=np.arange(31,61) #predict 30 hari kedepan"
   ]
  },
  {
   "cell_type": "code",
   "execution_count": 43,
   "id": "91dd51a7",
   "metadata": {},
   "outputs": [
    {
     "data": {
      "text/plain": [
       "766"
      ]
     },
     "execution_count": 43,
     "metadata": {},
     "output_type": "execute_result"
    }
   ],
   "source": [
    "len(df)"
   ]
  },
  {
   "cell_type": "code",
   "execution_count": 44,
   "id": "86fd0fa7",
   "metadata": {},
   "outputs": [
    {
     "data": {
      "text/plain": [
       "30"
      ]
     },
     "execution_count": 44,
     "metadata": {},
     "output_type": "execute_result"
    }
   ],
   "source": [
    "len(day_pred)"
   ]
  },
  {
   "cell_type": "code",
   "execution_count": 45,
   "id": "e0730cc4",
   "metadata": {
    "scrolled": true
   },
   "outputs": [
    {
     "data": {
      "text/plain": [
       "[<matplotlib.lines.Line2D at 0x24a3e250e48>]"
      ]
     },
     "execution_count": 45,
     "metadata": {},
     "output_type": "execute_result"
    },
    {
     "data": {
      "image/png": "[encoded data removed]",
      "text/plain": [
       "<Figure size 432x288 with 1 Axes>"
      ]
     },
     "metadata": {
      "needs_background": "light"
     },
     "output_type": "display_data"
    }
   ],
   "source": [
    "plt.plot(day_new,df[736:]) # [total data - prediction(30)] \n",
    "plt.plot(day_pred,scaler.inverse_transform(lst_output))"
   ]
  },
  {
   "cell_type": "code",
   "execution_count": 46,
   "id": "07cc7ca7",
   "metadata": {},
   "outputs": [
    {
     "data": {
      "text/plain": [
       "[<matplotlib.lines.Line2D at 0x24a3e3874c8>]"
      ]
     },
     "execution_count": 46,
     "metadata": {},
     "output_type": "execute_result"
    },
    {
     "data": {
      "image/png": "[encoded data removed]",
      "text/plain": [
       "<Figure size 432x288 with 1 Axes>"
      ]
     },
     "metadata": {
      "needs_background": "light"
     },
     "output_type": "display_data"
    }
   ],
   "source": [
    "df2=df.tolist()\n",
    "df2.extend(scaler.inverse_transform(lst_output))\n",
    "plt.plot(df2)"
   ]
  },
  {
   "cell_type": "code",
   "execution_count": 47,
   "id": "4e90a3ff",
   "metadata": {
    "scrolled": true
   },
   "outputs": [
    {
     "data": {
      "text/plain": [
       "[<matplotlib.lines.Line2D at 0x24a3e366b08>]"
      ]
     },
     "execution_count": 47,
     "metadata": {},
     "output_type": "execute_result"
    },
    {
     "data": {
      "image/png": "[encoded data removed]",
      "text/plain": [
       "<Figure size 432x288 with 1 Axes>"
      ]
     },
     "metadata": {
      "needs_background": "light"
     },
     "output_type": "display_data"
    }
   ],
   "source": [
    "df2=scaler.inverse_transform(df2).tolist()\n",
    "plt.plot(df2)"
   ]
  },
  {
   "cell_type": "code",
   "execution_count": 48,
   "id": "3cf7831d",
   "metadata": {},
   "outputs": [
    {
     "name": "stdout",
     "output_type": "stream",
     "text": [
      "WARNING:tensorflow:Model was constructed with shape (None, 30, 1) for input KerasTensor(type_spec=TensorSpec(shape=(None, 30, 1), dtype=tf.float32, name='lstm_input'), name='lstm_input', description=\"created by layer 'lstm_input'\"), but it was called on an input with incompatible shape (None, 1, 1).\n",
      "loss: 904031600.000000\n"
     ]
    }
   ],
   "source": [
    "# evaluate the model\n",
    "scores = model.evaluate(X_train, Y_train, verbose=0)\n",
    "print(\"%s: %f\" % (model.metrics_names[0], scores*100))"
   ]
  },
  {
   "cell_type": "code",
   "execution_count": null,
   "id": "6f5db27b",
   "metadata": {},
   "outputs": [],
   "source": []
  }
 ],
 "metadata": {
  "kernelspec": {
   "display_name": "Python 3 (ipykernel)",
   "language": "python",
   "name": "python3"
  },
  "language_info": {
   "codemirror_mode": {
    "name": "ipython",
    "version": 3
   },
   "file_extension": ".py",
   "mimetype": "text/x-python",
   "name": "python",
   "nbconvert_exporter": "python",
   "pygments_lexer": "ipython3",
   "version": "3.7.13"
  }
 },
 "nbformat": 4,
 "nbformat_minor": 5
}
