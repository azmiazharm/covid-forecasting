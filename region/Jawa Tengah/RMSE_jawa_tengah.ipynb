{
 "cells": [
  {
   "cell_type": "code",
   "execution_count": 1,
   "id": "f8cc18d9",
   "metadata": {},
   "outputs": [],
   "source": [
    "# Import library\n",
    "import pandas as pd\n",
    "import numpy as np\n",
    "import matplotlib.pyplot as plt\n",
    "import tensorflow\n",
    "from tensorflow import keras\n",
    "from tensorflow.keras.layers import Dense, Activation, LSTM\n",
    "from sklearn.preprocessing import MinMaxScaler\n",
    "from keras.models import Sequential\n",
    "import os"
   ]
  },
  {
   "cell_type": "code",
   "execution_count": 2,
   "id": "4e7cdaba",
   "metadata": {},
   "outputs": [],
   "source": [
    "# Use CPU\n",
    "os.environ['CUDA_VISIBLE_DEVICES'] = '-1'"
   ]
  },
  {
   "cell_type": "code",
   "execution_count": 3,
   "id": "29d08e2d",
   "metadata": {},
   "outputs": [
    {
     "name": "stdout",
     "output_type": "stream",
     "text": [
      "2.8.0\n"
     ]
    }
   ],
   "source": [
    "print(tensorflow.__version__)"
   ]
  },
  {
   "cell_type": "code",
   "execution_count": 4,
   "id": "6dac519e",
   "metadata": {},
   "outputs": [
    {
     "data": {
      "text/html": [
       "<div>\n",
       "<style scoped>\n",
       "    .dataframe tbody tr th:only-of-type {\n",
       "        vertical-align: middle;\n",
       "    }\n",
       "\n",
       "    .dataframe tbody tr th {\n",
       "        vertical-align: top;\n",
       "    }\n",
       "\n",
       "    .dataframe thead th {\n",
       "        text-align: right;\n",
       "    }\n",
       "</style>\n",
       "<table border=\"1\" class=\"dataframe\">\n",
       "  <thead>\n",
       "    <tr style=\"text-align: right;\">\n",
       "      <th></th>\n",
       "      <th>daily_case</th>\n",
       "    </tr>\n",
       "    <tr>\n",
       "      <th>date</th>\n",
       "      <th></th>\n",
       "    </tr>\n",
       "  </thead>\n",
       "  <tbody>\n",
       "    <tr>\n",
       "      <th>2020-04-01</th>\n",
       "      <td>19</td>\n",
       "    </tr>\n",
       "    <tr>\n",
       "      <th>2020-04-02</th>\n",
       "      <td>5</td>\n",
       "    </tr>\n",
       "    <tr>\n",
       "      <th>2020-04-03</th>\n",
       "      <td>19</td>\n",
       "    </tr>\n",
       "    <tr>\n",
       "      <th>2020-04-04</th>\n",
       "      <td>15</td>\n",
       "    </tr>\n",
       "    <tr>\n",
       "      <th>2020-04-05</th>\n",
       "      <td>3</td>\n",
       "    </tr>\n",
       "  </tbody>\n",
       "</table>\n",
       "</div>"
      ],
      "text/plain": [
       "            daily_case\n",
       "date                  \n",
       "2020-04-01          19\n",
       "2020-04-02           5\n",
       "2020-04-03          19\n",
       "2020-04-04          15\n",
       "2020-04-05           3"
      ]
     },
     "execution_count": 4,
     "metadata": {},
     "output_type": "execute_result"
    }
   ],
   "source": [
    "# Dataset\n",
    "df=pd.read_csv('./../../dataset/raw_jawa_tengah.csv', parse_dates=[\"date\"], index_col=\"date\")\n",
    "#df['daily_case'] = df['daily_case'].str.replace(',','').astype(int)\n",
    "\n",
    "# Cut dataset to start from 1 April 2022\n",
    "df = df[24:]\n",
    "df.head()"
   ]
  },
  {
   "cell_type": "code",
   "execution_count": 5,
   "id": "b7cb2a44",
   "metadata": {},
   "outputs": [
    {
     "name": "stdout",
     "output_type": "stream",
     "text": [
      "<class 'pandas.core.frame.DataFrame'>\n",
      "DatetimeIndex: 766 entries, 2020-04-01 to 2022-05-06\n",
      "Data columns (total 1 columns):\n",
      " #   Column      Non-Null Count  Dtype\n",
      "---  ------      --------------  -----\n",
      " 0   daily_case  766 non-null    int64\n",
      "dtypes: int64(1)\n",
      "memory usage: 12.0 KB\n"
     ]
    }
   ],
   "source": [
    "df.info()"
   ]
  },
  {
   "cell_type": "code",
   "execution_count": 6,
   "id": "33630edc",
   "metadata": {},
   "outputs": [
    {
     "data": {
      "text/plain": [
       "(766, 1)"
      ]
     },
     "execution_count": 6,
     "metadata": {},
     "output_type": "execute_result"
    }
   ],
   "source": [
    "df.shape"
   ]
  },
  {
   "cell_type": "code",
   "execution_count": 7,
   "id": "a46fcfe0",
   "metadata": {},
   "outputs": [
    {
     "data": {
      "text/plain": [
       "[<matplotlib.lines.Line2D at 0x17d3500c408>]"
      ]
     },
     "execution_count": 7,
     "metadata": {},
     "output_type": "execute_result"
    },
    {
     "data": {
      "image/png": "[encoded data removed]",
      "text/plain": [
       "<Figure size 432x288 with 1 Axes>"
      ]
     },
     "metadata": {
      "needs_background": "light"
     },
     "output_type": "display_data"
    }
   ],
   "source": [
    "plt.plot(df)"
   ]
  },
  {
   "cell_type": "code",
   "execution_count": 8,
   "id": "baf1aaac",
   "metadata": {},
   "outputs": [],
   "source": [
    "scaler = MinMaxScaler(feature_range=(0,1))"
   ]
  },
  {
   "cell_type": "code",
   "execution_count": 9,
   "id": "116dbcb0",
   "metadata": {},
   "outputs": [
    {
     "data": {
      "text/plain": [
       "(766, 1)"
      ]
     },
     "execution_count": 9,
     "metadata": {},
     "output_type": "execute_result"
    }
   ],
   "source": [
    "df.shape"
   ]
  },
  {
   "cell_type": "code",
   "execution_count": 10,
   "id": "1dbbf64c",
   "metadata": {},
   "outputs": [
    {
     "data": {
      "text/html": [
       "<div>\n",
       "<style scoped>\n",
       "    .dataframe tbody tr th:only-of-type {\n",
       "        vertical-align: middle;\n",
       "    }\n",
       "\n",
       "    .dataframe tbody tr th {\n",
       "        vertical-align: top;\n",
       "    }\n",
       "\n",
       "    .dataframe thead th {\n",
       "        text-align: right;\n",
       "    }\n",
       "</style>\n",
       "<table border=\"1\" class=\"dataframe\">\n",
       "  <thead>\n",
       "    <tr style=\"text-align: right;\">\n",
       "      <th></th>\n",
       "      <th>daily_case</th>\n",
       "    </tr>\n",
       "    <tr>\n",
       "      <th>date</th>\n",
       "      <th></th>\n",
       "    </tr>\n",
       "  </thead>\n",
       "  <tbody>\n",
       "    <tr>\n",
       "      <th>2020-04-01</th>\n",
       "      <td>19</td>\n",
       "    </tr>\n",
       "    <tr>\n",
       "      <th>2020-04-02</th>\n",
       "      <td>5</td>\n",
       "    </tr>\n",
       "    <tr>\n",
       "      <th>2020-04-03</th>\n",
       "      <td>19</td>\n",
       "    </tr>\n",
       "    <tr>\n",
       "      <th>2020-04-04</th>\n",
       "      <td>15</td>\n",
       "    </tr>\n",
       "    <tr>\n",
       "      <th>2020-04-05</th>\n",
       "      <td>3</td>\n",
       "    </tr>\n",
       "  </tbody>\n",
       "</table>\n",
       "</div>"
      ],
      "text/plain": [
       "            daily_case\n",
       "date                  \n",
       "2020-04-01          19\n",
       "2020-04-02           5\n",
       "2020-04-03          19\n",
       "2020-04-04          15\n",
       "2020-04-05           3"
      ]
     },
     "execution_count": 10,
     "metadata": {},
     "output_type": "execute_result"
    }
   ],
   "source": [
    "df.head()"
   ]
  },
  {
   "cell_type": "code",
   "execution_count": 11,
   "id": "e6faefb5",
   "metadata": {},
   "outputs": [],
   "source": [
    "# df = scaler.fit_transform(np.array(df).reshape(-1,1))"
   ]
  },
  {
   "cell_type": "code",
   "execution_count": 12,
   "id": "19cb8aa8",
   "metadata": {},
   "outputs": [
    {
     "data": {
      "text/plain": [
       "(766, 1)"
      ]
     },
     "execution_count": 12,
     "metadata": {},
     "output_type": "execute_result"
    }
   ],
   "source": [
    "df.shape"
   ]
  },
  {
   "cell_type": "code",
   "execution_count": 13,
   "id": "8d81d237",
   "metadata": {},
   "outputs": [],
   "source": [
    "# Split data to train and test\n",
    "df = df.values\n",
    "df = df.astype('float32')\n",
    "train_size = int(len(df) * 0.75)\n",
    "test_size=len(df)-train_size"
   ]
  },
  {
   "cell_type": "code",
   "execution_count": 14,
   "id": "d07613e8",
   "metadata": {},
   "outputs": [],
   "source": [
    "train_data_ns=df[0:train_size,:]\n",
    "test_data_ns=df[train_size:len(df),:]"
   ]
  },
  {
   "cell_type": "code",
   "execution_count": 15,
   "id": "ec2da0aa",
   "metadata": {},
   "outputs": [],
   "source": [
    "# scale data\n",
    "train_data = scaler.fit_transform(np.array(train_data_ns).reshape(-1,1))\n",
    "test_data = scaler.fit_transform(np.array(test_data_ns).reshape(-1,1))"
   ]
  },
  {
   "cell_type": "code",
   "execution_count": 16,
   "id": "ec3179a7",
   "metadata": {},
   "outputs": [
    {
     "data": {
      "text/plain": [
       "(574, 1)"
      ]
     },
     "execution_count": 16,
     "metadata": {},
     "output_type": "execute_result"
    }
   ],
   "source": [
    "train_data.shape"
   ]
  },
  {
   "cell_type": "code",
   "execution_count": 17,
   "id": "709fa2f3",
   "metadata": {},
   "outputs": [
    {
     "name": "stdout",
     "output_type": "stream",
     "text": [
      "574\n",
      "192\n"
     ]
    },
    {
     "data": {
      "text/plain": [
       "(None, None)"
      ]
     },
     "execution_count": 17,
     "metadata": {},
     "output_type": "execute_result"
    }
   ],
   "source": [
    "print(len(train_data)), print(len(test_data))"
   ]
  },
  {
   "cell_type": "code",
   "execution_count": 18,
   "id": "8b465761",
   "metadata": {},
   "outputs": [],
   "source": [
    "# Create dataset matrix based on timestep\n",
    "def create_dataset(dataset, time_step=1):\n",
    "    X, Y = [], []\n",
    "    for i in range(len(dataset)-time_step-1):\n",
    "        a = dataset[i:(i+time_step), 0]\n",
    "        X.append(a)\n",
    "        Y.append(dataset[i + time_step, 0])\n",
    "    return np.array(X), np.array(Y)"
   ]
  },
  {
   "cell_type": "code",
   "execution_count": 19,
   "id": "f7456e17",
   "metadata": {},
   "outputs": [],
   "source": [
    "# Reshape into x=t, t+1, t+2, ... t+n, and Y = t + (n+1)\n",
    "time_step = 30\n",
    "X_train, Y_train = create_dataset(train_data, time_step)\n",
    "X_test, Y_test = create_dataset(test_data, time_step)"
   ]
  },
  {
   "cell_type": "code",
   "execution_count": 20,
   "id": "1e2fbaae",
   "metadata": {
    "scrolled": true
   },
   "outputs": [
    {
     "name": "stdout",
     "output_type": "stream",
     "text": [
      "(543, 30)\n",
      "(543,)\n"
     ]
    },
    {
     "data": {
      "text/plain": [
       "(None, None)"
      ]
     },
     "execution_count": 20,
     "metadata": {},
     "output_type": "execute_result"
    }
   ],
   "source": [
    "print(X_train.shape), print(Y_train.shape)"
   ]
  },
  {
   "cell_type": "code",
   "execution_count": 21,
   "id": "14caf748",
   "metadata": {},
   "outputs": [
    {
     "name": "stdout",
     "output_type": "stream",
     "text": [
      "(161, 30)\n",
      "(161,)\n"
     ]
    },
    {
     "data": {
      "text/plain": [
       "(None, None)"
      ]
     },
     "execution_count": 21,
     "metadata": {},
     "output_type": "execute_result"
    }
   ],
   "source": [
    "print(X_test.shape), print(Y_test.shape)"
   ]
  },
  {
   "cell_type": "code",
   "execution_count": 22,
   "id": "dc2e0ea1",
   "metadata": {},
   "outputs": [
    {
     "data": {
      "text/plain": [
       "161"
      ]
     },
     "execution_count": 22,
     "metadata": {},
     "output_type": "execute_result"
    }
   ],
   "source": [
    "len(X_test)"
   ]
  },
  {
   "cell_type": "code",
   "execution_count": 23,
   "id": "dd7a7f83",
   "metadata": {},
   "outputs": [],
   "source": [
    "# Reshape input data to 3d [sample, time_step, features]\n",
    "X_train = X_train.reshape(X_train.shape[0], X_train.shape[1], 1)\n",
    "X_test = X_test.reshape(X_test.shape[0], X_test.shape[1], 1)"
   ]
  },
  {
   "cell_type": "code",
   "execution_count": 24,
   "id": "2904dc8f",
   "metadata": {},
   "outputs": [],
   "source": [
    "from keras.models import load_model\n",
    " \n",
    "# load model\n",
    "model = load_model('lstm_jawa_tengah.h5')"
   ]
  },
  {
   "cell_type": "code",
   "execution_count": 25,
   "id": "2d2dd132",
   "metadata": {},
   "outputs": [
    {
     "name": "stdout",
     "output_type": "stream",
     "text": [
      "Model: \"sequential\"\n",
      "_________________________________________________________________\n",
      " Layer (type)                Output Shape              Param #   \n",
      "=================================================================\n",
      " lstm (LSTM)                 (None, 30, 100)           40800     \n",
      "                                                                 \n",
      " lstm_1 (LSTM)               (None, 100)               80400     \n",
      "                                                                 \n",
      " dense (Dense)               (None, 1)                 101       \n",
      "                                                                 \n",
      "=================================================================\n",
      "Total params: 121,301\n",
      "Trainable params: 121,301\n",
      "Non-trainable params: 0\n",
      "_________________________________________________________________\n"
     ]
    }
   ],
   "source": [
    "model.summary()"
   ]
  },
  {
   "cell_type": "code",
   "execution_count": 26,
   "id": "aedaea4a",
   "metadata": {},
   "outputs": [],
   "source": [
    "train_predict=model.predict(X_train)\n",
    "test_predict=model.predict(X_test)"
   ]
  },
  {
   "cell_type": "code",
   "execution_count": 27,
   "id": "7ef82303",
   "metadata": {},
   "outputs": [],
   "source": [
    "Y_train = Y_train.reshape(-1,1)\n",
    "Y_train = scaler.inverse_transform(Y_train)\n",
    "\n",
    "X_train = X_train.reshape(-1,1)\n",
    "X_train = scaler.inverse_transform(X_train)\n",
    "\n",
    "Y_test = Y_test.reshape(-1,1)\n",
    "Y_test = scaler.inverse_transform(Y_test)\n",
    "\n",
    "X_train = Y_train.reshape(-1,1)\n",
    "X_train = scaler.inverse_transform(X_train)"
   ]
  },
  {
   "cell_type": "code",
   "execution_count": 28,
   "id": "891264b3",
   "metadata": {},
   "outputs": [],
   "source": [
    "# Transform back to original value\n",
    "train_predict=scaler.inverse_transform(train_predict)\n",
    "test_predict=scaler.inverse_transform(test_predict)"
   ]
  },
  {
   "cell_type": "markdown",
   "id": "dcaa02f8",
   "metadata": {},
   "source": [
    "Metric Jawa Tengah"
   ]
  },
  {
   "cell_type": "code",
   "execution_count": 29,
   "id": "066295da",
   "metadata": {},
   "outputs": [
    {
     "name": "stdout",
     "output_type": "stream",
     "text": [
      "RMSE train: 233.23219720377372\n"
     ]
    }
   ],
   "source": [
    "# Calculate RMSE performance metrics\n",
    "import math\n",
    "from sklearn.metrics import mean_squared_error\n",
    "print('RMSE train:', math.sqrt(mean_squared_error(Y_train, train_predict)))"
   ]
  },
  {
   "cell_type": "code",
   "execution_count": 30,
   "id": "f80f5b9c",
   "metadata": {},
   "outputs": [
    {
     "name": "stdout",
     "output_type": "stream",
     "text": [
      "RMSE test: 631.9615791327824\n"
     ]
    }
   ],
   "source": [
    "print('RMSE test:', math.sqrt(mean_squared_error(Y_test, test_predict)))"
   ]
  },
  {
   "cell_type": "code",
   "execution_count": 31,
   "id": "900442e6",
   "metadata": {
    "scrolled": true
   },
   "outputs": [
    {
     "data": {
      "text/plain": [
       "(6652.0, 2.0)"
      ]
     },
     "execution_count": 31,
     "metadata": {},
     "output_type": "execute_result"
    }
   ],
   "source": [
    "train_data_ns.max(), train_data_ns.min()"
   ]
  },
  {
   "cell_type": "code",
   "execution_count": 32,
   "id": "4f0407f1",
   "metadata": {},
   "outputs": [
    {
     "name": "stdout",
     "output_type": "stream",
     "text": [
      "NRMSE train: 0.035072510857710334\n"
     ]
    }
   ],
   "source": [
    "# normalized RMSE metrics train\n",
    "print('NRMSE train:', math.sqrt(mean_squared_error(Y_train, train_predict))/(train_data_ns.max()-train_data_ns.min()))"
   ]
  },
  {
   "cell_type": "code",
   "execution_count": 33,
   "id": "34c70ba1",
   "metadata": {},
   "outputs": [
    {
     "name": "stdout",
     "output_type": "stream",
     "text": [
      "NRMSE test: 0.1050118941729449\n"
     ]
    }
   ],
   "source": [
    "# normalized RMSE metrics test\n",
    "print('NRMSE test:', math.sqrt(mean_squared_error(Y_test, test_predict))/(test_data_ns.max()-test_data_ns.min()))"
   ]
  },
  {
   "cell_type": "code",
   "execution_count": 34,
   "id": "f604fd1e",
   "metadata": {},
   "outputs": [
    {
     "data": {
      "text/plain": [
       "array([[  49.529675],\n",
       "       [  48.681427],\n",
       "       [  47.345535],\n",
       "       [  44.28573 ],\n",
       "       [  44.95198 ],\n",
       "       [  49.538116],\n",
       "       [  52.22085 ],\n",
       "       [  46.18089 ],\n",
       "       [  50.93371 ],\n",
       "       [  50.52463 ],\n",
       "       [  48.622242],\n",
       "       [  43.95895 ],\n",
       "       [  45.168716],\n",
       "       [  47.65005 ],\n",
       "       [  54.42928 ],\n",
       "       [  54.395195],\n",
       "       [  53.863834],\n",
       "       [  50.915985],\n",
       "       [  48.88938 ],\n",
       "       [  49.13274 ],\n",
       "       [  47.567223],\n",
       "       [  48.068386],\n",
       "       [  48.2517  ],\n",
       "       [  56.22488 ],\n",
       "       [  49.798565],\n",
       "       [  46.00636 ],\n",
       "       [  45.029068],\n",
       "       [  45.28759 ],\n",
       "       [  44.47472 ],\n",
       "       [  44.13049 ],\n",
       "       [  45.040455],\n",
       "       [  48.502567],\n",
       "       [  46.580135],\n",
       "       [  47.779305],\n",
       "       [  49.375805],\n",
       "       [  52.30086 ],\n",
       "       [  61.737595],\n",
       "       [  62.261456],\n",
       "       [  69.234764],\n",
       "       [  78.6084  ],\n",
       "       [  72.53149 ],\n",
       "       [ 106.03861 ],\n",
       "       [  90.21946 ],\n",
       "       [  83.4326  ],\n",
       "       [  92.466705],\n",
       "       [ 102.91471 ],\n",
       "       [ 113.42292 ],\n",
       "       [ 100.521706],\n",
       "       [ 113.27715 ],\n",
       "       [ 101.98787 ],\n",
       "       [ 107.35482 ],\n",
       "       [ 117.558716],\n",
       "       [ 115.138885],\n",
       "       [ 105.32937 ],\n",
       "       [ 104.45464 ],\n",
       "       [ 109.12743 ],\n",
       "       [ 116.347786],\n",
       "       [ 149.42685 ],\n",
       "       [ 162.77428 ],\n",
       "       [ 163.91042 ],\n",
       "       [ 184.33144 ],\n",
       "       [ 183.19179 ],\n",
       "       [ 192.0134  ],\n",
       "       [ 190.1504  ],\n",
       "       [ 181.61096 ],\n",
       "       [ 170.9939  ],\n",
       "       [ 190.8206  ],\n",
       "       [ 188.04692 ],\n",
       "       [ 181.68839 ],\n",
       "       [ 193.06226 ],\n",
       "       [ 177.12347 ],\n",
       "       [ 168.22313 ],\n",
       "       [ 166.98409 ],\n",
       "       [ 149.44965 ],\n",
       "       [ 151.67128 ],\n",
       "       [ 142.02393 ],\n",
       "       [ 206.09094 ],\n",
       "       [ 210.56442 ],\n",
       "       [ 226.8349  ],\n",
       "       [ 242.20009 ],\n",
       "       [ 268.55014 ],\n",
       "       [ 302.73505 ],\n",
       "       [ 269.3949  ],\n",
       "       [ 308.7854  ],\n",
       "       [ 306.2738  ],\n",
       "       [ 259.92953 ],\n",
       "       [ 249.43452 ],\n",
       "       [ 205.302   ],\n",
       "       [ 210.47014 ],\n",
       "       [ 193.10622 ],\n",
       "       [ 220.57822 ],\n",
       "       [ 181.31317 ],\n",
       "       [ 188.42636 ],\n",
       "       [ 166.23573 ],\n",
       "       [ 138.45686 ],\n",
       "       [ 128.65599 ],\n",
       "       [ 112.3365  ],\n",
       "       [ 123.59407 ],\n",
       "       [ 114.42837 ],\n",
       "       [ 147.41934 ],\n",
       "       [ 119.60308 ],\n",
       "       [ 125.27717 ],\n",
       "       [ 111.00552 ],\n",
       "       [ 107.68702 ],\n",
       "       [ 130.06804 ],\n",
       "       [ 139.57784 ],\n",
       "       [ 143.75285 ],\n",
       "       [ 131.22696 ],\n",
       "       [ 138.50874 ],\n",
       "       [ 113.13533 ],\n",
       "       [ 118.82614 ],\n",
       "       [ 123.90238 ],\n",
       "       [ 130.90775 ],\n",
       "       [ 114.4551  ],\n",
       "       [ 112.40582 ],\n",
       "       [ 133.61961 ],\n",
       "       [ 130.9244  ],\n",
       "       [ 142.40697 ],\n",
       "       [ 133.31499 ],\n",
       "       [ 164.48308 ],\n",
       "       [ 178.25322 ],\n",
       "       [ 169.06342 ],\n",
       "       [ 161.56383 ],\n",
       "       [ 170.52888 ],\n",
       "       [ 178.3863  ],\n",
       "       [ 199.66049 ],\n",
       "       [ 197.84293 ],\n",
       "       [ 185.19868 ],\n",
       "       [ 202.8935  ],\n",
       "       [ 204.09912 ],\n",
       "       [ 214.70848 ],\n",
       "       [ 213.96173 ],\n",
       "       [ 225.72038 ],\n",
       "       [ 256.21426 ],\n",
       "       [ 332.9455  ],\n",
       "       [ 315.13974 ],\n",
       "       [ 297.02026 ],\n",
       "       [ 262.50687 ],\n",
       "       [ 258.156   ],\n",
       "       [ 284.20566 ],\n",
       "       [ 268.4399  ],\n",
       "       [ 234.56653 ],\n",
       "       [ 241.80919 ],\n",
       "       [ 247.84154 ],\n",
       "       [ 228.46841 ],\n",
       "       [ 220.6624  ],\n",
       "       [ 223.41226 ],\n",
       "       [ 282.24063 ],\n",
       "       [ 266.32513 ],\n",
       "       [ 282.28647 ],\n",
       "       [ 264.20938 ],\n",
       "       [ 276.76834 ],\n",
       "       [ 268.6681  ],\n",
       "       [ 252.74133 ],\n",
       "       [ 264.41083 ],\n",
       "       [ 279.7448  ],\n",
       "       [ 291.89627 ],\n",
       "       [ 277.4789  ],\n",
       "       [ 294.55447 ],\n",
       "       [ 312.74118 ],\n",
       "       [ 314.3671  ],\n",
       "       [ 301.52533 ],\n",
       "       [ 315.94116 ],\n",
       "       [ 325.50543 ],\n",
       "       [ 311.80652 ],\n",
       "       [ 291.1436  ],\n",
       "       [ 346.1761  ],\n",
       "       [ 302.12408 ],\n",
       "       [ 343.62973 ],\n",
       "       [ 350.7945  ],\n",
       "       [ 347.6034  ],\n",
       "       [ 331.243   ],\n",
       "       [ 318.61444 ],\n",
       "       [ 353.54193 ],\n",
       "       [ 337.30426 ],\n",
       "       [ 372.4624  ],\n",
       "       [ 402.3411  ],\n",
       "       [ 346.2321  ],\n",
       "       [ 345.33002 ],\n",
       "       [ 295.05344 ],\n",
       "       [ 308.21048 ],\n",
       "       [ 303.63336 ],\n",
       "       [ 307.24753 ],\n",
       "       [ 249.69675 ],\n",
       "       [ 357.81848 ],\n",
       "       [ 344.75098 ],\n",
       "       [ 294.94107 ],\n",
       "       [ 338.93307 ],\n",
       "       [ 386.50513 ],\n",
       "       [ 351.6927  ],\n",
       "       [ 425.79968 ],\n",
       "       [ 409.81033 ],\n",
       "       [ 469.72626 ],\n",
       "       [ 491.04272 ],\n",
       "       [ 526.3801  ],\n",
       "       [ 416.28613 ],\n",
       "       [ 489.53647 ],\n",
       "       [ 713.801   ],\n",
       "       [ 758.4134  ],\n",
       "       [ 760.1182  ],\n",
       "       [ 678.98096 ],\n",
       "       [ 637.5426  ],\n",
       "       [ 592.8103  ],\n",
       "       [ 543.07806 ],\n",
       "       [ 522.78973 ],\n",
       "       [ 566.09894 ],\n",
       "       [ 508.32483 ],\n",
       "       [ 619.46014 ],\n",
       "       [ 621.6155  ],\n",
       "       [ 672.8509  ],\n",
       "       [ 585.90265 ],\n",
       "       [ 669.4201  ],\n",
       "       [ 737.8749  ],\n",
       "       [ 966.7542  ],\n",
       "       [ 819.51697 ],\n",
       "       [ 787.93994 ],\n",
       "       [ 846.695   ],\n",
       "       [ 790.1994  ],\n",
       "       [ 818.30536 ],\n",
       "       [ 759.5311  ],\n",
       "       [ 672.0014  ],\n",
       "       [ 658.8006  ],\n",
       "       [ 708.324   ],\n",
       "       [ 682.39124 ],\n",
       "       [ 670.77563 ],\n",
       "       [ 631.7133  ],\n",
       "       [ 684.43933 ],\n",
       "       [ 646.7395  ],\n",
       "       [ 673.4468  ],\n",
       "       [ 695.4722  ],\n",
       "       [ 606.3995  ],\n",
       "       [ 643.378   ],\n",
       "       [ 547.2753  ],\n",
       "       [ 707.40027 ],\n",
       "       [ 678.78143 ],\n",
       "       [ 701.509   ],\n",
       "       [ 686.9864  ],\n",
       "       [ 711.80676 ],\n",
       "       [ 724.56226 ],\n",
       "       [ 710.46234 ],\n",
       "       [ 722.24066 ],\n",
       "       [ 739.3622  ],\n",
       "       [ 869.9052  ],\n",
       "       [ 887.8031  ],\n",
       "       [ 870.8405  ],\n",
       "       [ 893.4533  ],\n",
       "       [ 890.84546 ],\n",
       "       [ 945.0689  ],\n",
       "       [ 950.30743 ],\n",
       "       [ 987.63464 ],\n",
       "       [ 961.0402  ],\n",
       "       [ 986.16516 ],\n",
       "       [ 981.33435 ],\n",
       "       [1031.2194  ],\n",
       "       [1037.5806  ],\n",
       "       [1061.8641  ],\n",
       "       [1077.186   ],\n",
       "       [1218.976   ],\n",
       "       [1326.7345  ],\n",
       "       [1408.4569  ],\n",
       "       [1631.7512  ],\n",
       "       [1638.1666  ],\n",
       "       [1640.0425  ],\n",
       "       [1559.4725  ],\n",
       "       [1605.4784  ],\n",
       "       [1642.7458  ],\n",
       "       [1705.1982  ],\n",
       "       [1619.265   ],\n",
       "       [1634.4618  ],\n",
       "       [1436.6124  ],\n",
       "       [1418.753   ],\n",
       "       [1492.0302  ],\n",
       "       [1544.8682  ],\n",
       "       [1426.438   ],\n",
       "       [1431.257   ],\n",
       "       [1318.1537  ],\n",
       "       [1260.7642  ],\n",
       "       [1174.7211  ],\n",
       "       [1200.627   ],\n",
       "       [1404.1661  ],\n",
       "       [1432.9197  ],\n",
       "       [1507.9233  ],\n",
       "       [1461.518   ],\n",
       "       [1226.1826  ],\n",
       "       [1060.3138  ],\n",
       "       [1015.5286  ],\n",
       "       [1028.5078  ],\n",
       "       [ 875.82745 ],\n",
       "       [ 721.9331  ],\n",
       "       [ 730.5439  ],\n",
       "       [ 625.50635 ],\n",
       "       [ 702.0382  ],\n",
       "       [ 733.5307  ],\n",
       "       [ 656.6027  ],\n",
       "       [ 594.6633  ],\n",
       "       [ 750.55505 ],\n",
       "       [ 681.2837  ],\n",
       "       [ 601.2665  ],\n",
       "       [ 736.6306  ],\n",
       "       [ 685.038   ],\n",
       "       [ 843.93915 ],\n",
       "       [ 757.6132  ],\n",
       "       [ 711.8213  ],\n",
       "       [ 684.38776 ],\n",
       "       [ 559.5444  ],\n",
       "       [ 565.9615  ],\n",
       "       [ 640.13165 ],\n",
       "       [ 495.21298 ],\n",
       "       [ 496.34988 ],\n",
       "       [ 595.23676 ],\n",
       "       [ 535.3421  ],\n",
       "       [ 469.46933 ],\n",
       "       [ 568.909   ],\n",
       "       [ 602.1366  ],\n",
       "       [ 473.57755 ],\n",
       "       [ 421.067   ],\n",
       "       [ 462.01205 ],\n",
       "       [ 355.47824 ],\n",
       "       [ 289.39963 ],\n",
       "       [ 391.63223 ],\n",
       "       [ 383.84863 ],\n",
       "       [ 402.27478 ],\n",
       "       [ 433.921   ],\n",
       "       [ 449.1336  ],\n",
       "       [ 384.64117 ],\n",
       "       [ 316.1601  ],\n",
       "       [ 445.1341  ],\n",
       "       [ 474.06964 ],\n",
       "       [ 400.55396 ],\n",
       "       [ 401.75168 ],\n",
       "       [ 354.79816 ],\n",
       "       [ 306.45554 ],\n",
       "       [ 260.67627 ],\n",
       "       [ 301.85553 ],\n",
       "       [ 368.78912 ],\n",
       "       [ 354.16623 ],\n",
       "       [ 406.47934 ],\n",
       "       [ 325.82355 ],\n",
       "       [ 308.99835 ],\n",
       "       [ 277.19882 ],\n",
       "       [ 345.39618 ],\n",
       "       [ 391.26474 ],\n",
       "       [ 407.59894 ],\n",
       "       [ 504.0395  ],\n",
       "       [ 485.92935 ],\n",
       "       [ 425.41357 ],\n",
       "       [ 387.307   ],\n",
       "       [ 499.2854  ],\n",
       "       [ 540.1654  ],\n",
       "       [ 527.75836 ],\n",
       "       [ 575.07306 ],\n",
       "       [ 562.11926 ],\n",
       "       [ 544.99664 ],\n",
       "       [ 511.4599  ],\n",
       "       [ 561.95715 ],\n",
       "       [ 552.32874 ],\n",
       "       [ 563.7887  ],\n",
       "       [ 555.62225 ],\n",
       "       [ 495.48682 ],\n",
       "       [ 464.11716 ],\n",
       "       [ 419.63416 ],\n",
       "       [ 496.6807  ],\n",
       "       [ 385.4266  ],\n",
       "       [ 312.65125 ],\n",
       "       [ 402.3948  ],\n",
       "       [ 372.054   ],\n",
       "       [ 319.9837  ],\n",
       "       [ 283.3376  ],\n",
       "       [ 366.20837 ],\n",
       "       [ 317.833   ],\n",
       "       [ 361.67682 ],\n",
       "       [ 328.49335 ],\n",
       "       [ 391.15326 ],\n",
       "       [ 329.484   ],\n",
       "       [ 291.1969  ],\n",
       "       [ 450.4135  ],\n",
       "       [ 401.52478 ],\n",
       "       [ 302.75464 ],\n",
       "       [ 356.33282 ],\n",
       "       [ 290.04538 ],\n",
       "       [ 281.57452 ],\n",
       "       [ 294.00903 ],\n",
       "       [ 385.5839  ],\n",
       "       [ 382.7053  ],\n",
       "       [ 351.98483 ],\n",
       "       [ 410.25107 ],\n",
       "       [ 473.72098 ],\n",
       "       [ 462.58652 ],\n",
       "       [ 426.39975 ],\n",
       "       [ 575.49274 ],\n",
       "       [ 560.65967 ],\n",
       "       [ 531.03625 ],\n",
       "       [ 575.56323 ],\n",
       "       [ 579.18835 ],\n",
       "       [ 727.40045 ],\n",
       "       [ 760.39923 ],\n",
       "       [ 748.46844 ],\n",
       "       [ 743.82916 ],\n",
       "       [ 750.90765 ],\n",
       "       [ 748.1305  ],\n",
       "       [ 858.1536  ],\n",
       "       [ 954.16724 ],\n",
       "       [ 915.5361  ],\n",
       "       [1207.8011  ],\n",
       "       [1284.4967  ],\n",
       "       [1385.5406  ],\n",
       "       [1544.7412  ],\n",
       "       [1391.1053  ],\n",
       "       [1350.6309  ],\n",
       "       [1918.3469  ],\n",
       "       [1612.1893  ],\n",
       "       [1811.688   ],\n",
       "       [1710.4224  ],\n",
       "       [1805.4722  ],\n",
       "       [1710.0189  ],\n",
       "       [1964.3158  ],\n",
       "       [1889.8938  ],\n",
       "       [2391.9072  ],\n",
       "       [2113.053   ],\n",
       "       [2219.0793  ],\n",
       "       [2437.8264  ],\n",
       "       [1878.3589  ],\n",
       "       [2092.6091  ],\n",
       "       [2102.234   ],\n",
       "       [2169.5293  ],\n",
       "       [2646.8193  ],\n",
       "       [2511.6619  ],\n",
       "       [2709.5403  ],\n",
       "       [2713.168   ],\n",
       "       [3025.1287  ],\n",
       "       [2895.9746  ],\n",
       "       [3205.679   ],\n",
       "       [3444.7795  ],\n",
       "       [3506.882   ],\n",
       "       [3725.5396  ],\n",
       "       [3681.0771  ],\n",
       "       [3036.6296  ],\n",
       "       [2782.979   ],\n",
       "       [3355.9573  ],\n",
       "       [3296.4897  ],\n",
       "       [3898.7346  ],\n",
       "       [3586.3716  ],\n",
       "       [3932.257   ],\n",
       "       [4109.9067  ],\n",
       "       [3679.3455  ],\n",
       "       [3856.1772  ],\n",
       "       [4009.8257  ],\n",
       "       [4713.951   ],\n",
       "       [4627.6074  ],\n",
       "       [4359.062   ],\n",
       "       [5550.012   ],\n",
       "       [4529.805   ],\n",
       "       [4128.1777  ],\n",
       "       [5037.899   ],\n",
       "       [4307.287   ],\n",
       "       [3565.6982  ],\n",
       "       [4381.161   ],\n",
       "       [3483.3828  ],\n",
       "       [3328.3804  ],\n",
       "       [3079.881   ],\n",
       "       [3566.5933  ],\n",
       "       [3239.078   ],\n",
       "       [3554.1387  ],\n",
       "       [3347.4802  ],\n",
       "       [4291.7954  ],\n",
       "       [4090.8262  ],\n",
       "       [4361.8354  ],\n",
       "       [4574.528   ],\n",
       "       [4380.24    ],\n",
       "       [4510.6006  ],\n",
       "       [3957.0881  ],\n",
       "       [4040.8025  ],\n",
       "       [3309.7542  ],\n",
       "       [3076.6707  ],\n",
       "       [2567.53    ],\n",
       "       [2058.5188  ],\n",
       "       [1139.1694  ],\n",
       "       [ 953.9509  ],\n",
       "       [ 791.40875 ],\n",
       "       [ 668.0703  ],\n",
       "       [ 806.5113  ],\n",
       "       [ 872.83984 ],\n",
       "       [ 782.24286 ],\n",
       "       [ 791.04083 ],\n",
       "       [ 714.0894  ],\n",
       "       [ 651.74194 ],\n",
       "       [ 599.6887  ],\n",
       "       [ 569.82684 ],\n",
       "       [ 575.7704  ],\n",
       "       [ 651.44495 ],\n",
       "       [ 731.6179  ],\n",
       "       [ 692.616   ],\n",
       "       [ 642.9636  ],\n",
       "       [ 611.93274 ],\n",
       "       [ 608.7382  ],\n",
       "       [ 638.6432  ],\n",
       "       [ 566.21857 ],\n",
       "       [ 487.2304  ],\n",
       "       [ 414.88608 ],\n",
       "       [ 311.6472  ],\n",
       "       [ 205.2808  ],\n",
       "       [ 202.17157 ],\n",
       "       [ 194.19081 ],\n",
       "       [ 196.08244 ],\n",
       "       [ 222.99454 ],\n",
       "       [ 225.99614 ],\n",
       "       [ 232.05917 ],\n",
       "       [ 202.07224 ],\n",
       "       [ 214.77515 ],\n",
       "       [ 199.27785 ],\n",
       "       [ 186.43872 ],\n",
       "       [ 218.6447  ],\n",
       "       [ 221.24203 ],\n",
       "       [ 244.35345 ],\n",
       "       [ 222.04514 ],\n",
       "       [ 207.60571 ],\n",
       "       [ 222.22409 ],\n",
       "       [ 191.57568 ],\n",
       "       [ 167.50252 ],\n",
       "       [ 153.91142 ],\n",
       "       [ 138.47128 ],\n",
       "       [ 101.85753 ],\n",
       "       [  85.24853 ],\n",
       "       [  73.97958 ],\n",
       "       [  91.20093 ],\n",
       "       [  96.934265],\n",
       "       [ 100.27914 ],\n",
       "       [ 109.64486 ],\n",
       "       [ 103.36924 ],\n",
       "       [ 103.166306],\n",
       "       [ 113.120285],\n",
       "       [ 109.76775 ],\n",
       "       [ 121.549515],\n",
       "       [ 108.60283 ],\n",
       "       [ 111.12656 ],\n",
       "       [ 104.41999 ],\n",
       "       [  94.500374],\n",
       "       [  95.54508 ],\n",
       "       [  91.10366 ],\n",
       "       [  86.5263  ],\n",
       "       [  80.8515  ],\n",
       "       [  97.58906 ],\n",
       "       [  79.35702 ]], dtype=float32)"
      ]
     },
     "execution_count": 34,
     "metadata": {},
     "output_type": "execute_result"
    }
   ],
   "source": [
    "train_predict"
   ]
  },
  {
   "cell_type": "code",
   "execution_count": 35,
   "id": "32b7ffe3",
   "metadata": {
    "scrolled": true
   },
   "outputs": [
    {
     "data": {
      "image/png": "[encoded data removed]",
      "text/plain": [
       "<Figure size 432x288 with 1 Axes>"
      ]
     },
     "metadata": {
      "needs_background": "light"
     },
     "output_type": "display_data"
    }
   ],
   "source": [
    "# Plot \n",
    "look_back = 30\n",
    "trainPredictPlot = np.empty_like(df)\n",
    "trainPredictPlot[:, :] = np.nan\n",
    "trainPredictPlot[look_back:len(train_predict)+look_back, :] = train_predict\n",
    "\n",
    "#shift test predict\n",
    "testPredictPlot = np.empty_like(df)\n",
    "testPredictPlot[:, :] = np.nan\n",
    "testPredictPlot[len(train_predict)+(look_back*2)+1:len(df)-1, :] = test_predict\n",
    "\n",
    "#plot baseline\n",
    "plt.plot(scaler.inverse_transform(df))\n",
    "plt.plot(scaler.inverse_transform(trainPredictPlot))\n",
    "plt.plot(scaler.inverse_transform(testPredictPlot))\n",
    "plt.show()"
   ]
  },
  {
   "cell_type": "code",
   "execution_count": 36,
   "id": "7bed18aa",
   "metadata": {},
   "outputs": [
    {
     "data": {
      "image/png": "[encoded data removed]",
      "text/plain": [
       "<Figure size 432x288 with 1 Axes>"
      ]
     },
     "metadata": {
      "needs_background": "light"
     },
     "output_type": "display_data"
    }
   ],
   "source": [
    "#shift test predict\n",
    "testPredictPlot = np.empty_like(df)\n",
    "testPredictPlot[:, :] = np.nan\n",
    "testPredictPlot[len(train_predict)+(look_back*2)+1:len(df)-1, :] = test_predict\n",
    "\n",
    "#plot baseline\n",
    "plt.plot(scaler.inverse_transform(df))\n",
    "plt.plot(scaler.inverse_transform(testPredictPlot))\n",
    "plt.xlim(X_train.shape[0], df.shape[0])\n",
    "plt.show()"
   ]
  },
  {
   "cell_type": "code",
   "execution_count": 37,
   "id": "1355b3d3",
   "metadata": {},
   "outputs": [
    {
     "data": {
      "text/plain": [
       "192"
      ]
     },
     "execution_count": 37,
     "metadata": {},
     "output_type": "execute_result"
    }
   ],
   "source": [
    "len(test_data)"
   ]
  },
  {
   "cell_type": "code",
   "execution_count": 38,
   "id": "0767587c",
   "metadata": {},
   "outputs": [
    {
     "data": {
      "text/plain": [
       "(1, 30)"
      ]
     },
     "execution_count": 38,
     "metadata": {},
     "output_type": "execute_result"
    }
   ],
   "source": [
    "x_input=test_data[162:].reshape(1,-1) #test data - step(30)\n",
    "x_input.shape"
   ]
  },
  {
   "cell_type": "code",
   "execution_count": 39,
   "id": "2f64bd8f",
   "metadata": {},
   "outputs": [],
   "source": [
    "temp_input=list(x_input)\n",
    "temp_input=temp_input[0].tolist()"
   ]
  },
  {
   "cell_type": "code",
   "execution_count": 40,
   "id": "9594be28",
   "metadata": {
    "scrolled": true
   },
   "outputs": [
    {
     "data": {
      "text/plain": [
       "[0.029910268262028694,\n",
       " 0.02426055073738098,\n",
       " 0.016782984137535095,\n",
       " 0.009305416606366634,\n",
       " 0.020438682287931442,\n",
       " 0.029245594516396523,\n",
       " 0.014290462248027325,\n",
       " 0.014788966625928879,\n",
       " 0.012794948183000088,\n",
       " 0.008308407850563526,\n",
       " 0.005483549553900957,\n",
       " 0.007643735036253929,\n",
       " 0.011465603485703468,\n",
       " 0.008973080664873123,\n",
       " 0.006480558309704065,\n",
       " 0.017447656020522118,\n",
       " 0.00481887673959136,\n",
       " 0.0021601859480142593,\n",
       " 0.003655699547380209,\n",
       " 0.0039880359545350075,\n",
       " 0.033898305147886276,\n",
       " 0.00631439033895731,\n",
       " 0.00631439033895731,\n",
       " 0.003157195169478655,\n",
       " 0.0011631770757958293,\n",
       " 0.0009970089886337519,\n",
       " 0.0,\n",
       " 0.0011631770757958293,\n",
       " 0.0021601859480142593,\n",
       " 0.002492522355169058]"
      ]
     },
     "execution_count": 40,
     "metadata": {},
     "output_type": "execute_result"
    }
   ],
   "source": [
    "temp_input"
   ]
  },
  {
   "cell_type": "code",
   "execution_count": 41,
   "id": "54a16704",
   "metadata": {},
   "outputs": [
    {
     "name": "stdout",
     "output_type": "stream",
     "text": [
      "[0.00622591]\n",
      "31\n",
      "1 day input [0.02426055 0.01678298 0.00930542 0.02043868 0.02924559 0.01429046\n",
      " 0.01478897 0.01279495 0.00830841 0.00548355 0.00764374 0.0114656\n",
      " 0.00897308 0.00648056 0.01744766 0.00481888 0.00216019 0.0036557\n",
      " 0.00398804 0.03389831 0.00631439 0.00631439 0.0031572  0.00116318\n",
      " 0.00099701 0.         0.00116318 0.00216019 0.00249252 0.00622591]\n",
      "1 day output [[0.00687695]]\n",
      "2 day input [0.01678298 0.00930542 0.02043868 0.02924559 0.01429046 0.01478897\n",
      " 0.01279495 0.00830841 0.00548355 0.00764374 0.0114656  0.00897308\n",
      " 0.00648056 0.01744766 0.00481888 0.00216019 0.0036557  0.00398804\n",
      " 0.03389831 0.00631439 0.00631439 0.0031572  0.00116318 0.00099701\n",
      " 0.         0.00116318 0.00216019 0.00249252 0.00622591 0.00687695]\n",
      "2 day output [[0.00737481]]\n",
      "3 day input [0.00930542 0.02043868 0.02924559 0.01429046 0.01478897 0.01279495\n",
      " 0.00830841 0.00548355 0.00764374 0.0114656  0.00897308 0.00648056\n",
      " 0.01744766 0.00481888 0.00216019 0.0036557  0.00398804 0.03389831\n",
      " 0.00631439 0.00631439 0.0031572  0.00116318 0.00099701 0.\n",
      " 0.00116318 0.00216019 0.00249252 0.00622591 0.00687695 0.00737481]\n",
      "3 day output [[0.00769696]]\n",
      "4 day input [0.02043868 0.02924559 0.01429046 0.01478897 0.01279495 0.00830841\n",
      " 0.00548355 0.00764374 0.0114656  0.00897308 0.00648056 0.01744766\n",
      " 0.00481888 0.00216019 0.0036557  0.00398804 0.03389831 0.00631439\n",
      " 0.00631439 0.0031572  0.00116318 0.00099701 0.         0.00116318\n",
      " 0.00216019 0.00249252 0.00622591 0.00687695 0.00737481 0.00769696]\n",
      "4 day output [[0.00777899]]\n",
      "5 day input [0.02924559 0.01429046 0.01478897 0.01279495 0.00830841 0.00548355\n",
      " 0.00764374 0.0114656  0.00897308 0.00648056 0.01744766 0.00481888\n",
      " 0.00216019 0.0036557  0.00398804 0.03389831 0.00631439 0.00631439\n",
      " 0.0031572  0.00116318 0.00099701 0.         0.00116318 0.00216019\n",
      " 0.00249252 0.00622591 0.00687695 0.00737481 0.00769696 0.00777899]\n",
      "5 day output [[0.00819237]]\n",
      "6 day input [0.01429046 0.01478897 0.01279495 0.00830841 0.00548355 0.00764374\n",
      " 0.0114656  0.00897308 0.00648056 0.01744766 0.00481888 0.00216019\n",
      " 0.0036557  0.00398804 0.03389831 0.00631439 0.00631439 0.0031572\n",
      " 0.00116318 0.00099701 0.         0.00116318 0.00216019 0.00249252\n",
      " 0.00622591 0.00687695 0.00737481 0.00769696 0.00777899 0.00819237]\n",
      "6 day output [[0.00899474]]\n",
      "7 day input [0.01478897 0.01279495 0.00830841 0.00548355 0.00764374 0.0114656\n",
      " 0.00897308 0.00648056 0.01744766 0.00481888 0.00216019 0.0036557\n",
      " 0.00398804 0.03389831 0.00631439 0.00631439 0.0031572  0.00116318\n",
      " 0.00099701 0.         0.00116318 0.00216019 0.00249252 0.00622591\n",
      " 0.00687695 0.00737481 0.00769696 0.00777899 0.00819237 0.00899474]\n",
      "7 day output [[0.00962284]]\n",
      "8 day input [0.01279495 0.00830841 0.00548355 0.00764374 0.0114656  0.00897308\n",
      " 0.00648056 0.01744766 0.00481888 0.00216019 0.0036557  0.00398804\n",
      " 0.03389831 0.00631439 0.00631439 0.0031572  0.00116318 0.00099701\n",
      " 0.         0.00116318 0.00216019 0.00249252 0.00622591 0.00687695\n",
      " 0.00737481 0.00769696 0.00777899 0.00819237 0.00899474 0.00962284]\n",
      "8 day output [[0.0103048]]\n",
      "9 day input [0.00830841 0.00548355 0.00764374 0.0114656  0.00897308 0.00648056\n",
      " 0.01744766 0.00481888 0.00216019 0.0036557  0.00398804 0.03389831\n",
      " 0.00631439 0.00631439 0.0031572  0.00116318 0.00099701 0.\n",
      " 0.00116318 0.00216019 0.00249252 0.00622591 0.00687695 0.00737481\n",
      " 0.00769696 0.00777899 0.00819237 0.00899474 0.00962284 0.0103048 ]\n",
      "9 day output [[0.01102576]]\n",
      "10 day input [0.00548355 0.00764374 0.0114656  0.00897308 0.00648056 0.01744766\n",
      " 0.00481888 0.00216019 0.0036557  0.00398804 0.03389831 0.00631439\n",
      " 0.00631439 0.0031572  0.00116318 0.00099701 0.         0.00116318\n",
      " 0.00216019 0.00249252 0.00622591 0.00687695 0.00737481 0.00769696\n",
      " 0.00777899 0.00819237 0.00899474 0.00962284 0.0103048  0.01102576]\n",
      "10 day output [[0.01164655]]\n",
      "11 day input [0.00764374 0.0114656  0.00897308 0.00648056 0.01744766 0.00481888\n",
      " 0.00216019 0.0036557  0.00398804 0.03389831 0.00631439 0.00631439\n",
      " 0.0031572  0.00116318 0.00099701 0.         0.00116318 0.00216019\n",
      " 0.00249252 0.00622591 0.00687695 0.00737481 0.00769696 0.00777899\n",
      " 0.00819237 0.00899474 0.00962284 0.0103048  0.01102576 0.01164655]\n",
      "11 day output [[0.01210767]]\n",
      "12 day input [0.0114656  0.00897308 0.00648056 0.01744766 0.00481888 0.00216019\n",
      " 0.0036557  0.00398804 0.03389831 0.00631439 0.00631439 0.0031572\n",
      " 0.00116318 0.00099701 0.         0.00116318 0.00216019 0.00249252\n",
      " 0.00622591 0.00687695 0.00737481 0.00769696 0.00777899 0.00819237\n",
      " 0.00899474 0.00962284 0.0103048  0.01102576 0.01164655 0.01210767]\n",
      "12 day output [[0.01253937]]\n",
      "13 day input [0.00897308 0.00648056 0.01744766 0.00481888 0.00216019 0.0036557\n",
      " 0.00398804 0.03389831 0.00631439 0.00631439 0.0031572  0.00116318\n",
      " 0.00099701 0.         0.00116318 0.00216019 0.00249252 0.00622591\n",
      " 0.00687695 0.00737481 0.00769696 0.00777899 0.00819237 0.00899474\n",
      " 0.00962284 0.0103048  0.01102576 0.01164655 0.01210767 0.01253937]\n",
      "13 day output [[0.01301287]]\n",
      "14 day input [0.00648056 0.01744766 0.00481888 0.00216019 0.0036557  0.00398804\n",
      " 0.03389831 0.00631439 0.00631439 0.0031572  0.00116318 0.00099701\n",
      " 0.         0.00116318 0.00216019 0.00249252 0.00622591 0.00687695\n",
      " 0.00737481 0.00769696 0.00777899 0.00819237 0.00899474 0.00962284\n",
      " 0.0103048  0.01102576 0.01164655 0.01210767 0.01253937 0.01301287]\n",
      "14 day output [[0.01332504]]\n",
      "15 day input [0.01744766 0.00481888 0.00216019 0.0036557  0.00398804 0.03389831\n",
      " 0.00631439 0.00631439 0.0031572  0.00116318 0.00099701 0.\n",
      " 0.00116318 0.00216019 0.00249252 0.00622591 0.00687695 0.00737481\n",
      " 0.00769696 0.00777899 0.00819237 0.00899474 0.00962284 0.0103048\n",
      " 0.01102576 0.01164655 0.01210767 0.01253937 0.01301287 0.01332504]\n",
      "15 day output [[0.01355204]]\n",
      "16 day input [0.00481888 0.00216019 0.0036557  0.00398804 0.03389831 0.00631439\n",
      " 0.00631439 0.0031572  0.00116318 0.00099701 0.         0.00116318\n",
      " 0.00216019 0.00249252 0.00622591 0.00687695 0.00737481 0.00769696\n",
      " 0.00777899 0.00819237 0.00899474 0.00962284 0.0103048  0.01102576\n",
      " 0.01164655 0.01210767 0.01253937 0.01301287 0.01332504 0.01355204]\n",
      "16 day output [[0.01405639]]\n",
      "17 day input [0.00216019 0.0036557  0.00398804 0.03389831 0.00631439 0.00631439\n",
      " 0.0031572  0.00116318 0.00099701 0.         0.00116318 0.00216019\n",
      " 0.00249252 0.00622591 0.00687695 0.00737481 0.00769696 0.00777899\n",
      " 0.00819237 0.00899474 0.00962284 0.0103048  0.01102576 0.01164655\n",
      " 0.01210767 0.01253937 0.01301287 0.01332504 0.01355204 0.01405639]\n",
      "17 day output [[0.01436275]]\n",
      "18 day input [0.0036557  0.00398804 0.03389831 0.00631439 0.00631439 0.0031572\n",
      " 0.00116318 0.00099701 0.         0.00116318 0.00216019 0.00249252\n",
      " 0.00622591 0.00687695 0.00737481 0.00769696 0.00777899 0.00819237\n",
      " 0.00899474 0.00962284 0.0103048  0.01102576 0.01164655 0.01210767\n",
      " 0.01253937 0.01301287 0.01332504 0.01355204 0.01405639 0.01436275]\n",
      "18 day output [[0.01449327]]\n",
      "19 day input [0.00398804 0.03389831 0.00631439 0.00631439 0.0031572  0.00116318\n",
      " 0.00099701 0.         0.00116318 0.00216019 0.00249252 0.00622591\n",
      " 0.00687695 0.00737481 0.00769696 0.00777899 0.00819237 0.00899474\n",
      " 0.00962284 0.0103048  0.01102576 0.01164655 0.01210767 0.01253937\n",
      " 0.01301287 0.01332504 0.01355204 0.01405639 0.01436275 0.01449327]\n",
      "19 day output [[0.01429394]]\n",
      "20 day input [0.03389831 0.00631439 0.00631439 0.0031572  0.00116318 0.00099701\n",
      " 0.         0.00116318 0.00216019 0.00249252 0.00622591 0.00687695\n",
      " 0.00737481 0.00769696 0.00777899 0.00819237 0.00899474 0.00962284\n",
      " 0.0103048  0.01102576 0.01164655 0.01210767 0.01253937 0.01301287\n",
      " 0.01332504 0.01355204 0.01405639 0.01436275 0.01449327 0.01429394]\n",
      "20 day output [[0.01399963]]\n",
      "21 day input [0.00631439 0.00631439 0.0031572  0.00116318 0.00099701 0.\n",
      " 0.00116318 0.00216019 0.00249252 0.00622591 0.00687695 0.00737481\n",
      " 0.00769696 0.00777899 0.00819237 0.00899474 0.00962284 0.0103048\n",
      " 0.01102576 0.01164655 0.01210767 0.01253937 0.01301287 0.01332504\n",
      " 0.01355204 0.01405639 0.01436275 0.01449327 0.01429394 0.01399963]\n",
      "21 day output [[0.01448133]]\n",
      "22 day input [0.00631439 0.0031572  0.00116318 0.00099701 0.         0.00116318\n",
      " 0.00216019 0.00249252 0.00622591 0.00687695 0.00737481 0.00769696\n",
      " 0.00777899 0.00819237 0.00899474 0.00962284 0.0103048  0.01102576\n",
      " 0.01164655 0.01210767 0.01253937 0.01301287 0.01332504 0.01355204\n",
      " 0.01405639 0.01436275 0.01449327 0.01429394 0.01399963 0.01448133]\n",
      "22 day output [[0.01466758]]\n",
      "23 day input [0.0031572  0.00116318 0.00099701 0.         0.00116318 0.00216019\n",
      " 0.00249252 0.00622591 0.00687695 0.00737481 0.00769696 0.00777899\n",
      " 0.00819237 0.00899474 0.00962284 0.0103048  0.01102576 0.01164655\n",
      " 0.01210767 0.01253937 0.01301287 0.01332504 0.01355204 0.01405639\n",
      " 0.01436275 0.01449327 0.01429394 0.01399963 0.01448133 0.01466758]\n"
     ]
    },
    {
     "name": "stdout",
     "output_type": "stream",
     "text": [
      "23 day output [[0.01487861]]\n",
      "24 day input [0.00116318 0.00099701 0.         0.00116318 0.00216019 0.00249252\n",
      " 0.00622591 0.00687695 0.00737481 0.00769696 0.00777899 0.00819237\n",
      " 0.00899474 0.00962284 0.0103048  0.01102576 0.01164655 0.01210767\n",
      " 0.01253937 0.01301287 0.01332504 0.01355204 0.01405639 0.01436275\n",
      " 0.01449327 0.01429394 0.01399963 0.01448133 0.01466758 0.01487861]\n",
      "24 day output [[0.01505517]]\n",
      "25 day input [0.00099701 0.         0.00116318 0.00216019 0.00249252 0.00622591\n",
      " 0.00687695 0.00737481 0.00769696 0.00777899 0.00819237 0.00899474\n",
      " 0.00962284 0.0103048  0.01102576 0.01164655 0.01210767 0.01253937\n",
      " 0.01301287 0.01332504 0.01355204 0.01405639 0.01436275 0.01449327\n",
      " 0.01429394 0.01399963 0.01448133 0.01466758 0.01487861 0.01505517]\n",
      "25 day output [[0.01520662]]\n",
      "26 day input [0.         0.00116318 0.00216019 0.00249252 0.00622591 0.00687695\n",
      " 0.00737481 0.00769696 0.00777899 0.00819237 0.00899474 0.00962284\n",
      " 0.0103048  0.01102576 0.01164655 0.01210767 0.01253937 0.01301287\n",
      " 0.01332504 0.01355204 0.01405639 0.01436275 0.01449327 0.01429394\n",
      " 0.01399963 0.01448133 0.01466758 0.01487861 0.01505517 0.01520662]\n",
      "26 day output [[0.01535126]]\n",
      "27 day input [0.00116318 0.00216019 0.00249252 0.00622591 0.00687695 0.00737481\n",
      " 0.00769696 0.00777899 0.00819237 0.00899474 0.00962284 0.0103048\n",
      " 0.01102576 0.01164655 0.01210767 0.01253937 0.01301287 0.01332504\n",
      " 0.01355204 0.01405639 0.01436275 0.01449327 0.01429394 0.01399963\n",
      " 0.01448133 0.01466758 0.01487861 0.01505517 0.01520662 0.01535126]\n",
      "27 day output [[0.01545671]]\n",
      "28 day input [0.00216019 0.00249252 0.00622591 0.00687695 0.00737481 0.00769696\n",
      " 0.00777899 0.00819237 0.00899474 0.00962284 0.0103048  0.01102576\n",
      " 0.01164655 0.01210767 0.01253937 0.01301287 0.01332504 0.01355204\n",
      " 0.01405639 0.01436275 0.01449327 0.01429394 0.01399963 0.01448133\n",
      " 0.01466758 0.01487861 0.01505517 0.01520662 0.01535126 0.01545671]\n",
      "28 day output [[0.01555985]]\n",
      "29 day input [0.00249252 0.00622591 0.00687695 0.00737481 0.00769696 0.00777899\n",
      " 0.00819237 0.00899474 0.00962284 0.0103048  0.01102576 0.01164655\n",
      " 0.01210767 0.01253937 0.01301287 0.01332504 0.01355204 0.01405639\n",
      " 0.01436275 0.01449327 0.01429394 0.01399963 0.01448133 0.01466758\n",
      " 0.01487861 0.01505517 0.01520662 0.01535126 0.01545671 0.01555985]\n",
      "29 day output [[0.01563317]]\n",
      "[[0.006225908175110817], [0.006876947358250618], [0.007374811917543411], [0.007696960121393204], [0.0077789947390556335], [0.008192367851734161], [0.00899473950266838], [0.009622840210795403], [0.010304803028702736], [0.011025756597518921], [0.01164654828608036], [0.012107670307159424], [0.012539366260170937], [0.013012870214879513], [0.01332504115998745], [0.013552042655646801], [0.014056386426091194], [0.01436274591833353], [0.014493269845843315], [0.014293935149908066], [0.013999631628394127], [0.01448132935911417], [0.014667579904198647], [0.014878611080348492], [0.015055166557431221], [0.015206624753773212], [0.015351256355643272], [0.015456714667379856], [0.015559853054583073], [0.015633173286914825]]\n"
     ]
    }
   ],
   "source": [
    "# prediction for next 30 days\n",
    "from numpy import array\n",
    "\n",
    "lst_output=[]\n",
    "n_steps=30\n",
    "i=0\n",
    "while(i<30): #30 hari\n",
    "    \n",
    "    if(len(temp_input)>30):\n",
    "        #print(temp_input)\n",
    "        x_input=np.array(temp_input[1:])\n",
    "        print(\"{} day input {}\".format(i,x_input))\n",
    "        x_input=x_input.reshape(1,-1)\n",
    "        x_input = x_input.reshape((1, n_steps, 1))\n",
    "        #print(x_input)\n",
    "        yhat = model.predict(x_input, verbose=0)\n",
    "        print(\"{} day output {}\".format(i,yhat))\n",
    "        temp_input.extend(yhat[0].tolist())\n",
    "        temp_input=temp_input[1:]\n",
    "        #print(temp_input)\n",
    "        lst_output.extend(yhat.tolist())\n",
    "        i=i+1\n",
    "    else:\n",
    "        x_input = x_input.reshape((1, n_steps,1))\n",
    "        yhat = model.predict(x_input, verbose=0)\n",
    "        print(yhat[0])\n",
    "        temp_input.extend(yhat[0].tolist())\n",
    "        print(len(temp_input))\n",
    "        lst_output.extend(yhat.tolist())\n",
    "        i=i+1\n",
    "    \n",
    "\n",
    "print(lst_output)"
   ]
  },
  {
   "cell_type": "code",
   "execution_count": 42,
   "id": "447dcca0",
   "metadata": {},
   "outputs": [],
   "source": [
    "day_new=np.arange(1,31) # dari data 30 hari terakhir\n",
    "day_pred=np.arange(31,61) #predict 30 hari kedepan"
   ]
  },
  {
   "cell_type": "code",
   "execution_count": 43,
   "id": "91dd51a7",
   "metadata": {},
   "outputs": [
    {
     "data": {
      "text/plain": [
       "766"
      ]
     },
     "execution_count": 43,
     "metadata": {},
     "output_type": "execute_result"
    }
   ],
   "source": [
    "len(df)"
   ]
  },
  {
   "cell_type": "code",
   "execution_count": 44,
   "id": "86fd0fa7",
   "metadata": {},
   "outputs": [
    {
     "data": {
      "text/plain": [
       "30"
      ]
     },
     "execution_count": 44,
     "metadata": {},
     "output_type": "execute_result"
    }
   ],
   "source": [
    "len(day_pred)"
   ]
  },
  {
   "cell_type": "code",
   "execution_count": 45,
   "id": "e0730cc4",
   "metadata": {
    "scrolled": true
   },
   "outputs": [
    {
     "data": {
      "text/plain": [
       "[<matplotlib.lines.Line2D at 0x17d39691408>]"
      ]
     },
     "execution_count": 45,
     "metadata": {},
     "output_type": "execute_result"
    },
    {
     "data": {
      "image/png": "[encoded data removed]",
      "text/plain": [
       "<Figure size 432x288 with 1 Axes>"
      ]
     },
     "metadata": {
      "needs_background": "light"
     },
     "output_type": "display_data"
    }
   ],
   "source": [
    "plt.plot(day_new,df[736:]) # [total data - prediction(30)] \n",
    "plt.plot(day_pred,scaler.inverse_transform(lst_output))"
   ]
  },
  {
   "cell_type": "code",
   "execution_count": 46,
   "id": "07cc7ca7",
   "metadata": {},
   "outputs": [
    {
     "data": {
      "text/plain": [
       "[<matplotlib.lines.Line2D at 0x17d397f3608>]"
      ]
     },
     "execution_count": 46,
     "metadata": {},
     "output_type": "execute_result"
    },
    {
     "data": {
      "image/png": "[encoded data removed]",
      "text/plain": [
       "<Figure size 432x288 with 1 Axes>"
      ]
     },
     "metadata": {
      "needs_background": "light"
     },
     "output_type": "display_data"
    }
   ],
   "source": [
    "df2=df.tolist()\n",
    "df2.extend(scaler.inverse_transform(lst_output))\n",
    "plt.plot(df2)"
   ]
  },
  {
   "cell_type": "code",
   "execution_count": 47,
   "id": "4e90a3ff",
   "metadata": {
    "scrolled": true
   },
   "outputs": [
    {
     "data": {
      "text/plain": [
       "[<matplotlib.lines.Line2D at 0x17d3979f608>]"
      ]
     },
     "execution_count": 47,
     "metadata": {},
     "output_type": "execute_result"
    },
    {
     "data": {
      "image/png": "[encoded data removed]",
      "text/plain": [
       "<Figure size 432x288 with 1 Axes>"
      ]
     },
     "metadata": {
      "needs_background": "light"
     },
     "output_type": "display_data"
    }
   ],
   "source": [
    "df2=scaler.inverse_transform(df2).tolist()\n",
    "plt.plot(df2)"
   ]
  },
  {
   "cell_type": "code",
   "execution_count": 48,
   "id": "3cf7831d",
   "metadata": {},
   "outputs": [
    {
     "name": "stdout",
     "output_type": "stream",
     "text": [
      "WARNING:tensorflow:Model was constructed with shape (None, 30, 1) for input KerasTensor(type_spec=TensorSpec(shape=(None, 30, 1), dtype=tf.float32, name='lstm_input'), name='lstm_input', description=\"created by layer 'lstm_input'\"), but it was called on an input with incompatible shape (None, 1, 1).\n",
      "loss: 177190600.000000\n"
     ]
    }
   ],
   "source": [
    "# evaluate the model\n",
    "scores = model.evaluate(X_train, Y_train, verbose=0)\n",
    "print(\"%s: %f\" % (model.metrics_names[0], scores*100))"
   ]
  }
 ],
 "metadata": {
  "kernelspec": {
   "display_name": "Python 3 (ipykernel)",
   "language": "python",
   "name": "python3"
  },
  "language_info": {
   "codemirror_mode": {
    "name": "ipython",
    "version": 3
   },
   "file_extension": ".py",
   "mimetype": "text/x-python",
   "name": "python",
   "nbconvert_exporter": "python",
   "pygments_lexer": "ipython3",
   "version": "3.7.13"
  }
 },
 "nbformat": 4,
 "nbformat_minor": 5
}
