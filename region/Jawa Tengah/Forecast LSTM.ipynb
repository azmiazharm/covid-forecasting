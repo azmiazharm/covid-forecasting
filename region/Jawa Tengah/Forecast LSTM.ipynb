{
 "cells": [
  {
   "cell_type": "code",
   "execution_count": 1,
   "id": "f8cc18d9",
   "metadata": {},
   "outputs": [],
   "source": [
    "# Import library\n",
    "import pandas as pd\n",
    "import numpy as np\n",
    "import matplotlib.pyplot as plt\n",
    "import tensorflow\n",
    "from tensorflow import keras\n",
    "from tensorflow.keras.layers import Dense, Activation, LSTM\n",
    "from sklearn.preprocessing import MinMaxScaler\n",
    "from keras.models import Sequential\n",
    "import os"
   ]
  },
  {
   "cell_type": "code",
   "execution_count": 2,
   "id": "4e7cdaba",
   "metadata": {},
   "outputs": [],
   "source": [
    "# Use CPU\n",
    "os.environ['CUDA_VISIBLE_DEVICES'] = '-1'"
   ]
  },
  {
   "cell_type": "code",
   "execution_count": 3,
   "id": "29d08e2d",
   "metadata": {},
   "outputs": [
    {
     "name": "stdout",
     "output_type": "stream",
     "text": [
      "2.8.0\n"
     ]
    }
   ],
   "source": [
    "print(tensorflow.__version__)"
   ]
  },
  {
   "cell_type": "code",
   "execution_count": 4,
   "id": "6dac519e",
   "metadata": {},
   "outputs": [
    {
     "data": {
      "text/html": [
       "<div>\n",
       "<style scoped>\n",
       "    .dataframe tbody tr th:only-of-type {\n",
       "        vertical-align: middle;\n",
       "    }\n",
       "\n",
       "    .dataframe tbody tr th {\n",
       "        vertical-align: top;\n",
       "    }\n",
       "\n",
       "    .dataframe thead th {\n",
       "        text-align: right;\n",
       "    }\n",
       "</style>\n",
       "<table border=\"1\" class=\"dataframe\">\n",
       "  <thead>\n",
       "    <tr style=\"text-align: right;\">\n",
       "      <th></th>\n",
       "      <th>daily_case</th>\n",
       "    </tr>\n",
       "    <tr>\n",
       "      <th>date</th>\n",
       "      <th></th>\n",
       "    </tr>\n",
       "  </thead>\n",
       "  <tbody>\n",
       "    <tr>\n",
       "      <th>2020-04-01</th>\n",
       "      <td>59</td>\n",
       "    </tr>\n",
       "    <tr>\n",
       "      <th>2020-04-02</th>\n",
       "      <td>70</td>\n",
       "    </tr>\n",
       "    <tr>\n",
       "      <th>2020-04-03</th>\n",
       "      <td>71</td>\n",
       "    </tr>\n",
       "    <tr>\n",
       "      <th>2020-04-04</th>\n",
       "      <td>57</td>\n",
       "    </tr>\n",
       "    <tr>\n",
       "      <th>2020-04-05</th>\n",
       "      <td>87</td>\n",
       "    </tr>\n",
       "  </tbody>\n",
       "</table>\n",
       "</div>"
      ],
      "text/plain": [
       "            daily_case\n",
       "date                  \n",
       "2020-04-01          59\n",
       "2020-04-02          70\n",
       "2020-04-03          71\n",
       "2020-04-04          57\n",
       "2020-04-05          87"
      ]
     },
     "execution_count": 4,
     "metadata": {},
     "output_type": "execute_result"
    }
   ],
   "source": [
    "# Dataset\n",
    "df=pd.read_csv('./../../dataset/raw_jakarta.csv', parse_dates=[\"date\"], index_col=\"date\")\n",
    "#df['daily_case'] = df['daily_case'].str.replace(',','').astype(int)\n",
    "\n",
    "# Cut dataset to start from 1 April 2022\n",
    "df = df[31:]\n",
    "df.head()"
   ]
  },
  {
   "cell_type": "code",
   "execution_count": 5,
   "id": "b7cb2a44",
   "metadata": {},
   "outputs": [
    {
     "name": "stdout",
     "output_type": "stream",
     "text": [
      "<class 'pandas.core.frame.DataFrame'>\n",
      "DatetimeIndex: 766 entries, 2020-04-01 to 2022-05-06\n",
      "Data columns (total 1 columns):\n",
      " #   Column      Non-Null Count  Dtype\n",
      "---  ------      --------------  -----\n",
      " 0   daily_case  766 non-null    int64\n",
      "dtypes: int64(1)\n",
      "memory usage: 12.0 KB\n"
     ]
    }
   ],
   "source": [
    "df.info()"
   ]
  },
  {
   "cell_type": "code",
   "execution_count": 6,
   "id": "33630edc",
   "metadata": {},
   "outputs": [
    {
     "data": {
      "text/plain": [
       "(766, 1)"
      ]
     },
     "execution_count": 6,
     "metadata": {},
     "output_type": "execute_result"
    }
   ],
   "source": [
    "df.shape"
   ]
  },
  {
   "cell_type": "code",
   "execution_count": 7,
   "id": "a46fcfe0",
   "metadata": {},
   "outputs": [
    {
     "data": {
      "text/plain": [
       "[<matplotlib.lines.Line2D at 0x23baec5af88>]"
      ]
     },
     "execution_count": 7,
     "metadata": {},
     "output_type": "execute_result"
    },
    {
     "data": {
      "image/png": "[encoded data removed]",
      "text/plain": [
       "<Figure size 432x288 with 1 Axes>"
      ]
     },
     "metadata": {
      "needs_background": "light"
     },
     "output_type": "display_data"
    }
   ],
   "source": [
    "plt.plot(df)"
   ]
  },
  {
   "cell_type": "code",
   "execution_count": 8,
   "id": "baf1aaac",
   "metadata": {},
   "outputs": [],
   "source": [
    "scaler = MinMaxScaler(feature_range=(0,1))"
   ]
  },
  {
   "cell_type": "code",
   "execution_count": 9,
   "id": "116dbcb0",
   "metadata": {},
   "outputs": [
    {
     "data": {
      "text/plain": [
       "(766, 1)"
      ]
     },
     "execution_count": 9,
     "metadata": {},
     "output_type": "execute_result"
    }
   ],
   "source": [
    "df.shape"
   ]
  },
  {
   "cell_type": "code",
   "execution_count": 10,
   "id": "1dbbf64c",
   "metadata": {},
   "outputs": [
    {
     "data": {
      "text/html": [
       "<div>\n",
       "<style scoped>\n",
       "    .dataframe tbody tr th:only-of-type {\n",
       "        vertical-align: middle;\n",
       "    }\n",
       "\n",
       "    .dataframe tbody tr th {\n",
       "        vertical-align: top;\n",
       "    }\n",
       "\n",
       "    .dataframe thead th {\n",
       "        text-align: right;\n",
       "    }\n",
       "</style>\n",
       "<table border=\"1\" class=\"dataframe\">\n",
       "  <thead>\n",
       "    <tr style=\"text-align: right;\">\n",
       "      <th></th>\n",
       "      <th>daily_case</th>\n",
       "    </tr>\n",
       "    <tr>\n",
       "      <th>date</th>\n",
       "      <th></th>\n",
       "    </tr>\n",
       "  </thead>\n",
       "  <tbody>\n",
       "    <tr>\n",
       "      <th>2020-04-01</th>\n",
       "      <td>59</td>\n",
       "    </tr>\n",
       "    <tr>\n",
       "      <th>2020-04-02</th>\n",
       "      <td>70</td>\n",
       "    </tr>\n",
       "    <tr>\n",
       "      <th>2020-04-03</th>\n",
       "      <td>71</td>\n",
       "    </tr>\n",
       "    <tr>\n",
       "      <th>2020-04-04</th>\n",
       "      <td>57</td>\n",
       "    </tr>\n",
       "    <tr>\n",
       "      <th>2020-04-05</th>\n",
       "      <td>87</td>\n",
       "    </tr>\n",
       "  </tbody>\n",
       "</table>\n",
       "</div>"
      ],
      "text/plain": [
       "            daily_case\n",
       "date                  \n",
       "2020-04-01          59\n",
       "2020-04-02          70\n",
       "2020-04-03          71\n",
       "2020-04-04          57\n",
       "2020-04-05          87"
      ]
     },
     "execution_count": 10,
     "metadata": {},
     "output_type": "execute_result"
    }
   ],
   "source": [
    "df.head()"
   ]
  },
  {
   "cell_type": "code",
   "execution_count": 11,
   "id": "e6faefb5",
   "metadata": {},
   "outputs": [],
   "source": [
    "# df = scaler.fit_transform(np.array(df).reshape(-1,1))"
   ]
  },
  {
   "cell_type": "code",
   "execution_count": 12,
   "id": "19cb8aa8",
   "metadata": {},
   "outputs": [
    {
     "data": {
      "text/plain": [
       "(766, 1)"
      ]
     },
     "execution_count": 12,
     "metadata": {},
     "output_type": "execute_result"
    }
   ],
   "source": [
    "df.shape"
   ]
  },
  {
   "cell_type": "code",
   "execution_count": 13,
   "id": "8d81d237",
   "metadata": {},
   "outputs": [],
   "source": [
    "# Split data to train and test\n",
    "df = df.values\n",
    "df = df.astype('float32')\n",
    "train_size = int(len(df) * 0.75)\n",
    "test_size=len(df)-train_size"
   ]
  },
  {
   "cell_type": "code",
   "execution_count": 14,
   "id": "d07613e8",
   "metadata": {},
   "outputs": [],
   "source": [
    "train_data=df[0:train_size,:]\n",
    "test_data=df[train_size:len(df),:]"
   ]
  },
  {
   "cell_type": "code",
   "execution_count": 15,
   "id": "ec2da0aa",
   "metadata": {},
   "outputs": [],
   "source": [
    "# scale data\n",
    "train_data = scaler.fit_transform(np.array(train_data).reshape(-1,1))\n",
    "test_data = scaler.fit_transform(np.array(test_data).reshape(-1,1))"
   ]
  },
  {
   "cell_type": "code",
   "execution_count": 16,
   "id": "ec3179a7",
   "metadata": {},
   "outputs": [
    {
     "data": {
      "text/plain": [
       "(574, 1)"
      ]
     },
     "execution_count": 16,
     "metadata": {},
     "output_type": "execute_result"
    }
   ],
   "source": [
    "train_data.shape"
   ]
  },
  {
   "cell_type": "code",
   "execution_count": 17,
   "id": "709fa2f3",
   "metadata": {},
   "outputs": [
    {
     "name": "stdout",
     "output_type": "stream",
     "text": [
      "574\n",
      "192\n"
     ]
    },
    {
     "data": {
      "text/plain": [
       "(None, None)"
      ]
     },
     "execution_count": 17,
     "metadata": {},
     "output_type": "execute_result"
    }
   ],
   "source": [
    "print(len(train_data)), print(len(test_data))"
   ]
  },
  {
   "cell_type": "code",
   "execution_count": 18,
   "id": "8b465761",
   "metadata": {},
   "outputs": [],
   "source": [
    "# Create dataset matrix based on timestep\n",
    "def create_dataset(dataset, time_step=1):\n",
    "    X, Y = [], []\n",
    "    for i in range(len(dataset)-time_step-1):\n",
    "        a = dataset[i:(i+time_step), 0]\n",
    "        X.append(a)\n",
    "        Y.append(dataset[i + time_step, 0])\n",
    "    return np.array(X), np.array(Y)"
   ]
  },
  {
   "cell_type": "code",
   "execution_count": 19,
   "id": "f7456e17",
   "metadata": {},
   "outputs": [],
   "source": [
    "# Reshape into x=t, t+1, t+2, ... t+n, and Y = t + (n+1)\n",
    "time_step = 30\n",
    "X_train, Y_train = create_dataset(train_data, time_step)\n",
    "X_test, Y_test = create_dataset(test_data, time_step)"
   ]
  },
  {
   "cell_type": "code",
   "execution_count": 20,
   "id": "1e2fbaae",
   "metadata": {
    "scrolled": true
   },
   "outputs": [
    {
     "name": "stdout",
     "output_type": "stream",
     "text": [
      "(543, 30)\n",
      "(543,)\n"
     ]
    },
    {
     "data": {
      "text/plain": [
       "(None, None)"
      ]
     },
     "execution_count": 20,
     "metadata": {},
     "output_type": "execute_result"
    }
   ],
   "source": [
    "print(X_train.shape), print(Y_train.shape)"
   ]
  },
  {
   "cell_type": "code",
   "execution_count": 21,
   "id": "14caf748",
   "metadata": {},
   "outputs": [
    {
     "name": "stdout",
     "output_type": "stream",
     "text": [
      "(161, 30)\n",
      "(161,)\n"
     ]
    },
    {
     "data": {
      "text/plain": [
       "(None, None)"
      ]
     },
     "execution_count": 21,
     "metadata": {},
     "output_type": "execute_result"
    }
   ],
   "source": [
    "print(X_test.shape), print(Y_test.shape)"
   ]
  },
  {
   "cell_type": "code",
   "execution_count": 22,
   "id": "dc2e0ea1",
   "metadata": {},
   "outputs": [
    {
     "data": {
      "text/plain": [
       "161"
      ]
     },
     "execution_count": 22,
     "metadata": {},
     "output_type": "execute_result"
    }
   ],
   "source": [
    "len(X_test)"
   ]
  },
  {
   "cell_type": "code",
   "execution_count": 23,
   "id": "dd7a7f83",
   "metadata": {},
   "outputs": [],
   "source": [
    "# Reshape input data to 3d [sample, time_step, features]\n",
    "X_train = X_train.reshape(X_train.shape[0], X_train.shape[1], 1)\n",
    "X_test = X_test.reshape(X_test.shape[0], X_test.shape[1], 1)"
   ]
  },
  {
   "cell_type": "code",
   "execution_count": 24,
   "id": "35b0d75b",
   "metadata": {},
   "outputs": [],
   "source": [
    "# # Create model\n",
    "# model = Sequential()\n",
    "# model.add(LSTM(192, return_sequences=True, input_shape=(30,1)))\n",
    "# model.add(LSTM(64, return_sequences=True))\n",
    "# model.add(LSTM(224, return_sequences=True))\n",
    "# model.add(LSTM(160, activation='relu'))\n",
    "# model.add(Dropout(0.1))\n",
    "# model.add(Dense(1))\n",
    "# model.compile(optimizer='adam', loss='mean_squared_error')"
   ]
  },
  {
   "cell_type": "code",
   "execution_count": 25,
   "id": "2904dc8f",
   "metadata": {},
   "outputs": [],
   "source": [
    "# Create Stacked LSTM model\n",
    "model = Sequential()\n",
    "model.add(LSTM(100, activation='relu', return_sequences=True, input_shape=(30,1)))\n",
    "model.add(LSTM(100))\n",
    "model.add(Dense(1))\n",
    "model.compile(optimizer='adam', loss='mean_squared_error')"
   ]
  },
  {
   "cell_type": "code",
   "execution_count": 26,
   "id": "2d2dd132",
   "metadata": {},
   "outputs": [
    {
     "name": "stdout",
     "output_type": "stream",
     "text": [
      "Model: \"sequential\"\n",
      "_________________________________________________________________\n",
      " Layer (type)                Output Shape              Param #   \n",
      "=================================================================\n",
      " lstm (LSTM)                 (None, 30, 100)           40800     \n",
      "                                                                 \n",
      " lstm_1 (LSTM)               (None, 100)               80400     \n",
      "                                                                 \n",
      " dense (Dense)               (None, 1)                 101       \n",
      "                                                                 \n",
      "=================================================================\n",
      "Total params: 121,301\n",
      "Trainable params: 121,301\n",
      "Non-trainable params: 0\n",
      "_________________________________________________________________\n"
     ]
    }
   ],
   "source": [
    "model.summary()"
   ]
  },
  {
   "cell_type": "code",
   "execution_count": 27,
   "id": "7314a09a",
   "metadata": {},
   "outputs": [
    {
     "name": "stdout",
     "output_type": "stream",
     "text": [
      "Epoch 1/200\n",
      "17/17 [==============================] - 3s 56ms/step - loss: 0.0124 - val_loss: 0.0176\n",
      "Epoch 2/200\n",
      "17/17 [==============================] - 0s 28ms/step - loss: 0.0062 - val_loss: 0.0119\n",
      "Epoch 3/200\n",
      "17/17 [==============================] - 0s 28ms/step - loss: 0.0039 - val_loss: 0.0091\n",
      "Epoch 4/200\n",
      "17/17 [==============================] - 0s 28ms/step - loss: 0.0027 - val_loss: 0.0074\n",
      "Epoch 5/200\n",
      "17/17 [==============================] - 1s 33ms/step - loss: 0.0026 - val_loss: 0.0064\n",
      "Epoch 6/200\n",
      "17/17 [==============================] - 1s 31ms/step - loss: 0.0025 - val_loss: 0.0069\n",
      "Epoch 7/200\n",
      "17/17 [==============================] - 1s 30ms/step - loss: 0.0025 - val_loss: 0.0059\n",
      "Epoch 8/200\n",
      "17/17 [==============================] - 0s 29ms/step - loss: 0.0022 - val_loss: 0.0055\n",
      "Epoch 9/200\n",
      "17/17 [==============================] - 1s 31ms/step - loss: 0.0020 - val_loss: 0.0061\n",
      "Epoch 10/200\n",
      "17/17 [==============================] - 1s 31ms/step - loss: 0.0025 - val_loss: 0.0053\n",
      "Epoch 11/200\n",
      "17/17 [==============================] - 1s 31ms/step - loss: 0.0026 - val_loss: 0.0073\n",
      "Epoch 12/200\n",
      "17/17 [==============================] - 1s 31ms/step - loss: 0.0023 - val_loss: 0.0054\n",
      "Epoch 13/200\n",
      "17/17 [==============================] - 0s 29ms/step - loss: 0.0020 - val_loss: 0.0056\n",
      "Epoch 14/200\n",
      "17/17 [==============================] - 0s 28ms/step - loss: 0.0021 - val_loss: 0.0055\n",
      "Epoch 15/200\n",
      "17/17 [==============================] - 1s 30ms/step - loss: 0.0021 - val_loss: 0.0054\n",
      "Epoch 16/200\n",
      "17/17 [==============================] - 0s 28ms/step - loss: 0.0020 - val_loss: 0.0048\n",
      "Epoch 17/200\n",
      "17/17 [==============================] - 0s 29ms/step - loss: 0.0019 - val_loss: 0.0051\n",
      "Epoch 18/200\n",
      "17/17 [==============================] - 0s 30ms/step - loss: 0.0018 - val_loss: 0.0045\n",
      "Epoch 19/200\n",
      "17/17 [==============================] - 0s 28ms/step - loss: 0.0021 - val_loss: 0.0047\n",
      "Epoch 20/200\n",
      "17/17 [==============================] - 0s 28ms/step - loss: 0.0019 - val_loss: 0.0051\n",
      "Epoch 21/200\n",
      "17/17 [==============================] - 0s 27ms/step - loss: 0.0018 - val_loss: 0.0051\n",
      "Epoch 22/200\n",
      "17/17 [==============================] - 0s 28ms/step - loss: 0.0018 - val_loss: 0.0045\n",
      "Epoch 23/200\n",
      "17/17 [==============================] - 0s 27ms/step - loss: 0.0018 - val_loss: 0.0044\n",
      "Epoch 24/200\n",
      "17/17 [==============================] - 0s 27ms/step - loss: 0.0018 - val_loss: 0.0075\n",
      "Epoch 25/200\n",
      "17/17 [==============================] - 0s 28ms/step - loss: 0.0024 - val_loss: 0.0047\n",
      "Epoch 26/200\n",
      "17/17 [==============================] - 0s 28ms/step - loss: 0.0018 - val_loss: 0.0058\n",
      "Epoch 27/200\n",
      "17/17 [==============================] - 0s 27ms/step - loss: 0.0020 - val_loss: 0.0048\n",
      "Epoch 28/200\n",
      "17/17 [==============================] - 0s 27ms/step - loss: 0.0017 - val_loss: 0.0043\n",
      "Epoch 29/200\n",
      "17/17 [==============================] - 0s 27ms/step - loss: 0.0016 - val_loss: 0.0045\n",
      "Epoch 30/200\n",
      "17/17 [==============================] - 0s 27ms/step - loss: 0.0017 - val_loss: 0.0042\n",
      "Epoch 31/200\n",
      "17/17 [==============================] - 0s 27ms/step - loss: 0.0017 - val_loss: 0.0050\n",
      "Epoch 32/200\n",
      "17/17 [==============================] - 0s 28ms/step - loss: 0.0017 - val_loss: 0.0044\n",
      "Epoch 33/200\n",
      "17/17 [==============================] - 0s 28ms/step - loss: 0.0018 - val_loss: 0.0048\n",
      "Epoch 34/200\n",
      "17/17 [==============================] - 0s 27ms/step - loss: 0.0019 - val_loss: 0.0057\n",
      "Epoch 35/200\n",
      "17/17 [==============================] - 0s 27ms/step - loss: 0.0020 - val_loss: 0.0051\n",
      "Epoch 36/200\n",
      "17/17 [==============================] - 0s 28ms/step - loss: 0.0019 - val_loss: 0.0045\n",
      "Epoch 37/200\n",
      "17/17 [==============================] - 0s 27ms/step - loss: 0.0017 - val_loss: 0.0040\n",
      "Epoch 38/200\n",
      "17/17 [==============================] - 0s 27ms/step - loss: 0.0017 - val_loss: 0.0046\n",
      "Epoch 39/200\n",
      "17/17 [==============================] - 0s 27ms/step - loss: 0.0017 - val_loss: 0.0044\n",
      "Epoch 40/200\n",
      "17/17 [==============================] - 0s 28ms/step - loss: 0.0018 - val_loss: 0.0042\n",
      "Epoch 41/200\n",
      "17/17 [==============================] - 0s 28ms/step - loss: 0.0015 - val_loss: 0.0054\n",
      "Epoch 42/200\n",
      "17/17 [==============================] - 0s 28ms/step - loss: 0.0017 - val_loss: 0.0041\n",
      "Epoch 43/200\n",
      "17/17 [==============================] - 0s 27ms/step - loss: 0.0015 - val_loss: 0.0056\n",
      "Epoch 44/200\n",
      "17/17 [==============================] - 0s 27ms/step - loss: 0.0016 - val_loss: 0.0040\n",
      "Epoch 45/200\n",
      "17/17 [==============================] - 0s 28ms/step - loss: 0.0015 - val_loss: 0.0041\n",
      "Epoch 46/200\n",
      "17/17 [==============================] - 0s 28ms/step - loss: 0.0015 - val_loss: 0.0047\n",
      "Epoch 47/200\n",
      "17/17 [==============================] - 0s 28ms/step - loss: 0.0017 - val_loss: 0.0052\n",
      "Epoch 48/200\n",
      "17/17 [==============================] - 0s 27ms/step - loss: 0.0017 - val_loss: 0.0041\n",
      "Epoch 49/200\n",
      "17/17 [==============================] - 0s 28ms/step - loss: 0.0016 - val_loss: 0.0043\n",
      "Epoch 50/200\n",
      "17/17 [==============================] - 0s 27ms/step - loss: 0.0015 - val_loss: 0.0044\n",
      "Epoch 51/200\n",
      "17/17 [==============================] - 0s 27ms/step - loss: 0.0015 - val_loss: 0.0043\n",
      "Epoch 52/200\n",
      "17/17 [==============================] - 0s 27ms/step - loss: 0.0018 - val_loss: 0.0048\n",
      "Epoch 53/200\n",
      "17/17 [==============================] - 0s 27ms/step - loss: 0.0017 - val_loss: 0.0047\n",
      "Epoch 54/200\n",
      "17/17 [==============================] - 0s 27ms/step - loss: 0.0016 - val_loss: 0.0044\n",
      "Epoch 55/200\n",
      "17/17 [==============================] - 0s 27ms/step - loss: 0.0016 - val_loss: 0.0067\n",
      "Epoch 56/200\n",
      "17/17 [==============================] - 0s 29ms/step - loss: 0.0020 - val_loss: 0.0039\n",
      "Epoch 57/200\n",
      "17/17 [==============================] - 0s 28ms/step - loss: 0.0017 - val_loss: 0.0042\n",
      "Epoch 58/200\n",
      "17/17 [==============================] - 0s 28ms/step - loss: 0.0016 - val_loss: 0.0041\n",
      "Epoch 59/200\n",
      "17/17 [==============================] - 0s 27ms/step - loss: 0.0015 - val_loss: 0.0042\n",
      "Epoch 60/200\n",
      "17/17 [==============================] - 0s 27ms/step - loss: 0.0014 - val_loss: 0.0038\n",
      "Epoch 61/200\n",
      "17/17 [==============================] - 0s 28ms/step - loss: 0.0016 - val_loss: 0.0040\n",
      "Epoch 62/200\n",
      "17/17 [==============================] - 0s 28ms/step - loss: 0.0015 - val_loss: 0.0043\n",
      "Epoch 63/200\n",
      "17/17 [==============================] - 0s 28ms/step - loss: 0.0016 - val_loss: 0.0043\n",
      "Epoch 64/200\n",
      "17/17 [==============================] - 0s 27ms/step - loss: 0.0016 - val_loss: 0.0045\n",
      "Epoch 65/200\n",
      "17/17 [==============================] - 0s 28ms/step - loss: 0.0014 - val_loss: 0.0039\n",
      "Epoch 66/200\n",
      "17/17 [==============================] - 0s 28ms/step - loss: 0.0013 - val_loss: 0.0041\n",
      "Epoch 67/200\n",
      "17/17 [==============================] - 0s 27ms/step - loss: 0.0013 - val_loss: 0.0049\n",
      "Epoch 68/200\n",
      "17/17 [==============================] - 0s 27ms/step - loss: 0.0014 - val_loss: 0.0038\n",
      "Epoch 69/200\n",
      "17/17 [==============================] - 0s 27ms/step - loss: 0.0013 - val_loss: 0.0041\n",
      "Epoch 70/200\n",
      "17/17 [==============================] - 0s 28ms/step - loss: 0.0014 - val_loss: 0.0042\n",
      "Epoch 71/200\n",
      "17/17 [==============================] - 0s 27ms/step - loss: 0.0013 - val_loss: 0.0040\n",
      "Epoch 72/200\n",
      "17/17 [==============================] - 0s 27ms/step - loss: 0.0014 - val_loss: 0.0040\n",
      "Epoch 73/200\n",
      "17/17 [==============================] - 0s 27ms/step - loss: 0.0014 - val_loss: 0.0042\n",
      "Epoch 74/200\n",
      "17/17 [==============================] - 0s 27ms/step - loss: 0.0018 - val_loss: 0.0047\n",
      "Epoch 75/200\n",
      "17/17 [==============================] - 0s 28ms/step - loss: 0.0016 - val_loss: 0.0040\n",
      "Epoch 76/200\n",
      "17/17 [==============================] - 0s 28ms/step - loss: 0.0014 - val_loss: 0.0044\n",
      "Epoch 77/200\n",
      "17/17 [==============================] - 0s 27ms/step - loss: 0.0016 - val_loss: 0.0040\n",
      "Epoch 78/200\n",
      "17/17 [==============================] - 0s 27ms/step - loss: 0.0012 - val_loss: 0.0040\n",
      "Epoch 79/200\n",
      "17/17 [==============================] - 0s 27ms/step - loss: 0.0013 - val_loss: 0.0040\n",
      "Epoch 80/200\n",
      "17/17 [==============================] - 0s 27ms/step - loss: 0.0014 - val_loss: 0.0046\n",
      "Epoch 81/200\n",
      "17/17 [==============================] - 0s 27ms/step - loss: 0.0013 - val_loss: 0.0039\n",
      "Epoch 82/200\n"
     ]
    },
    {
     "name": "stdout",
     "output_type": "stream",
     "text": [
      "17/17 [==============================] - 0s 27ms/step - loss: 0.0013 - val_loss: 0.0037\n",
      "Epoch 83/200\n",
      "17/17 [==============================] - 0s 27ms/step - loss: 0.0014 - val_loss: 0.0048\n",
      "Epoch 84/200\n",
      "17/17 [==============================] - 0s 27ms/step - loss: 0.0021 - val_loss: 0.0042\n",
      "Epoch 85/200\n",
      "17/17 [==============================] - 0s 27ms/step - loss: 0.0014 - val_loss: 0.0039\n",
      "Epoch 86/200\n",
      "17/17 [==============================] - 0s 27ms/step - loss: 0.0014 - val_loss: 0.0036\n",
      "Epoch 87/200\n",
      "17/17 [==============================] - 0s 27ms/step - loss: 0.0015 - val_loss: 0.0040\n",
      "Epoch 88/200\n",
      "17/17 [==============================] - 0s 27ms/step - loss: 0.0015 - val_loss: 0.0042\n",
      "Epoch 89/200\n",
      "17/17 [==============================] - 0s 27ms/step - loss: 0.0014 - val_loss: 0.0040\n",
      "Epoch 90/200\n",
      "17/17 [==============================] - 0s 27ms/step - loss: 0.0013 - val_loss: 0.0036\n",
      "Epoch 91/200\n",
      "17/17 [==============================] - 0s 27ms/step - loss: 0.0012 - val_loss: 0.0051\n",
      "Epoch 92/200\n",
      "17/17 [==============================] - 0s 27ms/step - loss: 0.0014 - val_loss: 0.0045\n",
      "Epoch 93/200\n",
      "17/17 [==============================] - 0s 27ms/step - loss: 0.0012 - val_loss: 0.0037\n",
      "Epoch 94/200\n",
      "17/17 [==============================] - 0s 27ms/step - loss: 0.0012 - val_loss: 0.0037\n",
      "Epoch 95/200\n",
      "17/17 [==============================] - 0s 27ms/step - loss: 0.0012 - val_loss: 0.0039\n",
      "Epoch 96/200\n",
      "17/17 [==============================] - 0s 27ms/step - loss: 0.0012 - val_loss: 0.0050\n",
      "Epoch 97/200\n",
      "17/17 [==============================] - 0s 27ms/step - loss: 0.0012 - val_loss: 0.0036\n",
      "Epoch 98/200\n",
      "17/17 [==============================] - 0s 27ms/step - loss: 0.0012 - val_loss: 0.0051\n",
      "Epoch 99/200\n",
      "17/17 [==============================] - 0s 27ms/step - loss: 0.0012 - val_loss: 0.0036\n",
      "Epoch 100/200\n",
      "17/17 [==============================] - 0s 27ms/step - loss: 0.0013 - val_loss: 0.0041\n",
      "Epoch 101/200\n",
      "17/17 [==============================] - 0s 27ms/step - loss: 0.0014 - val_loss: 0.0043\n",
      "Epoch 102/200\n",
      "17/17 [==============================] - 0s 27ms/step - loss: 0.0014 - val_loss: 0.0040\n",
      "Epoch 103/200\n",
      "17/17 [==============================] - 0s 27ms/step - loss: 0.0013 - val_loss: 0.0038\n",
      "Epoch 104/200\n",
      "17/17 [==============================] - 0s 27ms/step - loss: 0.0015 - val_loss: 0.0040\n",
      "Epoch 105/200\n",
      "17/17 [==============================] - 0s 27ms/step - loss: 0.0012 - val_loss: 0.0037\n",
      "Epoch 106/200\n",
      "17/17 [==============================] - 0s 27ms/step - loss: 0.0011 - val_loss: 0.0043\n",
      "Epoch 107/200\n",
      "17/17 [==============================] - 0s 27ms/step - loss: 0.0011 - val_loss: 0.0036\n",
      "Epoch 108/200\n",
      "17/17 [==============================] - 0s 27ms/step - loss: 0.0011 - val_loss: 0.0036\n",
      "Epoch 109/200\n",
      "17/17 [==============================] - 0s 27ms/step - loss: 0.0011 - val_loss: 0.0037\n",
      "Epoch 110/200\n",
      "17/17 [==============================] - 0s 28ms/step - loss: 0.0011 - val_loss: 0.0041\n",
      "Epoch 111/200\n",
      "17/17 [==============================] - 0s 27ms/step - loss: 0.0012 - val_loss: 0.0036\n",
      "Epoch 112/200\n",
      "17/17 [==============================] - 0s 27ms/step - loss: 0.0011 - val_loss: 0.0040\n",
      "Epoch 113/200\n",
      "17/17 [==============================] - 0s 27ms/step - loss: 0.0011 - val_loss: 0.0039\n",
      "Epoch 114/200\n",
      "17/17 [==============================] - 0s 27ms/step - loss: 0.0013 - val_loss: 0.0040\n",
      "Epoch 115/200\n",
      "17/17 [==============================] - 0s 27ms/step - loss: 0.0012 - val_loss: 0.0042\n",
      "Epoch 116/200\n",
      "17/17 [==============================] - 0s 27ms/step - loss: 0.0012 - val_loss: 0.0046\n",
      "Epoch 117/200\n",
      "17/17 [==============================] - 0s 27ms/step - loss: 0.0012 - val_loss: 0.0037\n",
      "Epoch 118/200\n",
      "17/17 [==============================] - 0s 27ms/step - loss: 0.0012 - val_loss: 0.0039\n",
      "Epoch 119/200\n",
      "17/17 [==============================] - 0s 28ms/step - loss: 0.0011 - val_loss: 0.0035\n",
      "Epoch 120/200\n",
      "17/17 [==============================] - 0s 27ms/step - loss: 0.0011 - val_loss: 0.0036\n",
      "Epoch 121/200\n",
      "17/17 [==============================] - 0s 27ms/step - loss: 0.0011 - val_loss: 0.0039\n",
      "Epoch 122/200\n",
      "17/17 [==============================] - 0s 27ms/step - loss: 0.0011 - val_loss: 0.0043\n",
      "Epoch 123/200\n",
      "17/17 [==============================] - 0s 27ms/step - loss: 0.0012 - val_loss: 0.0037\n",
      "Epoch 124/200\n",
      "17/17 [==============================] - 0s 27ms/step - loss: 9.9647e-04 - val_loss: 0.0035\n",
      "Epoch 125/200\n",
      "17/17 [==============================] - 0s 27ms/step - loss: 0.0010 - val_loss: 0.0039\n",
      "Epoch 126/200\n",
      "17/17 [==============================] - 0s 27ms/step - loss: 0.0010 - val_loss: 0.0039\n",
      "Epoch 127/200\n",
      "17/17 [==============================] - 0s 27ms/step - loss: 0.0010 - val_loss: 0.0043\n",
      "Epoch 128/200\n",
      "17/17 [==============================] - 0s 27ms/step - loss: 0.0011 - val_loss: 0.0039\n",
      "Epoch 129/200\n",
      "17/17 [==============================] - 0s 27ms/step - loss: 0.0010 - val_loss: 0.0039\n",
      "Epoch 130/200\n",
      "17/17 [==============================] - 0s 28ms/step - loss: 0.0010 - val_loss: 0.0037\n",
      "Epoch 131/200\n",
      "17/17 [==============================] - 0s 27ms/step - loss: 9.2263e-04 - val_loss: 0.0039\n",
      "Epoch 132/200\n",
      "17/17 [==============================] - 0s 27ms/step - loss: 0.0011 - val_loss: 0.0037\n",
      "Epoch 133/200\n",
      "17/17 [==============================] - 0s 27ms/step - loss: 8.9908e-04 - val_loss: 0.0039\n",
      "Epoch 134/200\n",
      "17/17 [==============================] - 0s 27ms/step - loss: 9.4771e-04 - val_loss: 0.0039\n",
      "Epoch 135/200\n",
      "17/17 [==============================] - 0s 27ms/step - loss: 9.8951e-04 - val_loss: 0.0039\n",
      "Epoch 136/200\n",
      "17/17 [==============================] - 0s 27ms/step - loss: 9.1406e-04 - val_loss: 0.0039\n",
      "Epoch 137/200\n",
      "17/17 [==============================] - 0s 28ms/step - loss: 9.5711e-04 - val_loss: 0.0038\n",
      "Epoch 138/200\n",
      "17/17 [==============================] - 0s 27ms/step - loss: 9.1270e-04 - val_loss: 0.0038\n",
      "Epoch 139/200\n",
      "17/17 [==============================] - 0s 28ms/step - loss: 0.0011 - val_loss: 0.0041\n",
      "Epoch 140/200\n",
      "17/17 [==============================] - 0s 27ms/step - loss: 0.0010 - val_loss: 0.0038\n",
      "Epoch 141/200\n",
      "17/17 [==============================] - 1s 30ms/step - loss: 0.0011 - val_loss: 0.0036\n",
      "Epoch 142/200\n",
      "17/17 [==============================] - 1s 31ms/step - loss: 9.7267e-04 - val_loss: 0.0036\n",
      "Epoch 143/200\n",
      "17/17 [==============================] - 0s 29ms/step - loss: 9.1410e-04 - val_loss: 0.0039\n",
      "Epoch 144/200\n",
      "17/17 [==============================] - 1s 31ms/step - loss: 9.0320e-04 - val_loss: 0.0036\n",
      "Epoch 145/200\n",
      "17/17 [==============================] - 1s 30ms/step - loss: 8.7403e-04 - val_loss: 0.0037\n",
      "Epoch 146/200\n",
      "17/17 [==============================] - 0s 29ms/step - loss: 8.5886e-04 - val_loss: 0.0039\n",
      "Epoch 147/200\n",
      "17/17 [==============================] - 0s 28ms/step - loss: 8.6198e-04 - val_loss: 0.0037\n",
      "Epoch 148/200\n",
      "17/17 [==============================] - 0s 28ms/step - loss: 8.7389e-04 - val_loss: 0.0036\n",
      "Epoch 149/200\n",
      "17/17 [==============================] - 0s 28ms/step - loss: 0.0011 - val_loss: 0.0040\n",
      "Epoch 150/200\n",
      "17/17 [==============================] - 0s 28ms/step - loss: 9.3350e-04 - val_loss: 0.0037\n",
      "Epoch 151/200\n",
      "17/17 [==============================] - 0s 29ms/step - loss: 9.7665e-04 - val_loss: 0.0040\n",
      "Epoch 152/200\n",
      "17/17 [==============================] - 0s 29ms/step - loss: 9.3916e-04 - val_loss: 0.0041\n",
      "Epoch 153/200\n",
      "17/17 [==============================] - 0s 28ms/step - loss: 8.8395e-04 - val_loss: 0.0037\n",
      "Epoch 154/200\n",
      "17/17 [==============================] - 0s 28ms/step - loss: 8.6146e-04 - val_loss: 0.0036\n",
      "Epoch 155/200\n",
      "17/17 [==============================] - 0s 28ms/step - loss: 8.3519e-04 - val_loss: 0.0044\n",
      "Epoch 156/200\n",
      "17/17 [==============================] - 0s 28ms/step - loss: 9.0489e-04 - val_loss: 0.0036\n",
      "Epoch 157/200\n",
      "17/17 [==============================] - 0s 28ms/step - loss: 9.2143e-04 - val_loss: 0.0035\n",
      "Epoch 158/200\n",
      "17/17 [==============================] - 0s 28ms/step - loss: 8.9605e-04 - val_loss: 0.0040\n",
      "Epoch 159/200\n",
      "17/17 [==============================] - 0s 28ms/step - loss: 9.5807e-04 - val_loss: 0.0037\n",
      "Epoch 160/200\n",
      "17/17 [==============================] - 0s 27ms/step - loss: 9.0017e-04 - val_loss: 0.0033\n",
      "Epoch 161/200\n"
     ]
    },
    {
     "name": "stdout",
     "output_type": "stream",
     "text": [
      "17/17 [==============================] - 0s 28ms/step - loss: 8.2632e-04 - val_loss: 0.0036\n",
      "Epoch 162/200\n",
      "17/17 [==============================] - 0s 28ms/step - loss: 8.2294e-04 - val_loss: 0.0038\n",
      "Epoch 163/200\n",
      "17/17 [==============================] - 0s 28ms/step - loss: 9.4082e-04 - val_loss: 0.0036\n",
      "Epoch 164/200\n",
      "17/17 [==============================] - 0s 29ms/step - loss: 0.0010 - val_loss: 0.0034\n",
      "Epoch 165/200\n",
      "17/17 [==============================] - 0s 29ms/step - loss: 9.4401e-04 - val_loss: 0.0037\n",
      "Epoch 166/200\n",
      "17/17 [==============================] - 0s 28ms/step - loss: 0.0010 - val_loss: 0.0042\n",
      "Epoch 167/200\n",
      "17/17 [==============================] - 0s 28ms/step - loss: 0.0010 - val_loss: 0.0038\n",
      "Epoch 168/200\n",
      "17/17 [==============================] - 0s 28ms/step - loss: 9.2443e-04 - val_loss: 0.0038\n",
      "Epoch 169/200\n",
      "17/17 [==============================] - 0s 27ms/step - loss: 8.9599e-04 - val_loss: 0.0037\n",
      "Epoch 170/200\n",
      "17/17 [==============================] - 0s 28ms/step - loss: 8.3758e-04 - val_loss: 0.0039\n",
      "Epoch 171/200\n",
      "17/17 [==============================] - 0s 29ms/step - loss: 8.5641e-04 - val_loss: 0.0035\n",
      "Epoch 172/200\n",
      "17/17 [==============================] - 0s 28ms/step - loss: 8.2553e-04 - val_loss: 0.0038\n",
      "Epoch 173/200\n",
      "17/17 [==============================] - 0s 28ms/step - loss: 8.6586e-04 - val_loss: 0.0038\n",
      "Epoch 174/200\n",
      "17/17 [==============================] - 0s 28ms/step - loss: 8.7667e-04 - val_loss: 0.0034\n",
      "Epoch 175/200\n",
      "17/17 [==============================] - 0s 28ms/step - loss: 8.1947e-04 - val_loss: 0.0035\n",
      "Epoch 176/200\n",
      "17/17 [==============================] - 0s 28ms/step - loss: 8.7505e-04 - val_loss: 0.0034\n",
      "Epoch 177/200\n",
      "17/17 [==============================] - 0s 28ms/step - loss: 8.5963e-04 - val_loss: 0.0035\n",
      "Epoch 178/200\n",
      "17/17 [==============================] - 0s 29ms/step - loss: 0.0011 - val_loss: 0.0051\n",
      "Epoch 179/200\n",
      "17/17 [==============================] - 0s 29ms/step - loss: 0.0010 - val_loss: 0.0033\n",
      "Epoch 180/200\n",
      "17/17 [==============================] - 0s 28ms/step - loss: 9.2444e-04 - val_loss: 0.0038\n",
      "Epoch 181/200\n",
      "17/17 [==============================] - 0s 27ms/step - loss: 8.5813e-04 - val_loss: 0.0036\n",
      "Epoch 182/200\n",
      "17/17 [==============================] - 0s 28ms/step - loss: 7.9767e-04 - val_loss: 0.0037\n",
      "Epoch 183/200\n",
      "17/17 [==============================] - 0s 27ms/step - loss: 8.4604e-04 - val_loss: 0.0033\n",
      "Epoch 184/200\n",
      "17/17 [==============================] - 0s 27ms/step - loss: 8.2482e-04 - val_loss: 0.0034\n",
      "Epoch 185/200\n",
      "17/17 [==============================] - 0s 28ms/step - loss: 8.1911e-04 - val_loss: 0.0036\n",
      "Epoch 186/200\n",
      "17/17 [==============================] - 0s 28ms/step - loss: 8.4353e-04 - val_loss: 0.0036\n",
      "Epoch 187/200\n",
      "17/17 [==============================] - 0s 28ms/step - loss: 8.2626e-04 - val_loss: 0.0042\n",
      "Epoch 188/200\n",
      "17/17 [==============================] - 0s 28ms/step - loss: 8.9854e-04 - val_loss: 0.0032\n",
      "Epoch 189/200\n",
      "17/17 [==============================] - 0s 28ms/step - loss: 8.5210e-04 - val_loss: 0.0033\n",
      "Epoch 190/200\n",
      "17/17 [==============================] - 0s 28ms/step - loss: 8.4660e-04 - val_loss: 0.0036\n",
      "Epoch 191/200\n",
      "17/17 [==============================] - 0s 28ms/step - loss: 8.1465e-04 - val_loss: 0.0034\n",
      "Epoch 192/200\n",
      "17/17 [==============================] - 1s 30ms/step - loss: 7.2520e-04 - val_loss: 0.0033\n",
      "Epoch 193/200\n",
      "17/17 [==============================] - 1s 31ms/step - loss: 7.2536e-04 - val_loss: 0.0034\n",
      "Epoch 194/200\n",
      "17/17 [==============================] - 1s 31ms/step - loss: 7.7587e-04 - val_loss: 0.0037\n",
      "Epoch 195/200\n",
      "17/17 [==============================] - 1s 30ms/step - loss: 8.9254e-04 - val_loss: 0.0033\n",
      "Epoch 196/200\n",
      "17/17 [==============================] - 1s 30ms/step - loss: 8.7466e-04 - val_loss: 0.0037\n",
      "Epoch 197/200\n",
      "17/17 [==============================] - 0s 29ms/step - loss: 7.7340e-04 - val_loss: 0.0032\n",
      "Epoch 198/200\n",
      "17/17 [==============================] - 0s 29ms/step - loss: 7.7366e-04 - val_loss: 0.0030\n",
      "Epoch 199/200\n",
      "17/17 [==============================] - 0s 29ms/step - loss: 7.3996e-04 - val_loss: 0.0033\n",
      "Epoch 200/200\n",
      "17/17 [==============================] - 0s 28ms/step - loss: 8.2971e-04 - val_loss: 0.0036\n"
     ]
    },
    {
     "data": {
      "text/plain": [
       "<keras.callbacks.History at 0x23baffcfb08>"
      ]
     },
     "execution_count": 27,
     "metadata": {},
     "output_type": "execute_result"
    }
   ],
   "source": [
    "model.fit(X_train, Y_train, validation_data=(X_test, Y_test), epochs=200, batch_size=32, verbose=1)"
   ]
  },
  {
   "cell_type": "code",
   "execution_count": 28,
   "id": "70978904",
   "metadata": {},
   "outputs": [
    {
     "data": {
      "text/plain": [
       "[<matplotlib.lines.Line2D at 0x23bb7793ec8>]"
      ]
     },
     "execution_count": 28,
     "metadata": {},
     "output_type": "execute_result"
    },
    {
     "data": {
      "image/png": "[encoded data removed]",
      "text/plain": [
       "<Figure size 432x288 with 1 Axes>"
      ]
     },
     "metadata": {
      "needs_background": "light"
     },
     "output_type": "display_data"
    }
   ],
   "source": [
    "loss_per_epoch = model.history.history['loss']\n",
    "plt.plot(range(len(loss_per_epoch)), loss_per_epoch)"
   ]
  },
  {
   "cell_type": "code",
   "execution_count": 29,
   "id": "aedaea4a",
   "metadata": {},
   "outputs": [],
   "source": [
    "train_predict=model.predict(X_train)\n",
    "test_predict=model.predict(X_test)"
   ]
  },
  {
   "cell_type": "code",
   "execution_count": 30,
   "id": "891264b3",
   "metadata": {},
   "outputs": [],
   "source": [
    "# Transform back to original value\n",
    "train_predict=scaler.inverse_transform(train_predict)\n",
    "test_predict=scaler.inverse_transform(test_predict)"
   ]
  },
  {
   "cell_type": "code",
   "execution_count": 31,
   "id": "066295da",
   "metadata": {},
   "outputs": [
    {
     "data": {
      "text/plain": [
       "3180.867806118324"
      ]
     },
     "execution_count": 31,
     "metadata": {},
     "output_type": "execute_result"
    }
   ],
   "source": [
    "# Calculate RMSE performance metrics\n",
    "import math\n",
    "from sklearn.metrics import mean_squared_error\n",
    "math.sqrt(mean_squared_error(Y_train, train_predict))"
   ]
  },
  {
   "cell_type": "code",
   "execution_count": 32,
   "id": "c294771f",
   "metadata": {},
   "outputs": [
    {
     "data": {
      "text/plain": [
       "4599.251895689124"
      ]
     },
     "execution_count": 32,
     "metadata": {},
     "output_type": "execute_result"
    }
   ],
   "source": [
    "math.sqrt(mean_squared_error(Y_test, test_predict))"
   ]
  },
  {
   "cell_type": "code",
   "execution_count": 33,
   "id": "f604fd1e",
   "metadata": {},
   "outputs": [
    {
     "data": {
      "text/plain": [
       "array([[  166.30914],\n",
       "       [  169.7992 ],\n",
       "       [  161.09691],\n",
       "       [  170.41759],\n",
       "       [  165.1928 ],\n",
       "       [  178.13573],\n",
       "       [  175.71608],\n",
       "       [  166.21664],\n",
       "       [  164.71202],\n",
       "       [  163.54337],\n",
       "       [  170.45923],\n",
       "       [  161.13959],\n",
       "       [  161.65608],\n",
       "       [  185.36792],\n",
       "       [  181.17671],\n",
       "       [  165.78732],\n",
       "       [  166.54855],\n",
       "       [  177.90154],\n",
       "       [  172.10895],\n",
       "       [  172.7734 ],\n",
       "       [  168.70511],\n",
       "       [  160.71867],\n",
       "       [  163.90436],\n",
       "       [  164.40761],\n",
       "       [  163.67503],\n",
       "       [  155.13736],\n",
       "       [  156.93167],\n",
       "       [  165.97105],\n",
       "       [  167.18248],\n",
       "       [  172.0649 ],\n",
       "       [  166.99397],\n",
       "       [  165.07066],\n",
       "       [  177.25748],\n",
       "       [  159.44527],\n",
       "       [  163.82791],\n",
       "       [  173.47331],\n",
       "       [  167.65248],\n",
       "       [  173.84113],\n",
       "       [  185.36119],\n",
       "       [  164.45065],\n",
       "       [  198.8653 ],\n",
       "       [  192.44801],\n",
       "       [  185.24913],\n",
       "       [  181.1012 ],\n",
       "       [  195.74554],\n",
       "       [  202.88664],\n",
       "       [  205.89392],\n",
       "       [  186.01414],\n",
       "       [  178.18152],\n",
       "       [  186.60063],\n",
       "       [  181.23987],\n",
       "       [  198.15744],\n",
       "       [  195.94223],\n",
       "       [  193.59601],\n",
       "       [  205.17198],\n",
       "       [  207.30893],\n",
       "       [  212.73474],\n",
       "       [  215.73103],\n",
       "       [  213.68794],\n",
       "       [  198.86784],\n",
       "       [  197.34029],\n",
       "       [  219.81122],\n",
       "       [  238.31232],\n",
       "       [  235.669  ],\n",
       "       [  212.10193],\n",
       "       [  223.64774],\n",
       "       [  243.20578],\n",
       "       [  242.54445],\n",
       "       [  237.94533],\n",
       "       [  299.31528],\n",
       "       [  295.0234 ],\n",
       "       [  283.7041 ],\n",
       "       [  336.7315 ],\n",
       "       [  369.15225],\n",
       "       [  339.9204 ],\n",
       "       [  330.96326],\n",
       "       [  335.3625 ],\n",
       "       [  363.104  ],\n",
       "       [  352.66318],\n",
       "       [  365.41373],\n",
       "       [  350.33954],\n",
       "       [  361.6705 ],\n",
       "       [  389.78784],\n",
       "       [  390.13412],\n",
       "       [  435.39078],\n",
       "       [  403.85022],\n",
       "       [  427.94763],\n",
       "       [  448.38306],\n",
       "       [  499.7461 ],\n",
       "       [  467.86148],\n",
       "       [  538.863  ],\n",
       "       [  473.82828],\n",
       "       [  472.0212 ],\n",
       "       [  474.8049 ],\n",
       "       [  497.02435],\n",
       "       [  541.7086 ],\n",
       "       [  515.4115 ],\n",
       "       [  460.33005],\n",
       "       [  505.9476 ],\n",
       "       [  574.1262 ],\n",
       "       [  616.4882 ],\n",
       "       [  541.2618 ],\n",
       "       [  539.9527 ],\n",
       "       [  585.39056],\n",
       "       [  641.18994],\n",
       "       [  679.34283],\n",
       "       [  627.82654],\n",
       "       [  596.6639 ],\n",
       "       [  554.3266 ],\n",
       "       [  571.801  ],\n",
       "       [  592.10974],\n",
       "       [  632.7832 ],\n",
       "       [  664.79626],\n",
       "       [  688.64624],\n",
       "       [  645.6108 ],\n",
       "       [  630.9444 ],\n",
       "       [  644.3431 ],\n",
       "       [  671.91644],\n",
       "       [  735.4203 ],\n",
       "       [  791.42584],\n",
       "       [  864.5227 ],\n",
       "       [  885.64734],\n",
       "       [ 1020.1276 ],\n",
       "       [ 1068.7864 ],\n",
       "       [ 1038.1362 ],\n",
       "       [ 1147.1387 ],\n",
       "       [ 1403.9794 ],\n",
       "       [ 1270.3376 ],\n",
       "       [ 1211.044  ],\n",
       "       [ 1337.1116 ],\n",
       "       [ 1315.5284 ],\n",
       "       [ 1273.0083 ],\n",
       "       [ 1238.5322 ],\n",
       "       [ 1344.7355 ],\n",
       "       [ 1236.0864 ],\n",
       "       [ 1298.8728 ],\n",
       "       [ 1414.6503 ],\n",
       "       [ 1240.4398 ],\n",
       "       [ 1264.2273 ],\n",
       "       [ 1384.0222 ],\n",
       "       [ 1338.5984 ],\n",
       "       [ 1365.327  ],\n",
       "       [ 1248.2095 ],\n",
       "       [ 1264.9784 ],\n",
       "       [ 1376.4369 ],\n",
       "       [ 1361.7169 ],\n",
       "       [ 1307.3972 ],\n",
       "       [ 1260.5496 ],\n",
       "       [ 1307.5681 ],\n",
       "       [ 1394.0469 ],\n",
       "       [ 1359.6339 ],\n",
       "       [ 1211.5603 ],\n",
       "       [ 1296.0353 ],\n",
       "       [ 1298.3683 ],\n",
       "       [ 1337.7755 ],\n",
       "       [ 1317.6199 ],\n",
       "       [ 1330.3428 ],\n",
       "       [ 1399.5244 ],\n",
       "       [ 1276.4359 ],\n",
       "       [ 1282.0823 ],\n",
       "       [ 1347.2302 ],\n",
       "       [ 1357.4635 ],\n",
       "       [ 1253.8501 ],\n",
       "       [ 1319.5795 ],\n",
       "       [ 1382.0146 ],\n",
       "       [ 1302.4084 ],\n",
       "       [ 1218.0162 ],\n",
       "       [ 1226.6202 ],\n",
       "       [ 1278.1876 ],\n",
       "       [ 1287.8868 ],\n",
       "       [ 1238.9161 ],\n",
       "       [ 1178.5927 ],\n",
       "       [ 1107.1034 ],\n",
       "       [ 1075.4482 ],\n",
       "       [ 1073.1014 ],\n",
       "       [ 1074.9836 ],\n",
       "       [ 1069.6871 ],\n",
       "       [ 1112.4199 ],\n",
       "       [ 1013.03046],\n",
       "       [ 1017.2468 ],\n",
       "       [  969.2562 ],\n",
       "       [  968.0951 ],\n",
       "       [  907.478  ],\n",
       "       [  840.5142 ],\n",
       "       [  853.5664 ],\n",
       "       [  796.4673 ],\n",
       "       [  918.6108 ],\n",
       "       [  783.2008 ],\n",
       "       [  777.91785],\n",
       "       [  797.91754],\n",
       "       [  772.4519 ],\n",
       "       [  968.4295 ],\n",
       "       [  907.0615 ],\n",
       "       [  827.7193 ],\n",
       "       [  935.83777],\n",
       "       [  829.78217],\n",
       "       [  898.3207 ],\n",
       "       [ 1023.0967 ],\n",
       "       [ 1170.4698 ],\n",
       "       [ 1153.5344 ],\n",
       "       [ 1063.1166 ],\n",
       "       [ 1087.2095 ],\n",
       "       [ 1219.5007 ],\n",
       "       [ 1332.2909 ],\n",
       "       [ 1405.7389 ],\n",
       "       [ 1600.2062 ],\n",
       "       [ 1511.3295 ],\n",
       "       [ 1312.7875 ],\n",
       "       [ 1300.9784 ],\n",
       "       [ 1477.6471 ],\n",
       "       [ 1472.241  ],\n",
       "       [ 1598.4581 ],\n",
       "       [ 1544.9279 ],\n",
       "       [ 1486.7289 ],\n",
       "       [ 1307.7526 ],\n",
       "       [ 1286.5754 ],\n",
       "       [ 1394.2158 ],\n",
       "       [ 1460.266  ],\n",
       "       [ 1409.804  ],\n",
       "       [ 1464.7404 ],\n",
       "       [ 1397.7192 ],\n",
       "       [ 1382.0242 ],\n",
       "       [ 1267.5039 ],\n",
       "       [ 1306.8948 ],\n",
       "       [ 1383.8656 ],\n",
       "       [ 1469.6469 ],\n",
       "       [ 1377.0118 ],\n",
       "       [ 1426.2676 ],\n",
       "       [ 1471.3865 ],\n",
       "       [ 1268.0165 ],\n",
       "       [ 1244.9448 ],\n",
       "       [ 1517.2007 ],\n",
       "       [ 1610.3408 ],\n",
       "       [ 1834.7142 ],\n",
       "       [ 1748.3766 ],\n",
       "       [ 1664.397  ],\n",
       "       [ 1618.0732 ],\n",
       "       [ 1965.2788 ],\n",
       "       [ 2076.876  ],\n",
       "       [ 2160.8433 ],\n",
       "       [ 2129.5444 ],\n",
       "       [ 2088.1753 ],\n",
       "       [ 1986.6548 ],\n",
       "       [ 2250.1777 ],\n",
       "       [ 2387.4143 ],\n",
       "       [ 2385.6472 ],\n",
       "       [ 2274.0967 ],\n",
       "       [ 2136.3865 ],\n",
       "       [ 1967.255  ],\n",
       "       [ 2020.2322 ],\n",
       "       [ 2067.2332 ],\n",
       "       [ 2386.081  ],\n",
       "       [ 2439.3928 ],\n",
       "       [ 2740.3857 ],\n",
       "       [ 2674.4402 ],\n",
       "       [ 2674.9526 ],\n",
       "       [ 2691.2004 ],\n",
       "       [ 2987.1423 ],\n",
       "       [ 3670.603  ],\n",
       "       [ 3665.95   ],\n",
       "       [ 3162.7239 ],\n",
       "       [ 3569.8499 ],\n",
       "       [ 3633.664  ],\n",
       "       [ 3105.9463 ],\n",
       "       [ 3214.3098 ],\n",
       "       [ 4089.2383 ],\n",
       "       [ 3866.9338 ],\n",
       "       [ 4032.2004 ],\n",
       "       [ 3539.229  ],\n",
       "       [ 3521.376  ],\n",
       "       [ 3088.5034 ],\n",
       "       [ 3180.668  ],\n",
       "       [ 3110.7314 ],\n",
       "       [ 3470.0251 ],\n",
       "       [ 3659.2349 ],\n",
       "       [ 3355.8694 ],\n",
       "       [ 2888.9983 ],\n",
       "       [ 2922.6785 ],\n",
       "       [ 3245.82   ],\n",
       "       [ 3866.7188 ],\n",
       "       [ 4166.965  ],\n",
       "       [ 3972.8044 ],\n",
       "       [ 3235.9387 ],\n",
       "       [ 3969.7568 ],\n",
       "       [ 3373.4138 ],\n",
       "       [ 3379.516  ],\n",
       "       [ 3459.9126 ],\n",
       "       [ 3248.42   ],\n",
       "       [ 4030.218  ],\n",
       "       [ 3666.1545 ],\n",
       "       [ 3119.564  ],\n",
       "       [ 2560.694  ],\n",
       "       [ 2410.8416 ],\n",
       "       [ 2283.91   ],\n",
       "       [ 1909.6897 ],\n",
       "       [ 2292.221  ],\n",
       "       [ 2649.6272 ],\n",
       "       [ 2347.1108 ],\n",
       "       [ 1875.1545 ],\n",
       "       [ 1183.8965 ],\n",
       "       [ 1475.6715 ],\n",
       "       [ 2046.878  ],\n",
       "       [ 2171.29   ],\n",
       "       [ 2021.1166 ],\n",
       "       [ 1834.4266 ],\n",
       "       [ 1493.0458 ],\n",
       "       [  832.1886 ],\n",
       "       [ 1339.3558 ],\n",
       "       [ 2027.5544 ],\n",
       "       [ 1912.6621 ],\n",
       "       [ 1915.6649 ],\n",
       "       [ 1835.031  ],\n",
       "       [ 1606.2628 ],\n",
       "       [ 1081.6464 ],\n",
       "       [ 1166.7476 ],\n",
       "       [ 1710.8931 ],\n",
       "       [ 2009.7021 ],\n",
       "       [ 1712.3557 ],\n",
       "       [ 1561.5471 ],\n",
       "       [ 1576.0903 ],\n",
       "       [ 1264.8756 ],\n",
       "       [ 1362.2426 ],\n",
       "       [ 1600.8047 ],\n",
       "       [ 1626.3069 ],\n",
       "       [ 1800.4166 ],\n",
       "       [ 1679.4548 ],\n",
       "       [ 1571.8705 ],\n",
       "       [ 1378.8129 ],\n",
       "       [ 1447.6798 ],\n",
       "       [ 1849.442  ],\n",
       "       [ 1750.2548 ],\n",
       "       [ 1552.9805 ],\n",
       "       [ 1425.7804 ],\n",
       "       [ 1204.102  ],\n",
       "       [ 1027.3787 ],\n",
       "       [ 1302.8566 ],\n",
       "       [ 1561.2848 ],\n",
       "       [ 1496.7374 ],\n",
       "       [ 1260.2515 ],\n",
       "       [  953.6192 ],\n",
       "       [  791.99097],\n",
       "       [  828.4    ],\n",
       "       [ 1041.2236 ],\n",
       "       [ 1251.5985 ],\n",
       "       [ 1132.6145 ],\n",
       "       [  959.72626],\n",
       "       [  877.13916],\n",
       "       [  782.4895 ],\n",
       "       [  894.6915 ],\n",
       "       [  944.2529 ],\n",
       "       [ 1250.6802 ],\n",
       "       [ 1142.0259 ],\n",
       "       [ 1037.3647 ],\n",
       "       [  932.2569 ],\n",
       "       [  939.2809 ],\n",
       "       [  844.9661 ],\n",
       "       [  934.0465 ],\n",
       "       [ 1256.3412 ],\n",
       "       [ 1136.5413 ],\n",
       "       [  994.16156],\n",
       "       [  887.1994 ],\n",
       "       [  815.28485],\n",
       "       [  743.71265],\n",
       "       [  873.81354],\n",
       "       [ 1067.2192 ],\n",
       "       [  986.89935],\n",
       "       [  919.469  ],\n",
       "       [  807.12726],\n",
       "       [  735.61646],\n",
       "       [  666.12067],\n",
       "       [  873.1482 ],\n",
       "       [  994.01245],\n",
       "       [  942.05505],\n",
       "       [  837.51685],\n",
       "       [  793.2928 ],\n",
       "       [  734.5272 ],\n",
       "       [  652.4199 ],\n",
       "       [  753.7255 ],\n",
       "       [  853.0047 ],\n",
       "       [  799.7356 ],\n",
       "       [  600.4735 ],\n",
       "       [  489.5067 ],\n",
       "       [  529.42725],\n",
       "       [  474.67596],\n",
       "       [  562.9056 ],\n",
       "       [  698.07336],\n",
       "       [  696.0421 ],\n",
       "       [  721.2657 ],\n",
       "       [  746.0389 ],\n",
       "       [  813.27856],\n",
       "       [  756.46344],\n",
       "       [  861.01135],\n",
       "       [ 1042.5175 ],\n",
       "       [  902.65607],\n",
       "       [  898.2668 ],\n",
       "       [  942.9639 ],\n",
       "       [  803.61316],\n",
       "       [  738.6518 ],\n",
       "       [  834.19586],\n",
       "       [  953.4547 ],\n",
       "       [ 1049.6495 ],\n",
       "       [ 1230.0447 ],\n",
       "       [ 1057.6764 ],\n",
       "       [ 1050.5261 ],\n",
       "       [  912.58234],\n",
       "       [ 1298.1941 ],\n",
       "       [ 1961.0807 ],\n",
       "       [ 2354.4456 ],\n",
       "       [ 2545.8723 ],\n",
       "       [ 2783.663  ],\n",
       "       [ 2920.5078 ],\n",
       "       [ 2467.2014 ],\n",
       "       [ 3058.328  ],\n",
       "       [ 4491.022  ],\n",
       "       [ 5371.6562 ],\n",
       "       [ 5501.513  ],\n",
       "       [ 5651.9204 ],\n",
       "       [ 5329.0967 ],\n",
       "       [ 4850.548  ],\n",
       "       [ 6310.321  ],\n",
       "       [ 8644.098  ],\n",
       "       [ 8944.406  ],\n",
       "       [10396.849  ],\n",
       "       [ 9737.692  ],\n",
       "       [ 8056.5767 ],\n",
       "       [ 9061.513  ],\n",
       "       [10705.883  ],\n",
       "       [10323.192  ],\n",
       "       [11208.72   ],\n",
       "       [12098.116  ],\n",
       "       [12380.041  ],\n",
       "       [11487.347  ],\n",
       "       [10878.179  ],\n",
       "       [13258.503  ],\n",
       "       [15536.693  ],\n",
       "       [15628.637  ],\n",
       "       [15778.297  ],\n",
       "       [15211.549  ],\n",
       "       [14968.704  ],\n",
       "       [14034.22   ],\n",
       "       [15399.778  ],\n",
       "       [14095.165  ],\n",
       "       [12418.402  ],\n",
       "       [ 9913.878  ],\n",
       "       [ 7707.9688 ],\n",
       "       [ 5546.7544 ],\n",
       "       [ 6621.532  ],\n",
       "       [ 7758.448  ],\n",
       "       [ 9331.424  ],\n",
       "       [ 9972.638  ],\n",
       "       [ 8086.369  ],\n",
       "       [ 3868.2864 ],\n",
       "       [ 4425.0854 ],\n",
       "       [ 5295.164  ],\n",
       "       [ 5385.979  ],\n",
       "       [ 4415.1514 ],\n",
       "       [ 3841.7922 ],\n",
       "       [ 3156.032  ],\n",
       "       [ 2358.63   ],\n",
       "       [ 2080.0115 ],\n",
       "       [ 2674.788  ],\n",
       "       [ 3305.1401 ],\n",
       "       [ 2955.1375 ],\n",
       "       [ 2537.8923 ],\n",
       "       [ 2048.9023 ],\n",
       "       [ 1659.0652 ],\n",
       "       [ 1431.6841 ],\n",
       "       [ 1869.5665 ],\n",
       "       [ 2178.5513 ],\n",
       "       [ 1839.3934 ],\n",
       "       [ 1636.1305 ],\n",
       "       [ 1485.716  ],\n",
       "       [ 1245.97   ],\n",
       "       [  955.2289 ],\n",
       "       [ 1028.8141 ],\n",
       "       [ 1265.1497 ],\n",
       "       [ 1189.3704 ],\n",
       "       [ 1146.3762 ],\n",
       "       [  977.3011 ],\n",
       "       [  743.14716],\n",
       "       [  596.7738 ],\n",
       "       [  677.39667],\n",
       "       [  899.8703 ],\n",
       "       [  874.9218 ],\n",
       "       [  788.1812 ],\n",
       "       [  622.53   ],\n",
       "       [  513.5711 ],\n",
       "       [  435.10434],\n",
       "       [  466.09192],\n",
       "       [  608.8885 ],\n",
       "       [  569.19385],\n",
       "       [  484.38043],\n",
       "       [  437.37732],\n",
       "       [  394.55615],\n",
       "       [  356.56573],\n",
       "       [  364.78677],\n",
       "       [  423.42453],\n",
       "       [  382.53824],\n",
       "       [  326.60022],\n",
       "       [  307.05304],\n",
       "       [  317.5062 ],\n",
       "       [  292.8378 ],\n",
       "       [  290.86722],\n",
       "       [  327.7925 ],\n",
       "       [  291.11853],\n",
       "       [  267.27496],\n",
       "       [  248.48956],\n",
       "       [  225.65535],\n",
       "       [  204.86758],\n",
       "       [  209.33263],\n",
       "       [  246.87651],\n",
       "       [  234.87067],\n",
       "       [  218.32274],\n",
       "       [  191.64328],\n",
       "       [  191.66783],\n",
       "       [  183.25938],\n",
       "       [  189.1606 ],\n",
       "       [  215.65785],\n",
       "       [  213.29059],\n",
       "       [  201.28937],\n",
       "       [  191.4648 ],\n",
       "       [  180.08536],\n",
       "       [  186.61606],\n",
       "       [  176.47983],\n",
       "       [  212.61586],\n",
       "       [  210.26482],\n",
       "       [  201.62758],\n",
       "       [  181.38477],\n",
       "       [  185.45648],\n",
       "       [  167.3031 ],\n",
       "       [  188.97517],\n",
       "       [  240.75598],\n",
       "       [  203.13554],\n",
       "       [  185.40012],\n",
       "       [  191.88295],\n",
       "       [  195.64105],\n",
       "       [  195.57613],\n",
       "       [  196.61235],\n",
       "       [  193.2698 ],\n",
       "       [  182.21944],\n",
       "       [  170.15134],\n",
       "       [  170.29268],\n",
       "       [  172.64366]], dtype=float32)"
      ]
     },
     "execution_count": 33,
     "metadata": {},
     "output_type": "execute_result"
    }
   ],
   "source": [
    "train_predict"
   ]
  },
  {
   "cell_type": "code",
   "execution_count": 34,
   "id": "32b7ffe3",
   "metadata": {
    "scrolled": true
   },
   "outputs": [
    {
     "data": {
      "image/png": "[encoded data removed]",
      "text/plain": [
       "<Figure size 432x288 with 1 Axes>"
      ]
     },
     "metadata": {
      "needs_background": "light"
     },
     "output_type": "display_data"
    }
   ],
   "source": [
    "# Plot \n",
    "look_back = 30\n",
    "trainPredictPlot = np.empty_like(df)\n",
    "trainPredictPlot[:, :] = np.nan\n",
    "trainPredictPlot[look_back:len(train_predict)+look_back, :] = train_predict\n",
    "\n",
    "#shift test predict\n",
    "testPredictPlot = np.empty_like(df)\n",
    "testPredictPlot[:, :] = np.nan\n",
    "testPredictPlot[len(train_predict)+(look_back*2)+1:len(df)-1, :] = test_predict\n",
    "\n",
    "#plot baseline\n",
    "plt.plot(scaler.inverse_transform(df))\n",
    "plt.plot(scaler.inverse_transform(trainPredictPlot))\n",
    "plt.plot(scaler.inverse_transform(testPredictPlot))\n",
    "plt.show()"
   ]
  },
  {
   "cell_type": "code",
   "execution_count": 35,
   "id": "7bed18aa",
   "metadata": {},
   "outputs": [
    {
     "data": {
      "image/png": "[encoded data removed]",
      "text/plain": [
       "<Figure size 432x288 with 1 Axes>"
      ]
     },
     "metadata": {
      "needs_background": "light"
     },
     "output_type": "display_data"
    }
   ],
   "source": [
    "#shift test predict\n",
    "testPredictPlot = np.empty_like(df)\n",
    "testPredictPlot[:, :] = np.nan\n",
    "testPredictPlot[len(train_predict)+(look_back*2)+1:len(df)-1, :] = test_predict\n",
    "\n",
    "#plot baseline\n",
    "plt.plot(scaler.inverse_transform(df))\n",
    "plt.plot(scaler.inverse_transform(testPredictPlot))\n",
    "plt.xlim(X_train.shape[0], df.shape[0])\n",
    "plt.show()"
   ]
  },
  {
   "cell_type": "code",
   "execution_count": 36,
   "id": "1355b3d3",
   "metadata": {},
   "outputs": [
    {
     "data": {
      "text/plain": [
       "192"
      ]
     },
     "execution_count": 36,
     "metadata": {},
     "output_type": "execute_result"
    }
   ],
   "source": [
    "len(test_data)"
   ]
  },
  {
   "cell_type": "code",
   "execution_count": 37,
   "id": "0767587c",
   "metadata": {},
   "outputs": [
    {
     "data": {
      "text/plain": [
       "(1, 30)"
      ]
     },
     "execution_count": 37,
     "metadata": {},
     "output_type": "execute_result"
    }
   ],
   "source": [
    "x_input=test_data[162:].reshape(1,-1) #test data - step(30)\n",
    "x_input.shape"
   ]
  },
  {
   "cell_type": "code",
   "execution_count": 38,
   "id": "2f64bd8f",
   "metadata": {},
   "outputs": [],
   "source": [
    "temp_input=list(x_input)\n",
    "temp_input=temp_input[0].tolist()"
   ]
  },
  {
   "cell_type": "code",
   "execution_count": 39,
   "id": "9594be28",
   "metadata": {
    "scrolled": true
   },
   "outputs": [
    {
     "data": {
      "text/plain": [
       "[0.04174308851361275,\n",
       " 0.036556825041770935,\n",
       " 0.027575738728046417,\n",
       " 0.02245272323489189,\n",
       " 0.018847638741135597,\n",
       " 0.021567264571785927,\n",
       " 0.043324265629053116,\n",
       " 0.0036683320067822933,\n",
       " 0.018721144646406174,\n",
       " 0.011321231722831726,\n",
       " 0.01144772581756115,\n",
       " 0.009866548702120781,\n",
       " 0.010435772128403187,\n",
       " 0.013724621385335922,\n",
       " 0.009170830249786377,\n",
       " 0.01271266769617796,\n",
       " 0.009993042796850204,\n",
       " 0.0076528992503881454,\n",
       " 0.005502498243004084,\n",
       " 0.011700714007019997,\n",
       " 0.007336664013564587,\n",
       " 0.006261463277041912,\n",
       " 0.00708367582410574,\n",
       " 0.008664852939546108,\n",
       " 0.0042375558987259865,\n",
       " 0.004680285695940256,\n",
       " 0.0016444247448816895,\n",
       " 0.0030358610674738884,\n",
       " 0.004490544553846121,\n",
       " 0.004743532743304968]"
      ]
     },
     "execution_count": 39,
     "metadata": {},
     "output_type": "execute_result"
    }
   ],
   "source": [
    "temp_input"
   ]
  },
  {
   "cell_type": "code",
   "execution_count": 40,
   "id": "54a16704",
   "metadata": {},
   "outputs": [
    {
     "name": "stdout",
     "output_type": "stream",
     "text": [
      "[0.01016135]\n",
      "31\n",
      "1 day input [0.03655683 0.02757574 0.02245272 0.01884764 0.02156726 0.04332427\n",
      " 0.00366833 0.01872114 0.01132123 0.01144773 0.00986655 0.01043577\n",
      " 0.01372462 0.00917083 0.01271267 0.00999304 0.0076529  0.0055025\n",
      " 0.01170071 0.00733666 0.00626146 0.00708368 0.00866485 0.00423756\n",
      " 0.00468029 0.00164442 0.00303586 0.00449054 0.00474353 0.01016135]\n",
      "1 day output [[0.01075957]]\n",
      "2 day input [0.02757574 0.02245272 0.01884764 0.02156726 0.04332427 0.00366833\n",
      " 0.01872114 0.01132123 0.01144773 0.00986655 0.01043577 0.01372462\n",
      " 0.00917083 0.01271267 0.00999304 0.0076529  0.0055025  0.01170071\n",
      " 0.00733666 0.00626146 0.00708368 0.00866485 0.00423756 0.00468029\n",
      " 0.00164442 0.00303586 0.00449054 0.00474353 0.01016135 0.01075957]\n",
      "2 day output [[0.01074632]]\n",
      "3 day input [0.02245272 0.01884764 0.02156726 0.04332427 0.00366833 0.01872114\n",
      " 0.01132123 0.01144773 0.00986655 0.01043577 0.01372462 0.00917083\n",
      " 0.01271267 0.00999304 0.0076529  0.0055025  0.01170071 0.00733666\n",
      " 0.00626146 0.00708368 0.00866485 0.00423756 0.00468029 0.00164442\n",
      " 0.00303586 0.00449054 0.00474353 0.01016135 0.01075957 0.01074632]\n",
      "3 day output [[0.01075925]]\n",
      "4 day input [0.01884764 0.02156726 0.04332427 0.00366833 0.01872114 0.01132123\n",
      " 0.01144773 0.00986655 0.01043577 0.01372462 0.00917083 0.01271267\n",
      " 0.00999304 0.0076529  0.0055025  0.01170071 0.00733666 0.00626146\n",
      " 0.00708368 0.00866485 0.00423756 0.00468029 0.00164442 0.00303586\n",
      " 0.00449054 0.00474353 0.01016135 0.01075957 0.01074632 0.01075925]\n",
      "4 day output [[0.01128917]]\n",
      "5 day input [0.02156726 0.04332427 0.00366833 0.01872114 0.01132123 0.01144773\n",
      " 0.00986655 0.01043577 0.01372462 0.00917083 0.01271267 0.00999304\n",
      " 0.0076529  0.0055025  0.01170071 0.00733666 0.00626146 0.00708368\n",
      " 0.00866485 0.00423756 0.00468029 0.00164442 0.00303586 0.00449054\n",
      " 0.00474353 0.01016135 0.01075957 0.01074632 0.01075925 0.01128917]\n",
      "5 day output [[0.01241269]]\n",
      "6 day input [0.04332427 0.00366833 0.01872114 0.01132123 0.01144773 0.00986655\n",
      " 0.01043577 0.01372462 0.00917083 0.01271267 0.00999304 0.0076529\n",
      " 0.0055025  0.01170071 0.00733666 0.00626146 0.00708368 0.00866485\n",
      " 0.00423756 0.00468029 0.00164442 0.00303586 0.00449054 0.00474353\n",
      " 0.01016135 0.01075957 0.01074632 0.01075925 0.01128917 0.01241269]\n",
      "6 day output [[0.01375923]]\n",
      "7 day input [0.00366833 0.01872114 0.01132123 0.01144773 0.00986655 0.01043577\n",
      " 0.01372462 0.00917083 0.01271267 0.00999304 0.0076529  0.0055025\n",
      " 0.01170071 0.00733666 0.00626146 0.00708368 0.00866485 0.00423756\n",
      " 0.00468029 0.00164442 0.00303586 0.00449054 0.00474353 0.01016135\n",
      " 0.01075957 0.01074632 0.01075925 0.01128917 0.01241269 0.01375923]\n",
      "7 day output [[0.0148186]]\n",
      "8 day input [0.01872114 0.01132123 0.01144773 0.00986655 0.01043577 0.01372462\n",
      " 0.00917083 0.01271267 0.00999304 0.0076529  0.0055025  0.01170071\n",
      " 0.00733666 0.00626146 0.00708368 0.00866485 0.00423756 0.00468029\n",
      " 0.00164442 0.00303586 0.00449054 0.00474353 0.01016135 0.01075957\n",
      " 0.01074632 0.01075925 0.01128917 0.01241269 0.01375923 0.0148186 ]\n",
      "8 day output [[0.01566107]]\n",
      "9 day input [0.01132123 0.01144773 0.00986655 0.01043577 0.01372462 0.00917083\n",
      " 0.01271267 0.00999304 0.0076529  0.0055025  0.01170071 0.00733666\n",
      " 0.00626146 0.00708368 0.00866485 0.00423756 0.00468029 0.00164442\n",
      " 0.00303586 0.00449054 0.00474353 0.01016135 0.01075957 0.01074632\n",
      " 0.01075925 0.01128917 0.01241269 0.01375923 0.0148186  0.01566107]\n",
      "9 day output [[0.01605789]]\n",
      "10 day input [0.01144773 0.00986655 0.01043577 0.01372462 0.00917083 0.01271267\n",
      " 0.00999304 0.0076529  0.0055025  0.01170071 0.00733666 0.00626146\n",
      " 0.00708368 0.00866485 0.00423756 0.00468029 0.00164442 0.00303586\n",
      " 0.00449054 0.00474353 0.01016135 0.01075957 0.01074632 0.01075925\n",
      " 0.01128917 0.01241269 0.01375923 0.0148186  0.01566107 0.01605789]\n",
      "10 day output [[0.01627427]]\n",
      "11 day input [0.00986655 0.01043577 0.01372462 0.00917083 0.01271267 0.00999304\n",
      " 0.0076529  0.0055025  0.01170071 0.00733666 0.00626146 0.00708368\n",
      " 0.00866485 0.00423756 0.00468029 0.00164442 0.00303586 0.00449054\n",
      " 0.00474353 0.01016135 0.01075957 0.01074632 0.01075925 0.01128917\n",
      " 0.01241269 0.01375923 0.0148186  0.01566107 0.01605789 0.01627427]\n",
      "11 day output [[0.01659585]]\n",
      "12 day input [0.01043577 0.01372462 0.00917083 0.01271267 0.00999304 0.0076529\n",
      " 0.0055025  0.01170071 0.00733666 0.00626146 0.00708368 0.00866485\n",
      " 0.00423756 0.00468029 0.00164442 0.00303586 0.00449054 0.00474353\n",
      " 0.01016135 0.01075957 0.01074632 0.01075925 0.01128917 0.01241269\n",
      " 0.01375923 0.0148186  0.01566107 0.01605789 0.01627427 0.01659585]\n",
      "12 day output [[0.01724807]]\n",
      "13 day input [0.01372462 0.00917083 0.01271267 0.00999304 0.0076529  0.0055025\n",
      " 0.01170071 0.00733666 0.00626146 0.00708368 0.00866485 0.00423756\n",
      " 0.00468029 0.00164442 0.00303586 0.00449054 0.00474353 0.01016135\n",
      " 0.01075957 0.01074632 0.01075925 0.01128917 0.01241269 0.01375923\n",
      " 0.0148186  0.01566107 0.01605789 0.01627427 0.01659585 0.01724807]\n",
      "13 day output [[0.01823343]]\n",
      "14 day input [0.00917083 0.01271267 0.00999304 0.0076529  0.0055025  0.01170071\n",
      " 0.00733666 0.00626146 0.00708368 0.00866485 0.00423756 0.00468029\n",
      " 0.00164442 0.00303586 0.00449054 0.00474353 0.01016135 0.01075957\n",
      " 0.01074632 0.01075925 0.01128917 0.01241269 0.01375923 0.0148186\n",
      " 0.01566107 0.01605789 0.01627427 0.01659585 0.01724807 0.01823343]\n",
      "14 day output [[0.01934144]]\n",
      "15 day input [0.01271267 0.00999304 0.0076529  0.0055025  0.01170071 0.00733666\n",
      " 0.00626146 0.00708368 0.00866485 0.00423756 0.00468029 0.00164442\n",
      " 0.00303586 0.00449054 0.00474353 0.01016135 0.01075957 0.01074632\n",
      " 0.01075925 0.01128917 0.01241269 0.01375923 0.0148186  0.01566107\n",
      " 0.01605789 0.01627427 0.01659585 0.01724807 0.01823343 0.01934144]\n",
      "15 day output [[0.02037008]]\n",
      "16 day input [0.00999304 0.0076529  0.0055025  0.01170071 0.00733666 0.00626146\n",
      " 0.00708368 0.00866485 0.00423756 0.00468029 0.00164442 0.00303586\n",
      " 0.00449054 0.00474353 0.01016135 0.01075957 0.01074632 0.01075925\n",
      " 0.01128917 0.01241269 0.01375923 0.0148186  0.01566107 0.01605789\n",
      " 0.01627427 0.01659585 0.01724807 0.01823343 0.01934144 0.02037008]\n",
      "16 day output [[0.02113795]]\n",
      "17 day input [0.0076529  0.0055025  0.01170071 0.00733666 0.00626146 0.00708368\n",
      " 0.00866485 0.00423756 0.00468029 0.00164442 0.00303586 0.00449054\n",
      " 0.00474353 0.01016135 0.01075957 0.01074632 0.01075925 0.01128917\n",
      " 0.01241269 0.01375923 0.0148186  0.01566107 0.01605789 0.01627427\n",
      " 0.01659585 0.01724807 0.01823343 0.01934144 0.02037008 0.02113795]\n",
      "17 day output [[0.02169186]]\n",
      "18 day input [0.0055025  0.01170071 0.00733666 0.00626146 0.00708368 0.00866485\n",
      " 0.00423756 0.00468029 0.00164442 0.00303586 0.00449054 0.00474353\n",
      " 0.01016135 0.01075957 0.01074632 0.01075925 0.01128917 0.01241269\n",
      " 0.01375923 0.0148186  0.01566107 0.01605789 0.01627427 0.01659585\n",
      " 0.01724807 0.01823343 0.01934144 0.02037008 0.02113795 0.02169186]\n",
      "18 day output [[0.02219275]]\n",
      "19 day input [0.01170071 0.00733666 0.00626146 0.00708368 0.00866485 0.00423756\n",
      " 0.00468029 0.00164442 0.00303586 0.00449054 0.00474353 0.01016135\n",
      " 0.01075957 0.01074632 0.01075925 0.01128917 0.01241269 0.01375923\n",
      " 0.0148186  0.01566107 0.01605789 0.01627427 0.01659585 0.01724807\n",
      " 0.01823343 0.01934144 0.02037008 0.02113795 0.02169186 0.02219275]\n",
      "19 day output [[0.02284412]]\n",
      "20 day input [0.00733666 0.00626146 0.00708368 0.00866485 0.00423756 0.00468029\n",
      " 0.00164442 0.00303586 0.00449054 0.00474353 0.01016135 0.01075957\n",
      " 0.01074632 0.01075925 0.01128917 0.01241269 0.01375923 0.0148186\n",
      " 0.01566107 0.01605789 0.01627427 0.01659585 0.01724807 0.01823343\n",
      " 0.01934144 0.02037008 0.02113795 0.02169186 0.02219275 0.02284412]\n",
      "20 day output [[0.02371363]]\n",
      "21 day input [0.00626146 0.00708368 0.00866485 0.00423756 0.00468029 0.00164442\n",
      " 0.00303586 0.00449054 0.00474353 0.01016135 0.01075957 0.01074632\n",
      " 0.01075925 0.01128917 0.01241269 0.01375923 0.0148186  0.01566107\n",
      " 0.01605789 0.01627427 0.01659585 0.01724807 0.01823343 0.01934144\n",
      " 0.02037008 0.02113795 0.02169186 0.02219275 0.02284412 0.02371363]\n",
      "21 day output [[0.02479591]]\n",
      "22 day input [0.00708368 0.00866485 0.00423756 0.00468029 0.00164442 0.00303586\n",
      " 0.00449054 0.00474353 0.01016135 0.01075957 0.01074632 0.01075925\n",
      " 0.01128917 0.01241269 0.01375923 0.0148186  0.01566107 0.01605789\n",
      " 0.01627427 0.01659585 0.01724807 0.01823343 0.01934144 0.02037008\n",
      " 0.02113795 0.02169186 0.02219275 0.02284412 0.02371363 0.02479591]\n",
      "22 day output [[0.02592821]]\n",
      "23 day input [0.00866485 0.00423756 0.00468029 0.00164442 0.00303586 0.00449054\n",
      " 0.00474353 0.01016135 0.01075957 0.01074632 0.01075925 0.01128917\n",
      " 0.01241269 0.01375923 0.0148186  0.01566107 0.01605789 0.01627427\n",
      " 0.01659585 0.01724807 0.01823343 0.01934144 0.02037008 0.02113795\n",
      " 0.02169186 0.02219275 0.02284412 0.02371363 0.02479591 0.02592821]\n"
     ]
    },
    {
     "name": "stdout",
     "output_type": "stream",
     "text": [
      "23 day output [[0.0269407]]\n",
      "24 day input [0.00423756 0.00468029 0.00164442 0.00303586 0.00449054 0.00474353\n",
      " 0.01016135 0.01075957 0.01074632 0.01075925 0.01128917 0.01241269\n",
      " 0.01375923 0.0148186  0.01566107 0.01605789 0.01627427 0.01659585\n",
      " 0.01724807 0.01823343 0.01934144 0.02037008 0.02113795 0.02169186\n",
      " 0.02219275 0.02284412 0.02371363 0.02479591 0.02592821 0.0269407 ]\n",
      "24 day output [[0.02775649]]\n",
      "25 day input [0.00468029 0.00164442 0.00303586 0.00449054 0.00474353 0.01016135\n",
      " 0.01075957 0.01074632 0.01075925 0.01128917 0.01241269 0.01375923\n",
      " 0.0148186  0.01566107 0.01605789 0.01627427 0.01659585 0.01724807\n",
      " 0.01823343 0.01934144 0.02037008 0.02113795 0.02169186 0.02219275\n",
      " 0.02284412 0.02371363 0.02479591 0.02592821 0.0269407  0.02775649]\n",
      "25 day output [[0.02845253]]\n",
      "26 day input [0.00164442 0.00303586 0.00449054 0.00474353 0.01016135 0.01075957\n",
      " 0.01074632 0.01075925 0.01128917 0.01241269 0.01375923 0.0148186\n",
      " 0.01566107 0.01605789 0.01627427 0.01659585 0.01724807 0.01823343\n",
      " 0.01934144 0.02037008 0.02113795 0.02169186 0.02219275 0.02284412\n",
      " 0.02371363 0.02479591 0.02592821 0.0269407  0.02775649 0.02845253]\n",
      "26 day output [[0.02915777]]\n",
      "27 day input [0.00303586 0.00449054 0.00474353 0.01016135 0.01075957 0.01074632\n",
      " 0.01075925 0.01128917 0.01241269 0.01375923 0.0148186  0.01566107\n",
      " 0.01605789 0.01627427 0.01659585 0.01724807 0.01823343 0.01934144\n",
      " 0.02037008 0.02113795 0.02169186 0.02219275 0.02284412 0.02371363\n",
      " 0.02479591 0.02592821 0.0269407  0.02775649 0.02845253 0.02915777]\n",
      "27 day output [[0.03000574]]\n",
      "28 day input [0.00449054 0.00474353 0.01016135 0.01075957 0.01074632 0.01075925\n",
      " 0.01128917 0.01241269 0.01375923 0.0148186  0.01566107 0.01605789\n",
      " 0.01627427 0.01659585 0.01724807 0.01823343 0.01934144 0.02037008\n",
      " 0.02113795 0.02169186 0.02219275 0.02284412 0.02371363 0.02479591\n",
      " 0.02592821 0.0269407  0.02775649 0.02845253 0.02915777 0.03000574]\n",
      "28 day output [[0.03102752]]\n",
      "29 day input [0.00474353 0.01016135 0.01075957 0.01074632 0.01075925 0.01128917\n",
      " 0.01241269 0.01375923 0.0148186  0.01566107 0.01605789 0.01627427\n",
      " 0.01659585 0.01724807 0.01823343 0.01934144 0.02037008 0.02113795\n",
      " 0.02169186 0.02219275 0.02284412 0.02371363 0.02479591 0.02592821\n",
      " 0.0269407  0.02775649 0.02845253 0.02915777 0.03000574 0.03102752]\n",
      "29 day output [[0.03215089]]\n",
      "[[0.01016134675592184], [0.010759572498500347], [0.010746321640908718], [0.01075925212353468], [0.011289168149232864], [0.012412689626216888], [0.013759230263531208], [0.01481859665364027], [0.015661071985960007], [0.01605789177119732], [0.01627427153289318], [0.016595853492617607], [0.017248068004846573], [0.01823343336582184], [0.019341442734003067], [0.020370082929730415], [0.021137945353984833], [0.021691862493753433], [0.022192751988768578], [0.022844120860099792], [0.02371363341808319], [0.024795912206172943], [0.025928210467100143], [0.02694070339202881], [0.02775648608803749], [0.028452526777982712], [0.029157768934965134], [0.030005738139152527], [0.031027518212795258], [0.032150886952877045]]\n"
     ]
    }
   ],
   "source": [
    "# prediction for next 30 days\n",
    "from numpy import array\n",
    "\n",
    "lst_output=[]\n",
    "n_steps=30\n",
    "i=0\n",
    "while(i<30): #30 hari\n",
    "    \n",
    "    if(len(temp_input)>30):\n",
    "        #print(temp_input)\n",
    "        x_input=np.array(temp_input[1:])\n",
    "        print(\"{} day input {}\".format(i,x_input))\n",
    "        x_input=x_input.reshape(1,-1)\n",
    "        x_input = x_input.reshape((1, n_steps, 1))\n",
    "        #print(x_input)\n",
    "        yhat = model.predict(x_input, verbose=0)\n",
    "        print(\"{} day output {}\".format(i,yhat))\n",
    "        temp_input.extend(yhat[0].tolist())\n",
    "        temp_input=temp_input[1:]\n",
    "        #print(temp_input)\n",
    "        lst_output.extend(yhat.tolist())\n",
    "        i=i+1\n",
    "    else:\n",
    "        x_input = x_input.reshape((1, n_steps,1))\n",
    "        yhat = model.predict(x_input, verbose=0)\n",
    "        print(yhat[0])\n",
    "        temp_input.extend(yhat[0].tolist())\n",
    "        print(len(temp_input))\n",
    "        lst_output.extend(yhat.tolist())\n",
    "        i=i+1\n",
    "    \n",
    "\n",
    "print(lst_output)"
   ]
  },
  {
   "cell_type": "code",
   "execution_count": 41,
   "id": "447dcca0",
   "metadata": {},
   "outputs": [],
   "source": [
    "day_new=np.arange(1,31) # dari data 30 hari terakhir\n",
    "day_pred=np.arange(31,61) #predict 30 hari kedepan"
   ]
  },
  {
   "cell_type": "code",
   "execution_count": 42,
   "id": "91dd51a7",
   "metadata": {},
   "outputs": [
    {
     "data": {
      "text/plain": [
       "766"
      ]
     },
     "execution_count": 42,
     "metadata": {},
     "output_type": "execute_result"
    }
   ],
   "source": [
    "len(df)"
   ]
  },
  {
   "cell_type": "code",
   "execution_count": 43,
   "id": "86fd0fa7",
   "metadata": {},
   "outputs": [
    {
     "data": {
      "text/plain": [
       "30"
      ]
     },
     "execution_count": 43,
     "metadata": {},
     "output_type": "execute_result"
    }
   ],
   "source": [
    "len(day_pred)"
   ]
  },
  {
   "cell_type": "code",
   "execution_count": 44,
   "id": "e0730cc4",
   "metadata": {
    "scrolled": true
   },
   "outputs": [
    {
     "data": {
      "text/plain": [
       "[<matplotlib.lines.Line2D at 0x23bb7b48d08>]"
      ]
     },
     "execution_count": 44,
     "metadata": {},
     "output_type": "execute_result"
    },
    {
     "data": {
      "image/png": "[encoded data removed]",
      "text/plain": [
       "<Figure size 432x288 with 1 Axes>"
      ]
     },
     "metadata": {
      "needs_background": "light"
     },
     "output_type": "display_data"
    }
   ],
   "source": [
    "plt.plot(day_new,df[736:]) # [total data - prediction(30)] \n",
    "plt.plot(day_pred,scaler.inverse_transform(lst_output))"
   ]
  },
  {
   "cell_type": "code",
   "execution_count": 45,
   "id": "07cc7ca7",
   "metadata": {},
   "outputs": [
    {
     "data": {
      "text/plain": [
       "[<matplotlib.lines.Line2D at 0x23bb7b59f88>]"
      ]
     },
     "execution_count": 45,
     "metadata": {},
     "output_type": "execute_result"
    },
    {
     "data": {
      "image/png": "[encoded data removed]",
      "text/plain": [
       "<Figure size 432x288 with 1 Axes>"
      ]
     },
     "metadata": {
      "needs_background": "light"
     },
     "output_type": "display_data"
    }
   ],
   "source": [
    "df2=df.tolist()\n",
    "df2.extend(scaler.inverse_transform(lst_output))\n",
    "plt.plot(df2)"
   ]
  },
  {
   "cell_type": "code",
   "execution_count": 46,
   "id": "4e90a3ff",
   "metadata": {
    "scrolled": true
   },
   "outputs": [
    {
     "data": {
      "text/plain": [
       "[<matplotlib.lines.Line2D at 0x23bb7b72a08>]"
      ]
     },
     "execution_count": 46,
     "metadata": {},
     "output_type": "execute_result"
    },
    {
     "data": {
      "image/png": "[encoded data removed]",
      "text/plain": [
       "<Figure size 432x288 with 1 Axes>"
      ]
     },
     "metadata": {
      "needs_background": "light"
     },
     "output_type": "display_data"
    }
   ],
   "source": [
    "df2=scaler.inverse_transform(df2).tolist()\n",
    "plt.plot(df2)"
   ]
  },
  {
   "cell_type": "code",
   "execution_count": 55,
   "id": "3cf7831d",
   "metadata": {},
   "outputs": [
    {
     "name": "stdout",
     "output_type": "stream",
     "text": [
      "loss: 0.082573\n"
     ]
    }
   ],
   "source": [
    "# evaluate the model\n",
    "scores = model.evaluate(X_train, Y_train, verbose=0)\n",
    "print(\"%s: %f\" % (model.metrics_names[0], scores*100))"
   ]
  },
  {
   "cell_type": "code",
   "execution_count": 56,
   "id": "d5893b51",
   "metadata": {},
   "outputs": [
    {
     "name": "stdout",
     "output_type": "stream",
     "text": [
      "Saved model to disk\n"
     ]
    }
   ],
   "source": [
    "# save model and architecture to single file\n",
    "model.save(\"lstm_jawa_tengah.h5\")\n",
    "print(\"Saved model to disk\")"
   ]
  },
  {
   "cell_type": "code",
   "execution_count": 57,
   "id": "c97d0b4a",
   "metadata": {},
   "outputs": [
    {
     "name": "stdout",
     "output_type": "stream",
     "text": [
      "Model: \"sequential\"\n",
      "_________________________________________________________________\n",
      " Layer (type)                Output Shape              Param #   \n",
      "=================================================================\n",
      " lstm (LSTM)                 (None, 30, 100)           40800     \n",
      "                                                                 \n",
      " lstm_1 (LSTM)               (None, 100)               80400     \n",
      "                                                                 \n",
      " dense (Dense)               (None, 1)                 101       \n",
      "                                                                 \n",
      "=================================================================\n",
      "Total params: 121,301\n",
      "Trainable params: 121,301\n",
      "Non-trainable params: 0\n",
      "_________________________________________________________________\n"
     ]
    }
   ],
   "source": [
    "from keras.models import load_model\n",
    " \n",
    "# load model\n",
    "model = load_model('lstm_jawa_tengah.h5')\n",
    "# summarize model\n",
    "model.summary()"
   ]
  },
  {
   "cell_type": "code",
   "execution_count": null,
   "id": "46ab4337",
   "metadata": {},
   "outputs": [],
   "source": []
  },
  {
   "cell_type": "code",
   "execution_count": null,
   "id": "d183511e",
   "metadata": {},
   "outputs": [],
   "source": []
  }
 ],
 "metadata": {
  "kernelspec": {
   "display_name": "Python 3 (ipykernel)",
   "language": "python",
   "name": "python3"
  },
  "language_info": {
   "codemirror_mode": {
    "name": "ipython",
    "version": 3
   },
   "file_extension": ".py",
   "mimetype": "text/x-python",
   "name": "python",
   "nbconvert_exporter": "python",
   "pygments_lexer": "ipython3",
   "version": "3.7.13"
  }
 },
 "nbformat": 4,
 "nbformat_minor": 5
}
