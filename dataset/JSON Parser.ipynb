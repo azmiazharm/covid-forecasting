{
 "cells": [
  {
   "cell_type": "code",
   "execution_count": 49,
   "id": "4b820e75",
   "metadata": {},
   "outputs": [],
   "source": [
    "import requests\n",
    "import json\n",
    "from datetime import datetime\n",
    "import csv"
   ]
  },
  {
   "cell_type": "code",
   "execution_count": 74,
   "id": "498bf50a",
   "metadata": {},
   "outputs": [],
   "source": [
    "list_daerah={'jakarta': 'DKI_JAKARTA',\n",
    "             'jawa_barat': 'JAWA_BARAT',\n",
    "             'jawa_timur': 'JAWA_TIMUR',\n",
    "             'jawa_tengah': 'JAWA_TENGAH',\n",
    "             'yogyakarta': 'DAERAH_ISTIMEWA_YOGYAKARTA'}\n",
    "\n",
    "base_url = 'https://data.covid19.go.id/public/api/prov_detail_'"
   ]
  },
  {
   "cell_type": "markdown",
   "id": "599fefd9",
   "metadata": {},
   "source": [
    "# Get data from API"
   ]
  },
  {
   "cell_type": "code",
   "execution_count": 75,
   "id": "95fecc4b",
   "metadata": {
    "scrolled": false
   },
   "outputs": [],
   "source": [
    "for daerah in list_daerah:\n",
    "    url = base_url + list_daerah[daerah] + '.json'\n",
    "    data = requests.get(url)\n",
    "    with open('raw_' + daerah + '.json', 'wb') as res:\n",
    "        res.write(data.content)\n",
    "    "
   ]
  },
  {
   "cell_type": "markdown",
   "id": "ad7e35ff",
   "metadata": {},
   "source": [
    "# Make CSV"
   ]
  },
  {
   "cell_type": "code",
   "execution_count": 76,
   "id": "f6c2186e",
   "metadata": {},
   "outputs": [
    {
     "name": "stdout",
     "output_type": "stream",
     "text": [
      "raw_jakarta.json\n",
      "raw_jawa_barat.json\n",
      "raw_jawa_timur.json\n",
      "raw_jawa_tengah.json\n",
      "raw_yogyakarta.json\n"
     ]
    }
   ],
   "source": [
    "for daerah in list_daerah:\n",
    "    print('raw_' + daerah + '.json')"
   ]
  },
  {
   "cell_type": "code",
   "execution_count": 77,
   "id": "9336fea1",
   "metadata": {},
   "outputs": [],
   "source": [
    "for daerah in list_daerah:\n",
    "    with open('raw_' + daerah + '.json', 'r') as json_file:\n",
    "        jsondata = json.load(json_file)\n",
    "    \n",
    "    with open('raw_' + daerah + '.csv', 'w', newline='') as f:\n",
    "        header = ['date', 'daily_case'];\n",
    "    \n",
    "        csv_writer = csv.DictWriter(f, fieldnames=header)\n",
    "        csv_writer.writeheader()\n",
    "    \n",
    "        for data in jsondata['list_perkembangan']:\n",
    "            #format time\n",
    "            tanggal = datetime.fromtimestamp(data['tanggal'] / 1000.0).strftime('%Y-%m-%d')\n",
    "            csv_writer.writerow({'date': tanggal, \"daily_case\": data['KASUS']})"
   ]
  }
 ],
 "metadata": {
  "kernelspec": {
   "display_name": "Python 3 (ipykernel)",
   "language": "python",
   "name": "python3"
  },
  "language_info": {
   "codemirror_mode": {
    "name": "ipython",
    "version": 3
   },
   "file_extension": ".py",
   "mimetype": "text/x-python",
   "name": "python",
   "nbconvert_exporter": "python",
   "pygments_lexer": "ipython3",
   "version": "3.7.13"
  }
 },
 "nbformat": 4,
 "nbformat_minor": 5
}
